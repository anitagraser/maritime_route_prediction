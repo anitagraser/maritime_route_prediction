{
 "cells": [
  {
   "cell_type": "code",
   "execution_count": 29,
   "id": "140b8173-1afb-475b-892b-858c65c47044",
   "metadata": {},
   "outputs": [
    {
     "data": {
      "text/plain": [
       "0.2"
      ]
     },
     "execution_count": 29,
     "metadata": {},
     "output_type": "execute_result"
    }
   ],
   "source": [
    "truth = [1, 2, 3, 4, 5, 6]\n",
    "prediction = [1, 3, 5, 6]\n",
    "\n",
    "truth_pairs = [(truth[j], truth[j+1]) for j in range(0, len(truth)-1)]\n",
    "prediction_pairs = [(prediction[j], prediction[j+1]) for j in range(0, len(prediction)-1)]\n",
    "\n",
    "sum(correct_choice in prediction_pairs for correct_choice in truth_pairs) / len(truth_pairs)"
   ]
  },
  {
   "cell_type": "code",
   "execution_count": null,
   "id": "f6ea158a-a938-4bc7-be12-8a040e625ac1",
   "metadata": {},
   "outputs": [],
   "source": []
  }
 ],
 "metadata": {
  "kernelspec": {
   "display_name": "Python 3 (ipykernel)",
   "language": "python",
   "name": "python3"
  },
  "language_info": {
   "codemirror_mode": {
    "name": "ipython",
    "version": 3
   },
   "file_extension": ".py",
   "mimetype": "text/x-python",
   "name": "python",
   "nbconvert_exporter": "python",
   "pygments_lexer": "ipython3",
   "version": "3.11.4"
  }
 },
 "nbformat": 4,
 "nbformat_minor": 5
}
