{
 "cells": [
  {
   "cell_type": "code",
   "execution_count": 1,
   "id": "50690588-8839-4f94-8177-cf7f2b344086",
   "metadata": {},
   "outputs": [
    {
     "name": "stdout",
     "output_type": "stream",
     "text": [
      "Geopandas has version 0.13.2\n",
      "Movingpandas has version 0.17.1\n"
     ]
    }
   ],
   "source": [
    "import pandas as pd\n",
    "import geopandas as gpd\n",
    "import movingpandas as mpd\n",
    "import numpy as np\n",
    "from datetime import timedelta, datetime\n",
    "import folium\n",
    "import warnings\n",
    "import pickle\n",
    "import sys\n",
    "\n",
    "warnings.filterwarnings('ignore')\n",
    "\n",
    "print(\"Geopandas has version {}\".format(gpd.__version__))\n",
    "print(\"Movingpandas has version {}\".format(mpd.__version__))"
   ]
  },
  {
   "cell_type": "code",
   "execution_count": 2,
   "id": "8edaf266-df12-4b3e-b0f0-6b4190bcdeee",
   "metadata": {},
   "outputs": [],
   "source": [
    "# load data for network creation\n",
    "# read data from file\n",
    "datasize = 'full'\n",
    "location = 'oslo'\n",
    "data_date = '202208'\n",
    "eval_date = '202209'\n",
    "\n",
    "orig_filename = '../data/processed/'+data_date+'_points_'+location+'_cleaned_meta_'+datasize+'_dualSplit_2.parquet'\n",
    "gdf = gpd.read_parquet(orig_filename)\n",
    "# Transform to desired CRS\n",
    "# 4326 for WGS 84 (global) // 32632 for UTM 32N (Norway)\n",
    "crs = 32632  # Coordinate reference system\n",
    "gdf.to_crs(crs, inplace=True)  # Transformation"
   ]
  },
  {
   "cell_type": "code",
   "execution_count": 3,
   "id": "69640b1e-4c5d-4fe6-a1ce-a792387e0003",
   "metadata": {},
   "outputs": [],
   "source": [
    "# load evaluation data\n",
    "eval_file = eval_date+'_points_'+location+'_cleaned_meta_full_dualSplit_2'\n",
    "filename = '../data/processed/' + eval_file + '.parquet'\n",
    "test_gdf = gpd.read_parquet(filename)\n",
    "crs = 32632  # Coordinate reference system\n",
    "test_gdf.to_crs(crs, inplace=True)  # Transformation\n",
    "all_test_trajectories = mpd.TrajectoryCollection(test_gdf, traj_id_col='mmsi', obj_id_col='mmsi')\n",
    "\n",
    "# select evaluation data\n",
    "selection_start = 0\n",
    "selection_end = len(all_test_trajectories)\n",
    "selection_step = 10\n",
    "selection = np.arange(selection_start, selection_end, selection_step)\n",
    "n_trajectories = len(selection)\n",
    "mmsis = test_gdf.mmsi.unique()[selection]\n",
    "test_trajectories = all_test_trajectories.filter('mmsi', mmsis.tolist?"
   ]
  },
  {
   "cell_type": "code",
   "execution_count": 11,
   "id": "140b8173-1afb-475b-892b-858c65c47044",
   "metadata": {},
   "outputs": [],
   "source": [
    "waypoints = [1696, 1766, 1697, 1655, 1841, 1865, 1872, 118, 114, 1862, 1865, 1871, 1872, 1868, 1869, \n",
    " 2034, 2035, 2032, 2022, 2023, 2153, 2151, 2152]"
   ]
  },
  {
   "cell_type": "code",
   "execution_count": 12,
   "id": "6d01d167-71db-4894-8279-5723a0e2fc0c",
   "metadata": {},
   "outputs": [
    {
     "ename": "ValueError",
     "evalue": "1872 is not in list",
     "output_type": "error",
     "traceback": [
      "\u001b[0;31m---------------------------------------------------------------------------\u001b[0m",
      "\u001b[0;31mValueError\u001b[0m                                Traceback (most recent call last)",
      "Cell \u001b[0;32mIn[12], line 10\u001b[0m\n\u001b[1;32m      7\u001b[0m         new_path\u001b[38;5;241m.\u001b[39mappend(waypoint)\n\u001b[1;32m      8\u001b[0m     \u001b[38;5;28;01melse\u001b[39;00m:\n\u001b[1;32m      9\u001b[0m         \u001b[38;5;66;03m# Remove waypoints after the loop point\u001b[39;00m\n\u001b[0;32m---> 10\u001b[0m         new_path \u001b[38;5;241m=\u001b[39m new_path[:new_path\u001b[38;5;241m.\u001b[39mindex(waypoint)\u001b[38;5;241m+\u001b[39m\u001b[38;5;241m1\u001b[39m]\n\u001b[1;32m     12\u001b[0m \u001b[38;5;28mprint\u001b[39m(new_path)\n",
      "\u001b[0;31mValueError\u001b[0m: 1872 is not in list"
     ]
    }
   ],
   "source": [
    "visited = set()\n",
    "new_path = []\n",
    "\n",
    "for waypoint in waypoints:\n",
    "    if waypoint not in visited:\n",
    "        visited.add(waypoint)\n",
    "        new_path.append(waypoint)\n",
    "    else:\n",
    "        # Remove waypoints after the loop point\n",
    "        new_path = new_path[:new_path.index(waypoint)+1]\n",
    "\n",
    "print(new_path)"
   ]
  },
  {
   "cell_type": "code",
   "execution_count": null,
   "id": "75edf10d-008d-4449-a71f-800b82e520ed",
   "metadata": {},
   "outputs": [],
   "source": []
  }
 ],
 "metadata": {
  "kernelspec": {
   "display_name": "Python 3 (ipykernel)",
   "language": "python",
   "name": "python3"
  },
  "language_info": {
   "codemirror_mode": {
    "name": "ipython",
    "version": 3
   },
   "file_extension": ".py",
   "mimetype": "text/x-python",
   "name": "python",
   "nbconvert_exporter": "python",
   "pygments_lexer": "ipython3",
   "version": "3.11.5"
  }
 },
 "nbformat": 4,
 "nbformat_minor": 5
}
