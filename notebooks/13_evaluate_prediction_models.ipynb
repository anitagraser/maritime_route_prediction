{
 "cells": [
  {
   "cell_type": "code",
   "execution_count": 1,
   "id": "53b4270f-95fc-4bed-8d30-6580ba3dd190",
   "metadata": {},
   "outputs": [
    {
     "data": {
      "text/html": [
       "\n",
       "    <script charset=\"utf-8\">\n",
       "    // Load via requireJS if available (jupyter notebook environment)\n",
       "    try {\n",
       "    require.config({\n",
       "    paths: {\n",
       "    d3: \"https://d3js.org/d3.v5.min.js\".replace(\".js\", \"\")\n",
       "    }\n",
       "    });\n",
       "    console.log(\"OKAY: requireJS was detected\");\n",
       "    }\n",
       "    catch(err){\n",
       "    console.log(err);\n",
       "    console.log(\"ERROR: NO requireJS was detected\");\n",
       "    };\n",
       "    require(['d3'], function(d3){\n",
       "    console.log(\"OKAY: d3js was detected\");\n",
       "    });\n",
       "    </script>\n",
       "    "
      ],
      "text/plain": [
       "<IPython.core.display.HTML object>"
      ]
     },
     "metadata": {},
     "output_type": "display_data"
    }
   ],
   "source": [
    "import pathpy as pp\n",
    "import pandas as pd\n",
    "import geopandas as gpd\n",
    "import movingpandas as mpd\n",
    "import numpy as np\n",
    "from datetime import timedelta, datetime\n",
    "from ast import literal_eval\n",
    "import time\n",
    "import warnings\n",
    "import pickle\n",
    "import sys\n",
    "import neptune\n",
    "\n",
    "warnings.filterwarnings('ignore')"
   ]
  },
  {
   "cell_type": "code",
   "execution_count": 2,
   "id": "115dced0-b6e5-41d9-b35c-a69ab7be3f79",
   "metadata": {},
   "outputs": [],
   "source": [
    "# add paths for modules\n",
    "sys.path.append('../src/models')\n",
    "sys.path.append('../src/features')\n",
    "sys.path.append('../src/visualization')\n",
    "\n",
    "from maritime_traffic_network import MaritimeTrafficNetwork\n",
    "from MOGen_path_prediction import MOGenPathPrediction\n",
    "from dijkstra_path_prediction import DijkstraPathPrediction\n",
    "import prediction_model_evaluation_metrics as metrics"
   ]
  },
  {
   "cell_type": "code",
   "execution_count": 3,
   "id": "74cc538d-f911-4dbc-9823-6264406ba753",
   "metadata": {},
   "outputs": [],
   "source": [
    "# Experiment parameters\n",
    "datasize = 'full'\n",
    "location = 'tromso'\n",
    "network_date = '202204'\n",
    "train_dates = ['202204', '202205']\n",
    "test_dates = ['202206']\n",
    "DP_tol = 10\n",
    "min_samples = 13"
   ]
  },
  {
   "cell_type": "code",
   "execution_count": 4,
   "id": "f9ad0701-014f-4b8c-86c7-dade64f4ed2e",
   "metadata": {},
   "outputs": [
    {
     "data": {
      "text/plain": [
       "{'Data': '../../data/processed/202204_points_tromso_cleaned_meta_full_dualSplit_2.parquet',\n",
       " 'DP_tolerance': 10,\n",
       " 'clustering_method': 'HDBSCAN',\n",
       " 'clustering_metric': 'mahalanobis',\n",
       " 'clustering_min_samples': 13,\n",
       " 'clustering_min_cluster_size': 13,\n",
       " 'clustering_eps': 0,\n",
       " 'clustering_metric_V': array([[1.  , 0.  , 0.  , 0.  , 0.  ],\n",
       "        [0.  , 1.  , 0.  , 0.  , 0.  ],\n",
       "        [0.  , 0.  , 0.01, 0.  , 0.  ],\n",
       "        [0.  , 0.  , 0.  , 0.01, 0.  ],\n",
       "        [0.  , 0.  , 0.  , 0.  , 1.  ]]),\n",
       " 'graph_generation_max_distance': 20,\n",
       " 'graph_generation_max_angle': 45}"
      ]
     },
     "execution_count": 4,
     "metadata": {},
     "output_type": "execute_result"
    }
   ],
   "source": [
    "# Load a network model from pickle\n",
    "network_name = network_date+'_waypoints_DP'+str(DP_tol)+'_HDBSCAN'+str(min_samples)+'_'+location+'_'+datasize+'_UTM'\n",
    "network_path = '../models/networks/best_networks/' + network_name + '.obj'\n",
    "fileObj = open(network_path, 'rb')\n",
    "network = pickle.load(fileObj)\n",
    "fileObj.close()\n",
    "network.hyperparameters"
   ]
  },
  {
   "cell_type": "code",
   "execution_count": 5,
   "id": "a82f42aa-4055-452e-b938-8595ca56b174",
   "metadata": {},
   "outputs": [],
   "source": [
    "# Load training data for prediction model\n",
    "for i in range(0, len(train_dates)):\n",
    "    train_date = train_dates[i]\n",
    "    filename = network_name+'_'+train_date+'_paths.csv'\n",
    "    training_data = pd.read_csv('../data/paths/'+filename)\n",
    "    training_data['path'] = training_data['path'].apply(literal_eval)\n",
    "    training_data = gpd.GeoDataFrame(training_data, geometry=gpd.GeoSeries.from_wkt(training_data['geometry']), crs=network.crs)\n",
    "    training_data = training_data[training_data['message']=='success']\n",
    "    if i==0:\n",
    "        all_training_data = training_data\n",
    "    else:\n",
    "        all_training_data = pd.concat([all_training_data, training_data])\n",
    "# extract paths from the training data\n",
    "training_paths = all_training_data['path'].tolist()"
   ]
  },
  {
   "cell_type": "code",
   "execution_count": 6,
   "id": "6eb7fe8d-2cb5-4398-a373-6b13f86154ea",
   "metadata": {},
   "outputs": [],
   "source": [
    "# Load test data for prediction model\n",
    "for i in range(0, len(test_dates)):\n",
    "    test_date = test_dates[i]\n",
    "    # Load path data\n",
    "    filename = network_name+'_'+test_date+'_paths.csv'\n",
    "    test_data = pd.read_csv('../data/paths/'+filename)\n",
    "    test_data['path'] = test_data['path'].apply(literal_eval)\n",
    "    test_data = gpd.GeoDataFrame(test_data, geometry=gpd.GeoSeries.from_wkt(test_data['geometry']), crs=network.crs)\n",
    "    test_data = test_data[test_data['message']=='success']\n",
    "\n",
    "    # Load respective trajectories for evaluation\n",
    "    traj_file = test_date+'_points_'+location+'_cleaned_meta_full_dualSplit_2'\n",
    "    filename = '../data/processed/' + traj_file + '.parquet'\n",
    "    traj_gdf = gpd.read_parquet(filename)\n",
    "    traj_gdf.to_crs(network.crs, inplace=True)  # Transformation\n",
    "    \n",
    "    if i==0:\n",
    "        all_test_data = test_data\n",
    "        all_traj_gdf = traj_gdf\n",
    "    else:\n",
    "        all_test_data = pd.concat([all_test_data, test_data])\n",
    "        all_traj_gdf = pd.concat([all_traj_gdf, traj_gdf])\n",
    "        \n",
    "test_trajectories = mpd.TrajectoryCollection(all_traj_gdf, traj_id_col='mmsi', obj_id_col='mmsi')"
   ]
  },
  {
   "cell_type": "code",
   "execution_count": 7,
   "id": "9b1058ea-c1a3-4957-9337-41167df97900",
   "metadata": {},
   "outputs": [],
   "source": [
    "# select test data\n",
    "selection_start = 0\n",
    "selection_end = len(test_data)\n",
    "selection_step = 2\n",
    "selection = np.arange(selection_start, selection_end, selection_step)\n",
    "n_test_paths = len(selection)\n",
    "test_paths = all_test_data.iloc[selection]"
   ]
  },
  {
   "cell_type": "code",
   "execution_count": 8,
   "id": "c4cba528-bfc4-4bc2-a9a4-c272f7d0645b",
   "metadata": {},
   "outputs": [
    {
     "name": "stdout",
     "output_type": "stream",
     "text": [
      "https://app.neptune.ai/jandrik91/RoutePredictions/e/ROUT-65\n",
      "Evaluating Dijkstra model on 761 samples for path prediction task\n",
      "Progress: 10%...20%...30%...40%...50%...60%...70%...80%...90%...Done!\n",
      "\n",
      "\n",
      "Time elapsed: 28352974.24 minutes\n",
      "\n",
      "\n",
      "Percentage of unsuccessful predictions: 0.00%\n",
      "Mean SSPD: 275.31m\n",
      "Median SSPD: 44.13m\n"
     ]
    },
    {
     "data": {
      "image/png": "[encoded data removed]",
      "text/plain": [
       "<Figure size 1200x600 with 2 Axes>"
      ]
     },
     "metadata": {},
     "output_type": "display_data"
    },
    {
     "name": "stdout",
     "output_type": "stream",
     "text": [
      "Shutting down background jobs, please wait a moment...\n",
      "Done!\n",
      "Waiting for the remaining 34 operations to synchronize with Neptune. Do not kill this process.\n",
      "All 34 operations synced, thanks for waiting!\n",
      "Explore the metadata in the Neptune app:\n",
      "https://app.neptune.ai/jandrik91/RoutePredictions/e/ROUT-65/metadata\n"
     ]
    }
   ],
   "source": [
    "# make experiments\n",
    "prediction_task = 'path'\n",
    "eval_mode = 'path'\n",
    "model_type = 'Dijkstra'\n",
    "vals_n_walks = [0] #[1000, 500, 200, 1000, 500, 200, 1000, 500, 200]\n",
    "vals_max_order = [0]\n",
    "MOGen_training_mode = 'partial'\n",
    "vals_n_start_nodes = [1]\n",
    "\n",
    "for i in range (0, len(vals_n_walks)):\n",
    "    run = neptune.init_run(\n",
    "        project=\"jandrik91/RoutePredictions\",\n",
    "        api_token=\"eyJhcGlfYWRkcmVzcyI6Imh0dHBzOi8vYXBwLm5lcHR1bmUuYWkiLCJhcGlfdXJsIjoiaHR0cHM6Ly9hcHAubmVwdHVuZS5haSIsImFwaV9rZXkiOiIxYmQzMjgwZS1jZGYwLTQ2YjktYWNjOS02MjBlZWEzNzUzNDcifQ==\",\n",
    "    )  # your credentials\n",
    "\n",
    "    # train model\n",
    "    MOGen_n_walks = vals_n_walks[i]\n",
    "    MOGen_max_order = vals_max_order[i]\n",
    "    n_start_nodes = vals_n_start_nodes[i]\n",
    "    model = DijkstraPathPrediction()\n",
    "    model.train(network.G_pruned, training_paths)\n",
    "    #model = MOGenPathPrediction()\n",
    "    #model.train(training_paths, max_order=MOGen_max_order, model_selection=True, training_mode=MOGen_training_mode)\n",
    "    \n",
    "    # evaluate\n",
    "    evaluation_results, fig = metrics.evaluate(model, prediction_task, test_paths, test_trajectories, network, n_start_nodes=n_start_nodes,\n",
    "                                               MOGen_n_walks=MOGen_n_walks, eval_mode=eval_mode)\n",
    "    nan_mask = evaluation_results.isna().any(axis=1)\n",
    "    failure_rate = nan_mask.sum() / len(evaluation_results)\n",
    "    mean_abs_err = np.mean(evaluation_results[~nan_mask][\"SSPD\"])\n",
    "    median_abs_err = np.median(evaluation_results[~nan_mask][\"SSPD\"])\n",
    "\n",
    "    # save experiment\n",
    "    run[\"network_name\"] = network_name\n",
    "    run[\"n_points\"]=len(network.gdf)\n",
    "    run[\"n_nodes\"]=network.G.number_of_nodes()\n",
    "    run[\"n_edges\"]=network.G.number_of_edges()\n",
    "    \n",
    "    params = network.hyperparameters\n",
    "    params['clustering_metric_V_coord'] = params['clustering_metric_V'][0][0]\n",
    "    params['clustering_metric_V_cog'] = params['clustering_metric_V'][2][2]\n",
    "    params['clustering_metric_V_speed'] = params['clustering_metric_V'][4][4]\n",
    "    run[\"network_parameters\"] = params\n",
    "    \n",
    "    run[\"training_data\"] = {'training_dates':str(train_dates),\n",
    "                            'n_training_paths':len(training_paths)}\n",
    "    \n",
    "    run[\"test_data\"] = {'test_dates':str(test_dates),\n",
    "                        'selection_start':selection_start,\n",
    "                        'selection_end':selection_end,\n",
    "                        'selection_step':selection_step,\n",
    "                        'n_test_paths':n_test_paths}\n",
    "    \n",
    "    run[\"prediction_task\"] = prediction_task\n",
    "    run[\"eval_mode\"] = eval_mode\n",
    "    run[\"model_type\"] = model_type\n",
    "    run[\"MOGen_n_walks\"] = MOGen_n_walks\n",
    "    run[\"MOGen_max_order\"] = MOGen_max_order\n",
    "    run[\"MOGen_training_mode\"] = MOGen_training_mode\n",
    "    run[\"n_start_nodes\"] = n_start_nodes\n",
    "    \n",
    "    run[\"plot\"].upload(fig)\n",
    "    run[\"failure_rate\"] = failure_rate\n",
    "    run[\"mean_abs_err\"] = mean_abs_err\n",
    "    run[\"median_abs_err\"] = median_abs_err\n",
    "    \n",
    "    run.stop()"
   ]
  },
  {
   "cell_type": "code",
   "execution_count": null,
   "id": "a78feccd-0bb7-48b4-b2ce-0b1df4141a8a",
   "metadata": {},
   "outputs": [],
   "source": []
  }
 ],
 "metadata": {
  "kernelspec": {
   "display_name": "Python 3 (ipykernel)",
   "language": "python",
   "name": "python3"
  },
  "language_info": {
   "codemirror_mode": {
    "name": "ipython",
    "version": 3
   },
   "file_extension": ".py",
   "mimetype": "text/x-python",
   "name": "python",
   "nbconvert_exporter": "python",
   "pygments_lexer": "ipython3",
   "version": "3.11.5"
  }
 },
 "nbformat": 4,
 "nbformat_minor": 5
}
