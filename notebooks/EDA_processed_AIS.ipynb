{
 "cells": [
  {
   "cell_type": "code",
   "execution_count": null,
   "id": "9ec6f901-7cf8-420a-8daf-cd640fa879ab",
   "metadata": {},
   "outputs": [],
   "source": [
    "'''\n",
    "This notebook is for exploratory data analysis of the processed AIS data\n",
    "'''"
   ]
  },
  {
   "cell_type": "code",
   "execution_count": null,
   "id": "7509ae05-f282-4887-b0af-59b0a72e8406",
   "metadata": {},
   "outputs": [],
   "source": [
    "import pandas as pd\n",
    "import geopandas as gpd\n",
    "import movingpandas as mpd\n",
    "import numpy as np\n",
    "from datetime import timedelta, datetime\n",
    "import folium\n",
    "import warnings\n",
    "import sys\n",
    "warnings.filterwarnings('ignore')\n",
    "\n",
    "print(\"Geopandas has version {}\".format(gpd.__version__))\n",
    "print(\"Movingpandas has version {}\".format(mpd.__version__))"
   ]
  },
  {
   "cell_type": "code",
   "execution_count": null,
   "id": "573607b9-eb26-4b49-86bf-37787386b67e",
   "metadata": {},
   "outputs": [],
   "source": [
    "# read data from file\n",
    "filename = '../data/processed/202204_points_stavanger_cleaned_meta_full_dualSplit_2.parquet'\n",
    "gdf = gpd.read_parquet(filename)\n",
    "\n",
    "# Convert to UTM coordinate reference system\n",
    "crs = 32632  # Coordinate reference system\n",
    "gdf.to_crs(crs, inplace=True)  # Transformation\n",
    "gdf.head()"
   ]
  },
  {
   "cell_type": "code",
   "execution_count": null,
   "id": "20d344a0-c4d5-412e-9a8b-d3313920c12a",
   "metadata": {},
   "outputs": [],
   "source": [
    "# convert to Trajectory Collection\n",
    "trajectories = mpd.TrajectoryCollection(gdf, traj_id_col='mmsi', obj_id_col='mmsi')\n",
    "\n",
    "print(f'Loaded dataset: {filename}')\n",
    "print(f'AIS messages: {len(gdf)}')\n",
    "print(f'Trajectories: {len(trajectories)}')"
   ]
  },
  {
   "cell_type": "code",
   "execution_count": null,
   "id": "a2fb08e3-79f5-482d-b769-68fc01273c0e",
   "metadata": {},
   "outputs": [],
   "source": [
    "# compute sampling interval statistics\n",
    "sampling_intervals = []\n",
    "for trajectory in trajectories:\n",
    "    sampling_intervals.append(trajectory.get_sampling_interval().total_seconds())\n",
    "print(f'Median sampling interval of all trajectories: {np.median(np.array(sampling_intervals))} seconds')\n",
    "print(f'Mean sampling interval of all trajectories: {np.mean(np.array(sampling_intervals))} seconds')\n",
    "print(f'Max sampling interval of all trajectories: {np.max(np.array(sampling_intervals))} seconds')"
   ]
  },
  {
   "cell_type": "code",
   "execution_count": null,
   "id": "596b1f3c-2e20-4ef8-87b4-7f97767e966d",
   "metadata": {},
   "outputs": [],
   "source": [
    "# Douglas Peucker trajectory generalization to reduce the number of trajectory points (for plotting purposes)\n",
    "simplified_trajectories = mpd.DouglasPeuckerGeneralizer(trajectories).generalize(tolerance=10)\n",
    "n_points, n_DP_points = len(gdf), len(simplified_trajectories.to_point_gdf())\n",
    "print(f'DP reduced {n_points} AIS messages to {n_DP_points} points ({n_DP_points/n_points*100:.2f}%)')"
   ]
  },
  {
   "cell_type": "code",
   "execution_count": null,
   "id": "7a092225-6ccd-4a96-a48e-5f46b26059a2",
   "metadata": {},
   "outputs": [],
   "source": [
    "# plot n random trajectories against the DP simplified trajectories\n",
    "plot_comparison = True\n",
    "if plot_comparison:\n",
    "    n_trajectories = 5  # -1 selects all trajectories\n",
    "    columns = ['mmsi', 'geometry']  # columns to be plotted\n",
    "    selection = np.random.randint(0, high=len(trajectories), size=n_trajectories)\n",
    "    mmsis = gdf.mmsi.unique()[selection]\n",
    "    trajs = trajectories.filter('mmsi', mmsis.tolist())\n",
    "    simplified_trajs = simplified_trajectories.filter('mmsi', mmsis.tolist())\n",
    "    \n",
    "    map = trajs.to_traj_gdf()[columns].explore(cmap='jet', column='mmsi', name='Trajectories', style_kwds={'weight':5})\n",
    "    messages = trajs.to_point_gdf()\n",
    "    messages.reset_index(inplace = True)\n",
    "    #messages = messages[messages.mmsi.isin(mmsis)]\n",
    "    map = messages[columns].explore(m=map, cmap='jet', column='mmsi', name='AIS messages', marker_kwds={'radius':6, 'opacity':1})\n",
    "    \n",
    "    map = simplified_trajs.to_traj_gdf()[columns].explore(m=map, cmap='jet', column='mmsi', name='Simplified trajectories', style_kwds={'weight':5})\n",
    "    messages = simplified_trajs.to_point_gdf()\n",
    "    messages.reset_index(inplace = True)\n",
    "    #messages = messages[messages.mmsi.isin(mmsis)]\n",
    "    map = messages[columns].explore(m=map, cmap='jet', column='mmsi', name='Significant Points', marker_kwds={'radius':6, 'opacity':1})\n",
    "    folium.LayerControl().add_to(map)\n",
    "map"
   ]
  },
  {
   "cell_type": "code",
   "execution_count": null,
   "id": "1228b30b-6222-4cbb-9042-279a1df64d1c",
   "metadata": {},
   "outputs": [],
   "source": [
    "map.save('../reports/maps/rawAIS_and_DP.html')"
   ]
  },
  {
   "cell_type": "code",
   "execution_count": null,
   "id": "b4e7e41c-cf03-4a1c-ba1a-7b626362eea0",
   "metadata": {},
   "outputs": [],
   "source": []
  }
 ],
 "metadata": {
  "kernelspec": {
   "display_name": "Python 3 (ipykernel)",
   "language": "python",
   "name": "python3"
  },
  "language_info": {
   "codemirror_mode": {
    "name": "ipython",
    "version": 3
   },
   "file_extension": ".py",
   "mimetype": "text/x-python",
   "name": "python",
   "nbconvert_exporter": "python",
   "pygments_lexer": "ipython3",
   "version": "3.11.5"
  }
 },
 "nbformat": 4,
 "nbformat_minor": 5
}
