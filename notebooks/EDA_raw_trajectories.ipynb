{
 "cells": [
  {
   "cell_type": "code",
   "execution_count": null,
   "id": "43455f59-d016-4e08-a132-87a1508d698f",
   "metadata": {},
   "outputs": [],
   "source": [
    "'''\n",
    "This notebook is for exploratory data analysis of a trajectory file from Brian\n",
    "These trajectories have been pre-processed and are not used for maritime traffic network modelling\n",
    "'''"
   ]
  },
  {
   "cell_type": "code",
   "execution_count": null,
   "id": "e7f627fc-13dc-4f5d-bd21-ea16c9c65379",
   "metadata": {},
   "outputs": [],
   "source": [
    "import pandas as pd\n",
    "import geopandas as gpd\n",
    "import movingpandas as mpd\n",
    "import numpy as np\n",
    "import matplotlib.pyplot as plt\n",
    "import folium\n",
    "import warnings\n",
    "import sys\n",
    "#warnings.filterwarnings('ignore')\n",
    "\n",
    "print(\"Geopandas has version {}\".format(gpd.__version__))\n",
    "print(\"Movingpandas has version {}\".format(mpd.__version__))"
   ]
  },
  {
   "cell_type": "code",
   "execution_count": null,
   "id": "8bb72f88-8d8e-4f41-b16e-66567c1fd1f9",
   "metadata": {},
   "outputs": [],
   "source": [
    "# add paths for modules\n",
    "sys.path.append('../src/visualization')\n",
    "print(sys.path)\n",
    "\n",
    "# import modules\n",
    "import visualize"
   ]
  },
  {
   "cell_type": "code",
   "execution_count": null,
   "id": "96da846e-63ed-4b09-b936-8795341775b6",
   "metadata": {},
   "outputs": [],
   "source": [
    "# read data from file\n",
    "filename = '../data/raw/routes_all.parquet'\n",
    "df = gpd.read_parquet(filename)"
   ]
  },
  {
   "cell_type": "code",
   "execution_count": null,
   "id": "06e8a462-d9b1-41e7-9689-9bbaa6ad1517",
   "metadata": {},
   "outputs": [],
   "source": [
    "# print information about loaded data\n",
    "print(df.info())"
   ]
  },
  {
   "cell_type": "code",
   "execution_count": null,
   "id": "a2456b29-68bb-4cc6-9732-a032e20c4a4d",
   "metadata": {},
   "outputs": [],
   "source": [
    "# print first 5 lines\n",
    "df.head()"
   ]
  },
  {
   "cell_type": "code",
   "execution_count": null,
   "id": "b405791a-50f5-41d6-a142-7d557f967e5d",
   "metadata": {},
   "outputs": [],
   "source": [
    "# some dataset characteristics\n",
    "columns = ['mmsi', 'imo', 'start_label', 'stop_label', 'cluster_nr', 'unique_route_id']\n",
    "for column in columns:\n",
    "    print(f'{df[column].nunique()} unique {column}')\n",
    "\n",
    "# print start and stop labels\n",
    "print(sorted(df['start_label'].unique()))\n",
    "print(sorted(df['stop_label'].unique()))\n",
    "\n",
    "# plot ditribution of mmsi\n",
    "plt.subplot(1, 1, 1)\n",
    "df.mmsi.hist(bins=df.mmsi.nunique())\n",
    "plt.title('Distribution of MMSIs')\n",
    "plt.show()"
   ]
  },
  {
   "cell_type": "code",
   "execution_count": null,
   "id": "0530246d-ae4f-40e2-a34e-f6ec2b776f9e",
   "metadata": {},
   "outputs": [],
   "source": [
    "# drop superfluous geolocation columns to enable easy plotting\n",
    "df.drop(['start_loc', 'stop_loc', 'loc', 'start_geom', 'stop_geom'], axis=1, inplace=True)"
   ]
  },
  {
   "cell_type": "code",
   "execution_count": null,
   "id": "4c710402-156d-43e8-94d1-3cf2c973867d",
   "metadata": {},
   "outputs": [],
   "source": [
    "# plot data (n random trajectories)\n",
    "n_trajectories = 10000  # -1 selects all trajectories\n",
    "columns = ['mmsi', 'imo', 'start_label', 'stop_label', 'cluster_nr', 'unique_route_id', 'line_geom', 'length']\n",
    "if n_trajectories > 0:\n",
    "    selection = np.random.randint(0, high=len(df), size=n_trajectories)\n",
    "    map = df[columns].iloc[selection].explore(cmap='jet', column='start_label', name='trajectories')\n",
    "else:\n",
    "    map = df[columns].explore(cmap='jet', column='start_label', name='trajectories')"
   ]
  },
  {
   "cell_type": "code",
   "execution_count": null,
   "id": "f9f0b23a-b8d6-4808-9f52-5b3afc825810",
   "metadata": {},
   "outputs": [],
   "source": [
    "# get a bounding box of the geographic area\n",
    "bbox = visualize.get_bounding_box(df)\n",
    "map = bbox.explore(m=map, color='red', name='bounds')\n",
    "folium.LayerControl().add_to(map)\n",
    "map"
   ]
  },
  {
   "cell_type": "code",
   "execution_count": null,
   "id": "0d4683c2-6b27-41fb-95f9-b91582ccc1e5",
   "metadata": {},
   "outputs": [],
   "source": []
  }
 ],
 "metadata": {
  "kernelspec": {
   "display_name": "Python 3 (ipykernel)",
   "language": "python",
   "name": "python3"
  },
  "language_info": {
   "codemirror_mode": {
    "name": "ipython",
    "version": 3
   },
   "file_extension": ".py",
   "mimetype": "text/x-python",
   "name": "python",
   "nbconvert_exporter": "python",
   "pygments_lexer": "ipython3",
   "version": "3.11.5"
  }
 },
 "nbformat": 4,
 "nbformat_minor": 5
}
