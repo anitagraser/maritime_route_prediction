{
 "cells": [
  {
   "cell_type": "code",
   "execution_count": 1,
   "id": "7509ae05-f282-4887-b0af-59b0a72e8406",
   "metadata": {},
   "outputs": [
    {
     "name": "stdout",
     "output_type": "stream",
     "text": [
      "Geopandas has version 0.13.2\n",
      "Movingpandas has version 0.17.1\n"
     ]
    }
   ],
   "source": [
    "import pandas as pd\n",
    "import geopandas as gpd\n",
    "import movingpandas as mpd\n",
    "import numpy as np\n",
    "from datetime import timedelta, datetime\n",
    "import folium\n",
    "import warnings\n",
    "import sys\n",
    "warnings.filterwarnings('ignore')\n",
    "\n",
    "print(\"Geopandas has version {}\".format(gpd.__version__))\n",
    "print(\"Movingpandas has version {}\".format(mpd.__version__))"
   ]
  },
  {
   "cell_type": "code",
   "execution_count": 3,
   "id": "573607b9-eb26-4b49-86bf-37787386b67e",
   "metadata": {},
   "outputs": [
    {
     "data": {
      "text/html": [
       "<div>\n",
       "<style scoped>\n",
       "    .dataframe tbody tr th:only-of-type {\n",
       "        vertical-align: middle;\n",
       "    }\n",
       "\n",
       "    .dataframe tbody tr th {\n",
       "        vertical-align: top;\n",
       "    }\n",
       "\n",
       "    .dataframe thead th {\n",
       "        text-align: right;\n",
       "    }\n",
       "</style>\n",
       "<table border=\"1\" class=\"dataframe\">\n",
       "  <thead>\n",
       "    <tr style=\"text-align: right;\">\n",
       "      <th></th>\n",
       "      <th>mmsi</th>\n",
       "      <th>imo_nr</th>\n",
       "      <th>length</th>\n",
       "      <th>lon</th>\n",
       "      <th>lat</th>\n",
       "      <th>sog</th>\n",
       "      <th>cog</th>\n",
       "      <th>true_heading</th>\n",
       "      <th>nav_status</th>\n",
       "      <th>message_nr</th>\n",
       "      <th>geometry</th>\n",
       "      <th>speed</th>\n",
       "    </tr>\n",
       "    <tr>\n",
       "      <th>date_time_utc</th>\n",
       "      <th></th>\n",
       "      <th></th>\n",
       "      <th></th>\n",
       "      <th></th>\n",
       "      <th></th>\n",
       "      <th></th>\n",
       "      <th></th>\n",
       "      <th></th>\n",
       "      <th></th>\n",
       "      <th></th>\n",
       "      <th></th>\n",
       "      <th></th>\n",
       "    </tr>\n",
       "  </thead>\n",
       "  <tbody>\n",
       "    <tr>\n",
       "      <th>2022-04-01 06:30:21</th>\n",
       "      <td>209989000_0</td>\n",
       "      <td>9235505</td>\n",
       "      <td>90</td>\n",
       "      <td>4.62360</td>\n",
       "      <td>59.5881</td>\n",
       "      <td>10.0</td>\n",
       "      <td>167.2</td>\n",
       "      <td>174</td>\n",
       "      <td>0</td>\n",
       "      <td>1</td>\n",
       "      <td>POINT (4.62360 59.58810)</td>\n",
       "      <td>4.473722</td>\n",
       "    </tr>\n",
       "    <tr>\n",
       "      <th>2022-04-01 06:30:31</th>\n",
       "      <td>209989000_0</td>\n",
       "      <td>9235505</td>\n",
       "      <td>90</td>\n",
       "      <td>4.62367</td>\n",
       "      <td>59.5877</td>\n",
       "      <td>9.7</td>\n",
       "      <td>179.6</td>\n",
       "      <td>174</td>\n",
       "      <td>0</td>\n",
       "      <td>1</td>\n",
       "      <td>POINT (4.62367 59.58770)</td>\n",
       "      <td>4.473722</td>\n",
       "    </tr>\n",
       "    <tr>\n",
       "      <th>2022-04-01 06:30:40</th>\n",
       "      <td>209989000_0</td>\n",
       "      <td>9235505</td>\n",
       "      <td>90</td>\n",
       "      <td>4.62375</td>\n",
       "      <td>59.5873</td>\n",
       "      <td>9.9</td>\n",
       "      <td>173.0</td>\n",
       "      <td>174</td>\n",
       "      <td>0</td>\n",
       "      <td>1</td>\n",
       "      <td>POINT (4.62375 59.58730)</td>\n",
       "      <td>4.976744</td>\n",
       "    </tr>\n",
       "    <tr>\n",
       "      <th>2022-04-01 06:30:50</th>\n",
       "      <td>209989000_0</td>\n",
       "      <td>9235505</td>\n",
       "      <td>90</td>\n",
       "      <td>4.62384</td>\n",
       "      <td>59.5868</td>\n",
       "      <td>9.8</td>\n",
       "      <td>174.7</td>\n",
       "      <td>174</td>\n",
       "      <td>0</td>\n",
       "      <td>1</td>\n",
       "      <td>POINT (4.62384 59.58680)</td>\n",
       "      <td>5.593419</td>\n",
       "    </tr>\n",
       "    <tr>\n",
       "      <th>2022-04-01 06:31:10</th>\n",
       "      <td>209989000_0</td>\n",
       "      <td>9235505</td>\n",
       "      <td>90</td>\n",
       "      <td>4.62402</td>\n",
       "      <td>59.5859</td>\n",
       "      <td>9.7</td>\n",
       "      <td>177.4</td>\n",
       "      <td>174</td>\n",
       "      <td>0</td>\n",
       "      <td>1</td>\n",
       "      <td>POINT (4.62402 59.58590)</td>\n",
       "      <td>5.038954</td>\n",
       "    </tr>\n",
       "  </tbody>\n",
       "</table>\n",
       "</div>"
      ],
      "text/plain": [
       "                            mmsi   imo_nr  length      lon      lat   sog  \\\n",
       "date_time_utc                                                               \n",
       "2022-04-01 06:30:21  209989000_0  9235505      90  4.62360  59.5881  10.0   \n",
       "2022-04-01 06:30:31  209989000_0  9235505      90  4.62367  59.5877   9.7   \n",
       "2022-04-01 06:30:40  209989000_0  9235505      90  4.62375  59.5873   9.9   \n",
       "2022-04-01 06:30:50  209989000_0  9235505      90  4.62384  59.5868   9.8   \n",
       "2022-04-01 06:31:10  209989000_0  9235505      90  4.62402  59.5859   9.7   \n",
       "\n",
       "                       cog  true_heading  nav_status  message_nr  \\\n",
       "date_time_utc                                                      \n",
       "2022-04-01 06:30:21  167.2           174           0           1   \n",
       "2022-04-01 06:30:31  179.6           174           0           1   \n",
       "2022-04-01 06:30:40  173.0           174           0           1   \n",
       "2022-04-01 06:30:50  174.7           174           0           1   \n",
       "2022-04-01 06:31:10  177.4           174           0           1   \n",
       "\n",
       "                                     geometry     speed  \n",
       "date_time_utc                                            \n",
       "2022-04-01 06:30:21  POINT (4.62360 59.58810)  4.473722  \n",
       "2022-04-01 06:30:31  POINT (4.62367 59.58770)  4.473722  \n",
       "2022-04-01 06:30:40  POINT (4.62375 59.58730)  4.976744  \n",
       "2022-04-01 06:30:50  POINT (4.62384 59.58680)  5.593419  \n",
       "2022-04-01 06:31:10  POINT (4.62402 59.58590)  5.038954  "
      ]
     },
     "execution_count": 3,
     "metadata": {},
     "output_type": "execute_result"
    }
   ],
   "source": [
    "# read data from file\n",
    "filename = '../data/processed/202204_points_stavanger_cleaned_500k.parquet'\n",
    "# filename = '../../data/processed/202204_points_stavanger_cleaned_full.parquet'\n",
    "gdf = gpd.read_parquet(filename)\n",
    "gdf.head()"
   ]
  },
  {
   "cell_type": "code",
   "execution_count": 4,
   "id": "20d344a0-c4d5-412e-9a8b-d3313920c12a",
   "metadata": {},
   "outputs": [
    {
     "name": "stdout",
     "output_type": "stream",
     "text": [
      "Loaded dataset: ../data/processed/202204_points_stavanger_cleaned_500k.parquet\n",
      "AIS messages: 483430\n",
      "Trajectories: 617\n"
     ]
    }
   ],
   "source": [
    "# convert to Trajectory Collection\n",
    "trajectories = mpd.TrajectoryCollection(gdf, traj_id_col='mmsi', obj_id_col='mmsi')\n",
    "\n",
    "print(f'Loaded dataset: {filename}')\n",
    "print(f'AIS messages: {len(gdf)}')\n",
    "print(f'Trajectories: {len(trajectories)}')"
   ]
  },
  {
   "cell_type": "code",
   "execution_count": 17,
   "id": "a2fb08e3-79f5-482d-b769-68fc01273c0e",
   "metadata": {},
   "outputs": [
    {
     "data": {
      "text/plain": [
       "10.0"
      ]
     },
     "execution_count": 17,
     "metadata": {},
     "output_type": "execute_result"
    }
   ],
   "source": [
    "# compute median sampling interval\n",
    "sampling_intervals = []\n",
    "for trajectory in trajectories:\n",
    "    sampling_intervals.append(trajectory.get_sampling_interval().total_seconds())\n",
    "print(f'Median sampling interval of all trajectories: {np.median(np.array(sampling_intervals))}')"
   ]
  },
  {
   "cell_type": "code",
   "execution_count": null,
   "id": "596b1f3c-2e20-4ef8-87b4-7f97767e966d",
   "metadata": {},
   "outputs": [],
   "source": []
  }
 ],
 "metadata": {
  "kernelspec": {
   "display_name": "Python 3 (ipykernel)",
   "language": "python",
   "name": "python3"
  },
  "language_info": {
   "codemirror_mode": {
    "name": "ipython",
    "version": 3
   },
   "file_extension": ".py",
   "mimetype": "text/x-python",
   "name": "python",
   "nbconvert_exporter": "python",
   "pygments_lexer": "ipython3",
   "version": "3.11.5"
  }
 },
 "nbformat": 4,
 "nbformat_minor": 5
}
