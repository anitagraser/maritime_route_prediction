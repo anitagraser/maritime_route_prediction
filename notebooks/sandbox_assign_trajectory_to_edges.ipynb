{
 "cells": [
  {
   "cell_type": "code",
   "execution_count": 1,
   "id": "8453d914-7921-4f69-993e-1b6658ca677c",
   "metadata": {},
   "outputs": [
    {
     "name": "stdout",
     "output_type": "stream",
     "text": [
      "Geopandas has version 0.13.2\n",
      "Movingpandas has version 0.17.1\n"
     ]
    }
   ],
   "source": [
    "import pandas as pd\n",
    "import geopandas as gpd\n",
    "import movingpandas as mpd\n",
    "import numpy as np\n",
    "from datetime import timedelta, datetime\n",
    "import time\n",
    "from scipy.sparse import coo_matrix\n",
    "from shapely.geometry import Point, LineString\n",
    "import networkx as nx\n",
    "import matplotlib.pyplot as plt\n",
    "import folium\n",
    "import warnings\n",
    "import sys\n",
    "\n",
    "warnings.filterwarnings('ignore')\n",
    "\n",
    "print(\"Geopandas has version {}\".format(gpd.__version__))\n",
    "print(\"Movingpandas has version {}\".format(mpd.__version__))"
   ]
  },
  {
   "cell_type": "code",
   "execution_count": 2,
   "id": "0a3b4329-b402-49c4-ac71-bb26891e2aed",
   "metadata": {},
   "outputs": [
    {
     "name": "stdout",
     "output_type": "stream",
     "text": [
      "['/Users/janhendrikwebert/maritime_route_prediction/notebooks', '/Users/janhendrikwebert/miniforge3/envs/env_geo/lib/python311.zip', '/Users/janhendrikwebert/miniforge3/envs/env_geo/lib/python3.11', '/Users/janhendrikwebert/miniforge3/envs/env_geo/lib/python3.11/lib-dynload', '', '/Users/janhendrikwebert/miniforge3/envs/env_geo/lib/python3.11/site-packages', '../src/models', '../src/visualization', '../src/features', '../visualization', '../features']\n"
     ]
    }
   ],
   "source": [
    "# add paths for modules\n",
    "sys.path.append('../src/models')\n",
    "sys.path.append('../src/visualization')\n",
    "sys.path.append('../src/features')\n",
    "# import modules\n",
    "import visualize\n",
    "import geometry_utils\n",
    "from maritime_traffic_network import MaritimeTrafficNetwork"
   ]
  },
  {
   "cell_type": "code",
   "execution_count": 3,
   "id": "e6372688-83d3-4ba8-8aca-a174d5be7d25",
   "metadata": {},
   "outputs": [
    {
     "name": "stdout",
     "output_type": "stream",
     "text": [
      "Number of AIS messages: 465768\n",
      "Number of trajectories: 1109\n",
      "Coordinate Reference System (CRS): EPSG:32632\n",
      "Calculating significant turning points with Douglas Peucker algorithm (tolerance = 10) ...\n",
      "Number of significant points detected: 33813 (7.26% of AIS messages)\n",
      "Time elapsed: 0.34 minutes\n",
      "Adding course over ground before and after each turn ...\n",
      "Done. Time elapsed: 0.09 minutes\n"
     ]
    }
   ],
   "source": [
    "# read raw data from file\n",
    "filename = '../data/processed/202204_points_stavanger_cleaned_meta_500k_dualSplit.parquet'\n",
    "gdf = gpd.read_parquet(filename)\n",
    "\n",
    "# Transform to desired CRS\n",
    "# 4326 for WGS 84 (global) // 32632 for UTM 32N (Norway)\n",
    "crs = 32632  # Coordinate reference system\n",
    "gdf.to_crs(crs, inplace=True)  # Transformation\n",
    "gdf.head()\n",
    "\n",
    "# initialize maritime traffic network\n",
    "network = MaritimeTrafficNetwork(gdf, crs)\n",
    "network.get_trajectories_info()\n",
    "\n",
    "# compute Douglas Peucker significant points\n",
    "network.calc_significant_points_DP(tolerance=10)"
   ]
  },
  {
   "cell_type": "code",
   "execution_count": 4,
   "id": "948c49e9-8146-4ad4-9f5b-01e4401c2d6d",
   "metadata": {},
   "outputs": [
    {
     "name": "stdout",
     "output_type": "stream",
     "text": [
      "Calculating waypoints with HDBSCAN (min_samples = 10) ...\n",
      "Distance metric: mahalanobis\n",
      "509 clusters detected\n",
      "Time elapsed: 0.24 minutes\n"
     ]
    }
   ],
   "source": [
    "# detect waypoints using spatial clustering\n",
    "method = 'HDBSCAN'      # 'DBSCAN' , 'HDBSCAN', 'OPTICS'\n",
    "metric = 'mahalanobis'  # 'euclidean', 'mahalanobis', 'haversine'\n",
    "min_samples = 10\n",
    "min_cluster_size = 10\n",
    "eps = 0.02\n",
    "V = np.diag([1, 1, 0.01, 0.01, 1e-5])  # mahalanobis distance parameter matrix V = np.diag([0.01, 0.01, 1e6, 1e6]) \n",
    "network.calc_waypoints_clustering(method=method, min_samples=min_samples, min_cluster_size=min_cluster_size,\n",
    "                                  eps=eps, metric=metric, V=V)"
   ]
  },
  {
   "cell_type": "code",
   "execution_count": 5,
   "id": "6bfb6596-975a-4596-8dc4-43449b590d6b",
   "metadata": {},
   "outputs": [
    {
     "name": "stdout",
     "output_type": "stream",
     "text": [
      "Constructing maritime traffic network graph from waypoints and trajectories...\n",
      "Progress: 10%...20%...30%...40%...50%...60%...70%...80%...90%...Done!\n",
      "------------------------\n",
      "Unpruned Graph:\n",
      "Number of nodes: 509 (3 isolated)\n",
      "Number of edges: 1150\n",
      "Network is (weakly) connected: False\n",
      "------------------------\n",
      "Time elapsed: 1.24 minutes\n"
     ]
    }
   ],
   "source": [
    "network.make_graph_from_waypoints(max_distance=10, max_angle=45)"
   ]
  },
  {
   "cell_type": "code",
   "execution_count": 6,
   "id": "b2db864b-6868-441f-a59a-a93564f2f7e8",
   "metadata": {},
   "outputs": [
    {
     "name": "stdout",
     "output_type": "stream",
     "text": [
      "------------------------\n",
      "Pruned Graph:\n",
      "Number of nodes: 509 (27 isolated)\n",
      "Number of edges: 797\n",
      "------------------------\n"
     ]
    }
   ],
   "source": [
    "network.prune_graph(2)"
   ]
  },
  {
   "cell_type": "code",
   "execution_count": 96,
   "id": "4fc0ec1a-0a68-42f6-ae39-ee6a3fdcbd0f",
   "metadata": {},
   "outputs": [],
   "source": [
    "mmsis = [network.significant_points.mmsi.unique()[29]]\n",
    "#mmsis = ['305981000_0_2022-04-02 11:03:05'] #, '305981000_0_2022-04-02 11:03:05', '219347000_4_2022-04-03 01:38:48', '219348000_0_2022-04-02 01:42:01']\n",
    "trajectories = network.trajectories.filter('mmsi', mmsis)\n",
    "trajectories_points = trajectories.to_point_gdf()\n",
    "trajectories_points = trajectories_points.reset_index()\n",
    "#DP_points = network.significant_points[network.significant_points.mmsi.isin(mmsis)]\n",
    "#DP_trajectories = network.significant_points_trajectory.to_traj_gdf()"
   ]
  },
  {
   "cell_type": "code",
   "execution_count": 97,
   "id": "82bfe21e-db7d-47d7-921e-7dacc9b58f7e",
   "metadata": {},
   "outputs": [
    {
     "name": "stdout",
     "output_type": "stream",
     "text": [
      "start: 194, end: 55\n"
     ]
    },
    {
     "ename": "NetworkXNoPath",
     "evalue": "No path between 194 and 55.",
     "output_type": "error",
     "traceback": [
      "\u001b[0;31m---------------------------------------------------------------------------\u001b[0m",
      "\u001b[0;31mNetworkXNoPath\u001b[0m                            Traceback (most recent call last)",
      "Cell \u001b[0;32mIn[97], line 46\u001b[0m\n\u001b[1;32m     44\u001b[0m current_WP \u001b[38;5;241m=\u001b[39m orig_WP\n\u001b[1;32m     45\u001b[0m \u001b[38;5;66;03m# check if such a path exists\u001b[39;00m\n\u001b[0;32m---> 46\u001b[0m shortest_path \u001b[38;5;241m=\u001b[39m \u001b[43mnx\u001b[49m\u001b[38;5;241;43m.\u001b[39;49m\u001b[43mshortest_path\u001b[49m\u001b[43m(\u001b[49m\u001b[43mG\u001b[49m\u001b[43m,\u001b[49m\u001b[43m \u001b[49m\u001b[43morig_WP\u001b[49m\u001b[43m,\u001b[49m\u001b[43m \u001b[49m\u001b[43mdest_WP\u001b[49m\u001b[43m,\u001b[49m\u001b[43m \u001b[49m\u001b[43mweight\u001b[49m\u001b[38;5;241;43m=\u001b[39;49m\u001b[38;5;124;43m'\u001b[39;49m\u001b[38;5;124;43minverse_weight\u001b[39;49m\u001b[38;5;124;43m'\u001b[39;49m\u001b[43m)\u001b[49m\n\u001b[1;32m     47\u001b[0m \u001b[38;5;28;01mif\u001b[39;00m \u001b[38;5;28mlen\u001b[39m(shortest_path)\u001b[38;5;241m>\u001b[39m\u001b[38;5;241m0\u001b[39m:\n\u001b[1;32m     48\u001b[0m     \u001b[38;5;28mprint\u001b[39m(\u001b[38;5;124m'\u001b[39m\u001b[38;5;124mpath exists\u001b[39m\u001b[38;5;124m'\u001b[39m)\n",
      "File \u001b[0;32m~/miniforge3/envs/env_geo/lib/python3.11/site-packages/networkx/classes/backends.py:148\u001b[0m, in \u001b[0;36m_dispatch.<locals>.wrapper\u001b[0;34m(*args, **kwds)\u001b[0m\n\u001b[1;32m    144\u001b[0m         \u001b[38;5;28;01melse\u001b[39;00m:\n\u001b[1;32m    145\u001b[0m             \u001b[38;5;28;01mraise\u001b[39;00m NetworkXNotImplemented(\n\u001b[1;32m    146\u001b[0m                 \u001b[38;5;124mf\u001b[39m\u001b[38;5;124m\"\u001b[39m\u001b[38;5;124m'\u001b[39m\u001b[38;5;132;01m{\u001b[39;00mname\u001b[38;5;132;01m}\u001b[39;00m\u001b[38;5;124m'\u001b[39m\u001b[38;5;124m not implemented by \u001b[39m\u001b[38;5;132;01m{\u001b[39;00mplugin_name\u001b[38;5;132;01m}\u001b[39;00m\u001b[38;5;124m\"\u001b[39m\n\u001b[1;32m    147\u001b[0m             )\n\u001b[0;32m--> 148\u001b[0m \u001b[38;5;28;01mreturn\u001b[39;00m \u001b[43mfunc\u001b[49m\u001b[43m(\u001b[49m\u001b[38;5;241;43m*\u001b[39;49m\u001b[43margs\u001b[49m\u001b[43m,\u001b[49m\u001b[43m \u001b[49m\u001b[38;5;241;43m*\u001b[39;49m\u001b[38;5;241;43m*\u001b[39;49m\u001b[43mkwds\u001b[49m\u001b[43m)\u001b[49m\n",
      "File \u001b[0;32m~/miniforge3/envs/env_geo/lib/python3.11/site-packages/networkx/algorithms/shortest_paths/generic.py:173\u001b[0m, in \u001b[0;36mshortest_path\u001b[0;34m(G, source, target, weight, method)\u001b[0m\n\u001b[1;32m    171\u001b[0m     paths \u001b[38;5;241m=\u001b[39m nx\u001b[38;5;241m.\u001b[39mbidirectional_shortest_path(G, source, target)\n\u001b[1;32m    172\u001b[0m \u001b[38;5;28;01melif\u001b[39;00m method \u001b[38;5;241m==\u001b[39m \u001b[38;5;124m\"\u001b[39m\u001b[38;5;124mdijkstra\u001b[39m\u001b[38;5;124m\"\u001b[39m:\n\u001b[0;32m--> 173\u001b[0m     _, paths \u001b[38;5;241m=\u001b[39m \u001b[43mnx\u001b[49m\u001b[38;5;241;43m.\u001b[39;49m\u001b[43mbidirectional_dijkstra\u001b[49m\u001b[43m(\u001b[49m\u001b[43mG\u001b[49m\u001b[43m,\u001b[49m\u001b[43m \u001b[49m\u001b[43msource\u001b[49m\u001b[43m,\u001b[49m\u001b[43m \u001b[49m\u001b[43mtarget\u001b[49m\u001b[43m,\u001b[49m\u001b[43m \u001b[49m\u001b[43mweight\u001b[49m\u001b[43m)\u001b[49m\n\u001b[1;32m    174\u001b[0m \u001b[38;5;28;01melse\u001b[39;00m:  \u001b[38;5;66;03m# method == 'bellman-ford':\u001b[39;00m\n\u001b[1;32m    175\u001b[0m     paths \u001b[38;5;241m=\u001b[39m nx\u001b[38;5;241m.\u001b[39mbellman_ford_path(G, source, target, weight)\n",
      "File \u001b[0;32m~/miniforge3/envs/env_geo/lib/python3.11/site-packages/networkx/algorithms/shortest_paths/weighted.py:2398\u001b[0m, in \u001b[0;36mbidirectional_dijkstra\u001b[0;34m(G, source, target, weight)\u001b[0m\n\u001b[1;32m   2396\u001b[0m                     revpath\u001b[38;5;241m.\u001b[39mreverse()\n\u001b[1;32m   2397\u001b[0m                     finalpath \u001b[38;5;241m=\u001b[39m paths[\u001b[38;5;241m0\u001b[39m][w] \u001b[38;5;241m+\u001b[39m revpath[\u001b[38;5;241m1\u001b[39m:]\n\u001b[0;32m-> 2398\u001b[0m \u001b[38;5;28;01mraise\u001b[39;00m nx\u001b[38;5;241m.\u001b[39mNetworkXNoPath(\u001b[38;5;124mf\u001b[39m\u001b[38;5;124m\"\u001b[39m\u001b[38;5;124mNo path between \u001b[39m\u001b[38;5;132;01m{\u001b[39;00msource\u001b[38;5;132;01m}\u001b[39;00m\u001b[38;5;124m and \u001b[39m\u001b[38;5;132;01m{\u001b[39;00mtarget\u001b[38;5;132;01m}\u001b[39;00m\u001b[38;5;124m.\u001b[39m\u001b[38;5;124m\"\u001b[39m)\n",
      "\u001b[0;31mNetworkXNoPath\u001b[0m: No path between 194 and 55."
     ]
    }
   ],
   "source": [
    "#########\n",
    "# find the best path along the graph for a trajectory and evaluate goodness of fit\n",
    "#########\n",
    "G = network.G_pruned.copy()\n",
    "waypoints = network.waypoints.copy()\n",
    "connections = network.waypoint_connections_pruned.copy()\n",
    "mmsi = mmsis[0]\n",
    "trajectory = network.trajectories.get_trajectory(mmsi)\n",
    "points = trajectory.to_point_gdf()\n",
    "\n",
    "### GET START POINT ###\n",
    "# map trajectory start point to the closest waypoint available\n",
    "orig = points.iloc[0].geometry  # get start point\n",
    "orig_cog = geometry_utils.calculate_initial_compass_bearing(Point(points.iloc[0].lon, points.iloc[0].lat), \n",
    "                                                            Point(points.iloc[9].lon, points.iloc[9].lat)) # get initial cog\n",
    "mask = np.abs(waypoints.cog_before - orig_cog) < 45  # only consider waypoints that have the same direction\n",
    "distances = orig.distance(waypoints[mask].geometry)\n",
    "masked_idx = np.argmin(distances)\n",
    "orig_WP = waypoints[mask]['clusterID'].iloc[masked_idx]\n",
    "# find trajectory point that is closest to the centroid of the first waypoint\n",
    "# this is where we start measuring\n",
    "orig_WP_point = waypoints[waypoints.clusterID==orig_WP]['geometry'].item()\n",
    "idx_orig = np.argmin(orig_WP_point.distance(points.geometry))\n",
    "# Now we have found the first waypoint and the first point on the trajectory closest to that waypoint\n",
    "\n",
    "### GET END POINT ###\n",
    "# map trajectory end point to the closest waypoint available\n",
    "dest = points.iloc[-1].geometry  # get end point\n",
    "dest_cog = geometry_utils.calculate_initial_compass_bearing(Point(points.iloc[-10].lon, points.iloc[-10].lat), \n",
    "                                                            Point(points.iloc[-1].lon, points.iloc[-1].lat)) # get initial cog\n",
    "mask = np.abs(waypoints.cog_before - dest_cog) < 45  # only consider waypoints that have the same direction\n",
    "distances = dest.distance(waypoints[mask].geometry)\n",
    "masked_idx = np.argmin(distances)\n",
    "dest_WP = waypoints[mask]['clusterID'].iloc[masked_idx]\n",
    "# find trajectory point that is closest to the centroid of the last waypoint\n",
    "# this is where we end measuring\n",
    "dest_WP_point = waypoints[waypoints.clusterID==dest_WP]['geometry'].item()\n",
    "idx_dest = np.argmin(dest_WP_point.distance(points.geometry))\n",
    "# Now we have found the last waypoint and the last point on the trajectory closest to that waypoint\n",
    "print(f'start: {orig_WP}, end: {dest_WP}')\n",
    "\n",
    "#### Find path between origin and destination\n",
    "path = [orig_WP]\n",
    "current_WP = orig_WP\n",
    "# check if such a path exists\n",
    "shortest_path = nx.shortest_path(G, orig_WP, dest_WP, weight='inverse_weight')\n",
    "if len(shortest_path)>0:\n",
    "    print('path exists')\n",
    "    print(shortest_path)\n",
    "\n",
    "# find a path from start to end waypoint\n",
    "while path[-1] != dest_WP:\n",
    "    # Check if a next path segment is available\n",
    "    if len(list(G.neighbors(current_WP))) > 0:\n",
    "        # iterate over all connected waypoints that the current waypoint is connected to\n",
    "        # find next waypoint closest to the trajectory\n",
    "        shortest_mean_distance = np.inf\n",
    "        for candidate_WP in G.neighbors(current_WP):\n",
    "            # calculate mean distance between the trajectory and the edge between current and candidate waypoint\n",
    "            # get edge between current and candidate waypoint\n",
    "            edge = connections[(connections['from'] == current_WP) & (connections['to'] == candidate_WP)].geometry.item()\n",
    "            # get trajectory segment between the two waypoints\n",
    "            # find trajectory point closest to current waypoint\n",
    "            current_WP_point = waypoints[waypoints.clusterID==current_WP]['geometry'].item()\n",
    "            distances = points.distance(current_WP_point)  # get coordinates of waypoint centroid)\n",
    "            p1_idx = np.argmin(distances)\n",
    "            # find trajectory point closest to candidate waypoint\n",
    "            candidate_WP_point = waypoints[waypoints.clusterID==candidate_WP]['geometry'].item()\n",
    "            distances = points.iloc[p1_idx:-1].distance(candidate_WP_point)  # get coordinates of waypoint centroid)\n",
    "            p2_idx = np.argmin(distances) + p1_idx\n",
    "            # compute mean distance between trajectory segment and edge\n",
    "            mean_distance = points[p1_idx:p2_idx].distance(edge).mean()\n",
    "            # compute trajectory COG close to candidate waypoint\n",
    "            p2_cog = geometry_utils.calculate_initial_compass_bearing(Point(points.iloc[p2_idx-3].lon, points.iloc[p2_idx-3].lat), \n",
    "                                                                      Point(points.iloc[p2_idx].lon, points.iloc[p2_idx].lat))\n",
    "            # get candidate waypoint traffic direction\n",
    "            candidate_WP_cog = waypoints[waypoints.clusterID==candidate_WP]['cog_before'].item()\n",
    "            angle = (p2_cog - candidate_WP_cog + 180) % 360 - 180\n",
    "            if ((mean_distance < shortest_mean_distance) & (np.abs(angle)<30)):\n",
    "                next_WP = candidate_WP\n",
    "                shortest_mean_distance = mean_distance\n",
    "        if next_WP == current_WP:\n",
    "            print('Got stuck. Terminating...')\n",
    "            break\n",
    "        else:\n",
    "            path.append(next_WP) # append next waypoint to path\n",
    "            #G.remove_node(current_WP)  # drop current waypoint from graph to avoid going in circles\n",
    "            current_WP = next_WP\n",
    "    else:\n",
    "        print('No more adjacent waypoints. Terminating...')\n",
    "        break\n",
    "print(path)\n",
    "\n",
    "# make trajectory from path\n",
    "path_df = pd.DataFrame(columns=['mmsi', 'orig', 'dest', 'geometry'])\n",
    "for j in range(0, len(path)-1):\n",
    "    edge = connections[(connections['from'] == path[j]) & (connections['to'] == path[j+1])].geometry.item()\n",
    "    temp = pd.DataFrame([[mmsi, path[j], path[j+1], edge]], columns=['mmsi', 'orig', 'dest', 'geometry'])\n",
    "    path_df = pd.concat([path_df, temp])\n",
    "path_df = gpd.GeoDataFrame(path_df, geometry='geometry', crs=network.crs)\n",
    "\n",
    "##### EXPERIMENTAL\n",
    "dijkstra_path_df = pd.DataFrame(columns=['mmsi', 'orig', 'dest', 'geometry'])\n",
    "for j in range(0, len(shortest_path)-1):\n",
    "    edge = connections[(connections['from'] == shortest_path[j]) & (connections['to'] == shortest_path[j+1])].geometry.item()\n",
    "    temp = pd.DataFrame([[mmsi, shortest_path[j], shortest_path[j+1], edge]], columns=['mmsi', 'orig', 'dest', 'geometry'])\n",
    "    dijkstra_path_df = pd.concat([dijkstra_path_df, temp])\n",
    "dijkstra_path_df = gpd.GeoDataFrame(dijkstra_path_df, geometry='geometry', crs=network.crs)\n",
    "###################\n",
    "\n",
    "###########\n",
    "# evaluate goodness of fit\n",
    "###########\n",
    "from shapely import ops\n",
    "from shapely.geometry import MultiLineString\n",
    "eval_points = points.iloc[idx_orig:idx_dest]\n",
    "multi_line = MultiLineString(list(path_df.geometry))\n",
    "edge_sequence = ops.linemerge(multi_line)\n",
    "distances = eval_points.distance(edge_sequence)\n",
    "mean_dist = distances.mean()\n",
    "median_dist = distances.median()\n",
    "max_dist = distances.max()\n",
    "evaluation_results = pd.DataFrame({'mmsi':mmsi,\n",
    "                                   'mean_dist':mean_dist,\n",
    "                                   'median_dist':median_dist,\n",
    "                                   'max_dist':max_dist,\n",
    "                                   'distances':[distances.tolist()]})\n",
    "# report results\n",
    "plt.boxplot(distances)\n",
    "plt.title('Distance between trajectory and edge sequence')\n",
    "plt.ylabel('Distance (m)')\n",
    "plt.show()\n",
    "evaluation_results.head()"
   ]
  },
  {
   "cell_type": "code",
   "execution_count": 94,
   "id": "d5f45ef0-4daf-4cee-8cfc-83286c1a6518",
   "metadata": {},
   "outputs": [
    {
     "ename": "IndexError",
     "evalue": "list index out of range",
     "output_type": "error",
     "traceback": [
      "\u001b[0;31m---------------------------------------------------------------------------\u001b[0m",
      "\u001b[0;31mIndexError\u001b[0m                                Traceback (most recent call last)",
      "File \u001b[0;32m~/miniforge3/envs/env_geo/lib/python3.11/site-packages/IPython/core/formatters.py:344\u001b[0m, in \u001b[0;36mBaseFormatter.__call__\u001b[0;34m(self, obj)\u001b[0m\n\u001b[1;32m    342\u001b[0m     method \u001b[38;5;241m=\u001b[39m get_real_method(obj, \u001b[38;5;28mself\u001b[39m\u001b[38;5;241m.\u001b[39mprint_method)\n\u001b[1;32m    343\u001b[0m     \u001b[38;5;28;01mif\u001b[39;00m method \u001b[38;5;129;01mis\u001b[39;00m \u001b[38;5;129;01mnot\u001b[39;00m \u001b[38;5;28;01mNone\u001b[39;00m:\n\u001b[0;32m--> 344\u001b[0m         \u001b[38;5;28;01mreturn\u001b[39;00m \u001b[43mmethod\u001b[49m\u001b[43m(\u001b[49m\u001b[43m)\u001b[49m\n\u001b[1;32m    345\u001b[0m     \u001b[38;5;28;01mreturn\u001b[39;00m \u001b[38;5;28;01mNone\u001b[39;00m\n\u001b[1;32m    346\u001b[0m \u001b[38;5;28;01melse\u001b[39;00m:\n",
      "File \u001b[0;32m~/miniforge3/envs/env_geo/lib/python3.11/site-packages/folium/folium.py:319\u001b[0m, in \u001b[0;36mMap._repr_html_\u001b[0;34m(self, **kwargs)\u001b[0m\n\u001b[1;32m    317\u001b[0m     \u001b[38;5;28mself\u001b[39m\u001b[38;5;241m.\u001b[39m_parent \u001b[38;5;241m=\u001b[39m \u001b[38;5;28;01mNone\u001b[39;00m\n\u001b[1;32m    318\u001b[0m \u001b[38;5;28;01melse\u001b[39;00m:\n\u001b[0;32m--> 319\u001b[0m     out \u001b[38;5;241m=\u001b[39m \u001b[38;5;28;43mself\u001b[39;49m\u001b[38;5;241;43m.\u001b[39;49m\u001b[43m_parent\u001b[49m\u001b[38;5;241;43m.\u001b[39;49m\u001b[43m_repr_html_\u001b[49m\u001b[43m(\u001b[49m\u001b[38;5;241;43m*\u001b[39;49m\u001b[38;5;241;43m*\u001b[39;49m\u001b[43mkwargs\u001b[49m\u001b[43m)\u001b[49m\n\u001b[1;32m    320\u001b[0m \u001b[38;5;28;01mreturn\u001b[39;00m out\n",
      "File \u001b[0;32m~/miniforge3/envs/env_geo/lib/python3.11/site-packages/branca/element.py:343\u001b[0m, in \u001b[0;36mFigure._repr_html_\u001b[0;34m(self, **kwargs)\u001b[0m\n\u001b[1;32m    341\u001b[0m \u001b[38;5;28;01mdef\u001b[39;00m \u001b[38;5;21m_repr_html_\u001b[39m(\u001b[38;5;28mself\u001b[39m, \u001b[38;5;241m*\u001b[39m\u001b[38;5;241m*\u001b[39mkwargs):\n\u001b[1;32m    342\u001b[0m \u001b[38;5;250m    \u001b[39m\u001b[38;5;124;03m\"\"\"Displays the Figure in a Jupyter notebook.\"\"\"\u001b[39;00m\n\u001b[0;32m--> 343\u001b[0m     html \u001b[38;5;241m=\u001b[39m escape(\u001b[38;5;28;43mself\u001b[39;49m\u001b[38;5;241;43m.\u001b[39;49m\u001b[43mrender\u001b[49m\u001b[43m(\u001b[49m\u001b[38;5;241;43m*\u001b[39;49m\u001b[38;5;241;43m*\u001b[39;49m\u001b[43mkwargs\u001b[49m\u001b[43m)\u001b[49m)\n\u001b[1;32m    344\u001b[0m     \u001b[38;5;28;01mif\u001b[39;00m \u001b[38;5;28mself\u001b[39m\u001b[38;5;241m.\u001b[39mheight \u001b[38;5;129;01mis\u001b[39;00m \u001b[38;5;28;01mNone\u001b[39;00m:\n\u001b[1;32m    345\u001b[0m         iframe \u001b[38;5;241m=\u001b[39m (\n\u001b[1;32m    346\u001b[0m             \u001b[38;5;124m'\u001b[39m\u001b[38;5;124m<div style=\u001b[39m\u001b[38;5;124m\"\u001b[39m\u001b[38;5;124mwidth:\u001b[39m\u001b[38;5;132;01m{width}\u001b[39;00m\u001b[38;5;124m;\u001b[39m\u001b[38;5;124m\"\u001b[39m\u001b[38;5;124m>\u001b[39m\u001b[38;5;124m'\u001b[39m\n\u001b[1;32m    347\u001b[0m             \u001b[38;5;124m'\u001b[39m\u001b[38;5;124m<div style=\u001b[39m\u001b[38;5;124m\"\u001b[39m\u001b[38;5;124mposition:relative;width:100\u001b[39m\u001b[38;5;124m%\u001b[39m\u001b[38;5;124m;height:0;padding-bottom:\u001b[39m\u001b[38;5;132;01m{ratio}\u001b[39;00m\u001b[38;5;124m;\u001b[39m\u001b[38;5;124m\"\u001b[39m\u001b[38;5;124m>\u001b[39m\u001b[38;5;124m'\u001b[39m  \u001b[38;5;66;03m# noqa\u001b[39;00m\n\u001b[0;32m   (...)\u001b[0m\n\u001b[1;32m    353\u001b[0m             \u001b[38;5;124m'\u001b[39m\u001b[38;5;124m</div></div>\u001b[39m\u001b[38;5;124m'\u001b[39m\n\u001b[1;32m    354\u001b[0m         )\u001b[38;5;241m.\u001b[39mformat(html\u001b[38;5;241m=\u001b[39mhtml, width\u001b[38;5;241m=\u001b[39m\u001b[38;5;28mself\u001b[39m\u001b[38;5;241m.\u001b[39mwidth, ratio\u001b[38;5;241m=\u001b[39m\u001b[38;5;28mself\u001b[39m\u001b[38;5;241m.\u001b[39mratio)\n",
      "File \u001b[0;32m~/miniforge3/envs/env_geo/lib/python3.11/site-packages/branca/element.py:338\u001b[0m, in \u001b[0;36mFigure.render\u001b[0;34m(self, **kwargs)\u001b[0m\n\u001b[1;32m    336\u001b[0m \u001b[38;5;250m\u001b[39m\u001b[38;5;124;03m\"\"\"Renders the HTML representation of the element.\"\"\"\u001b[39;00m\n\u001b[1;32m    337\u001b[0m \u001b[38;5;28;01mfor\u001b[39;00m name, child \u001b[38;5;129;01min\u001b[39;00m \u001b[38;5;28mself\u001b[39m\u001b[38;5;241m.\u001b[39m_children\u001b[38;5;241m.\u001b[39mitems():\n\u001b[0;32m--> 338\u001b[0m     \u001b[43mchild\u001b[49m\u001b[38;5;241;43m.\u001b[39;49m\u001b[43mrender\u001b[49m\u001b[43m(\u001b[49m\u001b[38;5;241;43m*\u001b[39;49m\u001b[38;5;241;43m*\u001b[39;49m\u001b[43mkwargs\u001b[49m\u001b[43m)\u001b[49m\n\u001b[1;32m    339\u001b[0m \u001b[38;5;28;01mreturn\u001b[39;00m \u001b[38;5;28mself\u001b[39m\u001b[38;5;241m.\u001b[39m_template\u001b[38;5;241m.\u001b[39mrender(this\u001b[38;5;241m=\u001b[39m\u001b[38;5;28mself\u001b[39m, kwargs\u001b[38;5;241m=\u001b[39mkwargs)\n",
      "File \u001b[0;32m~/miniforge3/envs/env_geo/lib/python3.11/site-packages/folium/folium.py:401\u001b[0m, in \u001b[0;36mMap.render\u001b[0;34m(self, **kwargs)\u001b[0m\n\u001b[1;32m    374\u001b[0m figure\u001b[38;5;241m.\u001b[39mheader\u001b[38;5;241m.\u001b[39madd_child(\n\u001b[1;32m    375\u001b[0m     Element(\n\u001b[1;32m    376\u001b[0m         \u001b[38;5;124m\"\u001b[39m\u001b[38;5;124m<style>html, body \u001b[39m\u001b[38;5;124m{\u001b[39m\u001b[38;5;124m\"\u001b[39m\n\u001b[0;32m   (...)\u001b[0m\n\u001b[1;32m    384\u001b[0m     name\u001b[38;5;241m=\u001b[39m\u001b[38;5;124m\"\u001b[39m\u001b[38;5;124mcss_style\u001b[39m\u001b[38;5;124m\"\u001b[39m,\n\u001b[1;32m    385\u001b[0m )\n\u001b[1;32m    387\u001b[0m figure\u001b[38;5;241m.\u001b[39mheader\u001b[38;5;241m.\u001b[39madd_child(\n\u001b[1;32m    388\u001b[0m     Element(\n\u001b[1;32m    389\u001b[0m         \u001b[38;5;124m\"\u001b[39m\u001b[38;5;124m<style>#map \u001b[39m\u001b[38;5;124m{\u001b[39m\u001b[38;5;124m\"\u001b[39m\n\u001b[0;32m   (...)\u001b[0m\n\u001b[1;32m    398\u001b[0m     name\u001b[38;5;241m=\u001b[39m\u001b[38;5;124m\"\u001b[39m\u001b[38;5;124mmap_style\u001b[39m\u001b[38;5;124m\"\u001b[39m,\n\u001b[1;32m    399\u001b[0m )\n\u001b[0;32m--> 401\u001b[0m \u001b[38;5;28;43msuper\u001b[39;49m\u001b[43m(\u001b[49m\u001b[43m)\u001b[49m\u001b[38;5;241;43m.\u001b[39;49m\u001b[43mrender\u001b[49m\u001b[43m(\u001b[49m\u001b[38;5;241;43m*\u001b[39;49m\u001b[38;5;241;43m*\u001b[39;49m\u001b[43mkwargs\u001b[49m\u001b[43m)\u001b[49m\n",
      "File \u001b[0;32m~/miniforge3/envs/env_geo/lib/python3.11/site-packages/folium/elements.py:22\u001b[0m, in \u001b[0;36mJSCSSMixin.render\u001b[0;34m(self, **kwargs)\u001b[0m\n\u001b[1;32m     19\u001b[0m \u001b[38;5;28;01mfor\u001b[39;00m name, url \u001b[38;5;129;01min\u001b[39;00m \u001b[38;5;28mself\u001b[39m\u001b[38;5;241m.\u001b[39mdefault_css:\n\u001b[1;32m     20\u001b[0m     figure\u001b[38;5;241m.\u001b[39mheader\u001b[38;5;241m.\u001b[39madd_child(CssLink(url), name\u001b[38;5;241m=\u001b[39mname)\n\u001b[0;32m---> 22\u001b[0m \u001b[38;5;28;43msuper\u001b[39;49m\u001b[43m(\u001b[49m\u001b[43m)\u001b[49m\u001b[38;5;241;43m.\u001b[39;49m\u001b[43mrender\u001b[49m\u001b[43m(\u001b[49m\u001b[38;5;241;43m*\u001b[39;49m\u001b[38;5;241;43m*\u001b[39;49m\u001b[43mkwargs\u001b[49m\u001b[43m)\u001b[49m\n",
      "File \u001b[0;32m~/miniforge3/envs/env_geo/lib/python3.11/site-packages/branca/element.py:645\u001b[0m, in \u001b[0;36mMacroElement.render\u001b[0;34m(self, **kwargs)\u001b[0m\n\u001b[1;32m    641\u001b[0m     figure\u001b[38;5;241m.\u001b[39mscript\u001b[38;5;241m.\u001b[39madd_child(Element(script(\u001b[38;5;28mself\u001b[39m, kwargs)),\n\u001b[1;32m    642\u001b[0m                             name\u001b[38;5;241m=\u001b[39m\u001b[38;5;28mself\u001b[39m\u001b[38;5;241m.\u001b[39mget_name())\n\u001b[1;32m    644\u001b[0m \u001b[38;5;28;01mfor\u001b[39;00m name, element \u001b[38;5;129;01min\u001b[39;00m \u001b[38;5;28mself\u001b[39m\u001b[38;5;241m.\u001b[39m_children\u001b[38;5;241m.\u001b[39mitems():\n\u001b[0;32m--> 645\u001b[0m     \u001b[43melement\u001b[49m\u001b[38;5;241;43m.\u001b[39;49m\u001b[43mrender\u001b[49m\u001b[43m(\u001b[49m\u001b[38;5;241;43m*\u001b[39;49m\u001b[38;5;241;43m*\u001b[39;49m\u001b[43mkwargs\u001b[49m\u001b[43m)\u001b[49m\n",
      "File \u001b[0;32m~/miniforge3/envs/env_geo/lib/python3.11/site-packages/folium/features.py:782\u001b[0m, in \u001b[0;36mGeoJson.render\u001b[0;34m(self, **kwargs)\u001b[0m\n\u001b[1;32m    780\u001b[0m     \u001b[38;5;28;01mif\u001b[39;00m \u001b[38;5;28mself\u001b[39m\u001b[38;5;241m.\u001b[39mhighlight:\n\u001b[1;32m    781\u001b[0m         \u001b[38;5;28mself\u001b[39m\u001b[38;5;241m.\u001b[39mhighlight_map \u001b[38;5;241m=\u001b[39m mapper\u001b[38;5;241m.\u001b[39mget_highlight_map(\u001b[38;5;28mself\u001b[39m\u001b[38;5;241m.\u001b[39mhighlight_function)\n\u001b[0;32m--> 782\u001b[0m \u001b[38;5;28;43msuper\u001b[39;49m\u001b[43m(\u001b[49m\u001b[43m)\u001b[49m\u001b[38;5;241;43m.\u001b[39;49m\u001b[43mrender\u001b[49m\u001b[43m(\u001b[49m\u001b[43m)\u001b[49m\n",
      "File \u001b[0;32m~/miniforge3/envs/env_geo/lib/python3.11/site-packages/branca/element.py:645\u001b[0m, in \u001b[0;36mMacroElement.render\u001b[0;34m(self, **kwargs)\u001b[0m\n\u001b[1;32m    641\u001b[0m     figure\u001b[38;5;241m.\u001b[39mscript\u001b[38;5;241m.\u001b[39madd_child(Element(script(\u001b[38;5;28mself\u001b[39m, kwargs)),\n\u001b[1;32m    642\u001b[0m                             name\u001b[38;5;241m=\u001b[39m\u001b[38;5;28mself\u001b[39m\u001b[38;5;241m.\u001b[39mget_name())\n\u001b[1;32m    644\u001b[0m \u001b[38;5;28;01mfor\u001b[39;00m name, element \u001b[38;5;129;01min\u001b[39;00m \u001b[38;5;28mself\u001b[39m\u001b[38;5;241m.\u001b[39m_children\u001b[38;5;241m.\u001b[39mitems():\n\u001b[0;32m--> 645\u001b[0m     \u001b[43melement\u001b[49m\u001b[38;5;241;43m.\u001b[39;49m\u001b[43mrender\u001b[49m\u001b[43m(\u001b[49m\u001b[38;5;241;43m*\u001b[39;49m\u001b[38;5;241;43m*\u001b[39;49m\u001b[43mkwargs\u001b[49m\u001b[43m)\u001b[49m\n",
      "File \u001b[0;32m~/miniforge3/envs/env_geo/lib/python3.11/site-packages/folium/features.py:1115\u001b[0m, in \u001b[0;36mGeoJsonDetail.render\u001b[0;34m(self, **kwargs)\u001b[0m\n\u001b[1;32m   1113\u001b[0m figure \u001b[38;5;241m=\u001b[39m \u001b[38;5;28mself\u001b[39m\u001b[38;5;241m.\u001b[39mget_root()\n\u001b[1;32m   1114\u001b[0m \u001b[38;5;28;01mif\u001b[39;00m \u001b[38;5;28misinstance\u001b[39m(\u001b[38;5;28mself\u001b[39m\u001b[38;5;241m.\u001b[39m_parent, GeoJson):\n\u001b[0;32m-> 1115\u001b[0m     keys \u001b[38;5;241m=\u001b[39m \u001b[38;5;28mtuple\u001b[39m(\u001b[38;5;28;43mself\u001b[39;49m\u001b[38;5;241;43m.\u001b[39;49m\u001b[43m_parent\u001b[49m\u001b[38;5;241;43m.\u001b[39;49m\u001b[43mdata\u001b[49m\u001b[43m[\u001b[49m\u001b[38;5;124;43m\"\u001b[39;49m\u001b[38;5;124;43mfeatures\u001b[39;49m\u001b[38;5;124;43m\"\u001b[39;49m\u001b[43m]\u001b[49m\u001b[43m[\u001b[49m\u001b[38;5;241;43m0\u001b[39;49m\u001b[43m]\u001b[49m[\u001b[38;5;124m\"\u001b[39m\u001b[38;5;124mproperties\u001b[39m\u001b[38;5;124m\"\u001b[39m]\u001b[38;5;241m.\u001b[39mkeys())\n\u001b[1;32m   1116\u001b[0m     \u001b[38;5;28mself\u001b[39m\u001b[38;5;241m.\u001b[39mwarn_for_geometry_collections()\n\u001b[1;32m   1117\u001b[0m \u001b[38;5;28;01melif\u001b[39;00m \u001b[38;5;28misinstance\u001b[39m(\u001b[38;5;28mself\u001b[39m\u001b[38;5;241m.\u001b[39m_parent, TopoJson):\n",
      "\u001b[0;31mIndexError\u001b[0m: list index out of range"
     ]
    },
    {
     "data": {
      "text/plain": [
       "<folium.folium.Map at 0x17b870250>"
      ]
     },
     "execution_count": 94,
     "metadata": {},
     "output_type": "execute_result"
    }
   ],
   "source": [
    "# Generate plot\n",
    "map = network.map_graph(pruned=True)\n",
    "map = trajectories.to_line_gdf()[['geometry', 'mmsi']].explore(m=map, style_kwds={'weight':1, 'color':'black', 'opacity':0.5}, \n",
    "                                                               name=mmsi)\n",
    "map = trajectories_points[['geometry', 'mmsi']].explore(m=map, marker_kwds={'radius':1}, \n",
    "                                                        style_kwds={'color':'black', 'fillColor':'black', 'fillOpacity':1}, \n",
    "                                                        name=mmsi+' points')\n",
    "map = eval_points.reset_index()[['geometry', 'mmsi']].explore(m=map, color='grey', marker_kwds={'radius':1})\n",
    "map = path_df.explore(m=map, color='yellow', name=mmsi+' path')\n",
    "map = dijkstra_path_df.explore(m=map, color='orange', name=mmsi+' dijkstra path')\n",
    "#map = DP_trajectories[DP_trajectories.mmsi.isin(mmsis)][['geometry', 'mmsi']].explore(m=map, color='black')\n",
    "#map = DP_points[DP_points.clusterID >= 0][['geometry', 'clusterID', 'mmsi']].explore(m=map, color='pink')\n",
    "folium.LayerControl().add_to(map)\n",
    "\n",
    "# add a title\n",
    "title = f'{method} parameters: min_samples = {min_samples}, metric = {metric}'\n",
    "title_html = '''\n",
    "             <h3 align=\"center\" style=\"font-size:16px\"><b>{}</b></h3>\n",
    "             '''.format(title)   \n",
    "\n",
    "map.get_root().html.add_child(folium.Element(title_html))\n",
    "\n",
    "map"
   ]
  },
  {
   "cell_type": "code",
   "execution_count": null,
   "id": "de4ec7da-9c4e-483f-8ae0-178db2e2ea94",
   "metadata": {},
   "outputs": [],
   "source": []
  }
 ],
 "metadata": {
  "kernelspec": {
   "display_name": "Python 3 (ipykernel)",
   "language": "python",
   "name": "python3"
  },
  "language_info": {
   "codemirror_mode": {
    "name": "ipython",
    "version": 3
   },
   "file_extension": ".py",
   "mimetype": "text/x-python",
   "name": "python",
   "nbconvert_exporter": "python",
   "pygments_lexer": "ipython3",
   "version": "3.11.5"
  }
 },
 "nbformat": 4,
 "nbformat_minor": 5
}
