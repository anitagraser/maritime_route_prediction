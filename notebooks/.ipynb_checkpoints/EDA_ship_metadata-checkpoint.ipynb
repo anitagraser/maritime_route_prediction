{
 "cells": [
  {
   "cell_type": "code",
   "execution_count": null,
   "id": "0d6d93c3-41f3-4bf3-a7c6-88b414fde0b2",
   "metadata": {},
   "outputs": [],
   "source": [
    "'''\n",
    "This notebook is for exploratory data analysis of the ship metadata file\n",
    "'''"
   ]
  },
  {
   "cell_type": "code",
   "execution_count": null,
   "id": "c1af8d67-f536-4a05-a33a-4c6b06b676f8",
   "metadata": {},
   "outputs": [],
   "source": [
    "import pandas as pd\n",
    "import numpy as np\n",
    "import warnings\n",
    "import sys\n",
    "#warnings.filterwarnings('ignore')"
   ]
  },
  {
   "cell_type": "code",
   "execution_count": null,
   "id": "486f9ba0-b377-4d25-a127-0d3832b1d08b",
   "metadata": {},
   "outputs": [],
   "source": [
    "# read data from file\n",
    "filename = '../data/external/seilas2019.csv'\n",
    "df = pd.read_csv(filename, delimiter=';', decimal=',', encoding='ISO-8859-1')"
   ]
  },
  {
   "cell_type": "code",
   "execution_count": null,
   "id": "aedd3680-0187-412a-b4d8-30f260ea6308",
   "metadata": {},
   "outputs": [],
   "source": [
    "df.info()"
   ]
  },
  {
   "cell_type": "code",
   "execution_count": null,
   "id": "38cde9f6-5c2c-4dc1-8c92-cc06f98b0260",
   "metadata": {},
   "outputs": [],
   "source": [
    "df.head()"
   ]
  },
  {
   "cell_type": "code",
   "execution_count": null,
   "id": "4dc2a6fb-a5e6-4195-8973-0b7a10afa5a9",
   "metadata": {},
   "outputs": [],
   "source": [
    "# some dataset characteristics\n",
    "columns = ['mmsi_nummer', 'ankomsthavn_navn', 'avgangshavn_navn', 'skipstype', 'skipsgruppe']\n",
    "for column in columns:\n",
    "    print(f'{df[column].nunique()} unique {column}')\n",
    "\n",
    "# print list of ship types and groups\n",
    "print('\\n')\n",
    "print(f'Ship types: \\n {sorted(df.skipstype.unique())}')\n",
    "print('\\n')\n",
    "print(f'Ship categories: \\n {sorted(df.skipsgruppe.unique())}')"
   ]
  },
  {
   "cell_type": "code",
   "execution_count": null,
   "id": "7df85e03-3ee7-4e87-b13f-64ee3431effc",
   "metadata": {},
   "outputs": [],
   "source": [
    "# filter data to only contain ships of category 'Last' (= cargo)\n",
    "df_cargo = df[df['skipsgruppe']=='Last']\n",
    "df_cargo.info()"
   ]
  },
  {
   "cell_type": "code",
   "execution_count": null,
   "id": "9cd7f394-8f83-4c98-9b72-8ca19ed36895",
   "metadata": {},
   "outputs": [],
   "source": [
    "df_cargo[df_cargo['mmsi_nummer'].isnull()]"
   ]
  },
  {
   "cell_type": "code",
   "execution_count": null,
   "id": "bea648c3-4262-4b08-a3a6-940a0186550a",
   "metadata": {},
   "outputs": [],
   "source": []
  }
 ],
 "metadata": {
  "kernelspec": {
   "display_name": "Python 3 (ipykernel)",
   "language": "python",
   "name": "python3"
  },
  "language_info": {
   "codemirror_mode": {
    "name": "ipython",
    "version": 3
   },
   "file_extension": ".py",
   "mimetype": "text/x-python",
   "name": "python",
   "nbconvert_exporter": "python",
   "pygments_lexer": "ipython3",
   "version": "3.11.5"
  }
 },
 "nbformat": 4,
 "nbformat_minor": 5
}
