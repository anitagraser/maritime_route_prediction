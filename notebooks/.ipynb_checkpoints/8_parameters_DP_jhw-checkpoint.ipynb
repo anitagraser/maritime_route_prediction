{
 "cells": [
  {
   "cell_type": "code",
   "execution_count": 1,
   "id": "fb889716-5920-4060-95db-83abc22e2867",
   "metadata": {},
   "outputs": [
    {
     "data": {
      "text/plain": [
       "'\\nThis notebook experiments with the tolerance parameter of the Douglas Peucker algorithm\\nto find the optimal parameter\\n'"
      ]
     },
     "execution_count": 1,
     "metadata": {},
     "output_type": "execute_result"
    }
   ],
   "source": [
    "'''\n",
    "This notebook experiments with the tolerance parameter of the Douglas Peucker algorithm\n",
    "to find the optimal parameter\n",
    "'''"
   ]
  },
  {
   "cell_type": "code",
   "execution_count": 2,
   "id": "fffa926b-5b00-4bab-8bdd-e401081656d6",
   "metadata": {},
   "outputs": [
    {
     "name": "stdout",
     "output_type": "stream",
     "text": [
      "Geopandas has version 0.13.2\n",
      "Movingpandas has version 0.17.1\n"
     ]
    }
   ],
   "source": [
    "import geopandas as gpd\n",
    "import movingpandas as mpd\n",
    "import folium\n",
    "import warnings\n",
    "import sys\n",
    "warnings.filterwarnings('ignore')\n",
    "\n",
    "print(\"Geopandas has version {}\".format(gpd.__version__))\n",
    "print(\"Movingpandas has version {}\".format(mpd.__version__))"
   ]
  },
  {
   "cell_type": "code",
   "execution_count": 3,
   "id": "9459c393-7ffd-4b1d-8dfd-684b30a2a385",
   "metadata": {},
   "outputs": [],
   "source": [
    "# read data from file\n",
    "filename = '../data/processed/202204_points_stavanger_cleaned_200k.parquet'\n",
    "# filename = '../../data/processed/202204_points_stavanger_cleaned_full.parquet'\n",
    "gdf = gpd.read_parquet(filename)"
   ]
  },
  {
   "cell_type": "code",
   "execution_count": 4,
   "id": "6e17d2f7-4825-41fa-b32a-a0ef32e8e24a",
   "metadata": {},
   "outputs": [
    {
     "name": "stdout",
     "output_type": "stream",
     "text": [
      "Loaded dataset: ../data/processed/202204_points_stavanger_cleaned_200k.parquet\n",
      "AIS messages: 192346\n",
      "Trajectories: 249\n"
     ]
    }
   ],
   "source": [
    "# convert to Trajectory Collection\n",
    "trajectories = mpd.TrajectoryCollection(gdf, traj_id_col='mmsi', obj_id_col='mmsi')\n",
    "\n",
    "print(f'Loaded dataset: {filename}')\n",
    "print(f'AIS messages: {len(gdf)}')\n",
    "print(f'Trajectories: {len(trajectories)}')"
   ]
  },
  {
   "cell_type": "code",
   "execution_count": 5,
   "id": "50ea4632-731e-474b-8faf-b7cdfcc7c3d9",
   "metadata": {},
   "outputs": [
    {
     "data": {
      "text/plain": [
       "[127359,\n",
       " 97544,\n",
       " 44671,\n",
       " 15792,\n",
       " 9529,\n",
       " 5863,\n",
       " 4150,\n",
       " 2924,\n",
       " 1699,\n",
       " 1217,\n",
       " 914,\n",
       " 706,\n",
       " 583]"
      ]
     },
     "execution_count": 5,
     "metadata": {},
     "output_type": "execute_result"
    }
   ],
   "source": [
    "# Douglas Peucker trajectory generalization to reduce the number of trajectory points (for plotting purposes)\n",
    "tolerances = [1e-5, 2e-5, 5e-5, 1e-4, 2e-4, 5e-4, 1e-3, 2e-3, 5e-3, 0.01, 0.02, 0.05, 0.1]\n",
    "n_points = []\n",
    "for tolerance in tolerances:\n",
    "    simplified_trajectories = mpd.DouglasPeuckerGeneralizer(trajectories).generalize(tolerance=tolerance)\n",
    "    n_points.append(len(simplified_trajectories.to_point_gdf()))\n",
    "n_points"
   ]
  },
  {
   "cell_type": "code",
   "execution_count": 12,
   "id": "34836e72-4cb1-44d1-bb70-33a5c4c9aada",
   "metadata": {},
   "outputs": [
    {
     "data": {
      "text/plain": [
       "[<matplotlib.lines.Line2D at 0x1504e2490>]"
      ]
     },
     "execution_count": 12,
     "metadata": {},
     "output_type": "execute_result"
    },
    {
     "data": {
      "image/png": "[encoded data removed]",
      "text/plain": [
       "<Figure size 640x480 with 1 Axes>"
      ]
     },
     "metadata": {},
     "output_type": "display_data"
    }
   ],
   "source": [
    "import matplotlib.pyplot as plt\n",
    "import numpy as np\n",
    "n_points = np.array(n_points)\n",
    "all_points = len(gdf)\n",
    "plt.xscale('log')\n",
    "plt.plot(tolerances, n_points/all_points)"
   ]
  },
  {
   "cell_type": "code",
   "execution_count": null,
   "id": "c8942de3-e982-4800-a626-b4a516f46705",
   "metadata": {},
   "outputs": [],
   "source": []
  }
 ],
 "metadata": {
  "kernelspec": {
   "display_name": "Python 3 (ipykernel)",
   "language": "python",
   "name": "python3"
  },
  "language_info": {
   "codemirror_mode": {
    "name": "ipython",
    "version": 3
   },
   "file_extension": ".py",
   "mimetype": "text/x-python",
   "name": "python",
   "nbconvert_exporter": "python",
   "pygments_lexer": "ipython3",
   "version": "3.11.5"
  }
 },
 "nbformat": 4,
 "nbformat_minor": 5
}
