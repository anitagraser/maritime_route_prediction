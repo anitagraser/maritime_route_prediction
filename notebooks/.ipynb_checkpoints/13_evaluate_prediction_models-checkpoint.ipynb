{
 "cells": [
  {
   "cell_type": "code",
   "execution_count": 1,
   "id": "53b4270f-95fc-4bed-8d30-6580ba3dd190",
   "metadata": {},
   "outputs": [
    {
     "data": {
      "text/html": [
       "\n",
       "    <script charset=\"utf-8\">\n",
       "    // Load via requireJS if available (jupyter notebook environment)\n",
       "    try {\n",
       "    require.config({\n",
       "    paths: {\n",
       "    d3: \"https://d3js.org/d3.v5.min.js\".replace(\".js\", \"\")\n",
       "    }\n",
       "    });\n",
       "    console.log(\"OKAY: requireJS was detected\");\n",
       "    }\n",
       "    catch(err){\n",
       "    console.log(err);\n",
       "    console.log(\"ERROR: NO requireJS was detected\");\n",
       "    };\n",
       "    require(['d3'], function(d3){\n",
       "    console.log(\"OKAY: d3js was detected\");\n",
       "    });\n",
       "    </script>\n",
       "    "
      ],
      "text/plain": [
       "<IPython.core.display.HTML object>"
      ]
     },
     "metadata": {},
     "output_type": "display_data"
    }
   ],
   "source": [
    "import pathpy as pp\n",
    "import pandas as pd\n",
    "import geopandas as gpd\n",
    "import movingpandas as mpd\n",
    "import numpy as np\n",
    "from datetime import timedelta, datetime\n",
    "from ast import literal_eval\n",
    "import time\n",
    "import warnings\n",
    "import pickle\n",
    "import sys\n",
    "import neptune\n",
    "\n",
    "warnings.filterwarnings('ignore')"
   ]
  },
  {
   "cell_type": "code",
   "execution_count": 2,
   "id": "115dced0-b6e5-41d9-b35c-a69ab7be3f79",
   "metadata": {},
   "outputs": [],
   "source": [
    "# add paths for modules\n",
    "sys.path.append('../src/models')\n",
    "sys.path.append('../src/features')\n",
    "sys.path.append('../src/visualization')\n",
    "sys.path.append('../src/datawrangling')\n",
    "\n",
    "import dataloader_paths, dataloader_geo\n",
    "from maritime_traffic_network import MaritimeTrafficNetwork\n",
    "from MOGen_path_prediction import MOGenPathPrediction\n",
    "from dijkstra_path_prediction import DijkstraPathPrediction\n",
    "from random_path_prediction import RandomWalkPathPrediction\n",
    "import prediction_model_evaluation_metrics as metrics"
   ]
  },
  {
   "cell_type": "code",
   "execution_count": 3,
   "id": "74cc538d-f911-4dbc-9823-6264406ba753",
   "metadata": {},
   "outputs": [],
   "source": [
    "# Experiment parameters\n",
    "datasize = 'full'\n",
    "location = 'stavanger'\n",
    "network_date = '202204'\n",
    "train_dates = ['202204', '202205', '202207']\n",
    "test_dates = ['202206']\n",
    "filter = 'Passasjer'\n",
    "DP_tol = 30\n",
    "min_samples = 25"
   ]
  },
  {
   "cell_type": "code",
   "execution_count": 4,
   "id": "f9ad0701-014f-4b8c-86c7-dade64f4ed2e",
   "metadata": {},
   "outputs": [
    {
     "data": {
      "text/plain": [
       "{'Data': '../../data/processed/202204_points_stavanger_cleaned_meta_full_dualSplit_2.parquet',\n",
       " 'DP_tolerance': 30,\n",
       " 'clustering_method': 'HDBSCAN',\n",
       " 'clustering_metric': 'mahalanobis',\n",
       " 'clustering_min_samples': 25,\n",
       " 'clustering_min_cluster_size': 25,\n",
       " 'clustering_eps': 0,\n",
       " 'clustering_metric_V': array([[1.  , 0.  , 0.  , 0.  , 0.  ],\n",
       "        [0.  , 1.  , 0.  , 0.  , 0.  ],\n",
       "        [0.  , 0.  , 0.01, 0.  , 0.  ],\n",
       "        [0.  , 0.  , 0.  , 0.01, 0.  ],\n",
       "        [0.  , 0.  , 0.  , 0.  , 1.  ]]),\n",
       " 'graph_generation_max_distance': 20,\n",
       " 'graph_generation_max_angle': 45,\n",
       " 'merge_stops_speed': 2}"
      ]
     },
     "execution_count": 4,
     "metadata": {},
     "output_type": "execute_result"
    }
   ],
   "source": [
    "# Load a network model from pickle\n",
    "network_name = network_date+'_waypoints_DP'+str(DP_tol)+'_HDBSCAN'+str(min_samples)+'_'+location+'_'+datasize+'_UTM'\n",
    "network_path = '../models/networks/best_networks/' + network_name + '.obj'\n",
    "fileObj = open(network_path, 'rb')\n",
    "network = pickle.load(fileObj)\n",
    "fileObj.close()\n",
    "network.hyperparameters"
   ]
  },
  {
   "cell_type": "code",
   "execution_count": 5,
   "id": "a82f42aa-4055-452e-b938-8595ca56b174",
   "metadata": {},
   "outputs": [
    {
     "name": "stdout",
     "output_type": "stream",
     "text": [
      "36924\n",
      "20527 training paths loaded.\n"
     ]
    }
   ],
   "source": [
    "# Load training data from file\n",
    "path_prefix = '../data/paths/'\n",
    "training_paths = dataloader_paths.load_path_training_data(path_prefix, network_name, train_dates, filter=filter, data_version='')"
   ]
  },
  {
   "cell_type": "code",
   "execution_count": 6,
   "id": "6eb7fe8d-2cb5-4398-a373-6b13f86154ea",
   "metadata": {},
   "outputs": [
    {
     "name": "stdout",
     "output_type": "stream",
     "text": [
      "12250\n",
      "6571  loaded.\n"
     ]
    }
   ],
   "source": [
    "traj_path_prefix = '../data/processed/'\n",
    "all_test_paths = dataloader_paths.load_path_test_data(path_prefix, network_name, test_dates, \n",
    "                                                      0, -1, 1, filter=filter, data_version='')\n",
    "test_trajectories = dataloader_geo.load_trajectories(traj_path_prefix, location, network.crs, test_dates)"
   ]
  },
  {
   "cell_type": "code",
   "execution_count": null,
   "id": "c4cba528-bfc4-4bc2-a9a4-c272f7d0645b",
   "metadata": {},
   "outputs": [
    {
     "name": "stdout",
     "output_type": "stream",
     "text": [
      "https://app.neptune.ai/jandrik91/RoutePredictions/e/ROUT-360\n"
     ]
    },
    {
     "name": "stderr",
     "output_type": "stream",
     "text": [
      "order:  1; T     (8 prcs): 100%|██████████████████| 8/8 [00:01<00:00,  4.65it/s]\n",
      "order:  1; log_L (8 prcs): 100%|██████████████████| 8/8 [00:01<00:00,  5.17it/s]\n",
      "order:  2; T     (8 prcs): 100%|██████████████████| 8/8 [00:01<00:00,  6.45it/s]\n",
      "order:  2; log_L (8 prcs): 100%|██████████████████| 8/8 [00:01<00:00,  5.07it/s]\n",
      "order:  3; T     (8 prcs): 100%|██████████████████| 8/8 [00:01<00:00,  6.32it/s]\n",
      "order:  3; log_L (8 prcs): 100%|██████████████████| 8/8 [00:01<00:00,  5.09it/s]\n",
      "order:  4; T     (8 prcs): 100%|██████████████████| 8/8 [00:01<00:00,  6.42it/s]\n",
      "order:  4; log_L (8 prcs): 100%|██████████████████| 8/8 [00:01<00:00,  4.66it/s]"
     ]
    },
    {
     "name": "stdout",
     "output_type": "stream",
     "text": [
      "Selected optimal maximum order K=2 from candidates.\n",
      "======================================================\n",
      "MOGen model\n",
      "- Model Selection ------------------------------------\n",
      " K  |   nodes     edges   |   log L    dof         AIC\n",
      " 1  |   1043     218153   | -147398.72  3264  301325.44\n",
      "\u001b[1m 2 \u001b[0m | \u001b[1m  4570     218153  \u001b[0m | \u001b[1m-104885.95 18241  246253.91\u001b[0m\n",
      " 3  |   12831    218153   | -79572.14 139780 438704.27\n",
      " 4  |   24435    218153   | -61597.98 1339504 2802203.95\n",
      "======================================================\n",
      "Making predictions for 324 samples with MOGen of order 2\n",
      "Progress: "
     ]
    },
    {
     "name": "stderr",
     "output_type": "stream",
     "text": [
      "\n"
     ]
    }
   ],
   "source": [
    "# make experiments\n",
    "prediction_task = 'next_nodes'  # 'next_nodes' or 'path'\n",
    "eval_mode = 'path'\n",
    "model_type = 'MOGen'\n",
    "vals_n_steps = [10]\n",
    "vals_n_walks = [1000]\n",
    "vals_max_order = [4]\n",
    "vals_order = [0]\n",
    "MOGen_training_mode = 'partial'\n",
    "vals_n_start_nodes = [1]\n",
    "weight_vals = ['length', 'inverse_passages', 'inverse_density']\n",
    "\n",
    "# choose test paths\n",
    "selection_start = 0\n",
    "selection_end = -1\n",
    "selection_step = 40\n",
    "\n",
    "# run experiments\n",
    "for i in range (0, len(vals_n_walks)):\n",
    "    run = neptune.init_run(\n",
    "        project=\"jandrik91/RoutePredictions\",\n",
    "        api_token=\"eyJhcGlfYWRkcmVzcyI6Imh0dHBzOi8vYXBwLm5lcHR1bmUuYWkiLCJhcGlfdXJsIjoiaHR0cHM6Ly9hcHAubmVwdHVuZS5haSIsImFwaV9rZXkiOiIxYmQzMjgwZS1jZGYwLTQ2YjktYWNjOS02MjBlZWEzNzUzNDcifQ==\",\n",
    "    )  # your credentials\n",
    "\n",
    "    # training parameters\n",
    "    n_walks = vals_n_walks[i]\n",
    "    MOGen_max_order = vals_max_order[i]\n",
    "    n_start_nodes = vals_n_start_nodes[i]\n",
    "    n_steps = vals_n_steps[i]\n",
    "    order = vals_order[i]\n",
    "\n",
    "    # prepare test data\n",
    "    if prediction_task == 'next_nodes':\n",
    "        # split test paths in subpaths\n",
    "        sub_paths = dataloader_paths.split_path_data(all_test_paths, n_steps+1)\n",
    "        test_paths = dataloader_paths.sample_path_data(sub_paths, selection_start, selection_end, selection_step)\n",
    "    else:\n",
    "        test_paths = dataloader_paths.sample_path_data(all_test_paths, selection_start, selection_end, selection_step)\n",
    "    n_test_paths=len(test_paths)\n",
    "        \n",
    "    # train and predict\n",
    "    if model_type == 'Dijkstra':\n",
    "        model = DijkstraPathPrediction()\n",
    "        model.train(network.G_pruned, training_paths)\n",
    "        predictions = model.predict(test_paths, n_start_nodes=n_start_nodes, weight=weight_vals[i])\n",
    "    if model_type == 'MOGen':\n",
    "        model = MOGenPathPrediction()\n",
    "        model.train(training_paths, max_order=MOGen_max_order, model_selection=True, training_mode=MOGen_training_mode)\n",
    "        predictions = model.predict(prediction_task, test_paths, network.G, \n",
    "                                    n_start_nodes=n_start_nodes, n_steps=n_steps, \n",
    "                                    n_predictions=1, n_walks=n_walks, order=order)\n",
    "    if model_type == 'Random':\n",
    "        model = RandomWalkPathPrediction()\n",
    "        model.train(network.G_pruned, training_paths)\n",
    "        predictions = model.predict(test_paths, n_start_nodes, n_steps, \n",
    "                                    1, n_walks, method='random')\n",
    "    if model_type == 'Markov':\n",
    "        model = RandomWalkPathPrediction()\n",
    "        model.train(network.G_pruned, training_paths)\n",
    "        predictions = model.predict(test_paths, n_start_nodes, n_steps, \n",
    "                                    1, n_walks, method='weighted')\n",
    "        \n",
    "    # evaluate\n",
    "    evaluation_results, fig = metrics.evaluate_given_predictions(prediction_task, predictions, test_trajectories, \n",
    "                                                                 network, n_start_nodes=n_start_nodes, n_steps=n_steps, eval_mode=eval_mode)\n",
    "    nan_mask = evaluation_results.isna().any(axis=1)\n",
    "    failure_rate = nan_mask.sum() / len(evaluation_results)\n",
    "    mean_abs_err = np.mean(evaluation_results[~nan_mask][\"SSPD\"])\n",
    "    median_abs_err = np.median(evaluation_results[~nan_mask][\"SSPD\"])\n",
    "    choice_accuracy = np.mean(evaluation_results[~nan_mask][\"choice_accuracy\"])\n",
    "\n",
    "    # save experiment\n",
    "    run[\"network_name\"] = network_name\n",
    "    run[\"n_points\"]=len(network.gdf)\n",
    "    run[\"n_nodes\"]=network.G.number_of_nodes()\n",
    "    run[\"n_edges\"]=network.G.number_of_edges()\n",
    "    \n",
    "    params = network.hyperparameters\n",
    "    params['clustering_metric_V_coord'] = params['clustering_metric_V'][0][0]\n",
    "    params['clustering_metric_V_cog'] = params['clustering_metric_V'][2][2]\n",
    "    params['clustering_metric_V_speed'] = params['clustering_metric_V'][4][4]\n",
    "    run[\"network_parameters\"] = params\n",
    "    \n",
    "    run[\"training_data\"] = {'training_dates':str(train_dates),\n",
    "                            'n_training_paths':len(training_paths)}\n",
    "    \n",
    "    run[\"test_data\"] = {'test_dates':str(test_dates),\n",
    "                        'selection_start':selection_start,\n",
    "                        'selection_end':selection_end,\n",
    "                        'selection_step':selection_step,\n",
    "                        'n_test_paths':n_test_paths}\n",
    "    \n",
    "    run[\"prediction_task\"] = prediction_task\n",
    "    run[\"eval_mode\"] = eval_mode\n",
    "    run[\"model_type\"] = model_type\n",
    "    run[\"MOGen_n_walks\"] = n_walks\n",
    "    run[\"MOGen_max_order\"] = MOGen_max_order\n",
    "    if model_type == 'MOGen':\n",
    "        run[\"MOGen_optimal_order\"] = model.order\n",
    "    if model_type == 'Dijkstra':\n",
    "        run[\"weight\"] = weight_vals[i]\n",
    "    run[\"MOGen_training_mode\"] = MOGen_training_mode\n",
    "    run[\"n_start_nodes\"] = n_start_nodes\n",
    "    run[\"n_steps\"] = n_steps\n",
    "    \n",
    "    run[\"plot\"].upload(fig)\n",
    "    run[\"failure_rate\"] = failure_rate\n",
    "    run[\"mean_abs_err\"] = mean_abs_err\n",
    "    run[\"median_abs_err\"] = median_abs_err\n",
    "    run[\"choice_accuracy\"] = choice_accuracy\n",
    "    run[\"filter\"] = filter\n",
    "    \n",
    "    run.stop()"
   ]
  },
  {
   "cell_type": "code",
   "execution_count": null,
   "id": "6524311a-4210-4c78-91c1-06843fea30de",
   "metadata": {},
   "outputs": [],
   "source": [
    "len(test_paths)"
   ]
  },
  {
   "cell_type": "code",
   "execution_count": null,
   "id": "d8c5e806-170d-4934-908d-0ed35f24a2b8",
   "metadata": {},
   "outputs": [],
   "source": [
    "\n"
   ]
  }
 ],
 "metadata": {
  "kernelspec": {
   "display_name": "Python 3 (ipykernel)",
   "language": "python",
   "name": "python3"
  },
  "language_info": {
   "codemirror_mode": {
    "name": "ipython",
    "version": 3
   },
   "file_extension": ".py",
   "mimetype": "text/x-python",
   "name": "python",
   "nbconvert_exporter": "python",
   "pygments_lexer": "ipython3",
   "version": "3.11.5"
  }
 },
 "nbformat": 4,
 "nbformat_minor": 5
}
