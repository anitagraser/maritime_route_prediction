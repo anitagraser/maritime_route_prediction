{
 "cells": [
  {
   "cell_type": "code",
   "execution_count": 1,
   "id": "5fca4943-219f-456b-85c0-5588770889c8",
   "metadata": {},
   "outputs": [
    {
     "name": "stdout",
     "output_type": "stream",
     "text": [
      "Geopandas has version 0.13.2\n",
      "Movingpandas has version 0.17.1\n"
     ]
    }
   ],
   "source": [
    "import pandas as pd\n",
    "import geopandas as gpd\n",
    "import movingpandas as mpd\n",
    "import numpy as np\n",
    "from datetime import timedelta, datetime\n",
    "from scipy.sparse import coo_matrix\n",
    "import networkx as nx\n",
    "import matplotlib.pyplot as plt\n",
    "import folium\n",
    "import warnings\n",
    "import sys\n",
    "\n",
    "warnings.filterwarnings('ignore')\n",
    "\n",
    "print(\"Geopandas has version {}\".format(gpd.__version__))\n",
    "print(\"Movingpandas has version {}\".format(mpd.__version__))"
   ]
  },
  {
   "cell_type": "code",
   "execution_count": 2,
   "id": "7486614e-4bef-4093-b720-59efded31efe",
   "metadata": {},
   "outputs": [
    {
     "name": "stdout",
     "output_type": "stream",
     "text": [
      "['/Users/janhendrikwebert/maritime_route_prediction/notebooks', '/Users/janhendrikwebert/miniforge3/envs/env_geo/lib/python311.zip', '/Users/janhendrikwebert/miniforge3/envs/env_geo/lib/python3.11', '/Users/janhendrikwebert/miniforge3/envs/env_geo/lib/python3.11/lib-dynload', '', '/Users/janhendrikwebert/miniforge3/envs/env_geo/lib/python3.11/site-packages', '../src/models', '../src/visualization', '../visualization']\n"
     ]
    }
   ],
   "source": [
    "# add paths for modules\n",
    "sys.path.append('../src/models')\n",
    "sys.path.append('../src/visualization')\n",
    "# import modules\n",
    "import visualize\n",
    "from maritime_traffic_network import MaritimeTrafficNetwork"
   ]
  },
  {
   "cell_type": "code",
   "execution_count": 3,
   "id": "e1141c88-9ab6-474e-8ab1-549fd40e1bab",
   "metadata": {},
   "outputs": [],
   "source": [
    "# read raw data from file\n",
    "filename = '../data/processed/202204_points_stavanger_cleaned_meta_200k.parquet'\n",
    "gdf = gpd.read_parquet(filename)"
   ]
  },
  {
   "cell_type": "code",
   "execution_count": 4,
   "id": "490fd86f-d727-407d-9ad5-3156aedf2696",
   "metadata": {},
   "outputs": [
    {
     "name": "stdout",
     "output_type": "stream",
     "text": [
      "AIS messages: 192346\n",
      "Trajectories: 249\n"
     ]
    }
   ],
   "source": [
    "# initialize maritime traffic network\n",
    "network = MaritimeTrafficNetwork(gdf)\n",
    "network.get_trajectories_info()"
   ]
  },
  {
   "cell_type": "code",
   "execution_count": 5,
   "id": "03ab6bf4-32fb-47e8-bb0b-a6132da4c153",
   "metadata": {},
   "outputs": [
    {
     "name": "stdout",
     "output_type": "stream",
     "text": [
      "Calculating significant turning points with Douglas Peucker algorithm (tolerance = 0.002) ...\n",
      "Number of significant points detected: 2924 (1.52% of AIS messages)\n",
      "Time elapsed: 0.12 minutes\n",
      "Adding course over ground before and after each turn ...\n",
      "Done. Time elapsed: 0.01 minutes\n"
     ]
    }
   ],
   "source": [
    "# compute Douglas Peucker significant points\n",
    "network.calc_significant_points_DP(0.002)"
   ]
  },
  {
   "cell_type": "code",
   "execution_count": 6,
   "id": "a285fea7-f9d6-4dcc-b3c7-acbf71e6654f",
   "metadata": {},
   "outputs": [
    {
     "name": "stdout",
     "output_type": "stream",
     "text": [
      "Calculating waypoints with HDBSCAN (min_samples = 10) ...\n",
      "Distance metric: euclidean\n",
      "86 clusters detected\n",
      "Time elapsed: 0.01 minutes\n"
     ]
    }
   ],
   "source": [
    "# compute clusters\n",
    "method = 'HDBSCAN'      # 'DBSCAN' , 'HDBSCAN', 'OPTICS'\n",
    "metric = 'euclidean'  # 'euclidean', 'mahalanobis'\n",
    "min_samples = 10\n",
    "min_cluster_size = 10\n",
    "eps = 0.02\n",
    "network.calc_waypoints_clustering(method=method, min_samples=min_samples, min_cluster_size=min_cluster_size,\n",
    "                                  eps=eps, metric=metric)"
   ]
  },
  {
   "cell_type": "code",
   "execution_count": 7,
   "id": "cd5f5924-e7d3-4040-a3ab-8f672dda9524",
   "metadata": {},
   "outputs": [
    {
     "ename": "NameError",
     "evalue": "name 'coo_matrix' is not defined",
     "output_type": "error",
     "traceback": [
      "\u001b[0;31m---------------------------------------------------------------------------\u001b[0m",
      "\u001b[0;31mNameError\u001b[0m                                 Traceback (most recent call last)",
      "Cell \u001b[0;32mIn[7], line 21\u001b[0m\n\u001b[1;32m     19\u001b[0m row_indices, col_indices \u001b[38;5;241m=\u001b[39m \u001b[38;5;28mzip\u001b[39m(\u001b[38;5;241m*\u001b[39mcoord_dict\u001b[38;5;241m.\u001b[39mkeys())\n\u001b[1;32m     20\u001b[0m values \u001b[38;5;241m=\u001b[39m \u001b[38;5;28mlist\u001b[39m(coord_dict\u001b[38;5;241m.\u001b[39mvalues())\n\u001b[0;32m---> 21\u001b[0m A \u001b[38;5;241m=\u001b[39m \u001b[43mcoo_matrix\u001b[49m((values, (row_indices, col_indices)), shape\u001b[38;5;241m=\u001b[39m(n_clusters, n_clusters))\n\u001b[1;32m     23\u001b[0m \u001b[38;5;66;03m# initialize directed graph from adjacency matrix\u001b[39;00m\n\u001b[1;32m     24\u001b[0m G \u001b[38;5;241m=\u001b[39m nx\u001b[38;5;241m.\u001b[39mfrom_scipy_sparse_array(A, create_using\u001b[38;5;241m=\u001b[39mnx\u001b[38;5;241m.\u001b[39mDiGraph)\n",
      "\u001b[0;31mNameError\u001b[0m: name 'coo_matrix' is not defined"
     ]
    }
   ],
   "source": [
    "# create graph adjacency matrix\n",
    "n_clusters = len(network.waypoints)\n",
    "coord_dict = {}\n",
    "# for each trajectory, increase the weight of the adjacency matrix between two nodes\n",
    "for mmsi in network.significant_points.mmsi.unique():\n",
    "    subset = network.significant_points[network.significant_points.mmsi == mmsi]\n",
    "    subset = subset[subset.clusterID >=0]  # remove outliers\n",
    "    if len(subset) > 1:  # subset needs to contain at least 2 waypoints\n",
    "        for i in range(0, len(subset)-1):\n",
    "            row = subset.clusterID.iloc[i]\n",
    "            col = subset.clusterID.iloc[i+1]\n",
    "            if row != col:  # no self loops\n",
    "                if (row, col) in coord_dict:\n",
    "                    coord_dict[(row, col)] += 1  # increase the edge weight for each passage\n",
    "                else:\n",
    "                    coord_dict[(row, col)] = 1  # create edge if it does not exist yet\n",
    "\n",
    "# store adjacency matrix as sparse matrix in COO format\n",
    "row_indices, col_indices = zip(*coord_dict.keys())\n",
    "values = list(coord_dict.values())\n",
    "A = coo_matrix((values, (row_indices, col_indices)), shape=(n_clusters, n_clusters))\n",
    "\n",
    "# initialize directed graph from adjacency matrix\n",
    "G = nx.from_scipy_sparse_array(A, create_using=nx.DiGraph)\n",
    "\n",
    "# add node features\n",
    "for i in range(0, len(self.waypoints)):\n",
    "    node_id = network.waypoints.clusterID.iloc[i]\n",
    "    G.nodes[node_id]['n_members'] = network.waypoints.n_members.iloc[i]\n",
    "    G.nodes[node_id]['position'] = (network.waypoints.lon.iloc[i], network.waypoints.lat.iloc[i])  # !changeg lat-lon to lon-lat for plotting\n",
    "    G.nodes[node_id]['speed'] = network.waypoints.speed.iloc[i]\n",
    "    G.nodes[node_id]['direction'] = network.waypoints.direction.iloc[i]\n",
    "\n",
    "# report results\n",
    "print(f'Created maritime traffic network graph from waypoints and trajectories')\n",
    "print(f'Number of nodes: {G.number_of_nodes()}')\n",
    "print(f'Number of edges: {G.number_of_edges()}')"
   ]
  },
  {
   "cell_type": "code",
   "execution_count": null,
   "id": "b4095d2a-eb0c-49d6-992a-a00165846d38",
   "metadata": {},
   "outputs": [],
   "source": [
    "in_degrees = dict(G.in_degree())\n",
    "mean_in_degree = sum(in_degrees.values()) / len(in_degrees)\n",
    "print(f'Mean node in-degree: {mean_in_degree}')\n",
    "\n",
    "out_degrees = dict(G.out_degree())\n",
    "mean_out_degree = sum(out_degrees.values()) / len(out_degrees)\n",
    "print(f'Mean node out-degree: {mean_out_degree}')"
   ]
  },
  {
   "cell_type": "code",
   "execution_count": null,
   "id": "0d9c9dc7-bae1-4fd1-8b5c-a448ba5c1543",
   "metadata": {},
   "outputs": [],
   "source": [
    "network.make_graph_from_waypoints()\n",
    "network.plot_graph_canvas()"
   ]
  },
  {
   "cell_type": "code",
   "execution_count": null,
   "id": "6c2ba145-2f4b-4240-b70d-4e13861da918",
   "metadata": {},
   "outputs": [],
   "source": [
    "mmsi = '219347000_0'\n",
    "trajectory = network.trajectories.get_trajectory(mmsi)\n",
    "DP_trajectory = network.significant_points_trajectory.get_trajectory(mmsi)"
   ]
  },
  {
   "cell_type": "code",
   "execution_count": null,
   "id": "a5df2fc9-7987-45ae-a2be-342370cc0f90",
   "metadata": {},
   "outputs": [],
   "source": [
    "map = network.map_waypoints()\n",
    "map = visualize.map_accurate_and_simplified_trajectory(trajectory, DP_trajectory, map=map)\n",
    "folium.LayerControl().add_to(map)\n",
    "map"
   ]
  },
  {
   "cell_type": "code",
   "execution_count": null,
   "id": "4b634fc1-2a1d-4686-b075-9b7946c7ade5",
   "metadata": {},
   "outputs": [],
   "source": [
    "trajectory.get_crs()"
   ]
  },
  {
   "cell_type": "code",
   "execution_count": null,
   "id": "d35921a0-fc74-4103-8194-97c53b47b80d",
   "metadata": {},
   "outputs": [],
   "source": []
  }
 ],
 "metadata": {
  "kernelspec": {
   "display_name": "Python 3 (ipykernel)",
   "language": "python",
   "name": "python3"
  },
  "language_info": {
   "codemirror_mode": {
    "name": "ipython",
    "version": 3
   },
   "file_extension": ".py",
   "mimetype": "text/x-python",
   "name": "python",
   "nbconvert_exporter": "python",
   "pygments_lexer": "ipython3",
   "version": "3.11.5"
  }
 },
 "nbformat": 4,
 "nbformat_minor": 5
}
