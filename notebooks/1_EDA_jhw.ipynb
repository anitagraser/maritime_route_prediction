{
 "cells": [
  {
   "cell_type": "code",
   "execution_count": 1,
   "id": "e7f627fc-13dc-4f5d-bd21-ea16c9c65379",
   "metadata": {},
   "outputs": [
    {
     "name": "stdout",
     "output_type": "stream",
     "text": [
      "Geopandas has version 0.13.2\n",
      "Movingpandas has version 0.17.1\n"
     ]
    }
   ],
   "source": [
    "import pandas as pd\n",
    "import geopandas as gpd\n",
    "import movingpandas as mpd\n",
    "import warnings\n",
    "warnings.filterwarnings('ignore')\n",
    "\n",
    "print(\"Geopandas has version {}\".format(gpd.__version__))\n",
    "print(\"Movingpandas has version {}\".format(mpd.__version__))"
   ]
  },
  {
   "cell_type": "code",
   "execution_count": 2,
   "id": "96da846e-63ed-4b09-b936-8795341775b6",
   "metadata": {},
   "outputs": [],
   "source": [
    "# read data from file\n",
    "filename = '../data/raw/journeys_cluster_all.parquet'\n",
    "df = gpd.read_parquet(filename)"
   ]
  },
  {
   "cell_type": "code",
   "execution_count": 4,
   "id": "06e8a462-d9b1-41e7-9689-9bbaa6ad1517",
   "metadata": {},
   "outputs": [
    {
     "name": "stdout",
     "output_type": "stream",
     "text": [
      "<class 'geopandas.geodataframe.GeoDataFrame'>\n",
      "MultiIndex: 163118 entries, (0, 0) to (55372, 0)\n",
      "Data columns (total 6 columns):\n",
      " #   Column       Non-Null Count   Dtype   \n",
      "---  ------       --------------   -----   \n",
      " 0   mmsi         163118 non-null  float64 \n",
      " 1   length       163118 non-null  float64 \n",
      " 2   ts           163118 non-null  object  \n",
      " 3   origin       163118 non-null  object  \n",
      " 4   destination  163118 non-null  object  \n",
      " 5   line_geom    163118 non-null  geometry\n",
      "dtypes: float64(2), geometry(1), object(3)\n",
      "memory usage: 9.8+ MB\n",
      "None\n"
     ]
    }
   ],
   "source": [
    "# print information about loaded data\n",
    "print(df.info())"
   ]
  },
  {
   "cell_type": "code",
   "execution_count": 7,
   "id": "a2456b29-68bb-4cc6-9732-a032e20c4a4d",
   "metadata": {},
   "outputs": [
    {
     "data": {
      "text/html": [
       "<div>\n",
       "<style scoped>\n",
       "    .dataframe tbody tr th:only-of-type {\n",
       "        vertical-align: middle;\n",
       "    }\n",
       "\n",
       "    .dataframe tbody tr th {\n",
       "        vertical-align: top;\n",
       "    }\n",
       "\n",
       "    .dataframe thead th {\n",
       "        text-align: right;\n",
       "    }\n",
       "</style>\n",
       "<table border=\"1\" class=\"dataframe\">\n",
       "  <thead>\n",
       "    <tr style=\"text-align: right;\">\n",
       "      <th></th>\n",
       "      <th></th>\n",
       "      <th>mmsi</th>\n",
       "      <th>length</th>\n",
       "      <th>ts</th>\n",
       "      <th>origin</th>\n",
       "      <th>destination</th>\n",
       "      <th>line_geom</th>\n",
       "    </tr>\n",
       "  </thead>\n",
       "  <tbody>\n",
       "    <tr>\n",
       "      <th>0</th>\n",
       "      <th>0</th>\n",
       "      <td>258373000.0</td>\n",
       "      <td>63.0</td>\n",
       "      <td>[Timestamp('2019-05-13 14:39:43'), Timestamp('...</td>\n",
       "      <td>OUT_OSLO</td>\n",
       "      <td>NOOSL</td>\n",
       "      <td>LINESTRING (4357821.280 4011856.019, 4357806.6...</td>\n",
       "    </tr>\n",
       "    <tr>\n",
       "      <th rowspan=\"3\" valign=\"top\">8</th>\n",
       "      <th>0</th>\n",
       "      <td>258373000.0</td>\n",
       "      <td>63.0</td>\n",
       "      <td>[Timestamp('2019-05-29 11:31:24'), Timestamp('...</td>\n",
       "      <td>NOOSL</td>\n",
       "      <td>OUT_OSLO</td>\n",
       "      <td>LINESTRING (4356344.632 4055417.248, 4356352.4...</td>\n",
       "    </tr>\n",
       "    <tr>\n",
       "      <th>1</th>\n",
       "      <td>258373000.0</td>\n",
       "      <td>63.0</td>\n",
       "      <td>[Timestamp('2019-05-29 11:31:24'), Timestamp('...</td>\n",
       "      <td>NOOSL</td>\n",
       "      <td>OUT_OSLO</td>\n",
       "      <td>LINESTRING (4353745.300 4022748.068, 4353753.5...</td>\n",
       "    </tr>\n",
       "    <tr>\n",
       "      <th>2</th>\n",
       "      <td>258373000.0</td>\n",
       "      <td>63.0</td>\n",
       "      <td>[Timestamp('2019-05-29 11:31:24'), Timestamp('...</td>\n",
       "      <td>NOOSL</td>\n",
       "      <td>OUT_OSLO</td>\n",
       "      <td>LINESTRING (4353745.300 4022748.068, 4353727.3...</td>\n",
       "    </tr>\n",
       "    <tr>\n",
       "      <th>9</th>\n",
       "      <th>0</th>\n",
       "      <td>258373000.0</td>\n",
       "      <td>63.0</td>\n",
       "      <td>[Timestamp('2019-06-01 22:03:41'), Timestamp('...</td>\n",
       "      <td>OUT_OSLO</td>\n",
       "      <td>NOOSL</td>\n",
       "      <td>LINESTRING (4358079.606 4011858.363, 4358075.8...</td>\n",
       "    </tr>\n",
       "  </tbody>\n",
       "</table>\n",
       "</div>"
      ],
      "text/plain": [
       "            mmsi  length                                                 ts  \\\n",
       "0 0  258373000.0    63.0  [Timestamp('2019-05-13 14:39:43'), Timestamp('...   \n",
       "8 0  258373000.0    63.0  [Timestamp('2019-05-29 11:31:24'), Timestamp('...   \n",
       "  1  258373000.0    63.0  [Timestamp('2019-05-29 11:31:24'), Timestamp('...   \n",
       "  2  258373000.0    63.0  [Timestamp('2019-05-29 11:31:24'), Timestamp('...   \n",
       "9 0  258373000.0    63.0  [Timestamp('2019-06-01 22:03:41'), Timestamp('...   \n",
       "\n",
       "       origin destination                                          line_geom  \n",
       "0 0  OUT_OSLO       NOOSL  LINESTRING (4357821.280 4011856.019, 4357806.6...  \n",
       "8 0     NOOSL    OUT_OSLO  LINESTRING (4356344.632 4055417.248, 4356352.4...  \n",
       "  1     NOOSL    OUT_OSLO  LINESTRING (4353745.300 4022748.068, 4353753.5...  \n",
       "  2     NOOSL    OUT_OSLO  LINESTRING (4353745.300 4022748.068, 4353727.3...  \n",
       "9 0  OUT_OSLO       NOOSL  LINESTRING (4358079.606 4011858.363, 4358075.8...  "
      ]
     },
     "execution_count": 7,
     "metadata": {},
     "output_type": "execute_result"
    }
   ],
   "source": [
    "# print first 5 lines\n",
    "df.head()"
   ]
  },
  {
   "cell_type": "code",
   "execution_count": null,
   "id": "b405791a-50f5-41d6-a142-7d557f967e5d",
   "metadata": {},
   "outputs": [],
   "source": []
  }
 ],
 "metadata": {
  "kernelspec": {
   "display_name": "Python 3 (ipykernel)",
   "language": "python",
   "name": "python3"
  },
  "language_info": {
   "codemirror_mode": {
    "name": "ipython",
    "version": 3
   },
   "file_extension": ".py",
   "mimetype": "text/x-python",
   "name": "python",
   "nbconvert_exporter": "python",
   "pygments_lexer": "ipython3",
   "version": "3.11.5"
  }
 },
 "nbformat": 4,
 "nbformat_minor": 5
}
