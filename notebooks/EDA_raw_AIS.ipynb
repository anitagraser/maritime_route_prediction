{
 "cells": [
  {
   "cell_type": "code",
   "execution_count": null,
   "id": "464b263a-584c-460d-95d2-d5ead07a288c",
   "metadata": {},
   "outputs": [],
   "source": [
    "'''\n",
    "This notebook is for exploratory data analysis of the raw AIS data\n",
    "'''"
   ]
  },
  {
   "cell_type": "code",
   "execution_count": null,
   "id": "65ef12eb-264f-4a40-ac86-c2ac09e9af3b",
   "metadata": {},
   "outputs": [],
   "source": [
    "import pandas as pd\n",
    "import geopandas as gpd\n",
    "import numpy as np\n",
    "import matplotlib.pyplot as plt\n",
    "import folium\n",
    "import warnings\n",
    "import sys\n",
    "#warnings.filterwarnings('ignore')\n",
    "\n",
    "print(\"Geopandas has version {}\".format(gpd.__version__))"
   ]
  },
  {
   "cell_type": "code",
   "execution_count": null,
   "id": "eef3e417-4cb9-4411-a7d6-2da22f485cc1",
   "metadata": {
    "editable": true,
    "slideshow": {
     "slide_type": ""
    },
    "tags": []
   },
   "outputs": [],
   "source": [
    "# add paths for modules\n",
    "sys.path.append('../src/visualization')\n",
    "sys.path.append('../src/features')\n",
    "print(sys.path)\n",
    "\n",
    "# import modules\n",
    "import visualize"
   ]
  },
  {
   "cell_type": "code",
   "execution_count": null,
   "id": "644e923f-28d3-4247-98be-7a2843f1265c",
   "metadata": {},
   "outputs": [],
   "source": [
    "# read data from file\n",
    "filename = '../data/raw/AIS_04-09_2022_stavanger/ais_202204.csv'\n",
    "df = pd.read_csv(filename, delimiter=';', decimal='.')\n",
    "df.info(show_counts=True)"
   ]
  },
  {
   "cell_type": "code",
   "execution_count": null,
   "id": "8c7cd062-e1b5-4e8a-9ac2-ff666ef8d515",
   "metadata": {},
   "outputs": [],
   "source": [
    "# convert to geopandas df\n",
    "gdf = gpd.GeoDataFrame(df, geometry=gpd.points_from_xy(df.lon, df.lat), crs=\"EPSG:4326\")\n",
    "df = []  # free memory\n",
    "n_messages = len(gdf)"
   ]
  },
  {
   "cell_type": "code",
   "execution_count": null,
   "id": "964e5efc-047d-4a48-b7d0-a72089e2cb77",
   "metadata": {},
   "outputs": [],
   "source": [
    "# find duplicates\n",
    "duplicates = gdf.duplicated(subset=['mmsi', 'lat', 'lon'], keep='first')\n",
    "n_duplicates = len(gdf[duplicates])"
   ]
  },
  {
   "cell_type": "code",
   "execution_count": null,
   "id": "4ca9bcd4-c376-47ad-8563-b035e73550e4",
   "metadata": {},
   "outputs": [],
   "source": [
    "# drop duplicate AIS data (reported by multiple stations)\n",
    "cleaned_gdf = gdf.drop_duplicates(subset = ['mmsi', 'lat', 'lon'],\n",
    "                                    keep = 'first')\n",
    "print(f'Dropped {n_duplicates} duplicates ({n_duplicates/n_messages*100:.2f}%)')"
   ]
  },
  {
   "cell_type": "code",
   "execution_count": null,
   "id": "4651ad30-bec6-4367-94eb-b08b9fc9ef4a",
   "metadata": {},
   "outputs": [],
   "source": [
    "gdf.info()  # print information about loaded data"
   ]
  },
  {
   "cell_type": "code",
   "execution_count": null,
   "id": "ad2801fe-210e-44f3-a64f-c6cefce3876f",
   "metadata": {},
   "outputs": [],
   "source": [
    "gdf.head()"
   ]
  },
  {
   "cell_type": "code",
   "execution_count": null,
   "id": "dbe8d299-90ff-4bf5-9c8c-bbbe39e74dfb",
   "metadata": {},
   "outputs": [],
   "source": [
    "# some dataset characteristics\n",
    "columns = ['mmsi', 'imo_nr', 'nav_status', 'message_nr']\n",
    "for column in columns:\n",
    "    print(f'{gdf[column].nunique()} unique {column}')\n",
    "\n",
    "# print nav_status and message_nr values\n",
    "print('\\n')\n",
    "print(f'Unique nav_status: \\n {sorted(gdf.nav_status.unique())}')\n",
    "print(f'Unique message_nr: \\n {sorted(gdf.message_nr.unique())}')\n",
    "msg_nr_counts = gdf['message_nr'].value_counts()\n",
    "msg_nr_distribution = msg_nr_counts / len(gdf)\n",
    "msg_nr_distribution = msg_nr_distribution.sort_index()\n",
    "nav_status_counts = gdf['nav_status'].value_counts()\n",
    "nav_status_distribution = nav_status_counts / len(gdf)\n",
    "nav_status_distribution = nav_status_distribution.sort_index()"
   ]
  },
  {
   "cell_type": "code",
   "execution_count": null,
   "id": "20dab9da-eb83-4c49-a005-0d071e54e891",
   "metadata": {},
   "outputs": [],
   "source": [
    "# join ship metadata to get ship category distribution\n",
    "sys.path.append('../src/datawrangling')\n",
    "from make_trajectories_from_AIS import add_ship_metadata\n",
    "metadata_filename = '../data/external/seilas-2022.csv'\n",
    "gdf = add_ship_metadata(metadata_filename, gdf)"
   ]
  },
  {
   "cell_type": "code",
   "execution_count": null,
   "id": "0c9076fb-7dca-452e-9697-4b4db9dc90eb",
   "metadata": {},
   "outputs": [],
   "source": [
    "# print unique ship categories\n",
    "gdf.skipsgruppe.unique()"
   ]
  },
  {
   "cell_type": "code",
   "execution_count": null,
   "id": "e293da2b-4bad-43c6-8de1-8ef93c3b4245",
   "metadata": {},
   "outputs": [],
   "source": [
    "# Translate ship categories to English\n",
    "gdf['skipsgruppe'] = gdf['skipsgruppe'].replace(to_replace=['Last', 'Fisk', 'Passasjer', 'Slep'], \n",
    "                                                value=['Cargo', 'Fishing', 'Passenger', 'Tug'])\n",
    "gdf['skipsgruppe'].fillna('Unknown', inplace=True)\n",
    "gdf.rename(columns={'skipsgruppe': 'ship_category'}, inplace=True)"
   ]
  },
  {
   "cell_type": "code",
   "execution_count": null,
   "id": "8a24781a-0ff1-460b-a805-7f884c0d7b75",
   "metadata": {},
   "outputs": [],
   "source": [
    "# plot distribution of nav_status and message_nr and ship category\n",
    "\n",
    "# distribution of message_nr\n",
    "fig, axes = plt.subplots(1, 3, figsize=(12, 4))\n",
    "msg_nr_distribution.plot(kind='bar', ax=axes[0])\n",
    "axes[0].set_title('Distribution of message_nr')\n",
    "axes[0].set_ylabel('fraction of AIS messages')\n",
    "\n",
    "# distribution of nav_status\n",
    "nav_status_distribution.plot(kind='bar', ax=axes[1])\n",
    "axes[1].set_title('Distribution of nav_status')\n",
    "\n",
    "# distribution of ship_category\n",
    "category_counts = gdf['ship_category'].value_counts()\n",
    "category_distribution = category_counts / len(gdf)\n",
    "category_distribution.sort_values(inplace=True, ascending=False)\n",
    "category_distribution.plot(kind='bar', ax=axes[2])\n",
    "axes[2].set_title('Distribution of ship_category')\n",
    "fig.subplots_adjust(bottom=0.3)\n",
    "\n",
    "plt.savefig('distribution of message_nr, nav_status and ship_category.pdf')\n",
    "plt.show()"
   ]
  },
  {
   "cell_type": "code",
   "execution_count": null,
   "id": "254af51f-a86e-404c-9750-5c95613ff7ce",
   "metadata": {},
   "outputs": [],
   "source": [
    "# investigate duplicates\n",
    "mmsi = 257088660\n",
    "one_ship_gdf = gdf[gdf.mmsi == mmsi]\n",
    "\n",
    "duplicates = one_ship_gdf.duplicated(subset=['mmsi', 'lat', 'lon'], keep='first')\n",
    "n_duplicates = len(one_ship_gdf[duplicates])\n",
    "print(len(one_ship_gdf), n_duplicates)\n",
    "print(duplicates)"
   ]
  },
  {
   "cell_type": "code",
   "execution_count": null,
   "id": "60cacc3e-0a6d-47cf-bb43-0a3754e405f3",
   "metadata": {},
   "outputs": [],
   "source": [
    "# plot data (n points) to visualize duplicates\n",
    "n_points = 1000  # -1 selects all points\n",
    "if n_points > 0:\n",
    "    # selection = np.random.randint(0, high=len(gdf), size=n_points)\n",
    "    #map = gdf.iloc[0:n_points].explore(cmap='jet', column='mmsi', name='AIS messages')\n",
    "    map = one_ship_gdf.iloc[0:n_points].explore(color='blue', name='AIS messages')\n",
    "    map = one_ship_gdf[duplicates].iloc[0:n_points].explore(m=map, color='red', name='duplicates')\n",
    "else:\n",
    "    map = gdf.explore(cmap='jet', column='mmsi', name='AIS messages')"
   ]
  },
  {
   "cell_type": "code",
   "execution_count": null,
   "id": "06af00fd-1e37-4384-abd6-4a93502c1c57",
   "metadata": {},
   "outputs": [],
   "source": [
    "# get a bounding box of the geographic area\n",
    "bbox = visualize.get_bounding_box(gdf)\n",
    "map = bbox.explore(m=map, color='red', name='bounds')\n",
    "folium.LayerControl().add_to(map)\n",
    "map"
   ]
  },
  {
   "cell_type": "code",
   "execution_count": null,
   "id": "c23261a3-90f6-42e8-8592-07bb1f870349",
   "metadata": {},
   "outputs": [],
   "source": [
    "# make hexbin plots of different ship types\n",
    "ship_types = ['Cargo', 'Fishing', 'Passenger', 'Auxiliary']\n",
    "#ship_types = ['Passenger', 'Fishing']\n",
    "gdf['ship_category'] = gdf['ship_category'].replace(to_replace=['Tug'], \n",
    "                                                value=['Auxiliary'])\n",
    "map = folium.Map(location=[59, 5], tiles=\"OpenStreetMap\", zoom_start=8)\n",
    "for ship_type in ship_types:\n",
    "    sub_gdf = gdf[gdf.ship_category == ship_type]\n",
    "    map=visualize.traffic_raster_overlay(sub_gdf, map, overlay_name=ship_type)\n",
    "folium.LayerControl().add_to(map)\n",
    "map.save('../reports/maps/raw_AIS_by_ship_category.html')\n",
    "map"
   ]
  },
  {
   "cell_type": "code",
   "execution_count": null,
   "id": "dc48ec3e-60a0-44d6-b26d-85a907abff05",
   "metadata": {},
   "outputs": [],
   "source": [
    "# map of stop points\n",
    "map = folium.Map(location=[59, 5], tiles=\"OpenStreetMap\", zoom_start=8)\n",
    "sub_gdf = gdf[gdf.nav_status.isin([1, 5])]\n",
    "map=visualize.traffic_raster_overlay(sub_gdf, map, overlay_name='ports and anchor places')\n",
    "folium.LayerControl().add_to(map)\n",
    "map.save('../reports/maps/stop_points.html')\n",
    "map"
   ]
  },
  {
   "cell_type": "code",
   "execution_count": null,
   "id": "6feaaeaf-8bb9-470a-8cc4-30c8c651fb76",
   "metadata": {},
   "outputs": [],
   "source": [
    "# convert raw AIS data to trajectory collection\n",
    "import movingpandas as mpd\n",
    "trajectories = mpd.TrajectoryCollection(gdf, traj_id_col='mmsi', \n",
    "                                        obj_id_col='mmsi', t='date_time_utc')"
   ]
  },
  {
   "cell_type": "code",
   "execution_count": null,
   "id": "337229a4-fbb4-49c0-8eea-ef75fd864669",
   "metadata": {},
   "outputs": [],
   "source": [
    "# visualize a single trajectory\n",
    "# We want to show here, that splitting a single trajectory into sub-trajectories is necessary\n",
    "from datetime import timedelta, datetime\n",
    "warnings.filterwarnings('ignore')\n",
    "mmsis = gdf.mmsi.unique()\n",
    "n=3\n",
    "selection = mmsis[n:n+1]\n",
    "selected_trajectories = trajectories.filter('mmsi', selection)\n",
    "obs_split_trajectories = mpd.ObservationGapSplitter(selected_trajectories).split(gap=timedelta(minutes=10), min_length=500)\n",
    "print(f'Observation Gap splitter split {len(trajectories)} trajectories into {len(obs_split_trajectories)} sub-trajectories')\n",
    "\n",
    "# Split trajectories into sub trajectories when a stop longer than 30 seconds is observed (for example ferries). Only keep trajectories longer than 500m.\n",
    "split_trajectories = mpd.StopSplitter(obs_split_trajectories).split(max_diameter=50, min_duration=timedelta(minutes=0.5), min_length=500)\n",
    "print(f'Stop splitter split {len(obs_split_trajectories)} trajectories into {len(split_trajectories)} sub-trajectories')\n",
    "\n",
    "map = split_trajectories.to_traj_gdf()[['geometry', 'mmsi']].explore(cmap='jet', column='mmsi', name='split trajectories', legend=False)\n",
    "map = selected_trajectories.to_traj_gdf()[['geometry', 'mmsi']].explore(m=map, name='raw trajectories')\n",
    "folium.LayerControl().add_to(map)\n",
    "map"
   ]
  },
  {
   "cell_type": "code",
   "execution_count": null,
   "id": "e9357509-7a90-435a-bc3e-4f9c62c157a3",
   "metadata": {},
   "outputs": [],
   "source": [
    "map.save('../reports/maps/raw_trajectories.html')"
   ]
  }
 ],
 "metadata": {
  "kernelspec": {
   "display_name": "Python 3 (ipykernel)",
   "language": "python",
   "name": "python3"
  },
  "language_info": {
   "codemirror_mode": {
    "name": "ipython",
    "version": 3
   },
   "file_extension": ".py",
   "mimetype": "text/x-python",
   "name": "python",
   "nbconvert_exporter": "python",
   "pygments_lexer": "ipython3",
   "version": "3.11.5"
  }
 },
 "nbformat": 4,
 "nbformat_minor": 5
}
