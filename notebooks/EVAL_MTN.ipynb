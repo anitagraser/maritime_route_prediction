{
 "cells": [
  {
   "cell_type": "code",
   "execution_count": null,
   "id": "e3f52d45-3dc8-44ff-b944-8fcdb098b340",
   "metadata": {},
   "outputs": [],
   "source": [
    "'''\n",
    "This notebook performs the evaluation of a network against some test trajectory set:\n",
    "- network evaluation metrics are computed (either using Trajectory2Path or Leuven map matching) and plotted\n",
    "- a plot of an example trajectory and its mapped path is created\n",
    "- network evaluation metrics are broken down by ship category and plotted\n",
    "'''"
   ]
  },
  {
   "cell_type": "code",
   "execution_count": null,
   "id": "8453d914-7921-4f69-993e-1b6658ca677c",
   "metadata": {},
   "outputs": [],
   "source": [
    "import pandas as pd\n",
    "import geopandas as gpd\n",
    "import movingpandas as mpd\n",
    "import numpy as np\n",
    "from datetime import timedelta, datetime\n",
    "import time\n",
    "from scipy.sparse import coo_matrix\n",
    "from shapely.geometry import Point, LineString, MultiLineString\n",
    "from shapely import ops\n",
    "import networkx as nx\n",
    "import matplotlib.pyplot as plt\n",
    "import folium\n",
    "import pickle\n",
    "import warnings\n",
    "import sys\n",
    "\n",
    "warnings.filterwarnings('ignore')\n",
    "\n",
    "print(\"Geopandas has version {}\".format(gpd.__version__))\n",
    "print(\"Movingpandas has version {}\".format(mpd.__version__))"
   ]
  },
  {
   "cell_type": "code",
   "execution_count": null,
   "id": "0a3b4329-b402-49c4-ac71-bb26891e2aed",
   "metadata": {},
   "outputs": [],
   "source": [
    "# add paths for modules\n",
    "sys.path.append('../src/models')\n",
    "sys.path.append('../src/visualization')\n",
    "sys.path.append('../src/features')\n",
    "# import modules\n",
    "import visualize\n",
    "import geometry_utils\n",
    "from maritime_traffic_network import MaritimeTrafficNetwork"
   ]
  },
  {
   "cell_type": "code",
   "execution_count": null,
   "id": "e6372688-83d3-4ba8-8aca-a174d5be7d25",
   "metadata": {
    "editable": true,
    "slideshow": {
     "slide_type": ""
    },
    "tags": []
   },
   "outputs": [],
   "source": [
    "# load network from pickle\n",
    "model = '202204_waypoints_DP30_HDBSCAN25_stavanger_full_UTM'\n",
    "model_path = '../models/networks/best_networks/' + model + '.obj'\n",
    "fileObj = open(model_path, 'rb')\n",
    "network = pickle.load(fileObj)\n",
    "fileObj.close()"
   ]
  },
  {
   "cell_type": "code",
   "execution_count": null,
   "id": "0a3b0485-ce4f-45f6-be39-517b574a3c13",
   "metadata": {},
   "outputs": [],
   "source": [
    "network.get_trajectories_info()\n",
    "network.hyperparameters"
   ]
  },
  {
   "cell_type": "code",
   "execution_count": null,
   "id": "7ba1a560-be5a-496f-955e-99bcf335592b",
   "metadata": {},
   "outputs": [],
   "source": [
    "# Prune graph and merge stop points if not already done during network creation\n",
    "# Note: the current network generation method does this automatically\n",
    "# repeating the following steps does not change the network if the steps were performed during network generation\n",
    "network.prune_graph(1)\n",
    "merge_stops = True\n",
    "merge_stops_speed = 2\n",
    "network.merge_stop_points(max_speed=merge_stops_speed)\n",
    "pruning = 1\n",
    "network.prune_graph(pruning)"
   ]
  },
  {
   "cell_type": "code",
   "execution_count": null,
   "id": "4fc0ec1a-0a68-42f6-ae39-ee6a3fdcbd0f",
   "metadata": {
    "editable": true,
    "slideshow": {
     "slide_type": ""
    },
    "tags": []
   },
   "outputs": [],
   "source": [
    "# load evaluation data\n",
    "eval_file = '202205_points_stavanger_cleaned_meta_full_dualSplit_2'\n",
    "filename = '../data/processed/' + eval_file + '.parquet'\n",
    "gdf = gpd.read_parquet(filename)\n",
    "crs = 32632  # Coordinate reference system\n",
    "gdf.to_crs(crs, inplace=True)  # Transformation\n",
    "all_trajectories = mpd.TrajectoryCollection(gdf, traj_id_col='mmsi', obj_id_col='mmsi')\n",
    "\n",
    "# select evaluation data\n",
    "selection_start = 0\n",
    "selection_end = len(all_trajectories)\n",
    "selection_step = 20\n",
    "selection = np.arange(selection_start, selection_end, selection_step)\n",
    "n_trajectories = len(selection)\n",
    "mmsis = gdf.mmsi.unique()[selection]\n",
    "trajectories = all_trajectories.filter('mmsi', mmsis.tolist())"
   ]
  },
  {
   "cell_type": "code",
   "execution_count": null,
   "id": "a7f9927b-ce25-48e4-8182-37ab8ae0b801",
   "metadata": {},
   "outputs": [],
   "source": [
    "# evaluate network with Trajectory2Path\n",
    "all_paths, all_evaluation_results, summary, fig = network.evaluate_graph(trajectories, k_max=500, l_max=5, algorithm='standard')\n",
    "\n",
    "# evaluate network with Leuven Map Matching algorithm\n",
    "# all_paths_MM, all_evaluation_results_MM, summary_MM, fig_MM = network.evaluate_graph(trajectories, algorithm='leuven')"
   ]
  },
  {
   "cell_type": "code",
   "execution_count": null,
   "id": "d5f45ef0-4daf-4cee-8cfc-83286c1a6518",
   "metadata": {
    "editable": true,
    "slideshow": {
     "slide_type": ""
    },
    "tags": []
   },
   "outputs": [],
   "source": [
    "# Generate plot\n",
    "map = network.map_graph(pruned=True, location='tromso', line_weight=1, min_passages=3, opacity=0.3)\n",
    "\n",
    "# define trajectory to plot\n",
    "k = 3\n",
    "mmsi = mmsis[k]\n",
    "trajectory = trajectories.get_trajectory(mmsi)\n",
    "path_t2p = all_paths[all_paths.mmsi == mmsi]\n",
    "#path_leuven = all_paths_MM[all_paths_MM.mmsi == mmsi]\n",
    "\n",
    "# plot trajectory and path\n",
    "map = trajectory.to_line_gdf()[['geometry', 'mmsi']].explore(m=map, style_kwds={'weight':4, 'color':'black'}, \n",
    "                                                               name='trajectory')\n",
    "map = path_t2p.explore(m=map, style_kwds={'weight':4, 'color':'cyan'}, name='T2P')\n",
    "#map = path_leuven.explore(m=map, style_kwds={'weight':4, 'color':'orange'}, name='leuven')\n",
    "folium.LayerControl().add_to(map)\n",
    "\n",
    "map\n",
    "#map.save('compare_leuven_T2P.html')"
   ]
  },
  {
   "cell_type": "code",
   "execution_count": null,
   "id": "311b33eb-d853-42f3-8172-6207a07374bd",
   "metadata": {},
   "outputs": [],
   "source": [
    "\"\"\"\n",
    "# Save experiment results with neptune\n",
    "import neptune\n",
    "\n",
    "\n",
    "run = neptune.init_run(\n",
    "    project=\"project_name\",\n",
    "    api_token=\"token\",\n",
    ")  # your credentials\n",
    "\n",
    "run[\"model\"]=model\n",
    "run[\"algorithm\"]='V7.0(SSPD)'\n",
    "run[\"n_points\"]=len(network.gdf)\n",
    "run[\"n_nodes\"]=network.G_pruned.number_of_nodes()\n",
    "run[\"n_edges\"]=network.G_pruned.number_of_edges()\n",
    "run[\"n_isolated\"]=nx.number_of_isolates(network.G_pruned)\n",
    "run[\"merge_stops\"] = merge_stops\n",
    "run[\"merge_stops_speed\"] = merge_stops_speed\n",
    "run[\"pruning\"] = pruning\n",
    "\n",
    "params = network.hyperparameters\n",
    "params['clustering_metric_V_coord'] = params['clustering_metric_V'][0][0]\n",
    "params['clustering_metric_V_cog'] = params['clustering_metric_V'][2][2]\n",
    "params['clustering_metric_V_speed'] = params['clustering_metric_V'][4][4]\n",
    "run[\"parameters\"] = params\n",
    "\n",
    "run[\"test_data\"] = {'eval_file':eval_file,\n",
    "                    'selection_start':selection_start,\n",
    "                    'selection_end':selection_end,\n",
    "                    'selection_step':selection_step,\n",
    "                    'n_trajectories':n_trajectories}\n",
    "\n",
    "run[\"plot\"].upload(fig)\n",
    "run[\"summary\"] = summary\n",
    "\n",
    "run.stop()\n",
    "\"\"\""
   ]
  },
  {
   "cell_type": "code",
   "execution_count": null,
   "id": "ca884dfb-f9eb-44a4-a3f5-c4e3154ab2bc",
   "metadata": {},
   "outputs": [],
   "source": [
    "#### Enrich evaluation results with ship metadata\n",
    "# prepare evaluation results for merge with ship metadata\n",
    "all_evaluation_results.rename(columns={'mmsi':'id'}, inplace=True)\n",
    "all_evaluation_results['mmsi'] = all_evaluation_results['id'].str[:9].astype(int)"
   ]
  },
  {
   "cell_type": "code",
   "execution_count": null,
   "id": "0375a9db-ae54-43bf-ab4f-ad5981675943",
   "metadata": {},
   "outputs": [],
   "source": [
    "# add ship metadata\n",
    "sys.path.append('../src/datawrangling')\n",
    "from make_trajectories_from_AIS import add_ship_metadata\n",
    "meta_file = '../data/external/seilas-2022.csv'\n",
    "all_evaluation_results_meta = add_ship_metadata(meta_file, all_evaluation_results)"
   ]
  },
  {
   "cell_type": "code",
   "execution_count": null,
   "id": "81143c41-5e46-4b55-880e-8724df48b096",
   "metadata": {},
   "outputs": [],
   "source": [
    "# plot failure rate and MAE by shipgroup\n",
    "# MAE\n",
    "mae_by_group = all_evaluation_results_meta.groupby(['skipsgruppe'])['SSPD'].mean()\n",
    "# Failure rate\n",
    "success_by_group = all_evaluation_results_meta[all_evaluation_results_meta.message=='success'].groupby(['skipsgruppe'])['message'].count()\n",
    "msg_by_group = all_evaluation_results_meta.groupby(['skipsgruppe'])['message'].count()\n",
    "failure_by_group = 1 - success_by_group / msg_by_group\n",
    "# X-axis\n",
    "x = mae_by_group.index\n",
    "\n",
    "# prepare plot and axes\n",
    "fig, ax1 = plt.subplots(figsize=[8, 5])\n",
    "ax1.set_xlabel('ship category')\n",
    "ax1.set_ylabel('Mean SSPD (m)', color='red')\n",
    "ax1.tick_params(axis='y', labelcolor='red')\n",
    "ax2 = ax1.twinx()\n",
    "ax2.set_ylabel('failure rate', color='blue') \n",
    "ax2.tick_params(axis='y', labelcolor='blue')\n",
    "\n",
    "y1 = mae_by_group.values\n",
    "y2 = failure_by_group.values\n",
    "\n",
    "# Set the limits for the y-axes\n",
    "max_y1_value = max(y1)\n",
    "max_y2_value = max(y2)\n",
    "ax1.set_ylim(0, max_y1_value+50)\n",
    "ax2.set_ylim(0, max_y2_value+0.05)\n",
    "\n",
    "# plot\n",
    "ax1.scatter(x, y1, color='red')\n",
    "ax2.scatter(x, y2, color='blue')\n",
    "\n",
    "plt.title('Network performance depending on ship category')\n",
    "fig.tight_layout()  # otherwise the right y-label is slightly clipped\n",
    "#plt.savefig('min_samples.png')\n",
    "fig.show()"
   ]
  },
  {
   "cell_type": "code",
   "execution_count": null,
   "id": "f0c624d9-7eba-4e1f-902f-1b454279fa0b",
   "metadata": {},
   "outputs": [],
   "source": [
    "# Visualize MAE and failure rate per ship category in one plot\n",
    "x = failure_by_group.values\n",
    "y = mae_by_group.values\n",
    "categories = mae_by_group.index\n",
    "\n",
    "fig, ax = plt.subplots(figsize=[5, 4])\n",
    "\n",
    "# Scatter plot with different colors and markers for each category\n",
    "scatter = ax.scatter(x, y, c=range(len(categories)), cmap='viridis', marker='o', s=100)\n",
    "\n",
    "# Annotate each point with the ship category name\n",
    "for i, category in enumerate(categories):\n",
    "    ax.annotate(category, (x[i], y[i]), textcoords=\"offset points\", xytext=(5,5), ha='left')\n",
    "\n",
    "max_x_value = max(x)\n",
    "max_y_value = max(y)\n",
    "ax.set_xlim(0.1, max_x_value+0.05)\n",
    "ax.set_ylim(0, max_y_value+50)\n",
    "\n",
    "ax.set_xlabel('failure rate')\n",
    "ax.set_ylabel('Mean SSPD (m)')\n",
    "plt.title('Network performance depending on ship category')\n",
    "plt.savefig('Network_performance_by_ship_category.pdf')\n",
    "\n",
    "plt.show()"
   ]
  },
  {
   "cell_type": "code",
   "execution_count": null,
   "id": "907bb609-7ecd-4d04-8ca7-4c24450b413b",
   "metadata": {},
   "outputs": [],
   "source": [
    "# Plot SSPD against the trajectory length (only when mapping was successful)\n",
    "x = []\n",
    "y = []\n",
    "z = []\n",
    "for mmsi in mmsis:\n",
    "    trajectory = trajectories.get_trajectory(mmsi)\n",
    "    x.append(trajectory.get_length())\n",
    "    sspd = all_evaluation_results_meta[all_evaluation_results_meta.id==mmsi]['SSPD'].item()\n",
    "    y.append(sspd)\n",
    "    flag = all_evaluation_results_meta[all_evaluation_results_meta.id==mmsi]['message'].item()\n",
    "    if flag == 'success':\n",
    "        z.append(True)\n",
    "    else:\n",
    "        z.append(False)\n",
    "x = np.array(x)\n",
    "y = np.array(y)\n",
    "z = np.array(z)\n",
    "plt.scatter(x[z], y[z])"
   ]
  },
  {
   "cell_type": "code",
   "execution_count": null,
   "id": "20801c53-75d2-400f-a6fd-6fb69ec128df",
   "metadata": {},
   "outputs": [],
   "source": [
    "# Plot the distribution of MAE (only for successfully mapped trajectories)\n",
    "success_mask = all_evaluation_results['message']=='success'\n",
    "success_eval_results = all_evaluation_results[success_mask]\n",
    "distances = success_eval_results['distances'].tolist()\n",
    "distances = [item for sublist in distances for item in sublist]\n",
    "\n",
    "# Plot results\n",
    "fig, axes = plt.subplots(1, 2, figsize=(12, 6))\n",
    "axes[0].hist(distances, bins=np.arange(0, 1000, 20).tolist(), orientation='horizontal')\n",
    "axes[0].set_title('Distribution of distance')\n",
    "axes[0].set_ylabel('Distance (m)')\n",
    "    \n",
    "axes[1].boxplot(distances)\n",
    "axes[1].set_title('Distance between all trajectories \\n and edge sequences \\n (outlier cutoff at 2000m)')\n",
    "axes[1].set_ylabel('Distance (m)')\n",
    "axes[1].set_ylim([0, 1000])\n",
    "\n",
    "#plt.savefig('distance_distribution_oslo.pdf')\n",
    "\n",
    "len(distances)"
   ]
  }
 ],
 "metadata": {
  "kernelspec": {
   "display_name": "Python 3 (ipykernel)",
   "language": "python",
   "name": "python3"
  },
  "language_info": {
   "codemirror_mode": {
    "name": "ipython",
    "version": 3
   },
   "file_extension": ".py",
   "mimetype": "text/x-python",
   "name": "python",
   "nbconvert_exporter": "python",
   "pygments_lexer": "ipython3",
   "version": "3.11.5"
  }
 },
 "nbformat": 4,
 "nbformat_minor": 5
}
