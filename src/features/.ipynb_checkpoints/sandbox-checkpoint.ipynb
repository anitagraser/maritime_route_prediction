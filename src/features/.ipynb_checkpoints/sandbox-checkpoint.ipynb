{
 "cells": [
  {
   "cell_type": "code",
   "execution_count": 1,
   "id": "36a9edd2-aeec-4d61-b34d-13725af4b95c",
   "metadata": {},
   "outputs": [],
   "source": [
    "import sparse\n",
    "import numpy as np\n",
    "cross_dists = sparse.DOK(shape=(2, 2, 2, 3), dtype=np.float64)"
   ]
  },
  {
   "cell_type": "code",
   "execution_count": 2,
   "id": "8b858a16-3f9c-411d-97de-4e8d6b31118a",
   "metadata": {},
   "outputs": [],
   "source": [
    "cross_dists[0, 0, 0, 0] = 1\n",
    "cross_dists[0, 0, 0, 1] = 2\n",
    "cross_dists[0, 0, 0, 2] = 2\n",
    "cross_dists[0, 0, 1, 0] = -1\n",
    "cross_dists[0, 0, 1, 1] = -1\n",
    "cross_dists[0, 0, 1, 2] = -4"
   ]
  },
  {
   "cell_type": "code",
   "execution_count": 3,
   "id": "c51820f8-3506-464f-b866-331d071a7bf3",
   "metadata": {},
   "outputs": [],
   "source": [
    "cross_dists_u_v = cross_dists[0, 0, :, :].todense()"
   ]
  },
  {
   "cell_type": "code",
   "execution_count": 4,
   "id": "a6ce13f8-3c30-484d-8ec9-f90ecb4bf384",
   "metadata": {},
   "outputs": [
    {
     "data": {
      "text/plain": [
       "array([ 1.,  2.,  2., -1., -1., -4.])"
      ]
     },
     "execution_count": 4,
     "metadata": {},
     "output_type": "execute_result"
    }
   ],
   "source": [
    "cross_dists_u_v.flatten()"
   ]
  },
  {
   "cell_type": "code",
   "execution_count": 9,
   "id": "7a36ac75-cce6-48e6-ad50-eae1c57ffa65",
   "metadata": {},
   "outputs": [],
   "source": [
    "cross_dist_distribution = cross_dists_u_v[np.abs(cross_dists_u_v) > 0]"
   ]
  },
  {
   "cell_type": "code",
   "execution_count": 10,
   "id": "2c3666dd-2e52-46b1-accf-ddc463439bc6",
   "metadata": {},
   "outputs": [],
   "source": [
    "#cross_dist_std = np.sqrt(np.sum(cross_dist_distribution**2)/len(cross_dist_distribution))  # assuming normal distribution with mean 0\n",
    "cross_dist_mean = np.mean(cross_dist_distribution)\n",
    "#loc, scale = halfnorm.fit(cross_dist_distribution, floc=0)\n",
    "#cross_dists_mean = halfnorm.mean(loc=0, scale=scale) \n",
    "#cross_dists_std = halfnorm.std(loc=0, scale=scale)\n",
    "#cross_dist_95_perc_confidence = 1.96*cross_dist_std  # assuming normal distribution with mean 0"
   ]
  },
  {
   "cell_type": "code",
   "execution_count": 13,
   "id": "276510c1-61b7-4e60-a30d-b80262f79016",
   "metadata": {},
   "outputs": [
    {
     "data": {
      "text/plain": [
       "-0.16666666666666666"
      ]
     },
     "execution_count": 13,
     "metadata": {},
     "output_type": "execute_result"
    }
   ],
   "source": [
    "cross_dist_mean"
   ]
  },
  {
   "cell_type": "code",
   "execution_count": 14,
   "id": "26ecdaf7-4f81-4642-b324-9f196d84f8a1",
   "metadata": {},
   "outputs": [
    {
     "name": "stdout",
     "output_type": "stream",
     "text": [
      "0\n",
      "1\n",
      "2\n",
      "3\n",
      "4\n",
      "5\n",
      "6\n",
      "7\n",
      "8\n",
      "9\n"
     ]
    }
   ],
   "source": [
    "for k in range(10):\n",
    "    print(k)"
   ]
  },
  {
   "cell_type": "code",
   "execution_count": 27,
   "id": "7351bc03-793d-4e80-99d5-1793fc0e2ed2",
   "metadata": {},
   "outputs": [],
   "source": [
    "from shapely import LineString\n",
    "n_points = 5\n",
    "line = LineString([(0, 0), (0, 10)])\n",
    "\n",
    "if n_points == -1:\n",
    "    interval = 100\n",
    "else:\n",
    "    interval = int(line.length/n_points)\n",
    "points = [line.interpolate(dist) for dist in range(0, int(line.length), interval)]"
   ]
  },
  {
   "cell_type": "code",
   "execution_count": 28,
   "id": "02bd41c7-a510-4879-b8f0-22b30fb4445f",
   "metadata": {},
   "outputs": [
    {
     "data": {
      "text/plain": [
       "[<POINT (0 0)>,\n",
       " <POINT (0 2)>,\n",
       " <POINT (0 4)>,\n",
       " <POINT (0 6)>,\n",
       " <POINT (0 8)>,\n",
       " <POINT (0 10)>]"
      ]
     },
     "execution_count": 28,
     "metadata": {},
     "output_type": "execute_result"
    }
   ],
   "source": [
    "points"
   ]
  },
  {
   "cell_type": "code",
   "execution_count": null,
   "id": "86021134-f572-4df4-8ad5-a2634a726216",
   "metadata": {},
   "outputs": [],
   "source": []
  }
 ],
 "metadata": {
  "kernelspec": {
   "display_name": "Python 3 (ipykernel)",
   "language": "python",
   "name": "python3"
  },
  "language_info": {
   "codemirror_mode": {
    "name": "ipython",
    "version": 3
   },
   "file_extension": ".py",
   "mimetype": "text/x-python",
   "name": "python",
   "nbconvert_exporter": "python",
   "pygments_lexer": "ipython3",
   "version": "3.11.5"
  }
 },
 "nbformat": 4,
 "nbformat_minor": 5
}
