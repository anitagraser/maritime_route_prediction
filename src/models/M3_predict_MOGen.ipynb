{
 "cells": [
  {
   "cell_type": "code",
   "execution_count": 1,
   "id": "49927bf2-f29d-4992-957c-3d46422d8479",
   "metadata": {},
   "outputs": [
    {
     "data": {
      "text/html": [
       "\n",
       "    <script charset=\"utf-8\">\n",
       "    // Load via requireJS if available (jupyter notebook environment)\n",
       "    try {\n",
       "    require.config({\n",
       "    paths: {\n",
       "    d3: \"https://d3js.org/d3.v5.min.js\".replace(\".js\", \"\")\n",
       "    }\n",
       "    });\n",
       "    console.log(\"OKAY: requireJS was detected\");\n",
       "    }\n",
       "    catch(err){\n",
       "    console.log(err);\n",
       "    console.log(\"ERROR: NO requireJS was detected\");\n",
       "    };\n",
       "    require(['d3'], function(d3){\n",
       "    console.log(\"OKAY: d3js was detected\");\n",
       "    });\n",
       "    </script>\n",
       "    "
      ],
      "text/plain": [
       "<IPython.core.display.HTML object>"
      ]
     },
     "metadata": {},
     "output_type": "display_data"
    },
    {
     "name": "stdout",
     "output_type": "stream",
     "text": [
      "Geopandas has version 0.13.2\n",
      "Movingpandas has version 0.17.1\n"
     ]
    }
   ],
   "source": [
    "import pathpy as pp\n",
    "import pandas as pd\n",
    "import geopandas as gpd\n",
    "import movingpandas as mpd\n",
    "import numpy as np\n",
    "from datetime import timedelta, datetime\n",
    "from ast import literal_eval\n",
    "from shapely.geometry import LineString, Point\n",
    "import networkx as nx\n",
    "import folium\n",
    "import time\n",
    "import warnings\n",
    "import pickle\n",
    "import sys\n",
    "\n",
    "warnings.filterwarnings('ignore')\n",
    "print(\"Geopandas has version {}\".format(gpd.__version__))\n",
    "print(\"Movingpandas has version {}\".format(mpd.__version__))\n",
    "\n",
    "# add paths for modules\n",
    "sys.path.append('../visualization')\n",
    "sys.path.append('../features')\n",
    "# import modules\n",
    "import visualize\n",
    "import geometry_utils\n",
    "from maritime_traffic_network import MaritimeTrafficNetwork"
   ]
  },
  {
   "cell_type": "code",
   "execution_count": 2,
   "id": "c725d2f9-53a1-4ab2-b113-68f38ee0d416",
   "metadata": {},
   "outputs": [
    {
     "data": {
      "text/plain": [
       "{'Data': '../../data/processed/202204_points_tromso_cleaned_meta_full_dualSplit_2.parquet',\n",
       " 'DP_tolerance': 10,\n",
       " 'clustering_method': 'HDBSCAN',\n",
       " 'clustering_metric': 'mahalanobis',\n",
       " 'clustering_min_samples': 13,\n",
       " 'clustering_min_cluster_size': 13,\n",
       " 'clustering_eps': 0,\n",
       " 'clustering_metric_V': array([[1.  , 0.  , 0.  , 0.  , 0.  ],\n",
       "        [0.  , 1.  , 0.  , 0.  , 0.  ],\n",
       "        [0.  , 0.  , 0.01, 0.  , 0.  ],\n",
       "        [0.  , 0.  , 0.  , 0.01, 0.  ],\n",
       "        [0.  , 0.  , 0.  , 0.  , 1.  ]]),\n",
       " 'graph_generation_max_distance': 20,\n",
       " 'graph_generation_max_angle': 45}"
      ]
     },
     "execution_count": 2,
     "metadata": {},
     "output_type": "execute_result"
    }
   ],
   "source": [
    "# Load a model from pickle\n",
    "datasize = 'full'\n",
    "location = 'tromso'\n",
    "model_date = '202204'\n",
    "train_date = '202204'\n",
    "test_date = '202204'\n",
    "DP_tol = 10\n",
    "min_samples = 13\n",
    "\n",
    "model_name = model_date+'_waypoints_DP'+str(DP_tol)+'_HDBSCAN'+str(min_samples)+'_'+location+'_'+datasize+'_UTM'\n",
    "model_path = '../../models/networks/best_networks/' + model_name + '.obj'\n",
    "fileObj = open(model_path, 'rb')\n",
    "network = pickle.load(fileObj)\n",
    "fileObj.close()\n",
    "network.hyperparameters"
   ]
  },
  {
   "cell_type": "code",
   "execution_count": 3,
   "id": "45524501-d7ba-46d1-b6eb-1889e4f8a838",
   "metadata": {},
   "outputs": [],
   "source": [
    "# Load training data from file\n",
    "filename = model_name+'_'+train_date+'training_data.csv'\n",
    "training_data = pd.read_csv('../../data/train_test/'+filename)\n",
    "training_data['path'] = training_data['path'].apply(literal_eval)\n",
    "training_data = gpd.GeoDataFrame(training_data, geometry=gpd.GeoSeries.from_wkt(training_data['geometry']), crs='32632')\n",
    "training_data = training_data[training_data['message']=='success']\n",
    "# extract paths from the training data\n",
    "training_paths = training_data['path'].tolist()"
   ]
  },
  {
   "cell_type": "code",
   "execution_count": 4,
   "id": "8e85d0b0-ea27-462b-8aa6-b2b4f8dd2695",
   "metadata": {},
   "outputs": [
    {
     "name": "stdout",
     "output_type": "stream",
     "text": [
      "Uid:\t\t0x157170610\n",
      "Type:\t\tPath\n",
      "Directed:\tTrue\n",
      "Nodes:\t\t{25: Empty 25, 426: Empty 426, 464: Empty 464, 425: Empty 425, 33: Empty 33, 434: Empty 434, 34: Empty 34, 313: Empty 313, 3: Empty 3, 281: Empty 281, 282: Empty 282, 285: Empty 285, 286: Empty 286, 283: Empty 283, 284: Empty 284, 287: Empty 287, 289: Empty 289, 290: Empty 290, 280: Empty 280, 277: Empty 277, 271: Empty 271, 496: Empty 496, 493: Empty 493, 314: Empty 314, 515: Empty 515, 520: Empty 520, 535: Empty 535, 537: Empty 537, 539: Empty 539, 540: Empty 540, 538: Empty 538, 527: Empty 527, 529: Empty 529, 521: Empty 521, 514: Empty 514, 513: Empty 513, 511: Empty 511, 512: Empty 512, 508: Empty 508, 477: Empty 477, 441: Empty 441, 430: Empty 430, 399: Empty 399, 368: Empty 368, 377: Empty 377, 387: Empty 387, 396: Empty 396, 397: Empty 397, 400: Empty 400, 401: Empty 401, 402: Empty 402, 386: Empty 386, 303: Empty 303}\n",
      "Relations:\t(25, 426, 464, 425, 33, 434, 34, 313, 3, 281, 282, 285, 286, 283, 284, 287, 289, 290, 280, 277, 271, 496, 493, 314, 515, 520, 535, 537, 539, 540, 538, 527, 529, 521, 514, 513, 511, 512, 508, 477, 441, 430, 399, 368, 377, 387, 396, 397, 400, 401, 402, 386, 303)\n",
      "\n"
     ]
    }
   ],
   "source": [
    "# create a pathpy path object for demonstration\n",
    "raw_path = training_paths[0]\n",
    "path = pp.Path(*raw_path)\n",
    "print(path)"
   ]
  },
  {
   "cell_type": "code",
   "execution_count": 5,
   "id": "af614f70-8157-4429-9d46-982f05ce6b56",
   "metadata": {},
   "outputs": [],
   "source": [
    "# create a pathpy path collection and add all training paths to it\n",
    "pc = pp.PathCollection()\n",
    "for raw_path in training_paths:\n",
    "    str_path = [str(i) for i in raw_path]  # convert node names to strings\n",
    "    path = pp.Path(*str_path)\n",
    "    pc.add(path)"
   ]
  },
  {
   "cell_type": "code",
   "execution_count": 6,
   "id": "6007fafa-d4c1-4f5d-bf01-eab66b7297fe",
   "metadata": {},
   "outputs": [],
   "source": [
    "# instantiate MOGen\n",
    "mogen = pp.MOGen(paths=pc, max_order=5, model_selection=False)"
   ]
  },
  {
   "cell_type": "code",
   "execution_count": 7,
   "id": "f0e39b4d-d88e-4aab-8a38-b3d78601f022",
   "metadata": {},
   "outputs": [
    {
     "name": "stderr",
     "output_type": "stream",
     "text": [
      "order:  5; T     (8 prcs): 100%|████████████████████████████████████████████████████████████████████| 2/2 [00:00<00:00,  2.04it/s]\n",
      "order:  5; log_L (8 prcs): 100%|████████████████████████████████████████████████████████████████████| 2/2 [00:00<00:00,  2.19it/s]"
     ]
    },
    {
     "name": "stdout",
     "output_type": "stream",
     "text": [
      "Selected optimal maximum order K=5 from candidates.\n",
      "======================================================\n",
      "MOGen model\n",
      "- Model Selection ------------------------------------\n",
      " K  |   nodes     edges   |   log L    dof         AIC\n",
      "\u001b[1m 5 \u001b[0m | \u001b[1m  7592      38029  \u001b[0m | \u001b[1m-10268.27 273878 568292.54\u001b[0m\n",
      "======================================================\n"
     ]
    },
    {
     "name": "stderr",
     "output_type": "stream",
     "text": [
      "\n"
     ]
    },
    {
     "data": {
      "text/plain": [
       "======================================================\n",
       "MOGen model\n",
       "- Model Selection ------------------------------------\n",
       " K  |   nodes     edges   |   log L    dof         AIC\n",
       "\u001b[1m 5 \u001b[0m | \u001b[1m  7592      38029  \u001b[0m | \u001b[1m-10268.27 273878 568292.54\u001b[0m\n",
       "======================================================"
      ]
     },
     "execution_count": 7,
     "metadata": {},
     "output_type": "execute_result"
    }
   ],
   "source": [
    "# fit model\n",
    "mogen.fit()"
   ]
  },
  {
   "cell_type": "code",
   "execution_count": 8,
   "id": "d3caae82-daf6-4821-97c8-dbda55803a14",
   "metadata": {},
   "outputs": [
    {
     "data": {
      "image/png": "[encoded data removed]",
      "text/plain": [
       "<Figure size 2100x600 with 3 Axes>"
      ]
     },
     "metadata": {},
     "output_type": "display_data"
    }
   ],
   "source": [
    "mogen.plot()"
   ]
  },
  {
   "cell_type": "code",
   "execution_count": 9,
   "id": "dfda5e25-b330-4345-a01c-f4070dba5d3b",
   "metadata": {},
   "outputs": [
    {
     "data": {
      "text/plain": [
       "[130,\n",
       " 129,\n",
       " 128,\n",
       " 4,\n",
       " 349,\n",
       " 323,\n",
       " 388,\n",
       " 393,\n",
       " 389,\n",
       " 414,\n",
       " 413,\n",
       " 412,\n",
       " 411,\n",
       " 410,\n",
       " 417,\n",
       " 419,\n",
       " 418,\n",
       " 421,\n",
       " 420,\n",
       " 446,\n",
       " 455,\n",
       " 459,\n",
       " 483,\n",
       " 482,\n",
       " 481,\n",
       " 489,\n",
       " 499,\n",
       " 501,\n",
       " 500,\n",
       " 519,\n",
       " 523,\n",
       " 522,\n",
       " 524,\n",
       " 533,\n",
       " 532,\n",
       " 531,\n",
       " 530,\n",
       " 526,\n",
       " 525,\n",
       " 516,\n",
       " 494,\n",
       " 452,\n",
       " 454,\n",
       " 443,\n",
       " 431,\n",
       " 168,\n",
       " 109,\n",
       " 5,\n",
       " 300,\n",
       " 306,\n",
       " 307,\n",
       " 304,\n",
       " 305,\n",
       " 2,\n",
       " 269,\n",
       " 268,\n",
       " 267,\n",
       " 270,\n",
       " 273,\n",
       " 272,\n",
       " 264,\n",
       " 263,\n",
       " 3,\n",
       " 348,\n",
       " 356,\n",
       " 363,\n",
       " 362,\n",
       " 333,\n",
       " 332,\n",
       " 328,\n",
       " 322,\n",
       " 344]"
      ]
     },
     "execution_count": 9,
     "metadata": {},
     "output_type": "execute_result"
    }
   ],
   "source": [
    "training_paths[1]"
   ]
  },
  {
   "cell_type": "code",
   "execution_count": 10,
   "id": "e54d1f6d-9ad4-43f0-abc8-e2532ce26cfe",
   "metadata": {},
   "outputs": [
    {
     "name": "stderr",
     "output_type": "stream",
     "text": [
      "100%|███████████████████████████████████████████████████████████████████████████████████████████████| 1/1 [00:16<00:00, 16.10s/it]\n"
     ]
    }
   ],
   "source": [
    "# make predictions for a start node\n",
    "predictions = mogen.predict(no_of_paths=1000, max_order=5, start_node=('130', '129','128', '4', '349',))"
   ]
  },
  {
   "cell_type": "code",
   "execution_count": 11,
   "id": "f54d2e2d-1943-41df-b9f3-b42acc0d656a",
   "metadata": {},
   "outputs": [
    {
     "name": "stdout",
     "output_type": "stream",
     "text": [
      "[130, 129, 128, 4, 349, 323, 309, 315, 519, 523, 522, 524] 61\n",
      "[130, 129, 128, 4, 349, 323, 388, 393, 389, 414, 413, 410, 419, 418, 421, 420, 446] 4\n",
      "[130, 129, 128, 4, 349, 323, 388, 393, 389, 414, 413, 412, 411, 410, 417, 419, 418, 421, 420, 446, 455, 459, 483, 482, 481, 489, 499, 501, 500, 519, 523, 522, 524, 533, 532, 531, 530, 526, 525, 404, 405, 176, 151, 152, 141, 142] 3\n",
      "[130, 129, 128, 4, 349, 323, 388, 393, 410, 419, 418, 421, 420, 446, 455, 459, 483, 482, 481, 489, 499, 501, 500, 519, 523, 522, 524, 533, 532, 531, 530, 526, 525, 404, 405, 176, 151, 152, 141, 142] 3\n",
      "[130, 129, 128, 4, 349, 323, 309, 315, 519, 523, 522, 524, 533, 532, 531, 530, 526, 525, 516, 494, 452, 454, 453, 443, 431] 3\n",
      "[130, 129, 128, 4, 349, 323, 388, 393, 410, 419, 418, 421, 420, 446, 455, 459, 483, 482, 481, 489, 499, 501, 500, 519, 523, 522, 524, 526, 525, 404, 405, 151, 152, 141, 142] 3\n",
      "[130, 129, 128, 4, 349, 323, 309, 315, 519, 523, 522, 524, 533, 532, 531, 530, 526, 525, 516, 404, 405, 176, 151, 152, 141, 142] 2\n",
      "[130, 129, 128, 4, 349, 323, 388, 393, 410, 419, 418, 421, 420, 446] 2\n",
      "[130, 129, 128, 4, 349, 323, 309, 315, 519, 523, 522, 524, 533, 532, 531, 530, 526, 525, 516, 494, 404, 405, 176, 151, 152, 141, 142] 2\n",
      "[130, 129, 128, 4, 349, 323, 388, 393, 410, 419, 418, 421, 420, 446, 455, 459, 483, 482, 481, 489, 499, 501, 500, 531, 526, 525, 516, 494, 404, 405, 176, 151, 152, 141, 142] 2\n",
      "[130, 129, 128, 4, 349, 323, 309, 315, 519, 523, 522, 524, 533, 532, 531, 530, 516, 404, 405, 176, 151, 152, 141, 142] 2\n",
      "[130, 129, 128, 4, 349, 323, 309, 315, 519, 523, 522, 524, 533, 532, 531, 530, 526, 525, 404, 405, 176, 151, 152, 141, 142] 2\n",
      "[130, 129, 128, 4, 349, 323, 309, 315, 519, 523, 522, 524, 533, 532, 531, 530, 526, 525, 516, 404, 405, 176, 151, 141, 142] 2\n",
      "[130, 129, 128, 4, 349, 323, 309, 315, 519, 523, 522, 524, 533, 532, 531, 530, 526] 2\n"
     ]
    }
   ],
   "source": [
    "sorted_predictions = dict(sorted(predictions.items(), key=lambda item: item[1], reverse=True))\n",
    "for key, val in sorted_predictions.items():\n",
    "    if val > 1:\n",
    "        node_sequence = [int(x) for x in key]\n",
    "        print(node_sequence, val)"
   ]
  },
  {
   "cell_type": "code",
   "execution_count": 14,
   "id": "7bb9c5a4-0335-4f38-b5d7-0d61f25c0b14",
   "metadata": {},
   "outputs": [],
   "source": [
    "# plot network and basemap\n",
    "map = network.map_graph(pruned=True, min_passages=3, center=[69, 19])  #tromso: center=[69, 19]\n",
    "\n",
    "# plot prediction and ground truth\n",
    "selection = [1]\n",
    "for i in selection:\n",
    "    mmsi = training_data['mmsi'].iloc[i]\n",
    "    predicted_path = [130, 129, 128, 4, 349, 323, 388, 393, 389, 414, 413, 412, 411, 410, 417, 419, 418, 421, 420, 446, 455, 459, 483, 482, 481, 489, 499, 501, 500, 519, 523, 522, 524, 533, 532, 531, 530, 526, 525, 404, 405, 176, 151, 152, 141, 142]\n",
    "    true_path = training_paths[1]\n",
    "    true_path_line = geometry_utils.get_geo_df(true_path, network.waypoint_connections)\n",
    "    predicted_path_line = geometry_utils.get_geo_df(predicted_path, network.waypoint_connections)\n",
    "    #predicted_path_line['SSPD'] = eval_results['SSPD'].iloc[i]\n",
    "    trajectory = network.trajectories.get_trajectory(mmsi).to_line_gdf()\n",
    "\n",
    "    map = trajectory[['mmsi', 'geometry', 'skipsgruppe', 'length', 'bredde']].explore(m=map, style_kwds={'weight':3, 'color':'black', 'opacity':1},\n",
    "                                                                                      name=f'{mmsi} trajectory')\n",
    "    map = true_path_line.explore(m=map, style_kwds={'weight':3, 'color':'cyan', 'opacity':1},\n",
    "                               name=f'{mmsi} closest path')\n",
    "    map = predicted_path_line.explore(m=map, style_kwds={'weight':3, 'color':'yellow', 'opacity':1},\n",
    "                                   name=f'{mmsi} prediction')\n",
    "    \n",
    "folium.LayerControl().add_to(map)\n",
    "map.save('../../reports/maps/'+model_name+'_predictions_MOGen.html')"
   ]
  },
  {
   "cell_type": "code",
   "execution_count": null,
   "id": "c6622104-691e-4b98-879c-2568e76060ec",
   "metadata": {},
   "outputs": [],
   "source": []
  }
 ],
 "metadata": {
  "kernelspec": {
   "display_name": "Python 3 (ipykernel)",
   "language": "python",
   "name": "python3"
  },
  "language_info": {
   "codemirror_mode": {
    "name": "ipython",
    "version": 3
   },
   "file_extension": ".py",
   "mimetype": "text/x-python",
   "name": "python",
   "nbconvert_exporter": "python",
   "pygments_lexer": "ipython3",
   "version": "3.11.5"
  }
 },
 "nbformat": 4,
 "nbformat_minor": 5
}
