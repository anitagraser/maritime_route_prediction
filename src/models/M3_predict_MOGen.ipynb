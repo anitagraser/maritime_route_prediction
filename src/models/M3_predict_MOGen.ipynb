{
 "cells": [
  {
   "cell_type": "code",
   "execution_count": 1,
   "id": "49927bf2-f29d-4992-957c-3d46422d8479",
   "metadata": {},
   "outputs": [
    {
     "ename": "ModuleNotFoundError",
     "evalue": "No module named 'pathpy'",
     "output_type": "error",
     "traceback": [
      "\u001b[0;31m---------------------------------------------------------------------------\u001b[0m",
      "\u001b[0;31mModuleNotFoundError\u001b[0m                       Traceback (most recent call last)",
      "Cell \u001b[0;32mIn[1], line 1\u001b[0m\n\u001b[0;32m----> 1\u001b[0m \u001b[38;5;28;01mimport\u001b[39;00m \u001b[38;5;21;01mpathpy\u001b[39;00m \u001b[38;5;28;01mas\u001b[39;00m \u001b[38;5;21;01mpp\u001b[39;00m\n\u001b[1;32m      2\u001b[0m \u001b[38;5;28;01mimport\u001b[39;00m \u001b[38;5;21;01mpandas\u001b[39;00m \u001b[38;5;28;01mas\u001b[39;00m \u001b[38;5;21;01mpd\u001b[39;00m\n\u001b[1;32m      3\u001b[0m \u001b[38;5;28;01mimport\u001b[39;00m \u001b[38;5;21;01mgeopandas\u001b[39;00m \u001b[38;5;28;01mas\u001b[39;00m \u001b[38;5;21;01mgpd\u001b[39;00m\n",
      "\u001b[0;31mModuleNotFoundError\u001b[0m: No module named 'pathpy'"
     ]
    }
   ],
   "source": [
    "import pathpy as pp\n",
    "import pandas as pd\n",
    "import geopandas as gpd\n",
    "import movingpandas as mpd\n",
    "import numpy as np\n",
    "from datetime import timedelta, datetime\n",
    "from ast import literal_eval\n",
    "import networkx as nx\n",
    "import folium\n",
    "import time\n",
    "import warnings\n",
    "import pickle\n",
    "import sys\n",
    "\n",
    "warnings.filterwarnings('ignore')\n",
    "print(\"Geopandas has version {}\".format(gpd.__version__))\n",
    "print(\"Movingpandas has version {}\".format(mpd.__version__))\n",
    "\n",
    "# add paths for modules\n",
    "sys.path.append('../visualization')\n",
    "sys.path.append('../features')\n",
    "# import modules\n",
    "import visualize\n",
    "import geometry_utils\n",
    "from maritime_traffic_network import MaritimeTrafficNetwork\n",
    "from MOGen_path_prediction import MOGenPathPrediction\n",
    "import prediction_model_evaluation_metrics as metrics"
   ]
  },
  {
   "cell_type": "code",
   "execution_count": null,
   "id": "c725d2f9-53a1-4ab2-b113-68f38ee0d416",
   "metadata": {},
   "outputs": [],
   "source": [
    "# Load a model from pickle\n",
    "datasize = 'full'\n",
    "location = 'tromso'\n",
    "model_date = '202204'\n",
    "train_date = '202205'\n",
    "test_date = '202206'\n",
    "DP_tol = 10\n",
    "min_samples = 13\n",
    "\n",
    "model_name = model_date+'_waypoints_DP'+str(DP_tol)+'_HDBSCAN'+str(min_samples)+'_'+location+'_'+datasize+'_UTM'\n",
    "model_path = '../../models/networks/best_networks/' + model_name + '.obj'\n",
    "fileObj = open(model_path, 'rb')\n",
    "network = pickle.load(fileObj)\n",
    "fileObj.close()\n",
    "network.hyperparameters"
   ]
  },
  {
   "cell_type": "code",
   "execution_count": null,
   "id": "45524501-d7ba-46d1-b6eb-1889e4f8a838",
   "metadata": {},
   "outputs": [],
   "source": [
    "# Load training data from file\n",
    "filename = model_name+'_'+train_date+'_paths.csv'\n",
    "training_data = pd.read_csv('../../data/paths/'+filename)\n",
    "training_data['path'] = training_data['path'].apply(literal_eval)\n",
    "training_data = gpd.GeoDataFrame(training_data, geometry=gpd.GeoSeries.from_wkt(training_data['geometry']), crs=network.crs)\n",
    "training_data = training_data[training_data['message']=='success']\n",
    "# extract paths from the training data\n",
    "training_paths = training_data['path'].tolist()\n",
    "training_data.info()"
   ]
  },
  {
   "cell_type": "code",
   "execution_count": null,
   "id": "51093ef1-2b6e-4fc7-b8b3-7603a23606e9",
   "metadata": {},
   "outputs": [],
   "source": [
    "# Load test data from file\n",
    "filename = model_name+'_'+test_date+'_paths.csv'\n",
    "test_data = pd.read_csv('../../data/paths/'+filename)\n",
    "test_data['path'] = test_data['path'].apply(literal_eval)\n",
    "test_data = gpd.GeoDataFrame(test_data, geometry=gpd.GeoSeries.from_wkt(test_data['geometry']), crs=network.crs)\n",
    "test_data = test_data[test_data['message']=='success']"
   ]
  },
  {
   "cell_type": "code",
   "execution_count": null,
   "id": "943cffd0-5d7a-400e-a886-f9c3ce98d8df",
   "metadata": {},
   "outputs": [],
   "source": [
    "# Load respective trajectories for evaluation\n",
    "traj_file = test_date+'_points_'+location+'_cleaned_meta_full_dualSplit_2'\n",
    "filename = '../../data/processed/' + traj_file + '.parquet'\n",
    "traj_gdf = gpd.read_parquet(filename)\n",
    "crs = network.crs  # Coordinate reference system\n",
    "traj_gdf.to_crs(crs, inplace=True)  # Transformation\n",
    "test_trajectories = mpd.TrajectoryCollection(traj_gdf, traj_id_col='mmsi', obj_id_col='mmsi')"
   ]
  },
  {
   "cell_type": "code",
   "execution_count": null,
   "id": "af614f70-8157-4429-9d46-982f05ce6b56",
   "metadata": {},
   "outputs": [],
   "source": [
    "# Train MOGen Model\n",
    "mogen = MOGenPathPrediction()\n",
    "mogen.train(training_paths, max_order=3, model_selection=True)"
   ]
  },
  {
   "cell_type": "code",
   "execution_count": null,
   "id": "d3caae82-daf6-4821-97c8-dbda55803a14",
   "metadata": {},
   "outputs": [],
   "source": [
    "mogen.model.plot()"
   ]
  },
  {
   "cell_type": "code",
   "execution_count": null,
   "id": "e54d1f6d-9ad4-43f0-abc8-e2532ce26cfe",
   "metadata": {},
   "outputs": [],
   "source": [
    "# make predictions for a start node\n",
    "#predictions = mogen.predict_paths(start_node=[130], n_paths=100)"
   ]
  },
  {
   "cell_type": "code",
   "execution_count": null,
   "id": "11246e48-e708-4ba5-9d12-49d1cc99d003",
   "metadata": {},
   "outputs": [],
   "source": [
    "example = test_data.iloc[10]\n",
    "mmsi = example.mmsi\n",
    "start_node = [example.path[0]]\n",
    "end_node = example.path[-1]\n",
    "print(start_node)\n",
    "true_path = example.path\n",
    "trajectory = test_trajectories.get_trajectory(mmsi)\n",
    "#start_node = [130]\n",
    "#predictions = mogen.predict_next_nodes(start_node=start_node, G=network.G, n_predictions=5, n_steps=6, n_walks=200)\n",
    "predictions = mogen.predict_path(start_node, end_node, network.G, n_predictions=5, n_walks=2000, verbose=True)"
   ]
  },
  {
   "cell_type": "code",
   "execution_count": null,
   "id": "cd4331be-5fd2-492d-92c7-11dd38812632",
   "metadata": {},
   "outputs": [],
   "source": [
    "selection = range(0, 6, 2)  # len(test_data)\n",
    "test_paths = test_data.iloc[selection]\n",
    "eval_results, fig = metrics.evaluate(mogen, 'path', test_paths, test_trajectories, network, MOGen_n_walks=1000, eval_mode='path')"
   ]
  },
  {
   "cell_type": "code",
   "execution_count": null,
   "id": "f43b156a-11f6-47ee-972b-9c7e72df5c23",
   "metadata": {},
   "outputs": [],
   "source": [
    "nan_mask =eval_results.isna().any(axis=1)\n",
    "eval_results[nan_mask]"
   ]
  },
  {
   "cell_type": "code",
   "execution_count": null,
   "id": "7bb9c5a4-0335-4f38-b5d7-0d61f25c0b14",
   "metadata": {},
   "outputs": [],
   "source": [
    "map = visualize.map_prediction_and_ground_truth(predictions, start_node, trajectory, true_path, network, min_passages=1, opacity=0.2, location=location, end_node=end_node)\n",
    "map.save('../../reports/maps/'+model_name+'_MOGen_predictions.html')\n",
    "print(f'Map saved under {\"../../reports/maps/\"+model_name+\"_MOGen_predictions.html\"}')"
   ]
  },
  {
   "cell_type": "code",
   "execution_count": null,
   "id": "052b9f60-7e3d-46fd-b19b-a5569f54ddcc",
   "metadata": {},
   "outputs": [],
   "source": []
  }
 ],
 "metadata": {
  "kernelspec": {
   "display_name": "Python 3 (ipykernel)",
   "language": "python",
   "name": "python3"
  },
  "language_info": {
   "codemirror_mode": {
    "name": "ipython",
    "version": 3
   },
   "file_extension": ".py",
   "mimetype": "text/x-python",
   "name": "python",
   "nbconvert_exporter": "python",
   "pygments_lexer": "ipython3",
   "version": "3.11.4"
  }
 },
 "nbformat": 4,
 "nbformat_minor": 5
}
