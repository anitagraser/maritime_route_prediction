{
 "cells": [
  {
   "cell_type": "code",
   "execution_count": 1,
   "id": "b14c6672-d0c8-413e-9573-81363ad334b3",
   "metadata": {},
   "outputs": [
    {
     "data": {
      "text/html": [
       "\n",
       "    <script charset=\"utf-8\">\n",
       "    // Load via requireJS if available (jupyter notebook environment)\n",
       "    try {\n",
       "    require.config({\n",
       "    paths: {\n",
       "    d3: \"https://d3js.org/d3.v5.min.js\".replace(\".js\", \"\")\n",
       "    }\n",
       "    });\n",
       "    console.log(\"OKAY: requireJS was detected\");\n",
       "    }\n",
       "    catch(err){\n",
       "    console.log(err);\n",
       "    console.log(\"ERROR: NO requireJS was detected\");\n",
       "    };\n",
       "    require(['d3'], function(d3){\n",
       "    console.log(\"OKAY: d3js was detected\");\n",
       "    });\n",
       "    </script>\n",
       "    "
      ],
      "text/plain": [
       "<IPython.core.display.HTML object>"
      ]
     },
     "metadata": {},
     "output_type": "display_data"
    }
   ],
   "source": [
    "import warnings\n",
    "import pickle\n",
    "import sys\n",
    "import numpy as np\n",
    "warnings.filterwarnings('ignore')\n",
    "\n",
    "# add paths for modules\n",
    "sys.path.append('../visualization')\n",
    "sys.path.append('../features')\n",
    "sys.path.append('../datawrangling')\n",
    "\n",
    "# import modules\n",
    "import visualize\n",
    "import geometry_utils\n",
    "import dataloader_paths, dataloader_geo\n",
    "\n",
    "from maritime_traffic_network import MaritimeTrafficNetwork\n",
    "from random_path_prediction import RandomWalkPathPrediction\n",
    "import prediction_model_evaluation_metrics as metrics"
   ]
  },
  {
   "cell_type": "code",
   "execution_count": 2,
   "id": "0b54b5d5-a3ff-4add-a52f-105d513d0041",
   "metadata": {},
   "outputs": [
    {
     "data": {
      "text/plain": [
       "{'Data': '../../data/processed/202204_points_stavanger_cleaned_meta_full_dualSplit_2.parquet',\n",
       " 'DP_tolerance': 30,\n",
       " 'clustering_method': 'HDBSCAN',\n",
       " 'clustering_metric': 'mahalanobis',\n",
       " 'clustering_min_samples': 25,\n",
       " 'clustering_min_cluster_size': 25,\n",
       " 'clustering_eps': 0,\n",
       " 'clustering_metric_V': array([[1.  , 0.  , 0.  , 0.  , 0.  ],\n",
       "        [0.  , 1.  , 0.  , 0.  , 0.  ],\n",
       "        [0.  , 0.  , 0.01, 0.  , 0.  ],\n",
       "        [0.  , 0.  , 0.  , 0.01, 0.  ],\n",
       "        [0.  , 0.  , 0.  , 0.  , 1.  ]]),\n",
       " 'graph_generation_max_distance': 20,\n",
       " 'graph_generation_max_angle': 45,\n",
       " 'merge_stops_speed': 2}"
      ]
     },
     "execution_count": 2,
     "metadata": {},
     "output_type": "execute_result"
    }
   ],
   "source": [
    "# Load a model from pickle\n",
    "datasize = 'full'\n",
    "location = 'stavanger'\n",
    "model_date = '202204'\n",
    "train_dates = ['202205']\n",
    "test_dates = ['202206']\n",
    "DP_tol = 30\n",
    "min_samples = 25\n",
    "\n",
    "network_name = model_date+'_waypoints_DP'+str(DP_tol)+'_HDBSCAN'+str(min_samples)+'_'+location+'_'+datasize+'_UTM'\n",
    "network_path = '../../models/networks/best_networks/' + network_name + '.obj'\n",
    "fileObj = open(network_path, 'rb')\n",
    "network = pickle.load(fileObj)\n",
    "fileObj.close()\n",
    "network.hyperparameters"
   ]
  },
  {
   "cell_type": "code",
   "execution_count": 3,
   "id": "a260a674-c712-4a88-9f9e-173d2050a7a9",
   "metadata": {},
   "outputs": [],
   "source": [
    "# Load training data from file\n",
    "path_prefix = '../../data/paths/'\n",
    "training_paths = dataloader_paths.load_path_training_data(path_prefix, network_name, train_dates, data_version='')"
   ]
  },
  {
   "cell_type": "code",
   "execution_count": 4,
   "id": "b0a5f69f-2e72-40f2-bab7-35c8558ea22e",
   "metadata": {},
   "outputs": [],
   "source": [
    "# train model\n",
    "model = RandomWalkPathPrediction()\n",
    "model.train(network.G_pruned, training_paths)"
   ]
  },
  {
   "cell_type": "code",
   "execution_count": 5,
   "id": "c36e9f82-0a4f-4a3a-8bbf-1e4ccacf2dbc",
   "metadata": {},
   "outputs": [
    {
     "name": "stdout",
     "output_type": "stream",
     "text": [
      "4.972748815165877\n"
     ]
    }
   ],
   "source": [
    "out_degrees = dict(network.G.out_degree())\n",
    "# Calculate the average out-degree\n",
    "average_out_degree = sum(out_degrees.values()) / len(out_degrees)\n",
    "print(average_out_degree)"
   ]
  },
  {
   "cell_type": "code",
   "execution_count": 6,
   "id": "d0119470-67d8-49dd-9ad7-a438303334db",
   "metadata": {},
   "outputs": [],
   "source": [
    "# Load test data from file\n",
    "path_prefix = '../../data/paths/'\n",
    "traj_path_prefix = '../../data/processed/'\n",
    "all_test_paths = dataloader_paths.load_path_test_data(path_prefix, network_name, test_dates, \n",
    "                                                      0, -1, 1)\n",
    "test_trajectories = dataloader_geo.load_trajectories(traj_path_prefix, location, network.crs, test_dates)"
   ]
  },
  {
   "cell_type": "code",
   "execution_count": 59,
   "id": "69014ce3-2e73-4354-9771-4028d3e831b5",
   "metadata": {},
   "outputs": [],
   "source": [
    "######## SET PREDICTION PARAMETERS ##########\n",
    "n_start_nodes = 1\n",
    "n_steps = 5\n",
    "n_walks = 1000\n",
    "n_predictions = 1\n",
    "#############################################"
   ]
  },
  {
   "cell_type": "code",
   "execution_count": 60,
   "id": "829e41f8-3b5c-48af-9689-8aac9bf995c7",
   "metadata": {},
   "outputs": [],
   "source": [
    "# split test paths in subpaths\n",
    "sub_paths = dataloader_paths.split_path_data(all_test_paths, n_steps+1)\n",
    "\n",
    "selection_start = 0\n",
    "selection_end = -1\n",
    "selection_step = 80\n",
    "if selection_end == -1:\n",
    "    selection_end = len(sub_paths)\n",
    "selection = np.arange(selection_start, selection_end, selection_step)\n",
    "\n",
    "test_paths = sub_paths.iloc[selection]"
   ]
  },
  {
   "cell_type": "code",
   "execution_count": 61,
   "id": "a3547cbe-bdc9-4624-89c4-fa6391be7729",
   "metadata": {},
   "outputs": [],
   "source": [
    "# MAKE PREDICTIONS\n",
    "predictions = model.predict(test_paths, n_start_nodes, n_steps, n_predictions, n_walks, method='weighted')\n",
    "for i in range(0, len(predictions)):\n",
    "    node_sequence = predictions['prediction'].iloc[i]\n",
    "    if not geometry_utils.is_valid_path(network.G, node_sequence):\n",
    "        print(i)"
   ]
  },
  {
   "cell_type": "code",
   "execution_count": 62,
   "id": "b3c1d216-f410-4a69-a68c-d7492b4fdd63",
   "metadata": {},
   "outputs": [
    {
     "name": "stdout",
     "output_type": "stream",
     "text": [
      "Evaluating 1325 samples for next_nodes prediction task\n",
      "Progress: 10%...20%...30%...40%...50%...60%...70%...80%...90%...Done!\n",
      "\n",
      "\n",
      "Time elapsed: 0.39 minutes\n",
      "\n",
      "\n",
      "Percentage of unsuccessful predictions: 0.00%\n",
      "Mean SSPD: 738.96m\n",
      "Median SSPD: 41.22m\n",
      "Mean choice_accuracy: 0.6050\n"
     ]
    },
    {
     "data": {
      "image/png": "[encoded data removed]",
      "text/plain": [
       "<Figure size 1200x600 with 2 Axes>"
      ]
     },
     "metadata": {},
     "output_type": "display_data"
    }
   ],
   "source": [
    "# evaluate\n",
    "eval_mode = 'paths'\n",
    "evaluation_results, fig = metrics.evaluate_given_predictions('next_nodes', predictions, test_trajectories, \n",
    "                                                             network, n_start_nodes=n_start_nodes, n_steps=n_steps, \n",
    "                                                             eval_mode=eval_mode)"
   ]
  },
  {
   "cell_type": "code",
   "execution_count": 63,
   "id": "d66d46e7-e855-420a-b966-2817d03ee2ab",
   "metadata": {},
   "outputs": [
    {
     "name": "stdout",
     "output_type": "stream",
     "text": [
      "Map saved under ../../reports/maps/202204_waypoints_DP30_HDBSCAN25_stavanger_full_UTM_random_predictions.html\n"
     ]
    }
   ],
   "source": [
    "# make predictions with the model and plot\n",
    "i = 2\n",
    "example = test_paths.iloc[i]\n",
    "mmsi = example.mmsi\n",
    "start_node = [example.path[0]]\n",
    "true_path = example.path\n",
    "trajectory = test_trajectories.get_trajectory(mmsi)\n",
    "\n",
    "predictions = model.sample_paths(start_node, n_walks, n_steps)\n",
    "total_sum = sum(predictions.values())\n",
    "probabilities = {key: value / total_sum for key, value in predictions.items()}\n",
    "for key in predictions:\n",
    "    predictions[key] = probabilities[key]\n",
    "\n",
    "map = visualize.map_prediction_and_ground_truth(predictions, start_node, trajectory, true_path, network, \n",
    "                                                min_passages=2, opacity=0.2, location=location)\n",
    "map.save('../../reports/maps/'+network_name+'_random_predictions.html')\n",
    "print(f'Map saved under {\"../../reports/maps/\"+network_name+\"_random_predictions.html\"}')"
   ]
  },
  {
   "cell_type": "code",
   "execution_count": null,
   "id": "9fbbc6a8-2c9b-4a96-a96b-29f8ea4a3244",
   "metadata": {},
   "outputs": [],
   "source": []
  }
 ],
 "metadata": {
  "kernelspec": {
   "display_name": "Python 3 (ipykernel)",
   "language": "python",
   "name": "python3"
  },
  "language_info": {
   "codemirror_mode": {
    "name": "ipython",
    "version": 3
   },
   "file_extension": ".py",
   "mimetype": "text/x-python",
   "name": "python",
   "nbconvert_exporter": "python",
   "pygments_lexer": "ipython3",
   "version": "3.11.5"
  }
 },
 "nbformat": 4,
 "nbformat_minor": 5
}
