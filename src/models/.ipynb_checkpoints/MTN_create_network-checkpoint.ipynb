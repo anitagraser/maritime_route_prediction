{
 "cells": [
  {
   "cell_type": "code",
   "execution_count": null,
   "id": "a51b18a9-09ad-4933-92fc-823fb728f7ee",
   "metadata": {},
   "outputs": [],
   "source": [
    "'''\n",
    "This notebook creates a maritime traffic network (MTN) from raw AIS data\n",
    "- specify AIS data\n",
    "- specify network hyperparameters\n",
    "\n",
    "The MTM is generated in three steps:\n",
    "- find significant turning points with Douglas Peucker algorithm\n",
    "- cluster significant points to extract waypoints\n",
    "- connect waypoints to get a graph\n",
    "- optional: merge stop points that overlap and prune edges based on number of passages\n",
    "'''"
   ]
  },
  {
   "cell_type": "code",
   "execution_count": null,
   "id": "8131735c-b685-41c3-b7ee-e3e8755013fd",
   "metadata": {
    "editable": true,
    "slideshow": {
     "slide_type": ""
    },
    "tags": []
   },
   "outputs": [],
   "source": [
    "import pandas as pd\n",
    "import geopandas as gpd\n",
    "import movingpandas as mpd\n",
    "import numpy as np\n",
    "from datetime import timedelta, datetime\n",
    "from maritime_traffic_network import MaritimeTrafficNetwork\n",
    "import folium\n",
    "import warnings\n",
    "import sys\n",
    "import pickle\n",
    "warnings.filterwarnings('ignore')\n",
    "\n",
    "print(\"Geopandas has version {}\".format(gpd.__version__))\n",
    "print(\"Movingpandas has version {}\".format(mpd.__version__))"
   ]
  },
  {
   "cell_type": "code",
   "execution_count": null,
   "id": "0cc3ccda-09a8-48c5-80d0-5ae3510455a2",
   "metadata": {},
   "outputs": [],
   "source": [
    "# add paths for modules\n",
    "sys.path.append('../visualization')\n",
    "sys.path.append('../features')\n",
    "print(sys.path)\n",
    "\n",
    "# import modules\n",
    "import visualize"
   ]
  },
  {
   "cell_type": "code",
   "execution_count": null,
   "id": "428549bb-93d5-4e20-836b-0d2b07a540f2",
   "metadata": {
    "editable": true,
    "slideshow": {
     "slide_type": ""
    },
    "tags": []
   },
   "outputs": [],
   "source": [
    "### Specify the AIS data to build the network from\n",
    "datasize = 'full'          # part of the filename\n",
    "location = 'stavanger'     # part of the filename\n",
    "data_dates = ['202204']    # part of the filename\n",
    "\n",
    "### Specify coordinate reference system\n",
    "# 4326 for WGS 84 (global) // 32632 for UTM 32N (Stavanger, Oslo); 32634 for UTM 34N (Tromsø)\n",
    "crs = 32632\n",
    "\n",
    "### Specify network hyperparameters\n",
    "tolerance = 10                      # Douglas Peucker tolerance parameter\n",
    "method = 'HDBSCAN'                  # clustering algorithm: 'DBSCAN' , 'HDBSCAN', 'OPTICS'\n",
    "metric = 'mahalanobis'              # distance metric: 'euclidean', 'mahalanobis', 'haversine'\n",
    "min_samples = 10                    # clustering hyperparameter\n",
    "min_cluster_size = min_samples      # clustering hyperparameter\n",
    "eps = 0                             # clustering hyperparameter (DBSCAN only)\n",
    "V = np.diag([1, 1, 0.01, 0.01, 1])  # mahalanobis distance parameter matrix (default: [1, 1, 0.01, 0.01, 1])\n",
    "max_distance = 20                   # egde creation max_dist\n",
    "max_angle = 45                      # edge creation max_angle                      \n",
    "merge_stops = True                  # merging stop points that overlap, should always be True\n",
    "merge_stops_speed = 2               # speed threshold for merging of stop points\n",
    "pruning = 1                         # network pruning parameter (prunes edges with less than specified number of passages)\n",
    "\n",
    "filenames = []  # placeholder for collection of all AIS input data files that the network was built from"
   ]
  },
  {
   "cell_type": "code",
   "execution_count": null,
   "id": "daeab452-0cf1-4ff5-b388-a69898afb6f9",
   "metadata": {},
   "outputs": [],
   "source": [
    "# read AIS data\n",
    "for i in range(0, len(data_dates)):\n",
    "    data_date = data_dates[i]\n",
    "    # load processed AIS data from file\n",
    "    filename = '../../data/processed/'+data_date+'_points_'+location+'_cleaned_meta_'+datasize+'_dualSplit_2.parquet'\n",
    "    filenames.append(filename)\n",
    "    gdf_part = gpd.read_parquet(filename)\n",
    "\n",
    "    if i==0:\n",
    "        gdf = gdf_part\n",
    "    else:\n",
    "        gdf = pd.concat([gdf, gdf_part])\n",
    "\n",
    "data_date = str(data_dates)\n",
    "filename = str(filenames)"
   ]
  },
  {
   "cell_type": "code",
   "execution_count": null,
   "id": "c62cb00a-2df1-4b34-a21a-15f644bdfd6f",
   "metadata": {},
   "outputs": [],
   "source": [
    "# filter the data according to ship type\n",
    "#shiptypes = ['Tank', 'Last', 'Passasjer', None]\n",
    "#gdf = gdf[gdf.skipsgruppe.isin(shiptypes)]"
   ]
  },
  {
   "cell_type": "code",
   "execution_count": null,
   "id": "4eb7eedc-71a3-4012-afa2-29b6b1756c17",
   "metadata": {},
   "outputs": [],
   "source": [
    "# Transform to desired CRS\n",
    "gdf.to_crs(crs, inplace=True)  # Transformation\n",
    "gdf.head()"
   ]
  },
  {
   "cell_type": "code",
   "execution_count": null,
   "id": "65031840-9bda-4c38-991f-607f30b8997c",
   "metadata": {},
   "outputs": [],
   "source": [
    "# initialize maritime traffic network object\n",
    "network = MaritimeTrafficNetwork(gdf, crs)\n",
    "network.get_trajectories_info()"
   ]
  },
  {
   "cell_type": "code",
   "execution_count": null,
   "id": "370af301-437f-44e3-9ee3-c3f08cfd5df8",
   "metadata": {},
   "outputs": [],
   "source": [
    "# calculate significant turning points using Douglas Peucker algorithm\n",
    "network.calc_significant_points_DP(tolerance)"
   ]
  },
  {
   "cell_type": "code",
   "execution_count": null,
   "id": "c235e6d6-5144-47ab-ab06-35ce388e88ba",
   "metadata": {},
   "outputs": [],
   "source": [
    "# detect waypoints using spatial clustering\n",
    "network.calc_waypoints_clustering(method=method, min_samples=min_samples, min_cluster_size=min_cluster_size,\n",
    "                                  eps=eps, metric=metric, V=V)"
   ]
  },
  {
   "cell_type": "code",
   "execution_count": null,
   "id": "c65d07e6-8521-4c36-a677-db5157f7c8ef",
   "metadata": {
    "editable": true,
    "slideshow": {
     "slide_type": ""
    },
    "tags": []
   },
   "outputs": [],
   "source": [
    "# connect waypoints\n",
    "network.make_graph_from_waypoints(max_distance=max_distance, max_angle=max_angle)"
   ]
  },
  {
   "cell_type": "code",
   "execution_count": null,
   "id": "b77c9680-bbf8-4886-a607-5f2f461ef3e4",
   "metadata": {
    "editable": true,
    "slideshow": {
     "slide_type": ""
    },
    "tags": []
   },
   "outputs": [],
   "source": [
    "# merge stop points\n",
    "if merge_stops:\n",
    "    network.merge_stop_points(max_speed=merge_stops_speed)\n",
    "# prune network\n",
    "network.prune_graph(pruning)"
   ]
  },
  {
   "cell_type": "code",
   "execution_count": null,
   "id": "19d57be0-1f9e-4cf4-83a7-6833334e130e",
   "metadata": {},
   "outputs": [],
   "source": [
    "# save hyperparameters\n",
    "params = {\n",
    "    'Data':filename,\n",
    "    'DP_tolerance':tolerance,\n",
    "    'clustering_method':method,\n",
    "    'clustering_metric':metric,\n",
    "    'clustering_min_samples':min_samples,\n",
    "    'clustering_min_cluster_size':min_cluster_size,\n",
    "    'clustering_eps':eps,\n",
    "    'clustering_metric_V':V,\n",
    "    'graph_generation_max_distance':max_distance,\n",
    "    'graph_generation_max_angle':max_angle,\n",
    "    'merge_stops_speed':merge_stops_speed\n",
    "}\n",
    "network.set_hyperparameters(params)"
   ]
  },
  {
   "cell_type": "code",
   "execution_count": null,
   "id": "2a231a8a-44ed-4796-8f5c-d16e46481b06",
   "metadata": {},
   "outputs": [],
   "source": [
    "# save network as pickle object\n",
    "fileObj = open('../../data/interim/'+data_date+'_waypoints_DP'+str(tolerance)+'_'+method+str(min_samples)+'_'+location+'_'+datasize+'_UTM.obj', 'wb')\n",
    "pickle.dump(network, fileObj)\n",
    "fileObj.close()"
   ]
  }
 ],
 "metadata": {
  "kernelspec": {
   "display_name": "Python 3 (ipykernel)",
   "language": "python",
   "name": "python3"
  },
  "language_info": {
   "codemirror_mode": {
    "name": "ipython",
    "version": 3
   },
   "file_extension": ".py",
   "mimetype": "text/x-python",
   "name": "python",
   "nbconvert_exporter": "python",
   "pygments_lexer": "ipython3",
   "version": "3.11.5"
  }
 },
 "nbformat": 4,
 "nbformat_minor": 5
}
