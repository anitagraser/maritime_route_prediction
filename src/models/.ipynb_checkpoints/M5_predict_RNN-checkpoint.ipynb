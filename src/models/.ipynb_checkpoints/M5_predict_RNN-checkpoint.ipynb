{
 "cells": [
  {
   "cell_type": "code",
   "execution_count": 1,
   "id": "fdc4f8f7",
   "metadata": {},
   "outputs": [
    {
     "name": "stdout",
     "output_type": "stream",
     "text": [
      "WARNING:tensorflow:From /Users/janhendrikwebert/miniforge3/envs/env_tf/lib/python3.9/site-packages/tensorflow/python/compat/v2_compat.py:107: disable_resource_variables (from tensorflow.python.ops.variable_scope) is deprecated and will be removed in a future version.\n",
      "Instructions for updating:\n",
      "non-resource variables are not supported in the long term\n"
     ]
    }
   ],
   "source": [
    "import json\n",
    "import sys\n",
    "import warnings\n",
    "warnings.filterwarnings('ignore')\n",
    "\n",
    "sys.path.append('../datawrangling')\n",
    "# import modules\n",
    "import dataloader_paths\n",
    "from RNN_path_prediction import RNNPathPrediction"
   ]
  },
  {
   "cell_type": "code",
   "execution_count": 2,
   "id": "89ca77ee",
   "metadata": {},
   "outputs": [],
   "source": [
    "directory = '../../models/RNN_prediction_models/tromso_small/'\n",
    "config_file = 'config'\n",
    "config_path = directory+config_file\n",
    "# load metadata file\n",
    "with open(directory+'/metadata.json', 'r') as json_file:\n",
    "    meta_dict = json.load(json_file)\n",
    "network_name = meta_dict['network_name']\n",
    "data_version = meta_dict['data_version']"
   ]
  },
  {
   "cell_type": "code",
   "execution_count": null,
   "id": "1d2dc11f",
   "metadata": {},
   "outputs": [
    {
     "name": "stdout",
     "output_type": "stream",
     "text": [
      "successfully read 1333 routes\n",
      "min_edge_id = 158, max_edge_id = 2136\n",
      "train:1066, valid:133, test:134\n",
      "99\n",
      "nodes count = 541\n",
      "nodes not in area = 541\n",
      "edges count = 2139\n",
      "min_edge_id = 158, max_edge_id = 2136\n",
      "max seq_len = 99\n",
      "========================================\n",
      "\n",
      "dataset configuration:\n",
      "\tdataset_name = tromso_small\n",
      "\tdata_size = 1333\n",
      "\tstate_size = 2138\n",
      "\tratio = [0.8, 0.1, 0.1]\n",
      "\tsamples_per_epoch_in_train = 1066\n",
      "\n",
      "model configuration:\n",
      "\tmodel_type = CSSRNN\n",
      "\temb_dim = 50\n",
      "\thid_dim = 50\n",
      "\tdeep = 1\n",
      "\tuse_bidir_rnn = False\n",
      "\tinput_dest = True\n",
      "\tdest_emb = True\n",
      "\n",
      "training params:\n",
      "\tbatch = 128\n",
      "\tlr = 0.0001\n",
      "\tlr_decay = 0.9\n",
      "\tmax_grad_norm = 1.0\n",
      "\tinit_scale = 0.03\n",
      "\tkeep_prob = 0.9\n",
      "\tfix_seq_len = True\n",
      "\tuse_seq_len_in_rnn = False\n",
      "\tmax_seq_len = 101\n",
      "\toptimizer = rmsprop\n",
      "\n",
      "========================================\n",
      "WARNING:tensorflow:From /Users/janhendrikwebert/miniforge3/envs/env_tf/lib/python3.9/site-packages/tensorflow/python/util/dispatch.py:1176: calling dropout (from tensorflow.python.ops.nn_ops) with keep_prob is deprecated and will be removed in a future version.\n",
      "Instructions for updating:\n",
      "Please use `rate` instead of `keep_prob`. Rate should be set to `rate = 1 - keep_prob`.\n",
      "WARNING:tensorflow:From /Users/janhendrikwebert/miniforge3/envs/env_tf/lib/python3.9/site-packages/RNN_TrajModel/trajmodel.py:155: dynamic_rnn (from tensorflow.python.ops.rnn) is deprecated and will be removed in a future version.\n",
      "Instructions for updating:\n",
      "Please use `keras.layers.RNN(cell)`, which is equivalent to this API\n",
      "WARNING:tensorflow:From /Users/janhendrikwebert/miniforge3/envs/env_tf/lib/python3.9/site-packages/keras/layers/rnn/legacy_cells.py:797: calling Zeros.__init__ (from tensorflow.python.ops.init_ops) with dtype is deprecated and will be removed in a future version.\n",
      "Instructions for updating:\n",
      "Call initializer instance with the dtype argument instead of passing it to the constructor\n",
      "WARNING:tensorflow:From /Users/janhendrikwebert/miniforge3/envs/env_tf/lib/python3.9/site-packages/tensorflow/python/training/rmsprop.py:188: calling Ones.__init__ (from tensorflow.python.ops.init_ops) with dtype is deprecated and will be removed in a future version.\n",
      "Instructions for updating:\n",
      "Call initializer instance with the dtype argument instead of passing it to the constructor\n",
      "WARNING:tensorflow:From /Users/janhendrikwebert/miniforge3/envs/env_tf/lib/python3.9/site-packages/RNN_TrajModel/trajmodel.py:562: all_variables (from tensorflow.python.ops.variables) is deprecated and will be removed after 2017-03-02.\n",
      "Instructions for updating:\n",
      "Please use tf.global_variables instead.\n",
      "Metal device set to: Apple M1\n",
      "initialize all variables...\n",
      "WARNING:tensorflow:From /Users/janhendrikwebert/miniforge3/envs/env_tf/lib/python3.9/site-packages/tensorflow/python/util/tf_should_use.py:243: initialize_all_variables (from tensorflow.python.ops.variables) is deprecated and will be removed after 2017-03-02.\n",
      "Instructions for updating:\n",
      "Use `tf.global_variables_initializer` instead.\n",
      "speed benchmark for get_batch()...\n"
     ]
    },
    {
     "name": "stderr",
     "output_type": "stream",
     "text": [
      "2023-12-20 13:00:45.278821: I tensorflow/core/common_runtime/pluggable_device/pluggable_device_factory.cc:306] Could not identify NUMA node of platform GPU ID 0, defaulting to 0. Your kernel may not have been built with NUMA support.\n",
      "2023-12-20 13:00:45.279300: I tensorflow/core/common_runtime/pluggable_device/pluggable_device_factory.cc:272] Created TensorFlow device (/job:localhost/replica:0/task:0/device:GPU:0 with 0 MB memory) -> physical PluggableDevice (device: 0, name: METAL, pci bus id: <undefined>)\n",
      "2023-12-20 13:00:45.296574: I tensorflow/compiler/mlir/mlir_graph_optimization_pass.cc:354] MLIR V1 optimization pass is not enabled\n",
      "2023-12-20 13:00:45.309736: W tensorflow/core/platform/profile_utils/cpu_utils.cc:128] Failed to get CPU frequency: 0 Hz\n",
      "2023-12-20 13:00:45.317357: I tensorflow/core/grappler/optimizers/custom_graph_optimizer_registry.cc:114] Plugin optimizer for device_type GPU is enabled.\n"
     ]
    },
    {
     "name": "stdout",
     "output_type": "stream",
     "text": [
      "8.0343 ms per batch, 0.0628ms per sample, batch_size = 128\n",
      "start benchmarking...\n"
     ]
    },
    {
     "name": "stderr",
     "output_type": "stream",
     "text": [
      "2023-12-20 13:00:53.407007: I tensorflow/core/grappler/optimizers/custom_graph_optimizer_registry.cc:114] Plugin optimizer for device_type GPU is enabled.\n"
     ]
    },
    {
     "name": "stdout",
     "output_type": "stream",
     "text": [
      "257 samples per sec, 3.8805 ms per sample, batch_size = 128\n",
      "benchmark loss = 31.55586\n"
     ]
    },
    {
     "name": "stderr",
     "output_type": "stream",
     "text": [
      "2023-12-20 13:01:05.327784: I tensorflow/core/grappler/optimizers/custom_graph_optimizer_registry.cc:114] Plugin optimizer for device_type GPU is enabled.\n"
     ]
    },
    {
     "name": "stdout",
     "output_type": "stream",
     "text": [
      "751 samples per sec, 1.3304 ms per sample, batch_size = 128\n",
      "benchmark loss = 47.63540\n",
      "start training...\n",
      "\n",
      "valid set:| max_prediction_acc = 0.3068| loss = 48.4545| loss_p = 48.4545\n",
      "saving training ckpt to: ../../models/RNN_prediction_models/tromso_small/ckpt/CSSRNN/dest_emb/emb_50_hid_50_deep_1/valid_loss_p_48.454\n",
      "WARNING:tensorflow:*******************************************************\n",
      "WARNING:tensorflow:TensorFlow's V1 checkpoint format has been deprecated.\n",
      "WARNING:tensorflow:Consider switching to the more efficient V2 format:\n",
      "WARNING:tensorflow:   `tf.train.Saver(write_version=tf.train.SaverDef.V2)`\n",
      "WARNING:tensorflow:now on by default.\n",
      "WARNING:tensorflow:*******************************************************\n",
      "done\n",
      "\n"
     ]
    },
    {
     "name": "stderr",
     "output_type": "stream",
     "text": [
      "2023-12-20 13:01:13.337787: I tensorflow/core/grappler/optimizers/custom_graph_optimizer_registry.cc:114] Plugin optimizer for device_type GPU is enabled.\n",
      "2023-12-20 13:01:13.418987: I tensorflow/core/grappler/optimizers/custom_graph_optimizer_registry.cc:114] Plugin optimizer for device_type GPU is enabled.\n"
     ]
    },
    {
     "name": "stdout",
     "output_type": "stream",
     "text": [
      "test set:| max_prediction_acc = 0.3164| loss = 31.6712| loss_p = 31.6712\n",
      "\n"
     ]
    }
   ],
   "source": [
    "# train model\n",
    "model = RNNPathPrediction()\n",
    "model.train(config_path)"
   ]
  },
  {
   "cell_type": "code",
   "execution_count": null,
   "id": "cc611810-4e91-43eb-8c2c-a28ae3f37263",
   "metadata": {},
   "outputs": [],
   "source": []
  }
 ],
 "metadata": {
  "kernelspec": {
   "display_name": "Python 3 (ipykernel)",
   "language": "python",
   "name": "python3"
  },
  "language_info": {
   "codemirror_mode": {
    "name": "ipython",
    "version": 3
   },
   "file_extension": ".py",
   "mimetype": "text/x-python",
   "name": "python",
   "nbconvert_exporter": "python",
   "pygments_lexer": "ipython3",
   "version": "3.9.13"
  }
 },
 "nbformat": 4,
 "nbformat_minor": 5
}
