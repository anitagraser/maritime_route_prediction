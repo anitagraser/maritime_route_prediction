{
 "cells": [
  {
   "cell_type": "code",
   "execution_count": 1,
   "id": "fdc4f8f7",
   "metadata": {},
   "outputs": [
    {
     "name": "stdout",
     "output_type": "stream",
     "text": [
      "WARNING:tensorflow:From /Users/janhendrikwebert/miniforge3/envs/env_tf/lib/python3.9/site-packages/tensorflow/python/compat/v2_compat.py:107: disable_resource_variables (from tensorflow.python.ops.variable_scope) is deprecated and will be removed in a future version.\n",
      "Instructions for updating:\n",
      "non-resource variables are not supported in the long term\n"
     ]
    }
   ],
   "source": [
    "import json\n",
    "import sys\n",
    "import warnings\n",
    "import pickle\n",
    "warnings.filterwarnings('ignore')\n",
    "\n",
    "sys.path.append('../datawrangling')\n",
    "# import modules\n",
    "import dataloader_paths\n",
    "from RNN_path_prediction import RNNPathPrediction"
   ]
  },
  {
   "cell_type": "code",
   "execution_count": 2,
   "id": "89ca77ee",
   "metadata": {},
   "outputs": [],
   "source": [
    "directory = '../../models/RNN_prediction_models/tromso_small/'\n",
    "model_name = 'test_model.ckpt'\n",
    "config_file = 'config'\n",
    "config_path = directory+config_file\n",
    "# load metadata file\n",
    "with open(directory+'/metadata.json', 'r') as json_file:\n",
    "    meta_dict = json.load(json_file)\n",
    "network_name = meta_dict['network_name']\n",
    "data_version = meta_dict['data_version']"
   ]
  },
  {
   "cell_type": "code",
   "execution_count": 3,
   "id": "1d2dc11f",
   "metadata": {},
   "outputs": [
    {
     "name": "stdout",
     "output_type": "stream",
     "text": [
      "successfully read 1333 routes\n",
      "min_edge_id = 158, max_edge_id = 2136\n",
      "train:1066, valid:133, test:134\n",
      "99\n",
      "nodes count = 541\n",
      "nodes not in area = 541\n",
      "edges count = 2139\n",
      "min_edge_id = 158, max_edge_id = 2136\n",
      "max seq_len = 99\n",
      "========================================\n",
      "\n",
      "dataset configuration:\n",
      "\tdataset_name = tromso_small\n",
      "\tdata_size = 1333\n",
      "\tstate_size = 2138\n",
      "\tratio = [0.8, 0.1, 0.1]\n",
      "\tsamples_per_epoch_in_train = 1066\n",
      "\n",
      "model configuration:\n",
      "\tmodel_type = CSSRNN\n",
      "\temb_dim = 50\n",
      "\thid_dim = 50\n",
      "\tdeep = 1\n",
      "\tuse_bidir_rnn = False\n",
      "\tinput_dest = True\n",
      "\tdest_emb = True\n",
      "\n",
      "training params:\n",
      "\tbatch = 128\n",
      "\tlr = 0.0001\n",
      "\tlr_decay = 0.9\n",
      "\tmax_grad_norm = 1.0\n",
      "\tinit_scale = 0.03\n",
      "\tkeep_prob = 0.9\n",
      "\tfix_seq_len = True\n",
      "\tuse_seq_len_in_rnn = False\n",
      "\tmax_seq_len = 101\n",
      "\toptimizer = rmsprop\n",
      "\n",
      "========================================\n",
      "WARNING:tensorflow:From /Users/janhendrikwebert/miniforge3/envs/env_tf/lib/python3.9/site-packages/tensorflow/python/util/dispatch.py:1176: calling dropout (from tensorflow.python.ops.nn_ops) with keep_prob is deprecated and will be removed in a future version.\n",
      "Instructions for updating:\n",
      "Please use `rate` instead of `keep_prob`. Rate should be set to `rate = 1 - keep_prob`.\n",
      "WARNING:tensorflow:From /Users/janhendrikwebert/miniforge3/envs/env_tf/lib/python3.9/site-packages/RNN_TrajModel/trajmodel.py:158: dynamic_rnn (from tensorflow.python.ops.rnn) is deprecated and will be removed in a future version.\n",
      "Instructions for updating:\n",
      "Please use `keras.layers.RNN(cell)`, which is equivalent to this API\n",
      "WARNING:tensorflow:From /Users/janhendrikwebert/miniforge3/envs/env_tf/lib/python3.9/site-packages/keras/layers/rnn/legacy_cells.py:797: calling Zeros.__init__ (from tensorflow.python.ops.init_ops) with dtype is deprecated and will be removed in a future version.\n",
      "Instructions for updating:\n",
      "Call initializer instance with the dtype argument instead of passing it to the constructor\n",
      "WARNING:tensorflow:From /Users/janhendrikwebert/miniforge3/envs/env_tf/lib/python3.9/site-packages/tensorflow/python/training/rmsprop.py:188: calling Ones.__init__ (from tensorflow.python.ops.init_ops) with dtype is deprecated and will be removed in a future version.\n",
      "Instructions for updating:\n",
      "Call initializer instance with the dtype argument instead of passing it to the constructor\n",
      "WARNING:tensorflow:From /Users/janhendrikwebert/miniforge3/envs/env_tf/lib/python3.9/site-packages/RNN_TrajModel/trajmodel.py:564: all_variables (from tensorflow.python.ops.variables) is deprecated and will be removed after 2017-03-02.\n",
      "Instructions for updating:\n",
      "Please use tf.global_variables instead.\n",
      "Metal device set to: Apple M1\n",
      "initialize all variables...\n",
      "WARNING:tensorflow:From /Users/janhendrikwebert/miniforge3/envs/env_tf/lib/python3.9/site-packages/tensorflow/python/util/tf_should_use.py:243: initialize_all_variables (from tensorflow.python.ops.variables) is deprecated and will be removed after 2017-03-02.\n",
      "Instructions for updating:\n",
      "Use `tf.global_variables_initializer` instead.\n",
      "speed benchmark for get_batch()...\n"
     ]
    },
    {
     "name": "stderr",
     "output_type": "stream",
     "text": [
      "2023-12-21 14:37:06.311465: I tensorflow/core/common_runtime/pluggable_device/pluggable_device_factory.cc:306] Could not identify NUMA node of platform GPU ID 0, defaulting to 0. Your kernel may not have been built with NUMA support.\n",
      "2023-12-21 14:37:06.311560: I tensorflow/core/common_runtime/pluggable_device/pluggable_device_factory.cc:272] Created TensorFlow device (/job:localhost/replica:0/task:0/device:GPU:0 with 0 MB memory) -> physical PluggableDevice (device: 0, name: METAL, pci bus id: <undefined>)\n",
      "2023-12-21 14:37:06.320111: I tensorflow/compiler/mlir/mlir_graph_optimization_pass.cc:354] MLIR V1 optimization pass is not enabled\n",
      "2023-12-21 14:37:06.329207: W tensorflow/core/platform/profile_utils/cpu_utils.cc:128] Failed to get CPU frequency: 0 Hz\n",
      "2023-12-21 14:37:06.331206: I tensorflow/core/grappler/optimizers/custom_graph_optimizer_registry.cc:114] Plugin optimizer for device_type GPU is enabled.\n"
     ]
    },
    {
     "name": "stdout",
     "output_type": "stream",
     "text": [
      "8.1452 ms per batch, 0.0636ms per sample, batch_size = 128\n",
      "start benchmarking...\n"
     ]
    },
    {
     "name": "stderr",
     "output_type": "stream",
     "text": [
      "2023-12-21 14:37:14.504498: I tensorflow/core/grappler/optimizers/custom_graph_optimizer_registry.cc:114] Plugin optimizer for device_type GPU is enabled.\n"
     ]
    },
    {
     "name": "stdout",
     "output_type": "stream",
     "text": [
      "241 samples per sec, 4.1418 ms per sample, batch_size = 128\n",
      "benchmark loss = 31.63105\n"
     ]
    },
    {
     "name": "stderr",
     "output_type": "stream",
     "text": [
      "2023-12-21 14:37:27.229154: I tensorflow/core/grappler/optimizers/custom_graph_optimizer_registry.cc:114] Plugin optimizer for device_type GPU is enabled.\n"
     ]
    },
    {
     "name": "stdout",
     "output_type": "stream",
     "text": [
      "755 samples per sec, 1.3239 ms per sample, batch_size = 128\n",
      "benchmark loss = 47.13996\n",
      "start training...\n",
      "Epoch  0\n",
      "valid set:| max_prediction_acc = 0.3197| loss = 48.4543| loss_p = 48.4543\n"
     ]
    },
    {
     "name": "stderr",
     "output_type": "stream",
     "text": [
      "2023-12-21 14:37:35.197214: I tensorflow/core/grappler/optimizers/custom_graph_optimizer_registry.cc:114] Plugin optimizer for device_type GPU is enabled.\n"
     ]
    },
    {
     "name": "stdout",
     "output_type": "stream",
     "text": [
      "test set:| max_prediction_acc = 0.3310| loss = 31.6708| loss_p = 31.6708\n",
      "_________________________________________________\n",
      "Epoch  1\n",
      "valid set:| max_prediction_acc = 0.3204| loss = 48.4543| loss_p = 48.4543\n",
      "test set:| max_prediction_acc = 0.3317| loss = 31.6707| loss_p = 31.6707\n",
      "_________________________________________________\n",
      "Epoch  2\n",
      "valid set:| max_prediction_acc = 0.3256| loss = 48.4542| loss_p = 48.4542\n",
      "test set:| max_prediction_acc = 0.3348| loss = 31.6707| loss_p = 31.6707\n",
      "_________________________________________________\n",
      "Epoch  3\n",
      "valid set:| max_prediction_acc = 0.3297| loss = 48.4540| loss_p = 48.4540\n",
      "test set:| max_prediction_acc = 0.3397| loss = 31.6706| loss_p = 31.6706\n",
      "_________________________________________________\n",
      "Epoch  4\n",
      "valid set:| max_prediction_acc = 0.3299| loss = 48.4538| loss_p = 48.4538\n",
      "test set:| max_prediction_acc = 0.3470| loss = 31.6705| loss_p = 31.6705\n",
      "_________________________________________________\n",
      "Epoch  5\n",
      "valid set:| max_prediction_acc = 0.3413| loss = 48.4536| loss_p = 48.4536\n",
      "test set:| max_prediction_acc = 0.3484| loss = 31.6703| loss_p = 31.6703\n",
      "_________________________________________________\n",
      "Epoch  6\n",
      "valid set:| max_prediction_acc = 0.3513| loss = 48.4532| loss_p = 48.4532\n",
      "test set:| max_prediction_acc = 0.3554| loss = 31.6701| loss_p = 31.6701\n",
      "_________________________________________________\n",
      "Epoch  7\n",
      "valid set:| max_prediction_acc = 0.3515| loss = 48.4528| loss_p = 48.4528\n",
      "test set:| max_prediction_acc = 0.3603| loss = 31.6699| loss_p = 31.6699\n",
      "_________________________________________________\n",
      "Epoch  8\n",
      "valid set:| max_prediction_acc = 0.3560| loss = 48.4522| loss_p = 48.4522\n",
      "test set:| max_prediction_acc = 0.3620| loss = 31.6697| loss_p = 31.6697\n",
      "_________________________________________________\n",
      "Epoch  9\n",
      "valid set:| max_prediction_acc = 0.3660| loss = 48.4516| loss_p = 48.4516\n",
      "test set:| max_prediction_acc = 0.3638| loss = 31.6694| loss_p = 31.6694\n",
      "_________________________________________________\n",
      "Epoch  10\n",
      "valid set:| max_prediction_acc = 0.3683| loss = 48.4510| loss_p = 48.4510\n",
      "test set:| max_prediction_acc = 0.3683| loss = 31.6690| loss_p = 31.6690\n",
      "_________________________________________________\n",
      "Epoch  11\n",
      "valid set:| max_prediction_acc = 0.3738| loss = 48.4501| loss_p = 48.4501\n",
      "test set:| max_prediction_acc = 0.3707| loss = 31.6686| loss_p = 31.6686\n",
      "_________________________________________________\n",
      "Epoch  12\n",
      "valid set:| max_prediction_acc = 0.3797| loss = 48.4489| loss_p = 48.4489\n",
      "test set:| max_prediction_acc = 0.3753| loss = 31.6680| loss_p = 31.6680\n",
      "_________________________________________________\n",
      "Epoch  13\n",
      "valid set:| max_prediction_acc = 0.3980| loss = 48.4469| loss_p = 48.4469\n",
      "test set:| max_prediction_acc = 0.3885| loss = 31.6670| loss_p = 31.6670\n",
      "_________________________________________________\n",
      "Epoch  14\n",
      "valid set:| max_prediction_acc = 0.4292| loss = 48.4434| loss_p = 48.4434\n",
      "test set:| max_prediction_acc = 0.4167| loss = 31.6652| loss_p = 31.6652\n",
      "_________________________________________________\n",
      "Epoch  15\n",
      "valid set:| max_prediction_acc = 0.4896| loss = 48.4381| loss_p = 48.4381\n",
      "test set:| max_prediction_acc = 0.4561| loss = 31.6625| loss_p = 31.6625\n",
      "_________________________________________________\n",
      "Epoch  16\n",
      "valid set:| max_prediction_acc = 0.5629| loss = 48.4293| loss_p = 48.4293\n",
      "test set:| max_prediction_acc = 0.5136| loss = 31.6580| loss_p = 31.6580\n",
      "_________________________________________________\n",
      "Epoch  17\n",
      "valid set:| max_prediction_acc = 0.6383| loss = 48.4152| loss_p = 48.4152\n",
      "test set:| max_prediction_acc = 0.5697| loss = 31.6507| loss_p = 31.6507\n",
      "_________________________________________________\n",
      "Epoch  18\n",
      "valid set:| max_prediction_acc = 0.7062| loss = 48.3963| loss_p = 48.3963\n",
      "test set:| max_prediction_acc = 0.6331| loss = 31.6407| loss_p = 31.6407\n",
      "_________________________________________________\n",
      "Epoch  19\n",
      "valid set:| max_prediction_acc = 0.7673| loss = 48.3682| loss_p = 48.3682\n",
      "test set:| max_prediction_acc = 0.6979| loss = 31.6259| loss_p = 31.6259\n",
      "_________________________________________________\n",
      "Epoch  20\n",
      "valid set:| max_prediction_acc = 0.7959| loss = 48.3310| loss_p = 48.3310\n",
      "test set:| max_prediction_acc = 0.7275| loss = 31.6066| loss_p = 31.6066\n",
      "_________________________________________________\n",
      "Epoch  21\n",
      "valid set:| max_prediction_acc = 0.8081| loss = 48.2835| loss_p = 48.2835\n",
      "test set:| max_prediction_acc = 0.7488| loss = 31.5818| loss_p = 31.5818\n",
      "_________________________________________________\n",
      "Epoch  22\n",
      "valid set:| max_prediction_acc = 0.8208| loss = 48.2250| loss_p = 48.2250\n",
      "test set:| max_prediction_acc = 0.7544| loss = 31.5516| loss_p = 31.5516\n",
      "_________________________________________________\n",
      "Epoch  23\n",
      "valid set:| max_prediction_acc = 0.8240| loss = 48.1557| loss_p = 48.1557\n",
      "test set:| max_prediction_acc = 0.7634| loss = 31.5165| loss_p = 31.5165\n",
      "_________________________________________________\n",
      "Epoch  24\n",
      "valid set:| max_prediction_acc = 0.8302| loss = 48.0689| loss_p = 48.0689\n",
      "test set:| max_prediction_acc = 0.7697| loss = 31.4736| loss_p = 31.4736\n",
      "_________________________________________________\n"
     ]
    },
    {
     "name": "stderr",
     "output_type": "stream",
     "text": [
      "2023-12-21 14:39:15.702081: I tensorflow/core/grappler/optimizers/custom_graph_optimizer_registry.cc:114] Plugin optimizer for device_type GPU is enabled.\n"
     ]
    }
   ],
   "source": [
    "# train model\n",
    "model = RNNPathPrediction()\n",
    "model.train(config_path, directory+model_name)"
   ]
  },
  {
   "cell_type": "code",
   "execution_count": 4,
   "id": "cc611810-4e91-43eb-8c2c-a28ae3f37263",
   "metadata": {},
   "outputs": [
    {
     "data": {
      "image/png": "[encoded data removed]",
      "text/plain": [
       "<Figure size 800x300 with 3 Axes>"
      ]
     },
     "metadata": {},
     "output_type": "display_data"
    }
   ],
   "source": [
    "model.plot_train_test_metrics()"
   ]
  },
  {
   "cell_type": "code",
   "execution_count": 25,
   "id": "6a582f2c-77ad-49e2-8c42-dced8a4f322b",
   "metadata": {},
   "outputs": [
    {
     "name": "stderr",
     "output_type": "stream",
     "text": [
      "2023-12-21 14:44:47.399671: I tensorflow/core/common_runtime/pluggable_device/pluggable_device_factory.cc:306] Could not identify NUMA node of platform GPU ID 0, defaulting to 0. Your kernel may not have been built with NUMA support.\n",
      "2023-12-21 14:44:47.399728: I tensorflow/core/common_runtime/pluggable_device/pluggable_device_factory.cc:272] Created TensorFlow device (/job:localhost/replica:0/task:0/device:GPU:0 with 0 MB memory) -> physical PluggableDevice (device: 0, name: METAL, pci bus id: <undefined>)\n"
     ]
    },
    {
     "ename": "RuntimeError",
     "evalue": "The Session graph is empty. Add operations to the graph before calling run().",
     "output_type": "error",
     "traceback": [
      "\u001b[0;31m---------------------------------------------------------------------------\u001b[0m",
      "\u001b[0;31mRuntimeError\u001b[0m                              Traceback (most recent call last)",
      "Cell \u001b[0;32mIn[25], line 9\u001b[0m\n\u001b[1;32m      7\u001b[0m reshaped_tensor \u001b[38;5;241m=\u001b[39m tf\u001b[38;5;241m.\u001b[39mreshape(predictions, target_shape)\n\u001b[1;32m      8\u001b[0m \u001b[38;5;66;03m# Run the session to evaluate the reshaped tensor\u001b[39;00m\n\u001b[0;32m----> 9\u001b[0m reshaped_values \u001b[38;5;241m=\u001b[39m \u001b[43msess\u001b[49m\u001b[38;5;241;43m.\u001b[39;49m\u001b[43mrun\u001b[49m\u001b[43m(\u001b[49m\u001b[43mreshaped_tensor\u001b[49m\u001b[43m)\u001b[49m\n\u001b[1;32m     10\u001b[0m \u001b[38;5;28mprint\u001b[39m(reshaped_values)\n",
      "File \u001b[0;32m~/miniforge3/envs/env_tf/lib/python3.9/site-packages/tensorflow/python/client/session.py:968\u001b[0m, in \u001b[0;36mBaseSession.run\u001b[0;34m(self, fetches, feed_dict, options, run_metadata)\u001b[0m\n\u001b[1;32m    965\u001b[0m run_metadata_ptr \u001b[38;5;241m=\u001b[39m tf_session\u001b[38;5;241m.\u001b[39mTF_NewBuffer() \u001b[38;5;28;01mif\u001b[39;00m run_metadata \u001b[38;5;28;01melse\u001b[39;00m \u001b[38;5;28;01mNone\u001b[39;00m\n\u001b[1;32m    967\u001b[0m \u001b[38;5;28;01mtry\u001b[39;00m:\n\u001b[0;32m--> 968\u001b[0m   result \u001b[38;5;241m=\u001b[39m \u001b[38;5;28;43mself\u001b[39;49m\u001b[38;5;241;43m.\u001b[39;49m\u001b[43m_run\u001b[49m\u001b[43m(\u001b[49m\u001b[38;5;28;43;01mNone\u001b[39;49;00m\u001b[43m,\u001b[49m\u001b[43m \u001b[49m\u001b[43mfetches\u001b[49m\u001b[43m,\u001b[49m\u001b[43m \u001b[49m\u001b[43mfeed_dict\u001b[49m\u001b[43m,\u001b[49m\u001b[43m \u001b[49m\u001b[43moptions_ptr\u001b[49m\u001b[43m,\u001b[49m\n\u001b[1;32m    969\u001b[0m \u001b[43m                     \u001b[49m\u001b[43mrun_metadata_ptr\u001b[49m\u001b[43m)\u001b[49m\n\u001b[1;32m    970\u001b[0m   \u001b[38;5;28;01mif\u001b[39;00m run_metadata:\n\u001b[1;32m    971\u001b[0m     proto_data \u001b[38;5;241m=\u001b[39m tf_session\u001b[38;5;241m.\u001b[39mTF_GetBuffer(run_metadata_ptr)\n",
      "File \u001b[0;32m~/miniforge3/envs/env_tf/lib/python3.9/site-packages/tensorflow/python/client/session.py:1118\u001b[0m, in \u001b[0;36mBaseSession._run\u001b[0;34m(self, handle, fetches, feed_dict, options, run_metadata)\u001b[0m\n\u001b[1;32m   1116\u001b[0m   \u001b[38;5;28;01mraise\u001b[39;00m \u001b[38;5;167;01mRuntimeError\u001b[39;00m(\u001b[38;5;124m'\u001b[39m\u001b[38;5;124mAttempted to use a closed Session.\u001b[39m\u001b[38;5;124m'\u001b[39m)\n\u001b[1;32m   1117\u001b[0m \u001b[38;5;28;01mif\u001b[39;00m \u001b[38;5;28mself\u001b[39m\u001b[38;5;241m.\u001b[39mgraph\u001b[38;5;241m.\u001b[39mversion \u001b[38;5;241m==\u001b[39m \u001b[38;5;241m0\u001b[39m:\n\u001b[0;32m-> 1118\u001b[0m   \u001b[38;5;28;01mraise\u001b[39;00m \u001b[38;5;167;01mRuntimeError\u001b[39;00m(\u001b[38;5;124m'\u001b[39m\u001b[38;5;124mThe Session graph is empty. Add operations to the \u001b[39m\u001b[38;5;124m'\u001b[39m\n\u001b[1;32m   1119\u001b[0m                      \u001b[38;5;124m'\u001b[39m\u001b[38;5;124mgraph before calling run().\u001b[39m\u001b[38;5;124m'\u001b[39m)\n\u001b[1;32m   1121\u001b[0m \u001b[38;5;66;03m# Create request.\u001b[39;00m\n\u001b[1;32m   1122\u001b[0m feed_dict_tensor \u001b[38;5;241m=\u001b[39m {}\n",
      "\u001b[0;31mRuntimeError\u001b[0m: The Session graph is empty. Add operations to the graph before calling run()."
     ]
    }
   ],
   "source": [
    "predictions = model.model.predictions\n",
    "target_shape = (128, 101, 23)\n",
    "# Reshape the tensor\n",
    "\n",
    "sess_config = tf.ConfigProto()\n",
    "with tf.Session() as sess:\n",
    "    reshaped_tensor = tf.reshape(predictions, target_shape)\n",
    "    # Run the session to evaluate the reshaped tensor\n",
    "    reshaped_values = sess.run(reshaped_tensor)\n",
    "    print(reshaped_values)"
   ]
  },
  {
   "cell_type": "code",
   "execution_count": 22,
   "id": "387956b4-0e64-476a-9f03-8c528902cdae",
   "metadata": {},
   "outputs": [
    {
     "name": "stdout",
     "output_type": "stream",
     "text": [
      "Tensor(\"strided_slice_19:0\", shape=(), dtype=float32)\n"
     ]
    },
    {
     "ename": "AttributeError",
     "evalue": "'NoneType' object has no attribute 'item'",
     "output_type": "error",
     "traceback": [
      "\u001b[0;31m---------------------------------------------------------------------------\u001b[0m",
      "\u001b[0;31mAttributeError\u001b[0m                            Traceback (most recent call last)",
      "Cell \u001b[0;32mIn[22], line 1\u001b[0m\n\u001b[0;32m----> 1\u001b[0m \u001b[38;5;28;43mprint\u001b[39;49m\u001b[43m(\u001b[49m\u001b[43mreshaped_tensor\u001b[49m\u001b[43m[\u001b[49m\u001b[38;5;241;43m0\u001b[39;49m\u001b[43m]\u001b[49m\u001b[43m[\u001b[49m\u001b[38;5;241;43m0\u001b[39;49m\u001b[43m]\u001b[49m\u001b[43m[\u001b[49m\u001b[38;5;241;43m0\u001b[39;49m\u001b[43m]\u001b[49m\u001b[43m)\u001b[49m\u001b[38;5;241;43m.\u001b[39;49m\u001b[43mitem\u001b[49m()\n",
      "\u001b[0;31mAttributeError\u001b[0m: 'NoneType' object has no attribute 'item'"
     ]
    }
   ],
   "source": []
  },
  {
   "cell_type": "code",
   "execution_count": 6,
   "id": "39ced916-67de-45a5-9f85-a75f8d852830",
   "metadata": {},
   "outputs": [],
   "source": [
    "import numpy as np\n",
    "batch_size = model.config.batch_size\n",
    "max_len = 6\n",
    "from_id = 0\n",
    "\n",
    "data = []\n",
    "for i in range(batch_size):\n",
    "    data.append([918])\n",
    "\n",
    "append_EOS = True\n",
    "batch, pointer = model.model.get_batch_for_test(data, batch_size, max_len, from_id, append_EOS)"
   ]
  },
  {
   "cell_type": "code",
   "execution_count": 7,
   "id": "94322251-ef94-4466-a476-426cc7fd4528",
   "metadata": {},
   "outputs": [
    {
     "data": {
      "text/plain": [
       "array([[918,   0,   0, ...,   0,   0,   0],\n",
       "       [918,   0,   0, ...,   0,   0,   0],\n",
       "       [918,   0,   0, ...,   0,   0,   0],\n",
       "       ...,\n",
       "       [918,   0,   0, ...,   0,   0,   0],\n",
       "       [918,   0,   0, ...,   0,   0,   0],\n",
       "       [918,   0,   0, ...,   0,   0,   0]])"
      ]
     },
     "execution_count": 7,
     "metadata": {},
     "output_type": "execute_result"
    }
   ],
   "source": [
    "batch.inputs"
   ]
  },
  {
   "cell_type": "code",
   "execution_count": 8,
   "id": "7626979f-17b4-413c-badc-ccb76e9a5b60",
   "metadata": {},
   "outputs": [
    {
     "name": "stdout",
     "output_type": "stream",
     "text": [
      "INFO:tensorflow:Restoring parameters from ../../models/RNN_prediction_models/tromso_small/test_model.ckpt\n"
     ]
    },
    {
     "name": "stderr",
     "output_type": "stream",
     "text": [
      "2023-12-21 14:39:16.166571: I tensorflow/core/common_runtime/pluggable_device/pluggable_device_factory.cc:306] Could not identify NUMA node of platform GPU ID 0, defaulting to 0. Your kernel may not have been built with NUMA support.\n",
      "2023-12-21 14:39:16.166593: I tensorflow/core/common_runtime/pluggable_device/pluggable_device_factory.cc:272] Created TensorFlow device (/job:localhost/replica:0/task:0/device:GPU:0 with 0 MB memory) -> physical PluggableDevice (device: 0, name: METAL, pci bus id: <undefined>)\n",
      "2023-12-21 14:39:16.173918: I tensorflow/core/grappler/optimizers/custom_graph_optimizer_registry.cc:114] Plugin optimizer for device_type GPU is enabled.\n",
      "2023-12-21 14:39:16.187424: I tensorflow/core/grappler/optimizers/custom_graph_optimizer_registry.cc:114] Plugin optimizer for device_type GPU is enabled.\n"
     ]
    }
   ],
   "source": [
    "import tensorflow.compat.v1 as tf\n",
    "tf.disable_v2_behavior()\n",
    "from RNN_TrajModel.trajmodel import TrajModel\n",
    "\n",
    "config = model.config\n",
    "config.eval_mode = True\n",
    "\n",
    "with tf.Graph().as_default():\n",
    "    initializer = tf.random_uniform_initializer(-config.init_scale, config.init_scale)\n",
    "    model_scope = \"Model\"\n",
    "    with tf.name_scope(\"Train\"):\n",
    "        with tf.variable_scope(model_scope, reuse=None, initializer=initializer):\n",
    "            RNNmodel = TrajModel(not config.trace_hid_layer, config, model.model.data, model_scope=model_scope, \n",
    "                                 map=model.model.map, mapInfo=model.model.mapInfo)\n",
    "\n",
    "    sess_config = tf.ConfigProto()\n",
    "    # initialize saver to save model\n",
    "    saver = tf.train.Saver()\n",
    "    with tf.Session(config=sess_config) as sess:\n",
    "        saver.restore(sess, model.path_to_model)\n",
    "        feed_dict = RNNmodel.feed(batch)\n",
    "        fetch_dict = RNNmodel.fetch(None)\n",
    "        fetch_vals = RNNmodel.step(sess, batch, eval_op=None)"
   ]
  },
  {
   "cell_type": "code",
   "execution_count": 9,
   "id": "aa3d1c9e-4e79-4731-9e94-af431853a962",
   "metadata": {},
   "outputs": [
    {
     "ename": "SyntaxError",
     "evalue": "invalid syntax (748461603.py, line 1)",
     "output_type": "error",
     "traceback": [
      "\u001b[0;36m  Cell \u001b[0;32mIn[9], line 1\u001b[0;36m\u001b[0m\n\u001b[0;31m    fetch_vals|\u001b[0m\n\u001b[0m               ^\u001b[0m\n\u001b[0;31mSyntaxError\u001b[0m\u001b[0;31m:\u001b[0m invalid syntax\n"
     ]
    }
   ],
   "source": [
    "fetch_vals|"
   ]
  },
  {
   "cell_type": "code",
   "execution_count": null,
   "id": "2ec0b902-6277-4490-b86f-41059d1ebace",
   "metadata": {},
   "outputs": [],
   "source": [
    "import tensorflow.compat.v1 as tf\n",
    "tf.disable_v2_behavior()\n",
    "from RNN_TrajModel.trajmodel import TrajModel\n",
    "\n",
    "config = model.config\n",
    "config.eval_mode = True\n",
    "\n",
    "\n",
    "with tf.Graph().as_default():\n",
    "    initializer = tf.random_uniform_initializer(-config.init_scale, config.init_scale)\n",
    "    model_scope = \"Model\"\n",
    "    with tf.name_scope(\"Train\"):\n",
    "        with tf.variable_scope(model_scope, reuse=None, initializer=initializer):\n",
    "            RNNmodel = TrajModel(not config.trace_hid_layer, config, model.model.data, model_scope=model_scope, \n",
    "                                 map=model.model.map, mapInfo=model.model.mapInfo)\n",
    "\n",
    "    # Initialize saver to save/restore the model\n",
    "    saver = tf.train.Saver()\n",
    "\n",
    "    # Define placeholder names\n",
    "    inputs_placeholder = tf.placeholder(config.int_type, shape=[1, 101], name=\"inputs\")\n",
    "    outputs_placeholder = tf.placeholder(config.int_type, shape=[1, 101], name=\"outputs\")\n",
    "\n",
    "    with tf.Session() as sess:\n",
    "        # Restore the trained model\n",
    "        saver.restore(sess, model.path_to_model)\n",
    "\n",
    "        # Create a feed_dict with your input data\n",
    "        input_data = batch.inputs[0].reshape((1, -1))\n",
    "        feed_dict = {inputs_placeholder: input_data}\n",
    "        fetch_dict = {outputs_placeholder: input_data}\n",
    "\n",
    "        # Run the model to get predictions\n",
    "        predictions = sess.run(outputs_placeholder, feed_dict=feed_dict)\n",
    "\n",
    "        # 'predictions' now contains the output vector as a prediction\n",
    "        print(predictions)"
   ]
  },
  {
   "cell_type": "code",
   "execution_count": null,
   "id": "3dbb1fe3-e94d-4da6-992d-121c12c5bc38",
   "metadata": {},
   "outputs": [],
   "source": [
    "input_data"
   ]
  },
  {
   "cell_type": "code",
   "execution_count": null,
   "id": "3cfa84e1-e6e0-4442-8cc0-d84e2aa89c84",
   "metadata": {},
   "outputs": [],
   "source": []
  },
  {
   "cell_type": "code",
   "execution_count": null,
   "id": "c05b0aff-fd27-4cbd-ba95-df9030ce3099",
   "metadata": {},
   "outputs": [],
   "source": []
  }
 ],
 "metadata": {
  "kernelspec": {
   "display_name": "Python 3 (ipykernel)",
   "language": "python",
   "name": "python3"
  },
  "language_info": {
   "codemirror_mode": {
    "name": "ipython",
    "version": 3
   },
   "file_extension": ".py",
   "mimetype": "text/x-python",
   "name": "python",
   "nbconvert_exporter": "python",
   "pygments_lexer": "ipython3",
   "version": "3.11.5"
  }
 },
 "nbformat": 4,
 "nbformat_minor": 5
}
