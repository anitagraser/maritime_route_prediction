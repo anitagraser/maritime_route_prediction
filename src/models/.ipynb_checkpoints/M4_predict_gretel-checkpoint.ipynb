{
 "cells": [
  {
   "cell_type": "code",
   "execution_count": 1,
   "id": "e8181bb6-bcd8-47e6-9746-bf3ceb3f44f4",
   "metadata": {},
   "outputs": [],
   "source": [
    "import pandas as pd\n",
    "import json\n",
    "import numpy as np\n",
    "import pickle\n",
    "from ast import literal_eval\n",
    "import sys\n",
    "\n",
    "sys.path.append('../datawrangling')\n",
    "\n",
    "# import modules\n",
    "import dataloader_paths\n",
    "from Gretel_path_prediction import GretelPathPrediction\n",
    "\n",
    "import warnings\n",
    "warnings.filterwarnings('ignore')"
   ]
  },
  {
   "cell_type": "code",
   "execution_count": 2,
   "id": "50b65081-13f4-40b8-a457-0baa71e51ed4",
   "metadata": {},
   "outputs": [
    {
     "name": "stdout",
     "output_type": "stream",
     "text": [
      "number of trajectories:  1433\n",
      "number of valid trajectories (length in [2, 101]): 1433\n",
      "trajectories length: min 2 | max 101 | mean 25.26\n",
      "split train/(valid)?/test 0.8/0.2\n",
      "==== START \"tromso_small\" ====\n",
      "Checkpoints will be saved in [../../models/gretel_prediction_models/tromso_small/chkpt/tromso_small]\n",
      "Number of node features 1. Number of edge features 3\n",
      "No initial edge transformer.\n",
      "Computing non backtracking edges...\n",
      "Done\n",
      "=== BASELINE ===\n",
      "TEST DATASET\n"
     ]
    },
    {
     "name": "stderr",
     "output_type": "stream",
     "text": [
      "100%|██████████████████████████████████████████████████████████████████████████████████████████████████████████████████████████████| 286/286 [00:01<00:00, 190.59it/s]\n"
     ]
    },
    {
     "name": "stdout",
     "output_type": "stream",
     "text": [
      "\u001b[32m| Metric               |    Value |\n",
      "|----------------------|----------|\n",
      "| target_probability   | 0.320027 |\n",
      "| choice_accuracy      | 0.32556  |\n",
      "| choice_accuracy_deg3 | 0.32556  |\n",
      "| precision_top1       | 0.300953 |\n",
      "| precision_top5       | 0.83999  |\n",
      "| path_nll             | 1.40916  |\n",
      "| path_nll_deg3        | 1.40916  |\u001b[0m\n",
      "TRAIN DATASET\n"
     ]
    },
    {
     "name": "stderr",
     "output_type": "stream",
     "text": [
      "100%|████████████████████████████████████████████████████████████████████████████████████████████████████████████████████████████| 1146/1146 [00:05<00:00, 219.44it/s]\n"
     ]
    },
    {
     "name": "stdout",
     "output_type": "stream",
     "text": [
      "\u001b[32m| Metric               |    Value |\n",
      "|----------------------|----------|\n",
      "| target_probability   | 0.335236 |\n",
      "| choice_accuracy      | 0.347592 |\n",
      "| choice_accuracy_deg3 | 0.347592 |\n",
      "| precision_top1       | 0.312451 |\n",
      "| precision_top5       | 0.864662 |\n",
      "| path_nll             | 1.35574  |\n",
      "| path_nll_deg3        | 1.35574  |\u001b[0m\n",
      "=== NON BACKTRACKING BASELINE ===\n",
      "TEST DATASET\n"
     ]
    },
    {
     "name": "stderr",
     "output_type": "stream",
     "text": [
      "100%|███████████████████████████████████████████████████████████████████████████████████████████████████████████████████████████████| 286/286 [00:04<00:00, 61.76it/s]\n"
     ]
    },
    {
     "name": "stdout",
     "output_type": "stream",
     "text": [
      "\u001b[32m| Metric               |    Value |\n",
      "|----------------------|----------|\n",
      "| target_probability   | 0.320027 |\n",
      "| choice_accuracy      | 0.323113 |\n",
      "| choice_accuracy_deg3 | 0.323113 |\n",
      "| precision_top1       | 0.300953 |\n",
      "| precision_top5       | 0.83999  |\n",
      "| path_nll             | 1.40916  |\n",
      "| path_nll_deg3        | 1.40916  |\u001b[0m\n",
      "TRAIN DATASET\n"
     ]
    },
    {
     "name": "stderr",
     "output_type": "stream",
     "text": [
      "100%|█████████████████████████████████████████████████████████████████████████████████████████████████████████████████████████████| 1146/1146 [00:16<00:00, 70.30it/s]"
     ]
    },
    {
     "name": "stdout",
     "output_type": "stream",
     "text": [
      "\u001b[32m| Metric               |    Value |\n",
      "|----------------------|----------|\n",
      "| target_probability   | 0.335236 |\n",
      "| choice_accuracy      | 0.341513 |\n",
      "| choice_accuracy_deg3 | 0.341513 |\n",
      "| precision_top1       | 0.312451 |\n",
      "| precision_top5       | 0.864662 |\n",
      "| path_nll             | 1.35574  |\n",
      "| path_nll_deg3        | 1.35574  |\u001b[0m\n",
      "Computing non backtracking graph... "
     ]
    },
    {
     "name": "stderr",
     "output_type": "stream",
     "text": [
      "\n"
     ]
    },
    {
     "name": "stdout",
     "output_type": "stream",
     "text": [
      "Done\n",
      "\n",
      "=== TEST ===\n",
      "\n"
     ]
    },
    {
     "name": "stderr",
     "output_type": "stream",
     "text": [
      "100%|███████████████████████████████████████████████████████████████████████████████████████████████████████████████████████████████| 286/286 [00:07<00:00, 38.77it/s]\n"
     ]
    },
    {
     "name": "stdout",
     "output_type": "stream",
     "text": [
      "\u001b[31m| Metric               |    Value |\n",
      "|----------------------|----------|\n",
      "| target_probability   | 0.324311 |\n",
      "| choice_accuracy      | 0.418449 |\n",
      "| choice_accuracy_deg3 | 0.418449 |\n",
      "| precision_top1       | 0.439577 |\n",
      "| precision_top5       | 0.861634 |\n",
      "| path_nll             | 1.3937   |\n",
      "| path_nll_deg3        | 1.3937   |\u001b[0m\n",
      "\n",
      "=== EPOCH 0 ===\n",
      "Progress 10% | iter 21 | 1630.6 pred/s | loss target_only -0.0001253939238242043\n",
      "Progress 20% | iter 43 | 1642.4 pred/s | loss target_only -0.00011473816717420967\n",
      "Progress 30% | iter 65 | 1614.6 pred/s | loss target_only -0.00013547863134570154\n",
      "Progress 40% | iter 87 | 1647.8 pred/s | loss target_only -0.00013009008952461948\n",
      "Progress 50% | iter 109 | 1557.8 pred/s | loss target_only -0.00014279069478048201\n",
      "Progress 60% | iter 131 | 1627.0 pred/s | loss target_only -0.00014578501931197238\n",
      "Progress 70% | iter 153 | 1559.1 pred/s | loss target_only -0.00016633547033731398\n",
      "Progress 80% | iter 175 | 1606.5 pred/s | loss target_only -0.00015259602839632968\n",
      "Progress 90% | iter 197 | 1533.5 pred/s | loss target_only -0.00018401342491117695\n",
      "Progress 100% | iter 219 | 1550.3 pred/s | loss target_only -0.0001760982310678792\n",
      "\n",
      "=== TEST ===\n",
      "\n"
     ]
    },
    {
     "name": "stderr",
     "output_type": "stream",
     "text": [
      "100%|███████████████████████████████████████████████████████████████████████████████████████████████████████████████████████████████| 286/286 [00:07<00:00, 38.52it/s]\n"
     ]
    },
    {
     "name": "stdout",
     "output_type": "stream",
     "text": [
      "\u001b[31m| Metric               |    Value |\n",
      "|----------------------|----------|\n",
      "| target_probability   | 0.437986 |\n",
      "| choice_accuracy      | 0.762561 |\n",
      "| choice_accuracy_deg3 | 0.762561 |\n",
      "| precision_top1       | 0.758439 |\n",
      "| precision_top5       | 0.972687 |\n",
      "| path_nll             | 1.02386  |\n",
      "| path_nll_deg3        | 1.02386  |\u001b[0m\n",
      "Checkpointing...\n",
      "\u001b[34mCheckpoint saved in ../../models/gretel_prediction_models/tromso_small/chkpt/tromso_small/0000.pt\u001b[0m\n",
      "\n",
      "=== EPOCH 1 ===\n",
      "Progress 10% | iter 21 | 1608.5 pred/s | loss target_only -0.00016753209535633513\n",
      "Progress 20% | iter 43 | 1510.9 pred/s | loss target_only -0.00020180580944850526\n",
      "Progress 30% | iter 65 | 1629.4 pred/s | loss target_only -0.00017105167465338519\n",
      "Progress 40% | iter 87 | 1620.8 pred/s | loss target_only -0.00016895559770623798\n",
      "Progress 50% | iter 109 | 1585.5 pred/s | loss target_only -0.00018503121709127594\n",
      "Progress 60% | iter 131 | 1641.4 pred/s | loss target_only -0.00017149667871413178\n",
      "Progress 70% | iter 153 | 1598.2 pred/s | loss target_only -0.00020193454491348144\n",
      "Progress 80% | iter 175 | 1529.5 pred/s | loss target_only -0.00021029493572997465\n",
      "Progress 90% | iter 197 | 1643.8 pred/s | loss target_only -0.0001820381977608589\n",
      "Progress 100% | iter 219 | 1605.3 pred/s | loss target_only -0.00020997122759435706\n",
      "\n",
      "=== TEST ===\n",
      "\n"
     ]
    },
    {
     "name": "stderr",
     "output_type": "stream",
     "text": [
      "100%|███████████████████████████████████████████████████████████████████████████████████████████████████████████████████████████████| 286/286 [00:07<00:00, 38.51it/s]\n"
     ]
    },
    {
     "name": "stdout",
     "output_type": "stream",
     "text": [
      "\u001b[31m| Metric               |    Value |\n",
      "|----------------------|----------|\n",
      "| target_probability   | 0.547728 |\n",
      "| choice_accuracy      | 0.776217 |\n",
      "| choice_accuracy_deg3 | 0.776217 |\n",
      "| precision_top1       | 0.774285 |\n",
      "| precision_top5       | 0.955424 |\n",
      "| path_nll             | 0.847658 |\n",
      "| path_nll_deg3        | 0.847658 |\u001b[0m\n",
      "\n",
      "=== EPOCH 2 ===\n",
      "Progress 10% | iter 21 | 1628.2 pred/s | loss target_only -0.0002016703615258465\n",
      "Progress 20% | iter 43 | 1514.6 pred/s | loss target_only -0.0002475128673527473\n",
      "Progress 30% | iter 65 | 1544.7 pred/s | loss target_only -0.00023220561697901226\n",
      "Progress 40% | iter 87 | 1593.4 pred/s | loss target_only -0.0002568200801065022\n",
      "Progress 50% | iter 109 | 1631.6 pred/s | loss target_only -0.00020987242272439303\n",
      "Progress 60% | iter 131 | 1623.3 pred/s | loss target_only -0.00021955600692312628\n",
      "Progress 70% | iter 153 | 1595.9 pred/s | loss target_only -0.00023886941863202025\n",
      "Progress 80% | iter 175 | 1647.8 pred/s | loss target_only -0.00020505940693898007\n",
      "Progress 90% | iter 197 | 1578.6 pred/s | loss target_only -0.0002485733200990465\n",
      "Progress 100% | iter 219 | 1519.0 pred/s | loss target_only -0.0002972696282057297\n",
      "\n",
      "=== TEST ===\n",
      "\n"
     ]
    },
    {
     "name": "stderr",
     "output_type": "stream",
     "text": [
      "100%|███████████████████████████████████████████████████████████████████████████████████████████████████████████████████████████████| 286/286 [00:07<00:00, 38.65it/s]\n"
     ]
    },
    {
     "name": "stdout",
     "output_type": "stream",
     "text": [
      "\u001b[31m| Metric               |    Value |\n",
      "|----------------------|----------|\n",
      "| target_probability   | 0.680199 |\n",
      "| choice_accuracy      | 0.791935 |\n",
      "| choice_accuracy_deg3 | 0.791935 |\n",
      "| precision_top1       | 0.792064 |\n",
      "| precision_top5       | 0.985828 |\n",
      "| path_nll             | 0.718388 |\n",
      "| path_nll_deg3        | 0.718388 |\u001b[0m\n",
      "\n",
      "=== EPOCH 3 ===\n",
      "Progress 10% | iter 21 | 1591.5 pred/s | loss target_only -0.00023388395156192265\n",
      "Progress 20% | iter 43 | 1559.2 pred/s | loss target_only -0.00026110886558591037\n",
      "Progress 30% | iter 65 | 1622.1 pred/s | loss target_only -0.00022653710129391034\n",
      "Progress 40% | iter 87 | 1578.3 pred/s | loss target_only -0.00025229707661013627\n",
      "Progress 50% | iter 109 | 1585.3 pred/s | loss target_only -0.0002626452389304623\n",
      "Progress 60% | iter 131 | 1558.0 pred/s | loss target_only -0.00026747825936768605\n",
      "Progress 70% | iter 153 | 1624.2 pred/s | loss target_only -0.00023066000939635762\n",
      "Progress 80% | iter 175 | 1648.0 pred/s | loss target_only -0.00023957604396759115\n",
      "Progress 90% | iter 197 | 1568.2 pred/s | loss target_only -0.0002693470740939278\n",
      "Progress 100% | iter 219 | 1550.4 pred/s | loss target_only -0.00027222232166750174\n",
      "\n",
      "=== TEST ===\n",
      "\n"
     ]
    },
    {
     "name": "stderr",
     "output_type": "stream",
     "text": [
      "100%|███████████████████████████████████████████████████████████████████████████████████████████████████████████████████████████████| 286/286 [00:07<00:00, 38.67it/s]\n"
     ]
    },
    {
     "name": "stdout",
     "output_type": "stream",
     "text": [
      "\u001b[31m| Metric               |    Value |\n",
      "|----------------------|----------|\n",
      "| target_probability   | 0.713538 |\n",
      "| choice_accuracy      | 0.793481 |\n",
      "| choice_accuracy_deg3 | 0.793481 |\n",
      "| precision_top1       | 0.793481 |\n",
      "| precision_top5       | 0.982479 |\n",
      "| path_nll             | 0.735017 |\n",
      "| path_nll_deg3        | 0.735017 |\u001b[0m\n",
      "\n",
      "=== EPOCH 4 ===\n",
      "Progress 10% | iter 21 | 1560.6 pred/s | loss target_only -0.0002715436422292303\n",
      "Progress 20% | iter 43 | 1566.0 pred/s | loss target_only -0.00028033935194614004\n",
      "Progress 30% | iter 65 | 1596.8 pred/s | loss target_only -0.0002523852175844041\n",
      "Progress 40% | iter 87 | 1634.4 pred/s | loss target_only -0.00024234102512173662\n",
      "Progress 50% | iter 109 | 1541.2 pred/s | loss target_only -0.00029123204395512214\n",
      "Progress 60% | iter 131 | 1584.7 pred/s | loss target_only -0.00025692910587626845\n",
      "Progress 70% | iter 153 | 1604.8 pred/s | loss target_only -0.00026254851754289817\n",
      "Progress 80% | iter 175 | 1507.7 pred/s | loss target_only -0.000283634070200122\n",
      "Progress 90% | iter 197 | 1527.0 pred/s | loss target_only -0.00028868709984142694\n",
      "Progress 100% | iter 219 | 1658.4 pred/s | loss target_only -0.000207747103878641\n",
      "\n",
      "=== TEST ===\n",
      "\n"
     ]
    },
    {
     "name": "stderr",
     "output_type": "stream",
     "text": [
      "100%|███████████████████████████████████████████████████████████████████████████████████████████████████████████████████████████████| 286/286 [00:07<00:00, 38.50it/s]\n"
     ]
    },
    {
     "name": "stdout",
     "output_type": "stream",
     "text": [
      "\u001b[31m| Metric               |    Value |\n",
      "|----------------------|----------|\n",
      "| target_probability   | 0.746176 |\n",
      "| choice_accuracy      | 0.790518 |\n",
      "| choice_accuracy_deg3 | 0.790518 |\n",
      "| precision_top1       | 0.790389 |\n",
      "| precision_top5       | 0.983509 |\n",
      "| path_nll             | 0.819568 |\n",
      "| path_nll_deg3        | 0.819568 |\u001b[0m\n",
      "\n",
      "=== EPOCH 5 ===\n",
      "Progress 10% | iter 21 | 1588.6 pred/s | loss target_only -0.0002617555553033699\n",
      "Progress 20% | iter 43 | 1531.9 pred/s | loss target_only -0.00028050737117734503\n",
      "Progress 30% | iter 65 | 1615.2 pred/s | loss target_only -0.00025234578258680754\n",
      "Progress 40% | iter 87 | 1645.5 pred/s | loss target_only -0.0002432249936072281\n",
      "Progress 50% | iter 109 | 1638.9 pred/s | loss target_only -0.0002452020494811641\n",
      "Progress 60% | iter 131 | 1513.2 pred/s | loss target_only -0.00029954225978716446\n",
      "Progress 70% | iter 153 | 1543.4 pred/s | loss target_only -0.00029658999620348536\n",
      "Progress 80% | iter 175 | 1606.2 pred/s | loss target_only -0.00024756794033668896\n",
      "Progress 90% | iter 197 | 1558.7 pred/s | loss target_only -0.000279036104591092\n",
      "Progress 100% | iter 219 | 1527.4 pred/s | loss target_only -0.0002942635563676792\n",
      "\n",
      "=== TEST ===\n",
      "\n"
     ]
    },
    {
     "name": "stderr",
     "output_type": "stream",
     "text": [
      "100%|███████████████████████████████████████████████████████████████████████████████████████████████████████████████████████████████| 286/286 [00:07<00:00, 38.71it/s]\n"
     ]
    },
    {
     "name": "stdout",
     "output_type": "stream",
     "text": [
      "\u001b[31m| Metric               |    Value |\n",
      "|----------------------|----------|\n",
      "| target_probability   | 0.75729  |\n",
      "| choice_accuracy      | 0.794769 |\n",
      "| choice_accuracy_deg3 | 0.794769 |\n",
      "| precision_top1       | 0.793996 |\n",
      "| precision_top5       | 0.984025 |\n",
      "| path_nll             | 0.827745 |\n",
      "| path_nll_deg3        | 0.827745 |\u001b[0m\n",
      "Checkpointing...\n",
      "\u001b[34mCheckpoint saved in ../../models/gretel_prediction_models/tromso_small/chkpt/tromso_small/0005.pt\u001b[0m\n",
      "\n",
      "=== EPOCH 6 ===\n",
      "Progress 10% | iter 21 | 1534.3 pred/s | loss target_only -0.00030623825567010506\n",
      "Progress 20% | iter 43 | 1598.8 pred/s | loss target_only -0.00025564255352465237\n",
      "Progress 30% | iter 65 | 1576.8 pred/s | loss target_only -0.0002704279799279824\n",
      "Progress 40% | iter 87 | 1581.9 pred/s | loss target_only -0.0002628382714463644\n",
      "Progress 50% | iter 109 | 1607.1 pred/s | loss target_only -0.0002595228097428312\n",
      "Progress 60% | iter 131 | 1572.2 pred/s | loss target_only -0.00028800215419699294\n",
      "Progress 70% | iter 153 | 1669.5 pred/s | loss target_only -0.0002454704763219898\n",
      "Progress 80% | iter 175 | 1551.7 pred/s | loss target_only -0.0002797694516901533\n",
      "Progress 90% | iter 197 | 1558.4 pred/s | loss target_only -0.00027593316809076344\n",
      "Progress 100% | iter 219 | 1563.4 pred/s | loss target_only -0.00027636866799569704\n",
      "\n",
      "=== TEST ===\n",
      "\n"
     ]
    },
    {
     "name": "stderr",
     "output_type": "stream",
     "text": [
      "100%|███████████████████████████████████████████████████████████████████████████████████████████████████████████████████████████████| 286/286 [00:07<00:00, 38.46it/s]\n"
     ]
    },
    {
     "name": "stdout",
     "output_type": "stream",
     "text": [
      "\u001b[31m| Metric               |    Value |\n",
      "|----------------------|----------|\n",
      "| target_probability   | 0.762563 |\n",
      "| choice_accuracy      | 0.795414 |\n",
      "| choice_accuracy_deg3 | 0.795414 |\n",
      "| precision_top1       | 0.794125 |\n",
      "| precision_top5       | 0.984411 |\n",
      "| path_nll             | 0.893828 |\n",
      "| path_nll_deg3        | 0.893828 |\u001b[0m\n",
      "\n",
      "=== EPOCH 7 ===\n",
      "Progress 10% | iter 21 | 1547.8 pred/s | loss target_only -0.00029875860169791435\n",
      "Progress 20% | iter 43 | 1560.9 pred/s | loss target_only -0.0002759177813841684\n",
      "Progress 30% | iter 65 | 1603.5 pred/s | loss target_only -0.00026930420357495756\n",
      "Progress 40% | iter 87 | 1613.6 pred/s | loss target_only -0.00024321229811337313\n",
      "Progress 50% | iter 109 | 1569.9 pred/s | loss target_only -0.00026066593325511337\n",
      "Progress 60% | iter 131 | 1555.7 pred/s | loss target_only -0.0002863142507280642\n",
      "Progress 70% | iter 153 | 1564.7 pred/s | loss target_only -0.0002773274208504649\n",
      "Progress 80% | iter 175 | 1604.9 pred/s | loss target_only -0.0002554384056714554\n",
      "Progress 90% | iter 197 | 1538.7 pred/s | loss target_only -0.0002957869260133876\n",
      "Progress 100% | iter 219 | 1573.3 pred/s | loss target_only -0.00028632401341005347\n",
      "\n",
      "=== TEST ===\n",
      "\n"
     ]
    },
    {
     "name": "stderr",
     "output_type": "stream",
     "text": [
      "100%|███████████████████████████████████████████████████████████████████████████████████████████████████████████████████████████████| 286/286 [00:07<00:00, 38.23it/s]\n"
     ]
    },
    {
     "name": "stdout",
     "output_type": "stream",
     "text": [
      "\u001b[31m| Metric               |    Value |\n",
      "|----------------------|----------|\n",
      "| target_probability   | 0.767596 |\n",
      "| choice_accuracy      | 0.793739 |\n",
      "| choice_accuracy_deg3 | 0.793739 |\n",
      "| precision_top1       | 0.793095 |\n",
      "| precision_top5       | 0.98454  |\n",
      "| path_nll             | 0.901091 |\n",
      "| path_nll_deg3        | 0.901091 |\u001b[0m\n",
      "\n",
      "=== EPOCH 8 ===\n",
      "Progress 10% | iter 21 | 1549.1 pred/s | loss target_only -0.0003002788004429577\n",
      "Progress 20% | iter 43 | 1548.5 pred/s | loss target_only -0.0002822364102822101\n",
      "Progress 30% | iter 65 | 1572.3 pred/s | loss target_only -0.00028250325534769506\n",
      "Progress 40% | iter 87 | 1580.0 pred/s | loss target_only -0.0002744677122331792\n",
      "Progress 50% | iter 109 | 1551.1 pred/s | loss target_only -0.0002699021857942256\n",
      "Progress 60% | iter 131 | 1485.9 pred/s | loss target_only -0.0003162149641998976\n",
      "Progress 70% | iter 153 | 1597.6 pred/s | loss target_only -0.0002594815614368662\n",
      "Progress 80% | iter 175 | 1590.6 pred/s | loss target_only -0.0002690990962593725\n",
      "Progress 90% | iter 197 | 1441.2 pred/s | loss target_only -0.0002332101599296491\n",
      "Progress 100% | iter 219 | 1497.4 pred/s | loss target_only -0.00024570798564680664\n",
      "\n",
      "=== TEST ===\n",
      "\n"
     ]
    },
    {
     "name": "stderr",
     "output_type": "stream",
     "text": [
      "100%|███████████████████████████████████████████████████████████████████████████████████████████████████████████████████████████████| 286/286 [00:09<00:00, 30.46it/s]\n"
     ]
    },
    {
     "name": "stdout",
     "output_type": "stream",
     "text": [
      "\u001b[31m| Metric               |    Value |\n",
      "|----------------------|----------|\n",
      "| target_probability   | 0.759212 |\n",
      "| choice_accuracy      | 0.793481 |\n",
      "| choice_accuracy_deg3 | 0.793481 |\n",
      "| precision_top1       | 0.792966 |\n",
      "| precision_top5       | 0.981448 |\n",
      "| path_nll             | 0.809515 |\n",
      "| path_nll_deg3        | 0.809515 |\u001b[0m\n",
      "\n",
      "=== EPOCH 9 ===\n",
      "Progress 10% | iter 21 | 1607.8 pred/s | loss target_only -0.000244720053496344\n",
      "Progress 20% | iter 43 | 1536.0 pred/s | loss target_only -0.0002959854075815243\n",
      "Progress 30% | iter 65 | 1595.7 pred/s | loss target_only -0.00027137111905615774\n",
      "Progress 40% | iter 87 | 1524.0 pred/s | loss target_only -0.00027420701613858005\n",
      "Progress 50% | iter 109 | 1430.9 pred/s | loss target_only -0.00027012464048218856\n",
      "Progress 60% | iter 131 | 1393.8 pred/s | loss target_only -0.00026428355403127765\n",
      "Progress 70% | iter 153 | 1378.9 pred/s | loss target_only -0.00026718671172236424\n",
      "Progress 80% | iter 175 | 1532.6 pred/s | loss target_only -0.00029218002681406926\n",
      "Progress 90% | iter 197 | 1433.1 pred/s | loss target_only -0.00027596233866431495\n",
      "Progress 100% | iter 219 | 1602.7 pred/s | loss target_only -0.00025626932970556384\n",
      "\n",
      "=== TEST ===\n",
      "\n"
     ]
    },
    {
     "name": "stderr",
     "output_type": "stream",
     "text": [
      "100%|███████████████████████████████████████████████████████████████████████████████████████████████████████████████████████████████| 286/286 [00:07<00:00, 36.56it/s]\n"
     ]
    },
    {
     "name": "stdout",
     "output_type": "stream",
     "text": [
      "\u001b[31m| Metric               |    Value |\n",
      "|----------------------|----------|\n",
      "| target_probability   | 0.771835 |\n",
      "| choice_accuracy      | 0.798506 |\n",
      "| choice_accuracy_deg3 | 0.798506 |\n",
      "| precision_top1       | 0.79799  |\n",
      "| precision_top5       | 0.982479 |\n",
      "| path_nll             | 0.899508 |\n",
      "| path_nll_deg3        | 0.899508 |\u001b[0m\n",
      "\n",
      "=== EPOCH 10 ===\n",
      "Progress 10% | iter 21 | 1559.0 pred/s | loss target_only -0.00025819114909143837\n",
      "Progress 20% | iter 43 | 1401.4 pred/s | loss target_only -0.00028047361842669565\n",
      "Progress 30% | iter 65 | 1513.9 pred/s | loss target_only -0.00024823820895711807\n",
      "Progress 40% | iter 87 | 1409.9 pred/s | loss target_only -0.00026393226623355016\n",
      "Progress 50% | iter 109 | 1454.3 pred/s | loss target_only -0.00028549352414162344\n",
      "Progress 60% | iter 131 | 1306.1 pred/s | loss target_only -0.0002606180685686816\n",
      "Progress 70% | iter 153 | 1618.3 pred/s | loss target_only -0.0002605493749312994\n",
      "Progress 80% | iter 175 | 1526.4 pred/s | loss target_only -0.0003147101133729092\n",
      "Progress 90% | iter 197 | 1555.3 pred/s | loss target_only -0.0002788709032628347\n",
      "Progress 100% | iter 219 | 1531.2 pred/s | loss target_only -0.0002950847488412508\n",
      "\n",
      "=== TEST ===\n",
      "\n"
     ]
    },
    {
     "name": "stderr",
     "output_type": "stream",
     "text": [
      "100%|███████████████████████████████████████████████████████████████████████████████████████████████████████████████████████████████| 286/286 [00:07<00:00, 38.48it/s]\n"
     ]
    },
    {
     "name": "stdout",
     "output_type": "stream",
     "text": [
      "\u001b[31m| Metric               |    Value |\n",
      "|----------------------|----------|\n",
      "| target_probability   | 0.774885 |\n",
      "| choice_accuracy      | 0.798377 |\n",
      "| choice_accuracy_deg3 | 0.798377 |\n",
      "| precision_top1       | 0.798763 |\n",
      "| precision_top5       | 0.983896 |\n",
      "| path_nll             | 0.929677 |\n",
      "| path_nll_deg3        | 0.929677 |\u001b[0m\n",
      "Checkpointing...\n",
      "\u001b[34mCheckpoint saved in ../../models/gretel_prediction_models/tromso_small/chkpt/tromso_small/0010.pt\u001b[0m\n",
      "\n",
      "=== EPOCH 11 ===\n",
      "Progress 10% | iter 21 | 1569.3 pred/s | loss target_only -0.0002912747446572324\n",
      "Progress 20% | iter 43 | 1532.0 pred/s | loss target_only -0.00029205331963308445\n",
      "Progress 30% | iter 65 | 1634.8 pred/s | loss target_only -0.00026007187123313036\n",
      "Progress 40% | iter 87 | 1628.5 pred/s | loss target_only -0.0002511285880918654\n",
      "Progress 50% | iter 109 | 1626.6 pred/s | loss target_only -0.0002527246769779219\n",
      "Progress 60% | iter 131 | 1648.3 pred/s | loss target_only -0.0002585274283528076\n",
      "Progress 70% | iter 153 | 1568.8 pred/s | loss target_only -0.00027834647788314555\n",
      "Progress 80% | iter 175 | 1514.5 pred/s | loss target_only -0.0002754332342752084\n",
      "Progress 90% | iter 197 | 1530.2 pred/s | loss target_only -0.00028181757866788424\n",
      "Progress 100% | iter 219 | 1593.3 pred/s | loss target_only -0.0002662294748700535\n",
      "\n",
      "=== TEST ===\n",
      "\n"
     ]
    },
    {
     "name": "stderr",
     "output_type": "stream",
     "text": [
      "100%|███████████████████████████████████████████████████████████████████████████████████████████████████████████████████████████████| 286/286 [00:07<00:00, 38.71it/s]\n"
     ]
    },
    {
     "name": "stdout",
     "output_type": "stream",
     "text": [
      "\u001b[31m| Metric               |    Value |\n",
      "|----------------------|----------|\n",
      "| target_probability   | 0.762643 |\n",
      "| choice_accuracy      | 0.7958   |\n",
      "| choice_accuracy_deg3 | 0.7958   |\n",
      "| precision_top1       | 0.796315 |\n",
      "| precision_top5       | 0.981448 |\n",
      "| path_nll             | 0.851901 |\n",
      "| path_nll_deg3        | 0.851901 |\u001b[0m\n",
      "\n",
      "=== EPOCH 12 ===\n",
      "Progress 10% | iter 21 | 1480.4 pred/s | loss target_only -0.0003003303283602696\n",
      "Progress 20% | iter 43 | 1579.2 pred/s | loss target_only -0.00025296097319425065\n",
      "Progress 30% | iter 65 | 1628.9 pred/s | loss target_only -0.0002368523727610607\n",
      "Progress 40% | iter 87 | 1577.7 pred/s | loss target_only -0.00026168205454812026\n",
      "Progress 50% | iter 109 | 1576.4 pred/s | loss target_only -0.00027807384190609984\n",
      "Progress 60% | iter 131 | 1574.0 pred/s | loss target_only -0.0002815908210548575\n",
      "Progress 70% | iter 153 | 1508.5 pred/s | loss target_only -0.00033145899713852314\n",
      "Progress 80% | iter 175 | 1592.9 pred/s | loss target_only -0.0002783561243344008\n",
      "Progress 90% | iter 197 | 1689.5 pred/s | loss target_only -0.0002212689843680663\n",
      "Progress 100% | iter 219 | 1576.7 pred/s | loss target_only -0.0002736197905590358\n",
      "\n",
      "=== TEST ===\n",
      "\n"
     ]
    },
    {
     "name": "stderr",
     "output_type": "stream",
     "text": [
      "100%|███████████████████████████████████████████████████████████████████████████████████████████████████████████████████████████████| 286/286 [00:07<00:00, 38.11it/s]\n"
     ]
    },
    {
     "name": "stdout",
     "output_type": "stream",
     "text": [
      "\u001b[31m| Metric               |    Value |\n",
      "|----------------------|----------|\n",
      "| target_probability   | 0.76011  |\n",
      "| choice_accuracy      | 0.785236 |\n",
      "| choice_accuracy_deg3 | 0.785236 |\n",
      "| precision_top1       | 0.78369  |\n",
      "| precision_top5       | 0.960062 |\n",
      "| path_nll             | 1.06455  |\n",
      "| path_nll_deg3        | 1.06455  |\u001b[0m\n",
      "\n",
      "=== EPOCH 13 ===\n",
      "Progress 10% | iter 21 | 1603.4 pred/s | loss target_only -0.00025087541468884675\n",
      "Progress 20% | iter 43 | 1632.9 pred/s | loss target_only -0.0002627139418669154\n",
      "Progress 30% | iter 65 | 1570.5 pred/s | loss target_only -0.00026983378265672245\n",
      "Progress 40% | iter 87 | 1582.4 pred/s | loss target_only -0.00026693468984275966\n",
      "Progress 50% | iter 109 | 1581.4 pred/s | loss target_only -0.0002919959671795102\n",
      "Progress 60% | iter 131 | 1563.0 pred/s | loss target_only -0.00028144139268181545\n",
      "Progress 70% | iter 153 | 1596.6 pred/s | loss target_only -0.000257888462167303\n",
      "Progress 80% | iter 175 | 1508.3 pred/s | loss target_only -0.0003096580278341081\n",
      "Progress 90% | iter 197 | 1581.0 pred/s | loss target_only -0.00027458875003831215\n",
      "Progress 100% | iter 219 | 1603.4 pred/s | loss target_only -0.000271105600579805\n",
      "\n",
      "=== TEST ===\n",
      "\n"
     ]
    },
    {
     "name": "stderr",
     "output_type": "stream",
     "text": [
      "100%|███████████████████████████████████████████████████████████████████████████████████████████████████████████████████████████████| 286/286 [00:07<00:00, 38.48it/s]\n"
     ]
    },
    {
     "name": "stdout",
     "output_type": "stream",
     "text": [
      "\u001b[31m| Metric               |    Value |\n",
      "|----------------------|----------|\n",
      "| target_probability   | 0.772086 |\n",
      "| choice_accuracy      | 0.795285 |\n",
      "| choice_accuracy_deg3 | 0.795285 |\n",
      "| precision_top1       | 0.796058 |\n",
      "| precision_top5       | 0.981448 |\n",
      "| path_nll             | 1.02715  |\n",
      "| path_nll_deg3        | 1.02715  |\u001b[0m\n",
      "\n",
      "=== EPOCH 14 ===\n",
      "Progress 10% | iter 21 | 1578.3 pred/s | loss target_only -0.00027303293507032394\n",
      "Progress 20% | iter 43 | 1519.6 pred/s | loss target_only -0.00028760814779192937\n",
      "Progress 30% | iter 65 | 1622.0 pred/s | loss target_only -0.0002549692141374129\n",
      "Progress 40% | iter 87 | 1487.5 pred/s | loss target_only -0.0003149311119745163\n",
      "Progress 50% | iter 109 | 1600.4 pred/s | loss target_only -0.00028493171461536\n",
      "Progress 60% | iter 131 | 1594.5 pred/s | loss target_only -0.00028681170376965864\n",
      "Progress 70% | iter 153 | 1541.3 pred/s | loss target_only -0.00030980442644159233\n",
      "Progress 80% | iter 175 | 1653.8 pred/s | loss target_only -0.00024433427522757545\n",
      "Progress 90% | iter 197 | 1573.9 pred/s | loss target_only -0.00027901845008263454\n",
      "Progress 100% | iter 219 | 1601.0 pred/s | loss target_only -0.00027138909367570177\n",
      "\n",
      "=== TEST ===\n",
      "\n"
     ]
    },
    {
     "name": "stderr",
     "output_type": "stream",
     "text": [
      "100%|███████████████████████████████████████████████████████████████████████████████████████████████████████████████████████████████| 286/286 [00:07<00:00, 38.79it/s]\n"
     ]
    },
    {
     "name": "stdout",
     "output_type": "stream",
     "text": [
      "\u001b[31m| Metric               |    Value |\n",
      "|----------------------|----------|\n",
      "| target_probability   | 0.768791 |\n",
      "| choice_accuracy      | 0.794383 |\n",
      "| choice_accuracy_deg3 | 0.794383 |\n",
      "| precision_top1       | 0.795671 |\n",
      "| precision_top5       | 0.983767 |\n",
      "| path_nll             | 0.961147 |\n",
      "| path_nll_deg3        | 0.961147 |\u001b[0m\n",
      "\n",
      "=== EPOCH 15 ===\n",
      "Progress 10% | iter 21 | 1559.5 pred/s | loss target_only -0.00027663283748938244\n",
      "Progress 20% | iter 43 | 1628.3 pred/s | loss target_only -0.00025841934605309164\n",
      "Progress 30% | iter 65 | 1543.0 pred/s | loss target_only -0.00029766796383008784\n",
      "Progress 40% | iter 87 | 1607.7 pred/s | loss target_only -0.0002830349863888112\n",
      "Progress 50% | iter 109 | 1547.3 pred/s | loss target_only -0.00027169004530922024\n",
      "Progress 60% | iter 131 | 1643.4 pred/s | loss target_only -0.00024991964438495775\n",
      "Progress 70% | iter 153 | 1595.5 pred/s | loss target_only -0.0002727656129229394\n",
      "Progress 80% | iter 175 | 1538.7 pred/s | loss target_only -0.0002854946586212174\n",
      "Progress 90% | iter 197 | 1239.3 pred/s | loss target_only -0.00030659518781711906\n",
      "Progress 100% | iter 219 | 1121.2 pred/s | loss target_only -0.0002528821821055136\n",
      "\n",
      "=== TEST ===\n",
      "\n"
     ]
    },
    {
     "name": "stderr",
     "output_type": "stream",
     "text": [
      "100%|███████████████████████████████████████████████████████████████████████████████████████████████████████████████████████████████| 286/286 [00:08<00:00, 31.98it/s]\n"
     ]
    },
    {
     "name": "stdout",
     "output_type": "stream",
     "text": [
      "\u001b[31m| Metric               |    Value |\n",
      "|----------------------|----------|\n",
      "| target_probability   | 0.770849 |\n",
      "| choice_accuracy      | 0.794383 |\n",
      "| choice_accuracy_deg3 | 0.794383 |\n",
      "| precision_top1       | 0.795414 |\n",
      "| precision_top5       | 0.979129 |\n",
      "| path_nll             | 1.00955  |\n",
      "| path_nll_deg3        | 1.00955  |\u001b[0m\n",
      "Checkpointing...\n",
      "\u001b[34mCheckpoint saved in ../../models/gretel_prediction_models/tromso_small/chkpt/tromso_small/0015.pt\u001b[0m\n",
      "\n",
      "=== EPOCH 16 ===\n",
      "Progress 10% | iter 21 | 1284.8 pred/s | loss target_only -0.00027049766220987366\n",
      "Progress 20% | iter 43 | 1131.7 pred/s | loss target_only -0.0003015223353471747\n",
      "Progress 30% | iter 65 | 1186.5 pred/s | loss target_only -0.00026876051658891145\n",
      "Progress 40% | iter 87 | 1598.4 pred/s | loss target_only -0.0002369292533054056\n",
      "Progress 50% | iter 109 | 1451.6 pred/s | loss target_only -0.0002812904289017962\n",
      "Progress 60% | iter 131 | 1485.1 pred/s | loss target_only -0.0002892970088186066\n",
      "Progress 70% | iter 153 | 1382.7 pred/s | loss target_only -0.00028936050627811156\n",
      "Progress 80% | iter 175 | 1320.5 pred/s | loss target_only -0.0002828655453483167\n",
      "Progress 90% | iter 197 | 1475.9 pred/s | loss target_only -0.0002931446928896778\n",
      "Progress 100% | iter 219 | 1300.5 pred/s | loss target_only -0.00028784681627588236\n",
      "\n",
      "=== TEST ===\n",
      "\n"
     ]
    },
    {
     "name": "stderr",
     "output_type": "stream",
     "text": [
      "100%|███████████████████████████████████████████████████████████████████████████████████████████████████████████████████████████████| 286/286 [00:07<00:00, 37.70it/s]\n"
     ]
    },
    {
     "name": "stdout",
     "output_type": "stream",
     "text": [
      "\u001b[31m| Metric               |    Value |\n",
      "|----------------------|----------|\n",
      "| target_probability   | 0.785245 |\n",
      "| choice_accuracy      | 0.793481 |\n",
      "| choice_accuracy_deg3 | 0.793481 |\n",
      "| precision_top1       | 0.793223 |\n",
      "| precision_top5       | 0.986344 |\n",
      "| path_nll             | 1.17113  |\n",
      "| path_nll_deg3        | 1.17113  |\u001b[0m\n",
      "\n",
      "=== EPOCH 17 ===\n",
      "Progress 10% | iter 21 | 1561.7 pred/s | loss target_only -0.0002902979028175391\n",
      "Progress 20% | iter 43 | 1565.7 pred/s | loss target_only -0.00027544469982780195\n",
      "Progress 30% | iter 65 | 1574.2 pred/s | loss target_only -0.0002720512868650531\n",
      "Progress 40% | iter 87 | 1568.0 pred/s | loss target_only -0.00027253665081471097\n",
      "Progress 50% | iter 109 | 1552.4 pred/s | loss target_only -0.00028973695965880866\n",
      "Progress 60% | iter 131 | 1599.8 pred/s | loss target_only -0.0002745454123009851\n",
      "Progress 70% | iter 153 | 1499.3 pred/s | loss target_only -0.00031168513464819393\n",
      "Progress 80% | iter 175 | 1563.0 pred/s | loss target_only -0.0002874726014491478\n",
      "Progress 90% | iter 197 | 1567.3 pred/s | loss target_only -0.00028455414003719843\n",
      "Progress 100% | iter 219 | 1411.0 pred/s | loss target_only -0.00026460274733787725\n",
      "\n",
      "=== TEST ===\n",
      "\n"
     ]
    },
    {
     "name": "stderr",
     "output_type": "stream",
     "text": [
      "100%|███████████████████████████████████████████████████████████████████████████████████████████████████████████████████████████████| 286/286 [00:11<00:00, 25.99it/s]\n"
     ]
    },
    {
     "name": "stdout",
     "output_type": "stream",
     "text": [
      "\u001b[31m| Metric               |    Value |\n",
      "|----------------------|----------|\n",
      "| target_probability   | 0.787082 |\n",
      "| choice_accuracy      | 0.795929 |\n",
      "| choice_accuracy_deg3 | 0.795929 |\n",
      "| precision_top1       | 0.7958   |\n",
      "| precision_top5       | 0.986215 |\n",
      "| path_nll             | 1.1737   |\n",
      "| path_nll_deg3        | 1.1737   |\u001b[0m\n",
      "\n",
      "=== EPOCH 18 ===\n",
      "Progress 10% | iter 21 | 1426.4 pred/s | loss target_only -0.0002451001353685651\n",
      "Progress 20% | iter 43 | 1198.1 pred/s | loss target_only -0.0003056009606626309\n",
      "Progress 30% | iter 65 | 1482.2 pred/s | loss target_only -0.00024188535400678057\n",
      "Progress 40% | iter 87 | 1454.3 pred/s | loss target_only -0.00024918837996372467\n",
      "Progress 50% | iter 109 | 1416.6 pred/s | loss target_only -0.00026976611650055443\n",
      "Progress 60% | iter 131 | 1512.8 pred/s | loss target_only -0.0002897699860896616\n",
      "Progress 70% | iter 153 | 1565.1 pred/s | loss target_only -0.00026978299579518366\n",
      "Progress 80% | iter 175 | 1552.0 pred/s | loss target_only -0.0002810611214672408\n",
      "Progress 90% | iter 197 | 1194.8 pred/s | loss target_only -0.0002968088447510051\n",
      "Progress 100% | iter 219 | 1434.6 pred/s | loss target_only -0.0003253091834632004\n",
      "\n",
      "=== TEST ===\n",
      "\n"
     ]
    },
    {
     "name": "stderr",
     "output_type": "stream",
     "text": [
      "100%|███████████████████████████████████████████████████████████████████████████████████████████████████████████████████████████████| 286/286 [00:08<00:00, 35.64it/s]\n"
     ]
    },
    {
     "name": "stdout",
     "output_type": "stream",
     "text": [
      "\u001b[31m| Metric               |    Value |\n",
      "|----------------------|----------|\n",
      "| target_probability   | 0.765776 |\n",
      "| choice_accuracy      | 0.79696  |\n",
      "| choice_accuracy_deg3 | 0.79696  |\n",
      "| precision_top1       | 0.796058 |\n",
      "| precision_top5       | 0.982608 |\n",
      "| path_nll             | 0.893952 |\n",
      "| path_nll_deg3        | 0.893952 |\u001b[0m\n",
      "\n",
      "=== EPOCH 19 ===\n",
      "Progress 10% | iter 21 | 1416.2 pred/s | loss target_only -0.00025584670021977426\n",
      "Progress 20% | iter 43 | 1441.5 pred/s | loss target_only -0.0002661576716130191\n",
      "Progress 30% | iter 65 | 1400.6 pred/s | loss target_only -0.0003013519791345264\n",
      "Progress 40% | iter 87 | 1434.5 pred/s | loss target_only -0.00028899791915710247\n",
      "Progress 50% | iter 109 | 1424.3 pred/s | loss target_only -0.00029351129811115164\n",
      "Progress 60% | iter 131 | 1408.1 pred/s | loss target_only -0.00029801754437713113\n",
      "Progress 70% | iter 153 | 1427.6 pred/s | loss target_only -0.00027940191190418896\n",
      "Progress 80% | iter 175 | 1464.4 pred/s | loss target_only -0.00026288616298063495\n",
      "Progress 90% | iter 197 | 1470.7 pred/s | loss target_only -0.00025642026890155146\n",
      "Progress 100% | iter 219 | 1460.8 pred/s | loss target_only -0.00027075465304472935\n",
      "\n",
      "=== TEST ===\n",
      "\n"
     ]
    },
    {
     "name": "stderr",
     "output_type": "stream",
     "text": [
      "100%|███████████████████████████████████████████████████████████████████████████████████████████████████████████████████████████████| 286/286 [00:08<00:00, 34.86it/s]"
     ]
    },
    {
     "name": "stdout",
     "output_type": "stream",
     "text": [
      "\u001b[31m| Metric               |    Value |\n",
      "|----------------------|----------|\n",
      "| target_probability   | 0.77004  |\n",
      "| choice_accuracy      | 0.794512 |\n",
      "| choice_accuracy_deg3 | 0.794512 |\n",
      "| precision_top1       | 0.794254 |\n",
      "| precision_top5       | 0.984154 |\n",
      "| path_nll             | 0.974624 |\n",
      "| path_nll_deg3        | 0.974624 |\u001b[0m\n"
     ]
    },
    {
     "name": "stderr",
     "output_type": "stream",
     "text": [
      "\n"
     ]
    }
   ],
   "source": [
    "load_model = False\n",
    "directory = '../../models/gretel_prediction_models/tromso_small/'\n",
    "path_format = 'node2node'\n",
    "# Either load model from file...\n",
    "if load_model:\n",
    "    # load model from file\n",
    "    network_name = '202204_waypoints_DP10_HDBSCAN13_tromso_full_UTM'\n",
    "    model_path = '../../models/gretel_prediction_models/trained_models/'+network_name+'.obj'\n",
    "    fileObj = open(model_path, 'rb')\n",
    "    model = pickle.load(fileObj)\n",
    "    fileObj.close()\n",
    "    with open('../../models/gretel_prediction_models/trained_models/metadata.json', 'r') as json_file:\n",
    "        meta_dict = json.load(json_file)\n",
    "    data_version = meta_dict['data_version']    \n",
    "    print(meta_dict)\n",
    "    \n",
    "# ... or train model from scratch\n",
    "else:\n",
    "    directory = '../../models/gretel_prediction_models/tromso_small/'\n",
    "    path_format = 'node2node'\n",
    "    config_file = 'route_target'\n",
    "    task = 'path'\n",
    "    # load metadata file\n",
    "    with open(directory+path_format+'/metadata.json', 'r') as json_file:\n",
    "        meta_dict = json.load(json_file)\n",
    "    network_name = meta_dict['network_name']\n",
    "    data_version = meta_dict['data_version']\n",
    "    # train model\n",
    "    model = GretelPathPrediction()\n",
    "    model.train(config_file, directory, task)"
   ]
  },
  {
   "cell_type": "code",
   "execution_count": 3,
   "id": "6ca7a091-f857-4330-ac88-b8fb9713dcf7",
   "metadata": {},
   "outputs": [
    {
     "data": {
      "image/png": "[encoded data removed]",
      "text/plain": [
       "<Figure size 800x800 with 9 Axes>"
      ]
     },
     "metadata": {},
     "output_type": "display_data"
    }
   ],
   "source": [
    "# plot training metrics\n",
    "model.plot_train_test_metrics(test_only=True)"
   ]
  },
  {
   "cell_type": "code",
   "execution_count": 4,
   "id": "316385a0-bc3c-4e2e-a636-356187a9f299",
   "metadata": {},
   "outputs": [],
   "source": [
    "#start_node = 185\n",
    "#end_node = 474\n",
    "#node_dist, rw_weights = model.predict(start_node, end_node, 2)"
   ]
  },
  {
   "cell_type": "code",
   "execution_count": 5,
   "id": "c9ef6d0c-3eef-4a42-a1fe-7886e593b8a6",
   "metadata": {},
   "outputs": [],
   "source": [
    "# Load test data from file\n",
    "test_dates = ['202206']\n",
    "selection_start = 0\n",
    "selection_end = -1\n",
    "selection_step = 2\n",
    "path_prefix = '../../data/paths/'\n",
    "test_paths = dataloader_paths.load_path_test_data(path_prefix, network_name, test_dates, \n",
    "                                                  selection_start, selection_end, selection_step, data_version)"
   ]
  },
  {
   "cell_type": "code",
   "execution_count": 6,
   "id": "847a9acd-9b08-4915-b19b-f55386339b09",
   "metadata": {},
   "outputs": [
    {
     "name": "stdout",
     "output_type": "stream",
     "text": [
      "Making predictions for 761 samples\n",
      "Progress: 10%...20%...30%...40%...50%...60%...70%...80%...90%...Done!\n"
     ]
    }
   ],
   "source": [
    "#### MAKE PREDICTIONS ####\n",
    "prediction_task = 'path'  # 'next_nodes' or 'path'\n",
    "n_walks = 200\n",
    "n_start_nodes = 1\n",
    "n_steps = 2   # only needed for next nodes prediction\n",
    "n_predictions = 1\n",
    "max_path_length = 150\n",
    "\n",
    "predictions = model.predict(prediction_task, test_paths, n_start_nodes, n_steps, \n",
    "                            n_predictions, n_walks, max_path_length)"
   ]
  },
  {
   "cell_type": "code",
   "execution_count": 7,
   "id": "7918479f-e9ec-4a91-bfa0-b0a808b1e379",
   "metadata": {},
   "outputs": [],
   "source": [
    "# save results as csv\n",
    "predictions.to_csv(directory+path_format+'/predictions.csv')"
   ]
  },
  {
   "cell_type": "code",
   "execution_count": 8,
   "id": "18350fde-0305-4fd6-90d9-8667c09e308c",
   "metadata": {},
   "outputs": [],
   "source": [
    "# save metadata to file\n",
    "if load_model == False:\n",
    "    meta_dict['lr'] = model.config.lr\n",
    "    meta_dict['loss'] = model.config.loss\n",
    "    meta_dict['n_epochs'] = model.config.number_epoch\n",
    "    meta_dict['target_prediction'] = model.config.target_prediction\n",
    "meta_dict['n_walks'] = n_walks\n",
    "meta_dict['n_start_nodes'] = n_start_nodes\n",
    "meta_dict['n_steps'] = n_steps\n",
    "meta_dict['prediction_task'] = prediction_task\n",
    "meta_dict['model_type'] = 'Gretel'\n",
    "meta_dict.update({'test_dates':str(test_dates),\n",
    "                  'selection_start':selection_start,\n",
    "                  'selection_end':selection_end,\n",
    "                  'selection_step':selection_step,\n",
    "                  'n_test_paths':len(test_paths)})\n",
    "with open(directory+path_format+'/metadata.json', 'w') as json_file:\n",
    "    json.dump(meta_dict, json_file)"
   ]
  },
  {
   "cell_type": "code",
   "execution_count": 9,
   "id": "72814d83-a03a-4b0f-b07e-bc055ebcb357",
   "metadata": {},
   "outputs": [
    {
     "data": {
      "text/plain": [
       "\"\\nimport pickle\\n# save model as pickle object\\nfileObj = open('../../models/gretel_prediction_models/trained_models/'+meta_dict['network_name']+'.obj', 'wb')\\npickle.dump(model, fileObj)\\nfileObj.close()\\n\""
      ]
     },
     "execution_count": 9,
     "metadata": {},
     "output_type": "execute_result"
    }
   ],
   "source": [
    "'''\n",
    "import pickle\n",
    "# save model as pickle object\n",
    "fileObj = open('../../models/gretel_prediction_models/trained_models/'+meta_dict['network_name']+'.obj', 'wb')\n",
    "pickle.dump(model, fileObj)\n",
    "fileObj.close()\n",
    "'''"
   ]
  },
  {
   "cell_type": "code",
   "execution_count": null,
   "id": "d2e0f936-a21b-4fbb-9af0-3cd36748b2e8",
   "metadata": {},
   "outputs": [],
   "source": []
  }
 ],
 "metadata": {
  "kernelspec": {
   "display_name": "Python 3 (ipykernel)",
   "language": "python",
   "name": "python3"
  },
  "language_info": {
   "codemirror_mode": {
    "name": "ipython",
    "version": 3
   },
   "file_extension": ".py",
   "mimetype": "text/x-python",
   "name": "python",
   "nbconvert_exporter": "python",
   "pygments_lexer": "ipython3",
   "version": "3.11.4"
  }
 },
 "nbformat": 4,
 "nbformat_minor": 5
}
