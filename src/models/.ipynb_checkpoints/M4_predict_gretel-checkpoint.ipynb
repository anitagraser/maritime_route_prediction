{
 "cells": [
  {
   "cell_type": "code",
   "execution_count": 1,
   "id": "e8181bb6-bcd8-47e6-9746-bf3ceb3f44f4",
   "metadata": {},
   "outputs": [],
   "source": [
    "import pandas as pd\n",
    "from ast import literal_eval\n",
    "from Gretel_path_prediction import GretelPathPrediction\n",
    "\n",
    "import warnings\n",
    "warnings.filterwarnings('ignore')"
   ]
  },
  {
   "cell_type": "code",
   "execution_count": 2,
   "id": "40c6ffc9-ee7e-438b-a398-cb5fb10dae70",
   "metadata": {},
   "outputs": [
    {
     "name": "stdout",
     "output_type": "stream",
     "text": [
      "number of trajectories:  600\n",
      "number of valid trajectories (length in [2, 2]): 600\n",
      "trajectories length: min 2 | max 2 | mean 2.00\n",
      "split train/(valid)?/test 0.8/0.2\n",
      "==== START \"one_start_node_to_target_tromso_small\" ====\n",
      "Checkpoints will be saved in [../../models/gretel_prediction_models/tromso_small/chkpt/one_start_node_to_target_tromso_small]\n",
      "Number of node features 6. Number of edge features 3\n",
      "No initial edge transformer.\n",
      "Computing non backtracking edges...\n",
      "Done\n",
      "=== BASELINE ===\n",
      "TEST DATASET\n"
     ]
    },
    {
     "name": "stderr",
     "output_type": "stream",
     "text": [
      "100%|███████████████████████████████████████████████████████████████████████████████████████████████████████████████████████████| 120/120 [00:00<00:00, 1286.35it/s]\n"
     ]
    },
    {
     "name": "stdout",
     "output_type": "stream",
     "text": [
      "\u001b[32m| Metric               |      Value |\n",
      "|----------------------|------------|\n",
      "| target_probability   |  0.0285923 |\n",
      "| choice_accuracy      |  0.352868  |\n",
      "| choice_accuracy_deg3 |  0.215675  |\n",
      "| precision_top1       |  0.05      |\n",
      "| precision_top5       |  0.108333  |\n",
      "| path_nll             | 25.768     |\n",
      "| path_nll_deg3        | 23.833     |\u001b[0m\n",
      "TRAIN DATASET\n"
     ]
    },
    {
     "name": "stderr",
     "output_type": "stream",
     "text": [
      "100%|███████████████████████████████████████████████████████████████████████████████████████████████████████████████████████████| 480/480 [00:00<00:00, 1447.31it/s]\n"
     ]
    },
    {
     "name": "stdout",
     "output_type": "stream",
     "text": [
      "\u001b[32m| Metric               |      Value |\n",
      "|----------------------|------------|\n",
      "| target_probability   |  0.0709232 |\n",
      "| choice_accuracy      |  0.343753  |\n",
      "| choice_accuracy_deg3 |  0.218531  |\n",
      "| precision_top1       |  0.09375   |\n",
      "| precision_top5       |  0.252083  |\n",
      "| path_nll             | 28.267     |\n",
      "| path_nll_deg3        | 26.3826    |\u001b[0m\n",
      "=== NON BACKTRACKING BASELINE ===\n",
      "TEST DATASET\n"
     ]
    },
    {
     "name": "stderr",
     "output_type": "stream",
     "text": [
      "100%|████████████████████████████████████████████████████████████████████████████████████████████████████████████████████████████| 120/120 [00:00<00:00, 328.63it/s]\n"
     ]
    },
    {
     "name": "stdout",
     "output_type": "stream",
     "text": [
      "\u001b[32m| Metric               |      Value |\n",
      "|----------------------|------------|\n",
      "| target_probability   |  0.0277258 |\n",
      "| choice_accuracy      |  0.373917  |\n",
      "| choice_accuracy_deg3 |  0.248471  |\n",
      "| precision_top1       |  0.0583333 |\n",
      "| precision_top5       |  0.108333  |\n",
      "| path_nll             | 25.2887    |\n",
      "| path_nll_deg3        | 23.3537    |\u001b[0m\n",
      "TRAIN DATASET\n"
     ]
    },
    {
     "name": "stderr",
     "output_type": "stream",
     "text": [
      "100%|████████████████████████████████████████████████████████████████████████████████████████████████████████████████████████████| 480/480 [00:01<00:00, 324.64it/s]"
     ]
    },
    {
     "name": "stdout",
     "output_type": "stream",
     "text": [
      "\u001b[32m| Metric               |      Value |\n",
      "|----------------------|------------|\n",
      "| target_probability   |  0.0699906 |\n",
      "| choice_accuracy      |  0.348979  |\n",
      "| choice_accuracy_deg3 |  0.223592  |\n",
      "| precision_top1       |  0.09375   |\n",
      "| precision_top5       |  0.25      |\n",
      "| path_nll             | 28.0406    |\n",
      "| path_nll_deg3        | 26.1561    |\u001b[0m\n",
      "Computing non backtracking graph... "
     ]
    },
    {
     "name": "stderr",
     "output_type": "stream",
     "text": [
      "\n"
     ]
    },
    {
     "name": "stdout",
     "output_type": "stream",
     "text": [
      "Done\n",
      "\n",
      "=== TEST ===\n",
      "\n"
     ]
    },
    {
     "name": "stderr",
     "output_type": "stream",
     "text": [
      "100%|████████████████████████████████████████████████████████████████████████████████████████████████████████████████████████████| 120/120 [00:00<00:00, 160.25it/s]\n"
     ]
    },
    {
     "name": "stdout",
     "output_type": "stream",
     "text": [
      "\u001b[31m| Metric               |      Value |\n",
      "|----------------------|------------|\n",
      "| target_probability   |  0.0273288 |\n",
      "| choice_accuracy      |  0.336773  |\n",
      "| choice_accuracy_deg3 |  0.176209  |\n",
      "| precision_top1       |  0.05      |\n",
      "| precision_top5       |  0.108333  |\n",
      "| path_nll             | 26.0951    |\n",
      "| path_nll_deg3        | 24.1879    |\u001b[0m\n",
      "\n",
      "=== EPOCH 0 ===\n",
      "Progress 10% | iter 8 | 149.1 pred/s | loss log_dot_loss 0.12058073502999765\n",
      "Progress 20% | iter 17 | 162.7 pred/s | loss log_dot_loss 0.09276879245852246\n",
      "Progress 30% | iter 26 | 156.4 pred/s | loss log_dot_loss 0.09283313927827057\n",
      "Progress 40% | iter 35 | 157.5 pred/s | loss log_dot_loss 0.08843659000632204\n",
      "Progress 50% | iter 44 | 160.6 pred/s | loss log_dot_loss 0.08218436300018687\n",
      "Progress 60% | iter 53 | 160.1 pred/s | loss log_dot_loss 0.09236384556617266\n",
      "Progress 70% | iter 62 | 151.1 pred/s | loss log_dot_loss 0.07981762709441008\n",
      "Progress 80% | iter 71 | 150.4 pred/s | loss log_dot_loss 0.07877228524949816\n",
      "Progress 90% | iter 80 | 169.4 pred/s | loss log_dot_loss 0.07924831237322019\n",
      "Progress 100% | iter 89 | 162.0 pred/s | loss log_dot_loss 0.08539628864806376\n",
      "\n",
      "=== TEST ===\n",
      "\n"
     ]
    },
    {
     "name": "stderr",
     "output_type": "stream",
     "text": [
      "100%|████████████████████████████████████████████████████████████████████████████████████████████████████████████████████████████| 120/120 [00:00<00:00, 162.63it/s]\n"
     ]
    },
    {
     "name": "stdout",
     "output_type": "stream",
     "text": [
      "\u001b[31m| Metric               |      Value |\n",
      "|----------------------|------------|\n",
      "| target_probability   |  0.0510172 |\n",
      "| choice_accuracy      |  0.789104  |\n",
      "| choice_accuracy_deg3 |  0.733741  |\n",
      "| precision_top1       |  0.0583333 |\n",
      "| precision_top5       |  0.25      |\n",
      "| path_nll             | 15.5577    |\n",
      "| path_nll_deg3        | 14.6932    |\u001b[0m\n",
      "Checkpointing...\n",
      "\u001b[34mCheckpoint saved in ../../models/gretel_prediction_models/tromso_small/chkpt/one_start_node_to_target_tromso_small/0000.pt\u001b[0m\n",
      "\n",
      "=== EPOCH 1 ===\n",
      "Progress 10% | iter 8 | 156.3 pred/s | loss log_dot_loss 0.07705165191932961\n",
      "Progress 20% | iter 17 | 164.1 pred/s | loss log_dot_loss 0.0974737720724977\n",
      "Progress 30% | iter 26 | 158.0 pred/s | loss log_dot_loss 0.08730203604992526\n",
      "Progress 40% | iter 35 | 171.9 pred/s | loss log_dot_loss 0.08439044187098374\n",
      "Progress 50% | iter 44 | 144.5 pred/s | loss log_dot_loss 0.08954562022362225\n",
      "Progress 60% | iter 53 | 160.3 pred/s | loss log_dot_loss 0.07865855428907606\n",
      "Progress 70% | iter 62 | 155.6 pred/s | loss log_dot_loss 0.088079027482021\n",
      "Progress 80% | iter 71 | 172.0 pred/s | loss log_dot_loss 0.07723287005483369\n",
      "Progress 90% | iter 80 | 151.6 pred/s | loss log_dot_loss 0.08478564274163894\n",
      "Progress 100% | iter 89 | 158.7 pred/s | loss log_dot_loss 0.07109559730247214\n",
      "\n",
      "=== TEST ===\n",
      "\n"
     ]
    },
    {
     "name": "stderr",
     "output_type": "stream",
     "text": [
      "100%|████████████████████████████████████████████████████████████████████████████████████████████████████████████████████████████| 120/120 [00:00<00:00, 163.63it/s]\n"
     ]
    },
    {
     "name": "stdout",
     "output_type": "stream",
     "text": [
      "\u001b[31m| Metric               |      Value |\n",
      "|----------------------|------------|\n",
      "| target_probability   |  0.0516285 |\n",
      "| choice_accuracy      |  0.793644  |\n",
      "| choice_accuracy_deg3 |  0.733741  |\n",
      "| precision_top1       |  0.1       |\n",
      "| precision_top5       |  0.275     |\n",
      "| path_nll             | 14.9462    |\n",
      "| path_nll_deg3        | 14.16      |\u001b[0m\n",
      "\n",
      "=== EPOCH 2 ===\n",
      "Progress 10% | iter 8 | 163.7 pred/s | loss log_dot_loss 0.07556301752726237\n",
      "Progress 20% | iter 17 | 150.3 pred/s | loss log_dot_loss 0.08407378726535374\n",
      "Progress 30% | iter 26 | 157.8 pred/s | loss log_dot_loss 0.08105245342961065\n",
      "Progress 40% | iter 35 | 160.3 pred/s | loss log_dot_loss 0.07840801963099726\n",
      "Progress 50% | iter 44 | 159.7 pred/s | loss log_dot_loss 0.07210730799922237\n",
      "Progress 60% | iter 53 | 163.4 pred/s | loss log_dot_loss 0.08115452954798569\n",
      "Progress 70% | iter 62 | 157.6 pred/s | loss log_dot_loss 0.08321217843043952\n",
      "Progress 80% | iter 71 | 166.6 pred/s | loss log_dot_loss 0.08564197575604474\n",
      "Progress 90% | iter 80 | 158.7 pred/s | loss log_dot_loss 0.07334252227971584\n",
      "Progress 100% | iter 89 | 160.1 pred/s | loss log_dot_loss 0.0751514587873294\n",
      "\n",
      "=== TEST ===\n",
      "\n"
     ]
    },
    {
     "name": "stderr",
     "output_type": "stream",
     "text": [
      "100%|████████████████████████████████████████████████████████████████████████████████████████████████████████████████████████████| 120/120 [00:00<00:00, 163.62it/s]\n"
     ]
    },
    {
     "name": "stdout",
     "output_type": "stream",
     "text": [
      "\u001b[31m| Metric               |      Value |\n",
      "|----------------------|------------|\n",
      "| target_probability   |  0.0678729 |\n",
      "| choice_accuracy      |  0.779612  |\n",
      "| choice_accuracy_deg3 |  0.726515  |\n",
      "| precision_top1       |  0.116667  |\n",
      "| precision_top5       |  0.5       |\n",
      "| path_nll             | 14.2867    |\n",
      "| path_nll_deg3        | 13.5966    |\u001b[0m\n",
      "\n",
      "=== EPOCH 3 ===\n",
      "Progress 10% | iter 8 | 150.0 pred/s | loss log_dot_loss 0.07265793099815462\n",
      "Progress 20% | iter 17 | 146.5 pred/s | loss log_dot_loss 0.07521318035361207\n",
      "Progress 30% | iter 26 | 159.4 pred/s | loss log_dot_loss 0.09505481778839489\n",
      "Progress 40% | iter 35 | 162.2 pred/s | loss log_dot_loss 0.07273960319566138\n",
      "Progress 50% | iter 44 | 164.5 pred/s | loss log_dot_loss 0.06594773810586811\n",
      "Progress 60% | iter 53 | 174.6 pred/s | loss log_dot_loss 0.08721928890840507\n",
      "Progress 70% | iter 62 | 164.6 pred/s | loss log_dot_loss 0.09212792949911988\n",
      "Progress 80% | iter 71 | 154.5 pred/s | loss log_dot_loss 0.08451730998945825\n",
      "Progress 90% | iter 80 | 160.0 pred/s | loss log_dot_loss 0.08180623937536169\n",
      "Progress 100% | iter 89 | 79.5 pred/s | loss log_dot_loss 0.07743260124583304\n",
      "\n",
      "=== TEST ===\n",
      "\n"
     ]
    },
    {
     "name": "stderr",
     "output_type": "stream",
     "text": [
      "100%|████████████████████████████████████████████████████████████████████████████████████████████████████████████████████████████| 120/120 [00:01<00:00, 112.80it/s]\n"
     ]
    },
    {
     "name": "stdout",
     "output_type": "stream",
     "text": [
      "\u001b[31m| Metric               |      Value |\n",
      "|----------------------|------------|\n",
      "| target_probability   |  0.0588717 |\n",
      "| choice_accuracy      |  0.746182  |\n",
      "| choice_accuracy_deg3 |  0.679266  |\n",
      "| precision_top1       |  0.116667  |\n",
      "| precision_top5       |  0.383333  |\n",
      "| path_nll             | 14.8296    |\n",
      "| path_nll_deg3        | 13.9846    |\u001b[0m\n",
      "\n",
      "=== EPOCH 4 ===\n",
      "Progress 10% | iter 8 | 137.8 pred/s | loss log_dot_loss 0.10335681467880438\n",
      "Progress 20% | iter 17 | 164.6 pred/s | loss log_dot_loss 0.07018931118058569\n",
      "Progress 30% | iter 26 | 159.0 pred/s | loss log_dot_loss 0.07910023324283554\n",
      "Progress 40% | iter 35 | 159.2 pred/s | loss log_dot_loss 0.08882918769930616\n",
      "Progress 50% | iter 44 | 150.7 pred/s | loss log_dot_loss 0.07019750218332549\n",
      "Progress 60% | iter 53 | 170.7 pred/s | loss log_dot_loss 0.08400769763522678\n",
      "Progress 70% | iter 62 | 157.2 pred/s | loss log_dot_loss 0.08272769657182104\n",
      "Progress 80% | iter 71 | 154.3 pred/s | loss log_dot_loss 0.08470734666894984\n",
      "Progress 90% | iter 80 | 158.0 pred/s | loss log_dot_loss 0.08219643581060716\n",
      "Progress 100% | iter 89 | 154.1 pred/s | loss log_dot_loss 0.10035356533380203\n",
      "\n",
      "=== TEST ===\n",
      "\n"
     ]
    },
    {
     "name": "stderr",
     "output_type": "stream",
     "text": [
      "100%|████████████████████████████████████████████████████████████████████████████████████████████████████████████████████████████| 120/120 [00:00<00:00, 160.25it/s]"
     ]
    },
    {
     "name": "stdout",
     "output_type": "stream",
     "text": [
      "\u001b[31m| Metric               |      Value |\n",
      "|----------------------|------------|\n",
      "| target_probability   |  0.0586518 |\n",
      "| choice_accuracy      |  0.743293  |\n",
      "| choice_accuracy_deg3 |  0.67871   |\n",
      "| precision_top1       |  0.075     |\n",
      "| precision_top5       |  0.425     |\n",
      "| path_nll             | 15.8326    |\n",
      "| path_nll_deg3        | 15.065     |\u001b[0m\n"
     ]
    },
    {
     "name": "stderr",
     "output_type": "stream",
     "text": [
      "\n"
     ]
    }
   ],
   "source": [
    "directory = '../../models/gretel_prediction_models/tromso_small/'\n",
    "config_file = 'route_target'\n",
    "task = 'start-to-end'\n",
    "model = GretelPathPrediction()\n",
    "model.train(config_file, directory, task)"
   ]
  },
  {
   "cell_type": "code",
   "execution_count": 3,
   "id": "316385a0-bc3c-4e2e-a636-356187a9f299",
   "metadata": {},
   "outputs": [],
   "source": [
    "start_node = 185\n",
    "end_node = 474\n",
    "predictions, flag = model.predict_path(start_node, end_node, max_path_length=100, n_predictions=5, n_walks=1000)"
   ]
  },
  {
   "cell_type": "code",
   "execution_count": 4,
   "id": "c9ef6d0c-3eef-4a42-a1fe-7886e593b8a6",
   "metadata": {},
   "outputs": [],
   "source": [
    "# read model name from file\n",
    "with open(directory+'metadata.txt') as f:\n",
    "    model_name = f.readline().strip()\n",
    "# Load test data from file\n",
    "test_date = '202206'\n",
    "filename = model_name+'_'+test_date+'_paths.csv'\n",
    "df = pd.read_csv('../../data/paths/'+filename)\n",
    "df['path'] = df['path'].apply(literal_eval)\n",
    "df = df[df['message']=='success']\n",
    "test_data = df[['mmsi', 'path']]"
   ]
  },
  {
   "cell_type": "code",
   "execution_count": 5,
   "id": "847a9acd-9b08-4915-b19b-f55386339b09",
   "metadata": {},
   "outputs": [
    {
     "ename": "NameError",
     "evalue": "name 'verbose' is not defined",
     "output_type": "error",
     "traceback": [
      "\u001b[0;31m---------------------------------------------------------------------------\u001b[0m",
      "\u001b[0;31mNameError\u001b[0m                                 Traceback (most recent call last)",
      "Cell \u001b[0;32mIn[5], line 7\u001b[0m\n\u001b[1;32m      5\u001b[0m start_node \u001b[38;5;241m=\u001b[39m path[\u001b[38;5;241m0\u001b[39m]\n\u001b[1;32m      6\u001b[0m end_node \u001b[38;5;241m=\u001b[39m path[\u001b[38;5;241m-\u001b[39m\u001b[38;5;241m1\u001b[39m]\n\u001b[0;32m----> 7\u001b[0m prediction, flag \u001b[38;5;241m=\u001b[39m \u001b[43mmodel\u001b[49m\u001b[38;5;241;43m.\u001b[39;49m\u001b[43mpredict_path\u001b[49m\u001b[43m(\u001b[49m\u001b[43mstart_node\u001b[49m\u001b[43m,\u001b[49m\u001b[43m \u001b[49m\u001b[43mend_node\u001b[49m\u001b[43m,\u001b[49m\u001b[43m \u001b[49m\u001b[43mmax_path_length\u001b[49m\u001b[38;5;241;43m=\u001b[39;49m\u001b[38;5;241;43m100\u001b[39;49m\u001b[43m,\u001b[49m\u001b[43m \u001b[49m\u001b[43mn_predictions\u001b[49m\u001b[38;5;241;43m=\u001b[39;49m\u001b[38;5;241;43m1\u001b[39;49m\u001b[43m,\u001b[49m\u001b[43m \u001b[49m\u001b[43mn_walks\u001b[49m\u001b[38;5;241;43m=\u001b[39;49m\u001b[38;5;241;43m100\u001b[39;49m\u001b[43m)\u001b[49m\n\u001b[1;32m      8\u001b[0m predicted_path \u001b[38;5;241m=\u001b[39m [x \u001b[38;5;28;01mfor\u001b[39;00m x \u001b[38;5;129;01min\u001b[39;00m \u001b[38;5;28mlist\u001b[39m(prediction)[\u001b[38;5;241m0\u001b[39m]]\n\u001b[1;32m      9\u001b[0m result_list\u001b[38;5;241m.\u001b[39mappend({\u001b[38;5;124m'\u001b[39m\u001b[38;5;124mmmsi\u001b[39m\u001b[38;5;124m'\u001b[39m: mmsi, \u001b[38;5;124m'\u001b[39m\u001b[38;5;124mground_truth\u001b[39m\u001b[38;5;124m'\u001b[39m: \u001b[38;5;28mtuple\u001b[39m(path), \u001b[38;5;124m'\u001b[39m\u001b[38;5;124mprediction\u001b[39m\u001b[38;5;124m'\u001b[39m: \u001b[38;5;28mtuple\u001b[39m(predicted_path)})\n",
      "File \u001b[0;32m~/maritime_route_prediction/src/models/Gretel_path_prediction.py:259\u001b[0m, in \u001b[0;36mGretelPathPrediction.predict_path\u001b[0;34m(self, start_node, end_node, max_path_length, n_predictions, n_walks)\u001b[0m\n\u001b[1;32m    257\u001b[0m     n_walks \u001b[38;5;241m=\u001b[39m n_walks\u001b[38;5;241m*\u001b[39m\u001b[38;5;241m2\u001b[39m\n\u001b[1;32m    258\u001b[0m     \u001b[38;5;66;03m#print(f'No path was found. Retrying with more random walks {n_walks}')\u001b[39;00m\n\u001b[0;32m--> 259\u001b[0m     predicted_paths \u001b[38;5;241m=\u001b[39m \u001b[38;5;28mself\u001b[39m\u001b[38;5;241m.\u001b[39msample_paths(start_node, n_walks, verbose\u001b[38;5;241m=\u001b[39m\u001b[43mverbose\u001b[49m)\n\u001b[1;32m    260\u001b[0m     sums_dict, flag \u001b[38;5;241m=\u001b[39m \u001b[38;5;28mself\u001b[39m\u001b[38;5;241m.\u001b[39mreturn_valid_paths(predicted_paths, start_node, end_node, n_walks)\n\u001b[1;32m    261\u001b[0m \u001b[38;5;66;03m# only retain the desired number of predicted alternatives\u001b[39;00m\n",
      "\u001b[0;31mNameError\u001b[0m: name 'verbose' is not defined"
     ]
    }
   ],
   "source": [
    "result_list=[]\n",
    "print(f'Making predictions for {len(test_data)} samples')\n",
    "print(f'Progress:', end=' ', flush=True)\n",
    "    count = 0  # initialize a counter that keeps track of the progress\n",
    "    percentage = 0  # percentage of progress\n",
    "for index, row in test_data.iterrows():\n",
    "    mmsi = row['mmsi']\n",
    "    path = row['path']\n",
    "    start_node = path[0]\n",
    "    end_node = path[-1]\n",
    "    prediction, flag = model.predict_path(start_node, end_node, max_path_length=100, n_predictions=1, n_walks=100)\n",
    "    predicted_path = [x for x in list(prediction)[0]]\n",
    "    result_list.append({'mmsi': mmsi, 'ground_truth': tuple(path), 'prediction': tuple(predicted_path)})\n",
    "    # report progress\n",
    "    count += 1\n",
    "    if count/len(test_paths) > 0.1:\n",
    "        count = 0\n",
    "        percentage += 10\n",
    "        print(f'{percentage}%...', end='', flush=True)\n",
    "            \n",
    "print('Done!')\n",
    "\n",
    "result_df = pd.DataFrame(result_list)"
   ]
  },
  {
   "cell_type": "code",
   "execution_count": null,
   "id": "7918479f-e9ec-4a91-bfa0-b0a808b1e379",
   "metadata": {},
   "outputs": [],
   "source": [
    "# save results as csv\n",
    "result_df.to_csv(directory+'predictions.csv')"
   ]
  },
  {
   "cell_type": "code",
   "execution_count": null,
   "id": "b5b5b9af-7f9e-4f9b-aa01-5ac565175a2a",
   "metadata": {},
   "outputs": [],
   "source": []
  }
 ],
 "metadata": {
  "kernelspec": {
   "display_name": "Python 3 (ipykernel)",
   "language": "python",
   "name": "python3"
  },
  "language_info": {
   "codemirror_mode": {
    "name": "ipython",
    "version": 3
   },
   "file_extension": ".py",
   "mimetype": "text/x-python",
   "name": "python",
   "nbconvert_exporter": "python",
   "pygments_lexer": "ipython3",
   "version": "3.11.4"
  }
 },
 "nbformat": 4,
 "nbformat_minor": 5
}
