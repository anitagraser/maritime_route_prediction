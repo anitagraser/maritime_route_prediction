{
 "cells": [
  {
   "cell_type": "code",
   "execution_count": 1,
   "id": "49927bf2-f29d-4992-957c-3d46422d8479",
   "metadata": {},
   "outputs": [
    {
     "data": {
      "text/html": [
       "\n",
       "    <script charset=\"utf-8\">\n",
       "    // Load via requireJS if available (jupyter notebook environment)\n",
       "    try {\n",
       "    require.config({\n",
       "    paths: {\n",
       "    d3: \"https://d3js.org/d3.v5.min.js\".replace(\".js\", \"\")\n",
       "    }\n",
       "    });\n",
       "    console.log(\"OKAY: requireJS was detected\");\n",
       "    }\n",
       "    catch(err){\n",
       "    console.log(err);\n",
       "    console.log(\"ERROR: NO requireJS was detected\");\n",
       "    };\n",
       "    require(['d3'], function(d3){\n",
       "    console.log(\"OKAY: d3js was detected\");\n",
       "    });\n",
       "    </script>\n",
       "    "
      ],
      "text/plain": [
       "<IPython.core.display.HTML object>"
      ]
     },
     "metadata": {},
     "output_type": "display_data"
    },
    {
     "name": "stdout",
     "output_type": "stream",
     "text": [
      "Geopandas has version 0.13.2\n",
      "Movingpandas has version 0.17.1\n"
     ]
    }
   ],
   "source": [
    "import pathpy as pp\n",
    "import pandas as pd\n",
    "import geopandas as gpd\n",
    "import movingpandas as mpd\n",
    "import numpy as np\n",
    "from datetime import timedelta, datetime\n",
    "from ast import literal_eval\n",
    "import networkx as nx\n",
    "import folium\n",
    "import time\n",
    "import warnings\n",
    "import pickle\n",
    "import sys\n",
    "\n",
    "warnings.filterwarnings('ignore')\n",
    "print(\"Geopandas has version {}\".format(gpd.__version__))\n",
    "print(\"Movingpandas has version {}\".format(mpd.__version__))\n",
    "\n",
    "# add paths for modules\n",
    "sys.path.append('../visualization')\n",
    "sys.path.append('../features')\n",
    "# import modules\n",
    "import visualize\n",
    "import geometry_utils\n",
    "from maritime_traffic_network import MaritimeTrafficNetwork\n",
    "from MOGen_path_prediction import MOGenPathPrediction"
   ]
  },
  {
   "cell_type": "code",
   "execution_count": 2,
   "id": "c725d2f9-53a1-4ab2-b113-68f38ee0d416",
   "metadata": {},
   "outputs": [
    {
     "data": {
      "text/plain": [
       "{'Data': '../../data/processed/202204_points_tromso_cleaned_meta_full_dualSplit_2.parquet',\n",
       " 'DP_tolerance': 10,\n",
       " 'clustering_method': 'HDBSCAN',\n",
       " 'clustering_metric': 'mahalanobis',\n",
       " 'clustering_min_samples': 13,\n",
       " 'clustering_min_cluster_size': 13,\n",
       " 'clustering_eps': 0,\n",
       " 'clustering_metric_V': array([[1.  , 0.  , 0.  , 0.  , 0.  ],\n",
       "        [0.  , 1.  , 0.  , 0.  , 0.  ],\n",
       "        [0.  , 0.  , 0.01, 0.  , 0.  ],\n",
       "        [0.  , 0.  , 0.  , 0.01, 0.  ],\n",
       "        [0.  , 0.  , 0.  , 0.  , 1.  ]]),\n",
       " 'graph_generation_max_distance': 20,\n",
       " 'graph_generation_max_angle': 45,\n",
       " 'refinement': True,\n",
       " 'refinement_months': ['202204', '202205', '202206'],\n",
       " 'refinement_n_paths': 4510}"
      ]
     },
     "execution_count": 2,
     "metadata": {},
     "output_type": "execute_result"
    }
   ],
   "source": [
    "# Load a model from pickle\n",
    "datasize = 'full'\n",
    "location = 'tromso'\n",
    "model_date = '202204'\n",
    "train_date = '202204'\n",
    "test_date = '202204'\n",
    "DP_tol = 10\n",
    "min_samples = 13\n",
    "\n",
    "model_name = model_date+'_waypoints_DP'+str(DP_tol)+'_HDBSCAN'+str(min_samples)+'_'+location+'_'+datasize+'_UTM'\n",
    "model_path = '../../models/networks/best_networks/' + model_name + '.obj'\n",
    "fileObj = open(model_path, 'rb')\n",
    "network = pickle.load(fileObj)\n",
    "fileObj.close()\n",
    "network.hyperparameters"
   ]
  },
  {
   "cell_type": "code",
   "execution_count": 3,
   "id": "45524501-d7ba-46d1-b6eb-1889e4f8a838",
   "metadata": {},
   "outputs": [],
   "source": [
    "# Load training data from file\n",
    "filename = model_name+'_'+train_date+'_paths.csv'\n",
    "training_data = pd.read_csv('../../data/paths/'+filename)\n",
    "training_data['path'] = training_data['path'].apply(literal_eval)\n",
    "training_data = gpd.GeoDataFrame(training_data, geometry=gpd.GeoSeries.from_wkt(training_data['geometry']), crs='32632')\n",
    "training_data = training_data[training_data['message']=='success']\n",
    "# extract paths from the training data\n",
    "training_paths = training_data['path'].tolist()"
   ]
  },
  {
   "cell_type": "code",
   "execution_count": 4,
   "id": "943cffd0-5d7a-400e-a886-f9c3ce98d8df",
   "metadata": {},
   "outputs": [],
   "source": [
    "# Load respective trajectories for evaluation\n",
    "traj_file = test_date+'_points_'+location+'_cleaned_meta_full_dualSplit_2'\n",
    "filename = '../../data/processed/' + traj_file + '.parquet'\n",
    "traj_gdf = gpd.read_parquet(filename)\n",
    "crs = network.crs  # Coordinate reference system\n",
    "traj_gdf.to_crs(crs, inplace=True)  # Transformation\n",
    "test_trajectories = mpd.TrajectoryCollection(traj_gdf, traj_id_col='mmsi', obj_id_col='mmsi')"
   ]
  },
  {
   "cell_type": "code",
   "execution_count": 5,
   "id": "8e85d0b0-ea27-462b-8aa6-b2b4f8dd2695",
   "metadata": {},
   "outputs": [
    {
     "name": "stdout",
     "output_type": "stream",
     "text": [
      "Uid:\t\t0x2946cc890\n",
      "Type:\t\tPath\n",
      "Directed:\tTrue\n",
      "Nodes:\t\t{25: Empty 25, 426: Empty 426, 464: Empty 464, 425: Empty 425, 33: Empty 33, 434: Empty 434, 34: Empty 34, 313: Empty 313, 3: Empty 3, 281: Empty 281, 282: Empty 282, 285: Empty 285, 286: Empty 286, 283: Empty 283, 284: Empty 284, 287: Empty 287, 289: Empty 289, 290: Empty 290, 280: Empty 280, 277: Empty 277, 271: Empty 271, 496: Empty 496, 493: Empty 493, 314: Empty 314, 515: Empty 515, 520: Empty 520, 535: Empty 535, 537: Empty 537, 539: Empty 539, 540: Empty 540, 538: Empty 538, 527: Empty 527, 529: Empty 529, 521: Empty 521, 514: Empty 514, 513: Empty 513, 511: Empty 511, 512: Empty 512, 508: Empty 508, 477: Empty 477, 441: Empty 441, 430: Empty 430, 399: Empty 399, 368: Empty 368, 377: Empty 377, 387: Empty 387, 396: Empty 396, 397: Empty 397, 400: Empty 400, 401: Empty 401, 402: Empty 402, 386: Empty 386, 303: Empty 303}\n",
      "Relations:\t(25, 426, 464, 425, 33, 434, 34, 313, 3, 281, 282, 285, 286, 283, 284, 287, 289, 290, 280, 277, 271, 496, 493, 314, 515, 520, 535, 537, 539, 540, 538, 527, 529, 521, 514, 513, 511, 512, 508, 477, 441, 430, 399, 368, 377, 387, 396, 397, 400, 401, 402, 386, 303)\n",
      "\n"
     ]
    }
   ],
   "source": [
    "# create a pathpy path object for demonstration\n",
    "raw_path = training_paths[0]\n",
    "path = pp.Path(*raw_path)\n",
    "print(path)"
   ]
  },
  {
   "cell_type": "code",
   "execution_count": 6,
   "id": "af614f70-8157-4429-9d46-982f05ce6b56",
   "metadata": {},
   "outputs": [
    {
     "name": "stderr",
     "output_type": "stream",
     "text": [
      "order:  1; T     (8 prcs): 100%|██████████████████| 2/2 [00:01<00:00,  1.75it/s]\n",
      "order:  1; log_L (8 prcs): 100%|██████████████████| 2/2 [00:01<00:00,  1.91it/s]\n",
      "order:  2; T     (8 prcs): 100%|██████████████████| 2/2 [00:00<00:00,  2.29it/s]\n",
      "order:  2; log_L (8 prcs): 100%|██████████████████| 2/2 [00:01<00:00,  1.91it/s]"
     ]
    },
    {
     "name": "stdout",
     "output_type": "stream",
     "text": [
      "Selected optimal maximum order K=1 from candidates.\n",
      "======================================================\n",
      "MOGen model\n",
      "- Model Selection ------------------------------------\n",
      " K  |   nodes     edges   |   log L    dof         AIC\n",
      "\u001b[1m 1 \u001b[0m | \u001b[1m   787      38029  \u001b[0m | \u001b[1m-18549.82  2059   41217.64\u001b[0m\n",
      " 2  |   2189      38029   | -14695.40  6975   43340.80\n",
      "======================================================\n"
     ]
    },
    {
     "name": "stderr",
     "output_type": "stream",
     "text": [
      "\n"
     ]
    }
   ],
   "source": [
    "mogen = MOGenPathPrediction()\n",
    "mogen.train(training_paths, max_order=2, model_selection=True)"
   ]
  },
  {
   "cell_type": "code",
   "execution_count": 7,
   "id": "d3caae82-daf6-4821-97c8-dbda55803a14",
   "metadata": {},
   "outputs": [
    {
     "data": {
      "image/png": "[encoded data removed]",
      "text/plain": [
       "<Figure size 2100x600 with 3 Axes>"
      ]
     },
     "metadata": {},
     "output_type": "display_data"
    }
   ],
   "source": [
    "mogen.model.plot()"
   ]
  },
  {
   "cell_type": "code",
   "execution_count": 8,
   "id": "e54d1f6d-9ad4-43f0-abc8-e2532ce26cfe",
   "metadata": {},
   "outputs": [],
   "source": [
    "# make predictions for a start node\n",
    "#predictions = mogen.predict_paths(start_node=[130], n_paths=100)"
   ]
  },
  {
   "cell_type": "code",
   "execution_count": 9,
   "id": "11246e48-e708-4ba5-9d12-49d1cc99d003",
   "metadata": {},
   "outputs": [
    {
     "name": "stdout",
     "output_type": "stream",
     "text": [
      "[130, 129]\n"
     ]
    },
    {
     "name": "stderr",
     "output_type": "stream",
     "text": [
      "100%|█████████████████████████████████████████████| 1/1 [00:02<00:00,  2.04s/it]\n"
     ]
    },
    {
     "data": {
      "text/plain": [
       "{(127, 126): 0.03,\n",
       " (128, 4, 127, 175, 170, 172, 173, 171): 0.01,\n",
       " (128, 4, 127, 175, 6): 0.01,\n",
       " (127, 175, 170): 0.01,\n",
       " (128,\n",
       "  4,\n",
       "  354,\n",
       "  353,\n",
       "  323,\n",
       "  319,\n",
       "  318,\n",
       "  388,\n",
       "  393,\n",
       "  392,\n",
       "  391,\n",
       "  390,\n",
       "  389,\n",
       "  412,\n",
       "  411,\n",
       "  410,\n",
       "  417,\n",
       "  419,\n",
       "  418,\n",
       "  421,\n",
       "  420,\n",
       "  446,\n",
       "  455,\n",
       "  459,\n",
       "  483,\n",
       "  482,\n",
       "  481,\n",
       "  489,\n",
       "  499,\n",
       "  501,\n",
       "  500,\n",
       "  519,\n",
       "  523,\n",
       "  522,\n",
       "  524,\n",
       "  533,\n",
       "  532,\n",
       "  531,\n",
       "  530,\n",
       "  526,\n",
       "  525,\n",
       "  516,\n",
       "  404,\n",
       "  431,\n",
       "  168,\n",
       "  109,\n",
       "  5,\n",
       "  300,\n",
       "  306,\n",
       "  307,\n",
       "  305,\n",
       "  2,\n",
       "  269,\n",
       "  268,\n",
       "  267,\n",
       "  270,\n",
       "  273,\n",
       "  272,\n",
       "  266,\n",
       "  265,\n",
       "  264,\n",
       "  263,\n",
       "  364,\n",
       "  468,\n",
       "  469,\n",
       "  474,\n",
       "  470,\n",
       "  465,\n",
       "  464): 0.005}"
      ]
     },
     "execution_count": 9,
     "metadata": {},
     "output_type": "execute_result"
    }
   ],
   "source": [
    "example = training_data.iloc[1]\n",
    "mmsi = example.mmsi\n",
    "start_node = [example.path[0], example.path[1]]\n",
    "print(start_node)\n",
    "true_path = example.path\n",
    "trajectory = test_trajectories.get_trajectory(mmsi)\n",
    "#start_node = [130]\n",
    "predictions = mogen.predict_next_node(start_node=start_node, n_predictions=5, n_steps=-1, n_walks=200)\n",
    "predictions"
   ]
  },
  {
   "cell_type": "code",
   "execution_count": 10,
   "id": "7bb9c5a4-0335-4f38-b5d7-0d61f25c0b14",
   "metadata": {},
   "outputs": [
    {
     "name": "stdout",
     "output_type": "stream",
     "text": [
      "Map saved under ../../reports/maps/202204_waypoints_DP10_HDBSCAN13_tromso_full_UTM_MOGen_predictions.html\n"
     ]
    }
   ],
   "source": [
    "map = mogen.plot_predictions(predictions, start_node, trajectory, true_path, network, min_passages=3, opacity=0.2, center=[69, 19])\n",
    "map.save('../../reports/maps/'+model_name+'_MOGen_predictions.html')\n",
    "print(f'Map saved under {\"../../reports/maps/\"+model_name+\"_MOGen_predictions.html\"}')"
   ]
  },
  {
   "cell_type": "code",
   "execution_count": 11,
   "id": "f840ff49-3291-441e-a012-ee3d2a16be6f",
   "metadata": {},
   "outputs": [],
   "source": [
    "wpc = network.waypoint_connections_refined"
   ]
  },
  {
   "cell_type": "code",
   "execution_count": 12,
   "id": "5cf3c398-5d0c-46f5-82a4-76f0c80af3f0",
   "metadata": {},
   "outputs": [
    {
     "data": {
      "text/html": [
       "<div>\n",
       "<style scoped>\n",
       "    .dataframe tbody tr th:only-of-type {\n",
       "        vertical-align: middle;\n",
       "    }\n",
       "\n",
       "    .dataframe tbody tr th {\n",
       "        vertical-align: top;\n",
       "    }\n",
       "\n",
       "    .dataframe thead th {\n",
       "        text-align: right;\n",
       "    }\n",
       "</style>\n",
       "<table border=\"1\" class=\"dataframe\">\n",
       "  <thead>\n",
       "    <tr style=\"text-align: right;\">\n",
       "      <th></th>\n",
       "      <th>from</th>\n",
       "      <th>to</th>\n",
       "      <th>geometry</th>\n",
       "      <th>direction</th>\n",
       "      <th>length</th>\n",
       "      <th>passages</th>\n",
       "      <th>speed_mean</th>\n",
       "      <th>speed_std</th>\n",
       "      <th>speed_95_perc_confidence</th>\n",
       "      <th>speed_distribution</th>\n",
       "      <th>cross_track_dist_std</th>\n",
       "      <th>cross_track_dist_95_perc_confidence</th>\n",
       "      <th>cross_track_dist_distribution</th>\n",
       "    </tr>\n",
       "  </thead>\n",
       "  <tbody>\n",
       "    <tr>\n",
       "      <th>119</th>\n",
       "      <td>470</td>\n",
       "      <td>464</td>\n",
       "      <td>LINESTRING (886994.080 7762919.977, 886796.891...</td>\n",
       "      <td>205.188124</td>\n",
       "      <td>724.643899</td>\n",
       "      <td>266</td>\n",
       "      <td>5.502688</td>\n",
       "      <td>1.462621</td>\n",
       "      <td>[8.369425631242843, 2.6359511557128332]</td>\n",
       "      <td>[5.609186209268684, 4.456340394471328, 3.96878...</td>\n",
       "      <td>1234.298498</td>\n",
       "      <td>2419.225057</td>\n",
       "      <td>[8.014597692308147, 117.3397368677119, 49.0703...</td>\n",
       "    </tr>\n",
       "    <tr>\n",
       "      <th>887</th>\n",
       "      <td>470</td>\n",
       "      <td>465</td>\n",
       "      <td>LINESTRING (886994.080 7762919.977, 886638.633...</td>\n",
       "      <td>228.067831</td>\n",
       "      <td>568.806403</td>\n",
       "      <td>99</td>\n",
       "      <td>5.237819</td>\n",
       "      <td>1.404519</td>\n",
       "      <td>[7.99067610451516, 2.484962288106787]</td>\n",
       "      <td>[5.2661947332198125, 6.283004896235272, 7.3292...</td>\n",
       "      <td>1139.797096</td>\n",
       "      <td>2234.002309</td>\n",
       "      <td>[62.679647621543864, 58.027951845017654, 64.74...</td>\n",
       "    </tr>\n",
       "    <tr>\n",
       "      <th>1707</th>\n",
       "      <td>470</td>\n",
       "      <td>476</td>\n",
       "      <td>LINESTRING (886994.080 7762919.977, 886357.978...</td>\n",
       "      <td>202.612396</td>\n",
       "      <td>2782.815167</td>\n",
       "      <td>7</td>\n",
       "      <td>5.335941</td>\n",
       "      <td>0.594615</td>\n",
       "      <td>[6.50138542123401, 4.170495940946294]</td>\n",
       "      <td>[4.941649168773344, 6.070138873949106, 5.90862...</td>\n",
       "      <td>134.488926</td>\n",
       "      <td>263.598295</td>\n",
       "      <td>[111.44409969830414, 169.1488046145957, 117.98...</td>\n",
       "    </tr>\n",
       "  </tbody>\n",
       "</table>\n",
       "</div>"
      ],
      "text/plain": [
       "     from   to                                           geometry   direction  \\\n",
       "119   470  464  LINESTRING (886994.080 7762919.977, 886796.891...  205.188124   \n",
       "887   470  465  LINESTRING (886994.080 7762919.977, 886638.633...  228.067831   \n",
       "1707  470  476  LINESTRING (886994.080 7762919.977, 886357.978...  202.612396   \n",
       "\n",
       "           length  passages  speed_mean  speed_std  \\\n",
       "119    724.643899       266    5.502688   1.462621   \n",
       "887    568.806403        99    5.237819   1.404519   \n",
       "1707  2782.815167         7    5.335941   0.594615   \n",
       "\n",
       "                     speed_95_perc_confidence  \\\n",
       "119   [8.369425631242843, 2.6359511557128332]   \n",
       "887     [7.99067610451516, 2.484962288106787]   \n",
       "1707    [6.50138542123401, 4.170495940946294]   \n",
       "\n",
       "                                     speed_distribution  cross_track_dist_std  \\\n",
       "119   [5.609186209268684, 4.456340394471328, 3.96878...           1234.298498   \n",
       "887   [5.2661947332198125, 6.283004896235272, 7.3292...           1139.797096   \n",
       "1707  [4.941649168773344, 6.070138873949106, 5.90862...            134.488926   \n",
       "\n",
       "      cross_track_dist_95_perc_confidence  \\\n",
       "119                           2419.225057   \n",
       "887                           2234.002309   \n",
       "1707                           263.598295   \n",
       "\n",
       "                          cross_track_dist_distribution  \n",
       "119   [8.014597692308147, 117.3397368677119, 49.0703...  \n",
       "887   [62.679647621543864, 58.027951845017654, 64.74...  \n",
       "1707  [111.44409969830414, 169.1488046145957, 117.98...  "
      ]
     },
     "execution_count": 12,
     "metadata": {},
     "output_type": "execute_result"
    }
   ],
   "source": [
    "wpc[wpc['from'] == 470]"
   ]
  },
  {
   "cell_type": "code",
   "execution_count": null,
   "id": "59823c69-2bdc-47f6-a1d2-0660248a3ac0",
   "metadata": {},
   "outputs": [],
   "source": []
  }
 ],
 "metadata": {
  "kernelspec": {
   "display_name": "Python 3 (ipykernel)",
   "language": "python",
   "name": "python3"
  },
  "language_info": {
   "codemirror_mode": {
    "name": "ipython",
    "version": 3
   },
   "file_extension": ".py",
   "mimetype": "text/x-python",
   "name": "python",
   "nbconvert_exporter": "python",
   "pygments_lexer": "ipython3",
   "version": "3.11.5"
  }
 },
 "nbformat": 4,
 "nbformat_minor": 5
}
