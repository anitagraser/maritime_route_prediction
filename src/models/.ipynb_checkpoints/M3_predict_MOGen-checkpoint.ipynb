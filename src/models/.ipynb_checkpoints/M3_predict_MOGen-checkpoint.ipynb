{
 "cells": [
  {
   "cell_type": "code",
   "execution_count": 1,
   "id": "49927bf2-f29d-4992-957c-3d46422d8479",
   "metadata": {},
   "outputs": [
    {
     "data": {
      "text/html": [
       "\n",
       "    <script charset=\"utf-8\">\n",
       "    // Load via requireJS if available (jupyter notebook environment)\n",
       "    try {\n",
       "    require.config({\n",
       "    paths: {\n",
       "    d3: \"https://d3js.org/d3.v5.min.js\".replace(\".js\", \"\")\n",
       "    }\n",
       "    });\n",
       "    console.log(\"OKAY: requireJS was detected\");\n",
       "    }\n",
       "    catch(err){\n",
       "    console.log(err);\n",
       "    console.log(\"ERROR: NO requireJS was detected\");\n",
       "    };\n",
       "    require(['d3'], function(d3){\n",
       "    console.log(\"OKAY: d3js was detected\");\n",
       "    });\n",
       "    </script>\n",
       "    "
      ],
      "text/plain": [
       "<IPython.core.display.HTML object>"
      ]
     },
     "metadata": {},
     "output_type": "display_data"
    }
   ],
   "source": [
    "import warnings\n",
    "import pickle\n",
    "import sys\n",
    "import numpy as np\n",
    "\n",
    "warnings.filterwarnings('ignore')\n",
    "\n",
    "# add paths for modules\n",
    "sys.path.append('../visualization')\n",
    "sys.path.append('../features')\n",
    "sys.path.append('../datawrangling')\n",
    "\n",
    "# import modules\n",
    "import dataloader_paths, dataloader_geo\n",
    "import visualize\n",
    "import geometry_utils\n",
    "from maritime_traffic_network import MaritimeTrafficNetwork\n",
    "from MOGen_path_prediction import MOGenPathPrediction\n",
    "import prediction_model_evaluation_metrics as metrics"
   ]
  },
  {
   "cell_type": "code",
   "execution_count": 2,
   "id": "c725d2f9-53a1-4ab2-b113-68f38ee0d416",
   "metadata": {},
   "outputs": [
    {
     "data": {
      "text/plain": [
       "{'Data': '../../data/processed/202204_points_tromso_cleaned_meta_full_dualSplit_2.parquet',\n",
       " 'DP_tolerance': 10,\n",
       " 'clustering_method': 'HDBSCAN',\n",
       " 'clustering_metric': 'mahalanobis',\n",
       " 'clustering_min_samples': 13,\n",
       " 'clustering_min_cluster_size': 13,\n",
       " 'clustering_eps': 0,\n",
       " 'clustering_metric_V': array([[1.  , 0.  , 0.  , 0.  , 0.  ],\n",
       "        [0.  , 1.  , 0.  , 0.  , 0.  ],\n",
       "        [0.  , 0.  , 0.01, 0.  , 0.  ],\n",
       "        [0.  , 0.  , 0.  , 0.01, 0.  ],\n",
       "        [0.  , 0.  , 0.  , 0.  , 1.  ]]),\n",
       " 'graph_generation_max_distance': 20,\n",
       " 'graph_generation_max_angle': 45}"
      ]
     },
     "execution_count": 2,
     "metadata": {},
     "output_type": "execute_result"
    }
   ],
   "source": [
    "# Load a network from pickle\n",
    "datasize = 'full'\n",
    "location = 'tromso'\n",
    "model_date = '202204'\n",
    "train_dates = ['202205']\n",
    "test_dates = ['202206']\n",
    "DP_tol = 10\n",
    "min_samples = 13\n",
    "\n",
    "network_name = model_date+'_waypoints_DP'+str(DP_tol)+'_HDBSCAN'+str(min_samples)+'_'+location+'_'+datasize+'_UTM'\n",
    "network_path = '../../models/networks/best_networks/' + network_name + '.obj'\n",
    "fileObj = open(network_path, 'rb')\n",
    "network = pickle.load(fileObj)\n",
    "fileObj.close()\n",
    "network.hyperparameters"
   ]
  },
  {
   "cell_type": "code",
   "execution_count": 3,
   "id": "45524501-d7ba-46d1-b6eb-1889e4f8a838",
   "metadata": {},
   "outputs": [],
   "source": [
    "# Load training data from file\n",
    "path_prefix = '../../data/paths/'\n",
    "training_paths = dataloader_paths.load_path_training_data(path_prefix, network_name, train_dates, data_version='')"
   ]
  },
  {
   "cell_type": "code",
   "execution_count": 4,
   "id": "af614f70-8157-4429-9d46-982f05ce6b56",
   "metadata": {},
   "outputs": [
    {
     "name": "stdout",
     "output_type": "stream",
     "text": [
      "Training MOGen Model on 1433 paths...\n"
     ]
    },
    {
     "name": "stderr",
     "output_type": "stream",
     "text": [
      "order:  1; T     (8 prcs): 100%|██████████████████| 2/2 [00:00<00:00,  2.27it/s]\n",
      "order:  1; log_L (8 prcs): 100%|██████████████████| 2/2 [00:00<00:00,  2.21it/s]"
     ]
    },
    {
     "name": "stdout",
     "output_type": "stream",
     "text": [
      "Selected optimal maximum order K=1 from candidates.\n",
      "======================================================\n",
      "MOGen model\n",
      "- Model Selection ------------------------------------\n",
      " K  |   nodes     edges   |   log L    dof         AIC\n",
      "\u001b[1m 1 \u001b[0m | \u001b[1m   676      37557  \u001b[0m | \u001b[1m-17802.81  1822   39249.63\u001b[0m\n",
      "======================================================\n"
     ]
    },
    {
     "name": "stderr",
     "output_type": "stream",
     "text": [
      "\n"
     ]
    }
   ],
   "source": [
    "# Train MOGen Model\n",
    "model = MOGenPathPrediction()\n",
    "print(f'Training MOGen Model on {len(training_paths)} paths...')\n",
    "model.train(training_paths, max_order=1, model_selection=True, training_mode='partial')"
   ]
  },
  {
   "cell_type": "code",
   "execution_count": 5,
   "id": "d3caae82-daf6-4821-97c8-dbda55803a14",
   "metadata": {},
   "outputs": [
    {
     "data": {
      "image/png": "[encoded data removed]",
      "text/plain": [
       "<Figure size 2100x600 with 3 Axes>"
      ]
     },
     "metadata": {},
     "output_type": "display_data"
    }
   ],
   "source": [
    "model.model.plot()"
   ]
  },
  {
   "cell_type": "code",
   "execution_count": 6,
   "id": "1c6e3cc4-aa58-44e3-889c-03a8ce027e86",
   "metadata": {},
   "outputs": [],
   "source": [
    "# Load test data from file\n",
    "traj_path_prefix = '../../data/processed/'\n",
    "all_test_paths = dataloader_paths.load_path_test_data(path_prefix, network_name, test_dates, \n",
    "                                                      0, -1, 1, data_version='')\n",
    "test_trajectories = dataloader_geo.load_trajectories(traj_path_prefix, location, network.crs, test_dates)"
   ]
  },
  {
   "cell_type": "code",
   "execution_count": 7,
   "id": "35deb33e-3b08-4b46-9190-79635e295167",
   "metadata": {},
   "outputs": [],
   "source": [
    "##### Prediction parameters ######\n",
    "prediction_task = 'next_nodes'  # 'next_nodes' or 'path'\n",
    "n_walks = 1000\n",
    "n_start_nodes = 1\n",
    "n_steps = 1        # only needed for next nodes prediction\n",
    "n_predictions = 1\n",
    "\n",
    "# select test data\n",
    "selection_start = 0\n",
    "selection_end = -1\n",
    "selection_step = 20\n",
    "\n",
    "if prediction_task == 'next_nodes':\n",
    "    # split test paths in subpaths\n",
    "    sub_paths = dataloader_paths.split_path_data(all_test_paths, n_steps+1)\n",
    "    if selection_end == -1:\n",
    "        selection_end = len(sub_paths)\n",
    "    selection = np.arange(selection_start, selection_end, selection_step)\n",
    "    test_paths = sub_paths.iloc[selection]\n",
    "else:\n",
    "    if selection_end == -1:\n",
    "        selection_end = len(all_test_paths)\n",
    "    selection = np.arange(selection_start, selection_end, selection_step)\n",
    "    test_paths = all_test_paths.iloc[selection]"
   ]
  },
  {
   "cell_type": "code",
   "execution_count": null,
   "id": "58a6b061-0ae0-4599-b4ec-7ce6233534c5",
   "metadata": {},
   "outputs": [
    {
     "name": "stdout",
     "output_type": "stream",
     "text": [
      "Making predictions for 1879 samples\n",
      "Progress: "
     ]
    }
   ],
   "source": [
    "# make predictions\n",
    "predictions = model.predict(prediction_task, test_paths, network.G, \n",
    "                            n_start_nodes=n_start_nodes, n_steps=n_steps, \n",
    "                            n_predictions=n_predictions, n_walks=n_walks)"
   ]
  },
  {
   "cell_type": "code",
   "execution_count": null,
   "id": "6a45fe86-9fba-486a-87cd-36952a83c3d0",
   "metadata": {},
   "outputs": [],
   "source": [
    "# evaluate\n",
    "eval_mode = 'path'\n",
    "evaluation_results, fig = metrics.evaluate_given_predictions(prediction_task, predictions, test_trajectories, \n",
    "                                                             network, n_start_nodes=n_start_nodes, n_steps=n_steps, eval_mode=eval_mode)"
   ]
  },
  {
   "cell_type": "code",
   "execution_count": null,
   "id": "9acab4e4-b874-4593-90c9-8a4298694261",
   "metadata": {},
   "outputs": [],
   "source": [
    "evaluation_results"
   ]
  },
  {
   "cell_type": "code",
   "execution_count": null,
   "id": "823cf2c0-0043-4d91-9074-d9d72ca1067f",
   "metadata": {},
   "outputs": [],
   "source": [
    "# plot predictions with the MOGen model\n",
    "prediction_task = 'next_nodes'\n",
    "example = test_paths.iloc[3]\n",
    "mmsi = example.mmsi\n",
    "start_node = [example.path[0]]\n",
    "end_node = example.path[-1]\n",
    "true_path = example.path\n",
    "trajectory = test_trajectories.get_trajectory(mmsi)\n",
    "\n",
    "if prediction_task == 'next_nodes':\n",
    "    predictions = model.predict_next_nodes(start_node=start_node, G=network.G, n_predictions=3, n_steps=3, n_walks=200)\n",
    "if prediction_task == 'path':\n",
    "    predictions, flag = model.predict_path(start_node, end_node, network.G, n_predictions=5, n_walks=2000, verbose=True)\n",
    "\n",
    "map = visualize.map_prediction_and_ground_truth(predictions, start_node, trajectory, true_path, network, \n",
    "                                                min_passages=1, opacity=0.2, location=location, end_node=end_node)\n",
    "map.save('../../reports/maps/'+network_name+'_MOGen_predictions.html')\n",
    "print(f'Map saved under {\"../../reports/maps/\"+network_name+\"_MOGen_predictions.html\"}')"
   ]
  },
  {
   "cell_type": "code",
   "execution_count": null,
   "id": "4169ee04-660c-48df-b165-bf0ce7bc0bd4",
   "metadata": {},
   "outputs": [],
   "source": []
  }
 ],
 "metadata": {
  "kernelspec": {
   "display_name": "Python 3 (ipykernel)",
   "language": "python",
   "name": "python3"
  },
  "language_info": {
   "codemirror_mode": {
    "name": "ipython",
    "version": 3
   },
   "file_extension": ".py",
   "mimetype": "text/x-python",
   "name": "python",
   "nbconvert_exporter": "python",
   "pygments_lexer": "ipython3",
   "version": "3.11.5"
  }
 },
 "nbformat": 4,
 "nbformat_minor": 5
}
