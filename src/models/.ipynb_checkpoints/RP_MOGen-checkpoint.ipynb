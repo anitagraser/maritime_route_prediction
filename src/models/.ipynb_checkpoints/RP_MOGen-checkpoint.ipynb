{
 "cells": [
  {
   "cell_type": "code",
   "execution_count": null,
   "id": "411ee027-671d-40d1-96b3-57f4c23bfeb5",
   "metadata": {},
   "outputs": [],
   "source": [
    "'''\n",
    "This notebook uses a MOGen model for route prediction with or without target information.\n",
    "- specify the maritime traffic network to predict routes on\n",
    "- specify training data to train the prediction model\n",
    "- specify test data to evaluate the prediction model\n",
    "- specify MOGen prediction model parameters\n",
    "The notebook will train the prediction model, evaluate it based on test data and visualize evaluation metrics.\n",
    "Optionally, predictions can be visualized against the ground truth on a map.\n",
    "'''"
   ]
  },
  {
   "cell_type": "code",
   "execution_count": null,
   "id": "49927bf2-f29d-4992-957c-3d46422d8479",
   "metadata": {},
   "outputs": [],
   "source": [
    "import warnings\n",
    "import pickle\n",
    "import sys\n",
    "import numpy as np\n",
    "import time\n",
    "\n",
    "warnings.filterwarnings('ignore')\n",
    "\n",
    "# add paths for modules\n",
    "sys.path.append('../visualization')\n",
    "sys.path.append('../features')\n",
    "sys.path.append('../datawrangling')\n",
    "\n",
    "# import modules\n",
    "import dataloader_paths, dataloader_geo\n",
    "import visualize\n",
    "import geometry_utils\n",
    "from maritime_traffic_network import MaritimeTrafficNetwork\n",
    "from MOGen_path_prediction import MOGenPathPrediction\n",
    "import prediction_model_evaluation_metrics as metrics"
   ]
  },
  {
   "cell_type": "code",
   "execution_count": null,
   "id": "c725d2f9-53a1-4ab2-b113-68f38ee0d416",
   "metadata": {},
   "outputs": [],
   "source": [
    "# Specify maritime traffic network\n",
    "datasize = 'full'\n",
    "location = 'tromso'\n",
    "model_date = '202204'\n",
    "DP_tol = 10\n",
    "min_samples = 13\n",
    "\n",
    "# Specify training data\n",
    "train_dates = ['202204', '202205', '202207']\n",
    "train_filter = None        #None, 'Last', 'Passasjer', 'Tank',  'Fisk', 'Unknown', 'Auxiliary'\n",
    "\n",
    "# Specify test data\n",
    "test_dates = ['202206']\n",
    "test_filter = None         #None, 'Last', 'Passasjer', 'Tank',  'Fisk', 'Unknown', 'Auxiliary'\n",
    "selection_start = 0        # for sampling\n",
    "selection_end = -1         # for sampling\n",
    "selection_step = 200        # for sampling\n",
    "\n",
    "# Specify prediction model parameters\n",
    "prediction_task = 'next_nodes'  # 'next_nodes' (without destination information) or 'path' (with destination information)\n",
    "max_order = 3                   # Maximum order of the MOGen model\n",
    "model_selection = True          # if True, optimal order is determined automatically by the model\n",
    "training_mode = 'partial'       # 'partial' (trained on original paths) or 'full' (trained on original paths and all subpaths)\n",
    "n_walks = 1000                  # number of random walks for sampling\n",
    "n_start_nodes = 1               # number of observed nodes (defaults to 1)\n",
    "n_steps = 10                    # prediction horizon (only needed for next_nodes prediction)\n",
    "n_predictions = 1               # top n_predictions predictions will be output\n",
    "eval_mode = 'path'              # evaluation mode: 'path' evaluates against the ground truth path, \n",
    "                                #                  'trajectory' against the ground truth trajectory"
   ]
  },
  {
   "cell_type": "code",
   "execution_count": null,
   "id": "1199e9bd-348c-4c26-b375-a11bad9518fc",
   "metadata": {},
   "outputs": [],
   "source": [
    "# Load maritime traffic network from pickle\n",
    "network_name = model_date+'_waypoints_DP'+str(DP_tol)+'_HDBSCAN'+str(min_samples)+'_'+location+'_'+datasize+'_UTM'\n",
    "network_path = '../../models/networks/best_networks/' + network_name + '.obj'\n",
    "fileObj = open(network_path, 'rb')\n",
    "network = pickle.load(fileObj)\n",
    "fileObj.close()\n",
    "network.hyperparameters"
   ]
  },
  {
   "cell_type": "code",
   "execution_count": null,
   "id": "45524501-d7ba-46d1-b6eb-1889e4f8a838",
   "metadata": {},
   "outputs": [],
   "source": [
    "# Load training data from file\n",
    "path_prefix = '../../data/paths/'\n",
    "training_paths = dataloader_paths.load_path_training_data(path_prefix, network_name, train_dates, filter=train_filter, data_version='')"
   ]
  },
  {
   "cell_type": "code",
   "execution_count": null,
   "id": "af614f70-8157-4429-9d46-982f05ce6b56",
   "metadata": {},
   "outputs": [],
   "source": [
    "# Train MOGen Model\n",
    "model = MOGenPathPrediction()\n",
    "print(f'Training MOGen Model on {len(training_paths)} paths...')\n",
    "model.train(training_paths, max_order=max_order, model_selection=model_selection, training_mode=training_mode)\n",
    "model.model.plot()"
   ]
  },
  {
   "cell_type": "code",
   "execution_count": null,
   "id": "1c6e3cc4-aa58-44e3-889c-03a8ce027e86",
   "metadata": {},
   "outputs": [],
   "source": [
    "# Load test data from file\n",
    "traj_path_prefix = '../../data/processed/'\n",
    "all_test_paths = dataloader_paths.load_path_test_data(path_prefix, network_name, test_dates, \n",
    "                                                      0, -1, 1, filter=test_filter, data_version='')\n",
    "test_trajectories = dataloader_geo.load_trajectories(traj_path_prefix, location, network.crs, test_dates)"
   ]
  },
  {
   "cell_type": "code",
   "execution_count": null,
   "id": "35deb33e-3b08-4b46-9190-79635e295167",
   "metadata": {},
   "outputs": [],
   "source": [
    "# Sample test data\n",
    "if prediction_task == 'next_nodes':\n",
    "    # split test paths in subpaths\n",
    "    sub_paths = dataloader_paths.split_path_data(all_test_paths, n_steps+n_start_nodes)\n",
    "    if selection_end == -1:\n",
    "        selection_end = len(sub_paths)\n",
    "    selection = np.arange(selection_start, selection_end, selection_step)\n",
    "    test_paths = sub_paths.iloc[selection]\n",
    "else:\n",
    "    if selection_end == -1:\n",
    "        selection_end = len(all_test_paths)\n",
    "    selection = np.arange(selection_start, selection_end, selection_step)\n",
    "    test_paths = all_test_paths.iloc[selection]"
   ]
  },
  {
   "cell_type": "code",
   "execution_count": null,
   "id": "58a6b061-0ae0-4599-b4ec-7ce6233534c5",
   "metadata": {},
   "outputs": [],
   "source": [
    "# Predict\n",
    "start_time = time.time()\n",
    "\n",
    "predictions = model.predict(prediction_task, test_paths, network.G, \n",
    "                            n_start_nodes=n_start_nodes, n_steps=n_steps, \n",
    "                            n_predictions=n_predictions, n_walks=n_walks)\n",
    "\n",
    "end_time = time.time()  # end timer\n",
    "print(f'Time elapsed: {(end_time-start_time)/60:.2f} minutes')\n",
    "pps = len(test_paths)/(end_time-start_time)\n",
    "print('Predictions per second: ', pps)"
   ]
  },
  {
   "cell_type": "code",
   "execution_count": null,
   "id": "6a45fe86-9fba-486a-87cd-36952a83c3d0",
   "metadata": {},
   "outputs": [],
   "source": [
    "# Evaluate\n",
    "evaluation_results, fig = metrics.evaluate_given_predictions(prediction_task, predictions, test_trajectories, \n",
    "                                                             network, n_start_nodes=n_start_nodes, n_steps=n_steps, eval_mode=eval_mode)"
   ]
  },
  {
   "cell_type": "code",
   "execution_count": null,
   "id": "823cf2c0-0043-4d91-9074-d9d72ca1067f",
   "metadata": {},
   "outputs": [],
   "source": [
    "# plot predictions with the MOGen model\n",
    "prediction_task = 'next_nodes'\n",
    "example = test_paths.iloc[3]\n",
    "mmsi = example.mmsi\n",
    "start_node = [example.path[0]]\n",
    "end_node = example.path[-1]\n",
    "true_path = example.path\n",
    "trajectory = test_trajectories.get_trajectory(mmsi)\n",
    "\n",
    "if prediction_task == 'next_nodes':\n",
    "    predictions = model.predict_next_nodes(start_node=start_node, G=network.G, n_predictions=3, n_steps=3, n_walks=200)\n",
    "if prediction_task == 'path':\n",
    "    predictions, flag = model.predict_path(start_node, end_node, network.G, n_predictions=5, n_walks=2000, verbose=True)\n",
    "\n",
    "map = visualize.map_prediction_and_ground_truth(predictions, start_node, trajectory, true_path, network, \n",
    "                                                min_passages=1, opacity=0.2, location=location, end_node=end_node)\n",
    "map.save('../../reports/maps/'+network_name+'_MOGen_predictions.html')\n",
    "print(f'Map saved under {\"../../reports/maps/\"+network_name+\"_MOGen_predictions.html\"}')"
   ]
  }
 ],
 "metadata": {
  "kernelspec": {
   "display_name": "Python 3 (ipykernel)",
   "language": "python",
   "name": "python3"
  },
  "language_info": {
   "codemirror_mode": {
    "name": "ipython",
    "version": 3
   },
   "file_extension": ".py",
   "mimetype": "text/x-python",
   "name": "python",
   "nbconvert_exporter": "python",
   "pygments_lexer": "ipython3",
   "version": "3.11.5"
  }
 },
 "nbformat": 4,
 "nbformat_minor": 5
}
