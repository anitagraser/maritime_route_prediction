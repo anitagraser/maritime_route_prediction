{
 "cells": [
  {
   "cell_type": "code",
   "execution_count": null,
   "id": "7cd0f745-cbca-437f-9b2c-cb187e03fa68",
   "metadata": {},
   "outputs": [],
   "source": [
    "'''\n",
    "This notebook uses a model based on Dijkstra's algorithm for route prediction with target information.\n",
    "- specify the maritime traffic network to predict routes on\n",
    "- specify training data to train the prediction model\n",
    "- specify test data to evaluate the prediction model\n",
    "- specify prediction model parameters\n",
    "The notebook will train the prediction model, evaluate it based on test data and visualize evaluation metrics.\n",
    "Optionally, predictions can be visualized against the ground truth on a map.\n",
    "'''"
   ]
  },
  {
   "cell_type": "code",
   "execution_count": null,
   "id": "b14c6672-d0c8-413e-9573-81363ad334b3",
   "metadata": {},
   "outputs": [],
   "source": [
    "import warnings\n",
    "import pickle\n",
    "import sys\n",
    "import pandas as pd\n",
    "import time\n",
    "warnings.filterwarnings('ignore')\n",
    "\n",
    "# add paths for modules\n",
    "sys.path.append('../visualization')\n",
    "sys.path.append('../features')\n",
    "sys.path.append('../datawrangling')\n",
    "\n",
    "# import modules\n",
    "import visualize\n",
    "import geometry_utils\n",
    "import dataloader_paths, dataloader_geo\n",
    "\n",
    "from maritime_traffic_network import MaritimeTrafficNetwork\n",
    "from dijkstra_path_prediction import DijkstraPathPrediction\n",
    "import prediction_model_evaluation_metrics as metrics"
   ]
  },
  {
   "cell_type": "code",
   "execution_count": null,
   "id": "0b54b5d5-a3ff-4add-a52f-105d513d0041",
   "metadata": {},
   "outputs": [],
   "source": [
    "# Specify maritime traffic network\n",
    "datasize = 'full'\n",
    "location = 'oslo'\n",
    "model_date = '202208'\n",
    "DP_tol = 10\n",
    "min_samples = 20\n",
    "\n",
    "# Specify training data\n",
    "train_dates = ['202206', '202207', '202208']\n",
    "train_filter = None        #None, 'Last', 'Passasjer', 'Tank',  'Fisk', 'Unknown', 'Auxiliary'\n",
    "\n",
    "# Specify test data\n",
    "test_dates = ['202209']\n",
    "test_filter = None         #None, 'Last', 'Passasjer', 'Tank',  'Fisk', 'Unknown', 'Auxiliary'\n",
    "selection_start = 0    # for sampling\n",
    "selection_end = -1     # for sampling\n",
    "selection_step = 80    # for sampling\n",
    "\n",
    "# Specify prediction model parameters\n",
    "weight = 'inverse_density'  # 'inverse_density', 'inverse_passages', 'length'\n",
    "n_start_nodes = 1      # number of observed nodes (defaults to 1)\n",
    "eval_mode = 'path'     # evaluation mode: 'path' evaluates against the ground truth path, \n",
    "                       #                  'trajectory' against the ground truth trajectory"
   ]
  },
  {
   "cell_type": "code",
   "execution_count": null,
   "id": "d5a51a51-6c9a-4eeb-b0e5-3a49c552e66d",
   "metadata": {},
   "outputs": [],
   "source": [
    "# Load maritime traffic network from pickle\n",
    "network_name = model_date+'_waypoints_DP'+str(DP_tol)+'_HDBSCAN'+str(min_samples)+'_'+location+'_'+datasize+'_UTM'\n",
    "network_path = '../../models/networks/best_networks/' + network_name + '.obj'\n",
    "fileObj = open(network_path, 'rb')\n",
    "network = pickle.load(fileObj)\n",
    "fileObj.close()\n",
    "network.hyperparameters"
   ]
  },
  {
   "cell_type": "code",
   "execution_count": null,
   "id": "d51b6022-98e4-42b5-b0bc-e0be895e2e35",
   "metadata": {},
   "outputs": [],
   "source": [
    "# Load training data from file\n",
    "path_prefix = '../../data/paths/'\n",
    "training_paths = dataloader_paths.load_path_training_data(path_prefix, network_name, train_dates, filter=train_filter, data_version='')"
   ]
  },
  {
   "cell_type": "code",
   "execution_count": null,
   "id": "b0a5f69f-2e72-40f2-bab7-35c8558ea22e",
   "metadata": {},
   "outputs": [],
   "source": [
    "# Train model\n",
    "model = DijkstraPathPrediction()\n",
    "model.train(network.G_pruned, training_paths)"
   ]
  },
  {
   "cell_type": "code",
   "execution_count": null,
   "id": "d0119470-67d8-49dd-9ad7-a438303334db",
   "metadata": {},
   "outputs": [],
   "source": [
    "# Load test data from file\n",
    "traj_path_prefix = '../../data/processed/'\n",
    "test_paths = dataloader_paths.load_path_test_data(path_prefix, network_name, test_dates, \n",
    "                                                  selection_start, selection_end, selection_step, filter=test_filter, data_version='')\n",
    "test_trajectories = dataloader_geo.load_trajectories(traj_path_prefix, location, network.crs, test_dates)\n",
    "print('# of training paths:', len(training_paths))\n",
    "print('# of test paths:', len(test_paths))"
   ]
  },
  {
   "cell_type": "code",
   "execution_count": null,
   "id": "a3547cbe-bdc9-4624-89c4-fa6391be7729",
   "metadata": {},
   "outputs": [],
   "source": [
    "# Predict\n",
    "start_time = time.time()\n",
    "\n",
    "predictions = model.predict(test_paths, n_start_nodes=n_start_nodes, weight=weight)\n",
    "\n",
    "end_time = time.time()  # end timer\n",
    "print(f'Time elapsed: {(end_time-start_time)/60:.2f} minutes')\n",
    "pps = len(test_paths)/(end_time-start_time)\n",
    "print('Predictions per second: ', pps)\n"
   ]
  },
  {
   "cell_type": "code",
   "execution_count": null,
   "id": "b3c1d216-f410-4a69-a68c-d7492b4fdd63",
   "metadata": {},
   "outputs": [],
   "source": [
    "# Evaluate\n",
    "evaluation_results, fig = metrics.evaluate_given_predictions('path', predictions, test_trajectories, \n",
    "                                                             network, n_start_nodes=n_start_nodes, eval_mode=eval_mode)"
   ]
  },
  {
   "cell_type": "code",
   "execution_count": null,
   "id": "7749a665-fef2-400a-beb3-b4755e8cf9b8",
   "metadata": {},
   "outputs": [],
   "source": [
    "# For visualization: Make predictions with the Dijkstra model and plot\n",
    "i = 2\n",
    "example = test_paths.iloc[i]\n",
    "mmsi = example.mmsi\n",
    "start_node = [example.path[0]]\n",
    "end_node = example.path[-1]\n",
    "true_path = example.path\n",
    "trajectory = test_trajectories.get_trajectory(mmsi)\n",
    "\n",
    "predictions, flag = model.predict_path(start_node[-1], end_node)\n",
    "predictions = start_node[:-1] + predictions\n",
    "predictions = {tuple(predictions):1}\n",
    "\n",
    "map = visualize.map_prediction_and_ground_truth(predictions, start_node, trajectory, true_path, network, \n",
    "                                                min_passages=2, opacity=0.2, location=location, end_node=end_node)\n",
    "map.save('../../reports/maps/'+network_name+'_dijkstra_predictions.html')\n",
    "print(f'Map saved under {\"../../reports/maps/\"+network_name+\"_dijkstra_predictions.html\"}')"
   ]
  },
  {
   "cell_type": "code",
   "execution_count": null,
   "id": "336bc000-3867-48ab-91c9-68275db0d32d",
   "metadata": {},
   "outputs": [],
   "source": [
    "from make_trajectories_from_AIS import add_ship_metadata\n",
    "import matplotlib.pyplot as plt\n",
    "\n",
    "# Plot prediction performance by ship group\n",
    "\n",
    "# add original mmsi column back to dataframe\n",
    "evaluation_results.rename(columns={'mmsi':'id'}, inplace=True)\n",
    "evaluation_results['mmsi'] = evaluation_results['id'].str[:9].astype(int)\n",
    "\n",
    "# add metadata to each mmsi\n",
    "meta_file = '../../data/external/seilas-2022.csv'\n",
    "evaluation_results_meta = add_ship_metadata(meta_file, evaluation_results)\n",
    "\n",
    "# get choice accuracy and SSPD by shipgroup\n",
    "sspd_by_group = evaluation_results_meta.groupby(['skipsgruppe'])['SSPD'].mean()\n",
    "cacc_by_group = evaluation_results_meta.groupby(['skipsgruppe'])['choice_accuracy'].mean()\n",
    "\n",
    "x = cacc_by_group.values\n",
    "y = sspd_by_group.values\n",
    "categories = sspd_by_group.index\n",
    "\n",
    "fig, ax = plt.subplots(figsize=[6, 4])\n",
    "\n",
    "# Scatter plot with different colors and markers for each category\n",
    "scatter = ax.scatter(x, y, c=range(len(categories)), cmap='viridis', marker='o', s=100)\n",
    "\n",
    "# Annotate each point with the ship category name\n",
    "for i, category in enumerate(categories):\n",
    "    ax.annotate(category, (x[i], y[i]), textcoords=\"offset points\", xytext=(5,5), ha='left')\n",
    "\n",
    "max_x_value = max(x)\n",
    "max_y_value = max(y)\n",
    "min_x_value = min(x)\n",
    "min_y_value = min(y)\n",
    "ax.set_xlim(min_x_value-0.01, max_x_value+0.01)\n",
    "ax.set_ylim(min_y_value, max_y_value+50)\n",
    "\n",
    "ax.set_xlabel('$CACC$')\n",
    "ax.set_ylabel('$MD_{SSPD}$ (m)')\n",
    "plt.title('Prediction performance by Shipgroup')\n",
    "#plt.savefig('prediction_performance_by_ship_category_tromso_Dijkstra.pdf')\n",
    "\n",
    "plt.show()"
   ]
  }
 ],
 "metadata": {
  "kernelspec": {
   "display_name": "Python 3 (ipykernel)",
   "language": "python",
   "name": "python3"
  },
  "language_info": {
   "codemirror_mode": {
    "name": "ipython",
    "version": 3
   },
   "file_extension": ".py",
   "mimetype": "text/x-python",
   "name": "python",
   "nbconvert_exporter": "python",
   "pygments_lexer": "ipython3",
   "version": "3.11.5"
  }
 },
 "nbformat": 4,
 "nbformat_minor": 5
}
