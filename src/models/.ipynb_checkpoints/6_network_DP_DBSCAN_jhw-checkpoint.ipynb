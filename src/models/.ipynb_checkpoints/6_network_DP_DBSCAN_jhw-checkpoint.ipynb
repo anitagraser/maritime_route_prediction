{
 "cells": [
  {
   "cell_type": "code",
   "execution_count": null,
   "id": "8131735c-b685-41c3-b7ee-e3e8755013fd",
   "metadata": {},
   "outputs": [],
   "source": [
    "import pandas as pd\n",
    "import geopandas as gpd\n",
    "import movingpandas as mpd\n",
    "import numpy as np\n",
    "from datetime import timedelta, datetime\n",
    "import folium\n",
    "import warnings\n",
    "import sys\n",
    "warnings.filterwarnings('ignore')\n",
    "\n",
    "print(\"Geopandas has version {}\".format(gpd.__version__))\n",
    "print(\"Movingpandas has version {}\".format(mpd.__version__))"
   ]
  },
  {
   "cell_type": "code",
   "execution_count": null,
   "id": "0cc3ccda-09a8-48c5-80d0-5ae3510455a2",
   "metadata": {},
   "outputs": [],
   "source": [
    "# add paths for modules\n",
    "sys.path.append('../visualization')\n",
    "print(sys.path)\n",
    "\n",
    "# import modules\n",
    "import visualize"
   ]
  },
  {
   "cell_type": "code",
   "execution_count": null,
   "id": "428549bb-93d5-4e20-836b-0d2b07a540f2",
   "metadata": {},
   "outputs": [],
   "source": [
    "# read data from file\n",
    "# filename = '../../data/processed/202204_points_stavanger_cleaned_500k.parquet'\n",
    "filename = '../../data/processed/202204_points_stavanger_cleaned_full.parquet'\n",
    "gdf = gpd.read_parquet(filename)\n",
    "gdf.head()"
   ]
  },
  {
   "cell_type": "code",
   "execution_count": null,
   "id": "1b7b7232-8a75-45ed-b79a-f929b7123414",
   "metadata": {},
   "outputs": [],
   "source": [
    "# convert to Trajectory Collection\n",
    "trajectories = mpd.TrajectoryCollection(gdf, traj_id_col='mmsi', obj_id_col='mmsi')"
   ]
  },
  {
   "cell_type": "code",
   "execution_count": null,
   "id": "ac1933e3-138a-4b93-bfc7-4e59d925ed8c",
   "metadata": {},
   "outputs": [],
   "source": [
    "# Douglas Peucker trajectory generalization to reduce the number of trajectory points (for plotting purposes)\n",
    "tolerance = 0.0005  # the smaller the tolerance, the more detailed the trajectories\n",
    "simplified_trajectories = mpd.DouglasPeuckerGeneralizer(trajectories).generalize(tolerance=tolerance)\n",
    "n_points, n_DP_points = len(gdf), len(simplified_trajectories.to_point_gdf())\n",
    "print(f'DP reduced {n_points} AIS messages to {n_DP_points} points ({n_DP_points/n_points*100:.2f}%)')"
   ]
  },
  {
   "cell_type": "code",
   "execution_count": null,
   "id": "35078542-4dbd-4e06-a4f3-f118e32678de",
   "metadata": {},
   "outputs": [],
   "source": [
    "# plot n random trajectories against the DP simplified trajectories\n",
    "plot_comparison = False\n",
    "if plot_comparison:\n",
    "    n_trajectories = 5  # -1 selects all trajectories\n",
    "    columns = ['mmsi', 'geometry']  # columns to be plotted\n",
    "    selection = np.random.randint(0, high=len(trajectories), size=n_trajectories)\n",
    "    map = trajectories.to_traj_gdf()[columns].iloc[selection].explore(cmap='jet', column='mmsi', name='Trajectories', style_kwds={'opacity':0.5, 'weight':1})\n",
    "    map = simplified_trajectories.to_traj_gdf()[columns].iloc[selection].explore(m=map, cmap='jet', column='mmsi', name='Simplified trajectories')\n",
    "    folium.LayerControl().add_to(map)\n",
    "    map"
   ]
  },
  {
   "cell_type": "code",
   "execution_count": null,
   "id": "a3188f30-e0b1-4c48-8ebd-2a1e4daf20df",
   "metadata": {},
   "outputs": [],
   "source": [
    "# detect waypoints\n",
    "waypoints = mpd.DouglasPeuckerGeneralizer(trajectories).generalize(tolerance=0.001)\n",
    "print(f'Number of waypoints detected: {len(waypoints.to_point_gdf())}')"
   ]
  },
  {
   "cell_type": "code",
   "execution_count": null,
   "id": "7c6e77c2-3034-44b9-8c99-4619bdf3806d",
   "metadata": {},
   "outputs": [],
   "source": [
    "df_waypoints = waypoints.to_point_gdf()[['lat', 'lon']]"
   ]
  },
  {
   "cell_type": "code",
   "execution_count": null,
   "id": "5bee5fd5-30f5-4197-a33f-1a9ef4c7c1f2",
   "metadata": {},
   "outputs": [],
   "source": [
    "################\n",
    "### Apply DBSCAN\n",
    "################\n",
    "from sklearn.cluster import DBSCAN\n",
    "# DBSCAN parameters\n",
    "eps = 0.001\n",
    "min_samples = 10\n",
    "# \n",
    "clustering = DBSCAN(eps=eps, min_samples=min_samples).fit(df_waypoints)\n",
    "\n",
    "# compute cluster centroids\n",
    "cluster_centroids = pd.DataFrame(columns=['clusterID', 'lat', 'lon'])\n",
    "for i in range(0, max(clustering.labels_)+1):\n",
    "    lat = df_waypoints[clustering.labels_ == i].lat.mean()\n",
    "    lon = df_waypoints[clustering.labels_ == i].lon.mean()\n",
    "    centroid = pd.DataFrame([[i, lat, lon]], columns=['clusterID', 'lat', 'lon'])\n",
    "    cluster_centroids = pd.concat([cluster_centroids, centroid])\n",
    "\n",
    "df_waypoints['clusterID'] = clustering.labels_  # assign clusterID to each waypoint\n",
    "\n",
    "# convert waypoint and cluster centroid DataFrames to GeoDataFrames\n",
    "df_waypoints = gpd.GeoDataFrame(df_waypoints, geometry=gpd.points_from_xy(df_waypoints.lon, df_waypoints.lat), crs=\"EPSG:4326\")\n",
    "df_waypoints.reset_index(inplace=True)\n",
    "cluster_centroids = gpd.GeoDataFrame(cluster_centroids, geometry=gpd.points_from_xy(cluster_centroids.lon, cluster_centroids.lat), crs=\"EPSG:4326\")\n",
    "print(f'{len(cluster_centroids)} clusters detected')"
   ]
  },
  {
   "cell_type": "code",
   "execution_count": null,
   "id": "573240da-630a-4a58-ba64-870c13c93d69",
   "metadata": {},
   "outputs": [],
   "source": [
    "# plotting\n",
    "n_trajectories = -1  # -1 selects all trajectories\n",
    "if n_trajectories > 0:\n",
    "    selection = np.random.randint(0, high=len(trajectories), size=n_trajectories)\n",
    "else:\n",
    "    selection = range(0,len(trajectories))\n",
    "\n",
    "columns = ['geometry', 'mmsi']  # columns to be plotted\n",
    "map = simplified_trajectories.to_traj_gdf()[columns].iloc[selection].explore(column='mmsi', name='Simplified trajectories', \n",
    "                                                                             style_kwds={'weight':1, 'color':'black', 'opacity':0.5}, \n",
    "                                                                             legend=False)\n",
    "map = df_waypoints[['clusterID', 'geometry']].explore(m=map, name='all waypoints with cluster ID', legend=False,\n",
    "                                                      marker_kwds={'radius':2},\n",
    "                                                      style_kwds={'opacity':0.2})\n",
    "map = cluster_centroids[['clusterID', 'geometry']].explore(m=map, name='cluster centroids', legend=False,\n",
    "                                                           marker_kwds={'radius':3},\n",
    "                                                           style_kwds={'color':'red', 'fillColor':'red', 'fillOpacity':1})\n",
    "folium.LayerControl().add_to(map)\n",
    "map"
   ]
  },
  {
   "cell_type": "code",
   "execution_count": null,
   "id": "8794deac-aceb-4182-a842-33f60d42c1fc",
   "metadata": {},
   "outputs": [],
   "source": []
  }
 ],
 "metadata": {
  "kernelspec": {
   "display_name": "Python 3 (ipykernel)",
   "language": "python",
   "name": "python3"
  },
  "language_info": {
   "codemirror_mode": {
    "name": "ipython",
    "version": 3
   },
   "file_extension": ".py",
   "mimetype": "text/x-python",
   "name": "python",
   "nbconvert_exporter": "python",
   "pygments_lexer": "ipython3",
   "version": "3.11.5"
  }
 },
 "nbformat": 4,
 "nbformat_minor": 5
}
