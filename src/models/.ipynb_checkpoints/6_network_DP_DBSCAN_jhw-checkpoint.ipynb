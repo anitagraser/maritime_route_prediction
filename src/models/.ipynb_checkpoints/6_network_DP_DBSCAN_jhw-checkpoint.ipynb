{
 "cells": [
  {
   "cell_type": "code",
   "execution_count": 1,
   "id": "8131735c-b685-41c3-b7ee-e3e8755013fd",
   "metadata": {
    "editable": true,
    "slideshow": {
     "slide_type": ""
    },
    "tags": []
   },
   "outputs": [
    {
     "name": "stdout",
     "output_type": "stream",
     "text": [
      "Geopandas has version 0.13.2\n",
      "Movingpandas has version 0.17.1\n"
     ]
    }
   ],
   "source": [
    "import pandas as pd\n",
    "import geopandas as gpd\n",
    "import movingpandas as mpd\n",
    "import numpy as np\n",
    "from datetime import timedelta, datetime\n",
    "from maritime_traffic_network import MaritimeTrafficNetwork\n",
    "import folium\n",
    "import warnings\n",
    "import sys\n",
    "import pickle\n",
    "warnings.filterwarnings('ignore')\n",
    "\n",
    "print(\"Geopandas has version {}\".format(gpd.__version__))\n",
    "print(\"Movingpandas has version {}\".format(mpd.__version__))"
   ]
  },
  {
   "cell_type": "code",
   "execution_count": 2,
   "id": "0cc3ccda-09a8-48c5-80d0-5ae3510455a2",
   "metadata": {},
   "outputs": [
    {
     "name": "stdout",
     "output_type": "stream",
     "text": [
      "['/Users/janhendrikwebert/maritime_route_prediction/src/models', '/Users/janhendrikwebert/miniforge3/envs/env_geo/lib/python311.zip', '/Users/janhendrikwebert/miniforge3/envs/env_geo/lib/python3.11', '/Users/janhendrikwebert/miniforge3/envs/env_geo/lib/python3.11/lib-dynload', '', '/Users/janhendrikwebert/miniforge3/envs/env_geo/lib/python3.11/site-packages', '../visualization', '../features', '../visualization', '../features']\n"
     ]
    }
   ],
   "source": [
    "# add paths for modules\n",
    "sys.path.append('../visualization')\n",
    "sys.path.append('../features')\n",
    "print(sys.path)\n",
    "\n",
    "# import modules\n",
    "import visualize"
   ]
  },
  {
   "cell_type": "code",
   "execution_count": 3,
   "id": "428549bb-93d5-4e20-836b-0d2b07a540f2",
   "metadata": {
    "editable": true,
    "slideshow": {
     "slide_type": ""
    },
    "tags": []
   },
   "outputs": [],
   "source": [
    "# read data from file\n",
    "filename = '../../data/processed/202204_points_stavanger_cleaned_meta_full_dualSplit_2.parquet'\n",
    "#filename = '../../data/processed/202204_points_stavanger_cleaned_meta_full.parquet'\n",
    "gdf = gpd.read_parquet(filename)"
   ]
  },
  {
   "cell_type": "code",
   "execution_count": 4,
   "id": "c62cb00a-2df1-4b34-a21a-15f644bdfd6f",
   "metadata": {},
   "outputs": [],
   "source": [
    "# filter the data according to ship type\n",
    "shiptypes = ['Last', 'Tank']\n",
    "gdf = gdf[gdf.skipsgruppe.isin(shiptypes)]"
   ]
  },
  {
   "cell_type": "code",
   "execution_count": 5,
   "id": "4eb7eedc-71a3-4012-afa2-29b6b1756c17",
   "metadata": {},
   "outputs": [
    {
     "data": {
      "text/html": [
       "<div>\n",
       "<style scoped>\n",
       "    .dataframe tbody tr th:only-of-type {\n",
       "        vertical-align: middle;\n",
       "    }\n",
       "\n",
       "    .dataframe tbody tr th {\n",
       "        vertical-align: top;\n",
       "    }\n",
       "\n",
       "    .dataframe thead th {\n",
       "        text-align: right;\n",
       "    }\n",
       "</style>\n",
       "<table border=\"1\" class=\"dataframe\">\n",
       "  <thead>\n",
       "    <tr style=\"text-align: right;\">\n",
       "      <th></th>\n",
       "      <th>mmsi</th>\n",
       "      <th>imo_nr</th>\n",
       "      <th>length</th>\n",
       "      <th>lon</th>\n",
       "      <th>lat</th>\n",
       "      <th>sog</th>\n",
       "      <th>cog</th>\n",
       "      <th>true_heading</th>\n",
       "      <th>nav_status</th>\n",
       "      <th>message_nr</th>\n",
       "      <th>bredde</th>\n",
       "      <th>dypgaaende</th>\n",
       "      <th>skipstype</th>\n",
       "      <th>skipsgruppe</th>\n",
       "      <th>fartoynavn</th>\n",
       "      <th>geometry</th>\n",
       "      <th>speed</th>\n",
       "    </tr>\n",
       "    <tr>\n",
       "      <th>date_time_utc</th>\n",
       "      <th></th>\n",
       "      <th></th>\n",
       "      <th></th>\n",
       "      <th></th>\n",
       "      <th></th>\n",
       "      <th></th>\n",
       "      <th></th>\n",
       "      <th></th>\n",
       "      <th></th>\n",
       "      <th></th>\n",
       "      <th></th>\n",
       "      <th></th>\n",
       "      <th></th>\n",
       "      <th></th>\n",
       "      <th></th>\n",
       "      <th></th>\n",
       "      <th></th>\n",
       "    </tr>\n",
       "  </thead>\n",
       "  <tbody>\n",
       "    <tr>\n",
       "      <th>2022-04-08 03:12:48</th>\n",
       "      <td>205209000_0_2022-04-08 03:12:48</td>\n",
       "      <td>0</td>\n",
       "      <td>51</td>\n",
       "      <td>5.36673</td>\n",
       "      <td>59.6732</td>\n",
       "      <td>10.6</td>\n",
       "      <td>225.9</td>\n",
       "      <td>225</td>\n",
       "      <td>0</td>\n",
       "      <td>1</td>\n",
       "      <td>NaN</td>\n",
       "      <td>NaN</td>\n",
       "      <td>None</td>\n",
       "      <td>None</td>\n",
       "      <td>None</td>\n",
       "      <td>POINT (295416.506 6620618.919)</td>\n",
       "      <td>11.173331</td>\n",
       "    </tr>\n",
       "    <tr>\n",
       "      <th>2022-04-08 03:12:58</th>\n",
       "      <td>205209000_0_2022-04-08 03:12:48</td>\n",
       "      <td>0</td>\n",
       "      <td>51</td>\n",
       "      <td>5.36531</td>\n",
       "      <td>59.6725</td>\n",
       "      <td>10.7</td>\n",
       "      <td>227.2</td>\n",
       "      <td>228</td>\n",
       "      <td>0</td>\n",
       "      <td>1</td>\n",
       "      <td>NaN</td>\n",
       "      <td>NaN</td>\n",
       "      <td>None</td>\n",
       "      <td>None</td>\n",
       "      <td>None</td>\n",
       "      <td>POINT (295332.330 6620545.422)</td>\n",
       "      <td>11.173331</td>\n",
       "    </tr>\n",
       "    <tr>\n",
       "      <th>2022-04-08 03:13:08</th>\n",
       "      <td>205209000_0_2022-04-08 03:12:48</td>\n",
       "      <td>0</td>\n",
       "      <td>51</td>\n",
       "      <td>5.36458</td>\n",
       "      <td>59.6722</td>\n",
       "      <td>10.6</td>\n",
       "      <td>228.8</td>\n",
       "      <td>230</td>\n",
       "      <td>0</td>\n",
       "      <td>1</td>\n",
       "      <td>NaN</td>\n",
       "      <td>NaN</td>\n",
       "      <td>None</td>\n",
       "      <td>None</td>\n",
       "      <td>None</td>\n",
       "      <td>POINT (295289.421 6620514.299)</td>\n",
       "      <td>5.300198</td>\n",
       "    </tr>\n",
       "    <tr>\n",
       "      <th>2022-04-08 03:13:27</th>\n",
       "      <td>205209000_0_2022-04-08 03:12:48</td>\n",
       "      <td>0</td>\n",
       "      <td>51</td>\n",
       "      <td>5.36385</td>\n",
       "      <td>59.6718</td>\n",
       "      <td>10.5</td>\n",
       "      <td>229.4</td>\n",
       "      <td>229</td>\n",
       "      <td>0</td>\n",
       "      <td>1</td>\n",
       "      <td>NaN</td>\n",
       "      <td>NaN</td>\n",
       "      <td>None</td>\n",
       "      <td>None</td>\n",
       "      <td>None</td>\n",
       "      <td>POINT (295245.901 6620472.052)</td>\n",
       "      <td>3.191942</td>\n",
       "    </tr>\n",
       "    <tr>\n",
       "      <th>2022-04-08 03:13:38</th>\n",
       "      <td>205209000_0_2022-04-08 03:12:48</td>\n",
       "      <td>0</td>\n",
       "      <td>51</td>\n",
       "      <td>5.36313</td>\n",
       "      <td>59.6715</td>\n",
       "      <td>10.5</td>\n",
       "      <td>225.2</td>\n",
       "      <td>223</td>\n",
       "      <td>0</td>\n",
       "      <td>1</td>\n",
       "      <td>NaN</td>\n",
       "      <td>NaN</td>\n",
       "      <td>None</td>\n",
       "      <td>None</td>\n",
       "      <td>None</td>\n",
       "      <td>POINT (295203.553 6620440.899)</td>\n",
       "      <td>4.778771</td>\n",
       "    </tr>\n",
       "  </tbody>\n",
       "</table>\n",
       "</div>"
      ],
      "text/plain": [
       "                                                mmsi  imo_nr  length      lon  \\\n",
       "date_time_utc                                                                   \n",
       "2022-04-08 03:12:48  205209000_0_2022-04-08 03:12:48       0      51  5.36673   \n",
       "2022-04-08 03:12:58  205209000_0_2022-04-08 03:12:48       0      51  5.36531   \n",
       "2022-04-08 03:13:08  205209000_0_2022-04-08 03:12:48       0      51  5.36458   \n",
       "2022-04-08 03:13:27  205209000_0_2022-04-08 03:12:48       0      51  5.36385   \n",
       "2022-04-08 03:13:38  205209000_0_2022-04-08 03:12:48       0      51  5.36313   \n",
       "\n",
       "                         lat   sog    cog  true_heading  nav_status  \\\n",
       "date_time_utc                                                         \n",
       "2022-04-08 03:12:48  59.6732  10.6  225.9           225           0   \n",
       "2022-04-08 03:12:58  59.6725  10.7  227.2           228           0   \n",
       "2022-04-08 03:13:08  59.6722  10.6  228.8           230           0   \n",
       "2022-04-08 03:13:27  59.6718  10.5  229.4           229           0   \n",
       "2022-04-08 03:13:38  59.6715  10.5  225.2           223           0   \n",
       "\n",
       "                     message_nr  bredde  dypgaaende skipstype skipsgruppe  \\\n",
       "date_time_utc                                                               \n",
       "2022-04-08 03:12:48           1     NaN         NaN      None        None   \n",
       "2022-04-08 03:12:58           1     NaN         NaN      None        None   \n",
       "2022-04-08 03:13:08           1     NaN         NaN      None        None   \n",
       "2022-04-08 03:13:27           1     NaN         NaN      None        None   \n",
       "2022-04-08 03:13:38           1     NaN         NaN      None        None   \n",
       "\n",
       "                    fartoynavn                        geometry      speed  \n",
       "date_time_utc                                                              \n",
       "2022-04-08 03:12:48       None  POINT (295416.506 6620618.919)  11.173331  \n",
       "2022-04-08 03:12:58       None  POINT (295332.330 6620545.422)  11.173331  \n",
       "2022-04-08 03:13:08       None  POINT (295289.421 6620514.299)   5.300198  \n",
       "2022-04-08 03:13:27       None  POINT (295245.901 6620472.052)   3.191942  \n",
       "2022-04-08 03:13:38       None  POINT (295203.553 6620440.899)   4.778771  "
      ]
     },
     "execution_count": 5,
     "metadata": {},
     "output_type": "execute_result"
    }
   ],
   "source": [
    "# Transform to desired CRS\n",
    "# 4326 for WGS 84 (global) // 32632 for UTM 32N (Norway)\n",
    "crs = 32632  # Coordinate reference system\n",
    "gdf.to_crs(crs, inplace=True)  # Transformation\n",
    "gdf.head()"
   ]
  },
  {
   "cell_type": "code",
   "execution_count": 6,
   "id": "65031840-9bda-4c38-991f-607f30b8997c",
   "metadata": {},
   "outputs": [
    {
     "name": "stdout",
     "output_type": "stream",
     "text": [
      "Number of AIS messages: 5422129\n",
      "Number of trajectories: 14375\n",
      "Coordinate Reference System (CRS): EPSG:32632\n"
     ]
    }
   ],
   "source": [
    "# initialize maritime traffic network\n",
    "network = MaritimeTrafficNetwork(gdf, crs)\n",
    "network.get_trajectories_info()"
   ]
  },
  {
   "cell_type": "code",
   "execution_count": 7,
   "id": "370af301-437f-44e3-9ee3-c3f08cfd5df8",
   "metadata": {},
   "outputs": [
    {
     "name": "stdout",
     "output_type": "stream",
     "text": [
      "Calculating significant turning points with Douglas Peucker algorithm (tolerance = 10) ...\n",
      "Number of significant points detected: 399401 (7.37% of AIS messages)\n",
      "Time elapsed: 9.08 minutes\n",
      "Adding course over ground before and after each turn ...\n",
      "Done. Time elapsed: 11.01 minutes\n"
     ]
    }
   ],
   "source": [
    "# calculate significant turning points using Douglas Peucker algorithm\n",
    "tolerance = 10 # DP tolerance parameter 0.0002\n",
    "network.calc_significant_points_DP(tolerance)"
   ]
  },
  {
   "cell_type": "code",
   "execution_count": 8,
   "id": "c235e6d6-5144-47ab-ab06-35ce388e88ba",
   "metadata": {},
   "outputs": [
    {
     "name": "stdout",
     "output_type": "stream",
     "text": [
      "Calculating waypoints with HDBSCAN (min_samples = 15) ...\n",
      "Distance metric: mahalanobis\n",
      "2299 clusters detected\n",
      "Time elapsed: 32.61 minutes\n"
     ]
    }
   ],
   "source": [
    "# detect waypoints using spatial clustering\n",
    "method = 'HDBSCAN'      # 'DBSCAN' , 'HDBSCAN', 'OPTICS'\n",
    "metric = 'mahalanobis'  # 'euclidean', 'mahalanobis', 'haversine'\n",
    "min_samples = 15\n",
    "min_cluster_size = 15\n",
    "eps = 0\n",
    "V = np.diag([1, 1, 0.01, 0.01, 1e-4])  # mahalanobis distance parameter matrix V = np.diag([1, 1, 0.01, 0.01, 1e-3])  seems to be good\n",
    "network.calc_waypoints_clustering(method=method, min_samples=min_samples, min_cluster_size=min_cluster_size,\n",
    "                                  eps=eps, metric=metric, V=V)"
   ]
  },
  {
   "cell_type": "code",
   "execution_count": 9,
   "id": "c65d07e6-8521-4c36-a677-db5157f7c8ef",
   "metadata": {
    "editable": true,
    "slideshow": {
     "slide_type": ""
    },
    "tags": []
   },
   "outputs": [
    {
     "name": "stdout",
     "output_type": "stream",
     "text": [
      "Constructing maritime traffic network graph from waypoints and trajectories...\n",
      "Progress: 10%...20%...30%...40%...50%...60%...70%...80%...90%...Done!\n",
      "------------------------\n",
      "Unpruned Graph:\n",
      "Number of nodes: 2299 (37 isolated)\n",
      "Number of edges: 12807\n",
      "Network is (weakly) connected: False\n",
      "------------------------\n",
      "Time elapsed: 20.44 minutes\n"
     ]
    }
   ],
   "source": [
    "# make graph from waypoints\n",
    "max_distance=10\n",
    "max_angle=45\n",
    "network.make_graph_from_waypoints(max_distance=max_distance, max_angle=max_angle)"
   ]
  },
  {
   "cell_type": "code",
   "execution_count": 10,
   "id": "4ab46d74-3f6d-4bdd-a162-28814fd9b154",
   "metadata": {},
   "outputs": [],
   "source": [
    "#network.prune_graph(1)"
   ]
  },
  {
   "cell_type": "code",
   "execution_count": 11,
   "id": "19d57be0-1f9e-4cf4-83a7-6833334e130e",
   "metadata": {},
   "outputs": [],
   "source": [
    "# save hyperparameters\n",
    "params = {\n",
    "    'Data':filename,\n",
    "    'filter':shiptypes,\n",
    "    'DP_tolerance':tolerance,\n",
    "    'clustering_method':method,\n",
    "    'clustering_metric':metric,\n",
    "    'clustering_min_samples':min_samples,\n",
    "    'clustering_min_cluster_size':min_cluster_size,\n",
    "    'clustering_eps':eps,\n",
    "    'clustering_metric_V':V,\n",
    "    'graph_generation_max_distance':max_distance,\n",
    "    'graph_generation_max_angle':max_angle\n",
    "}\n",
    "network.set_hyperparameters(params)"
   ]
  },
  {
   "cell_type": "code",
   "execution_count": 12,
   "id": "0ad17f64-0e81-4e5f-989d-ea7b79882831",
   "metadata": {},
   "outputs": [],
   "source": [
    "# save network as pickle object\n",
    "fileObj = open('../../data/interim/202204_waypoints_DP10_HDBSCAN15_stavanger_full_UTM.obj', 'wb')\n",
    "pickle.dump(network, fileObj)\n",
    "fileObj.close()"
   ]
  },
  {
   "cell_type": "code",
   "execution_count": 13,
   "id": "573240da-630a-4a58-ba64-870c13c93d69",
   "metadata": {},
   "outputs": [],
   "source": [
    "# Generate plot\n",
    "#network.prune_graph(2)\n",
    "#map = network.map_graph(pruned=True)\n",
    "#folium.LayerControl().add_to(map)\n",
    "\n",
    "# add a title\n",
    "#title = f'{method} parameters: min_samples = {min_samples}, metric = {metric}'\n",
    "#title_html = '''\n",
    "#             <h3 align=\"center\" style=\"font-size:16px\"><b>{}</b></h3>\n",
    "#             '''.format(title)   \n",
    "\n",
    "#map.get_root().html.add_child(folium.Element(title_html))\n",
    "\n",
    "#map"
   ]
  },
  {
   "cell_type": "code",
   "execution_count": 14,
   "id": "68805f2c-acae-4417-88c4-acecf68738d2",
   "metadata": {},
   "outputs": [],
   "source": [
    "#data = network.significant_points.drop('clusterID', axis=1)\n",
    "#data.to_parquet('../../data/interim/202204_significant_points_DP10_stavanger_full_UTM.parquet')"
   ]
  },
  {
   "cell_type": "code",
   "execution_count": 15,
   "id": "873ffb8b-2409-4e74-996c-512a8803f96f",
   "metadata": {},
   "outputs": [],
   "source": [
    "#network.significant_points.to_parquet('../../data/interim/202204_significant_points_DP10_clustered_stavanger_full_UTM.parquet')"
   ]
  },
  {
   "cell_type": "code",
   "execution_count": 16,
   "id": "48a32cc3-eb2b-4817-a8e4-53fdce53271f",
   "metadata": {},
   "outputs": [],
   "source": [
    "#cluster_centroids = network.waypoints\n",
    "#cluster_centroids.set_geometry('convex_hull', inplace=True, crs=crs)\n",
    "#cluster_centroids.to_parquet('../../data/interim/202204_waypoints_DP10_HDBSCAN30_stavanger_full_UTM.parquet')"
   ]
  },
  {
   "cell_type": "code",
   "execution_count": 17,
   "id": "b77c9680-bbf8-4886-a607-5f2f461ef3e4",
   "metadata": {
    "editable": true,
    "slideshow": {
     "slide_type": ""
    },
    "tags": []
   },
   "outputs": [
    {
     "name": "stdout",
     "output_type": "stream",
     "text": [
      "------------------------\n",
      "Pruned Graph:\n",
      "Number of nodes: 2262 (19 isolated)\n",
      "Number of edges: 12667\n",
      "------------------------\n"
     ]
    }
   ],
   "source": [
    "model = '202204_waypoints_DP' + str(tolerance) + '_' + method + str(min_samples) +'_stavanger_full_UTM'\n",
    "merge_stops = True\n",
    "merge_stops_speed = 2\n",
    "pruning = 1\n",
    "network.merge_stop_points(max_speed=merge_stops_speed)\n",
    "network.prune_graph(pruning)"
   ]
  },
  {
   "cell_type": "code",
   "execution_count": 18,
   "id": "f0fe51ce-2c8e-41f6-805e-53d980f9f8bb",
   "metadata": {},
   "outputs": [],
   "source": [
    "# load evaluation data\n",
    "eval_file = '202205_points_stavanger_cleaned_meta_full_dualSplit_2'\n",
    "filename = '../../data/processed/' + eval_file + '.parquet'\n",
    "gdf = gpd.read_parquet(filename)\n",
    "gdf = gdf[gdf.skipsgruppe.isin(shiptypes)]\n",
    "crs = 32632  # Coordinate reference system\n",
    "gdf.to_crs(crs, inplace=True)  # Transformation\n",
    "all_trajectories = mpd.TrajectoryCollection(gdf, traj_id_col='mmsi', obj_id_col='mmsi')\n",
    "\n",
    "# select evaluation data\n",
    "selection_start = 1\n",
    "selection_end = len(all_trajectories)\n",
    "selection_step = 10\n",
    "selection = np.arange(selection_start, selection_end, selection_step)\n",
    "n_trajectories = len(selection)\n",
    "mmsis = gdf.mmsi.unique()[selection]\n",
    "trajectories = all_trajectories.filter('mmsi', mmsis.tolist())"
   ]
  },
  {
   "cell_type": "code",
   "execution_count": 19,
   "id": "786878d7-a271-4952-94f2-5c66026c04ed",
   "metadata": {},
   "outputs": [
    {
     "name": "stdout",
     "output_type": "stream",
     "text": [
      "Evaluating graph on 1504 trajectories\n",
      "Progress: 10%...20%...30%...40%...50%...60%...70%...80%...90%...Done!\n",
      "Success rates:\n",
      "                   mmsi  mean_dist  median_dist  max_dist  distances  fraction_covered\n",
      "message                                                                               \n",
      "attempt        0.023271   0.021941     0.021941  0.021941   0.023271          0.023271\n",
      "no_intersects  0.078457   0.000000     0.000000  0.000000   0.000000          0.078457\n",
      "no_path        0.103059   0.000000     0.000000  0.000000   0.000000          0.103059\n",
      "success        0.795213   0.795213     0.795213  0.795213   0.795213          0.795213\n",
      "\n",
      " --------------------------- \n",
      "\n",
      "Fraction of NaN results: 0.183\n",
      "\n",
      " --------------------------- \n",
      "\n",
      "Mean fraction of each trajectory covered by the path on the graph: 0.895 \n",
      "\n",
      "Mean distance      = 323.48 m\n",
      "Median distance    = 109.53 m\n",
      "Standard deviation = 887.61 m \n",
      "\n"
     ]
    },
    {
     "data": {
      "image/png": "[encoded data removed]",
      "text/plain": [
       "<Figure size 1200x600 with 3 Axes>"
      ]
     },
     "metadata": {},
     "output_type": "display_data"
    }
   ],
   "source": [
    "all_paths, all_evaluation_results, summary, fig = network.evaluate_graph(trajectories)\n",
    "fig.show()"
   ]
  },
  {
   "cell_type": "code",
   "execution_count": 20,
   "id": "19c9ff10-f2ce-46ee-9a67-9fe6aa8b5f5f",
   "metadata": {},
   "outputs": [
    {
     "name": "stdout",
     "output_type": "stream",
     "text": [
      "https://app.neptune.ai/jandrik91/Maritime-Traffic-Network/e/MAR-115\n",
      "Shutting down background jobs, please wait a moment...\n",
      "Done!\n",
      "Waiting for the remaining 32 operations to synchronize with Neptune. Do not kill this process.\n",
      "All 32 operations synced, thanks for waiting!\n",
      "Explore the metadata in the Neptune app:\n",
      "https://app.neptune.ai/jandrik91/Maritime-Traffic-Network/e/MAR-115/metadata\n"
     ]
    }
   ],
   "source": [
    "# Save experiment results with neptune\n",
    "import neptune\n",
    "import networkx as nx\n",
    "\n",
    "run = neptune.init_run(\n",
    "    project=\"jandrik91/Maritime-Traffic-Network\",\n",
    "    api_token=\"eyJhcGlfYWRkcmVzcyI6Imh0dHBzOi8vYXBwLm5lcHR1bmUuYWkiLCJhcGlfdXJsIjoiaHR0cHM6Ly9hcHAubmVwdHVuZS5haSIsImFwaV9rZXkiOiIxYmQzMjgwZS1jZGYwLTQ2YjktYWNjOS02MjBlZWEzNzUzNDcifQ==\",\n",
    ")  # your credentials\n",
    "\n",
    "run[\"model\"]=model\n",
    "run[\"n_points\"]=len(network.gdf)\n",
    "run[\"n_nodes\"]=network.G_pruned.number_of_nodes()\n",
    "run[\"n_edges\"]=network.G_pruned.number_of_edges()\n",
    "run[\"n_isolated\"]=nx.number_of_isolates(network.G_pruned)\n",
    "run[\"merge_stops\"] = merge_stops\n",
    "run[\"merge_stops_speed\"] = merge_stops_speed\n",
    "run[\"pruning\"] = pruning\n",
    "\n",
    "params = network.hyperparameters\n",
    "params['clustering_metric_V_coord'] = params['clustering_metric_V'][0][0]\n",
    "params['clustering_metric_V_cog'] = params['clustering_metric_V'][2][2]\n",
    "params['clustering_metric_V_speed'] = params['clustering_metric_V'][4][4]\n",
    "run[\"parameters\"] = params\n",
    "\n",
    "run[\"test_data\"] = {'eval_file':eval_file,\n",
    "                    'selection_start':selection_start,\n",
    "                    'selection_end':selection_end,\n",
    "                    'selection_step':selection_step,\n",
    "                    'n_trajectories':n_trajectories}\n",
    "\n",
    "run[\"plot\"].upload(fig)\n",
    "run[\"summary\"] = summary\n",
    "\n",
    "run.stop()"
   ]
  },
  {
   "cell_type": "code",
   "execution_count": null,
   "id": "2a231a8a-44ed-4796-8f5c-d16e46481b06",
   "metadata": {},
   "outputs": [],
   "source": []
  }
 ],
 "metadata": {
  "kernelspec": {
   "display_name": "Python 3 (ipykernel)",
   "language": "python",
   "name": "python3"
  },
  "language_info": {
   "codemirror_mode": {
    "name": "ipython",
    "version": 3
   },
   "file_extension": ".py",
   "mimetype": "text/x-python",
   "name": "python",
   "nbconvert_exporter": "python",
   "pygments_lexer": "ipython3",
   "version": "3.11.5"
  }
 },
 "nbformat": 4,
 "nbformat_minor": 5
}
