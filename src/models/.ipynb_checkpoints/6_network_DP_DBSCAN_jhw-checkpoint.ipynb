{
 "cells": [
  {
   "cell_type": "code",
   "execution_count": 1,
   "id": "8131735c-b685-41c3-b7ee-e3e8755013fd",
   "metadata": {},
   "outputs": [
    {
     "name": "stdout",
     "output_type": "stream",
     "text": [
      "['/Users/janhendrikwebert/maritime_route_prediction/src/models', '/Users/janhendrikwebert/miniforge3/envs/env_geo/lib/python311.zip', '/Users/janhendrikwebert/miniforge3/envs/env_geo/lib/python3.11', '/Users/janhendrikwebert/miniforge3/envs/env_geo/lib/python3.11/lib-dynload', '', '/Users/janhendrikwebert/miniforge3/envs/env_geo/lib/python3.11/site-packages', '../visualization']\n",
      "Geopandas has version 0.13.2\n",
      "Movingpandas has version 0.17.1\n"
     ]
    }
   ],
   "source": [
    "import pandas as pd\n",
    "import geopandas as gpd\n",
    "import movingpandas as mpd\n",
    "import numpy as np\n",
    "from datetime import timedelta, datetime\n",
    "from maritime_traffic_network import MaritimeTrafficNetwork\n",
    "import folium\n",
    "import warnings\n",
    "import sys\n",
    "warnings.filterwarnings('ignore')\n",
    "\n",
    "print(\"Geopandas has version {}\".format(gpd.__version__))\n",
    "print(\"Movingpandas has version {}\".format(mpd.__version__))"
   ]
  },
  {
   "cell_type": "code",
   "execution_count": 2,
   "id": "0cc3ccda-09a8-48c5-80d0-5ae3510455a2",
   "metadata": {},
   "outputs": [],
   "source": [
    "# add paths for modules\n",
    "sys.path.append('../visualization')\n",
    "print(sys.path)\n",
    "\n",
    "# import modules\n",
    "import visualize"
   ]
  },
  {
   "cell_type": "code",
   "execution_count": 3,
   "id": "428549bb-93d5-4e20-836b-0d2b07a540f2",
   "metadata": {},
   "outputs": [
    {
     "data": {
      "text/html": [
       "<div>\n",
       "<style scoped>\n",
       "    .dataframe tbody tr th:only-of-type {\n",
       "        vertical-align: middle;\n",
       "    }\n",
       "\n",
       "    .dataframe tbody tr th {\n",
       "        vertical-align: top;\n",
       "    }\n",
       "\n",
       "    .dataframe thead th {\n",
       "        text-align: right;\n",
       "    }\n",
       "</style>\n",
       "<table border=\"1\" class=\"dataframe\">\n",
       "  <thead>\n",
       "    <tr style=\"text-align: right;\">\n",
       "      <th></th>\n",
       "      <th>mmsi</th>\n",
       "      <th>imo_nr</th>\n",
       "      <th>length</th>\n",
       "      <th>lon</th>\n",
       "      <th>lat</th>\n",
       "      <th>sog</th>\n",
       "      <th>cog</th>\n",
       "      <th>true_heading</th>\n",
       "      <th>nav_status</th>\n",
       "      <th>message_nr</th>\n",
       "      <th>bredde</th>\n",
       "      <th>dypgaaende</th>\n",
       "      <th>skipstype</th>\n",
       "      <th>skipsgruppe</th>\n",
       "      <th>fartoynavn</th>\n",
       "      <th>geometry</th>\n",
       "      <th>speed</th>\n",
       "    </tr>\n",
       "    <tr>\n",
       "      <th>date_time_utc</th>\n",
       "      <th></th>\n",
       "      <th></th>\n",
       "      <th></th>\n",
       "      <th></th>\n",
       "      <th></th>\n",
       "      <th></th>\n",
       "      <th></th>\n",
       "      <th></th>\n",
       "      <th></th>\n",
       "      <th></th>\n",
       "      <th></th>\n",
       "      <th></th>\n",
       "      <th></th>\n",
       "      <th></th>\n",
       "      <th></th>\n",
       "      <th></th>\n",
       "      <th></th>\n",
       "    </tr>\n",
       "  </thead>\n",
       "  <tbody>\n",
       "    <tr>\n",
       "      <th>2022-04-01 06:30:21</th>\n",
       "      <td>209989000_0</td>\n",
       "      <td>9235505</td>\n",
       "      <td>90</td>\n",
       "      <td>4.62360</td>\n",
       "      <td>59.5881</td>\n",
       "      <td>10.0</td>\n",
       "      <td>167.2</td>\n",
       "      <td>174</td>\n",
       "      <td>0</td>\n",
       "      <td>1</td>\n",
       "      <td>13.6</td>\n",
       "      <td>6.36</td>\n",
       "      <td>General Cargo Ship</td>\n",
       "      <td>Last</td>\n",
       "      <td>LISA</td>\n",
       "      <td>POINT (4.62360 59.58810)</td>\n",
       "      <td>4.473722</td>\n",
       "    </tr>\n",
       "    <tr>\n",
       "      <th>2022-04-01 06:30:31</th>\n",
       "      <td>209989000_0</td>\n",
       "      <td>9235505</td>\n",
       "      <td>90</td>\n",
       "      <td>4.62367</td>\n",
       "      <td>59.5877</td>\n",
       "      <td>9.7</td>\n",
       "      <td>179.6</td>\n",
       "      <td>174</td>\n",
       "      <td>0</td>\n",
       "      <td>1</td>\n",
       "      <td>13.6</td>\n",
       "      <td>6.36</td>\n",
       "      <td>General Cargo Ship</td>\n",
       "      <td>Last</td>\n",
       "      <td>LISA</td>\n",
       "      <td>POINT (4.62367 59.58770)</td>\n",
       "      <td>4.473722</td>\n",
       "    </tr>\n",
       "    <tr>\n",
       "      <th>2022-04-01 06:30:40</th>\n",
       "      <td>209989000_0</td>\n",
       "      <td>9235505</td>\n",
       "      <td>90</td>\n",
       "      <td>4.62375</td>\n",
       "      <td>59.5873</td>\n",
       "      <td>9.9</td>\n",
       "      <td>173.0</td>\n",
       "      <td>174</td>\n",
       "      <td>0</td>\n",
       "      <td>1</td>\n",
       "      <td>13.6</td>\n",
       "      <td>6.36</td>\n",
       "      <td>General Cargo Ship</td>\n",
       "      <td>Last</td>\n",
       "      <td>LISA</td>\n",
       "      <td>POINT (4.62375 59.58730)</td>\n",
       "      <td>4.976744</td>\n",
       "    </tr>\n",
       "    <tr>\n",
       "      <th>2022-04-01 06:30:50</th>\n",
       "      <td>209989000_0</td>\n",
       "      <td>9235505</td>\n",
       "      <td>90</td>\n",
       "      <td>4.62384</td>\n",
       "      <td>59.5868</td>\n",
       "      <td>9.8</td>\n",
       "      <td>174.7</td>\n",
       "      <td>174</td>\n",
       "      <td>0</td>\n",
       "      <td>1</td>\n",
       "      <td>13.6</td>\n",
       "      <td>6.36</td>\n",
       "      <td>General Cargo Ship</td>\n",
       "      <td>Last</td>\n",
       "      <td>LISA</td>\n",
       "      <td>POINT (4.62384 59.58680)</td>\n",
       "      <td>5.593419</td>\n",
       "    </tr>\n",
       "    <tr>\n",
       "      <th>2022-04-01 06:31:10</th>\n",
       "      <td>209989000_0</td>\n",
       "      <td>9235505</td>\n",
       "      <td>90</td>\n",
       "      <td>4.62402</td>\n",
       "      <td>59.5859</td>\n",
       "      <td>9.7</td>\n",
       "      <td>177.4</td>\n",
       "      <td>174</td>\n",
       "      <td>0</td>\n",
       "      <td>1</td>\n",
       "      <td>13.6</td>\n",
       "      <td>6.36</td>\n",
       "      <td>General Cargo Ship</td>\n",
       "      <td>Last</td>\n",
       "      <td>LISA</td>\n",
       "      <td>POINT (4.62402 59.58590)</td>\n",
       "      <td>5.038954</td>\n",
       "    </tr>\n",
       "  </tbody>\n",
       "</table>\n",
       "</div>"
      ],
      "text/plain": [
       "                            mmsi   imo_nr  length      lon      lat   sog  \\\n",
       "date_time_utc                                                               \n",
       "2022-04-01 06:30:21  209989000_0  9235505      90  4.62360  59.5881  10.0   \n",
       "2022-04-01 06:30:31  209989000_0  9235505      90  4.62367  59.5877   9.7   \n",
       "2022-04-01 06:30:40  209989000_0  9235505      90  4.62375  59.5873   9.9   \n",
       "2022-04-01 06:30:50  209989000_0  9235505      90  4.62384  59.5868   9.8   \n",
       "2022-04-01 06:31:10  209989000_0  9235505      90  4.62402  59.5859   9.7   \n",
       "\n",
       "                       cog  true_heading  nav_status  message_nr  bredde  \\\n",
       "date_time_utc                                                              \n",
       "2022-04-01 06:30:21  167.2           174           0           1    13.6   \n",
       "2022-04-01 06:30:31  179.6           174           0           1    13.6   \n",
       "2022-04-01 06:30:40  173.0           174           0           1    13.6   \n",
       "2022-04-01 06:30:50  174.7           174           0           1    13.6   \n",
       "2022-04-01 06:31:10  177.4           174           0           1    13.6   \n",
       "\n",
       "                     dypgaaende           skipstype skipsgruppe fartoynavn  \\\n",
       "date_time_utc                                                                \n",
       "2022-04-01 06:30:21        6.36  General Cargo Ship        Last       LISA   \n",
       "2022-04-01 06:30:31        6.36  General Cargo Ship        Last       LISA   \n",
       "2022-04-01 06:30:40        6.36  General Cargo Ship        Last       LISA   \n",
       "2022-04-01 06:30:50        6.36  General Cargo Ship        Last       LISA   \n",
       "2022-04-01 06:31:10        6.36  General Cargo Ship        Last       LISA   \n",
       "\n",
       "                                     geometry     speed  \n",
       "date_time_utc                                            \n",
       "2022-04-01 06:30:21  POINT (4.62360 59.58810)  4.473722  \n",
       "2022-04-01 06:30:31  POINT (4.62367 59.58770)  4.473722  \n",
       "2022-04-01 06:30:40  POINT (4.62375 59.58730)  4.976744  \n",
       "2022-04-01 06:30:50  POINT (4.62384 59.58680)  5.593419  \n",
       "2022-04-01 06:31:10  POINT (4.62402 59.58590)  5.038954  "
      ]
     },
     "execution_count": 3,
     "metadata": {},
     "output_type": "execute_result"
    }
   ],
   "source": [
    "# read data from file\n",
    "filename = '../../data/processed/202204_points_stavanger_cleaned_meta_200k.parquet'\n",
    "#filename = '../../data/processed/202204_points_stavanger_cleaned_meta_full.parquet'\n",
    "gdf = gpd.read_parquet(filename)\n",
    "gdf.head()"
   ]
  },
  {
   "cell_type": "code",
   "execution_count": 4,
   "id": "65031840-9bda-4c38-991f-607f30b8997c",
   "metadata": {},
   "outputs": [
    {
     "name": "stdout",
     "output_type": "stream",
     "text": [
      "AIS messages: 192346\n",
      "Trajectories: 249\n"
     ]
    }
   ],
   "source": [
    "# initialize maritime traffic network\n",
    "network = MaritimeTrafficNetwork(gdf)\n",
    "network.get_trajectories_info()"
   ]
  },
  {
   "cell_type": "code",
   "execution_count": 5,
   "id": "370af301-437f-44e3-9ee3-c3f08cfd5df8",
   "metadata": {},
   "outputs": [
    {
     "name": "stdout",
     "output_type": "stream",
     "text": [
      "Calculating significant turning points with Douglas Peucker algorithm (tolerance = 0.0002) ...\n",
      "Number of significant points detected: 9529 (4.95% of AIS messages)\n",
      "Time elapsed: 0.15 minutes\n",
      "Adding course over ground before and after each turn ...\n",
      "Done. Time elapsed: 0.06 minutes\n"
     ]
    }
   ],
   "source": [
    "# calculate significant turning points using Douglas Peucker algorithm\n",
    "mode = 'comp'  # in 'load' mode, the calculation is skipped and stored significant turning points are loaded from file\n",
    "if mode == 'load':\n",
    "    filename = '../../data/processed/202204_significant_points_DP2e-3_stavanger_full.parquet'\n",
    "    precomputed = gpd.read_parquet(filename)\n",
    "    network.init_precomputed_significant_points(precomputed)\n",
    "else:\n",
    "    tolerance = 0.0002  # DP tolerance parameter\n",
    "    network.calc_significant_points_DP(tolerance)"
   ]
  },
  {
   "cell_type": "code",
   "execution_count": 6,
   "id": "c235e6d6-5144-47ab-ab06-35ce388e88ba",
   "metadata": {},
   "outputs": [
    {
     "name": "stdout",
     "output_type": "stream",
     "text": [
      "Calculating waypoints with HDBSCAN (min_samples = 10) ...\n",
      "Distance metric: mahalanobis\n"
     ]
    },
    {
     "ename": "KeyboardInterrupt",
     "evalue": "",
     "output_type": "error",
     "traceback": [
      "\u001b[0;31m---------------------------------------------------------------------------\u001b[0m",
      "\u001b[0;31mKeyboardInterrupt\u001b[0m                         Traceback (most recent call last)",
      "Cell \u001b[0;32mIn[6], line 7\u001b[0m\n\u001b[1;32m      5\u001b[0m min_cluster_size \u001b[38;5;241m=\u001b[39m \u001b[38;5;241m10\u001b[39m\n\u001b[1;32m      6\u001b[0m eps \u001b[38;5;241m=\u001b[39m \u001b[38;5;241m0.02\u001b[39m\n\u001b[0;32m----> 7\u001b[0m \u001b[43mnetwork\u001b[49m\u001b[38;5;241;43m.\u001b[39;49m\u001b[43mcalc_waypoints_clustering\u001b[49m\u001b[43m(\u001b[49m\u001b[43mmethod\u001b[49m\u001b[38;5;241;43m=\u001b[39;49m\u001b[43mmethod\u001b[49m\u001b[43m,\u001b[49m\u001b[43m \u001b[49m\u001b[43mmin_samples\u001b[49m\u001b[38;5;241;43m=\u001b[39;49m\u001b[43mmin_samples\u001b[49m\u001b[43m,\u001b[49m\u001b[43m \u001b[49m\u001b[43mmin_cluster_size\u001b[49m\u001b[38;5;241;43m=\u001b[39;49m\u001b[43mmin_cluster_size\u001b[49m\u001b[43m,\u001b[49m\n\u001b[1;32m      8\u001b[0m \u001b[43m                                  \u001b[49m\u001b[43meps\u001b[49m\u001b[38;5;241;43m=\u001b[39;49m\u001b[43meps\u001b[49m\u001b[43m,\u001b[49m\u001b[43m \u001b[49m\u001b[43mmetric\u001b[49m\u001b[38;5;241;43m=\u001b[39;49m\u001b[43mmetric\u001b[49m\u001b[43m)\u001b[49m\n",
      "File \u001b[0;32m~/maritime_route_prediction/src/models/maritime_traffic_network.py:128\u001b[0m, in \u001b[0;36mMaritimeTrafficNetwork.calc_waypoints_clustering\u001b[0;34m(self, method, min_samples, min_cluster_size, eps, metric)\u001b[0m\n\u001b[1;32m    124\u001b[0m     \u001b[38;5;28mprint\u001b[39m(\u001b[38;5;124mf\u001b[39m\u001b[38;5;124m'\u001b[39m\u001b[38;5;124mCalculating waypoints with \u001b[39m\u001b[38;5;132;01m{\u001b[39;00mmethod\u001b[38;5;132;01m}\u001b[39;00m\u001b[38;5;124m (min_samples = \u001b[39m\u001b[38;5;132;01m{\u001b[39;00mmin_samples\u001b[38;5;132;01m}\u001b[39;00m\u001b[38;5;124m) ...\u001b[39m\u001b[38;5;124m'\u001b[39m)\n\u001b[1;32m    125\u001b[0m     \u001b[38;5;28mprint\u001b[39m(\u001b[38;5;124mf\u001b[39m\u001b[38;5;124m'\u001b[39m\u001b[38;5;124mDistance metric: \u001b[39m\u001b[38;5;132;01m{\u001b[39;00mmetric\u001b[38;5;132;01m}\u001b[39;00m\u001b[38;5;124m'\u001b[39m)\n\u001b[1;32m    126\u001b[0m     clustering \u001b[38;5;241m=\u001b[39m \u001b[43mHDBSCAN\u001b[49m\u001b[43m(\u001b[49m\u001b[43mmin_cluster_size\u001b[49m\u001b[38;5;241;43m=\u001b[39;49m\u001b[43mmin_cluster_size\u001b[49m\u001b[43m,\u001b[49m\u001b[43m \u001b[49m\u001b[43mmin_samples\u001b[49m\u001b[38;5;241;43m=\u001b[39;49m\u001b[43mmin_samples\u001b[49m\u001b[43m,\u001b[49m\u001b[43m \u001b[49m\n\u001b[1;32m    127\u001b[0m \u001b[43m                         \u001b[49m\u001b[43mcluster_selection_method\u001b[49m\u001b[38;5;241;43m=\u001b[39;49m\u001b[38;5;124;43m'\u001b[39;49m\u001b[38;5;124;43mleaf\u001b[39;49m\u001b[38;5;124;43m'\u001b[39;49m\u001b[43m,\u001b[49m\u001b[43m \u001b[49m\u001b[43mmetric\u001b[49m\u001b[38;5;241;43m=\u001b[39;49m\u001b[43mmetric\u001b[49m\u001b[43m,\u001b[49m\u001b[43m \u001b[49m\n\u001b[0;32m--> 128\u001b[0m \u001b[43m                         \u001b[49m\u001b[43mmetric_params\u001b[49m\u001b[38;5;241;43m=\u001b[39;49m\u001b[43mmetric_params\u001b[49m\u001b[43m)\u001b[49m\u001b[38;5;241;43m.\u001b[39;49m\u001b[43mfit\u001b[49m\u001b[43m(\u001b[49m\u001b[43msignificant_points\u001b[49m\u001b[43m[\u001b[49m\u001b[43mcolumns\u001b[49m\u001b[43m]\u001b[49m\u001b[43m)\u001b[49m\n\u001b[1;32m    129\u001b[0m \u001b[38;5;66;03m#########\u001b[39;00m\n\u001b[1;32m    130\u001b[0m \u001b[38;5;66;03m# OPTICS\u001b[39;00m\n\u001b[1;32m    131\u001b[0m \u001b[38;5;66;03m#########\u001b[39;00m\n\u001b[1;32m    132\u001b[0m \u001b[38;5;28;01melif\u001b[39;00m method \u001b[38;5;241m==\u001b[39m \u001b[38;5;124m'\u001b[39m\u001b[38;5;124mOPTICS\u001b[39m\u001b[38;5;124m'\u001b[39m:\n",
      "File \u001b[0;32m~/miniforge3/envs/env_geo/lib/python3.11/site-packages/sklearn/cluster/_hdbscan/hdbscan.py:817\u001b[0m, in \u001b[0;36mHDBSCAN.fit\u001b[0;34m(self, X, y)\u001b[0m\n\u001b[1;32m    814\u001b[0m         kwargs[\u001b[38;5;124m\"\u001b[39m\u001b[38;5;124malgo\u001b[39m\u001b[38;5;124m\"\u001b[39m] \u001b[38;5;241m=\u001b[39m \u001b[38;5;124m\"\u001b[39m\u001b[38;5;124mball_tree\u001b[39m\u001b[38;5;124m\"\u001b[39m\n\u001b[1;32m    815\u001b[0m         kwargs[\u001b[38;5;124m\"\u001b[39m\u001b[38;5;124mleaf_size\u001b[39m\u001b[38;5;124m\"\u001b[39m] \u001b[38;5;241m=\u001b[39m \u001b[38;5;28mself\u001b[39m\u001b[38;5;241m.\u001b[39mleaf_size\n\u001b[0;32m--> 817\u001b[0m \u001b[38;5;28mself\u001b[39m\u001b[38;5;241m.\u001b[39m_single_linkage_tree_ \u001b[38;5;241m=\u001b[39m \u001b[43mmst_func\u001b[49m\u001b[43m(\u001b[49m\u001b[38;5;241;43m*\u001b[39;49m\u001b[38;5;241;43m*\u001b[39;49m\u001b[43mkwargs\u001b[49m\u001b[43m)\u001b[49m\n\u001b[1;32m    819\u001b[0m \u001b[38;5;28mself\u001b[39m\u001b[38;5;241m.\u001b[39mlabels_, \u001b[38;5;28mself\u001b[39m\u001b[38;5;241m.\u001b[39mprobabilities_ \u001b[38;5;241m=\u001b[39m tree_to_labels(\n\u001b[1;32m    820\u001b[0m     \u001b[38;5;28mself\u001b[39m\u001b[38;5;241m.\u001b[39m_single_linkage_tree_,\n\u001b[1;32m    821\u001b[0m     \u001b[38;5;28mself\u001b[39m\u001b[38;5;241m.\u001b[39mmin_cluster_size,\n\u001b[0;32m   (...)\u001b[0m\n\u001b[1;32m    825\u001b[0m     \u001b[38;5;28mself\u001b[39m\u001b[38;5;241m.\u001b[39mmax_cluster_size,\n\u001b[1;32m    826\u001b[0m )\n\u001b[1;32m    827\u001b[0m \u001b[38;5;28;01mif\u001b[39;00m \u001b[38;5;28mself\u001b[39m\u001b[38;5;241m.\u001b[39mmetric \u001b[38;5;241m!=\u001b[39m \u001b[38;5;124m\"\u001b[39m\u001b[38;5;124mprecomputed\u001b[39m\u001b[38;5;124m\"\u001b[39m \u001b[38;5;129;01mand\u001b[39;00m \u001b[38;5;129;01mnot\u001b[39;00m all_finite:\n\u001b[1;32m    828\u001b[0m     \u001b[38;5;66;03m# Remap indices to align with original data in the case of\u001b[39;00m\n\u001b[1;32m    829\u001b[0m     \u001b[38;5;66;03m# non-finite entries. Samples with np.inf are mapped to -1 and\u001b[39;00m\n\u001b[1;32m    830\u001b[0m     \u001b[38;5;66;03m# those with np.nan are mapped to -2.\u001b[39;00m\n",
      "File \u001b[0;32m~/miniforge3/envs/env_geo/lib/python3.11/site-packages/sklearn/cluster/_hdbscan/hdbscan.py:346\u001b[0m, in \u001b[0;36m_hdbscan_prims\u001b[0;34m(X, algo, min_samples, alpha, metric, leaf_size, n_jobs, **metric_params)\u001b[0m\n\u001b[1;32m    343\u001b[0m dist_metric \u001b[38;5;241m=\u001b[39m DistanceMetric\u001b[38;5;241m.\u001b[39mget_metric(metric, \u001b[38;5;241m*\u001b[39m\u001b[38;5;241m*\u001b[39mmetric_params)\n\u001b[1;32m    345\u001b[0m \u001b[38;5;66;03m# Mutual reachability distance is implicit in mst_from_data_matrix\u001b[39;00m\n\u001b[0;32m--> 346\u001b[0m min_spanning_tree \u001b[38;5;241m=\u001b[39m \u001b[43mmst_from_data_matrix\u001b[49m\u001b[43m(\u001b[49m\u001b[43mX\u001b[49m\u001b[43m,\u001b[49m\u001b[43m \u001b[49m\u001b[43mcore_distances\u001b[49m\u001b[43m,\u001b[49m\u001b[43m \u001b[49m\u001b[43mdist_metric\u001b[49m\u001b[43m,\u001b[49m\u001b[43m \u001b[49m\u001b[43malpha\u001b[49m\u001b[43m)\u001b[49m\n\u001b[1;32m    347\u001b[0m \u001b[38;5;28;01mreturn\u001b[39;00m _process_mst(min_spanning_tree)\n",
      "\u001b[0;31mKeyboardInterrupt\u001b[0m: "
     ]
    }
   ],
   "source": [
    "# detect waypoints using spatial clustering\n",
    "method = 'HDBSCAN'      # 'DBSCAN' , 'HDBSCAN', 'OPTICS'\n",
    "metric = 'mahalanobis'  # 'euclidean', 'mahalanobis'\n",
    "min_samples = 10\n",
    "min_cluster_size = 10\n",
    "eps = 0.02\n",
    "network.calc_waypoints_clustering(method=method, min_samples=min_samples, min_cluster_size=min_cluster_size,\n",
    "                                  eps=eps, metric=metric)"
   ]
  },
  {
   "cell_type": "code",
   "execution_count": null,
   "id": "573240da-630a-4a58-ba64-870c13c93d69",
   "metadata": {},
   "outputs": [],
   "source": [
    "# Generate plot\n",
    "map = network.map_waypoints()\n",
    "\n",
    "# add a title\n",
    "title = f'{method} parameters: min_samples = {min_samples}, metric = {metric}'\n",
    "title_html = '''\n",
    "             <h3 align=\"center\" style=\"font-size:16px\"><b>{}</b></h3>\n",
    "             '''.format(title)   \n",
    "\n",
    "map.get_root().html.add_child(folium.Element(title_html))\n",
    "\n",
    "map"
   ]
  },
  {
   "cell_type": "code",
   "execution_count": null,
   "id": "68805f2c-acae-4417-88c4-acecf68738d2",
   "metadata": {},
   "outputs": [],
   "source": [
    "#data = network.significant_points.drop('clusterID', axis=1)\n",
    "#data.to_parquet('../../data/processed/202204_significant_points_DP2e-4_stavanger_full.parquet')"
   ]
  },
  {
   "cell_type": "code",
   "execution_count": null,
   "id": "873ffb8b-2409-4e74-996c-512a8803f96f",
   "metadata": {},
   "outputs": [],
   "source": [
    "#network.significant_points.to_parquet('../../data/processed/202204_significant_points_DP2e-4_clustered_stavanger_full.parquet')"
   ]
  },
  {
   "cell_type": "code",
   "execution_count": null,
   "id": "48a32cc3-eb2b-4817-a8e4-53fdce53271f",
   "metadata": {},
   "outputs": [],
   "source": [
    "#cluster_centroids = network.waypoints\n",
    "#cluster_centroids.set_geometry('convex_hull', inplace=True)\n",
    "#cluster_centroids.to_parquet('../../data/processed/202204_waypoints_DP2e-4_HDBSCAN30_stavanger_full.parquet')"
   ]
  },
  {
   "cell_type": "code",
   "execution_count": null,
   "id": "df975296-c342-4310-a935-aa3fdc11e1a3",
   "metadata": {},
   "outputs": [],
   "source": []
  }
 ],
 "metadata": {
  "kernelspec": {
   "display_name": "Python 3 (ipykernel)",
   "language": "python",
   "name": "python3"
  },
  "language_info": {
   "codemirror_mode": {
    "name": "ipython",
    "version": 3
   },
   "file_extension": ".py",
   "mimetype": "text/x-python",
   "name": "python",
   "nbconvert_exporter": "python",
   "pygments_lexer": "ipython3",
   "version": "3.11.5"
  }
 },
 "nbformat": 4,
 "nbformat_minor": 5
}
