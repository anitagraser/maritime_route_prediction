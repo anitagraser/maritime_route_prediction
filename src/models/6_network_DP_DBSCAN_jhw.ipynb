{
 "cells": [
  {
   "cell_type": "code",
   "execution_count": 1,
   "id": "8131735c-b685-41c3-b7ee-e3e8755013fd",
   "metadata": {
    "editable": true,
    "slideshow": {
     "slide_type": ""
    },
    "tags": []
   },
   "outputs": [
    {
     "name": "stdout",
     "output_type": "stream",
     "text": [
      "Geopandas has version 0.13.2\n",
      "Movingpandas has version 0.17.1\n"
     ]
    }
   ],
   "source": [
    "import pandas as pd\n",
    "import geopandas as gpd\n",
    "import movingpandas as mpd\n",
    "import numpy as np\n",
    "from datetime import timedelta, datetime\n",
    "from maritime_traffic_network import MaritimeTrafficNetwork\n",
    "import folium\n",
    "import warnings\n",
    "import sys\n",
    "import pickle\n",
    "warnings.filterwarnings('ignore')\n",
    "\n",
    "print(\"Geopandas has version {}\".format(gpd.__version__))\n",
    "print(\"Movingpandas has version {}\".format(mpd.__version__))"
   ]
  },
  {
   "cell_type": "code",
   "execution_count": 2,
   "id": "0cc3ccda-09a8-48c5-80d0-5ae3510455a2",
   "metadata": {},
   "outputs": [
    {
     "name": "stdout",
     "output_type": "stream",
     "text": [
      "['/Users/janhendrikwebert/maritime_route_prediction/src/models', '/Users/janhendrikwebert/miniforge3/envs/env_geo/lib/python311.zip', '/Users/janhendrikwebert/miniforge3/envs/env_geo/lib/python3.11', '/Users/janhendrikwebert/miniforge3/envs/env_geo/lib/python3.11/lib-dynload', '', '/Users/janhendrikwebert/miniforge3/envs/env_geo/lib/python3.11/site-packages', '../visualization', '../features', '../visualization', '../features']\n"
     ]
    }
   ],
   "source": [
    "# add paths for modules\n",
    "sys.path.append('../visualization')\n",
    "sys.path.append('../features')\n",
    "print(sys.path)\n",
    "\n",
    "# import modules\n",
    "import visualize"
   ]
  },
  {
   "cell_type": "code",
   "execution_count": 3,
   "id": "428549bb-93d5-4e20-836b-0d2b07a540f2",
   "metadata": {
    "editable": true,
    "slideshow": {
     "slide_type": ""
    },
    "tags": []
   },
   "outputs": [],
   "source": [
    "# read data from file\n",
    "datasize = 'full'\n",
    "location = 'oslo'\n",
    "data_date = '202208'\n",
    "filename = '../../data/processed/'+data_date+'_points_'+location+'_cleaned_meta_'+datasize+'_dualSplit_2.parquet'\n",
    "#filename = '../../data/processed/202204_points_stavanger_cleaned_meta_full.parquet'\n",
    "gdf = gpd.read_parquet(filename)"
   ]
  },
  {
   "cell_type": "code",
   "execution_count": 4,
   "id": "c62cb00a-2df1-4b34-a21a-15f644bdfd6f",
   "metadata": {},
   "outputs": [],
   "source": [
    "# filter the data according to ship type\n",
    "#shiptypes = ['Tank', 'Last', 'Passasjer', None]\n",
    "#gdf = gdf[gdf.skipsgruppe.isin(shiptypes)]"
   ]
  },
  {
   "cell_type": "code",
   "execution_count": 5,
   "id": "4eb7eedc-71a3-4012-afa2-29b6b1756c17",
   "metadata": {},
   "outputs": [
    {
     "data": {
      "text/html": [
       "<div>\n",
       "<style scoped>\n",
       "    .dataframe tbody tr th:only-of-type {\n",
       "        vertical-align: middle;\n",
       "    }\n",
       "\n",
       "    .dataframe tbody tr th {\n",
       "        vertical-align: top;\n",
       "    }\n",
       "\n",
       "    .dataframe thead th {\n",
       "        text-align: right;\n",
       "    }\n",
       "</style>\n",
       "<table border=\"1\" class=\"dataframe\">\n",
       "  <thead>\n",
       "    <tr style=\"text-align: right;\">\n",
       "      <th></th>\n",
       "      <th>mmsi</th>\n",
       "      <th>imo_nr</th>\n",
       "      <th>length</th>\n",
       "      <th>lon</th>\n",
       "      <th>lat</th>\n",
       "      <th>sog</th>\n",
       "      <th>cog</th>\n",
       "      <th>true_heading</th>\n",
       "      <th>nav_status</th>\n",
       "      <th>message_nr</th>\n",
       "      <th>bredde</th>\n",
       "      <th>dypgaaende</th>\n",
       "      <th>skipstype</th>\n",
       "      <th>skipsgruppe</th>\n",
       "      <th>fartoynavn</th>\n",
       "      <th>geometry</th>\n",
       "      <th>speed</th>\n",
       "    </tr>\n",
       "    <tr>\n",
       "      <th>date_time_utc</th>\n",
       "      <th></th>\n",
       "      <th></th>\n",
       "      <th></th>\n",
       "      <th></th>\n",
       "      <th></th>\n",
       "      <th></th>\n",
       "      <th></th>\n",
       "      <th></th>\n",
       "      <th></th>\n",
       "      <th></th>\n",
       "      <th></th>\n",
       "      <th></th>\n",
       "      <th></th>\n",
       "      <th></th>\n",
       "      <th></th>\n",
       "      <th></th>\n",
       "      <th></th>\n",
       "    </tr>\n",
       "  </thead>\n",
       "  <tbody>\n",
       "    <tr>\n",
       "      <th>2022-08-23 14:08:08</th>\n",
       "      <td>205689000_0_2022-08-23 14:08:08</td>\n",
       "      <td>9345362</td>\n",
       "      <td>82</td>\n",
       "      <td>10.7319</td>\n",
       "      <td>58.9092</td>\n",
       "      <td>7.7</td>\n",
       "      <td>352.0</td>\n",
       "      <td>352</td>\n",
       "      <td>0</td>\n",
       "      <td>1</td>\n",
       "      <td>12.5</td>\n",
       "      <td>5.3</td>\n",
       "      <td>General Cargo Ship</td>\n",
       "      <td>Last</td>\n",
       "      <td>FAST HERMAN</td>\n",
       "      <td>POINT (599756.409 6531232.716)</td>\n",
       "      <td>3.391128</td>\n",
       "    </tr>\n",
       "    <tr>\n",
       "      <th>2022-08-23 14:08:18</th>\n",
       "      <td>205689000_0_2022-08-23 14:08:08</td>\n",
       "      <td>9345362</td>\n",
       "      <td>82</td>\n",
       "      <td>10.7318</td>\n",
       "      <td>58.9095</td>\n",
       "      <td>7.7</td>\n",
       "      <td>351.2</td>\n",
       "      <td>352</td>\n",
       "      <td>0</td>\n",
       "      <td>1</td>\n",
       "      <td>12.5</td>\n",
       "      <td>5.3</td>\n",
       "      <td>General Cargo Ship</td>\n",
       "      <td>Last</td>\n",
       "      <td>FAST HERMAN</td>\n",
       "      <td>POINT (599749.785 6531265.964)</td>\n",
       "      <td>3.391128</td>\n",
       "    </tr>\n",
       "    <tr>\n",
       "      <th>2022-08-23 14:08:28</th>\n",
       "      <td>205689000_0_2022-08-23 14:08:08</td>\n",
       "      <td>9345362</td>\n",
       "      <td>82</td>\n",
       "      <td>10.7317</td>\n",
       "      <td>58.9099</td>\n",
       "      <td>7.7</td>\n",
       "      <td>351.2</td>\n",
       "      <td>352</td>\n",
       "      <td>0</td>\n",
       "      <td>1</td>\n",
       "      <td>12.5</td>\n",
       "      <td>5.3</td>\n",
       "      <td>General Cargo Ship</td>\n",
       "      <td>Last</td>\n",
       "      <td>FAST HERMAN</td>\n",
       "      <td>POINT (599742.873 6531310.345)</td>\n",
       "      <td>4.492851</td>\n",
       "    </tr>\n",
       "    <tr>\n",
       "      <th>2022-08-23 14:08:37</th>\n",
       "      <td>205689000_0_2022-08-23 14:08:08</td>\n",
       "      <td>9345362</td>\n",
       "      <td>82</td>\n",
       "      <td>10.7316</td>\n",
       "      <td>58.9102</td>\n",
       "      <td>7.7</td>\n",
       "      <td>351.2</td>\n",
       "      <td>352</td>\n",
       "      <td>0</td>\n",
       "      <td>1</td>\n",
       "      <td>12.5</td>\n",
       "      <td>5.3</td>\n",
       "      <td>General Cargo Ship</td>\n",
       "      <td>Last</td>\n",
       "      <td>FAST HERMAN</td>\n",
       "      <td>POINT (599736.250 6531343.594)</td>\n",
       "      <td>3.767918</td>\n",
       "    </tr>\n",
       "    <tr>\n",
       "      <th>2022-08-23 14:08:48</th>\n",
       "      <td>205689000_0_2022-08-23 14:08:08</td>\n",
       "      <td>9345362</td>\n",
       "      <td>82</td>\n",
       "      <td>10.7315</td>\n",
       "      <td>58.9105</td>\n",
       "      <td>7.7</td>\n",
       "      <td>351.2</td>\n",
       "      <td>352</td>\n",
       "      <td>0</td>\n",
       "      <td>1</td>\n",
       "      <td>12.5</td>\n",
       "      <td>5.3</td>\n",
       "      <td>General Cargo Ship</td>\n",
       "      <td>Last</td>\n",
       "      <td>FAST HERMAN</td>\n",
       "      <td>POINT (599729.626 6531376.842)</td>\n",
       "      <td>3.082842</td>\n",
       "    </tr>\n",
       "  </tbody>\n",
       "</table>\n",
       "</div>"
      ],
      "text/plain": [
       "                                                mmsi   imo_nr  length  \\\n",
       "date_time_utc                                                           \n",
       "2022-08-23 14:08:08  205689000_0_2022-08-23 14:08:08  9345362      82   \n",
       "2022-08-23 14:08:18  205689000_0_2022-08-23 14:08:08  9345362      82   \n",
       "2022-08-23 14:08:28  205689000_0_2022-08-23 14:08:08  9345362      82   \n",
       "2022-08-23 14:08:37  205689000_0_2022-08-23 14:08:08  9345362      82   \n",
       "2022-08-23 14:08:48  205689000_0_2022-08-23 14:08:08  9345362      82   \n",
       "\n",
       "                         lon      lat  sog    cog  true_heading  nav_status  \\\n",
       "date_time_utc                                                                 \n",
       "2022-08-23 14:08:08  10.7319  58.9092  7.7  352.0           352           0   \n",
       "2022-08-23 14:08:18  10.7318  58.9095  7.7  351.2           352           0   \n",
       "2022-08-23 14:08:28  10.7317  58.9099  7.7  351.2           352           0   \n",
       "2022-08-23 14:08:37  10.7316  58.9102  7.7  351.2           352           0   \n",
       "2022-08-23 14:08:48  10.7315  58.9105  7.7  351.2           352           0   \n",
       "\n",
       "                     message_nr  bredde  dypgaaende           skipstype  \\\n",
       "date_time_utc                                                             \n",
       "2022-08-23 14:08:08           1    12.5         5.3  General Cargo Ship   \n",
       "2022-08-23 14:08:18           1    12.5         5.3  General Cargo Ship   \n",
       "2022-08-23 14:08:28           1    12.5         5.3  General Cargo Ship   \n",
       "2022-08-23 14:08:37           1    12.5         5.3  General Cargo Ship   \n",
       "2022-08-23 14:08:48           1    12.5         5.3  General Cargo Ship   \n",
       "\n",
       "                    skipsgruppe   fartoynavn                        geometry  \\\n",
       "date_time_utc                                                                  \n",
       "2022-08-23 14:08:08        Last  FAST HERMAN  POINT (599756.409 6531232.716)   \n",
       "2022-08-23 14:08:18        Last  FAST HERMAN  POINT (599749.785 6531265.964)   \n",
       "2022-08-23 14:08:28        Last  FAST HERMAN  POINT (599742.873 6531310.345)   \n",
       "2022-08-23 14:08:37        Last  FAST HERMAN  POINT (599736.250 6531343.594)   \n",
       "2022-08-23 14:08:48        Last  FAST HERMAN  POINT (599729.626 6531376.842)   \n",
       "\n",
       "                        speed  \n",
       "date_time_utc                  \n",
       "2022-08-23 14:08:08  3.391128  \n",
       "2022-08-23 14:08:18  3.391128  \n",
       "2022-08-23 14:08:28  4.492851  \n",
       "2022-08-23 14:08:37  3.767918  \n",
       "2022-08-23 14:08:48  3.082842  "
      ]
     },
     "execution_count": 5,
     "metadata": {},
     "output_type": "execute_result"
    }
   ],
   "source": [
    "# Transform to desired CRS\n",
    "# 4326 for WGS 84 (global) // 32632 for UTM 32N (Norway)\n",
    "crs = 32632  # Coordinate reference system\n",
    "gdf.to_crs(crs, inplace=True)  # Transformation\n",
    "gdf.head()"
   ]
  },
  {
   "cell_type": "code",
   "execution_count": 6,
   "id": "65031840-9bda-4c38-991f-607f30b8997c",
   "metadata": {},
   "outputs": [
    {
     "name": "stdout",
     "output_type": "stream",
     "text": [
      "Number of AIS messages: 2173821\n",
      "Number of trajectories: 7184\n",
      "Coordinate Reference System (CRS): EPSG:32632\n"
     ]
    }
   ],
   "source": [
    "# initialize maritime traffic network\n",
    "network = MaritimeTrafficNetwork(gdf, crs)\n",
    "network.get_trajectories_info()"
   ]
  },
  {
   "cell_type": "code",
   "execution_count": 7,
   "id": "370af301-437f-44e3-9ee3-c3f08cfd5df8",
   "metadata": {},
   "outputs": [
    {
     "name": "stdout",
     "output_type": "stream",
     "text": [
      "Calculating significant turning points with Douglas Peucker algorithm (tolerance = 10) ...\n",
      "Number of significant points detected: 181786 (8.36% of AIS messages)\n",
      "Time elapsed: 2.15 minutes\n",
      "Adding course over ground before and after each turn ...\n",
      "Done. Time elapsed: 1.82 minutes\n"
     ]
    }
   ],
   "source": [
    "# calculate significant turning points using Douglas Peucker algorithm\n",
    "tolerance = 10 # DP tolerance parameter 0.0002\n",
    "network.calc_significant_points_DP(tolerance)"
   ]
  },
  {
   "cell_type": "code",
   "execution_count": 8,
   "id": "c235e6d6-5144-47ab-ab06-35ce388e88ba",
   "metadata": {},
   "outputs": [
    {
     "name": "stdout",
     "output_type": "stream",
     "text": [
      "Calculating waypoints with HDBSCAN (min_samples = 20) ...\n",
      "Distance metric: mahalanobis\n",
      "816 clusters detected\n",
      "Time elapsed: 5.33 minutes\n"
     ]
    }
   ],
   "source": [
    "# detect waypoints using spatial clustering\n",
    "method = 'HDBSCAN'      # 'DBSCAN' , 'HDBSCAN', 'OPTICS'\n",
    "metric = 'mahalanobis'  # 'euclidean', 'mahalanobis', 'haversine'\n",
    "min_samples = 20\n",
    "min_cluster_size = 20\n",
    "eps = 0\n",
    "V = np.diag([1, 1, 0.01, 0.01, 1])  # mahalanobis distance parameter matrix V = np.diag([1, 1, 0.01, 0.01, 1e-3])  seems to be good\n",
    "network.calc_waypoints_clustering(method=method, min_samples=min_samples, min_cluster_size=min_cluster_size,\n",
    "                                  eps=eps, metric=metric, V=V)"
   ]
  },
  {
   "cell_type": "code",
   "execution_count": 9,
   "id": "c65d07e6-8521-4c36-a677-db5157f7c8ef",
   "metadata": {
    "editable": true,
    "slideshow": {
     "slide_type": ""
    },
    "tags": []
   },
   "outputs": [
    {
     "name": "stdout",
     "output_type": "stream",
     "text": [
      "Constructing maritime traffic network graph from waypoints and trajectories...\n",
      "Progress: 10%...20%...30%...40%...50%...60%...70%...80%...90%...Done!\n",
      "------------------------\n",
      "Unpruned Graph:\n",
      "Number of nodes: 816 (4 isolated)\n",
      "Number of edges: 3945\n",
      "Network is (weakly) connected: False\n",
      "------------------------\n",
      "Time elapsed: 8.13 minutes\n"
     ]
    }
   ],
   "source": [
    "# make graph from waypoints\n",
    "max_distance=20\n",
    "max_angle=45\n",
    "network.make_graph_from_waypoints(max_distance=max_distance, max_angle=max_angle)"
   ]
  },
  {
   "cell_type": "code",
   "execution_count": 10,
   "id": "b77c9680-bbf8-4886-a607-5f2f461ef3e4",
   "metadata": {
    "editable": true,
    "slideshow": {
     "slide_type": ""
    },
    "tags": []
   },
   "outputs": [
    {
     "name": "stdout",
     "output_type": "stream",
     "text": [
      "Pruning...\n",
      "------------------------\n",
      "Pruned Graph:\n",
      "Number of nodes: 816 (4 isolated)\n",
      "Number of edges: 3860\n",
      "------------------------\n"
     ]
    }
   ],
   "source": [
    "model = data_date+'_waypoints_DP' + str(tolerance) + '_' + method + str(min_samples) +'_'+location+'_'+datasize+'_UTM_filtered'\n",
    "merge_stops = True\n",
    "merge_stops_speed = 2\n",
    "pruning = 1\n",
    "network.merge_stop_points(max_speed=merge_stops_speed)\n",
    "network.prune_graph(pruning)"
   ]
  },
  {
   "cell_type": "code",
   "execution_count": 11,
   "id": "19d57be0-1f9e-4cf4-83a7-6833334e130e",
   "metadata": {},
   "outputs": [],
   "source": [
    "# save hyperparameters\n",
    "params = {\n",
    "    'Data':filename,\n",
    "    'DP_tolerance':tolerance,\n",
    "    'clustering_method':method,\n",
    "    'clustering_metric':metric,\n",
    "    'clustering_min_samples':min_samples,\n",
    "    'clustering_min_cluster_size':min_cluster_size,\n",
    "    'clustering_eps':eps,\n",
    "    'clustering_metric_V':V,\n",
    "    'graph_generation_max_distance':max_distance,\n",
    "    'graph_generation_max_angle':max_angle\n",
    "}\n",
    "network.set_hyperparameters(params)"
   ]
  },
  {
   "cell_type": "code",
   "execution_count": 12,
   "id": "2a231a8a-44ed-4796-8f5c-d16e46481b06",
   "metadata": {},
   "outputs": [],
   "source": [
    "# save network as pickle object\n",
    "fileObj = open('../../data/interim/'+data_date+'_waypoints_DP'+str(tolerance)+'_HDBSCAN'+str(min_samples)+'_'+location+'_'+datasize+'_UTM.obj', 'wb')\n",
    "pickle.dump(network, fileObj)\n",
    "fileObj.close()"
   ]
  }
 ],
 "metadata": {
  "kernelspec": {
   "display_name": "Python 3 (ipykernel)",
   "language": "python",
   "name": "python3"
  },
  "language_info": {
   "codemirror_mode": {
    "name": "ipython",
    "version": 3
   },
   "file_extension": ".py",
   "mimetype": "text/x-python",
   "name": "python",
   "nbconvert_exporter": "python",
   "pygments_lexer": "ipython3",
   "version": "3.11.5"
  }
 },
 "nbformat": 4,
 "nbformat_minor": 5
}
