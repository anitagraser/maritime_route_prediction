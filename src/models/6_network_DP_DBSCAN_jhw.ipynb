{
 "cells": [
  {
   "cell_type": "code",
   "execution_count": 1,
   "id": "8131735c-b685-41c3-b7ee-e3e8755013fd",
   "metadata": {
    "editable": true,
    "slideshow": {
     "slide_type": ""
    },
    "tags": []
   },
   "outputs": [
    {
     "name": "stdout",
     "output_type": "stream",
     "text": [
      "Geopandas has version 0.13.2\n",
      "Movingpandas has version 0.17.1\n"
     ]
    }
   ],
   "source": [
    "import pandas as pd\n",
    "import geopandas as gpd\n",
    "import movingpandas as mpd\n",
    "import numpy as np\n",
    "from datetime import timedelta, datetime\n",
    "from maritime_traffic_network import MaritimeTrafficNetwork\n",
    "import folium\n",
    "import warnings\n",
    "import sys\n",
    "import pickle\n",
    "warnings.filterwarnings('ignore')\n",
    "\n",
    "print(\"Geopandas has version {}\".format(gpd.__version__))\n",
    "print(\"Movingpandas has version {}\".format(mpd.__version__))"
   ]
  },
  {
   "cell_type": "code",
   "execution_count": 2,
   "id": "0cc3ccda-09a8-48c5-80d0-5ae3510455a2",
   "metadata": {},
   "outputs": [
    {
     "name": "stdout",
     "output_type": "stream",
     "text": [
      "['/Users/janhendrikwebert/maritime_route_prediction/src/models', '/Users/janhendrikwebert/miniforge3/envs/env_geo/lib/python311.zip', '/Users/janhendrikwebert/miniforge3/envs/env_geo/lib/python3.11', '/Users/janhendrikwebert/miniforge3/envs/env_geo/lib/python3.11/lib-dynload', '', '/Users/janhendrikwebert/miniforge3/envs/env_geo/lib/python3.11/site-packages', '../visualization', '../features', '../visualization', '../features']\n"
     ]
    }
   ],
   "source": [
    "# add paths for modules\n",
    "sys.path.append('../visualization')\n",
    "sys.path.append('../features')\n",
    "print(sys.path)\n",
    "\n",
    "# import modules\n",
    "import visualize"
   ]
  },
  {
   "cell_type": "code",
   "execution_count": 3,
   "id": "428549bb-93d5-4e20-836b-0d2b07a540f2",
   "metadata": {
    "editable": true,
    "slideshow": {
     "slide_type": ""
    },
    "tags": []
   },
   "outputs": [],
   "source": [
    "# read data from file\n",
    "datasize = 'full'\n",
    "location = 'tromso'\n",
    "data_date = '202204'\n",
    "eval_date = '202205'\n",
    "filename = '../../data/processed/'+data_date+'_points_'+location+'_cleaned_meta_'+datasize+'_dualSplit_2.parquet'\n",
    "#filename = '../../data/processed/202204_points_stavanger_cleaned_meta_full.parquet'\n",
    "gdf = gpd.read_parquet(filename)"
   ]
  },
  {
   "cell_type": "code",
   "execution_count": 4,
   "id": "c62cb00a-2df1-4b34-a21a-15f644bdfd6f",
   "metadata": {},
   "outputs": [],
   "source": [
    "# filter the data according to ship type\n",
    "#shiptypes = ['Tank', 'Last', 'Passasjer', None]\n",
    "#gdf = gdf[gdf.skipsgruppe.isin(shiptypes)]"
   ]
  },
  {
   "cell_type": "code",
   "execution_count": 5,
   "id": "4eb7eedc-71a3-4012-afa2-29b6b1756c17",
   "metadata": {},
   "outputs": [
    {
     "data": {
      "text/html": [
       "<div>\n",
       "<style scoped>\n",
       "    .dataframe tbody tr th:only-of-type {\n",
       "        vertical-align: middle;\n",
       "    }\n",
       "\n",
       "    .dataframe tbody tr th {\n",
       "        vertical-align: top;\n",
       "    }\n",
       "\n",
       "    .dataframe thead th {\n",
       "        text-align: right;\n",
       "    }\n",
       "</style>\n",
       "<table border=\"1\" class=\"dataframe\">\n",
       "  <thead>\n",
       "    <tr style=\"text-align: right;\">\n",
       "      <th></th>\n",
       "      <th>mmsi</th>\n",
       "      <th>imo_nr</th>\n",
       "      <th>length</th>\n",
       "      <th>lon</th>\n",
       "      <th>lat</th>\n",
       "      <th>sog</th>\n",
       "      <th>cog</th>\n",
       "      <th>true_heading</th>\n",
       "      <th>nav_status</th>\n",
       "      <th>message_nr</th>\n",
       "      <th>bredde</th>\n",
       "      <th>dypgaaende</th>\n",
       "      <th>skipstype</th>\n",
       "      <th>skipsgruppe</th>\n",
       "      <th>fartoynavn</th>\n",
       "      <th>geometry</th>\n",
       "      <th>speed</th>\n",
       "    </tr>\n",
       "    <tr>\n",
       "      <th>date_time_utc</th>\n",
       "      <th></th>\n",
       "      <th></th>\n",
       "      <th></th>\n",
       "      <th></th>\n",
       "      <th></th>\n",
       "      <th></th>\n",
       "      <th></th>\n",
       "      <th></th>\n",
       "      <th></th>\n",
       "      <th></th>\n",
       "      <th></th>\n",
       "      <th></th>\n",
       "      <th></th>\n",
       "      <th></th>\n",
       "      <th></th>\n",
       "      <th></th>\n",
       "      <th></th>\n",
       "    </tr>\n",
       "  </thead>\n",
       "  <tbody>\n",
       "    <tr>\n",
       "      <th>2022-04-01 04:02:37</th>\n",
       "      <td>210055000_4_2022-04-01 04:02:37</td>\n",
       "      <td>9448279</td>\n",
       "      <td>117</td>\n",
       "      <td>18.9728</td>\n",
       "      <td>69.6592</td>\n",
       "      <td>0.7</td>\n",
       "      <td>45.7</td>\n",
       "      <td>313</td>\n",
       "      <td>5</td>\n",
       "      <td>3</td>\n",
       "      <td>19.700001</td>\n",
       "      <td>6.8</td>\n",
       "      <td>Cement Carrier</td>\n",
       "      <td>Last</td>\n",
       "      <td>UBC CORK</td>\n",
       "      <td>POINT (885399.291 7759417.052)</td>\n",
       "      <td>0.795620</td>\n",
       "    </tr>\n",
       "    <tr>\n",
       "      <th>2022-04-01 04:05:06</th>\n",
       "      <td>210055000_4_2022-04-01 04:02:37</td>\n",
       "      <td>9448279</td>\n",
       "      <td>117</td>\n",
       "      <td>18.9758</td>\n",
       "      <td>69.6590</td>\n",
       "      <td>3.1</td>\n",
       "      <td>113.0</td>\n",
       "      <td>295</td>\n",
       "      <td>5</td>\n",
       "      <td>3</td>\n",
       "      <td>19.700001</td>\n",
       "      <td>6.8</td>\n",
       "      <td>Cement Carrier</td>\n",
       "      <td>Last</td>\n",
       "      <td>UBC CORK</td>\n",
       "      <td>POINT (885517.967 7759413.977)</td>\n",
       "      <td>0.795620</td>\n",
       "    </tr>\n",
       "    <tr>\n",
       "      <th>2022-04-01 04:05:17</th>\n",
       "      <td>210055000_4_2022-04-01 04:02:37</td>\n",
       "      <td>9448279</td>\n",
       "      <td>117</td>\n",
       "      <td>18.9762</td>\n",
       "      <td>69.6589</td>\n",
       "      <td>3.4</td>\n",
       "      <td>112.3</td>\n",
       "      <td>295</td>\n",
       "      <td>5</td>\n",
       "      <td>3</td>\n",
       "      <td>19.700001</td>\n",
       "      <td>6.8</td>\n",
       "      <td>Cement Carrier</td>\n",
       "      <td>Last</td>\n",
       "      <td>UBC CORK</td>\n",
       "      <td>POINT (885535.123 7759405.484)</td>\n",
       "      <td>1.737872</td>\n",
       "    </tr>\n",
       "    <tr>\n",
       "      <th>2022-04-01 04:05:27</th>\n",
       "      <td>210055000_4_2022-04-01 04:02:37</td>\n",
       "      <td>9448279</td>\n",
       "      <td>117</td>\n",
       "      <td>18.9767</td>\n",
       "      <td>69.6588</td>\n",
       "      <td>3.6</td>\n",
       "      <td>111.5</td>\n",
       "      <td>294</td>\n",
       "      <td>5</td>\n",
       "      <td>3</td>\n",
       "      <td>19.700001</td>\n",
       "      <td>6.8</td>\n",
       "      <td>Cement Carrier</td>\n",
       "      <td>Last</td>\n",
       "      <td>UBC CORK</td>\n",
       "      <td>POINT (885556.115 7759397.623)</td>\n",
       "      <td>2.238317</td>\n",
       "    </tr>\n",
       "    <tr>\n",
       "      <th>2022-04-01 04:05:38</th>\n",
       "      <td>210055000_4_2022-04-01 04:02:37</td>\n",
       "      <td>9448279</td>\n",
       "      <td>117</td>\n",
       "      <td>18.9773</td>\n",
       "      <td>69.6588</td>\n",
       "      <td>3.9</td>\n",
       "      <td>111.8</td>\n",
       "      <td>293</td>\n",
       "      <td>5</td>\n",
       "      <td>3</td>\n",
       "      <td>19.700001</td>\n",
       "      <td>6.8</td>\n",
       "      <td>Cement Carrier</td>\n",
       "      <td>Last</td>\n",
       "      <td>UBC CORK</td>\n",
       "      <td>POINT (885579.123 7759401.419)</td>\n",
       "      <td>2.116917</td>\n",
       "    </tr>\n",
       "  </tbody>\n",
       "</table>\n",
       "</div>"
      ],
      "text/plain": [
       "                                                mmsi   imo_nr  length  \\\n",
       "date_time_utc                                                           \n",
       "2022-04-01 04:02:37  210055000_4_2022-04-01 04:02:37  9448279     117   \n",
       "2022-04-01 04:05:06  210055000_4_2022-04-01 04:02:37  9448279     117   \n",
       "2022-04-01 04:05:17  210055000_4_2022-04-01 04:02:37  9448279     117   \n",
       "2022-04-01 04:05:27  210055000_4_2022-04-01 04:02:37  9448279     117   \n",
       "2022-04-01 04:05:38  210055000_4_2022-04-01 04:02:37  9448279     117   \n",
       "\n",
       "                         lon      lat  sog    cog  true_heading  nav_status  \\\n",
       "date_time_utc                                                                 \n",
       "2022-04-01 04:02:37  18.9728  69.6592  0.7   45.7           313           5   \n",
       "2022-04-01 04:05:06  18.9758  69.6590  3.1  113.0           295           5   \n",
       "2022-04-01 04:05:17  18.9762  69.6589  3.4  112.3           295           5   \n",
       "2022-04-01 04:05:27  18.9767  69.6588  3.6  111.5           294           5   \n",
       "2022-04-01 04:05:38  18.9773  69.6588  3.9  111.8           293           5   \n",
       "\n",
       "                     message_nr     bredde  dypgaaende       skipstype  \\\n",
       "date_time_utc                                                            \n",
       "2022-04-01 04:02:37           3  19.700001         6.8  Cement Carrier   \n",
       "2022-04-01 04:05:06           3  19.700001         6.8  Cement Carrier   \n",
       "2022-04-01 04:05:17           3  19.700001         6.8  Cement Carrier   \n",
       "2022-04-01 04:05:27           3  19.700001         6.8  Cement Carrier   \n",
       "2022-04-01 04:05:38           3  19.700001         6.8  Cement Carrier   \n",
       "\n",
       "                    skipsgruppe fartoynavn                        geometry  \\\n",
       "date_time_utc                                                                \n",
       "2022-04-01 04:02:37        Last   UBC CORK  POINT (885399.291 7759417.052)   \n",
       "2022-04-01 04:05:06        Last   UBC CORK  POINT (885517.967 7759413.977)   \n",
       "2022-04-01 04:05:17        Last   UBC CORK  POINT (885535.123 7759405.484)   \n",
       "2022-04-01 04:05:27        Last   UBC CORK  POINT (885556.115 7759397.623)   \n",
       "2022-04-01 04:05:38        Last   UBC CORK  POINT (885579.123 7759401.419)   \n",
       "\n",
       "                        speed  \n",
       "date_time_utc                  \n",
       "2022-04-01 04:02:37  0.795620  \n",
       "2022-04-01 04:05:06  0.795620  \n",
       "2022-04-01 04:05:17  1.737872  \n",
       "2022-04-01 04:05:27  2.238317  \n",
       "2022-04-01 04:05:38  2.116917  "
      ]
     },
     "execution_count": 5,
     "metadata": {},
     "output_type": "execute_result"
    }
   ],
   "source": [
    "# Transform to desired CRS\n",
    "# 4326 for WGS 84 (global) // 32632 for UTM 32N (Norway)\n",
    "crs = 32632  # Coordinate reference system\n",
    "gdf.to_crs(crs, inplace=True)  # Transformation\n",
    "gdf.head()"
   ]
  },
  {
   "cell_type": "code",
   "execution_count": 6,
   "id": "65031840-9bda-4c38-991f-607f30b8997c",
   "metadata": {},
   "outputs": [
    {
     "name": "stdout",
     "output_type": "stream",
     "text": [
      "Number of AIS messages: 796177\n",
      "Number of trajectories: 2119\n",
      "Coordinate Reference System (CRS): EPSG:32632\n"
     ]
    }
   ],
   "source": [
    "# initialize maritime traffic network\n",
    "network = MaritimeTrafficNetwork(gdf, crs)\n",
    "network.get_trajectories_info()"
   ]
  },
  {
   "cell_type": "code",
   "execution_count": 7,
   "id": "370af301-437f-44e3-9ee3-c3f08cfd5df8",
   "metadata": {},
   "outputs": [
    {
     "name": "stdout",
     "output_type": "stream",
     "text": [
      "Calculating significant turning points with Douglas Peucker algorithm (tolerance = 10) ...\n",
      "Number of significant points detected: 64537 (8.11% of AIS messages)\n",
      "Time elapsed: 0.62 minutes\n",
      "Adding course over ground before and after each turn ...\n",
      "Done. Time elapsed: 0.25 minutes\n"
     ]
    }
   ],
   "source": [
    "# calculate significant turning points using Douglas Peucker algorithm\n",
    "tolerance = 10 # DP tolerance parameter 0.0002\n",
    "network.calc_significant_points_DP(tolerance)"
   ]
  },
  {
   "cell_type": "code",
   "execution_count": 8,
   "id": "c235e6d6-5144-47ab-ab06-35ce388e88ba",
   "metadata": {},
   "outputs": [
    {
     "name": "stdout",
     "output_type": "stream",
     "text": [
      "Calculating waypoints with HDBSCAN (min_samples = 13) ...\n",
      "Distance metric: mahalanobis\n",
      "541 clusters detected\n",
      "Time elapsed: 0.72 minutes\n"
     ]
    }
   ],
   "source": [
    "# detect waypoints using spatial clustering\n",
    "method = 'HDBSCAN'      # 'DBSCAN' , 'HDBSCAN', 'OPTICS'\n",
    "metric = 'mahalanobis'  # 'euclidean', 'mahalanobis', 'haversine'\n",
    "min_samples = 13\n",
    "min_cluster_size = 13\n",
    "eps = 0\n",
    "V = np.diag([1, 1, 0.01, 0.01, 1])  # mahalanobis distance parameter matrix V = np.diag([1, 1, 0.01, 0.01, 1e-3])  seems to be good\n",
    "network.calc_waypoints_clustering(method=method, min_samples=min_samples, min_cluster_size=min_cluster_size,\n",
    "                                  eps=eps, metric=metric, V=V)"
   ]
  },
  {
   "cell_type": "code",
   "execution_count": 9,
   "id": "c65d07e6-8521-4c36-a677-db5157f7c8ef",
   "metadata": {
    "editable": true,
    "slideshow": {
     "slide_type": ""
    },
    "tags": []
   },
   "outputs": [
    {
     "name": "stdout",
     "output_type": "stream",
     "text": [
      "Constructing maritime traffic network graph from waypoints and trajectories...\n",
      "Progress: 10%...20%...30%...40%...50%...60%...70%...80%...90%...Done!\n",
      "------------------------\n",
      "Unpruned Graph:\n",
      "Number of nodes: 541 (1 isolated)\n",
      "Number of edges: 2209\n",
      "Network is (weakly) connected: False\n",
      "------------------------\n",
      "Time elapsed: 2.79 minutes\n"
     ]
    }
   ],
   "source": [
    "# make graph from waypoints\n",
    "max_distance=10\n",
    "max_angle=45\n",
    "network.make_graph_from_waypoints(max_distance=max_distance, max_angle=max_angle)"
   ]
  },
  {
   "cell_type": "code",
   "execution_count": 10,
   "id": "b77c9680-bbf8-4886-a607-5f2f461ef3e4",
   "metadata": {
    "editable": true,
    "slideshow": {
     "slide_type": ""
    },
    "tags": []
   },
   "outputs": [
    {
     "name": "stdout",
     "output_type": "stream",
     "text": [
      "Pruning...\n",
      "------------------------\n",
      "Pruned Graph:\n",
      "Number of nodes: 541 (1 isolated)\n",
      "Number of edges: 2137\n",
      "------------------------\n"
     ]
    }
   ],
   "source": [
    "model = data_date+'_waypoints_DP' + str(tolerance) + '_' + method + str(min_samples) +'_'+location+'_'+datasize+'_UTM_filtered'\n",
    "merge_stops = True\n",
    "merge_stops_speed = 2\n",
    "pruning = 1\n",
    "network.merge_stop_points(max_speed=merge_stops_speed)\n",
    "network.prune_graph(pruning)"
   ]
  },
  {
   "cell_type": "code",
   "execution_count": 11,
   "id": "19d57be0-1f9e-4cf4-83a7-6833334e130e",
   "metadata": {},
   "outputs": [],
   "source": [
    "# save hyperparameters\n",
    "params = {\n",
    "    'Data':filename,\n",
    "    'DP_tolerance':tolerance,\n",
    "    'clustering_method':method,\n",
    "    'clustering_metric':metric,\n",
    "    'clustering_min_samples':min_samples,\n",
    "    'clustering_min_cluster_size':min_cluster_size,\n",
    "    'clustering_eps':eps,\n",
    "    'clustering_metric_V':V,\n",
    "    'graph_generation_max_distance':max_distance,\n",
    "    'graph_generation_max_angle':max_angle\n",
    "}\n",
    "network.set_hyperparameters(params)"
   ]
  },
  {
   "cell_type": "code",
   "execution_count": 12,
   "id": "2a231a8a-44ed-4796-8f5c-d16e46481b06",
   "metadata": {},
   "outputs": [],
   "source": [
    "# save network as pickle object\n",
    "fileObj = open('../../data/interim/'+data_date+'_waypoints_DP'+str(tolerance)+'_HDBSCAN'+str(min_samples)+'_'+location+'_'+datasize+'_UTM.obj', 'wb')\n",
    "pickle.dump(network, fileObj)\n",
    "fileObj.close()"
   ]
  }
 ],
 "metadata": {
  "kernelspec": {
   "display_name": "Python 3 (ipykernel)",
   "language": "python",
   "name": "python3"
  },
  "language_info": {
   "codemirror_mode": {
    "name": "ipython",
    "version": 3
   },
   "file_extension": ".py",
   "mimetype": "text/x-python",
   "name": "python",
   "nbconvert_exporter": "python",
   "pygments_lexer": "ipython3",
   "version": "3.11.5"
  }
 },
 "nbformat": 4,
 "nbformat_minor": 5
}
