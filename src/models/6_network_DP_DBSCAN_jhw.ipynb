{
 "cells": [
  {
   "cell_type": "code",
   "execution_count": 1,
   "id": "8131735c-b685-41c3-b7ee-e3e8755013fd",
   "metadata": {
    "editable": true,
    "slideshow": {
     "slide_type": ""
    },
    "tags": []
   },
   "outputs": [
    {
     "name": "stdout",
     "output_type": "stream",
     "text": [
      "Geopandas has version 0.13.2\n",
      "Movingpandas has version 0.17.1\n"
     ]
    }
   ],
   "source": [
    "import pandas as pd\n",
    "import geopandas as gpd\n",
    "import movingpandas as mpd\n",
    "import numpy as np\n",
    "from datetime import timedelta, datetime\n",
    "from maritime_traffic_network import MaritimeTrafficNetwork\n",
    "import folium\n",
    "import warnings\n",
    "import sys\n",
    "import pickle\n",
    "warnings.filterwarnings('ignore')\n",
    "\n",
    "print(\"Geopandas has version {}\".format(gpd.__version__))\n",
    "print(\"Movingpandas has version {}\".format(mpd.__version__))"
   ]
  },
  {
   "cell_type": "code",
   "execution_count": 2,
   "id": "0cc3ccda-09a8-48c5-80d0-5ae3510455a2",
   "metadata": {},
   "outputs": [
    {
     "name": "stdout",
     "output_type": "stream",
     "text": [
      "['/Users/janhendrikwebert/maritime_route_prediction/src/models', '/Users/janhendrikwebert/miniforge3/envs/env_geo/lib/python311.zip', '/Users/janhendrikwebert/miniforge3/envs/env_geo/lib/python3.11', '/Users/janhendrikwebert/miniforge3/envs/env_geo/lib/python3.11/lib-dynload', '', '/Users/janhendrikwebert/miniforge3/envs/env_geo/lib/python3.11/site-packages', '../visualization', '../features', '../models', '../features', '../visualization', '../features']\n"
     ]
    }
   ],
   "source": [
    "# add paths for modules\n",
    "sys.path.append('../visualization')\n",
    "sys.path.append('../features')\n",
    "print(sys.path)\n",
    "\n",
    "# import modules\n",
    "import visualize"
   ]
  },
  {
   "cell_type": "code",
   "execution_count": 3,
   "id": "428549bb-93d5-4e20-836b-0d2b07a540f2",
   "metadata": {
    "editable": true,
    "slideshow": {
     "slide_type": ""
    },
    "tags": []
   },
   "outputs": [],
   "source": [
    "# read data from file\n",
    "datasize = 'full'\n",
    "location = 'stavanger'\n",
    "data_dates = ['202204']\n",
    "filenames = []\n",
    "\n",
    "for i in range(0, len(data_dates)):\n",
    "    data_date = data_dates[i]\n",
    "    # load path data from file\n",
    "    filename = '../../data/processed/'+data_date+'_points_'+location+'_cleaned_meta_'+datasize+'_dualSplit_3.parquet'\n",
    "    filenames.append(filename)\n",
    "    gdf_part = gpd.read_parquet(filename)\n",
    "\n",
    "    if i==0:\n",
    "        gdf = gdf_part\n",
    "    else:\n",
    "        gdf = pd.concat([gdf, gdf_part])\n",
    "\n",
    "data_date = str(data_dates)\n",
    "filename = str(filenames)"
   ]
  },
  {
   "cell_type": "code",
   "execution_count": 4,
   "id": "c62cb00a-2df1-4b34-a21a-15f644bdfd6f",
   "metadata": {},
   "outputs": [],
   "source": [
    "# filter the data according to ship type\n",
    "#shiptypes = ['Tank', 'Last', 'Passasjer', None]\n",
    "#gdf = gdf[gdf.skipsgruppe.isin(shiptypes)]"
   ]
  },
  {
   "cell_type": "code",
   "execution_count": 5,
   "id": "4eb7eedc-71a3-4012-afa2-29b6b1756c17",
   "metadata": {},
   "outputs": [
    {
     "data": {
      "text/html": [
       "<div>\n",
       "<style scoped>\n",
       "    .dataframe tbody tr th:only-of-type {\n",
       "        vertical-align: middle;\n",
       "    }\n",
       "\n",
       "    .dataframe tbody tr th {\n",
       "        vertical-align: top;\n",
       "    }\n",
       "\n",
       "    .dataframe thead th {\n",
       "        text-align: right;\n",
       "    }\n",
       "</style>\n",
       "<table border=\"1\" class=\"dataframe\">\n",
       "  <thead>\n",
       "    <tr style=\"text-align: right;\">\n",
       "      <th></th>\n",
       "      <th>mmsi</th>\n",
       "      <th>imo_nr</th>\n",
       "      <th>length</th>\n",
       "      <th>lon</th>\n",
       "      <th>lat</th>\n",
       "      <th>sog</th>\n",
       "      <th>cog</th>\n",
       "      <th>true_heading</th>\n",
       "      <th>nav_status</th>\n",
       "      <th>message_nr</th>\n",
       "      <th>bredde</th>\n",
       "      <th>dypgaaende</th>\n",
       "      <th>skipstype</th>\n",
       "      <th>skipsgruppe</th>\n",
       "      <th>fartoynavn</th>\n",
       "      <th>geometry</th>\n",
       "      <th>speed</th>\n",
       "    </tr>\n",
       "    <tr>\n",
       "      <th>date_time_utc</th>\n",
       "      <th></th>\n",
       "      <th></th>\n",
       "      <th></th>\n",
       "      <th></th>\n",
       "      <th></th>\n",
       "      <th></th>\n",
       "      <th></th>\n",
       "      <th></th>\n",
       "      <th></th>\n",
       "      <th></th>\n",
       "      <th></th>\n",
       "      <th></th>\n",
       "      <th></th>\n",
       "      <th></th>\n",
       "      <th></th>\n",
       "      <th></th>\n",
       "      <th></th>\n",
       "    </tr>\n",
       "  </thead>\n",
       "  <tbody>\n",
       "    <tr>\n",
       "      <th>2022-04-08 03:12:48</th>\n",
       "      <td>205209000_0_2022-04-08 03:12:48</td>\n",
       "      <td>0</td>\n",
       "      <td>51</td>\n",
       "      <td>5.36673</td>\n",
       "      <td>59.6732</td>\n",
       "      <td>10.6</td>\n",
       "      <td>225.9</td>\n",
       "      <td>225</td>\n",
       "      <td>0</td>\n",
       "      <td>1</td>\n",
       "      <td>NaN</td>\n",
       "      <td>NaN</td>\n",
       "      <td>None</td>\n",
       "      <td>None</td>\n",
       "      <td>None</td>\n",
       "      <td>POINT (295416.506 6620618.919)</td>\n",
       "      <td>11.173331</td>\n",
       "    </tr>\n",
       "    <tr>\n",
       "      <th>2022-04-08 03:12:58</th>\n",
       "      <td>205209000_0_2022-04-08 03:12:48</td>\n",
       "      <td>0</td>\n",
       "      <td>51</td>\n",
       "      <td>5.36531</td>\n",
       "      <td>59.6725</td>\n",
       "      <td>10.7</td>\n",
       "      <td>227.2</td>\n",
       "      <td>228</td>\n",
       "      <td>0</td>\n",
       "      <td>1</td>\n",
       "      <td>NaN</td>\n",
       "      <td>NaN</td>\n",
       "      <td>None</td>\n",
       "      <td>None</td>\n",
       "      <td>None</td>\n",
       "      <td>POINT (295332.330 6620545.422)</td>\n",
       "      <td>11.173331</td>\n",
       "    </tr>\n",
       "    <tr>\n",
       "      <th>2022-04-08 03:13:08</th>\n",
       "      <td>205209000_0_2022-04-08 03:12:48</td>\n",
       "      <td>0</td>\n",
       "      <td>51</td>\n",
       "      <td>5.36458</td>\n",
       "      <td>59.6722</td>\n",
       "      <td>10.6</td>\n",
       "      <td>228.8</td>\n",
       "      <td>230</td>\n",
       "      <td>0</td>\n",
       "      <td>1</td>\n",
       "      <td>NaN</td>\n",
       "      <td>NaN</td>\n",
       "      <td>None</td>\n",
       "      <td>None</td>\n",
       "      <td>None</td>\n",
       "      <td>POINT (295289.421 6620514.299)</td>\n",
       "      <td>5.300198</td>\n",
       "    </tr>\n",
       "    <tr>\n",
       "      <th>2022-04-08 03:13:27</th>\n",
       "      <td>205209000_0_2022-04-08 03:12:48</td>\n",
       "      <td>0</td>\n",
       "      <td>51</td>\n",
       "      <td>5.36385</td>\n",
       "      <td>59.6718</td>\n",
       "      <td>10.5</td>\n",
       "      <td>229.4</td>\n",
       "      <td>229</td>\n",
       "      <td>0</td>\n",
       "      <td>1</td>\n",
       "      <td>NaN</td>\n",
       "      <td>NaN</td>\n",
       "      <td>None</td>\n",
       "      <td>None</td>\n",
       "      <td>None</td>\n",
       "      <td>POINT (295245.901 6620472.052)</td>\n",
       "      <td>3.191942</td>\n",
       "    </tr>\n",
       "    <tr>\n",
       "      <th>2022-04-08 03:13:38</th>\n",
       "      <td>205209000_0_2022-04-08 03:12:48</td>\n",
       "      <td>0</td>\n",
       "      <td>51</td>\n",
       "      <td>5.36313</td>\n",
       "      <td>59.6715</td>\n",
       "      <td>10.5</td>\n",
       "      <td>225.2</td>\n",
       "      <td>223</td>\n",
       "      <td>0</td>\n",
       "      <td>1</td>\n",
       "      <td>NaN</td>\n",
       "      <td>NaN</td>\n",
       "      <td>None</td>\n",
       "      <td>None</td>\n",
       "      <td>None</td>\n",
       "      <td>POINT (295203.553 6620440.899)</td>\n",
       "      <td>4.778771</td>\n",
       "    </tr>\n",
       "  </tbody>\n",
       "</table>\n",
       "</div>"
      ],
      "text/plain": [
       "                                                mmsi imo_nr length      lon  \\\n",
       "date_time_utc                                                                 \n",
       "2022-04-08 03:12:48  205209000_0_2022-04-08 03:12:48      0     51  5.36673   \n",
       "2022-04-08 03:12:58  205209000_0_2022-04-08 03:12:48      0     51  5.36531   \n",
       "2022-04-08 03:13:08  205209000_0_2022-04-08 03:12:48      0     51  5.36458   \n",
       "2022-04-08 03:13:27  205209000_0_2022-04-08 03:12:48      0     51  5.36385   \n",
       "2022-04-08 03:13:38  205209000_0_2022-04-08 03:12:48      0     51  5.36313   \n",
       "\n",
       "                         lat   sog    cog  true_heading  nav_status  \\\n",
       "date_time_utc                                                         \n",
       "2022-04-08 03:12:48  59.6732  10.6  225.9           225           0   \n",
       "2022-04-08 03:12:58  59.6725  10.7  227.2           228           0   \n",
       "2022-04-08 03:13:08  59.6722  10.6  228.8           230           0   \n",
       "2022-04-08 03:13:27  59.6718  10.5  229.4           229           0   \n",
       "2022-04-08 03:13:38  59.6715  10.5  225.2           223           0   \n",
       "\n",
       "                     message_nr  bredde  dypgaaende skipstype skipsgruppe  \\\n",
       "date_time_utc                                                               \n",
       "2022-04-08 03:12:48           1     NaN         NaN      None        None   \n",
       "2022-04-08 03:12:58           1     NaN         NaN      None        None   \n",
       "2022-04-08 03:13:08           1     NaN         NaN      None        None   \n",
       "2022-04-08 03:13:27           1     NaN         NaN      None        None   \n",
       "2022-04-08 03:13:38           1     NaN         NaN      None        None   \n",
       "\n",
       "                    fartoynavn                        geometry      speed  \n",
       "date_time_utc                                                              \n",
       "2022-04-08 03:12:48       None  POINT (295416.506 6620618.919)  11.173331  \n",
       "2022-04-08 03:12:58       None  POINT (295332.330 6620545.422)  11.173331  \n",
       "2022-04-08 03:13:08       None  POINT (295289.421 6620514.299)   5.300198  \n",
       "2022-04-08 03:13:27       None  POINT (295245.901 6620472.052)   3.191942  \n",
       "2022-04-08 03:13:38       None  POINT (295203.553 6620440.899)   4.778771  "
      ]
     },
     "execution_count": 5,
     "metadata": {},
     "output_type": "execute_result"
    }
   ],
   "source": [
    "# Transform to desired CRS\n",
    "# 4326 for WGS 84 (global) // 32632 for UTM 32N (Norway)\n",
    "crs = 32632  # Coordinate reference system\n",
    "gdf.to_crs(crs, inplace=True)  # Transformation\n",
    "gdf.head()"
   ]
  },
  {
   "cell_type": "code",
   "execution_count": 6,
   "id": "65031840-9bda-4c38-991f-607f30b8997c",
   "metadata": {},
   "outputs": [
    {
     "name": "stdout",
     "output_type": "stream",
     "text": [
      "Number of AIS messages: 5678853\n",
      "Number of trajectories: 19023\n",
      "Coordinate Reference System (CRS): EPSG:32632\n"
     ]
    }
   ],
   "source": [
    "# initialize maritime traffic network\n",
    "network = MaritimeTrafficNetwork(gdf, crs)\n",
    "network.get_trajectories_info()"
   ]
  },
  {
   "cell_type": "code",
   "execution_count": null,
   "id": "370af301-437f-44e3-9ee3-c3f08cfd5df8",
   "metadata": {},
   "outputs": [
    {
     "name": "stdout",
     "output_type": "stream",
     "text": [
      "Calculating significant turning points with Douglas Peucker algorithm (tolerance = 10) ...\n",
      "Number of significant points detected: 427022 (7.52% of AIS messages)\n",
      "Time elapsed: 4.73 minutes\n",
      "Adding course over ground before and after each turn ...\n"
     ]
    }
   ],
   "source": [
    "# calculate significant turning points using Douglas Peucker algorithm\n",
    "tolerance = 10 # DP tolerance parameter 0.0002\n",
    "network.calc_significant_points_DP(tolerance)"
   ]
  },
  {
   "cell_type": "code",
   "execution_count": null,
   "id": "c235e6d6-5144-47ab-ab06-35ce388e88ba",
   "metadata": {},
   "outputs": [],
   "source": [
    "# detect waypoints using spatial clustering\n",
    "method = 'DBSCAN'      # 'DBSCAN' , 'HDBSCAN', 'OPTICS'\n",
    "metric = 'mahalanobis'  # 'euclidean', 'mahalanobis', 'haversine'\n",
    "min_samples = 10\n",
    "min_cluster_size = 10\n",
    "eps = 50\n",
    "V = np.diag([1, 1, 0.01, 0.01, 1])  # mahalanobis distance parameter matrix V = np.diag([1, 1, 0.01, 0.01, 1e-3])  seems to be good\n",
    "network.calc_waypoints_clustering(method=method, min_samples=min_samples, min_cluster_size=min_cluster_size,\n",
    "                                  eps=eps, metric=metric, V=V)"
   ]
  },
  {
   "cell_type": "code",
   "execution_count": null,
   "id": "c65d07e6-8521-4c36-a677-db5157f7c8ef",
   "metadata": {
    "editable": true,
    "slideshow": {
     "slide_type": ""
    },
    "tags": []
   },
   "outputs": [],
   "source": [
    "# make graph from waypoints\n",
    "max_distance=20\n",
    "max_angle=45\n",
    "network.make_graph_from_waypoints(max_distance=max_distance, max_angle=max_angle)"
   ]
  },
  {
   "cell_type": "code",
   "execution_count": null,
   "id": "b77c9680-bbf8-4886-a607-5f2f461ef3e4",
   "metadata": {
    "editable": true,
    "slideshow": {
     "slide_type": ""
    },
    "tags": []
   },
   "outputs": [],
   "source": [
    "model = data_date+'_waypoints_DP' + str(tolerance) + '_' + method + str(min_samples) +'_'+location+'_'+datasize+'_UTM_filtered'\n",
    "merge_stops = True\n",
    "merge_stops_speed = 2\n",
    "pruning = 1\n",
    "network.merge_stop_points(max_speed=merge_stops_speed)\n",
    "network.prune_graph(pruning)"
   ]
  },
  {
   "cell_type": "code",
   "execution_count": null,
   "id": "19d57be0-1f9e-4cf4-83a7-6833334e130e",
   "metadata": {},
   "outputs": [],
   "source": [
    "# save hyperparameters\n",
    "params = {\n",
    "    'Data':filename,\n",
    "    'DP_tolerance':tolerance,\n",
    "    'clustering_method':method,\n",
    "    'clustering_metric':metric,\n",
    "    'clustering_min_samples':min_samples,\n",
    "    'clustering_min_cluster_size':min_cluster_size,\n",
    "    'clustering_eps':eps,\n",
    "    'clustering_metric_V':V,\n",
    "    'graph_generation_max_distance':max_distance,\n",
    "    'graph_generation_max_angle':max_angle,\n",
    "    'merge_stops_speed':merge_stops_speed\n",
    "}\n",
    "network.set_hyperparameters(params)"
   ]
  },
  {
   "cell_type": "code",
   "execution_count": null,
   "id": "2a231a8a-44ed-4796-8f5c-d16e46481b06",
   "metadata": {},
   "outputs": [],
   "source": [
    "# save network as pickle object\n",
    "fileObj = open('../../data/interim/'+data_date+'_waypoints_DP'+str(tolerance)+'_'+method+str(min_samples)+'_'+location+'_'+datasize+'_UTM.obj', 'wb')\n",
    "pickle.dump(network, fileObj)\n",
    "fileObj.close()"
   ]
  },
  {
   "cell_type": "code",
   "execution_count": null,
   "id": "fb32a930-5a42-45b8-819b-46778aa39565",
   "metadata": {},
   "outputs": [],
   "source": []
  }
 ],
 "metadata": {
  "kernelspec": {
   "display_name": "Python 3 (ipykernel)",
   "language": "python",
   "name": "python3"
  },
  "language_info": {
   "codemirror_mode": {
    "name": "ipython",
    "version": 3
   },
   "file_extension": ".py",
   "mimetype": "text/x-python",
   "name": "python",
   "nbconvert_exporter": "python",
   "pygments_lexer": "ipython3",
   "version": "3.11.5"
  }
 },
 "nbformat": 4,
 "nbformat_minor": 5
}
