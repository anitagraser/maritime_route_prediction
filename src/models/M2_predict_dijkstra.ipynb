{
 "cells": [
  {
   "cell_type": "code",
   "execution_count": 1,
   "id": "b14c6672-d0c8-413e-9573-81363ad334b3",
   "metadata": {},
   "outputs": [
    {
     "name": "stdout",
     "output_type": "stream",
     "text": [
      "Geopandas has version 0.13.2\n",
      "Movingpandas has version 0.17.1\n"
     ]
    }
   ],
   "source": [
    "import pandas as pd\n",
    "import geopandas as gpd\n",
    "import movingpandas as mpd\n",
    "import numpy as np\n",
    "from datetime import timedelta, datetime\n",
    "from ast import literal_eval\n",
    "from shapely.geometry import LineString, Point\n",
    "import networkx as nx\n",
    "import folium\n",
    "import time\n",
    "import warnings\n",
    "import pickle\n",
    "import sys\n",
    "warnings.filterwarnings('ignore')\n",
    "print(\"Geopandas has version {}\".format(gpd.__version__))\n",
    "print(\"Movingpandas has version {}\".format(mpd.__version__))"
   ]
  },
  {
   "cell_type": "code",
   "execution_count": 2,
   "id": "4fae18fd-807f-490f-98b2-5d320db2a91a",
   "metadata": {},
   "outputs": [
    {
     "data": {
      "text/html": [
       "\n",
       "    <script charset=\"utf-8\">\n",
       "    // Load via requireJS if available (jupyter notebook environment)\n",
       "    try {\n",
       "    require.config({\n",
       "    paths: {\n",
       "    d3: \"https://d3js.org/d3.v5.min.js\".replace(\".js\", \"\")\n",
       "    }\n",
       "    });\n",
       "    console.log(\"OKAY: requireJS was detected\");\n",
       "    }\n",
       "    catch(err){\n",
       "    console.log(err);\n",
       "    console.log(\"ERROR: NO requireJS was detected\");\n",
       "    };\n",
       "    require(['d3'], function(d3){\n",
       "    console.log(\"OKAY: d3js was detected\");\n",
       "    });\n",
       "    </script>\n",
       "    "
      ],
      "text/plain": [
       "<IPython.core.display.HTML object>"
      ]
     },
     "metadata": {},
     "output_type": "display_data"
    }
   ],
   "source": [
    "# add paths for modules\n",
    "sys.path.append('../visualization')\n",
    "sys.path.append('../features')\n",
    "# import modules\n",
    "import visualize\n",
    "import geometry_utils\n",
    "from maritime_traffic_network import MaritimeTrafficNetwork\n",
    "from dijkstra_path_prediction import DijkstraPathPrediction\n",
    "import prediction_model_evaluation_metrics as metrics"
   ]
  },
  {
   "cell_type": "code",
   "execution_count": 3,
   "id": "0b54b5d5-a3ff-4add-a52f-105d513d0041",
   "metadata": {},
   "outputs": [
    {
     "data": {
      "text/plain": [
       "{'Data': '../../data/processed/202204_points_tromso_cleaned_meta_full_dualSplit_2.parquet',\n",
       " 'DP_tolerance': 10,\n",
       " 'clustering_method': 'HDBSCAN',\n",
       " 'clustering_metric': 'mahalanobis',\n",
       " 'clustering_min_samples': 13,\n",
       " 'clustering_min_cluster_size': 13,\n",
       " 'clustering_eps': 0,\n",
       " 'clustering_metric_V': array([[1.  , 0.  , 0.  , 0.  , 0.  ],\n",
       "        [0.  , 1.  , 0.  , 0.  , 0.  ],\n",
       "        [0.  , 0.  , 0.01, 0.  , 0.  ],\n",
       "        [0.  , 0.  , 0.  , 0.01, 0.  ],\n",
       "        [0.  , 0.  , 0.  , 0.  , 1.  ]]),\n",
       " 'graph_generation_max_distance': 20,\n",
       " 'graph_generation_max_angle': 45}"
      ]
     },
     "execution_count": 3,
     "metadata": {},
     "output_type": "execute_result"
    }
   ],
   "source": [
    "# Load a model from pickle\n",
    "datasize = 'full'\n",
    "location = 'tromso'\n",
    "model_date = '202204'\n",
    "train_date = '202205'\n",
    "test_date = '202206'\n",
    "DP_tol = 10\n",
    "min_samples = 13\n",
    "\n",
    "model_name = model_date+'_waypoints_DP'+str(DP_tol)+'_HDBSCAN'+str(min_samples)+'_'+location+'_'+datasize+'_UTM'\n",
    "model_path = '../../models/networks/best_networks/' + model_name + '.obj'\n",
    "fileObj = open(model_path, 'rb')\n",
    "network = pickle.load(fileObj)\n",
    "fileObj.close()\n",
    "network.hyperparameters"
   ]
  },
  {
   "cell_type": "code",
   "execution_count": 4,
   "id": "d51b6022-98e4-42b5-b0bc-e0be895e2e35",
   "metadata": {},
   "outputs": [],
   "source": [
    "# Load training data from file\n",
    "filename = model_name+'_'+train_date+'_paths.csv'\n",
    "training_data = pd.read_csv('../../data/paths/'+filename)\n",
    "training_data['path'] = training_data['path'].apply(literal_eval)\n",
    "training_data = gpd.GeoDataFrame(training_data, geometry=gpd.GeoSeries.from_wkt(training_data['geometry']), crs=network.crs)\n",
    "training_data = training_data[training_data['message']=='success']"
   ]
  },
  {
   "cell_type": "code",
   "execution_count": 5,
   "id": "30557e35-bc55-4817-b40f-4814e417354f",
   "metadata": {},
   "outputs": [],
   "source": [
    "# Load test data from file\n",
    "filename = model_name+'_'+test_date+'_paths.csv'\n",
    "test_data = pd.read_csv('../../data/paths/'+filename)\n",
    "test_data['path'] = test_data['path'].apply(literal_eval)\n",
    "test_data = gpd.GeoDataFrame(test_data, geometry=gpd.GeoSeries.from_wkt(test_data['geometry']), crs=network.crs)\n",
    "test_data = test_data[test_data['message']=='success']\n",
    "\n",
    "# Load respective trajectories for evaluation\n",
    "traj_file = test_date+'_points_'+location+'_cleaned_meta_full_dualSplit_2'\n",
    "filename = '../../data/processed/' + traj_file + '.parquet'\n",
    "traj_gdf = gpd.read_parquet(filename)\n",
    "crs = 32632  # Coordinate reference system\n",
    "traj_gdf.to_crs(crs, inplace=True)  # Transformation\n",
    "test_trajectories = mpd.TrajectoryCollection(traj_gdf, traj_id_col='mmsi', obj_id_col='mmsi')"
   ]
  },
  {
   "cell_type": "code",
   "execution_count": 6,
   "id": "c932d688-c889-4a10-ba0f-afbb92c467a7",
   "metadata": {},
   "outputs": [
    {
     "name": "stdout",
     "output_type": "stream",
     "text": [
      "<class 'geopandas.geodataframe.GeoDataFrame'>\n",
      "Index: 1433 entries, 0 to 1451\n",
      "Data columns (total 14 columns):\n",
      " #   Column            Non-Null Count  Dtype   \n",
      "---  ------            --------------  -----   \n",
      " 0   Unnamed: 0        1433 non-null   int64   \n",
      " 1   mmsi              1433 non-null   object  \n",
      " 2   SSPD              1433 non-null   float64 \n",
      " 3   distances         1433 non-null   object  \n",
      " 4   fraction_covered  1433 non-null   float64 \n",
      " 5   message           1433 non-null   object  \n",
      " 6   path              1433 non-null   object  \n",
      " 7   path_linestring   1433 non-null   object  \n",
      " 8   lengde            1433 non-null   int64   \n",
      " 9   bredde            1039 non-null   float64 \n",
      " 10  dypgaaende        942 non-null    float64 \n",
      " 11  skipstype         1039 non-null   object  \n",
      " 12  skipsgruppe       1039 non-null   object  \n",
      " 13  geometry          1433 non-null   geometry\n",
      "dtypes: float64(4), geometry(1), int64(2), object(7)\n",
      "memory usage: 167.9+ KB\n"
     ]
    }
   ],
   "source": [
    "training_data.info()"
   ]
  },
  {
   "cell_type": "code",
   "execution_count": 7,
   "id": "b0a5f69f-2e72-40f2-bab7-35c8558ea22e",
   "metadata": {},
   "outputs": [],
   "source": [
    "# train model\n",
    "model = DijkstraPathPrediction()\n",
    "model.train(network.G_pruned, training_data['path'])"
   ]
  },
  {
   "cell_type": "code",
   "execution_count": 8,
   "id": "cca3b694-907e-4710-95a0-a1290456f9f7",
   "metadata": {},
   "outputs": [
    {
     "name": "stdout",
     "output_type": "stream",
     "text": [
      "Evaluating Dijkstra model on 761 samples for path prediction task\n",
      "Progress: 10%...20%...30%...40%...50%...60%...70%...80%...90%...Done!\n",
      "\n",
      "\n",
      "Time elapsed: 28374336.67 minutes\n",
      "\n",
      "\n",
      "Percentage of unsuccessful predictions: 0.00%\n",
      "Mean SSPD: 203.99m\n",
      "Median SSPD: 43.42m\n",
      "Mean choice_accuracy: 0.6824\n"
     ]
    },
    {
     "data": {
      "image/png": "[encoded data removed]",
      "text/plain": [
       "<Figure size 1200x600 with 2 Axes>"
      ]
     },
     "metadata": {},
     "output_type": "display_data"
    }
   ],
   "source": [
    "# evaluate model\n",
    "selection = range(0, len(test_data), 2)  # len(test_data)\n",
    "test_paths = test_data.iloc[selection]\n",
    "eval_results, fig = metrics.evaluate(model, 'path', test_paths, test_trajectories, network, eval_mode='path')"
   ]
  },
  {
   "cell_type": "code",
   "execution_count": 9,
   "id": "f6334d47-dd45-4a81-b0a2-539b1d9e73a4",
   "metadata": {},
   "outputs": [
    {
     "data": {
      "text/html": [
       "<div>\n",
       "<style scoped>\n",
       "    .dataframe tbody tr th:only-of-type {\n",
       "        vertical-align: middle;\n",
       "    }\n",
       "\n",
       "    .dataframe tbody tr th {\n",
       "        vertical-align: top;\n",
       "    }\n",
       "\n",
       "    .dataframe thead th {\n",
       "        text-align: right;\n",
       "    }\n",
       "</style>\n",
       "<table border=\"1\" class=\"dataframe\">\n",
       "  <thead>\n",
       "    <tr style=\"text-align: right;\">\n",
       "      <th></th>\n",
       "      <th>mmsi</th>\n",
       "      <th>true_path</th>\n",
       "      <th>predicted_path</th>\n",
       "      <th>distances</th>\n",
       "      <th>SSPD</th>\n",
       "      <th>choice_accuracy</th>\n",
       "    </tr>\n",
       "  </thead>\n",
       "  <tbody>\n",
       "    <tr>\n",
       "      <th>0</th>\n",
       "      <td>210055000_0_2022-06-01 09:31:46</td>\n",
       "      <td>[130, 129, 128, 4, 350, 349, 323, 309, 455, 45...</td>\n",
       "      <td>[130, 129, 128, 4, 354, 353, 350, 349, 323, 31...</td>\n",
       "      <td>[0.0, 5.411314500018318e-12, 6.908473696990645...</td>\n",
       "      <td>8.538437e+02</td>\n",
       "      <td>0.440678</td>\n",
       "    </tr>\n",
       "    <tr>\n",
       "      <th>0</th>\n",
       "      <td>210189000_0_2022-06-24 06:55:42</td>\n",
       "      <td>[185, 180, 179, 178, 224, 223, 204, 217, 247, ...</td>\n",
       "      <td>[185, 180, 179, 178, 224, 223, 236, 217, 247, ...</td>\n",
       "      <td>[0.0, 2.5723016972688495e-10, 3.08233689958954...</td>\n",
       "      <td>1.406577e+02</td>\n",
       "      <td>0.743590</td>\n",
       "    </tr>\n",
       "    <tr>\n",
       "      <th>0</th>\n",
       "      <td>210189000_8_2022-06-25 16:12:16</td>\n",
       "      <td>[458, 467, 466, 463, 462, 25]</td>\n",
       "      <td>[458, 467, 466, 463, 462, 25]</td>\n",
       "      <td>[0.0, 1.5350618722525568e-10, 1.84962196370548...</td>\n",
       "      <td>7.036974e-11</td>\n",
       "      <td>1.000000</td>\n",
       "    </tr>\n",
       "    <tr>\n",
       "      <th>0</th>\n",
       "      <td>211102000_0_2022-06-03 02:00:05</td>\n",
       "      <td>[366, 352, 359, 374, 384, 375, 380, 364, 468]</td>\n",
       "      <td>[366, 365, 358, 357, 361, 352, 359, 374, 384, ...</td>\n",
       "      <td>[0.0, 135.3060553449902, 270.6121106899804, 32...</td>\n",
       "      <td>6.757185e+01</td>\n",
       "      <td>0.625000</td>\n",
       "    </tr>\n",
       "    <tr>\n",
       "      <th>0</th>\n",
       "      <td>211102000_6_2022-06-03 20:10:17</td>\n",
       "      <td>[465, 464]</td>\n",
       "      <td>[465, 464]</td>\n",
       "      <td>[0.0, 8.961318150483569e-11, 8.050456454975777...</td>\n",
       "      <td>1.237946e-10</td>\n",
       "      <td>1.000000</td>\n",
       "    </tr>\n",
       "    <tr>\n",
       "      <th>...</th>\n",
       "      <td>...</td>\n",
       "      <td>...</td>\n",
       "      <td>...</td>\n",
       "      <td>...</td>\n",
       "      <td>...</td>\n",
       "      <td>...</td>\n",
       "    </tr>\n",
       "    <tr>\n",
       "      <th>0</th>\n",
       "      <td>314259000_1_2022-06-01 06:38:00</td>\n",
       "      <td>[184, 180, 179, 178, 224, 223, 236, 155, 401, ...</td>\n",
       "      <td>[184, 180, 179, 178, 224, 223, 236, 217, 247, ...</td>\n",
       "      <td>[0.0, 2.59047194123822e-10, 2.4329177490409683...</td>\n",
       "      <td>2.596479e+02</td>\n",
       "      <td>0.538462</td>\n",
       "    </tr>\n",
       "    <tr>\n",
       "      <th>0</th>\n",
       "      <td>314318000_10_2022-06-09 02:16:34</td>\n",
       "      <td>[476, 490, 504, 505, 502, 503, 484, 485, 486, ...</td>\n",
       "      <td>[476, 490, 504, 505, 502, 503, 484, 485, 486, ...</td>\n",
       "      <td>[0.0, 1.0345357902444548e-10, 4.65495924785292...</td>\n",
       "      <td>3.704646e+01</td>\n",
       "      <td>0.755102</td>\n",
       "    </tr>\n",
       "    <tr>\n",
       "      <th>0</th>\n",
       "      <td>314318000_6_2022-06-08 18:01:01</td>\n",
       "      <td>[365, 358, 357, 355, 360, 320, 327, 329, 336, ...</td>\n",
       "      <td>[365, 358, 357, 361, 352, 359, 374, 384, 375, ...</td>\n",
       "      <td>[0.0, 1.7312280879839838e-10, 3.46245617596796...</td>\n",
       "      <td>6.965749e+02</td>\n",
       "      <td>0.200000</td>\n",
       "    </tr>\n",
       "    <tr>\n",
       "      <th>0</th>\n",
       "      <td>314631000_0_2022-06-09 14:42:08</td>\n",
       "      <td>[185, 180, 179, 178, 224, 223, 236, 217, 247, ...</td>\n",
       "      <td>[185, 180, 179, 178, 224, 223, 236, 217, 247, ...</td>\n",
       "      <td>[0.0, 1.548797996575935e-10, 1.261339965269736...</td>\n",
       "      <td>7.347433e+02</td>\n",
       "      <td>0.508197</td>\n",
       "    </tr>\n",
       "    <tr>\n",
       "      <th>0</th>\n",
       "      <td>319139200_30_2022-06-11 16:52:42</td>\n",
       "      <td>[173, 171]</td>\n",
       "      <td>[173, 171]</td>\n",
       "      <td>[0.0, 1.850743590429422e-10, 2.893681630667283...</td>\n",
       "      <td>1.679174e-10</td>\n",
       "      <td>1.000000</td>\n",
       "    </tr>\n",
       "  </tbody>\n",
       "</table>\n",
       "<p>761 rows × 6 columns</p>\n",
       "</div>"
      ],
      "text/plain": [
       "                                mmsi  \\\n",
       "0    210055000_0_2022-06-01 09:31:46   \n",
       "0    210189000_0_2022-06-24 06:55:42   \n",
       "0    210189000_8_2022-06-25 16:12:16   \n",
       "0    211102000_0_2022-06-03 02:00:05   \n",
       "0    211102000_6_2022-06-03 20:10:17   \n",
       "..                               ...   \n",
       "0    314259000_1_2022-06-01 06:38:00   \n",
       "0   314318000_10_2022-06-09 02:16:34   \n",
       "0    314318000_6_2022-06-08 18:01:01   \n",
       "0    314631000_0_2022-06-09 14:42:08   \n",
       "0   319139200_30_2022-06-11 16:52:42   \n",
       "\n",
       "                                            true_path  \\\n",
       "0   [130, 129, 128, 4, 350, 349, 323, 309, 455, 45...   \n",
       "0   [185, 180, 179, 178, 224, 223, 204, 217, 247, ...   \n",
       "0                       [458, 467, 466, 463, 462, 25]   \n",
       "0       [366, 352, 359, 374, 384, 375, 380, 364, 468]   \n",
       "0                                          [465, 464]   \n",
       "..                                                ...   \n",
       "0   [184, 180, 179, 178, 224, 223, 236, 155, 401, ...   \n",
       "0   [476, 490, 504, 505, 502, 503, 484, 485, 486, ...   \n",
       "0   [365, 358, 357, 355, 360, 320, 327, 329, 336, ...   \n",
       "0   [185, 180, 179, 178, 224, 223, 236, 217, 247, ...   \n",
       "0                                          [173, 171]   \n",
       "\n",
       "                                       predicted_path  \\\n",
       "0   [130, 129, 128, 4, 354, 353, 350, 349, 323, 31...   \n",
       "0   [185, 180, 179, 178, 224, 223, 236, 217, 247, ...   \n",
       "0                       [458, 467, 466, 463, 462, 25]   \n",
       "0   [366, 365, 358, 357, 361, 352, 359, 374, 384, ...   \n",
       "0                                          [465, 464]   \n",
       "..                                                ...   \n",
       "0   [184, 180, 179, 178, 224, 223, 236, 217, 247, ...   \n",
       "0   [476, 490, 504, 505, 502, 503, 484, 485, 486, ...   \n",
       "0   [365, 358, 357, 361, 352, 359, 374, 384, 375, ...   \n",
       "0   [185, 180, 179, 178, 224, 223, 236, 217, 247, ...   \n",
       "0                                          [173, 171]   \n",
       "\n",
       "                                            distances          SSPD  \\\n",
       "0   [0.0, 5.411314500018318e-12, 6.908473696990645...  8.538437e+02   \n",
       "0   [0.0, 2.5723016972688495e-10, 3.08233689958954...  1.406577e+02   \n",
       "0   [0.0, 1.5350618722525568e-10, 1.84962196370548...  7.036974e-11   \n",
       "0   [0.0, 135.3060553449902, 270.6121106899804, 32...  6.757185e+01   \n",
       "0   [0.0, 8.961318150483569e-11, 8.050456454975777...  1.237946e-10   \n",
       "..                                                ...           ...   \n",
       "0   [0.0, 2.59047194123822e-10, 2.4329177490409683...  2.596479e+02   \n",
       "0   [0.0, 1.0345357902444548e-10, 4.65495924785292...  3.704646e+01   \n",
       "0   [0.0, 1.7312280879839838e-10, 3.46245617596796...  6.965749e+02   \n",
       "0   [0.0, 1.548797996575935e-10, 1.261339965269736...  7.347433e+02   \n",
       "0   [0.0, 1.850743590429422e-10, 2.893681630667283...  1.679174e-10   \n",
       "\n",
       "    choice_accuracy  \n",
       "0          0.440678  \n",
       "0          0.743590  \n",
       "0          1.000000  \n",
       "0          0.625000  \n",
       "0          1.000000  \n",
       "..              ...  \n",
       "0          0.538462  \n",
       "0          0.755102  \n",
       "0          0.200000  \n",
       "0          0.508197  \n",
       "0          1.000000  \n",
       "\n",
       "[761 rows x 6 columns]"
      ]
     },
     "execution_count": 9,
     "metadata": {},
     "output_type": "execute_result"
    }
   ],
   "source": [
    "eval_results"
   ]
  },
  {
   "cell_type": "code",
   "execution_count": 10,
   "id": "7be8ef48-f41d-4095-b96f-4002a88c8aa0",
   "metadata": {},
   "outputs": [
    {
     "data": {
      "text/plain": [
       "'\\n# plot prediction results\\nindex = 0  # which prediction to plot\\nmmsi = eval_results[\\'mmsi\\'].iloc[index]\\nprediction = eval_results[\\'predicted_path\\'].iloc[index][1:]\\npredictions = {tuple(prediction):1}\\ntrue_path = eval_results[\\'true_path\\'].iloc[index]\\nstart_node = true_path[0]\\nstart_node = [start_node]\\nend_node = true_path[-1]\\ntrajectory = test_trajectories.get_trajectory(mmsi)\\n\\nmap = visualize.map_prediction_and_ground_truth(predictions, start_node, trajectory, true_path, network, min_passages=1, opacity=0.2, location=location, end_node=end_node)\\nmap.save(\\'../../reports/maps/\\'+model_name+\\'_dijkstra_predictions.html\\')\\nprint(f\\'Map saved under {\"../../reports/maps/\"+model_name+\"_dijkstra_predictions.html\"}\\')\\n'"
      ]
     },
     "execution_count": 10,
     "metadata": {},
     "output_type": "execute_result"
    }
   ],
   "source": [
    "'''\n",
    "# plot prediction results\n",
    "index = 0  # which prediction to plot\n",
    "mmsi = eval_results['mmsi'].iloc[index]\n",
    "prediction = eval_results['predicted_path'].iloc[index][1:]\n",
    "predictions = {tuple(prediction):1}\n",
    "true_path = eval_results['true_path'].iloc[index]\n",
    "start_node = true_path[0]\n",
    "start_node = [start_node]\n",
    "end_node = true_path[-1]\n",
    "trajectory = test_trajectories.get_trajectory(mmsi)\n",
    "\n",
    "map = visualize.map_prediction_and_ground_truth(predictions, start_node, trajectory, true_path, network, min_passages=1, opacity=0.2, location=location, end_node=end_node)\n",
    "map.save('../../reports/maps/'+model_name+'_dijkstra_predictions.html')\n",
    "print(f'Map saved under {\"../../reports/maps/\"+model_name+\"_dijkstra_predictions.html\"}')\n",
    "'''"
   ]
  },
  {
   "cell_type": "code",
   "execution_count": 21,
   "id": "7749a665-fef2-400a-beb3-b4755e8cf9b8",
   "metadata": {},
   "outputs": [
    {
     "name": "stdout",
     "output_type": "stream",
     "text": [
      "Map saved under ../../reports/maps/202204_waypoints_DP10_HDBSCAN13_tromso_full_UTM_dijkstra_predictions.html\n"
     ]
    }
   ],
   "source": [
    "# make predictions with the Dijkstra model\n",
    "example = test_data.iloc[1]\n",
    "mmsi = example.mmsi\n",
    "start_node = [example.path[0]]\n",
    "end_node = example.path[-1]\n",
    "true_path = example.path\n",
    "trajectory = test_trajectories.get_trajectory(mmsi)\n",
    "\n",
    "predictions = model.predict(start_node[-1], end_node)\n",
    "predictions = {tuple(predictions[len(start_node):]):'1.0'}\n",
    "\n",
    "map = visualize.map_prediction_and_ground_truth(predictions, start_node, trajectory, true_path, network, \n",
    "                                                min_passages=1, opacity=0.2, location=location, end_node=end_node)\n",
    "map.save('../../reports/maps/'+model_name+'_dijkstra_predictions.html')\n",
    "print(f'Map saved under {\"../../reports/maps/\"+model_name+\"_dijkstra_predictions.html\"}')"
   ]
  },
  {
   "cell_type": "code",
   "execution_count": null,
   "id": "5e79477e-04f7-498f-b075-5142468341f9",
   "metadata": {},
   "outputs": [],
   "source": []
  }
 ],
 "metadata": {
  "kernelspec": {
   "display_name": "Python 3 (ipykernel)",
   "language": "python",
   "name": "python3"
  },
  "language_info": {
   "codemirror_mode": {
    "name": "ipython",
    "version": 3
   },
   "file_extension": ".py",
   "mimetype": "text/x-python",
   "name": "python",
   "nbconvert_exporter": "python",
   "pygments_lexer": "ipython3",
   "version": "3.11.5"
  }
 },
 "nbformat": 4,
 "nbformat_minor": 5
}
