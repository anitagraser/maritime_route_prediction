{
 "cells": [
  {
   "cell_type": "code",
   "execution_count": 1,
   "id": "e8181bb6-bcd8-47e6-9746-bf3ceb3f44f4",
   "metadata": {},
   "outputs": [],
   "source": [
    "'''\n",
    "import argparse\n",
    "import itertools\n",
    "import logging\n",
    "import os\n",
    "import sys\n",
    "import time\n",
    "\n",
    "import numpy as np\n",
    "import tensorboardX\n",
    "import torch\n",
    "from termcolor import colored\n",
    "from typing import Optional, List, Callable\n",
    "\n",
    "from gretel.config import Config, config_generator\n",
    "from gretel.graph import Graph\n",
    "from gretel.metrics import Evaluator\n",
    "from gretel.model import Model, MLP, MultiDiffusion, EdgeTransformer\n",
    "from gretel.trajectories import Trajectories\n",
    "from gretel.utils import generate_masks\n",
    "#from gretel.main import load_data, create_model\n",
    "from gretel.main import *\n",
    "'''\n",
    "\n",
    "from Gretel_path_prediction import GretelPathPrediction\n",
    "\n",
    "import warnings\n",
    "warnings.filterwarnings('ignore')"
   ]
  },
  {
   "cell_type": "code",
   "execution_count": 2,
   "id": "40c6ffc9-ee7e-438b-a398-cb5fb10dae70",
   "metadata": {},
   "outputs": [
    {
     "name": "stdout",
     "output_type": "stream",
     "text": [
      "number of trajectories:  600\n",
      "number of valid trajectories (length in [2, 2]): 600\n",
      "trajectories length: min 2 | max 2 | mean 2.00\n",
      "split train/(valid)?/test 0.8/0.2\n",
      "==== START \"one_start_node_to_target_tromso_small\" ====\n",
      "Checkpoints will be saved in [../../models/gretel_prediction_models/tromso_small/chkpt/one_start_node_to_target_tromso_small]\n",
      "Number of node features 6. Number of edge features 3\n",
      "No initial edge transformer.\n",
      "Computing non backtracking edges...\n",
      "Done\n",
      "=== BASELINE ===\n",
      "TEST DATASET\n"
     ]
    },
    {
     "name": "stderr",
     "output_type": "stream",
     "text": [
      "100%|███████████████████████████████████████████████████████████████████████████████████████████████████████████████████████████| 120/120 [00:00<00:00, 1380.61it/s]\n"
     ]
    },
    {
     "name": "stdout",
     "output_type": "stream",
     "text": [
      "\u001b[32m| Metric               |      Value |\n",
      "|----------------------|------------|\n",
      "| target_probability   |  0.0285923 |\n",
      "| choice_accuracy      |  0.352868  |\n",
      "| choice_accuracy_deg3 |  0.215675  |\n",
      "| precision_top1       |  0.05      |\n",
      "| precision_top5       |  0.108333  |\n",
      "| path_nll             | 25.768     |\n",
      "| path_nll_deg3        | 23.833     |\u001b[0m\n",
      "TRAIN DATASET\n"
     ]
    },
    {
     "name": "stderr",
     "output_type": "stream",
     "text": [
      "100%|███████████████████████████████████████████████████████████████████████████████████████████████████████████████████████████| 480/480 [00:00<00:00, 1433.73it/s]\n"
     ]
    },
    {
     "name": "stdout",
     "output_type": "stream",
     "text": [
      "\u001b[32m| Metric               |      Value |\n",
      "|----------------------|------------|\n",
      "| target_probability   |  0.0709232 |\n",
      "| choice_accuracy      |  0.343753  |\n",
      "| choice_accuracy_deg3 |  0.218531  |\n",
      "| precision_top1       |  0.09375   |\n",
      "| precision_top5       |  0.252083  |\n",
      "| path_nll             | 28.267     |\n",
      "| path_nll_deg3        | 26.3826    |\u001b[0m\n",
      "=== NON BACKTRACKING BASELINE ===\n",
      "TEST DATASET\n"
     ]
    },
    {
     "name": "stderr",
     "output_type": "stream",
     "text": [
      "100%|████████████████████████████████████████████████████████████████████████████████████████████████████████████████████████████| 120/120 [00:00<00:00, 327.15it/s]\n"
     ]
    },
    {
     "name": "stdout",
     "output_type": "stream",
     "text": [
      "\u001b[32m| Metric               |      Value |\n",
      "|----------------------|------------|\n",
      "| target_probability   |  0.0277258 |\n",
      "| choice_accuracy      |  0.373917  |\n",
      "| choice_accuracy_deg3 |  0.248471  |\n",
      "| precision_top1       |  0.0583333 |\n",
      "| precision_top5       |  0.108333  |\n",
      "| path_nll             | 25.2887    |\n",
      "| path_nll_deg3        | 23.3537    |\u001b[0m\n",
      "TRAIN DATASET\n"
     ]
    },
    {
     "name": "stderr",
     "output_type": "stream",
     "text": [
      "100%|████████████████████████████████████████████████████████████████████████████████████████████████████████████████████████████| 480/480 [00:01<00:00, 323.22it/s]"
     ]
    },
    {
     "name": "stdout",
     "output_type": "stream",
     "text": [
      "\u001b[32m| Metric               |      Value |\n",
      "|----------------------|------------|\n",
      "| target_probability   |  0.0699906 |\n",
      "| choice_accuracy      |  0.348979  |\n",
      "| choice_accuracy_deg3 |  0.223592  |\n",
      "| precision_top1       |  0.09375   |\n",
      "| precision_top5       |  0.25      |\n",
      "| path_nll             | 28.0406    |\n",
      "| path_nll_deg3        | 26.1561    |\u001b[0m\n",
      "Computing non backtracking graph... "
     ]
    },
    {
     "name": "stderr",
     "output_type": "stream",
     "text": [
      "\n"
     ]
    },
    {
     "name": "stdout",
     "output_type": "stream",
     "text": [
      "Done\n",
      "\n",
      "=== TEST ===\n",
      "\n"
     ]
    },
    {
     "name": "stderr",
     "output_type": "stream",
     "text": [
      "100%|████████████████████████████████████████████████████████████████████████████████████████████████████████████████████████████| 120/120 [00:00<00:00, 160.45it/s]\n"
     ]
    },
    {
     "name": "stdout",
     "output_type": "stream",
     "text": [
      "\u001b[31m| Metric               |      Value |\n",
      "|----------------------|------------|\n",
      "| target_probability   |  0.0273288 |\n",
      "| choice_accuracy      |  0.336773  |\n",
      "| choice_accuracy_deg3 |  0.176209  |\n",
      "| precision_top1       |  0.05      |\n",
      "| precision_top5       |  0.108333  |\n",
      "| path_nll             | 26.0951    |\n",
      "| path_nll_deg3        | 24.1879    |\u001b[0m\n",
      "\n",
      "=== EPOCH 0 ===\n",
      "Progress 10% | iter 8 | 155.6 pred/s | loss log_dot_loss 0.11127175048545555\n",
      "Progress 20% | iter 17 | 147.9 pred/s | loss log_dot_loss 0.11733684363188568\n",
      "Progress 30% | iter 26 | 152.0 pred/s | loss log_dot_loss 0.09566451531869394\n",
      "Progress 40% | iter 35 | 170.5 pred/s | loss log_dot_loss 0.08113822524930224\n",
      "Progress 50% | iter 44 | 153.5 pred/s | loss log_dot_loss 0.09254864586724175\n",
      "Progress 60% | iter 53 | 152.7 pred/s | loss log_dot_loss 0.09760056660499103\n",
      "Progress 70% | iter 62 | 166.5 pred/s | loss log_dot_loss 0.07605383072370364\n",
      "Progress 80% | iter 71 | 152.3 pred/s | loss log_dot_loss 0.08813192108531058\n",
      "Progress 90% | iter 80 | 159.9 pred/s | loss log_dot_loss 0.08058383729722765\n",
      "Progress 100% | iter 89 | 166.6 pred/s | loss log_dot_loss 0.07710181518837259\n",
      "\n",
      "=== TEST ===\n",
      "\n"
     ]
    },
    {
     "name": "stderr",
     "output_type": "stream",
     "text": [
      "100%|████████████████████████████████████████████████████████████████████████████████████████████████████████████████████████████| 120/120 [00:00<00:00, 161.23it/s]\n"
     ]
    },
    {
     "name": "stdout",
     "output_type": "stream",
     "text": [
      "\u001b[31m| Metric               |      Value |\n",
      "|----------------------|------------|\n",
      "| target_probability   |  0.0502743 |\n",
      "| choice_accuracy      |  0.778787  |\n",
      "| choice_accuracy_deg3 |  0.714286  |\n",
      "| precision_top1       |  0.0666667 |\n",
      "| precision_top5       |  0.308333  |\n",
      "| path_nll             | 15.3654    |\n",
      "| path_nll_deg3        | 14.5891    |\u001b[0m\n",
      "Checkpointing...\n",
      "\u001b[34mCheckpoint saved in ../../models/gretel_prediction_models/tromso_small/chkpt/one_start_node_to_target_tromso_small/0000.pt\u001b[0m\n",
      "\n",
      "=== EPOCH 1 ===\n",
      "Progress 10% | iter 8 | 155.1 pred/s | loss log_dot_loss 0.08865920349403664\n",
      "Progress 20% | iter 17 | 163.2 pred/s | loss log_dot_loss 0.08013375776785392\n",
      "Progress 30% | iter 26 | 170.2 pred/s | loss log_dot_loss 0.06890902401488505\n",
      "Progress 40% | iter 35 | 159.4 pred/s | loss log_dot_loss 0.07479700718396975\n",
      "Progress 50% | iter 44 | 155.8 pred/s | loss log_dot_loss 0.08250322459656514\n",
      "Progress 60% | iter 53 | 165.3 pred/s | loss log_dot_loss 0.07730726136101616\n",
      "Progress 70% | iter 62 | 144.6 pred/s | loss log_dot_loss 0.07600711893152308\n",
      "Progress 80% | iter 71 | 169.3 pred/s | loss log_dot_loss 0.08761292504675594\n",
      "Progress 90% | iter 80 | 154.6 pred/s | loss log_dot_loss 0.0871549865345896\n",
      "Progress 100% | iter 89 | 155.0 pred/s | loss log_dot_loss 0.07719562848409017\n",
      "\n",
      "=== TEST ===\n",
      "\n"
     ]
    },
    {
     "name": "stderr",
     "output_type": "stream",
     "text": [
      "100%|████████████████████████████████████████████████████████████████████████████████████████████████████████████████████████████| 120/120 [00:00<00:00, 160.94it/s]\n"
     ]
    },
    {
     "name": "stdout",
     "output_type": "stream",
     "text": [
      "\u001b[31m| Metric               |      Value |\n",
      "|----------------------|------------|\n",
      "| target_probability   |  0.0700815 |\n",
      "| choice_accuracy      |  0.781676  |\n",
      "| choice_accuracy_deg3 |  0.724291  |\n",
      "| precision_top1       |  0.116667  |\n",
      "| precision_top5       |  0.45      |\n",
      "| path_nll             | 14.2878    |\n",
      "| path_nll_deg3        | 13.5858    |\u001b[0m\n",
      "\n",
      "=== EPOCH 2 ===\n",
      "Progress 10% | iter 8 | 165.7 pred/s | loss log_dot_loss 0.07895616896358537\n",
      "Progress 20% | iter 17 | 158.0 pred/s | loss log_dot_loss 0.06456358344466598\n",
      "Progress 30% | iter 26 | 151.8 pred/s | loss log_dot_loss 0.0833752202398983\n",
      "Progress 40% | iter 35 | 151.3 pred/s | loss log_dot_loss 0.08331244256761339\n",
      "Progress 50% | iter 44 | 169.0 pred/s | loss log_dot_loss 0.07857568705523456\n",
      "Progress 60% | iter 53 | 163.0 pred/s | loss log_dot_loss 0.07830700050165623\n",
      "Progress 70% | iter 62 | 166.8 pred/s | loss log_dot_loss 0.08106267834887092\n",
      "Progress 80% | iter 71 | 154.6 pred/s | loss log_dot_loss 0.08498729540977948\n",
      "Progress 90% | iter 80 | 156.2 pred/s | loss log_dot_loss 0.08386040440312138\n",
      "Progress 100% | iter 89 | 158.2 pred/s | loss log_dot_loss 0.07808177794939207\n",
      "\n",
      "=== TEST ===\n",
      "\n"
     ]
    },
    {
     "name": "stderr",
     "output_type": "stream",
     "text": [
      "100%|████████████████████████████████████████████████████████████████████████████████████████████████████████████████████████████| 120/120 [00:00<00:00, 161.66it/s]\n"
     ]
    },
    {
     "name": "stdout",
     "output_type": "stream",
     "text": [
      "\u001b[31m| Metric               |      Value |\n",
      "|----------------------|------------|\n",
      "| target_probability   |  0.0623383 |\n",
      "| choice_accuracy      |  0.788692  |\n",
      "| choice_accuracy_deg3 |  0.737076  |\n",
      "| precision_top1       |  0.116667  |\n",
      "| precision_top5       |  0.333333  |\n",
      "| path_nll             | 15.2304    |\n",
      "| path_nll_deg3        | 14.2745    |\u001b[0m\n",
      "\n",
      "=== EPOCH 3 ===\n",
      "Progress 10% | iter 8 | 141.5 pred/s | loss log_dot_loss 0.0697332388089027\n",
      "Progress 20% | iter 17 | 166.7 pred/s | loss log_dot_loss 0.086830304581442\n",
      "Progress 30% | iter 26 | 173.7 pred/s | loss log_dot_loss 0.06596634299666794\n",
      "Progress 40% | iter 35 | 159.0 pred/s | loss log_dot_loss 0.0757968219709985\n",
      "Progress 50% | iter 44 | 157.8 pred/s | loss log_dot_loss 0.08920934641802752\n",
      "Progress 60% | iter 53 | 158.3 pred/s | loss log_dot_loss 0.08791482831224982\n",
      "Progress 70% | iter 62 | 162.5 pred/s | loss log_dot_loss 0.0710936870104001\n",
      "Progress 80% | iter 71 | 150.9 pred/s | loss log_dot_loss 0.08672400462774583\n",
      "Progress 90% | iter 80 | 168.6 pred/s | loss log_dot_loss 0.08406042876066985\n",
      "Progress 100% | iter 89 | 159.7 pred/s | loss log_dot_loss 0.07650188869900174\n",
      "\n",
      "=== TEST ===\n",
      "\n"
     ]
    },
    {
     "name": "stderr",
     "output_type": "stream",
     "text": [
      "100%|████████████████████████████████████████████████████████████████████████████████████████████████████████████████████████████| 120/120 [00:00<00:00, 161.98it/s]\n"
     ]
    },
    {
     "name": "stdout",
     "output_type": "stream",
     "text": [
      "\u001b[31m| Metric               |      Value |\n",
      "|----------------------|------------|\n",
      "| target_probability   |  0.0708994 |\n",
      "| choice_accuracy      |  0.76104   |\n",
      "| choice_accuracy_deg3 |  0.697054  |\n",
      "| precision_top1       |  0.158333  |\n",
      "| precision_top5       |  0.408333  |\n",
      "| path_nll             | 14.8231    |\n",
      "| path_nll_deg3        | 14.0402    |\u001b[0m\n",
      "\n",
      "=== EPOCH 4 ===\n",
      "Progress 10% | iter 8 | 159.2 pred/s | loss log_dot_loss 0.08168958204763907\n",
      "Progress 20% | iter 17 | 151.4 pred/s | loss log_dot_loss 0.08677457468009289\n",
      "Progress 30% | iter 26 | 172.6 pred/s | loss log_dot_loss 0.07826360478813266\n",
      "Progress 40% | iter 35 | 157.1 pred/s | loss log_dot_loss 0.07158278535913538\n",
      "Progress 50% | iter 44 | 161.5 pred/s | loss log_dot_loss 0.08207744198080934\n",
      "Progress 60% | iter 53 | 161.8 pred/s | loss log_dot_loss 0.06823994877897663\n",
      "Progress 70% | iter 62 | 157.0 pred/s | loss log_dot_loss 0.07670380215585967\n",
      "Progress 80% | iter 71 | 152.2 pred/s | loss log_dot_loss 0.07435339586234388\n",
      "Progress 90% | iter 80 | 153.7 pred/s | loss log_dot_loss 0.09181338062992801\n",
      "Progress 100% | iter 89 | 162.2 pred/s | loss log_dot_loss 0.07327560789791154\n",
      "\n",
      "=== TEST ===\n",
      "\n"
     ]
    },
    {
     "name": "stderr",
     "output_type": "stream",
     "text": [
      "100%|████████████████████████████████████████████████████████████████████████████████████████████████████████████████████████████| 120/120 [00:00<00:00, 162.25it/s]"
     ]
    },
    {
     "name": "stdout",
     "output_type": "stream",
     "text": [
      "\u001b[31m| Metric               |      Value |\n",
      "|----------------------|------------|\n",
      "| target_probability   |  0.0659062 |\n",
      "| choice_accuracy      |  0.768882  |\n",
      "| choice_accuracy_deg3 |  0.703168  |\n",
      "| precision_top1       |  0.116667  |\n",
      "| precision_top5       |  0.35      |\n",
      "| path_nll             | 16.474     |\n",
      "| path_nll_deg3        | 15.4717    |\u001b[0m\n"
     ]
    },
    {
     "name": "stderr",
     "output_type": "stream",
     "text": [
      "\n"
     ]
    }
   ],
   "source": [
    "directory = '../../models/gretel_prediction_models/tromso_small/'\n",
    "config_file = 'route_target'\n",
    "task = 'start-to-end'\n",
    "model = GretelPathPrediction()\n",
    "model.train(config_file, directory, task)"
   ]
  },
  {
   "cell_type": "code",
   "execution_count": 5,
   "id": "316385a0-bc3c-4e2e-a636-356187a9f299",
   "metadata": {},
   "outputs": [],
   "source": [
    "start_node = 185\n",
    "end_node = 474\n",
    "predictions, flag = model.predict_path(start_node, end_node, max_path_length=100, n_predictions=5, n_walks=1000)"
   ]
  },
  {
   "cell_type": "code",
   "execution_count": 6,
   "id": "4dbff8e7-a568-47bc-a472-e24f5ccea148",
   "metadata": {},
   "outputs": [
    {
     "data": {
      "text/plain": [
       "{(185,\n",
       "  180,\n",
       "  223,\n",
       "  217,\n",
       "  297,\n",
       "  295,\n",
       "  294,\n",
       "  302,\n",
       "  309,\n",
       "  446,\n",
       "  455,\n",
       "  459,\n",
       "  483,\n",
       "  482,\n",
       "  481,\n",
       "  489,\n",
       "  499,\n",
       "  501,\n",
       "  500,\n",
       "  519,\n",
       "  523,\n",
       "  533,\n",
       "  532,\n",
       "  531,\n",
       "  530,\n",
       "  526,\n",
       "  525,\n",
       "  516,\n",
       "  494,\n",
       "  452,\n",
       "  454,\n",
       "  453,\n",
       "  431,\n",
       "  109,\n",
       "  5,\n",
       "  312,\n",
       "  306,\n",
       "  305,\n",
       "  2,\n",
       "  269,\n",
       "  268,\n",
       "  267,\n",
       "  270,\n",
       "  273,\n",
       "  272,\n",
       "  266,\n",
       "  265,\n",
       "  264,\n",
       "  263,\n",
       "  474): 0.2,\n",
       " (185,\n",
       "  180,\n",
       "  223,\n",
       "  247,\n",
       "  419,\n",
       "  418,\n",
       "  421,\n",
       "  420,\n",
       "  446,\n",
       "  483,\n",
       "  482,\n",
       "  481,\n",
       "  489,\n",
       "  499,\n",
       "  501,\n",
       "  500,\n",
       "  431,\n",
       "  408,\n",
       "  407,\n",
       "  416,\n",
       "  438,\n",
       "  7,\n",
       "  440,\n",
       "  445,\n",
       "  444,\n",
       "  448,\n",
       "  447,\n",
       "  26,\n",
       "  451,\n",
       "  458,\n",
       "  467,\n",
       "  466,\n",
       "  463,\n",
       "  462,\n",
       "  25,\n",
       "  449,\n",
       "  439,\n",
       "  34,\n",
       "  166,\n",
       "  313,\n",
       "  348,\n",
       "  356,\n",
       "  363,\n",
       "  379,\n",
       "  380,\n",
       "  316,\n",
       "  351,\n",
       "  364,\n",
       "  468,\n",
       "  469,\n",
       "  474): 0.2,\n",
       " (185,\n",
       "  180,\n",
       "  235,\n",
       "  225,\n",
       "  217,\n",
       "  247,\n",
       "  296,\n",
       "  499,\n",
       "  501,\n",
       "  500,\n",
       "  519,\n",
       "  523,\n",
       "  522,\n",
       "  524,\n",
       "  533,\n",
       "  532,\n",
       "  531,\n",
       "  530,\n",
       "  526,\n",
       "  525,\n",
       "  516,\n",
       "  406,\n",
       "  408,\n",
       "  407,\n",
       "  5,\n",
       "  307,\n",
       "  305,\n",
       "  2,\n",
       "  269,\n",
       "  268,\n",
       "  267,\n",
       "  270,\n",
       "  273,\n",
       "  272,\n",
       "  266,\n",
       "  265,\n",
       "  474): 0.2,\n",
       " (185,\n",
       "  179,\n",
       "  178,\n",
       "  172,\n",
       "  224,\n",
       "  236,\n",
       "  298,\n",
       "  297,\n",
       "  294,\n",
       "  302,\n",
       "  309,\n",
       "  315,\n",
       "  459,\n",
       "  483,\n",
       "  482,\n",
       "  481,\n",
       "  489,\n",
       "  499,\n",
       "  501,\n",
       "  500,\n",
       "  524,\n",
       "  533,\n",
       "  532,\n",
       "  531,\n",
       "  530,\n",
       "  526,\n",
       "  525,\n",
       "  5,\n",
       "  312,\n",
       "  300,\n",
       "  306,\n",
       "  307,\n",
       "  305,\n",
       "  269,\n",
       "  268,\n",
       "  267,\n",
       "  270,\n",
       "  273,\n",
       "  272,\n",
       "  266,\n",
       "  265,\n",
       "  474): 0.2,\n",
       " (185,\n",
       "  235,\n",
       "  225,\n",
       "  217,\n",
       "  298,\n",
       "  297,\n",
       "  295,\n",
       "  294,\n",
       "  302,\n",
       "  309,\n",
       "  315,\n",
       "  519,\n",
       "  523,\n",
       "  522,\n",
       "  524,\n",
       "  533,\n",
       "  532,\n",
       "  531,\n",
       "  530,\n",
       "  526,\n",
       "  525,\n",
       "  516,\n",
       "  494,\n",
       "  452,\n",
       "  454,\n",
       "  453,\n",
       "  443,\n",
       "  431,\n",
       "  408,\n",
       "  407,\n",
       "  8,\n",
       "  148,\n",
       "  109,\n",
       "  5,\n",
       "  312,\n",
       "  306,\n",
       "  307,\n",
       "  305,\n",
       "  2,\n",
       "  268,\n",
       "  267,\n",
       "  270,\n",
       "  273,\n",
       "  272,\n",
       "  266,\n",
       "  265,\n",
       "  474): 0.2}"
      ]
     },
     "execution_count": 6,
     "metadata": {},
     "output_type": "execute_result"
    }
   ],
   "source": [
    "predictions"
   ]
  },
  {
   "cell_type": "code",
   "execution_count": null,
   "id": "2e970ca2-a069-4e92-8c1c-aa64195b2a2d",
   "metadata": {},
   "outputs": [],
   "source": []
  }
 ],
 "metadata": {
  "kernelspec": {
   "display_name": "Python 3 (ipykernel)",
   "language": "python",
   "name": "python3"
  },
  "language_info": {
   "codemirror_mode": {
    "name": "ipython",
    "version": 3
   },
   "file_extension": ".py",
   "mimetype": "text/x-python",
   "name": "python",
   "nbconvert_exporter": "python",
   "pygments_lexer": "ipython3",
   "version": "3.11.4"
  }
 },
 "nbformat": 4,
 "nbformat_minor": 5
}
