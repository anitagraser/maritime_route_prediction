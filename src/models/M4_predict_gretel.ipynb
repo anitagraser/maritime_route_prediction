{
 "cells": [
  {
   "cell_type": "code",
   "execution_count": 1,
   "id": "e8181bb6-bcd8-47e6-9746-bf3ceb3f44f4",
   "metadata": {},
   "outputs": [],
   "source": [
    "import pandas as pd\n",
    "from ast import literal_eval\n",
    "from Gretel_path_prediction import GretelPathPrediction\n",
    "\n",
    "import warnings\n",
    "warnings.filterwarnings('ignore')"
   ]
  },
  {
   "cell_type": "code",
   "execution_count": 2,
   "id": "40c6ffc9-ee7e-438b-a398-cb5fb10dae70",
   "metadata": {},
   "outputs": [
    {
     "name": "stdout",
     "output_type": "stream",
     "text": [
      "number of trajectories:  600\n",
      "number of valid trajectories (length in [2, 2]): 600\n",
      "trajectories length: min 2 | max 2 | mean 2.00\n",
      "split train/(valid)?/test 0.8/0.2\n",
      "==== START \"one_start_node_to_target_tromso_small\" ====\n",
      "Checkpoints will be saved in [../../models/gretel_prediction_models/tromso_small/chkpt/one_start_node_to_target_tromso_small]\n",
      "Number of node features 6. Number of edge features 3\n",
      "No initial edge transformer.\n",
      "Computing non backtracking edges...\n",
      "Done\n",
      "=== BASELINE ===\n",
      "TEST DATASET\n"
     ]
    },
    {
     "name": "stderr",
     "output_type": "stream",
     "text": [
      "100%|███████████████████████████████████████████████████████████████████████████████████████████████████████████████████████████| 120/120 [00:00<00:00, 1125.26it/s]\n"
     ]
    },
    {
     "name": "stdout",
     "output_type": "stream",
     "text": [
      "\u001b[32m| Metric               |      Value |\n",
      "|----------------------|------------|\n",
      "| target_probability   |  0.0285923 |\n",
      "| choice_accuracy      |  0.352868  |\n",
      "| choice_accuracy_deg3 |  0.215675  |\n",
      "| precision_top1       |  0.05      |\n",
      "| precision_top5       |  0.108333  |\n",
      "| path_nll             | 25.768     |\n",
      "| path_nll_deg3        | 23.833     |\u001b[0m\n",
      "TRAIN DATASET\n"
     ]
    },
    {
     "name": "stderr",
     "output_type": "stream",
     "text": [
      "100%|███████████████████████████████████████████████████████████████████████████████████████████████████████████████████████████| 480/480 [00:00<00:00, 1417.96it/s]\n"
     ]
    },
    {
     "name": "stdout",
     "output_type": "stream",
     "text": [
      "\u001b[32m| Metric               |      Value |\n",
      "|----------------------|------------|\n",
      "| target_probability   |  0.0709232 |\n",
      "| choice_accuracy      |  0.343753  |\n",
      "| choice_accuracy_deg3 |  0.218531  |\n",
      "| precision_top1       |  0.09375   |\n",
      "| precision_top5       |  0.252083  |\n",
      "| path_nll             | 28.267     |\n",
      "| path_nll_deg3        | 26.3826    |\u001b[0m\n",
      "=== NON BACKTRACKING BASELINE ===\n",
      "TEST DATASET\n"
     ]
    },
    {
     "name": "stderr",
     "output_type": "stream",
     "text": [
      "100%|████████████████████████████████████████████████████████████████████████████████████████████████████████████████████████████| 120/120 [00:00<00:00, 319.30it/s]\n"
     ]
    },
    {
     "name": "stdout",
     "output_type": "stream",
     "text": [
      "\u001b[32m| Metric               |      Value |\n",
      "|----------------------|------------|\n",
      "| target_probability   |  0.0277258 |\n",
      "| choice_accuracy      |  0.373917  |\n",
      "| choice_accuracy_deg3 |  0.248471  |\n",
      "| precision_top1       |  0.0583333 |\n",
      "| precision_top5       |  0.108333  |\n",
      "| path_nll             | 25.2887    |\n",
      "| path_nll_deg3        | 23.3537    |\u001b[0m\n",
      "TRAIN DATASET\n"
     ]
    },
    {
     "name": "stderr",
     "output_type": "stream",
     "text": [
      "100%|████████████████████████████████████████████████████████████████████████████████████████████████████████████████████████████| 480/480 [00:01<00:00, 317.84it/s]"
     ]
    },
    {
     "name": "stdout",
     "output_type": "stream",
     "text": [
      "\u001b[32m| Metric               |      Value |\n",
      "|----------------------|------------|\n",
      "| target_probability   |  0.0699906 |\n",
      "| choice_accuracy      |  0.348979  |\n",
      "| choice_accuracy_deg3 |  0.223592  |\n",
      "| precision_top1       |  0.09375   |\n",
      "| precision_top5       |  0.25      |\n",
      "| path_nll             | 28.0406    |\n",
      "| path_nll_deg3        | 26.1561    |\u001b[0m\n",
      "Computing non backtracking graph... "
     ]
    },
    {
     "name": "stderr",
     "output_type": "stream",
     "text": [
      "\n"
     ]
    },
    {
     "name": "stdout",
     "output_type": "stream",
     "text": [
      "Done\n",
      "\n",
      "=== TEST ===\n",
      "\n"
     ]
    },
    {
     "name": "stderr",
     "output_type": "stream",
     "text": [
      "100%|████████████████████████████████████████████████████████████████████████████████████████████████████████████████████████████| 120/120 [00:00<00:00, 157.32it/s]\n"
     ]
    },
    {
     "name": "stdout",
     "output_type": "stream",
     "text": [
      "\u001b[31m| Metric               |      Value |\n",
      "|----------------------|------------|\n",
      "| target_probability   |  0.0273288 |\n",
      "| choice_accuracy      |  0.336773  |\n",
      "| choice_accuracy_deg3 |  0.176209  |\n",
      "| precision_top1       |  0.05      |\n",
      "| precision_top5       |  0.108333  |\n",
      "| path_nll             | 26.0951    |\n",
      "| path_nll_deg3        | 24.1879    |\u001b[0m\n",
      "\n",
      "=== EPOCH 0 ===\n",
      "Progress 10% | iter 8 | 139.6 pred/s | loss log_dot_loss 0.11078415976630317\n",
      "Progress 20% | iter 17 | 158.0 pred/s | loss log_dot_loss 0.10463165707058376\n",
      "Progress 30% | iter 26 | 152.6 pred/s | loss log_dot_loss 0.10197140728985822\n",
      "Progress 40% | iter 35 | 159.8 pred/s | loss log_dot_loss 0.09005914440861454\n",
      "Progress 50% | iter 44 | 148.6 pred/s | loss log_dot_loss 0.09943475841004172\n",
      "Progress 60% | iter 53 | 156.7 pred/s | loss log_dot_loss 0.09940746095445421\n",
      "Progress 70% | iter 62 | 166.4 pred/s | loss log_dot_loss 0.09166163986111865\n",
      "Progress 80% | iter 71 | 160.5 pred/s | loss log_dot_loss 0.08803507486979166\n",
      "Progress 90% | iter 80 | 149.9 pred/s | loss log_dot_loss 0.09490890620667258\n",
      "Progress 100% | iter 89 | 164.3 pred/s | loss log_dot_loss 0.0816001350497022\n",
      "\n",
      "=== TEST ===\n",
      "\n"
     ]
    },
    {
     "name": "stderr",
     "output_type": "stream",
     "text": [
      "100%|████████████████████████████████████████████████████████████████████████████████████████████████████████████████████████████| 120/120 [00:00<00:00, 161.23it/s]\n"
     ]
    },
    {
     "name": "stdout",
     "output_type": "stream",
     "text": [
      "\u001b[31m| Metric               |      Value |\n",
      "|----------------------|------------|\n",
      "| target_probability   |  0.0475579 |\n",
      "| choice_accuracy      |  0.764342  |\n",
      "| choice_accuracy_deg3 |  0.69483   |\n",
      "| precision_top1       |  0.0416667 |\n",
      "| precision_top5       |  0.291667  |\n",
      "| path_nll             | 16.185     |\n",
      "| path_nll_deg3        | 15.2135    |\u001b[0m\n",
      "Checkpointing...\n",
      "\u001b[34mCheckpoint saved in ../../models/gretel_prediction_models/tromso_small/chkpt/one_start_node_to_target_tromso_small/0000.pt\u001b[0m\n",
      "\n",
      "=== EPOCH 1 ===\n",
      "Progress 10% | iter 8 | 150.0 pred/s | loss log_dot_loss 0.09647061971970546\n",
      "Progress 20% | iter 17 | 163.2 pred/s | loss log_dot_loss 0.09281178521521297\n",
      "Progress 30% | iter 26 | 147.3 pred/s | loss log_dot_loss 0.08514148512004334\n",
      "Progress 40% | iter 35 | 151.3 pred/s | loss log_dot_loss 0.09083553479041583\n",
      "Progress 50% | iter 44 | 143.7 pred/s | loss log_dot_loss 0.08823938016538267\n",
      "Progress 60% | iter 53 | 162.7 pred/s | loss log_dot_loss 0.08348671124305254\n",
      "Progress 70% | iter 62 | 162.9 pred/s | loss log_dot_loss 0.06602409916159548\n",
      "Progress 80% | iter 71 | 160.7 pred/s | loss log_dot_loss 0.08435864271941008\n",
      "Progress 90% | iter 80 | 171.5 pred/s | loss log_dot_loss 0.07079313125139401\n",
      "Progress 100% | iter 89 | 172.6 pred/s | loss log_dot_loss 0.07860416777339982\n",
      "\n",
      "=== TEST ===\n",
      "\n"
     ]
    },
    {
     "name": "stderr",
     "output_type": "stream",
     "text": [
      "100%|████████████████████████████████████████████████████████████████████████████████████████████████████████████████████████████| 120/120 [00:00<00:00, 158.43it/s]\n"
     ]
    },
    {
     "name": "stdout",
     "output_type": "stream",
     "text": [
      "\u001b[31m| Metric               |      Value |\n",
      "|----------------------|------------|\n",
      "| target_probability   |  0.0438943 |\n",
      "| choice_accuracy      |  0.704911  |\n",
      "| choice_accuracy_deg3 |  0.634241  |\n",
      "| precision_top1       |  0.0583333 |\n",
      "| precision_top5       |  0.233333  |\n",
      "| path_nll             | 17.2022    |\n",
      "| path_nll_deg3        | 16.1395    |\u001b[0m\n",
      "\n",
      "=== EPOCH 2 ===\n",
      "Progress 10% | iter 8 | 152.0 pred/s | loss log_dot_loss 0.09092310681755159\n",
      "Progress 20% | iter 17 | 162.4 pred/s | loss log_dot_loss 0.1012698526735659\n",
      "Progress 30% | iter 26 | 149.5 pred/s | loss log_dot_loss 0.08855808281604155\n",
      "Progress 40% | iter 35 | 154.4 pred/s | loss log_dot_loss 0.08636669406184444\n",
      "Progress 50% | iter 44 | 158.0 pred/s | loss log_dot_loss 0.07590963340099947\n",
      "Progress 60% | iter 53 | 159.6 pred/s | loss log_dot_loss 0.08875936225608543\n",
      "Progress 70% | iter 62 | 160.5 pred/s | loss log_dot_loss 0.0768250674377253\n",
      "Progress 80% | iter 71 | 167.0 pred/s | loss log_dot_loss 0.0762589348687066\n",
      "Progress 90% | iter 80 | 163.0 pred/s | loss log_dot_loss 0.09012975045192388\n",
      "Progress 100% | iter 89 | 166.9 pred/s | loss log_dot_loss 0.06882330664881953\n",
      "\n",
      "=== TEST ===\n",
      "\n"
     ]
    },
    {
     "name": "stderr",
     "output_type": "stream",
     "text": [
      "100%|████████████████████████████████████████████████████████████████████████████████████████████████████████████████████████████| 120/120 [00:00<00:00, 161.43it/s]\n"
     ]
    },
    {
     "name": "stdout",
     "output_type": "stream",
     "text": [
      "\u001b[31m| Metric               |      Value |\n",
      "|----------------------|------------|\n",
      "| target_probability   |  0.0556716 |\n",
      "| choice_accuracy      |  0.775898  |\n",
      "| choice_accuracy_deg3 |  0.727626  |\n",
      "| precision_top1       |  0.0666667 |\n",
      "| precision_top5       |  0.458333  |\n",
      "| path_nll             | 15.0084    |\n",
      "| path_nll_deg3        | 14.0023    |\u001b[0m\n",
      "\n",
      "=== EPOCH 3 ===\n",
      "Progress 10% | iter 8 | 152.9 pred/s | loss log_dot_loss 0.08988812705616891\n",
      "Progress 20% | iter 17 | 161.5 pred/s | loss log_dot_loss 0.06958959190933792\n",
      "Progress 30% | iter 26 | 161.3 pred/s | loss log_dot_loss 0.08248266879423165\n",
      "Progress 40% | iter 35 | 162.2 pred/s | loss log_dot_loss 0.07866350750864287\n",
      "Progress 50% | iter 44 | 153.7 pred/s | loss log_dot_loss 0.0835773691718961\n",
      "Progress 60% | iter 53 | 158.1 pred/s | loss log_dot_loss 0.07462790041794012\n",
      "Progress 70% | iter 62 | 165.2 pred/s | loss log_dot_loss 0.07681734826829699\n",
      "Progress 80% | iter 71 | 149.8 pred/s | loss log_dot_loss 0.09524515646475332\n",
      "Progress 90% | iter 80 | 161.0 pred/s | loss log_dot_loss 0.08681907594939808\n",
      "Progress 100% | iter 89 | 151.2 pred/s | loss log_dot_loss 0.08546350208329566\n",
      "\n",
      "=== TEST ===\n",
      "\n"
     ]
    },
    {
     "name": "stderr",
     "output_type": "stream",
     "text": [
      "100%|████████████████████████████████████████████████████████████████████████████████████████████████████████████████████████████| 120/120 [00:00<00:00, 160.87it/s]\n"
     ]
    },
    {
     "name": "stdout",
     "output_type": "stream",
     "text": [
      "\u001b[31m| Metric               |      Value |\n",
      "|----------------------|------------|\n",
      "| target_probability   |  0.0488963 |\n",
      "| choice_accuracy      |  0.732976  |\n",
      "| choice_accuracy_deg3 |  0.668149  |\n",
      "| precision_top1       |  0.0833333 |\n",
      "| precision_top5       |  0.175     |\n",
      "| path_nll             | 16.3385    |\n",
      "| path_nll_deg3        | 15.292     |\u001b[0m\n",
      "\n",
      "=== EPOCH 4 ===\n",
      "Progress 10% | iter 8 | 158.4 pred/s | loss log_dot_loss 0.09221685962912476\n",
      "Progress 20% | iter 17 | 148.9 pred/s | loss log_dot_loss 0.07613986097736124\n",
      "Progress 30% | iter 26 | 163.9 pred/s | loss log_dot_loss 0.08553398862297153\n",
      "Progress 40% | iter 35 | 158.1 pred/s | loss log_dot_loss 0.08805578608571747\n",
      "Progress 50% | iter 44 | 162.8 pred/s | loss log_dot_loss 0.07113977391042826\n",
      "Progress 60% | iter 53 | 171.9 pred/s | loss log_dot_loss 0.08812028802471396\n",
      "Progress 70% | iter 62 | 149.1 pred/s | loss log_dot_loss 0.08736081064483266\n",
      "Progress 80% | iter 71 | 159.3 pred/s | loss log_dot_loss 0.07575003423808534\n",
      "Progress 90% | iter 80 | 155.3 pred/s | loss log_dot_loss 0.0824666146878843\n",
      "Progress 100% | iter 89 | 153.6 pred/s | loss log_dot_loss 0.09752333546862191\n",
      "\n",
      "=== TEST ===\n",
      "\n"
     ]
    },
    {
     "name": "stderr",
     "output_type": "stream",
     "text": [
      "100%|████████████████████████████████████████████████████████████████████████████████████████████████████████████████████████████| 120/120 [00:00<00:00, 161.64it/s]\n"
     ]
    },
    {
     "name": "stdout",
     "output_type": "stream",
     "text": [
      "\u001b[31m| Metric               |     Value |\n",
      "|----------------------|-----------|\n",
      "| target_probability   |  0.059399 |\n",
      "| choice_accuracy      |  0.762278 |\n",
      "| choice_accuracy_deg3 |  0.69761  |\n",
      "| precision_top1       |  0.075    |\n",
      "| precision_top5       |  0.316667 |\n",
      "| path_nll             | 15.4345   |\n",
      "| path_nll_deg3        | 14.7477   |\u001b[0m\n",
      "\n",
      "=== EPOCH 5 ===\n",
      "Progress 10% | iter 8 | 164.3 pred/s | loss log_dot_loss 0.08199382505299133\n",
      "Progress 20% | iter 17 | 160.8 pred/s | loss log_dot_loss 0.07760578909038025\n",
      "Progress 30% | iter 26 | 157.1 pred/s | loss log_dot_loss 0.0666000598742638\n",
      "Progress 40% | iter 35 | 154.0 pred/s | loss log_dot_loss 0.07935488017988794\n",
      "Progress 50% | iter 44 | 160.9 pred/s | loss log_dot_loss 0.08286947203271183\n",
      "Progress 60% | iter 53 | 154.7 pred/s | loss log_dot_loss 0.08922822975818022\n",
      "Progress 70% | iter 62 | 160.8 pred/s | loss log_dot_loss 0.0744080384572347\n",
      "Progress 80% | iter 71 | 158.1 pred/s | loss log_dot_loss 0.08451125003673413\n",
      "Progress 90% | iter 80 | 153.2 pred/s | loss log_dot_loss 0.10574211367854366\n",
      "Progress 100% | iter 89 | 163.8 pred/s | loss log_dot_loss 0.08396254351109635\n",
      "\n",
      "=== TEST ===\n",
      "\n"
     ]
    },
    {
     "name": "stderr",
     "output_type": "stream",
     "text": [
      "100%|████████████████████████████████████████████████████████████████████████████████████████████████████████████████████████████| 120/120 [00:00<00:00, 160.41it/s]\n"
     ]
    },
    {
     "name": "stdout",
     "output_type": "stream",
     "text": [
      "\u001b[31m| Metric               |      Value |\n",
      "|----------------------|------------|\n",
      "| target_probability   |  0.0672209 |\n",
      "| choice_accuracy      |  0.752786  |\n",
      "| choice_accuracy_deg3 |  0.697054  |\n",
      "| precision_top1       |  0.1       |\n",
      "| precision_top5       |  0.308333  |\n",
      "| path_nll             | 15.7995    |\n",
      "| path_nll_deg3        | 14.9978    |\u001b[0m\n",
      "Checkpointing...\n",
      "\u001b[34mCheckpoint saved in ../../models/gretel_prediction_models/tromso_small/chkpt/one_start_node_to_target_tromso_small/0005.pt\u001b[0m\n",
      "\n",
      "=== EPOCH 6 ===\n",
      "Progress 10% | iter 8 | 163.4 pred/s | loss log_dot_loss 0.07699556291839223\n",
      "Progress 20% | iter 17 | 155.9 pred/s | loss log_dot_loss 0.08876772456698948\n",
      "Progress 30% | iter 26 | 150.8 pred/s | loss log_dot_loss 0.07888548580216773\n",
      "Progress 40% | iter 35 | 148.1 pred/s | loss log_dot_loss 0.07702529518692582\n",
      "Progress 50% | iter 44 | 153.0 pred/s | loss log_dot_loss 0.08232892648673353\n",
      "Progress 60% | iter 53 | 170.4 pred/s | loss log_dot_loss 0.05979931796038593\n",
      "Progress 70% | iter 62 | 163.7 pred/s | loss log_dot_loss 0.08855444119300372\n",
      "Progress 80% | iter 71 | 156.1 pred/s | loss log_dot_loss 0.07663081722494997\n",
      "Progress 90% | iter 80 | 156.2 pred/s | loss log_dot_loss 0.09073970759356463\n",
      "Progress 100% | iter 89 | 168.2 pred/s | loss log_dot_loss 0.07978421376075275\n",
      "\n",
      "=== TEST ===\n",
      "\n"
     ]
    },
    {
     "name": "stderr",
     "output_type": "stream",
     "text": [
      "100%|████████████████████████████████████████████████████████████████████████████████████████████████████████████████████████████| 120/120 [00:00<00:00, 160.95it/s]\n"
     ]
    },
    {
     "name": "stdout",
     "output_type": "stream",
     "text": [
      "\u001b[31m| Metric               |      Value |\n",
      "|----------------------|------------|\n",
      "| target_probability   |  0.0581083 |\n",
      "| choice_accuracy      |  0.67726   |\n",
      "| choice_accuracy_deg3 |  0.608116  |\n",
      "| precision_top1       |  0.0833333 |\n",
      "| precision_top5       |  0.416667  |\n",
      "| path_nll             | 17.2642    |\n",
      "| path_nll_deg3        | 16.1831    |\u001b[0m\n",
      "\n",
      "=== EPOCH 7 ===\n",
      "Progress 10% | iter 8 | 156.3 pred/s | loss log_dot_loss 0.0744709332784017\n",
      "Progress 20% | iter 17 | 158.1 pred/s | loss log_dot_loss 0.095814656033928\n",
      "Progress 30% | iter 26 | 166.7 pred/s | loss log_dot_loss 0.08244124106418939\n",
      "Progress 40% | iter 35 | 162.9 pred/s | loss log_dot_loss 0.0817472964157293\n",
      "Progress 50% | iter 44 | 151.4 pred/s | loss log_dot_loss 0.07608607610066732\n",
      "Progress 60% | iter 53 | 155.0 pred/s | loss log_dot_loss 0.08263714519547827\n",
      "Progress 70% | iter 62 | 162.9 pred/s | loss log_dot_loss 0.08141107971285597\n",
      "Progress 80% | iter 71 | 159.9 pred/s | loss log_dot_loss 0.07669291967227135\n",
      "Progress 90% | iter 80 | 163.6 pred/s | loss log_dot_loss 0.08064256067629214\n",
      "Progress 100% | iter 89 | 155.2 pred/s | loss log_dot_loss 0.09334504869249131\n",
      "\n",
      "=== TEST ===\n",
      "\n"
     ]
    },
    {
     "name": "stderr",
     "output_type": "stream",
     "text": [
      "100%|████████████████████████████████████████████████████████████████████████████████████████████████████████████████████████████| 120/120 [00:00<00:00, 161.40it/s]\n"
     ]
    },
    {
     "name": "stdout",
     "output_type": "stream",
     "text": [
      "\u001b[31m| Metric               |      Value |\n",
      "|----------------------|------------|\n",
      "| target_probability   |  0.0610673 |\n",
      "| choice_accuracy      |  0.719769  |\n",
      "| choice_accuracy_deg3 |  0.637021  |\n",
      "| precision_top1       |  0.158333  |\n",
      "| precision_top5       |  0.408333  |\n",
      "| path_nll             | 16.2297    |\n",
      "| path_nll_deg3        | 15.4521    |\u001b[0m\n",
      "\n",
      "=== EPOCH 8 ===\n",
      "Progress 10% | iter 8 | 148.6 pred/s | loss log_dot_loss 0.07677916479699406\n",
      "Progress 20% | iter 17 | 147.1 pred/s | loss log_dot_loss 0.08053434748708467\n",
      "Progress 30% | iter 26 | 161.2 pred/s | loss log_dot_loss 0.08051605106871805\n",
      "Progress 40% | iter 35 | 160.6 pred/s | loss log_dot_loss 0.07896355876216182\n",
      "Progress 50% | iter 44 | 166.9 pred/s | loss log_dot_loss 0.08132188202422343\n",
      "Progress 60% | iter 53 | 162.1 pred/s | loss log_dot_loss 0.07827858689390584\n",
      "Progress 70% | iter 62 | 155.7 pred/s | loss log_dot_loss 0.08035623997817805\n",
      "Progress 80% | iter 71 | 152.9 pred/s | loss log_dot_loss 0.09611303718001754\n",
      "Progress 90% | iter 80 | 168.0 pred/s | loss log_dot_loss 0.08202601774239246\n",
      "Progress 100% | iter 89 | 159.2 pred/s | loss log_dot_loss 0.11272646115149981\n",
      "\n",
      "=== TEST ===\n",
      "\n"
     ]
    },
    {
     "name": "stderr",
     "output_type": "stream",
     "text": [
      "100%|████████████████████████████████████████████████████████████████████████████████████████████████████████████████████████████| 120/120 [00:00<00:00, 161.37it/s]\n"
     ]
    },
    {
     "name": "stdout",
     "output_type": "stream",
     "text": [
      "\u001b[31m| Metric               |      Value |\n",
      "|----------------------|------------|\n",
      "| target_probability   |  0.042431  |\n",
      "| choice_accuracy      |  0.669831  |\n",
      "| choice_accuracy_deg3 |  0.581434  |\n",
      "| precision_top1       |  0.0416667 |\n",
      "| precision_top5       |  0.333333  |\n",
      "| path_nll             | 17.1562    |\n",
      "| path_nll_deg3        | 16.2166    |\u001b[0m\n",
      "\n",
      "=== EPOCH 9 ===\n",
      "Progress 10% | iter 8 | 167.5 pred/s | loss log_dot_loss 0.08095914287331664\n",
      "Progress 20% | iter 17 | 152.3 pred/s | loss log_dot_loss 0.07710503943172502\n",
      "Progress 30% | iter 26 | 159.6 pred/s | loss log_dot_loss 0.09705251999843267\n",
      "Progress 40% | iter 35 | 156.4 pred/s | loss log_dot_loss 0.08885139594843358\n",
      "Progress 50% | iter 44 | 154.1 pred/s | loss log_dot_loss 0.08787409170174304\n",
      "Progress 60% | iter 53 | 171.2 pred/s | loss log_dot_loss 0.0931084073620078\n",
      "Progress 70% | iter 62 | 166.0 pred/s | loss log_dot_loss 0.08495931154415931\n",
      "Progress 80% | iter 71 | 148.7 pred/s | loss log_dot_loss 0.07584058443705241\n",
      "Progress 90% | iter 80 | 162.7 pred/s | loss log_dot_loss 0.07013432125986357\n",
      "Progress 100% | iter 89 | 157.4 pred/s | loss log_dot_loss 0.09301722962179303\n",
      "\n",
      "=== TEST ===\n",
      "\n"
     ]
    },
    {
     "name": "stderr",
     "output_type": "stream",
     "text": [
      "100%|████████████████████████████████████████████████████████████████████████████████████████████████████████████████████████████| 120/120 [00:00<00:00, 160.47it/s]\n"
     ]
    },
    {
     "name": "stdout",
     "output_type": "stream",
     "text": [
      "\u001b[31m| Metric               |      Value |\n",
      "|----------------------|------------|\n",
      "| target_probability   |  0.0653107 |\n",
      "| choice_accuracy      |  0.741643  |\n",
      "| choice_accuracy_deg3 |  0.673152  |\n",
      "| precision_top1       |  0.1       |\n",
      "| precision_top5       |  0.5       |\n",
      "| path_nll             | 15.9247    |\n",
      "| path_nll_deg3        | 15.0135    |\u001b[0m\n",
      "\n",
      "=== EPOCH 10 ===\n",
      "Progress 10% | iter 8 | 158.5 pred/s | loss log_dot_loss 0.08123186782554344\n",
      "Progress 20% | iter 17 | 158.7 pred/s | loss log_dot_loss 0.08028481448138201\n",
      "Progress 30% | iter 26 | 170.5 pred/s | loss log_dot_loss 0.07521463912210347\n",
      "Progress 40% | iter 35 | 168.3 pred/s | loss log_dot_loss 0.08029443069740579\n",
      "Progress 50% | iter 44 | 160.4 pred/s | loss log_dot_loss 0.07625124748842216\n",
      "Progress 60% | iter 53 | 154.4 pred/s | loss log_dot_loss 0.07047258365301438\n",
      "Progress 70% | iter 62 | 155.1 pred/s | loss log_dot_loss 0.07434149023927288\n",
      "Progress 80% | iter 71 | 157.5 pred/s | loss log_dot_loss 0.0843922597390634\n",
      "Progress 90% | iter 80 | 149.5 pred/s | loss log_dot_loss 0.08078799659823194\n",
      "Progress 100% | iter 89 | 161.9 pred/s | loss log_dot_loss 0.0772216037467674\n",
      "\n",
      "=== TEST ===\n",
      "\n"
     ]
    },
    {
     "name": "stderr",
     "output_type": "stream",
     "text": [
      "100%|████████████████████████████████████████████████████████████████████████████████████████████████████████████████████████████| 120/120 [00:00<00:00, 160.66it/s]\n"
     ]
    },
    {
     "name": "stdout",
     "output_type": "stream",
     "text": [
      "\u001b[31m| Metric               |      Value |\n",
      "|----------------------|------------|\n",
      "| target_probability   |  0.0820491 |\n",
      "| choice_accuracy      |  0.757738  |\n",
      "| choice_accuracy_deg3 |  0.69761   |\n",
      "| precision_top1       |  0.1       |\n",
      "| precision_top5       |  0.466667  |\n",
      "| path_nll             | 15.8661    |\n",
      "| path_nll_deg3        | 14.95      |\u001b[0m\n",
      "Checkpointing...\n",
      "\u001b[34mCheckpoint saved in ../../models/gretel_prediction_models/tromso_small/chkpt/one_start_node_to_target_tromso_small/0010.pt\u001b[0m\n",
      "\n",
      "=== EPOCH 11 ===\n",
      "Progress 10% | iter 8 | 156.8 pred/s | loss log_dot_loss 0.06783325642715266\n",
      "Progress 20% | iter 17 | 166.1 pred/s | loss log_dot_loss 0.06705594416017885\n",
      "Progress 30% | iter 26 | 162.3 pred/s | loss log_dot_loss 0.07079994943406846\n",
      "Progress 40% | iter 35 | 156.1 pred/s | loss log_dot_loss 0.07280640042858359\n",
      "Progress 50% | iter 44 | 164.2 pred/s | loss log_dot_loss 0.08687883953989288\n",
      "Progress 60% | iter 53 | 150.1 pred/s | loss log_dot_loss 0.08602919696289815\n",
      "Progress 70% | iter 62 | 153.4 pred/s | loss log_dot_loss 0.06609586491996859\n",
      "Progress 80% | iter 71 | 159.4 pred/s | loss log_dot_loss 0.07724032048825864\n",
      "Progress 90% | iter 80 | 159.6 pred/s | loss log_dot_loss 0.0855324939445213\n",
      "Progress 100% | iter 89 | 162.5 pred/s | loss log_dot_loss 0.08962968838067703\n",
      "\n",
      "=== TEST ===\n",
      "\n"
     ]
    },
    {
     "name": "stderr",
     "output_type": "stream",
     "text": [
      "100%|████████████████████████████████████████████████████████████████████████████████████████████████████████████████████████████| 120/120 [00:00<00:00, 159.51it/s]\n"
     ]
    },
    {
     "name": "stdout",
     "output_type": "stream",
     "text": [
      "\u001b[31m| Metric               |      Value |\n",
      "|----------------------|------------|\n",
      "| target_probability   |  0.0629647 |\n",
      "| choice_accuracy      |  0.752786  |\n",
      "| choice_accuracy_deg3 |  0.685381  |\n",
      "| precision_top1       |  0.0666667 |\n",
      "| precision_top5       |  0.416667  |\n",
      "| path_nll             | 16.1897    |\n",
      "| path_nll_deg3        | 15.315     |\u001b[0m\n",
      "\n",
      "=== EPOCH 12 ===\n",
      "Progress 10% | iter 8 | 149.7 pred/s | loss log_dot_loss 0.07702087414117507\n",
      "Progress 20% | iter 17 | 158.3 pred/s | loss log_dot_loss 0.07820127510730131\n",
      "Progress 30% | iter 26 | 165.7 pred/s | loss log_dot_loss 0.0785453337210196\n",
      "Progress 40% | iter 35 | 157.1 pred/s | loss log_dot_loss 0.076487319852099\n",
      "Progress 50% | iter 44 | 153.8 pred/s | loss log_dot_loss 0.09004957881974585\n",
      "Progress 60% | iter 53 | 153.1 pred/s | loss log_dot_loss 0.07426489547446921\n",
      "Progress 70% | iter 62 | 160.6 pred/s | loss log_dot_loss 0.08989553687013226\n",
      "Progress 80% | iter 71 | 159.9 pred/s | loss log_dot_loss 0.08181205443394036\n",
      "Progress 90% | iter 80 | 172.3 pred/s | loss log_dot_loss 0.08727923793557249\n",
      "Progress 100% | iter 89 | 156.8 pred/s | loss log_dot_loss 0.08198641317862052\n",
      "\n",
      "=== TEST ===\n",
      "\n"
     ]
    },
    {
     "name": "stderr",
     "output_type": "stream",
     "text": [
      "100%|████████████████████████████████████████████████████████████████████████████████████████████████████████████████████████████| 120/120 [00:00<00:00, 161.78it/s]\n"
     ]
    },
    {
     "name": "stdout",
     "output_type": "stream",
     "text": [
      "\u001b[31m| Metric               |      Value |\n",
      "|----------------------|------------|\n",
      "| target_probability   |  0.0514784 |\n",
      "| choice_accuracy      |  0.713578  |\n",
      "| choice_accuracy_deg3 |  0.635909  |\n",
      "| precision_top1       |  0.0583333 |\n",
      "| precision_top5       |  0.45      |\n",
      "| path_nll             | 15.9195    |\n",
      "| path_nll_deg3        | 15.1551    |\u001b[0m\n",
      "\n",
      "=== EPOCH 13 ===\n",
      "Progress 10% | iter 8 | 148.9 pred/s | loss log_dot_loss 0.08078859176164792\n",
      "Progress 20% | iter 17 | 158.1 pred/s | loss log_dot_loss 0.07845449565369406\n",
      "Progress 30% | iter 26 | 144.2 pred/s | loss log_dot_loss 0.07919344195613154\n",
      "Progress 40% | iter 35 | 176.7 pred/s | loss log_dot_loss 0.07879813276691201\n",
      "Progress 50% | iter 44 | 151.4 pred/s | loss log_dot_loss 0.08366351068755726\n",
      "Progress 60% | iter 53 | 163.9 pred/s | loss log_dot_loss 0.0805994928619008\n",
      "Progress 70% | iter 62 | 163.4 pred/s | loss log_dot_loss 0.07807909412148559\n",
      "Progress 80% | iter 71 | 165.9 pred/s | loss log_dot_loss 0.0826649754135697\n",
      "Progress 90% | iter 80 | 154.2 pred/s | loss log_dot_loss 0.0938013212180432\n",
      "Progress 100% | iter 89 | 172.0 pred/s | loss log_dot_loss 0.07769228558481475\n",
      "\n",
      "=== TEST ===\n",
      "\n"
     ]
    },
    {
     "name": "stderr",
     "output_type": "stream",
     "text": [
      "100%|████████████████████████████████████████████████████████████████████████████████████████████████████████████████████████████| 120/120 [00:00<00:00, 160.40it/s]\n"
     ]
    },
    {
     "name": "stdout",
     "output_type": "stream",
     "text": [
      "\u001b[31m| Metric               |      Value |\n",
      "|----------------------|------------|\n",
      "| target_probability   |  0.0681594 |\n",
      "| choice_accuracy      |  0.713165  |\n",
      "| choice_accuracy_deg3 |  0.637576  |\n",
      "| precision_top1       |  0.0666667 |\n",
      "| precision_top5       |  0.533333  |\n",
      "| path_nll             | 16.2129    |\n",
      "| path_nll_deg3        | 15.4781    |\u001b[0m\n",
      "\n",
      "=== EPOCH 14 ===\n",
      "Progress 10% | iter 8 | 162.3 pred/s | loss log_dot_loss 0.08173068776542758\n",
      "Progress 20% | iter 17 | 159.4 pred/s | loss log_dot_loss 0.07449602256586522\n",
      "Progress 30% | iter 26 | 158.9 pred/s | loss log_dot_loss 0.08280995392505033\n",
      "Progress 40% | iter 35 | 154.3 pred/s | loss log_dot_loss 0.07926010879469507\n",
      "Progress 50% | iter 44 | 152.7 pred/s | loss log_dot_loss 0.07817625175287694\n",
      "Progress 60% | iter 53 | 151.6 pred/s | loss log_dot_loss 0.08639781386763962\n",
      "Progress 70% | iter 62 | 164.1 pred/s | loss log_dot_loss 0.06848458066398715\n",
      "Progress 80% | iter 71 | 156.3 pred/s | loss log_dot_loss 0.0897148668030162\n",
      "Progress 90% | iter 80 | 159.2 pred/s | loss log_dot_loss 0.0806965904471315\n",
      "Progress 100% | iter 89 | 172.0 pred/s | loss log_dot_loss 0.07862938421743888\n",
      "\n",
      "=== TEST ===\n",
      "\n"
     ]
    },
    {
     "name": "stderr",
     "output_type": "stream",
     "text": [
      "100%|████████████████████████████████████████████████████████████████████████████████████████████████████████████████████████████| 120/120 [00:00<00:00, 160.77it/s]\n"
     ]
    },
    {
     "name": "stdout",
     "output_type": "stream",
     "text": [
      "\u001b[31m| Metric               |      Value |\n",
      "|----------------------|------------|\n",
      "| target_probability   |  0.0639779 |\n",
      "| choice_accuracy      |  0.733801  |\n",
      "| choice_accuracy_deg3 |  0.667593  |\n",
      "| precision_top1       |  0.05      |\n",
      "| precision_top5       |  0.291667  |\n",
      "| path_nll             | 15.9341    |\n",
      "| path_nll_deg3        | 15.0844    |\u001b[0m\n",
      "\n",
      "=== EPOCH 15 ===\n",
      "Progress 10% | iter 8 | 168.5 pred/s | loss log_dot_loss 0.0744486579188594\n",
      "Progress 20% | iter 17 | 151.4 pred/s | loss log_dot_loss 0.08243466483222114\n",
      "Progress 30% | iter 26 | 159.3 pred/s | loss log_dot_loss 0.08151626586914062\n",
      "Progress 40% | iter 35 | 152.1 pred/s | loss log_dot_loss 0.08350685202045205\n",
      "Progress 50% | iter 44 | 159.2 pred/s | loss log_dot_loss 0.07240712848710425\n",
      "Progress 60% | iter 53 | 151.5 pred/s | loss log_dot_loss 0.07601631894523715\n",
      "Progress 70% | iter 62 | 173.7 pred/s | loss log_dot_loss 0.0857497344782323\n",
      "Progress 80% | iter 71 | 162.9 pred/s | loss log_dot_loss 0.08913352224561903\n",
      "Progress 90% | iter 80 | 144.3 pred/s | loss log_dot_loss 0.06353645589616563\n",
      "Progress 100% | iter 89 | 160.1 pred/s | loss log_dot_loss 0.09260629960048344\n",
      "\n",
      "=== TEST ===\n",
      "\n"
     ]
    },
    {
     "name": "stderr",
     "output_type": "stream",
     "text": [
      "100%|████████████████████████████████████████████████████████████████████████████████████████████████████████████████████████████| 120/120 [00:00<00:00, 160.64it/s]\n"
     ]
    },
    {
     "name": "stdout",
     "output_type": "stream",
     "text": [
      "\u001b[31m| Metric               |      Value |\n",
      "|----------------------|------------|\n",
      "| target_probability   |  0.0784849 |\n",
      "| choice_accuracy      |  0.749484  |\n",
      "| choice_accuracy_deg3 |  0.686492  |\n",
      "| precision_top1       |  0.0583333 |\n",
      "| precision_top5       |  0.316667  |\n",
      "| path_nll             | 17.5074    |\n",
      "| path_nll_deg3        | 16.5327    |\u001b[0m\n",
      "Checkpointing...\n",
      "\u001b[34mCheckpoint saved in ../../models/gretel_prediction_models/tromso_small/chkpt/one_start_node_to_target_tromso_small/0015.pt\u001b[0m\n",
      "\n",
      "=== EPOCH 16 ===\n",
      "Progress 10% | iter 8 | 159.0 pred/s | loss log_dot_loss 0.08060073204982428\n",
      "Progress 20% | iter 17 | 156.3 pred/s | loss log_dot_loss 0.0798017066202046\n",
      "Progress 30% | iter 26 | 162.1 pred/s | loss log_dot_loss 0.08571430959819276\n",
      "Progress 40% | iter 35 | 154.0 pred/s | loss log_dot_loss 0.07082317140367296\n",
      "Progress 50% | iter 44 | 156.1 pred/s | loss log_dot_loss 0.08373114091378671\n",
      "Progress 60% | iter 53 | 163.0 pred/s | loss log_dot_loss 0.08797519354172695\n",
      "Progress 70% | iter 62 | 159.9 pred/s | loss log_dot_loss 0.08862639827492796\n",
      "Progress 80% | iter 71 | 163.8 pred/s | loss log_dot_loss 0.07592776969627098\n",
      "Progress 90% | iter 80 | 164.2 pred/s | loss log_dot_loss 0.0836274594436457\n",
      "Progress 100% | iter 89 | 162.2 pred/s | loss log_dot_loss 0.0875448927467252\n",
      "\n",
      "=== TEST ===\n",
      "\n"
     ]
    },
    {
     "name": "stderr",
     "output_type": "stream",
     "text": [
      "100%|████████████████████████████████████████████████████████████████████████████████████████████████████████████████████████████| 120/120 [00:00<00:00, 161.77it/s]\n"
     ]
    },
    {
     "name": "stdout",
     "output_type": "stream",
     "text": [
      "\u001b[31m| Metric               |      Value |\n",
      "|----------------------|------------|\n",
      "| target_probability   |  0.0599172 |\n",
      "| choice_accuracy      |  0.731738  |\n",
      "| choice_accuracy_deg3 |  0.663702  |\n",
      "| precision_top1       |  0.0833333 |\n",
      "| precision_top5       |  0.258333  |\n",
      "| path_nll             | 17.5627    |\n",
      "| path_nll_deg3        | 16.362     |\u001b[0m\n",
      "\n",
      "=== EPOCH 17 ===\n",
      "Progress 10% | iter 8 | 149.6 pred/s | loss log_dot_loss 0.08546404485349303\n",
      "Progress 20% | iter 17 | 162.2 pred/s | loss log_dot_loss 0.07717089535277567\n",
      "Progress 30% | iter 26 | 165.9 pred/s | loss log_dot_loss 0.08502716782652302\n",
      "Progress 40% | iter 35 | 166.9 pred/s | loss log_dot_loss 0.06702783549273456\n",
      "Progress 50% | iter 44 | 157.2 pred/s | loss log_dot_loss 0.0818197167949912\n",
      "Progress 60% | iter 53 | 171.5 pred/s | loss log_dot_loss 0.07916868939811801\n",
      "Progress 70% | iter 62 | 146.3 pred/s | loss log_dot_loss 0.09142512745327419\n",
      "Progress 80% | iter 71 | 170.7 pred/s | loss log_dot_loss 0.0928227306884012\n",
      "Progress 90% | iter 80 | 153.5 pred/s | loss log_dot_loss 0.07885540620780286\n",
      "Progress 100% | iter 89 | 161.5 pred/s | loss log_dot_loss 0.07768708335028754\n",
      "\n",
      "=== TEST ===\n",
      "\n"
     ]
    },
    {
     "name": "stderr",
     "output_type": "stream",
     "text": [
      "100%|████████████████████████████████████████████████████████████████████████████████████████████████████████████████████████████| 120/120 [00:00<00:00, 162.60it/s]\n"
     ]
    },
    {
     "name": "stdout",
     "output_type": "stream",
     "text": [
      "\u001b[31m| Metric               |      Value |\n",
      "|----------------------|------------|\n",
      "| target_probability   |  0.0575505 |\n",
      "| choice_accuracy      |  0.747008  |\n",
      "| choice_accuracy_deg3 |  0.677043  |\n",
      "| precision_top1       |  0.1       |\n",
      "| precision_top5       |  0.266667  |\n",
      "| path_nll             | 16.6624    |\n",
      "| path_nll_deg3        | 15.8622    |\u001b[0m\n",
      "\n",
      "=== EPOCH 18 ===\n",
      "Progress 10% | iter 8 | 149.6 pred/s | loss log_dot_loss 0.09085465537177193\n",
      "Progress 20% | iter 17 | 156.1 pred/s | loss log_dot_loss 0.08168688350253635\n",
      "Progress 30% | iter 26 | 168.4 pred/s | loss log_dot_loss 0.08482831319173177\n",
      "Progress 40% | iter 35 | 169.7 pred/s | loss log_dot_loss 0.07159063786636163\n",
      "Progress 50% | iter 44 | 157.1 pred/s | loss log_dot_loss 0.07347504003548327\n",
      "Progress 60% | iter 53 | 162.2 pred/s | loss log_dot_loss 0.08512625929750042\n",
      "Progress 70% | iter 62 | 158.4 pred/s | loss log_dot_loss 0.0771146203264778\n",
      "Progress 80% | iter 71 | 167.9 pred/s | loss log_dot_loss 0.09180347301341868\n",
      "Progress 90% | iter 80 | 166.9 pred/s | loss log_dot_loss 0.07138839709905931\n",
      "Progress 100% | iter 89 | 159.0 pred/s | loss log_dot_loss 0.07636670065514836\n",
      "\n",
      "=== TEST ===\n",
      "\n"
     ]
    },
    {
     "name": "stderr",
     "output_type": "stream",
     "text": [
      "100%|████████████████████████████████████████████████████████████████████████████████████████████████████████████████████████████| 120/120 [00:00<00:00, 161.35it/s]\n"
     ]
    },
    {
     "name": "stdout",
     "output_type": "stream",
     "text": [
      "\u001b[31m| Metric               |      Value |\n",
      "|----------------------|------------|\n",
      "| target_probability   |  0.0585775 |\n",
      "| choice_accuracy      |  0.735865  |\n",
      "| choice_accuracy_deg3 |  0.66259   |\n",
      "| precision_top1       |  0.108333  |\n",
      "| precision_top5       |  0.266667  |\n",
      "| path_nll             | 16.4379    |\n",
      "| path_nll_deg3        | 15.4977    |\u001b[0m\n",
      "\n",
      "=== EPOCH 19 ===\n",
      "Progress 10% | iter 8 | 162.3 pred/s | loss log_dot_loss 0.08705351911945108\n",
      "Progress 20% | iter 17 | 162.2 pred/s | loss log_dot_loss 0.07055590947469076\n",
      "Progress 30% | iter 26 | 162.3 pred/s | loss log_dot_loss 0.07284243901570638\n",
      "Progress 40% | iter 35 | 158.3 pred/s | loss log_dot_loss 0.10407939545902206\n",
      "Progress 50% | iter 44 | 157.6 pred/s | loss log_dot_loss 0.07416839246396666\n",
      "Progress 60% | iter 53 | 150.4 pred/s | loss log_dot_loss 0.08235241454324604\n",
      "Progress 70% | iter 62 | 159.5 pred/s | loss log_dot_loss 0.08844291722332989\n",
      "Progress 80% | iter 71 | 159.9 pred/s | loss log_dot_loss 0.06831642050801973\n",
      "Progress 90% | iter 80 | 164.7 pred/s | loss log_dot_loss 0.07900145259904272\n",
      "Progress 100% | iter 89 | 171.2 pred/s | loss log_dot_loss 0.07176210026682159\n",
      "\n",
      "=== TEST ===\n",
      "\n"
     ]
    },
    {
     "name": "stderr",
     "output_type": "stream",
     "text": [
      "100%|████████████████████████████████████████████████████████████████████████████████████████████████████████████████████████████| 120/120 [00:00<00:00, 163.17it/s]\n"
     ]
    },
    {
     "name": "stdout",
     "output_type": "stream",
     "text": [
      "\u001b[31m| Metric               |      Value |\n",
      "|----------------------|------------|\n",
      "| target_probability   |  0.0601903 |\n",
      "| choice_accuracy      |  0.72596   |\n",
      "| choice_accuracy_deg3 |  0.64925   |\n",
      "| precision_top1       |  0.133333  |\n",
      "| precision_top5       |  0.275     |\n",
      "| path_nll             | 16.6221    |\n",
      "| path_nll_deg3        | 15.6893    |\u001b[0m\n",
      "\n",
      "=== EPOCH 20 ===\n",
      "Progress 10% | iter 8 | 167.8 pred/s | loss log_dot_loss 0.07326602612012698\n",
      "Progress 20% | iter 17 | 166.0 pred/s | loss log_dot_loss 0.08546671985108176\n",
      "Progress 30% | iter 26 | 150.8 pred/s | loss log_dot_loss 0.07711015512913834\n",
      "Progress 40% | iter 35 | 162.1 pred/s | loss log_dot_loss 0.08378412105419018\n",
      "Progress 50% | iter 44 | 163.0 pred/s | loss log_dot_loss 0.06792252269791968\n",
      "Progress 60% | iter 53 | 158.5 pred/s | loss log_dot_loss 0.07232608971772371\n",
      "Progress 70% | iter 62 | 168.2 pred/s | loss log_dot_loss 0.0770808113945855\n",
      "Progress 80% | iter 71 | 164.6 pred/s | loss log_dot_loss 0.08741916609399113\n",
      "Progress 90% | iter 80 | 156.0 pred/s | loss log_dot_loss 0.08931151613777068\n",
      "Progress 100% | iter 89 | 155.5 pred/s | loss log_dot_loss 0.08686255113578137\n",
      "\n",
      "=== TEST ===\n",
      "\n"
     ]
    },
    {
     "name": "stderr",
     "output_type": "stream",
     "text": [
      "100%|████████████████████████████████████████████████████████████████████████████████████████████████████████████████████████████| 120/120 [00:00<00:00, 163.37it/s]\n"
     ]
    },
    {
     "name": "stdout",
     "output_type": "stream",
     "text": [
      "\u001b[31m| Metric               |      Value |\n",
      "|----------------------|------------|\n",
      "| target_probability   |  0.0625853 |\n",
      "| choice_accuracy      |  0.73215   |\n",
      "| choice_accuracy_deg3 |  0.657588  |\n",
      "| precision_top1       |  0.1       |\n",
      "| precision_top5       |  0.283333  |\n",
      "| path_nll             | 16.5961    |\n",
      "| path_nll_deg3        | 15.706     |\u001b[0m\n",
      "Checkpointing...\n",
      "\u001b[34mCheckpoint saved in ../../models/gretel_prediction_models/tromso_small/chkpt/one_start_node_to_target_tromso_small/0020.pt\u001b[0m\n",
      "\n",
      "=== EPOCH 21 ===\n",
      "Progress 10% | iter 8 | 144.9 pred/s | loss log_dot_loss 0.07927570990574212\n",
      "Progress 20% | iter 17 | 169.2 pred/s | loss log_dot_loss 0.07544289930367175\n",
      "Progress 30% | iter 26 | 163.4 pred/s | loss log_dot_loss 0.08701304800716447\n",
      "Progress 40% | iter 35 | 157.5 pred/s | loss log_dot_loss 0.0789107463977955\n",
      "Progress 50% | iter 44 | 169.8 pred/s | loss log_dot_loss 0.08227512512677981\n",
      "Progress 60% | iter 53 | 158.0 pred/s | loss log_dot_loss 0.08336580653249483\n",
      "Progress 70% | iter 62 | 154.3 pred/s | loss log_dot_loss 0.07640335471541794\n",
      "Progress 80% | iter 71 | 163.6 pred/s | loss log_dot_loss 0.06736343230730223\n",
      "Progress 90% | iter 80 | 172.5 pred/s | loss log_dot_loss 0.06835838482703692\n",
      "Progress 100% | iter 89 | 156.7 pred/s | loss log_dot_loss 0.08513333591414086\n",
      "\n",
      "=== TEST ===\n",
      "\n"
     ]
    },
    {
     "name": "stderr",
     "output_type": "stream",
     "text": [
      "100%|████████████████████████████████████████████████████████████████████████████████████████████████████████████████████████████| 120/120 [00:00<00:00, 162.97it/s]\n"
     ]
    },
    {
     "name": "stdout",
     "output_type": "stream",
     "text": [
      "\u001b[31m| Metric               |      Value |\n",
      "|----------------------|------------|\n",
      "| target_probability   |  0.0619223 |\n",
      "| choice_accuracy      |  0.735865  |\n",
      "| choice_accuracy_deg3 |  0.673152  |\n",
      "| precision_top1       |  0.0916667 |\n",
      "| precision_top5       |  0.325     |\n",
      "| path_nll             | 16.3793    |\n",
      "| path_nll_deg3        | 15.5986    |\u001b[0m\n",
      "\n",
      "=== EPOCH 22 ===\n",
      "Progress 10% | iter 8 | 165.5 pred/s | loss log_dot_loss 0.07284774780273437\n",
      "Progress 20% | iter 17 | 163.0 pred/s | loss log_dot_loss 0.07782804259547481\n",
      "Progress 30% | iter 26 | 158.4 pred/s | loss log_dot_loss 0.08561982814176583\n",
      "Progress 40% | iter 35 | 165.1 pred/s | loss log_dot_loss 0.07238438629809721\n",
      "Progress 50% | iter 44 | 151.0 pred/s | loss log_dot_loss 0.08169677640184944\n",
      "Progress 60% | iter 53 | 148.4 pred/s | loss log_dot_loss 0.07639177169328855\n",
      "Progress 70% | iter 62 | 167.7 pred/s | loss log_dot_loss 0.08325809843746232\n",
      "Progress 80% | iter 71 | 164.2 pred/s | loss log_dot_loss 0.08219041412259326\n",
      "Progress 90% | iter 80 | 163.0 pred/s | loss log_dot_loss 0.08183275211004563\n",
      "Progress 100% | iter 89 | 168.8 pred/s | loss log_dot_loss 0.07665750479992525\n",
      "\n",
      "=== TEST ===\n",
      "\n"
     ]
    },
    {
     "name": "stderr",
     "output_type": "stream",
     "text": [
      "100%|████████████████████████████████████████████████████████████████████████████████████████████████████████████████████████████| 120/120 [00:00<00:00, 162.74it/s]\n"
     ]
    },
    {
     "name": "stdout",
     "output_type": "stream",
     "text": [
      "\u001b[31m| Metric               |      Value |\n",
      "|----------------------|------------|\n",
      "| target_probability   |  0.0774935 |\n",
      "| choice_accuracy      |  0.742881  |\n",
      "| choice_accuracy_deg3 |  0.679266  |\n",
      "| precision_top1       |  0.125     |\n",
      "| precision_top5       |  0.6       |\n",
      "| path_nll             | 16.6982    |\n",
      "| path_nll_deg3        | 15.9234    |\u001b[0m\n",
      "\n",
      "=== EPOCH 23 ===\n",
      "Progress 10% | iter 8 | 161.2 pred/s | loss log_dot_loss 0.07878687175703637\n",
      "Progress 20% | iter 17 | 167.1 pred/s | loss log_dot_loss 0.06957514256606867\n",
      "Progress 30% | iter 26 | 144.6 pred/s | loss log_dot_loss 0.07126467375107753\n",
      "Progress 40% | iter 35 | 162.4 pred/s | loss log_dot_loss 0.0834135267469618\n",
      "Progress 50% | iter 44 | 162.3 pred/s | loss log_dot_loss 0.08215523472538701\n",
      "Progress 60% | iter 53 | 165.5 pred/s | loss log_dot_loss 0.07747428211165064\n",
      "Progress 70% | iter 62 | 158.6 pred/s | loss log_dot_loss 0.09488723307480047\n",
      "Progress 80% | iter 71 | 162.5 pred/s | loss log_dot_loss 0.07680986251360104\n",
      "Progress 90% | iter 80 | 165.0 pred/s | loss log_dot_loss 0.07692183918423123\n",
      "Progress 100% | iter 89 | 160.1 pred/s | loss log_dot_loss 0.07067553290614376\n",
      "\n",
      "=== TEST ===\n",
      "\n"
     ]
    },
    {
     "name": "stderr",
     "output_type": "stream",
     "text": [
      "100%|████████████████████████████████████████████████████████████████████████████████████████████████████████████████████████████| 120/120 [00:00<00:00, 163.03it/s]\n"
     ]
    },
    {
     "name": "stdout",
     "output_type": "stream",
     "text": [
      "\u001b[31m| Metric               |      Value |\n",
      "|----------------------|------------|\n",
      "| target_probability   |  0.0800679 |\n",
      "| choice_accuracy      |  0.726785  |\n",
      "| choice_accuracy_deg3 |  0.651473  |\n",
      "| precision_top1       |  0.233333  |\n",
      "| precision_top5       |  0.541667  |\n",
      "| path_nll             | 16.0821    |\n",
      "| path_nll_deg3        | 15.1133    |\u001b[0m\n",
      "\n",
      "=== EPOCH 24 ===\n",
      "Progress 10% | iter 8 | 158.9 pred/s | loss log_dot_loss 0.08261715629954397\n",
      "Progress 20% | iter 17 | 161.8 pred/s | loss log_dot_loss 0.06824369842623487\n",
      "Progress 30% | iter 26 | 154.6 pred/s | loss log_dot_loss 0.08397862822921189\n",
      "Progress 40% | iter 35 | 160.8 pred/s | loss log_dot_loss 0.07518968405546965\n",
      "Progress 50% | iter 44 | 161.5 pred/s | loss log_dot_loss 0.07528072639747903\n",
      "Progress 60% | iter 53 | 165.0 pred/s | loss log_dot_loss 0.08246806403737009\n",
      "Progress 70% | iter 62 | 145.9 pred/s | loss log_dot_loss 0.08243936491601261\n",
      "Progress 80% | iter 71 | 163.4 pred/s | loss log_dot_loss 0.0870589421119219\n",
      "Progress 90% | iter 80 | 164.9 pred/s | loss log_dot_loss 0.08497247754791637\n",
      "Progress 100% | iter 89 | 174.2 pred/s | loss log_dot_loss 0.0836812878832405\n",
      "\n",
      "=== TEST ===\n",
      "\n"
     ]
    },
    {
     "name": "stderr",
     "output_type": "stream",
     "text": [
      "100%|████████████████████████████████████████████████████████████████████████████████████████████████████████████████████████████| 120/120 [00:00<00:00, 162.55it/s]\n"
     ]
    },
    {
     "name": "stdout",
     "output_type": "stream",
     "text": [
      "\u001b[31m| Metric               |      Value |\n",
      "|----------------------|------------|\n",
      "| target_probability   |  0.0721469 |\n",
      "| choice_accuracy      |  0.723483  |\n",
      "| choice_accuracy_deg3 |  0.659255  |\n",
      "| precision_top1       |  0.0666667 |\n",
      "| precision_top5       |  0.425     |\n",
      "| path_nll             | 16.2969    |\n",
      "| path_nll_deg3        | 15.3552    |\u001b[0m\n",
      "\n",
      "=== EPOCH 25 ===\n",
      "Progress 10% | iter 8 | 167.1 pred/s | loss log_dot_loss 0.07041221606878587\n",
      "Progress 20% | iter 17 | 172.6 pred/s | loss log_dot_loss 0.07194587566234448\n",
      "Progress 30% | iter 26 | 163.5 pred/s | loss log_dot_loss 0.08224299572132251\n",
      "Progress 40% | iter 35 | 160.4 pred/s | loss log_dot_loss 0.0812433307553515\n",
      "Progress 50% | iter 44 | 158.9 pred/s | loss log_dot_loss 0.08095585269692504\n",
      "Progress 60% | iter 53 | 157.8 pred/s | loss log_dot_loss 0.07310485015680761\n",
      "Progress 70% | iter 62 | 158.3 pred/s | loss log_dot_loss 0.07054886288113064\n",
      "Progress 80% | iter 71 | 158.4 pred/s | loss log_dot_loss 0.07590178089377321\n",
      "Progress 90% | iter 80 | 160.2 pred/s | loss log_dot_loss 0.08044764083108784\n",
      "Progress 100% | iter 89 | 159.1 pred/s | loss log_dot_loss 0.08109053152578849\n",
      "\n",
      "=== TEST ===\n",
      "\n"
     ]
    },
    {
     "name": "stderr",
     "output_type": "stream",
     "text": [
      "100%|████████████████████████████████████████████████████████████████████████████████████████████████████████████████████████████| 120/120 [00:00<00:00, 162.91it/s]\n"
     ]
    },
    {
     "name": "stdout",
     "output_type": "stream",
     "text": [
      "\u001b[31m| Metric               |      Value |\n",
      "|----------------------|------------|\n",
      "| target_probability   |  0.0812245 |\n",
      "| choice_accuracy      |  0.733801  |\n",
      "| choice_accuracy_deg3 |  0.664814  |\n",
      "| precision_top1       |  0.108333  |\n",
      "| precision_top5       |  0.541667  |\n",
      "| path_nll             | 15.7965    |\n",
      "| path_nll_deg3        | 14.6131    |\u001b[0m\n",
      "Checkpointing...\n",
      "\u001b[34mCheckpoint saved in ../../models/gretel_prediction_models/tromso_small/chkpt/one_start_node_to_target_tromso_small/0025.pt\u001b[0m\n",
      "\n",
      "=== EPOCH 26 ===\n",
      "Progress 10% | iter 8 | 165.4 pred/s | loss log_dot_loss 0.08617702236881963\n",
      "Progress 20% | iter 17 | 155.1 pred/s | loss log_dot_loss 0.07784755318253128\n",
      "Progress 30% | iter 26 | 152.3 pred/s | loss log_dot_loss 0.0766762203640408\n",
      "Progress 40% | iter 35 | 158.6 pred/s | loss log_dot_loss 0.09473092349959009\n",
      "Progress 50% | iter 44 | 168.2 pred/s | loss log_dot_loss 0.09091467504148129\n",
      "Progress 60% | iter 53 | 162.2 pred/s | loss log_dot_loss 0.08200139763914509\n",
      "Progress 70% | iter 62 | 166.5 pred/s | loss log_dot_loss 0.0789991714336254\n",
      "Progress 80% | iter 71 | 158.8 pred/s | loss log_dot_loss 0.08443564662226924\n",
      "Progress 90% | iter 80 | 165.6 pred/s | loss log_dot_loss 0.07681759787194523\n",
      "Progress 100% | iter 89 | 159.2 pred/s | loss log_dot_loss 0.06540994585296253\n",
      "\n",
      "=== TEST ===\n",
      "\n"
     ]
    },
    {
     "name": "stderr",
     "output_type": "stream",
     "text": [
      "100%|████████████████████████████████████████████████████████████████████████████████████████████████████████████████████████████| 120/120 [00:00<00:00, 163.31it/s]\n"
     ]
    },
    {
     "name": "stdout",
     "output_type": "stream",
     "text": [
      "\u001b[31m| Metric               |      Value |\n",
      "|----------------------|------------|\n",
      "| target_probability   |  0.0766871 |\n",
      "| choice_accuracy      |  0.710277  |\n",
      "| choice_accuracy_deg3 |  0.6398    |\n",
      "| precision_top1       |  0.0833333 |\n",
      "| precision_top5       |  0.508333  |\n",
      "| path_nll             | 15.7071    |\n",
      "| path_nll_deg3        | 14.9227    |\u001b[0m\n",
      "\n",
      "=== EPOCH 27 ===\n",
      "Progress 10% | iter 8 | 156.9 pred/s | loss log_dot_loss 0.0839954541053301\n",
      "Progress 20% | iter 17 | 167.0 pred/s | loss log_dot_loss 0.07831860295048466\n",
      "Progress 30% | iter 26 | 155.3 pred/s | loss log_dot_loss 0.0778421390203782\n",
      "Progress 40% | iter 35 | 148.5 pred/s | loss log_dot_loss 0.08502325540707435\n",
      "Progress 50% | iter 44 | 159.2 pred/s | loss log_dot_loss 0.06659284991982542\n",
      "Progress 60% | iter 53 | 169.8 pred/s | loss log_dot_loss 0.06733853728682906\n",
      "Progress 70% | iter 62 | 166.1 pred/s | loss log_dot_loss 0.06986912768564106\n",
      "Progress 80% | iter 71 | 149.0 pred/s | loss log_dot_loss 0.07591611603159963\n",
      "Progress 90% | iter 80 | 169.2 pred/s | loss log_dot_loss 0.0795271125840552\n",
      "Progress 100% | iter 89 | 164.1 pred/s | loss log_dot_loss 0.07985587178924938\n",
      "\n",
      "=== TEST ===\n",
      "\n"
     ]
    },
    {
     "name": "stderr",
     "output_type": "stream",
     "text": [
      "100%|████████████████████████████████████████████████████████████████████████████████████████████████████████████████████████████| 120/120 [00:00<00:00, 163.21it/s]\n"
     ]
    },
    {
     "name": "stdout",
     "output_type": "stream",
     "text": [
      "\u001b[31m| Metric               |      Value |\n",
      "|----------------------|------------|\n",
      "| target_probability   |  0.0860917 |\n",
      "| choice_accuracy      |  0.72142   |\n",
      "| choice_accuracy_deg3 |  0.644803  |\n",
      "| precision_top1       |  0.0833333 |\n",
      "| precision_top5       |  0.533333  |\n",
      "| path_nll             | 17.0762    |\n",
      "| path_nll_deg3        | 16.3534    |\u001b[0m\n",
      "\n",
      "=== EPOCH 28 ===\n",
      "Progress 10% | iter 8 | 136.3 pred/s | loss log_dot_loss 0.08837903988214187\n",
      "Progress 20% | iter 17 | 167.4 pred/s | loss log_dot_loss 0.0754086200101876\n",
      "Progress 30% | iter 26 | 176.3 pred/s | loss log_dot_loss 0.07222745153639051\n",
      "Progress 40% | iter 35 | 156.4 pred/s | loss log_dot_loss 0.089672863336257\n",
      "Progress 50% | iter 44 | 160.7 pred/s | loss log_dot_loss 0.06709037445209644\n",
      "Progress 60% | iter 53 | 161.2 pred/s | loss log_dot_loss 0.08129649044554911\n",
      "Progress 70% | iter 62 | 165.3 pred/s | loss log_dot_loss 0.07228118107642657\n",
      "Progress 80% | iter 71 | 168.1 pred/s | loss log_dot_loss 0.06483245249147768\n",
      "Progress 90% | iter 80 | 159.8 pred/s | loss log_dot_loss 0.06360422887919862\n",
      "Progress 100% | iter 89 | 162.6 pred/s | loss log_dot_loss 0.08244238194124198\n",
      "\n",
      "=== TEST ===\n",
      "\n"
     ]
    },
    {
     "name": "stderr",
     "output_type": "stream",
     "text": [
      "100%|████████████████████████████████████████████████████████████████████████████████████████████████████████████████████████████| 120/120 [00:00<00:00, 163.21it/s]\n"
     ]
    },
    {
     "name": "stdout",
     "output_type": "stream",
     "text": [
      "\u001b[31m| Metric               |      Value |\n",
      "|----------------------|------------|\n",
      "| target_probability   |  0.0850687 |\n",
      "| choice_accuracy      |  0.742881  |\n",
      "| choice_accuracy_deg3 |  0.683157  |\n",
      "| precision_top1       |  0.183333  |\n",
      "| precision_top5       |  0.566667  |\n",
      "| path_nll             | 15.3506    |\n",
      "| path_nll_deg3        | 14.5845    |\u001b[0m\n",
      "\n",
      "=== EPOCH 29 ===\n",
      "Progress 10% | iter 8 | 161.8 pred/s | loss log_dot_loss 0.0798990782396293\n",
      "Progress 20% | iter 17 | 173.4 pred/s | loss log_dot_loss 0.07776219815383723\n",
      "Progress 30% | iter 26 | 169.2 pred/s | loss log_dot_loss 0.0741042325526108\n",
      "Progress 40% | iter 35 | 155.2 pred/s | loss log_dot_loss 0.07461517740178991\n",
      "Progress 50% | iter 44 | 159.6 pred/s | loss log_dot_loss 0.07236175860887693\n",
      "Progress 60% | iter 53 | 160.2 pred/s | loss log_dot_loss 0.08189011385411392\n",
      "Progress 70% | iter 62 | 155.4 pred/s | loss log_dot_loss 0.06486154897713367\n",
      "Progress 80% | iter 71 | 152.2 pred/s | loss log_dot_loss 0.07352994224171579\n",
      "Progress 90% | iter 80 | 163.5 pred/s | loss log_dot_loss 0.0730943332483739\n",
      "Progress 100% | iter 89 | 162.8 pred/s | loss log_dot_loss 0.08738763244063766\n",
      "\n",
      "=== TEST ===\n",
      "\n"
     ]
    },
    {
     "name": "stderr",
     "output_type": "stream",
     "text": [
      "100%|████████████████████████████████████████████████████████████████████████████████████████████████████████████████████████████| 120/120 [00:00<00:00, 162.62it/s]\n"
     ]
    },
    {
     "name": "stdout",
     "output_type": "stream",
     "text": [
      "\u001b[31m| Metric               |      Value |\n",
      "|----------------------|------------|\n",
      "| target_probability   |  0.0567404 |\n",
      "| choice_accuracy      |  0.681387  |\n",
      "| choice_accuracy_deg3 |  0.603669  |\n",
      "| precision_top1       |  0.075     |\n",
      "| precision_top5       |  0.366667  |\n",
      "| path_nll             | 18.4479    |\n",
      "| path_nll_deg3        | 17.4856    |\u001b[0m\n",
      "\n",
      "=== EPOCH 30 ===\n",
      "Progress 10% | iter 8 | 157.0 pred/s | loss log_dot_loss 0.07611619101630317\n",
      "Progress 20% | iter 17 | 152.4 pred/s | loss log_dot_loss 0.06956772009531657\n",
      "Progress 30% | iter 26 | 167.4 pred/s | loss log_dot_loss 0.09191177273974008\n",
      "Progress 40% | iter 35 | 164.4 pred/s | loss log_dot_loss 0.08019092171280472\n",
      "Progress 50% | iter 44 | 176.5 pred/s | loss log_dot_loss 0.06583023247895417\n",
      "Progress 60% | iter 53 | 152.3 pred/s | loss log_dot_loss 0.09123381744196385\n",
      "Progress 70% | iter 62 | 151.8 pred/s | loss log_dot_loss 0.0807595826961376\n",
      "Progress 80% | iter 71 | 160.3 pred/s | loss log_dot_loss 0.08381060317710594\n",
      "Progress 90% | iter 80 | 164.4 pred/s | loss log_dot_loss 0.0921441301887418\n",
      "Progress 100% | iter 89 | 161.5 pred/s | loss log_dot_loss 0.0712098851616\n",
      "\n",
      "=== TEST ===\n",
      "\n"
     ]
    },
    {
     "name": "stderr",
     "output_type": "stream",
     "text": [
      "100%|████████████████████████████████████████████████████████████████████████████████████████████████████████████████████████████| 120/120 [00:00<00:00, 161.67it/s]\n"
     ]
    },
    {
     "name": "stdout",
     "output_type": "stream",
     "text": [
      "\u001b[31m| Metric               |      Value |\n",
      "|----------------------|------------|\n",
      "| target_probability   |  0.101471  |\n",
      "| choice_accuracy      |  0.75196   |\n",
      "| choice_accuracy_deg3 |  0.695942  |\n",
      "| precision_top1       |  0.0666667 |\n",
      "| precision_top5       |  0.65      |\n",
      "| path_nll             | 16.4824    |\n",
      "| path_nll_deg3        | 15.1873    |\u001b[0m\n",
      "Checkpointing...\n",
      "\u001b[34mCheckpoint saved in ../../models/gretel_prediction_models/tromso_small/chkpt/one_start_node_to_target_tromso_small/0030.pt\u001b[0m\n",
      "\n",
      "=== EPOCH 31 ===\n",
      "Progress 10% | iter 8 | 158.9 pred/s | loss log_dot_loss 0.06686927418649932\n",
      "Progress 20% | iter 17 | 171.9 pred/s | loss log_dot_loss 0.08367851457478087\n",
      "Progress 30% | iter 26 | 164.7 pred/s | loss log_dot_loss 0.0859665741155177\n",
      "Progress 40% | iter 35 | 153.8 pred/s | loss log_dot_loss 0.08231290181477864\n",
      "Progress 50% | iter 44 | 165.5 pred/s | loss log_dot_loss 0.07331163853774836\n",
      "Progress 60% | iter 53 | 162.3 pred/s | loss log_dot_loss 0.06765825512968464\n",
      "Progress 70% | iter 62 | 160.6 pred/s | loss log_dot_loss 0.07139815636623054\n",
      "Progress 80% | iter 71 | 162.9 pred/s | loss log_dot_loss 0.06988285088244779\n",
      "Progress 90% | iter 80 | 162.8 pred/s | loss log_dot_loss 0.07053740995901603\n",
      "Progress 100% | iter 89 | 158.6 pred/s | loss log_dot_loss 0.0847732585153462\n",
      "\n",
      "=== TEST ===\n",
      "\n"
     ]
    },
    {
     "name": "stderr",
     "output_type": "stream",
     "text": [
      "100%|████████████████████████████████████████████████████████████████████████████████████████████████████████████████████████████| 120/120 [00:00<00:00, 162.72it/s]\n"
     ]
    },
    {
     "name": "stdout",
     "output_type": "stream",
     "text": [
      "\u001b[31m| Metric               |     Value |\n",
      "|----------------------|-----------|\n",
      "| target_probability   |  0.099354 |\n",
      "| choice_accuracy      |  0.747421 |\n",
      "| choice_accuracy_deg3 |  0.684825 |\n",
      "| precision_top1       |  0.108333 |\n",
      "| precision_top5       |  0.633333 |\n",
      "| path_nll             | 15.8074   |\n",
      "| path_nll_deg3        | 15.0616   |\u001b[0m\n",
      "\n",
      "=== EPOCH 32 ===\n",
      "Progress 10% | iter 8 | 159.1 pred/s | loss log_dot_loss 0.08148333113870503\n",
      "Progress 20% | iter 17 | 147.6 pred/s | loss log_dot_loss 0.06392905241177406\n",
      "Progress 30% | iter 26 | 163.1 pred/s | loss log_dot_loss 0.08140952175046191\n",
      "Progress 40% | iter 35 | 166.1 pred/s | loss log_dot_loss 0.0810001544010492\n",
      "Progress 50% | iter 44 | 153.7 pred/s | loss log_dot_loss 0.0728447413738863\n",
      "Progress 60% | iter 53 | 172.9 pred/s | loss log_dot_loss 0.07064630661481693\n",
      "Progress 70% | iter 62 | 163.8 pred/s | loss log_dot_loss 0.07913795989236715\n",
      "Progress 80% | iter 71 | 165.7 pred/s | loss log_dot_loss 0.08401634251629865\n",
      "Progress 90% | iter 80 | 164.0 pred/s | loss log_dot_loss 0.07783021220454463\n",
      "Progress 100% | iter 89 | 168.2 pred/s | loss log_dot_loss 0.07007002536161445\n",
      "\n",
      "=== TEST ===\n",
      "\n"
     ]
    },
    {
     "name": "stderr",
     "output_type": "stream",
     "text": [
      "100%|████████████████████████████████████████████████████████████████████████████████████████████████████████████████████████████| 120/120 [00:00<00:00, 162.64it/s]\n"
     ]
    },
    {
     "name": "stdout",
     "output_type": "stream",
     "text": [
      "\u001b[31m| Metric               |      Value |\n",
      "|----------------------|------------|\n",
      "| target_probability   |  0.0965939 |\n",
      "| choice_accuracy      |  0.744119  |\n",
      "| choice_accuracy_deg3 |  0.679822  |\n",
      "| precision_top1       |  0.291667  |\n",
      "| precision_top5       |  0.6       |\n",
      "| path_nll             | 14.7308    |\n",
      "| path_nll_deg3        | 14.074     |\u001b[0m\n",
      "\n",
      "=== EPOCH 33 ===\n",
      "Progress 10% | iter 8 | 163.4 pred/s | loss log_dot_loss 0.07576063061937874\n",
      "Progress 20% | iter 17 | 154.4 pred/s | loss log_dot_loss 0.07682233975257403\n",
      "Progress 30% | iter 26 | 168.5 pred/s | loss log_dot_loss 0.0757510703287007\n",
      "Progress 40% | iter 35 | 151.2 pred/s | loss log_dot_loss 0.08019692868362238\n",
      "Progress 50% | iter 44 | 152.8 pred/s | loss log_dot_loss 0.0718578815460205\n",
      "Progress 60% | iter 53 | 168.5 pred/s | loss log_dot_loss 0.07610119595939731\n",
      "Progress 70% | iter 62 | 159.3 pred/s | loss log_dot_loss 0.06688929133945042\n",
      "Progress 80% | iter 71 | 172.2 pred/s | loss log_dot_loss 0.07214971295109501\n",
      "Progress 90% | iter 80 | 158.6 pred/s | loss log_dot_loss 0.07849002237673158\n",
      "Progress 100% | iter 89 | 162.7 pred/s | loss log_dot_loss 0.06969734651071054\n",
      "\n",
      "=== TEST ===\n",
      "\n"
     ]
    },
    {
     "name": "stderr",
     "output_type": "stream",
     "text": [
      "100%|████████████████████████████████████████████████████████████████████████████████████████████████████████████████████████████| 120/120 [00:00<00:00, 161.63it/s]\n"
     ]
    },
    {
     "name": "stdout",
     "output_type": "stream",
     "text": [
      "\u001b[31m| Metric               |     Value |\n",
      "|----------------------|-----------|\n",
      "| target_probability   |  0.103    |\n",
      "| choice_accuracy      |  0.771358 |\n",
      "| choice_accuracy_deg3 |  0.711506 |\n",
      "| precision_top1       |  0.183333 |\n",
      "| precision_top5       |  0.591667 |\n",
      "| path_nll             | 15.1939   |\n",
      "| path_nll_deg3        | 14.5408   |\u001b[0m\n",
      "\n",
      "=== EPOCH 34 ===\n",
      "Progress 10% | iter 8 | 159.9 pred/s | loss log_dot_loss 0.06883685677139847\n",
      "Progress 20% | iter 17 | 166.3 pred/s | loss log_dot_loss 0.07266386055652006\n",
      "Progress 30% | iter 26 | 157.6 pred/s | loss log_dot_loss 0.06779572816542637\n",
      "Progress 40% | iter 35 | 162.9 pred/s | loss log_dot_loss 0.07139259797555429\n",
      "Progress 50% | iter 44 | 154.5 pred/s | loss log_dot_loss 0.07802259715986841\n",
      "Progress 60% | iter 53 | 159.0 pred/s | loss log_dot_loss 0.0768950562418243\n",
      "Progress 70% | iter 62 | 164.3 pred/s | loss log_dot_loss 0.06544807030830854\n",
      "Progress 80% | iter 71 | 153.9 pred/s | loss log_dot_loss 0.08170680116724086\n",
      "Progress 90% | iter 80 | 157.2 pred/s | loss log_dot_loss 0.0930264867382285\n",
      "Progress 100% | iter 89 | 169.2 pred/s | loss log_dot_loss 0.08019414477878146\n",
      "\n",
      "=== TEST ===\n",
      "\n"
     ]
    },
    {
     "name": "stderr",
     "output_type": "stream",
     "text": [
      "100%|████████████████████████████████████████████████████████████████████████████████████████████████████████████████████████████| 120/120 [00:00<00:00, 163.60it/s]\n"
     ]
    },
    {
     "name": "stdout",
     "output_type": "stream",
     "text": [
      "\u001b[31m| Metric               |     Value |\n",
      "|----------------------|-----------|\n",
      "| target_probability   |  0.101991 |\n",
      "| choice_accuracy      |  0.75031  |\n",
      "| choice_accuracy_deg3 |  0.693163 |\n",
      "| precision_top1       |  0.15     |\n",
      "| precision_top5       |  0.658333 |\n",
      "| path_nll             | 15.9004   |\n",
      "| path_nll_deg3        | 15.1885   |\u001b[0m\n",
      "\n",
      "=== EPOCH 35 ===\n",
      "Progress 10% | iter 8 | 164.2 pred/s | loss log_dot_loss 0.07229460492546176\n",
      "Progress 20% | iter 17 | 168.6 pred/s | loss log_dot_loss 0.07379065442968298\n",
      "Progress 30% | iter 26 | 166.0 pred/s | loss log_dot_loss 0.06476284780620056\n",
      "Progress 40% | iter 35 | 164.4 pred/s | loss log_dot_loss 0.08941694601082507\n",
      "Progress 50% | iter 44 | 157.2 pred/s | loss log_dot_loss 0.06824654473198785\n",
      "Progress 60% | iter 53 | 164.2 pred/s | loss log_dot_loss 0.0873471807550501\n",
      "Progress 70% | iter 62 | 160.3 pred/s | loss log_dot_loss 0.08147742365613396\n",
      "Progress 80% | iter 71 | 172.8 pred/s | loss log_dot_loss 0.07348948996744038\n",
      "Progress 90% | iter 80 | 150.6 pred/s | loss log_dot_loss 0.08391031630245255\n",
      "Progress 100% | iter 89 | 148.6 pred/s | loss log_dot_loss 0.0658239917990602\n",
      "\n",
      "=== TEST ===\n",
      "\n"
     ]
    },
    {
     "name": "stderr",
     "output_type": "stream",
     "text": [
      "100%|████████████████████████████████████████████████████████████████████████████████████████████████████████████████████████████| 120/120 [00:00<00:00, 163.62it/s]\n"
     ]
    },
    {
     "name": "stdout",
     "output_type": "stream",
     "text": [
      "\u001b[31m| Metric               |     Value |\n",
      "|----------------------|-----------|\n",
      "| target_probability   |  0.104585 |\n",
      "| choice_accuracy      |  0.759389 |\n",
      "| choice_accuracy_deg3 |  0.701501 |\n",
      "| precision_top1       |  0.158333 |\n",
      "| precision_top5       |  0.65     |\n",
      "| path_nll             | 16.1032   |\n",
      "| path_nll_deg3        | 14.9992   |\u001b[0m\n",
      "Checkpointing...\n",
      "\u001b[34mCheckpoint saved in ../../models/gretel_prediction_models/tromso_small/chkpt/one_start_node_to_target_tromso_small/0035.pt\u001b[0m\n",
      "\n",
      "=== EPOCH 36 ===\n",
      "Progress 10% | iter 8 | 162.7 pred/s | loss log_dot_loss 0.07351979208581241\n",
      "Progress 20% | iter 17 | 155.3 pred/s | loss log_dot_loss 0.06385368447244903\n",
      "Progress 30% | iter 26 | 151.0 pred/s | loss log_dot_loss 0.065110484170325\n",
      "Progress 40% | iter 35 | 171.3 pred/s | loss log_dot_loss 0.07721819759886941\n",
      "Progress 50% | iter 44 | 148.4 pred/s | loss log_dot_loss 0.07474731751430182\n",
      "Progress 60% | iter 53 | 160.3 pred/s | loss log_dot_loss 0.06229609648386637\n",
      "Progress 70% | iter 62 | 157.0 pred/s | loss log_dot_loss 0.07496847929777922\n",
      "Progress 80% | iter 71 | 160.5 pred/s | loss log_dot_loss 0.08530862184218418\n",
      "Progress 90% | iter 80 | 173.9 pred/s | loss log_dot_loss 0.06909561333832917\n",
      "Progress 100% | iter 89 | 164.4 pred/s | loss log_dot_loss 0.07529287691469545\n",
      "\n",
      "=== TEST ===\n",
      "\n"
     ]
    },
    {
     "name": "stderr",
     "output_type": "stream",
     "text": [
      "100%|████████████████████████████████████████████████████████████████████████████████████████████████████████████████████████████| 120/120 [00:00<00:00, 163.41it/s]\n"
     ]
    },
    {
     "name": "stdout",
     "output_type": "stream",
     "text": [
      "\u001b[31m| Metric               |     Value |\n",
      "|----------------------|-----------|\n",
      "| target_probability   |  0.105481 |\n",
      "| choice_accuracy      |  0.751548 |\n",
      "| choice_accuracy_deg3 |  0.69483  |\n",
      "| precision_top1       |  0.15     |\n",
      "| precision_top5       |  0.65     |\n",
      "| path_nll             | 16.2761   |\n",
      "| path_nll_deg3        | 15.077    |\u001b[0m\n",
      "\n",
      "=== EPOCH 37 ===\n",
      "Progress 10% | iter 8 | 154.5 pred/s | loss log_dot_loss 0.08872751777554735\n",
      "Progress 20% | iter 17 | 174.6 pred/s | loss log_dot_loss 0.06372035285572947\n",
      "Progress 30% | iter 26 | 170.7 pred/s | loss log_dot_loss 0.08517341437163176\n",
      "Progress 40% | iter 35 | 160.1 pred/s | loss log_dot_loss 0.07774254539866507\n",
      "Progress 50% | iter 44 | 150.7 pred/s | loss log_dot_loss 0.06092849955146695\n",
      "Progress 60% | iter 53 | 163.7 pred/s | loss log_dot_loss 0.07572564077966007\n",
      "Progress 70% | iter 62 | 157.2 pred/s | loss log_dot_loss 0.06801163002296731\n",
      "Progress 80% | iter 71 | 159.4 pred/s | loss log_dot_loss 0.08272049397598077\n",
      "Progress 90% | iter 80 | 160.4 pred/s | loss log_dot_loss 0.07134597448655117\n",
      "Progress 100% | iter 89 | 163.0 pred/s | loss log_dot_loss 0.0664139097119555\n",
      "\n",
      "=== TEST ===\n",
      "\n"
     ]
    },
    {
     "name": "stderr",
     "output_type": "stream",
     "text": [
      "100%|████████████████████████████████████████████████████████████████████████████████████████████████████████████████████████████| 120/120 [00:00<00:00, 163.35it/s]\n"
     ]
    },
    {
     "name": "stdout",
     "output_type": "stream",
     "text": [
      "\u001b[31m| Metric               |      Value |\n",
      "|----------------------|------------|\n",
      "| target_probability   |  0.0857449 |\n",
      "| choice_accuracy      |  0.759389  |\n",
      "| choice_accuracy_deg3 |  0.697054  |\n",
      "| precision_top1       |  0.166667  |\n",
      "| precision_top5       |  0.558333  |\n",
      "| path_nll             | 15.6861    |\n",
      "| path_nll_deg3        | 15.04      |\u001b[0m\n",
      "\n",
      "=== EPOCH 38 ===\n",
      "Progress 10% | iter 8 | 161.8 pred/s | loss log_dot_loss 0.0821404680793668\n",
      "Progress 20% | iter 17 | 163.6 pred/s | loss log_dot_loss 0.06508898146358537\n",
      "Progress 30% | iter 26 | 166.3 pred/s | loss log_dot_loss 0.07079814716621682\n",
      "Progress 40% | iter 35 | 167.4 pred/s | loss log_dot_loss 0.07498429616292318\n",
      "Progress 50% | iter 44 | 156.3 pred/s | loss log_dot_loss 0.08615361555123034\n",
      "Progress 60% | iter 53 | 160.6 pred/s | loss log_dot_loss 0.06127149264017741\n",
      "Progress 70% | iter 62 | 158.2 pred/s | loss log_dot_loss 0.06595520237345755\n",
      "Progress 80% | iter 71 | 155.0 pred/s | loss log_dot_loss 0.07160441904892156\n",
      "Progress 90% | iter 80 | 156.3 pred/s | loss log_dot_loss 0.07423248997441045\n",
      "Progress 100% | iter 89 | 165.3 pred/s | loss log_dot_loss 0.07301770728311421\n",
      "\n",
      "=== TEST ===\n",
      "\n"
     ]
    },
    {
     "name": "stderr",
     "output_type": "stream",
     "text": [
      "100%|████████████████████████████████████████████████████████████████████████████████████████████████████████████████████████████| 120/120 [00:00<00:00, 163.08it/s]\n"
     ]
    },
    {
     "name": "stdout",
     "output_type": "stream",
     "text": [
      "\u001b[31m| Metric               |     Value |\n",
      "|----------------------|-----------|\n",
      "| target_probability   |  0.097064 |\n",
      "| choice_accuracy      |  0.754849 |\n",
      "| choice_accuracy_deg3 |  0.693719 |\n",
      "| precision_top1       |  0.225    |\n",
      "| precision_top5       |  0.6      |\n",
      "| path_nll             | 14.9352   |\n",
      "| path_nll_deg3        | 14.2796   |\u001b[0m\n",
      "\n",
      "=== EPOCH 39 ===\n",
      "Progress 10% | iter 8 | 171.4 pred/s | loss log_dot_loss 0.07699233278816128\n",
      "Progress 20% | iter 17 | 161.7 pred/s | loss log_dot_loss 0.07864302499794665\n",
      "Progress 30% | iter 26 | 157.9 pred/s | loss log_dot_loss 0.05826831923590766\n",
      "Progress 40% | iter 35 | 161.9 pred/s | loss log_dot_loss 0.06877463894125856\n",
      "Progress 50% | iter 44 | 160.8 pred/s | loss log_dot_loss 0.07512464670487393\n",
      "Progress 60% | iter 53 | 162.6 pred/s | loss log_dot_loss 0.06328045939221795\n",
      "Progress 70% | iter 62 | 165.3 pred/s | loss log_dot_loss 0.06496342729639125\n",
      "Progress 80% | iter 71 | 147.0 pred/s | loss log_dot_loss 0.07615208920137383\n",
      "Progress 90% | iter 80 | 162.5 pred/s | loss log_dot_loss 0.07330098564242139\n",
      "Progress 100% | iter 89 | 160.1 pred/s | loss log_dot_loss 0.08240793604909638\n",
      "\n",
      "=== TEST ===\n",
      "\n"
     ]
    },
    {
     "name": "stderr",
     "output_type": "stream",
     "text": [
      "100%|████████████████████████████████████████████████████████████████████████████████████████████████████████████████████████████| 120/120 [00:00<00:00, 163.73it/s]\n"
     ]
    },
    {
     "name": "stdout",
     "output_type": "stream",
     "text": [
      "\u001b[31m| Metric               |      Value |\n",
      "|----------------------|------------|\n",
      "| target_probability   |  0.0891431 |\n",
      "| choice_accuracy      |  0.769294  |\n",
      "| choice_accuracy_deg3 |  0.714842  |\n",
      "| precision_top1       |  0.1       |\n",
      "| precision_top5       |  0.55      |\n",
      "| path_nll             | 15.4111    |\n",
      "| path_nll_deg3        | 14.7558    |\u001b[0m\n",
      "\n",
      "=== EPOCH 40 ===\n",
      "Progress 10% | iter 8 | 152.1 pred/s | loss log_dot_loss 0.07469598393381377\n",
      "Progress 20% | iter 17 | 176.8 pred/s | loss log_dot_loss 0.07511027918921577\n",
      "Progress 30% | iter 26 | 154.0 pred/s | loss log_dot_loss 0.07072425359561119\n",
      "Progress 40% | iter 35 | 153.8 pred/s | loss log_dot_loss 0.08013132825309847\n",
      "Progress 50% | iter 44 | 180.0 pred/s | loss log_dot_loss 0.07438596089680989\n",
      "Progress 60% | iter 53 | 159.6 pred/s | loss log_dot_loss 0.07335793618802672\n",
      "Progress 70% | iter 62 | 160.5 pred/s | loss log_dot_loss 0.08796451297807105\n",
      "Progress 80% | iter 71 | 169.6 pred/s | loss log_dot_loss 0.07472303708394369\n",
      "Progress 90% | iter 80 | 156.4 pred/s | loss log_dot_loss 0.07565680609809028\n",
      "Progress 100% | iter 89 | 164.2 pred/s | loss log_dot_loss 0.08281267631201096\n",
      "\n",
      "=== TEST ===\n",
      "\n"
     ]
    },
    {
     "name": "stderr",
     "output_type": "stream",
     "text": [
      "100%|████████████████████████████████████████████████████████████████████████████████████████████████████████████████████████████| 120/120 [00:00<00:00, 163.14it/s]\n"
     ]
    },
    {
     "name": "stdout",
     "output_type": "stream",
     "text": [
      "\u001b[31m| Metric               |      Value |\n",
      "|----------------------|------------|\n",
      "| target_probability   |  0.0760188 |\n",
      "| choice_accuracy      |  0.733388  |\n",
      "| choice_accuracy_deg3 |  0.668149  |\n",
      "| precision_top1       |  0.0666667 |\n",
      "| precision_top5       |  0.558333  |\n",
      "| path_nll             | 17.347     |\n",
      "| path_nll_deg3        | 16.5387    |\u001b[0m\n",
      "Checkpointing...\n",
      "\u001b[34mCheckpoint saved in ../../models/gretel_prediction_models/tromso_small/chkpt/one_start_node_to_target_tromso_small/0040.pt\u001b[0m\n",
      "\n",
      "=== EPOCH 41 ===\n",
      "Progress 10% | iter 8 | 153.8 pred/s | loss log_dot_loss 0.08518802030586901\n",
      "Progress 20% | iter 17 | 162.8 pred/s | loss log_dot_loss 0.07806260732956874\n",
      "Progress 30% | iter 26 | 156.3 pred/s | loss log_dot_loss 0.08303225481951679\n",
      "Progress 40% | iter 35 | 160.7 pred/s | loss log_dot_loss 0.06477414354865933\n",
      "Progress 50% | iter 44 | 167.7 pred/s | loss log_dot_loss 0.0800717712920389\n",
      "Progress 60% | iter 53 | 167.1 pred/s | loss log_dot_loss 0.08118200007780098\n",
      "Progress 70% | iter 62 | 159.4 pred/s | loss log_dot_loss 0.08417854662294741\n",
      "Progress 80% | iter 71 | 178.2 pred/s | loss log_dot_loss 0.06390715116336021\n",
      "Progress 90% | iter 80 | 159.5 pred/s | loss log_dot_loss 0.07664493395958417\n",
      "Progress 100% | iter 89 | 155.5 pred/s | loss log_dot_loss 0.07254086953622323\n",
      "\n",
      "=== TEST ===\n",
      "\n"
     ]
    },
    {
     "name": "stderr",
     "output_type": "stream",
     "text": [
      "100%|████████████████████████████████████████████████████████████████████████████████████████████████████████████████████████████| 120/120 [00:00<00:00, 163.42it/s]\n"
     ]
    },
    {
     "name": "stdout",
     "output_type": "stream",
     "text": [
      "\u001b[31m| Metric               |      Value |\n",
      "|----------------------|------------|\n",
      "| target_probability   |  0.0976133 |\n",
      "| choice_accuracy      |  0.754437  |\n",
      "| choice_accuracy_deg3 |  0.69483   |\n",
      "| precision_top1       |  0.0833333 |\n",
      "| precision_top5       |  0.633333  |\n",
      "| path_nll             | 16.7372    |\n",
      "| path_nll_deg3        | 16.0221    |\u001b[0m\n",
      "\n",
      "=== EPOCH 42 ===\n",
      "Progress 10% | iter 8 | 176.6 pred/s | loss log_dot_loss 0.07023545194555211\n",
      "Progress 20% | iter 17 | 147.2 pred/s | loss log_dot_loss 0.08956172613450038\n",
      "Progress 30% | iter 26 | 153.0 pred/s | loss log_dot_loss 0.09644979547571252\n",
      "Progress 40% | iter 35 | 176.5 pred/s | loss log_dot_loss 0.08356109077547803\n",
      "Progress 50% | iter 44 | 166.7 pred/s | loss log_dot_loss 0.08754782146877713\n",
      "Progress 60% | iter 53 | 160.0 pred/s | loss log_dot_loss 0.08785340874283401\n",
      "Progress 70% | iter 62 | 167.6 pred/s | loss log_dot_loss 0.070331436910747\n",
      "Progress 80% | iter 71 | 155.9 pred/s | loss log_dot_loss 0.08228846126132541\n",
      "Progress 90% | iter 80 | 150.0 pred/s | loss log_dot_loss 0.09697119453806936\n",
      "Progress 100% | iter 89 | 166.5 pred/s | loss log_dot_loss 0.07414381003674166\n",
      "\n",
      "=== TEST ===\n",
      "\n"
     ]
    },
    {
     "name": "stderr",
     "output_type": "stream",
     "text": [
      "100%|████████████████████████████████████████████████████████████████████████████████████████████████████████████████████████████| 120/120 [00:00<00:00, 163.12it/s]\n"
     ]
    },
    {
     "name": "stdout",
     "output_type": "stream",
     "text": [
      "\u001b[31m| Metric               |      Value |\n",
      "|----------------------|------------|\n",
      "| target_probability   |  0.0615547 |\n",
      "| choice_accuracy      |  0.672307  |\n",
      "| choice_accuracy_deg3 |  0.595331  |\n",
      "| precision_top1       |  0.075     |\n",
      "| precision_top5       |  0.366667  |\n",
      "| path_nll             | 18.7077    |\n",
      "| path_nll_deg3        | 17.7842    |\u001b[0m\n",
      "\n",
      "=== EPOCH 43 ===\n",
      "Progress 10% | iter 8 | 153.8 pred/s | loss log_dot_loss 0.07357936023194113\n",
      "Progress 20% | iter 17 | 163.4 pred/s | loss log_dot_loss 0.0796768836033197\n",
      "Progress 30% | iter 26 | 153.9 pred/s | loss log_dot_loss 0.08759391749346698\n",
      "Progress 40% | iter 35 | 166.6 pred/s | loss log_dot_loss 0.0789966035772253\n",
      "Progress 50% | iter 44 | 149.9 pred/s | loss log_dot_loss 0.09922054255450213\n",
      "Progress 60% | iter 53 | 163.6 pred/s | loss log_dot_loss 0.08872914844089085\n",
      "Progress 70% | iter 62 | 159.2 pred/s | loss log_dot_loss 0.08489263911306123\n",
      "Progress 80% | iter 71 | 174.6 pred/s | loss log_dot_loss 0.09924282792173786\n",
      "Progress 90% | iter 80 | 159.1 pred/s | loss log_dot_loss 0.08993942296063459\n",
      "Progress 100% | iter 89 | 174.0 pred/s | loss log_dot_loss 0.08928540783163942\n",
      "\n",
      "=== TEST ===\n",
      "\n"
     ]
    },
    {
     "name": "stderr",
     "output_type": "stream",
     "text": [
      "100%|████████████████████████████████████████████████████████████████████████████████████████████████████████████████████████████| 120/120 [00:00<00:00, 162.77it/s]\n"
     ]
    },
    {
     "name": "stdout",
     "output_type": "stream",
     "text": [
      "\u001b[31m| Metric               |      Value |\n",
      "|----------------------|------------|\n",
      "| target_probability   |  0.0631799 |\n",
      "| choice_accuracy      |  0.667767  |\n",
      "| choice_accuracy_deg3 |  0.586437  |\n",
      "| precision_top1       |  0.0833333 |\n",
      "| precision_top5       |  0.408333  |\n",
      "| path_nll             | 18.9319    |\n",
      "| path_nll_deg3        | 18.003     |\u001b[0m\n",
      "\n",
      "=== EPOCH 44 ===\n",
      "Progress 10% | iter 8 | 170.8 pred/s | loss log_dot_loss 0.06910011621169102\n",
      "Progress 20% | iter 17 | 165.7 pred/s | loss log_dot_loss 0.09140909866050438\n",
      "Progress 30% | iter 26 | 154.3 pred/s | loss log_dot_loss 0.0881801493373918\n",
      "Progress 40% | iter 35 | 154.6 pred/s | loss log_dot_loss 0.08641603434527362\n",
      "Progress 50% | iter 44 | 153.0 pred/s | loss log_dot_loss 0.09720415362605343\n",
      "Progress 60% | iter 53 | 168.4 pred/s | loss log_dot_loss 0.08658016699331779\n",
      "Progress 70% | iter 62 | 157.6 pred/s | loss log_dot_loss 0.07054824358151283\n",
      "Progress 80% | iter 71 | 164.5 pred/s | loss log_dot_loss 0.08283674039958436\n",
      "Progress 90% | iter 80 | 170.9 pred/s | loss log_dot_loss 0.09302659741154423\n",
      "Progress 100% | iter 89 | 154.3 pred/s | loss log_dot_loss 0.10071212686138388\n",
      "\n",
      "=== TEST ===\n",
      "\n"
     ]
    },
    {
     "name": "stderr",
     "output_type": "stream",
     "text": [
      "100%|████████████████████████████████████████████████████████████████████████████████████████████████████████████████████████████| 120/120 [00:00<00:00, 163.27it/s]\n"
     ]
    },
    {
     "name": "stdout",
     "output_type": "stream",
     "text": [
      "\u001b[31m| Metric               |      Value |\n",
      "|----------------------|------------|\n",
      "| target_probability   |  0.0642752 |\n",
      "| choice_accuracy      |  0.679736  |\n",
      "| choice_accuracy_deg3 |  0.601445  |\n",
      "| precision_top1       |  0.1       |\n",
      "| precision_top5       |  0.441667  |\n",
      "| path_nll             | 19.0888    |\n",
      "| path_nll_deg3        | 18.1552    |\u001b[0m\n",
      "\n",
      "=== EPOCH 45 ===\n",
      "Progress 10% | iter 8 | 159.1 pred/s | loss log_dot_loss 0.09088188866038381\n",
      "Progress 20% | iter 17 | 159.6 pred/s | loss log_dot_loss 0.10829604584493756\n",
      "Progress 30% | iter 26 | 179.4 pred/s | loss log_dot_loss 0.07761613881146466\n",
      "Progress 40% | iter 35 | 162.5 pred/s | loss log_dot_loss 0.06511348559532636\n",
      "Progress 50% | iter 44 | 155.8 pred/s | loss log_dot_loss 0.09102753709863733\n",
      "Progress 60% | iter 53 | 165.1 pred/s | loss log_dot_loss 0.08442443506217298\n",
      "Progress 70% | iter 62 | 164.5 pred/s | loss log_dot_loss 0.08099088609954457\n",
      "Progress 80% | iter 71 | 166.2 pred/s | loss log_dot_loss 0.0874366330511776\n",
      "Progress 90% | iter 80 | 155.5 pred/s | loss log_dot_loss 0.08235687444239487\n",
      "Progress 100% | iter 89 | 154.6 pred/s | loss log_dot_loss 0.09028499391343858\n",
      "\n",
      "=== TEST ===\n",
      "\n"
     ]
    },
    {
     "name": "stderr",
     "output_type": "stream",
     "text": [
      "100%|████████████████████████████████████████████████████████████████████████████████████████████████████████████████████████████| 120/120 [00:00<00:00, 163.02it/s]\n"
     ]
    },
    {
     "name": "stdout",
     "output_type": "stream",
     "text": [
      "\u001b[31m| Metric               |      Value |\n",
      "|----------------------|------------|\n",
      "| target_probability   |  0.0649207 |\n",
      "| choice_accuracy      |  0.680561  |\n",
      "| choice_accuracy_deg3 |  0.600889  |\n",
      "| precision_top1       |  0.1       |\n",
      "| precision_top5       |  0.433333  |\n",
      "| path_nll             | 19.1819    |\n",
      "| path_nll_deg3        | 18.245     |\u001b[0m\n",
      "Checkpointing...\n",
      "\u001b[34mCheckpoint saved in ../../models/gretel_prediction_models/tromso_small/chkpt/one_start_node_to_target_tromso_small/0045.pt\u001b[0m\n",
      "\n",
      "=== EPOCH 46 ===\n",
      "Progress 10% | iter 8 | 159.5 pred/s | loss log_dot_loss 0.08188795395839361\n",
      "Progress 20% | iter 17 | 160.6 pred/s | loss log_dot_loss 0.0916286250691355\n",
      "Progress 30% | iter 26 | 152.0 pred/s | loss log_dot_loss 0.10213551344694916\n",
      "Progress 40% | iter 35 | 168.2 pred/s | loss log_dot_loss 0.09413707756701811\n",
      "Progress 50% | iter 44 | 167.7 pred/s | loss log_dot_loss 0.08932865342976133\n",
      "Progress 60% | iter 53 | 159.4 pred/s | loss log_dot_loss 0.06521023556038186\n",
      "Progress 70% | iter 62 | 159.6 pred/s | loss log_dot_loss 0.07587014422004605\n",
      "Progress 80% | iter 71 | 160.1 pred/s | loss log_dot_loss 0.09200096542452588\n",
      "Progress 90% | iter 80 | 163.9 pred/s | loss log_dot_loss 0.06935710671507282\n",
      "Progress 100% | iter 89 | 170.1 pred/s | loss log_dot_loss 0.09646339416503906\n",
      "\n",
      "=== TEST ===\n",
      "\n"
     ]
    },
    {
     "name": "stderr",
     "output_type": "stream",
     "text": [
      "100%|████████████████████████████████████████████████████████████████████████████████████████████████████████████████████████████| 120/120 [00:00<00:00, 163.50it/s]\n"
     ]
    },
    {
     "name": "stdout",
     "output_type": "stream",
     "text": [
      "\u001b[31m| Metric               |      Value |\n",
      "|----------------------|------------|\n",
      "| target_probability   |  0.0867759 |\n",
      "| choice_accuracy      |  0.734626  |\n",
      "| choice_accuracy_deg3 |  0.668149  |\n",
      "| precision_top1       |  0.125     |\n",
      "| precision_top5       |  0.575     |\n",
      "| path_nll             | 18.5323    |\n",
      "| path_nll_deg3        | 17.8361    |\u001b[0m\n",
      "\n",
      "=== EPOCH 47 ===\n",
      "Progress 10% | iter 8 | 158.7 pred/s | loss log_dot_loss 0.07202571821801457\n",
      "Progress 20% | iter 17 | 154.4 pred/s | loss log_dot_loss 0.10553589750219275\n",
      "Progress 30% | iter 26 | 169.6 pred/s | loss log_dot_loss 0.11177259374547889\n",
      "Progress 40% | iter 35 | 155.9 pred/s | loss log_dot_loss 0.10026453689292626\n",
      "Progress 50% | iter 44 | 157.2 pred/s | loss log_dot_loss 0.1279235863391264\n",
      "Progress 60% | iter 53 | 160.2 pred/s | loss log_dot_loss 0.12163198671223203\n",
      "Progress 70% | iter 62 | 156.2 pred/s | loss log_dot_loss 0.11382279101713204\n",
      "Progress 80% | iter 71 | 165.9 pred/s | loss log_dot_loss 0.11805489504778827\n",
      "Progress 90% | iter 80 | 163.7 pred/s | loss log_dot_loss 0.12113755544026693\n",
      "Progress 100% | iter 89 | 165.9 pred/s | loss log_dot_loss 0.12593987665058654\n",
      "\n",
      "=== TEST ===\n",
      "\n"
     ]
    },
    {
     "name": "stderr",
     "output_type": "stream",
     "text": [
      "100%|████████████████████████████████████████████████████████████████████████████████████████████████████████████████████████████| 120/120 [00:00<00:00, 162.42it/s]\n"
     ]
    },
    {
     "name": "stdout",
     "output_type": "stream",
     "text": [
      "\u001b[31m| Metric               |      Value |\n",
      "|----------------------|------------|\n",
      "| target_probability   |  0.0287043 |\n",
      "| choice_accuracy      |  0.427982  |\n",
      "| choice_accuracy_deg3 |  0.292385  |\n",
      "| precision_top1       |  0.05      |\n",
      "| precision_top5       |  0.108333  |\n",
      "| path_nll             | 24.983     |\n",
      "| path_nll_deg3        | 23.5765    |\u001b[0m\n",
      "\n",
      "=== EPOCH 48 ===\n",
      "Progress 10% | iter 8 | 175.4 pred/s | loss log_dot_loss 0.12116220144577967\n",
      "Progress 20% | iter 17 | 148.8 pred/s | loss log_dot_loss 0.12951524640307016\n",
      "Progress 30% | iter 26 | 167.0 pred/s | loss log_dot_loss 0.10057110433225278\n",
      "Progress 40% | iter 35 | 176.7 pred/s | loss log_dot_loss 0.11349313877246998\n",
      "Progress 50% | iter 44 | 144.7 pred/s | loss log_dot_loss 0.13158296714594334\n",
      "Progress 60% | iter 53 | 152.3 pred/s | loss log_dot_loss 0.11842911214004329\n",
      "Progress 70% | iter 62 | 163.1 pred/s | loss log_dot_loss 0.122702983573631\n",
      "Progress 80% | iter 71 | 162.6 pred/s | loss log_dot_loss 0.13302570978800457\n",
      "Progress 90% | iter 80 | 167.3 pred/s | loss log_dot_loss 0.10753264132841134\n",
      "Progress 100% | iter 89 | 159.4 pred/s | loss log_dot_loss 0.1162043241806972\n",
      "\n",
      "=== TEST ===\n",
      "\n"
     ]
    },
    {
     "name": "stderr",
     "output_type": "stream",
     "text": [
      "100%|████████████████████████████████████████████████████████████████████████████████████████████████████████████████████████████| 120/120 [00:00<00:00, 163.07it/s]\n"
     ]
    },
    {
     "name": "stdout",
     "output_type": "stream",
     "text": [
      "\u001b[31m| Metric               |      Value |\n",
      "|----------------------|------------|\n",
      "| target_probability   |  0.0280535 |\n",
      "| choice_accuracy      |  0.3896    |\n",
      "| choice_accuracy_deg3 |  0.255698  |\n",
      "| precision_top1       |  0.05      |\n",
      "| precision_top5       |  0.108333  |\n",
      "| path_nll             | 25.83      |\n",
      "| path_nll_deg3        | 23.9457    |\u001b[0m\n",
      "\n",
      "=== EPOCH 49 ===\n",
      "Progress 10% | iter 8 | 167.7 pred/s | loss log_dot_loss 0.12427895392900633\n",
      "Progress 20% | iter 17 | 171.3 pred/s | loss log_dot_loss 0.1304780000521813\n",
      "Progress 30% | iter 26 | 151.7 pred/s | loss log_dot_loss 0.11643512867115163\n",
      "Progress 40% | iter 35 | 161.0 pred/s | loss log_dot_loss 0.12315927081637912\n",
      "Progress 50% | iter 44 | 159.3 pred/s | loss log_dot_loss 0.10850732532548316\n",
      "Progress 60% | iter 53 | 157.1 pred/s | loss log_dot_loss 0.1190336298059534\n",
      "Progress 70% | iter 62 | 168.1 pred/s | loss log_dot_loss 0.11616974818853684\n",
      "Progress 80% | iter 71 | 166.1 pred/s | loss log_dot_loss 0.10586763546790606\n",
      "Progress 90% | iter 80 | 152.2 pred/s | loss log_dot_loss 0.12245343643941999\n",
      "Progress 100% | iter 89 | 161.1 pred/s | loss log_dot_loss 0.1224748811604064\n",
      "\n",
      "=== TEST ===\n",
      "\n"
     ]
    },
    {
     "name": "stderr",
     "output_type": "stream",
     "text": [
      "100%|████████████████████████████████████████████████████████████████████████████████████████████████████████████████████████████| 120/120 [00:00<00:00, 162.50it/s]"
     ]
    },
    {
     "name": "stdout",
     "output_type": "stream",
     "text": [
      "\u001b[31m| Metric               |      Value |\n",
      "|----------------------|------------|\n",
      "| target_probability   |  0.0278408 |\n",
      "| choice_accuracy      |  0.403632  |\n",
      "| choice_accuracy_deg3 |  0.280156  |\n",
      "| precision_top1       |  0.05      |\n",
      "| precision_top5       |  0.108333  |\n",
      "| path_nll             | 25.6366    |\n",
      "| path_nll_deg3        | 23.7473    |\u001b[0m\n"
     ]
    },
    {
     "name": "stderr",
     "output_type": "stream",
     "text": [
      "\n"
     ]
    }
   ],
   "source": [
    "directory = '../../models/gretel_prediction_models/tromso_small/'\n",
    "config_file = 'route_target'\n",
    "task = 'start-to-end'\n",
    "model = GretelPathPrediction()\n",
    "model.train(config_file, directory, task)"
   ]
  },
  {
   "cell_type": "code",
   "execution_count": 3,
   "id": "316385a0-bc3c-4e2e-a636-356187a9f299",
   "metadata": {},
   "outputs": [],
   "source": [
    "start_node = 185\n",
    "end_node = 474\n",
    "predictions, flag = model.predict_path(start_node, end_node, max_path_length=100, n_predictions=5, n_walks=1000)"
   ]
  },
  {
   "cell_type": "code",
   "execution_count": 4,
   "id": "c9ef6d0c-3eef-4a42-a1fe-7886e593b8a6",
   "metadata": {},
   "outputs": [],
   "source": [
    "# read model name from file\n",
    "with open(directory+'metadata.txt') as f:\n",
    "    model_name = f.readline().strip()\n",
    "# Load test data from file\n",
    "test_date = '202206'\n",
    "filename = model_name+'_'+test_date+'_paths.csv'\n",
    "df = pd.read_csv('../../data/paths/'+filename)\n",
    "df['path'] = df['path'].apply(literal_eval)\n",
    "df = df[df['message']=='success']\n",
    "test_data = df[['mmsi', 'path']]"
   ]
  },
  {
   "cell_type": "code",
   "execution_count": 5,
   "id": "847a9acd-9b08-4915-b19b-f55386339b09",
   "metadata": {},
   "outputs": [
    {
     "name": "stdout",
     "output_type": "stream",
     "text": [
      "Making predictions for 1521 samples\n",
      "Progress: 10%...20%...30%...40%...50%...60%...70%...80%...90%...Done!\n"
     ]
    }
   ],
   "source": [
    "result_list=[]\n",
    "print(f'Making predictions for {len(test_data)} samples')\n",
    "print(f'Progress:', end=' ', flush=True)\n",
    "count = 0  # initialize a counter that keeps track of the progress\n",
    "percentage = 0  # percentage of progress\n",
    "for index, row in test_data.iterrows():\n",
    "    mmsi = row['mmsi']\n",
    "    path = row['path']\n",
    "    start_node = path[0]\n",
    "    end_node = path[-1]\n",
    "    prediction, flag = model.predict_path(start_node, end_node, max_path_length=100, n_predictions=1, n_walks=100)\n",
    "    predicted_path = [x for x in list(prediction)[0]]\n",
    "    result_list.append({'mmsi': mmsi, 'ground_truth': tuple(path), 'prediction': tuple(predicted_path)})\n",
    "    # report progress\n",
    "    count += 1\n",
    "    if count/len(test_data) > 0.1:\n",
    "        count = 0\n",
    "        percentage += 10\n",
    "        print(f'{percentage}%...', end='', flush=True)\n",
    "            \n",
    "print('Done!')\n",
    "\n",
    "result_df = pd.DataFrame(result_list)"
   ]
  },
  {
   "cell_type": "code",
   "execution_count": 6,
   "id": "7918479f-e9ec-4a91-bfa0-b0a808b1e379",
   "metadata": {},
   "outputs": [],
   "source": [
    "# save results as csv\n",
    "result_df.to_csv(directory+'predictions.csv')"
   ]
  },
  {
   "cell_type": "code",
   "execution_count": null,
   "id": "b5b5b9af-7f9e-4f9b-aa01-5ac565175a2a",
   "metadata": {},
   "outputs": [],
   "source": []
  }
 ],
 "metadata": {
  "kernelspec": {
   "display_name": "Python 3 (ipykernel)",
   "language": "python",
   "name": "python3"
  },
  "language_info": {
   "codemirror_mode": {
    "name": "ipython",
    "version": 3
   },
   "file_extension": ".py",
   "mimetype": "text/x-python",
   "name": "python",
   "nbconvert_exporter": "python",
   "pygments_lexer": "ipython3",
   "version": "3.11.4"
  }
 },
 "nbformat": 4,
 "nbformat_minor": 5
}
