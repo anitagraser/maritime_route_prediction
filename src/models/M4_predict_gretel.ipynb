{
 "cells": [
  {
   "cell_type": "code",
   "execution_count": 1,
   "id": "b4cd3175",
   "metadata": {},
   "outputs": [],
   "source": [
    "import pandas as pd\n",
    "import json\n",
    "import numpy as np\n",
    "import pickle\n",
    "from ast import literal_eval\n",
    "import sys\n",
    "\n",
    "sys.path.append('../datawrangling')\n",
    "\n",
    "# import modules\n",
    "import dataloader_paths\n",
    "from Gretel_path_prediction import GretelPathPrediction\n",
    "\n",
    "import warnings\n",
    "warnings.filterwarnings('ignore')"
   ]
  },
  {
   "cell_type": "code",
   "execution_count": 2,
   "id": "2608b4f4",
   "metadata": {},
   "outputs": [
    {
     "name": "stdout",
     "output_type": "stream",
     "text": [
      "number of trajectories:  2927\n",
      "number of valid trajectories (length in [2, 101]): 2927\n",
      "trajectories length: min 2 | max 101 | mean 24.83\n",
      "split train/(valid)?/test 0.8/0.2\n",
      "==== START \"tromso_small\" ====\n",
      "Checkpoints will be saved in [../../models/gretel_prediction_models/tromso_small/chkpt/tromso_small]\n",
      "Number of node features 1. Number of edge features 3\n",
      "No initial edge transformer.\n",
      "Computing non backtracking edges...\n",
      "Done\n",
      "=== BASELINE ===\n",
      "TEST DATASET\n"
     ]
    },
    {
     "name": "stderr",
     "output_type": "stream",
     "text": [
      "100%|██████████████████████████████████████████████████████████████████████████████████████████████████████████████████████████████| 585/585 [00:03<00:00, 193.31it/s]\n"
     ]
    },
    {
     "name": "stdout",
     "output_type": "stream",
     "text": [
      "\u001b[32m| Metric               |    Value |\n",
      "|----------------------|----------|\n",
      "| target_probability   | 0.326799 |\n",
      "| choice_accuracy      | 0.343226 |\n",
      "| choice_accuracy_deg3 | 0.343226 |\n",
      "| precision_top1       | 0.308482 |\n",
      "| precision_top5       | 0.847123 |\n",
      "| path_nll             | 1.39239  |\n",
      "| path_nll_deg3        | 1.39239  |\u001b[0m\n",
      "TRAIN DATASET\n"
     ]
    },
    {
     "name": "stderr",
     "output_type": "stream",
     "text": [
      "100%|████████████████████████████████████████████████████████████████████████████████████████████████████████████████████████████| 2341/2341 [00:10<00:00, 217.72it/s]\n"
     ]
    },
    {
     "name": "stdout",
     "output_type": "stream",
     "text": [
      "\u001b[32m| Metric               |    Value |\n",
      "|----------------------|----------|\n",
      "| target_probability   | 0.333452 |\n",
      "| choice_accuracy      | 0.341516 |\n",
      "| choice_accuracy_deg3 | 0.341516 |\n",
      "| precision_top1       | 0.309809 |\n",
      "| precision_top5       | 0.859588 |\n",
      "| path_nll             | 1.3605   |\n",
      "| path_nll_deg3        | 1.3605   |\u001b[0m\n",
      "=== NON BACKTRACKING BASELINE ===\n",
      "TEST DATASET\n"
     ]
    },
    {
     "name": "stderr",
     "output_type": "stream",
     "text": [
      "100%|███████████████████████████████████████████████████████████████████████████████████████████████████████████████████████████████| 585/585 [00:09<00:00, 62.78it/s]\n"
     ]
    },
    {
     "name": "stdout",
     "output_type": "stream",
     "text": [
      "\u001b[32m| Metric               |    Value |\n",
      "|----------------------|----------|\n",
      "| target_probability   | 0.326799 |\n",
      "| choice_accuracy      | 0.336342 |\n",
      "| choice_accuracy_deg3 | 0.336342 |\n",
      "| precision_top1       | 0.308482 |\n",
      "| precision_top5       | 0.847123 |\n",
      "| path_nll             | 1.39239  |\n",
      "| path_nll_deg3        | 1.39239  |\u001b[0m\n",
      "TRAIN DATASET\n"
     ]
    },
    {
     "name": "stderr",
     "output_type": "stream",
     "text": [
      "100%|█████████████████████████████████████████████████████████████████████████████████████████████████████████████████████████████| 2341/2341 [00:36<00:00, 63.75it/s]"
     ]
    },
    {
     "name": "stdout",
     "output_type": "stream",
     "text": [
      "\u001b[32m| Metric               |    Value |\n",
      "|----------------------|----------|\n",
      "| target_probability   | 0.333452 |\n",
      "| choice_accuracy      | 0.341332 |\n",
      "| choice_accuracy_deg3 | 0.341332 |\n",
      "| precision_top1       | 0.309809 |\n",
      "| precision_top5       | 0.859588 |\n",
      "| path_nll             | 1.3605   |\n",
      "| path_nll_deg3        | 1.3605   |\u001b[0m\n",
      "Computing non backtracking graph... "
     ]
    },
    {
     "name": "stderr",
     "output_type": "stream",
     "text": [
      "\n"
     ]
    },
    {
     "name": "stdout",
     "output_type": "stream",
     "text": [
      "Done\n",
      "\n",
      "=== TEST ===\n",
      "\n"
     ]
    },
    {
     "name": "stderr",
     "output_type": "stream",
     "text": [
      "100%|███████████████████████████████████████████████████████████████████████████████████████████████████████████████████████████████| 585/585 [00:15<00:00, 37.00it/s]\n"
     ]
    },
    {
     "name": "stdout",
     "output_type": "stream",
     "text": [
      "\u001b[31m| Metric               |    Value |\n",
      "|----------------------|----------|\n",
      "| target_probability   | 0.330743 |\n",
      "| choice_accuracy      | 0.418691 |\n",
      "| choice_accuracy_deg3 | 0.418691 |\n",
      "| precision_top1       | 0.438239 |\n",
      "| precision_top5       | 0.863034 |\n",
      "| path_nll             | 1.37798  |\n",
      "| path_nll_deg3        | 1.37798  |\u001b[0m\n",
      "\n",
      "=== EPOCH 0 ===\n",
      "Progress 10% | iter 45 | 1538.4 pred/s | loss target_only -6.0824208650807656e-05\n",
      "Progress 20% | iter 91 | 1532.8 pred/s | loss target_only -7.065925656745814e-05\n",
      "Progress 30% | iter 137 | 1542.0 pred/s | loss target_only -7.008170989169668e-05\n",
      "Progress 40% | iter 183 | 1522.9 pred/s | loss target_only -8.105950621354848e-05\n",
      "Progress 50% | iter 229 | 1566.2 pred/s | loss target_only -7.834634977473458e-05\n",
      "Progress 60% | iter 275 | 1590.1 pred/s | loss target_only -7.602035511242534e-05\n",
      "Progress 70% | iter 321 | 1544.2 pred/s | loss target_only -8.097978582368309e-05\n",
      "Progress 80% | iter 367 | 1568.7 pred/s | loss target_only -8.806406882679095e-05\n",
      "Progress 90% | iter 413 | 1511.0 pred/s | loss target_only -9.473593857170487e-05\n",
      "Progress 100% | iter 459 | 1520.3 pred/s | loss target_only -9.87864684637057e-05\n",
      "\n",
      "=== TEST ===\n",
      "\n"
     ]
    },
    {
     "name": "stderr",
     "output_type": "stream",
     "text": [
      "100%|███████████████████████████████████████████████████████████████████████████████████████████████████████████████████████████████| 585/585 [00:15<00:00, 38.13it/s]\n"
     ]
    },
    {
     "name": "stdout",
     "output_type": "stream",
     "text": [
      "\u001b[31m| Metric               |    Value |\n",
      "|----------------------|----------|\n",
      "| target_probability   | 0.548582 |\n",
      "| choice_accuracy      | 0.774971 |\n",
      "| choice_accuracy_deg3 | 0.774971 |\n",
      "| precision_top1       | 0.772828 |\n",
      "| precision_top5       | 0.976296 |\n",
      "| path_nll             | 0.836948 |\n",
      "| path_nll_deg3        | 0.836948 |\u001b[0m\n",
      "Checkpointing...\n",
      "\u001b[34mCheckpoint saved in ../../models/gretel_prediction_models/tromso_small/chkpt/tromso_small/0000.pt\u001b[0m\n",
      "\n",
      "=== EPOCH 1 ===\n",
      "Progress 10% | iter 45 | 1479.3 pred/s | loss target_only -0.00010783001514766184\n",
      "Progress 20% | iter 91 | 1580.3 pred/s | loss target_only -9.699941285541473e-05\n",
      "Progress 30% | iter 137 | 1417.8 pred/s | loss target_only -0.00010084586399522663\n",
      "Progress 40% | iter 183 | 1403.0 pred/s | loss target_only -0.00011615546647309423\n",
      "Progress 50% | iter 229 | 1367.1 pred/s | loss target_only -0.0001083283701419676\n",
      "Progress 60% | iter 275 | 1268.0 pred/s | loss target_only -0.00011742467068878747\n",
      "Progress 70% | iter 321 | 1561.8 pred/s | loss target_only -0.00010438680626650373\n",
      "Progress 80% | iter 367 | 1445.5 pred/s | loss target_only -0.00012507741062176835\n",
      "Progress 90% | iter 413 | 1335.2 pred/s | loss target_only -0.0001223883522254122\n",
      "Progress 100% | iter 459 | 1163.3 pred/s | loss target_only -0.00012658010981682154\n",
      "\n",
      "=== TEST ===\n",
      "\n"
     ]
    },
    {
     "name": "stderr",
     "output_type": "stream",
     "text": [
      "100%|███████████████████████████████████████████████████████████████████████████████████████████████████████████████████████████████| 585/585 [00:18<00:00, 32.09it/s]\n"
     ]
    },
    {
     "name": "stdout",
     "output_type": "stream",
     "text": [
      "\u001b[31m| Metric               |    Value |\n",
      "|----------------------|----------|\n",
      "| target_probability   | 0.703601 |\n",
      "| choice_accuracy      | 0.781985 |\n",
      "| choice_accuracy_deg3 | 0.781985 |\n",
      "| precision_top1       | 0.78205  |\n",
      "| precision_top5       | 0.980777 |\n",
      "| path_nll             | 0.752069 |\n",
      "| path_nll_deg3        | 0.752069 |\u001b[0m\n",
      "\n",
      "=== EPOCH 2 ===\n",
      "Progress 10% | iter 45 | 1516.7 pred/s | loss target_only -0.00011320206320435781\n",
      "Progress 20% | iter 91 | 1513.5 pred/s | loss target_only -0.00011868603632812979\n",
      "Progress 30% | iter 137 | 1448.8 pred/s | loss target_only -0.0001306428705799992\n",
      "Progress 40% | iter 183 | 1155.0 pred/s | loss target_only -0.00011796107406918598\n",
      "Progress 50% | iter 229 | 1150.0 pred/s | loss target_only -0.00013014245837750628\n",
      "Progress 60% | iter 275 | 1239.5 pred/s | loss target_only -0.0001259009907618629\n",
      "Progress 70% | iter 321 | 1387.3 pred/s | loss target_only -0.00012639364194783935\n",
      "Progress 80% | iter 367 | 1444.0 pred/s | loss target_only -0.0001281744863880312\n",
      "Progress 90% | iter 413 | 1428.5 pred/s | loss target_only -0.0001274288451096832\n",
      "Progress 100% | iter 459 | 1438.7 pred/s | loss target_only -0.00013397376170248945\n",
      "\n",
      "=== TEST ===\n",
      "\n"
     ]
    },
    {
     "name": "stderr",
     "output_type": "stream",
     "text": [
      "100%|███████████████████████████████████████████████████████████████████████████████████████████████████████████████████████████████| 585/585 [00:18<00:00, 31.58it/s]\n"
     ]
    },
    {
     "name": "stdout",
     "output_type": "stream",
     "text": [
      "\u001b[31m| Metric               |    Value |\n",
      "|----------------------|----------|\n",
      "| target_probability   | 0.740464 |\n",
      "| choice_accuracy      | 0.779192 |\n",
      "| choice_accuracy_deg3 | 0.779192 |\n",
      "| precision_top1       | 0.778737 |\n",
      "| precision_top5       | 0.977335 |\n",
      "| path_nll             | 0.849694 |\n",
      "| path_nll_deg3        | 0.849694 |\u001b[0m\n",
      "\n",
      "=== EPOCH 3 ===\n",
      "Progress 10% | iter 45 | 1254.6 pred/s | loss target_only -0.0001348860789111893\n",
      "Progress 20% | iter 91 | 1413.6 pred/s | loss target_only -0.00012272979248471226\n",
      "Progress 30% | iter 137 | 1352.8 pred/s | loss target_only -0.00013237848024315782\n",
      "Progress 40% | iter 183 | 1359.5 pred/s | loss target_only -0.00014041850086827625\n",
      "Progress 50% | iter 229 | 1375.9 pred/s | loss target_only -0.00012516979493146363\n",
      "Progress 60% | iter 275 | 1418.2 pred/s | loss target_only -0.00012204180186317035\n",
      "Progress 70% | iter 321 | 1445.0 pred/s | loss target_only -0.0001192309445252575\n",
      "Progress 80% | iter 367 | 1346.7 pred/s | loss target_only -0.00012901906182429278\n",
      "Progress 90% | iter 413 | 1214.5 pred/s | loss target_only -0.00012580768814315313\n",
      "Progress 100% | iter 459 | 1183.7 pred/s | loss target_only -0.00012861370854385184\n",
      "\n",
      "=== TEST ===\n",
      "\n"
     ]
    },
    {
     "name": "stderr",
     "output_type": "stream",
     "text": [
      "100%|███████████████████████████████████████████████████████████████████████████████████████████████████████████████████████████████| 585/585 [00:17<00:00, 33.25it/s]\n"
     ]
    },
    {
     "name": "stdout",
     "output_type": "stream",
     "text": [
      "\u001b[31m| Metric               |    Value |\n",
      "|----------------------|----------|\n",
      "| target_probability   | 0.753393 |\n",
      "| choice_accuracy      | 0.781595 |\n",
      "| choice_accuracy_deg3 | 0.781595 |\n",
      "| precision_top1       | 0.782569 |\n",
      "| precision_top5       | 0.980842 |\n",
      "| path_nll             | 0.85277  |\n",
      "| path_nll_deg3        | 0.85277  |\u001b[0m\n",
      "\n",
      "=== EPOCH 4 ===\n",
      "Progress 10% | iter 45 | 1473.0 pred/s | loss target_only -0.0001235352998762411\n",
      "Progress 20% | iter 91 | 1451.1 pred/s | loss target_only -0.00013403841859228543\n",
      "Progress 30% | iter 137 | 1464.4 pred/s | loss target_only -0.0001259197909458048\n",
      "Progress 40% | iter 183 | 1456.8 pred/s | loss target_only -0.00012654336727086006\n",
      "Progress 50% | iter 229 | 1336.0 pred/s | loss target_only -0.00013925705627682443\n",
      "Progress 60% | iter 275 | 1429.9 pred/s | loss target_only -0.0001230215669240012\n",
      "Progress 70% | iter 321 | 1343.7 pred/s | loss target_only -0.00014454274122213678\n",
      "Progress 80% | iter 367 | 1306.0 pred/s | loss target_only -0.00013260487841086342\n",
      "Progress 90% | iter 413 | 1394.3 pred/s | loss target_only -0.00013242552049116545\n",
      "Progress 100% | iter 459 | 1374.5 pred/s | loss target_only -0.0001225792759135115\n",
      "\n",
      "=== TEST ===\n",
      "\n"
     ]
    },
    {
     "name": "stderr",
     "output_type": "stream",
     "text": [
      "100%|███████████████████████████████████████████████████████████████████████████████████████████████████████████████████████████████| 585/585 [00:16<00:00, 34.55it/s]\n"
     ]
    },
    {
     "name": "stdout",
     "output_type": "stream",
     "text": [
      "\u001b[31m| Metric               |    Value |\n",
      "|----------------------|----------|\n",
      "| target_probability   | 0.739584 |\n",
      "| choice_accuracy      | 0.782244 |\n",
      "| choice_accuracy_deg3 | 0.782244 |\n",
      "| precision_top1       | 0.779712 |\n",
      "| precision_top5       | 0.979478 |\n",
      "| path_nll             | 0.802704 |\n",
      "| path_nll_deg3        | 0.802704 |\u001b[0m\n",
      "\n",
      "=== EPOCH 5 ===\n",
      "Progress 10% | iter 45 | 1355.1 pred/s | loss target_only -0.00012634204136682784\n",
      "Progress 20% | iter 91 | 1353.6 pred/s | loss target_only -0.00012414271544720332\n",
      "Progress 30% | iter 137 | 1311.3 pred/s | loss target_only -0.00012406849326795862\n",
      "Progress 40% | iter 183 | 1311.0 pred/s | loss target_only -0.0001292419617569081\n",
      "Progress 50% | iter 229 | 1310.1 pred/s | loss target_only -0.00013633080545804183\n",
      "Progress 60% | iter 275 | 1403.7 pred/s | loss target_only -0.00013086991006855956\n",
      "Progress 70% | iter 321 | 1435.2 pred/s | loss target_only -0.00013236059631680332\n",
      "Progress 80% | iter 367 | 1483.2 pred/s | loss target_only -0.00011826782481548208\n",
      "Progress 90% | iter 413 | 1419.6 pred/s | loss target_only -0.00013622302160513157\n",
      "Progress 100% | iter 459 | 1348.5 pred/s | loss target_only -0.000135799097031383\n",
      "\n",
      "=== TEST ===\n",
      "\n"
     ]
    },
    {
     "name": "stderr",
     "output_type": "stream",
     "text": [
      "100%|███████████████████████████████████████████████████████████████████████████████████████████████████████████████████████████████| 585/585 [00:17<00:00, 33.77it/s]\n"
     ]
    },
    {
     "name": "stdout",
     "output_type": "stream",
     "text": [
      "\u001b[31m| Metric               |    Value |\n",
      "|----------------------|----------|\n",
      "| target_probability   | 0.762536 |\n",
      "| choice_accuracy      | 0.789583 |\n",
      "| choice_accuracy_deg3 | 0.789583 |\n",
      "| precision_top1       | 0.789518 |\n",
      "| precision_top5       | 0.981361 |\n",
      "| path_nll             | 0.920536 |\n",
      "| path_nll_deg3        | 0.920536 |\u001b[0m\n",
      "Checkpointing...\n",
      "\u001b[34mCheckpoint saved in ../../models/gretel_prediction_models/tromso_small/chkpt/tromso_small/0005.pt\u001b[0m\n",
      "\n",
      "=== EPOCH 6 ===\n",
      "Progress 10% | iter 45 | 1343.1 pred/s | loss target_only -0.00013246672895677114\n",
      "Progress 20% | iter 91 | 1355.5 pred/s | loss target_only -0.00013392776864954266\n",
      "Progress 30% | iter 137 | 1347.6 pred/s | loss target_only -0.00013417826421821422\n",
      "Progress 40% | iter 183 | 1305.5 pred/s | loss target_only -0.00013702388025506\n",
      "Progress 50% | iter 229 | 1317.7 pred/s | loss target_only -0.00012263698725662454\n",
      "Progress 60% | iter 275 | 1322.0 pred/s | loss target_only -0.00012445269728947079\n",
      "Progress 70% | iter 321 | 1415.4 pred/s | loss target_only -0.00012138812852171581\n",
      "Progress 80% | iter 367 | 1442.2 pred/s | loss target_only -0.00013161021172908858\n",
      "Progress 90% | iter 413 | 1435.9 pred/s | loss target_only -0.00012601689385050875\n",
      "Progress 100% | iter 459 | 1446.9 pred/s | loss target_only -0.00011866006050888755\n",
      "\n",
      "=== TEST ===\n",
      "\n"
     ]
    },
    {
     "name": "stderr",
     "output_type": "stream",
     "text": [
      "100%|███████████████████████████████████████████████████████████████████████████████████████████████████████████████████████████████| 585/585 [00:17<00:00, 33.05it/s]\n"
     ]
    },
    {
     "name": "stdout",
     "output_type": "stream",
     "text": [
      "\u001b[31m| Metric               |    Value |\n",
      "|----------------------|----------|\n",
      "| target_probability   | 0.733446 |\n",
      "| choice_accuracy      | 0.790557 |\n",
      "| choice_accuracy_deg3 | 0.790557 |\n",
      "| precision_top1       | 0.788219 |\n",
      "| precision_top5       | 0.980387 |\n",
      "| path_nll             | 0.780368 |\n",
      "| path_nll_deg3        | 0.780368 |\u001b[0m\n",
      "\n",
      "=== EPOCH 7 ===\n",
      "Progress 10% | iter 45 | 1490.2 pred/s | loss target_only -0.00012593617931604955\n",
      "Progress 20% | iter 91 | 1368.3 pred/s | loss target_only -0.00011974173709915183\n",
      "Progress 30% | iter 137 | 1239.6 pred/s | loss target_only -0.00013057553853022564\n",
      "Progress 40% | iter 183 | 1153.4 pred/s | loss target_only -0.00013385731906832593\n",
      "Progress 50% | iter 229 | 1179.2 pred/s | loss target_only -0.00014020180315507333\n",
      "Progress 60% | iter 275 | 1457.2 pred/s | loss target_only -0.00013326388421745937\n",
      "Progress 70% | iter 321 | 1503.0 pred/s | loss target_only -0.00012364838229782417\n",
      "Progress 80% | iter 367 | 1481.9 pred/s | loss target_only -0.00013072533549423062\n",
      "Progress 90% | iter 413 | 1458.8 pred/s | loss target_only -0.0001344814425867586\n",
      "Progress 100% | iter 459 | 1480.8 pred/s | loss target_only -0.00012251615816581137\n",
      "\n",
      "=== TEST ===\n",
      "\n"
     ]
    },
    {
     "name": "stderr",
     "output_type": "stream",
     "text": [
      "100%|███████████████████████████████████████████████████████████████████████████████████████████████████████████████████████████████| 585/585 [00:16<00:00, 36.03it/s]\n"
     ]
    },
    {
     "name": "stdout",
     "output_type": "stream",
     "text": [
      "\u001b[31m| Metric               |    Value |\n",
      "|----------------------|----------|\n",
      "| target_probability   | 0.765382 |\n",
      "| choice_accuracy      | 0.787245 |\n",
      "| choice_accuracy_deg3 | 0.787245 |\n",
      "| precision_top1       | 0.78705  |\n",
      "| precision_top5       | 0.978763 |\n",
      "| path_nll             | 0.938012 |\n",
      "| path_nll_deg3        | 0.938012 |\u001b[0m\n",
      "\n",
      "=== EPOCH 8 ===\n",
      "Progress 10% | iter 45 | 1412.7 pred/s | loss target_only -0.00014680049060048983\n",
      "Progress 20% | iter 91 | 1492.1 pred/s | loss target_only -0.00012585479649240093\n",
      "Progress 30% | iter 137 | 1470.1 pred/s | loss target_only -0.00012714877203477438\n",
      "Progress 40% | iter 183 | 1458.1 pred/s | loss target_only -0.00013889278830074158\n",
      "Progress 50% | iter 229 | 1455.8 pred/s | loss target_only -0.00013926188266960124\n",
      "Progress 60% | iter 275 | 1509.1 pred/s | loss target_only -0.00011484211513705619\n",
      "Progress 70% | iter 321 | 1501.1 pred/s | loss target_only -0.00012809920602876076\n",
      "Progress 80% | iter 367 | 1350.8 pred/s | loss target_only -0.00013267031980944874\n",
      "Progress 90% | iter 413 | 1472.6 pred/s | loss target_only -0.0001338358159142726\n",
      "Progress 100% | iter 459 | 1427.8 pred/s | loss target_only -0.00013975389177185238\n",
      "\n",
      "=== TEST ===\n",
      "\n"
     ]
    },
    {
     "name": "stderr",
     "output_type": "stream",
     "text": [
      "100%|███████████████████████████████████████████████████████████████████████████████████████████████████████████████████████████████| 585/585 [00:15<00:00, 36.74it/s]\n"
     ]
    },
    {
     "name": "stdout",
     "output_type": "stream",
     "text": [
      "\u001b[31m| Metric               |    Value |\n",
      "|----------------------|----------|\n",
      "| target_probability   | 0.768262 |\n",
      "| choice_accuracy      | 0.784647 |\n",
      "| choice_accuracy_deg3 | 0.784647 |\n",
      "| precision_top1       | 0.782569 |\n",
      "| precision_top5       | 0.969217 |\n",
      "| path_nll             | 1.0392   |\n",
      "| path_nll_deg3        | 1.0392   |\u001b[0m\n",
      "\n",
      "=== EPOCH 9 ===\n",
      "Progress 10% | iter 45 | 1447.8 pred/s | loss target_only -0.00014097310097104359\n",
      "Progress 20% | iter 91 | 1459.9 pred/s | loss target_only -0.00013553081618758832\n",
      "Progress 30% | iter 137 | 1474.9 pred/s | loss target_only -0.00013884552596974504\n",
      "Progress 40% | iter 183 | 1434.0 pred/s | loss target_only -0.00014047323013493805\n",
      "Progress 50% | iter 229 | 1494.4 pred/s | loss target_only -0.000133531427828975\n",
      "Progress 60% | iter 275 | 1483.2 pred/s | loss target_only -0.0001279375068808517\n",
      "Progress 70% | iter 321 | 1486.6 pred/s | loss target_only -0.00013290384479537352\n",
      "Progress 80% | iter 367 | 1492.2 pred/s | loss target_only -0.00012074989754453337\n",
      "Progress 90% | iter 413 | 1508.3 pred/s | loss target_only -0.00012971894063056833\n",
      "Progress 100% | iter 459 | 1459.0 pred/s | loss target_only -0.00013693969677469758\n",
      "\n",
      "=== TEST ===\n",
      "\n"
     ]
    },
    {
     "name": "stderr",
     "output_type": "stream",
     "text": [
      "100%|███████████████████████████████████████████████████████████████████████████████████████████████████████████████████████████████| 585/585 [00:15<00:00, 36.64it/s]\n"
     ]
    },
    {
     "name": "stdout",
     "output_type": "stream",
     "text": [
      "\u001b[31m| Metric               |    Value |\n",
      "|----------------------|----------|\n",
      "| target_probability   | 0.775718 |\n",
      "| choice_accuracy      | 0.788024 |\n",
      "| choice_accuracy_deg3 | 0.788024 |\n",
      "| precision_top1       | 0.786141 |\n",
      "| precision_top5       | 0.980712 |\n",
      "| path_nll             | 1.05885  |\n",
      "| path_nll_deg3        | 1.05885  |\u001b[0m\n",
      "\n",
      "=== EPOCH 10 ===\n",
      "Progress 10% | iter 45 | 1473.7 pred/s | loss target_only -0.0001237959060571507\n",
      "Progress 20% | iter 91 | 1484.1 pred/s | loss target_only -0.0001350309870017609\n",
      "Progress 30% | iter 137 | 1468.8 pred/s | loss target_only -0.00012894829534699964\n",
      "Progress 40% | iter 183 | 1460.3 pred/s | loss target_only -0.00012455730078421505\n",
      "Progress 50% | iter 229 | 1256.1 pred/s | loss target_only -0.0001210838721850529\n",
      "Progress 60% | iter 275 | 1387.5 pred/s | loss target_only -0.00014363332150020238\n",
      "Progress 70% | iter 321 | 1449.7 pred/s | loss target_only -0.0001368881686866078\n",
      "Progress 80% | iter 367 | 1376.7 pred/s | loss target_only -0.00013694014742884507\n",
      "Progress 90% | iter 413 | 1462.6 pred/s | loss target_only -0.000136753062402653\n",
      "Progress 100% | iter 459 | 1506.8 pred/s | loss target_only -0.00012378308724239446\n",
      "\n",
      "=== TEST ===\n",
      "\n"
     ]
    },
    {
     "name": "stderr",
     "output_type": "stream",
     "text": [
      "100%|███████████████████████████████████████████████████████████████████████████████████████████████████████████████████████████████| 585/585 [00:16<00:00, 36.39it/s]\n"
     ]
    },
    {
     "name": "stdout",
     "output_type": "stream",
     "text": [
      "\u001b[31m| Metric               |    Value |\n",
      "|----------------------|----------|\n",
      "| target_probability   | 0.774446 |\n",
      "| choice_accuracy      | 0.788154 |\n",
      "| choice_accuracy_deg3 | 0.788154 |\n",
      "| precision_top1       | 0.788284 |\n",
      "| precision_top5       | 0.97136  |\n",
      "| path_nll             | 1.1548   |\n",
      "| path_nll_deg3        | 1.1548   |\u001b[0m\n",
      "Checkpointing...\n",
      "\u001b[34mCheckpoint saved in ../../models/gretel_prediction_models/tromso_small/chkpt/tromso_small/0010.pt\u001b[0m\n",
      "\n",
      "=== EPOCH 11 ===\n",
      "Progress 10% | iter 45 | 1492.4 pred/s | loss target_only -0.00012803833823319975\n",
      "Progress 20% | iter 91 | 1441.9 pred/s | loss target_only -0.000141153559389661\n",
      "Progress 30% | iter 137 | 1484.0 pred/s | loss target_only -0.00012450956701160447\n",
      "Progress 40% | iter 183 | 1474.7 pred/s | loss target_only -0.00013059085718058683\n",
      "Progress 50% | iter 229 | 1443.5 pred/s | loss target_only -0.00014086776774833908\n",
      "Progress 60% | iter 275 | 1470.3 pred/s | loss target_only -0.0001329147551878691\n",
      "Progress 70% | iter 321 | 1474.0 pred/s | loss target_only -0.00013744931511658066\n",
      "Progress 80% | iter 367 | 1510.5 pred/s | loss target_only -0.0001242773241230148\n",
      "Progress 90% | iter 413 | 1441.1 pred/s | loss target_only -0.00013910730964326615\n",
      "Progress 100% | iter 459 | 1440.7 pred/s | loss target_only -0.00013868701702918622\n",
      "\n",
      "=== TEST ===\n",
      "\n"
     ]
    },
    {
     "name": "stderr",
     "output_type": "stream",
     "text": [
      "100%|███████████████████████████████████████████████████████████████████████████████████████████████████████████████████████████████| 585/585 [00:16<00:00, 35.06it/s]\n"
     ]
    },
    {
     "name": "stdout",
     "output_type": "stream",
     "text": [
      "\u001b[31m| Metric               |    Value |\n",
      "|----------------------|----------|\n",
      "| target_probability   | 0.768696 |\n",
      "| choice_accuracy      | 0.778543 |\n",
      "| choice_accuracy_deg3 | 0.778543 |\n",
      "| precision_top1       | 0.778673 |\n",
      "| precision_top5       | 0.95415  |\n",
      "| path_nll             | 1.19312  |\n",
      "| path_nll_deg3        | 1.19312  |\u001b[0m\n",
      "\n",
      "=== EPOCH 12 ===\n",
      "Progress 10% | iter 45 | 1438.9 pred/s | loss target_only -0.00013422072912949045\n",
      "Progress 20% | iter 91 | 1447.4 pred/s | loss target_only -0.0001312022103501343\n",
      "Progress 30% | iter 137 | 1394.9 pred/s | loss target_only -0.00012876152733621825\n",
      "Progress 40% | iter 183 | 1302.1 pred/s | loss target_only -0.00013470026252950773\n",
      "Progress 50% | iter 229 | 1430.9 pred/s | loss target_only -0.0001309455831128882\n",
      "Progress 60% | iter 275 | 1472.8 pred/s | loss target_only -0.00013134491116770746\n",
      "Progress 70% | iter 321 | 1461.8 pred/s | loss target_only -0.00013663726498224903\n",
      "Progress 80% | iter 367 | 1438.4 pred/s | loss target_only -0.00014056792373676606\n",
      "Progress 90% | iter 413 | 1397.3 pred/s | loss target_only -0.00014390633392782827\n",
      "Progress 100% | iter 459 | 1463.7 pred/s | loss target_only -0.00013087052566312964\n",
      "\n",
      "=== TEST ===\n",
      "\n"
     ]
    },
    {
     "name": "stderr",
     "output_type": "stream",
     "text": [
      "100%|███████████████████████████████████████████████████████████████████████████████████████████████████████████████████████████████| 585/585 [00:16<00:00, 36.42it/s]\n"
     ]
    },
    {
     "name": "stdout",
     "output_type": "stream",
     "text": [
      "\u001b[31m| Metric               |    Value |\n",
      "|----------------------|----------|\n",
      "| target_probability   | 0.748065 |\n",
      "| choice_accuracy      | 0.778543 |\n",
      "| choice_accuracy_deg3 | 0.778543 |\n",
      "| precision_top1       | 0.780686 |\n",
      "| precision_top5       | 0.966359 |\n",
      "| path_nll             | 0.951227 |\n",
      "| path_nll_deg3        | 0.951227 |\u001b[0m\n",
      "\n",
      "=== EPOCH 13 ===\n",
      "Progress 10% | iter 45 | 1357.5 pred/s | loss target_only -0.0001311109634007775\n",
      "Progress 20% | iter 91 | 1247.1 pred/s | loss target_only -0.00013639187538558393\n",
      "Progress 30% | iter 137 | 1416.5 pred/s | loss target_only -0.00013576878542558254\n",
      "Progress 40% | iter 183 | 1420.8 pred/s | loss target_only -0.00013845941929479865\n",
      "Progress 50% | iter 229 | 1453.3 pred/s | loss target_only -0.00013409910042919934\n",
      "Progress 60% | iter 275 | 1488.7 pred/s | loss target_only -0.00013329757517224644\n",
      "Progress 70% | iter 321 | 1463.4 pred/s | loss target_only -0.0001333086421537071\n",
      "Progress 80% | iter 367 | 1422.5 pred/s | loss target_only -0.00013139136268957788\n",
      "Progress 90% | iter 413 | 1305.2 pred/s | loss target_only -0.0001333361839766267\n",
      "Progress 100% | iter 459 | 1457.8 pred/s | loss target_only -0.00013132048576915928\n",
      "\n",
      "=== TEST ===\n",
      "\n"
     ]
    },
    {
     "name": "stderr",
     "output_type": "stream",
     "text": [
      "100%|███████████████████████████████████████████████████████████████████████████████████████████████████████████████████████████████| 585/585 [00:16<00:00, 36.51it/s]\n"
     ]
    },
    {
     "name": "stdout",
     "output_type": "stream",
     "text": [
      "\u001b[31m| Metric               |    Value |\n",
      "|----------------------|----------|\n",
      "| target_probability   | 0.778347 |\n",
      "| choice_accuracy      | 0.788674 |\n",
      "| choice_accuracy_deg3 | 0.788674 |\n",
      "| precision_top1       | 0.785232 |\n",
      "| precision_top5       | 0.979803 |\n",
      "| path_nll             | 1.17486  |\n",
      "| path_nll_deg3        | 1.17486  |\u001b[0m\n",
      "\n",
      "=== EPOCH 14 ===\n",
      "Progress 10% | iter 45 | 1435.6 pred/s | loss target_only -0.0001478824577862491\n",
      "Progress 20% | iter 91 | 1458.6 pred/s | loss target_only -0.00013925417179355657\n",
      "Progress 30% | iter 137 | 1437.8 pred/s | loss target_only -0.00013879352846774058\n",
      "Progress 40% | iter 183 | 1469.4 pred/s | loss target_only -0.00013599528436317103\n",
      "Progress 50% | iter 229 | 1490.0 pred/s | loss target_only -0.0001250157530750816\n",
      "Progress 60% | iter 275 | 1464.1 pred/s | loss target_only -0.0001306758420883192\n",
      "Progress 70% | iter 321 | 1497.7 pred/s | loss target_only -0.00012577574847181294\n",
      "Progress 80% | iter 367 | 1502.1 pred/s | loss target_only -0.0001281599515498165\n",
      "Progress 90% | iter 413 | 1486.1 pred/s | loss target_only -0.0001287747180749487\n",
      "Progress 100% | iter 459 | 1457.5 pred/s | loss target_only -0.00013463192658622232\n",
      "\n",
      "=== TEST ===\n",
      "\n"
     ]
    },
    {
     "name": "stderr",
     "output_type": "stream",
     "text": [
      "100%|███████████████████████████████████████████████████████████████████████████████████████████████████████████████████████████████| 585/585 [00:16<00:00, 36.24it/s]\n"
     ]
    },
    {
     "name": "stdout",
     "output_type": "stream",
     "text": [
      "\u001b[31m| Metric               |    Value |\n",
      "|----------------------|----------|\n",
      "| target_probability   | 0.770474 |\n",
      "| choice_accuracy      | 0.780946 |\n",
      "| choice_accuracy_deg3 | 0.780946 |\n",
      "| precision_top1       | 0.777569 |\n",
      "| precision_top5       | 0.967398 |\n",
      "| path_nll             | 1.34887  |\n",
      "| path_nll_deg3        | 1.34887  |\u001b[0m\n",
      "\n",
      "=== EPOCH 15 ===\n",
      "Progress 10% | iter 45 | 1427.1 pred/s | loss target_only -0.00014931139426940172\n",
      "Progress 20% | iter 91 | 1497.5 pred/s | loss target_only -0.00012956244367466898\n",
      "Progress 30% | iter 137 | 1455.1 pred/s | loss target_only -0.00012639714171400893\n",
      "Progress 40% | iter 183 | 1476.9 pred/s | loss target_only -0.0001363704088001255\n",
      "Progress 50% | iter 229 | 1495.2 pred/s | loss target_only -0.00012661450677094153\n",
      "Progress 60% | iter 275 | 1458.4 pred/s | loss target_only -0.00013193399816444033\n",
      "Progress 70% | iter 321 | 1459.4 pred/s | loss target_only -0.000126023048033279\n",
      "Progress 80% | iter 367 | 1432.3 pred/s | loss target_only -0.00014519785677525172\n",
      "Progress 90% | iter 413 | 1457.6 pred/s | loss target_only -0.0001395792437926827\n",
      "Progress 100% | iter 459 | 1509.9 pred/s | loss target_only -0.00013117449263988455\n",
      "\n",
      "=== TEST ===\n",
      "\n"
     ]
    },
    {
     "name": "stderr",
     "output_type": "stream",
     "text": [
      "100%|███████████████████████████████████████████████████████████████████████████████████████████████████████████████████████████████| 585/585 [00:16<00:00, 35.93it/s]\n"
     ]
    },
    {
     "name": "stdout",
     "output_type": "stream",
     "text": [
      "\u001b[31m| Metric               |    Value |\n",
      "|----------------------|----------|\n",
      "| target_probability   | 0.774598 |\n",
      "| choice_accuracy      | 0.787375 |\n",
      "| choice_accuracy_deg3 | 0.787375 |\n",
      "| precision_top1       | 0.782894 |\n",
      "| precision_top5       | 0.968437 |\n",
      "| path_nll             | 1.26672  |\n",
      "| path_nll_deg3        | 1.26672  |\u001b[0m\n",
      "Checkpointing...\n",
      "\u001b[34mCheckpoint saved in ../../models/gretel_prediction_models/tromso_small/chkpt/tromso_small/0015.pt\u001b[0m\n",
      "\n",
      "=== EPOCH 16 ===\n",
      "Progress 10% | iter 45 | 1357.3 pred/s | loss target_only -0.00014076784436246406\n",
      "Progress 20% | iter 91 | 1478.9 pred/s | loss target_only -0.00013206252601776814\n",
      "Progress 30% | iter 137 | 1475.1 pred/s | loss target_only -0.0001302010090571785\n",
      "Progress 40% | iter 183 | 1438.3 pred/s | loss target_only -0.00014378327028056938\n",
      "Progress 50% | iter 229 | 1486.3 pred/s | loss target_only -0.0001262070145512555\n",
      "Progress 60% | iter 275 | 1519.8 pred/s | loss target_only -0.00011860850202446672\n",
      "Progress 70% | iter 321 | 1464.5 pred/s | loss target_only -0.00013790928744777923\n",
      "Progress 80% | iter 367 | 1484.0 pred/s | loss target_only -0.0001318327633759721\n",
      "Progress 90% | iter 413 | 1448.2 pred/s | loss target_only -0.00013947115768645906\n",
      "Progress 100% | iter 459 | 1434.0 pred/s | loss target_only -0.0001463631860701129\n",
      "\n",
      "=== TEST ===\n",
      "\n"
     ]
    },
    {
     "name": "stderr",
     "output_type": "stream",
     "text": [
      "100%|███████████████████████████████████████████████████████████████████████████████████████████████████████████████████████████████| 585/585 [00:16<00:00, 35.95it/s]\n"
     ]
    },
    {
     "name": "stdout",
     "output_type": "stream",
     "text": [
      "\u001b[31m| Metric               |    Value |\n",
      "|----------------------|----------|\n",
      "| target_probability   | 0.777688 |\n",
      "| choice_accuracy      | 0.786985 |\n",
      "| choice_accuracy_deg3 | 0.786985 |\n",
      "| precision_top1       | 0.781465 |\n",
      "| precision_top5       | 0.972074 |\n",
      "| path_nll             | 1.36778  |\n",
      "| path_nll_deg3        | 1.36778  |\u001b[0m\n",
      "\n",
      "=== EPOCH 17 ===\n",
      "Progress 10% | iter 45 | 1503.9 pred/s | loss target_only -0.00012381792108835153\n",
      "Progress 20% | iter 91 | 1464.8 pred/s | loss target_only -0.00013590237277778024\n",
      "Progress 30% | iter 137 | 1498.8 pred/s | loss target_only -0.00012886441654614292\n",
      "Progress 40% | iter 183 | 1288.9 pred/s | loss target_only -0.00013738681476309263\n",
      "Progress 50% | iter 229 | 1176.0 pred/s | loss target_only -0.0001457495306459926\n",
      "Progress 60% | iter 275 | 1255.6 pred/s | loss target_only -0.00013606515726554205\n",
      "Progress 70% | iter 321 | 1291.2 pred/s | loss target_only -0.00014071430635239317\n",
      "Progress 80% | iter 367 | 1292.3 pred/s | loss target_only -0.00014166869643707827\n",
      "Progress 90% | iter 413 | 1495.3 pred/s | loss target_only -0.00012455885296386093\n",
      "Progress 100% | iter 459 | 1409.2 pred/s | loss target_only -0.0001343186083101657\n",
      "\n",
      "=== TEST ===\n",
      "\n"
     ]
    },
    {
     "name": "stderr",
     "output_type": "stream",
     "text": [
      "100%|███████████████████████████████████████████████████████████████████████████████████████████████████████████████████████████████| 585/585 [00:16<00:00, 35.93it/s]\n"
     ]
    },
    {
     "name": "stdout",
     "output_type": "stream",
     "text": [
      "\u001b[31m| Metric               |    Value |\n",
      "|----------------------|----------|\n",
      "| target_probability   | 0.755919 |\n",
      "| choice_accuracy      | 0.778737 |\n",
      "| choice_accuracy_deg3 | 0.778737 |\n",
      "| precision_top1       | 0.775166 |\n",
      "| precision_top5       | 0.962333 |\n",
      "| path_nll             | 1.14773  |\n",
      "| path_nll_deg3        | 1.14773  |\u001b[0m\n",
      "\n",
      "=== EPOCH 18 ===\n",
      "Progress 10% | iter 45 | 1456.8 pred/s | loss target_only -0.00013128903106452835\n",
      "Progress 20% | iter 91 | 1445.5 pred/s | loss target_only -0.00013979282861802385\n",
      "Progress 30% | iter 137 | 1445.8 pred/s | loss target_only -0.00013632623412660722\n",
      "Progress 40% | iter 183 | 1457.0 pred/s | loss target_only -0.00012914009500955242\n",
      "Progress 50% | iter 229 | 1488.1 pred/s | loss target_only -0.00013157125702184627\n",
      "Progress 60% | iter 275 | 1511.7 pred/s | loss target_only -0.00011838380499554756\n",
      "Progress 70% | iter 321 | 1443.7 pred/s | loss target_only -0.000139807766698256\n",
      "Progress 80% | iter 367 | 1508.7 pred/s | loss target_only -0.00012202115464490787\n",
      "Progress 90% | iter 413 | 1375.8 pred/s | loss target_only -0.00015216228503251347\n",
      "Progress 100% | iter 459 | 1492.7 pred/s | loss target_only -0.00011764588881959128\n",
      "\n",
      "=== TEST ===\n",
      "\n"
     ]
    },
    {
     "name": "stderr",
     "output_type": "stream",
     "text": [
      "100%|███████████████████████████████████████████████████████████████████████████████████████████████████████████████████████████████| 585/585 [00:16<00:00, 35.50it/s]\n"
     ]
    },
    {
     "name": "stdout",
     "output_type": "stream",
     "text": [
      "\u001b[31m| Metric               |    Value |\n",
      "|----------------------|----------|\n",
      "| target_probability   | 0.760229 |\n",
      "| choice_accuracy      | 0.776464 |\n",
      "| choice_accuracy_deg3 | 0.776464 |\n",
      "| precision_top1       | 0.772243 |\n",
      "| precision_top5       | 0.962073 |\n",
      "| path_nll             | 1.23846  |\n",
      "| path_nll_deg3        | 1.23846  |\u001b[0m\n",
      "\n",
      "=== EPOCH 19 ===\n",
      "Progress 10% | iter 45 | 1405.9 pred/s | loss target_only -0.00014087504130692736\n",
      "Progress 20% | iter 91 | 1496.9 pred/s | loss target_only -0.0001293414455353375\n",
      "Progress 30% | iter 137 | 1498.6 pred/s | loss target_only -0.00012709924688838046\n",
      "Progress 40% | iter 183 | 1456.5 pred/s | loss target_only -0.00013608706868101176\n",
      "Progress 50% | iter 229 | 1438.6 pred/s | loss target_only -0.00014350878057957088\n",
      "Progress 60% | iter 275 | 1501.8 pred/s | loss target_only -0.00012414240611791002\n",
      "Progress 70% | iter 321 | 1478.7 pred/s | loss target_only -0.00012864754232079533\n",
      "Progress 80% | iter 367 | 1469.3 pred/s | loss target_only -0.00012890063114457637\n",
      "Progress 90% | iter 413 | 1487.2 pred/s | loss target_only -0.00013171005107461415\n",
      "Progress 100% | iter 459 | 1456.9 pred/s | loss target_only -0.0001361262968857657\n",
      "\n",
      "=== TEST ===\n",
      "\n"
     ]
    },
    {
     "name": "stderr",
     "output_type": "stream",
     "text": [
      "100%|███████████████████████████████████████████████████████████████████████████████████████████████████████████████████████████████| 585/585 [00:16<00:00, 35.17it/s]"
     ]
    },
    {
     "name": "stdout",
     "output_type": "stream",
     "text": [
      "\u001b[31m| Metric               |    Value |\n",
      "|----------------------|----------|\n",
      "| target_probability   | 0.770908 |\n",
      "| choice_accuracy      | 0.781725 |\n",
      "| choice_accuracy_deg3 | 0.781725 |\n",
      "| precision_top1       | 0.775036 |\n",
      "| precision_top5       | 0.967658 |\n",
      "| path_nll             | 1.20664  |\n",
      "| path_nll_deg3        | 1.20664  |\u001b[0m\n"
     ]
    },
    {
     "name": "stderr",
     "output_type": "stream",
     "text": [
      "\n"
     ]
    }
   ],
   "source": [
    "load_model = False\n",
    "directory = '../../models/gretel_prediction_models/tromso_small/'\n",
    "path_format = 'node2node'\n",
    "# Either load model from file...\n",
    "if load_model:\n",
    "    # load model from file\n",
    "    network_name = '202204_waypoints_DP10_HDBSCAN13_tromso_full_UTM'\n",
    "    model_path = '../../models/gretel_prediction_models/trained_models/'+network_name+'.obj'\n",
    "    fileObj = open(model_path, 'rb')\n",
    "    model = pickle.load(fileObj)\n",
    "    fileObj.close()\n",
    "    with open('../../models/gretel_prediction_models/trained_models/metadata.json', 'r') as json_file:\n",
    "        meta_dict = json.load(json_file)\n",
    "    data_version = meta_dict['data_version']    \n",
    "    print(meta_dict)\n",
    "    \n",
    "# ... or train model from scratch\n",
    "else:\n",
    "    directory = '../../models/gretel_prediction_models/tromso_small/'\n",
    "    path_format = 'node2node'\n",
    "    config_file = 'route_target'\n",
    "    task = 'path'\n",
    "    # load metadata file\n",
    "    with open(directory+path_format+'/metadata.json', 'r') as json_file:\n",
    "        meta_dict = json.load(json_file)\n",
    "    network_name = meta_dict['network_name']\n",
    "    data_version = meta_dict['data_version']\n",
    "    # train model\n",
    "    model = GretelPathPrediction()\n",
    "    model.train(config_file, directory, task)"
   ]
  },
  {
   "cell_type": "code",
   "execution_count": 3,
   "id": "34972e57",
   "metadata": {},
   "outputs": [
    {
     "data": {
      "image/png": "[encoded data removed]",
      "text/plain": [
       "<Figure size 800x800 with 9 Axes>"
      ]
     },
     "metadata": {},
     "output_type": "display_data"
    }
   ],
   "source": [
    "# plot training metrics\n",
    "model.plot_train_test_metrics(test_only=True)"
   ]
  },
  {
   "cell_type": "code",
   "execution_count": 4,
   "id": "6e9cdd4b",
   "metadata": {},
   "outputs": [],
   "source": [
    "#start_node = 185\n",
    "#end_node = 474\n",
    "#node_dist, rw_weights = model.predict(start_node, end_node, 2)"
   ]
  },
  {
   "cell_type": "code",
   "execution_count": 5,
   "id": "12b85d2b",
   "metadata": {},
   "outputs": [],
   "source": [
    "# Load test data from file\n",
    "test_dates = ['202206']\n",
    "selection_start = 0\n",
    "selection_end = -1\n",
    "selection_step = 2\n",
    "path_prefix = '../../data/paths/'\n",
    "test_paths = dataloader_paths.load_path_test_data(path_prefix, network_name, test_dates, \n",
    "                                                  selection_start, selection_end, selection_step, data_version)"
   ]
  },
  {
   "cell_type": "code",
   "execution_count": 6,
   "id": "0ddb9ccd",
   "metadata": {},
   "outputs": [
    {
     "name": "stdout",
     "output_type": "stream",
     "text": [
      "Making predictions for 761 samples\n",
      "Progress: 10%...20%...30%...40%...50%...60%...70%...80%...90%...Done!\n"
     ]
    }
   ],
   "source": [
    "#### MAKE PREDICTIONS ####\n",
    "prediction_task = 'path'  # 'next_nodes' or 'path'\n",
    "n_walks = 200\n",
    "n_start_nodes = 1\n",
    "n_steps = 2   # only needed for next nodes prediction\n",
    "n_predictions = 1\n",
    "max_path_length = 150\n",
    "\n",
    "predictions = model.predict(prediction_task, test_paths, n_start_nodes, n_steps, \n",
    "                            n_predictions, n_walks, max_path_length)"
   ]
  },
  {
   "cell_type": "code",
   "execution_count": 7,
   "id": "57125ee0",
   "metadata": {},
   "outputs": [],
   "source": [
    "# save results as csv\n",
    "predictions.to_csv(directory+path_format+'/predictions.csv')"
   ]
  },
  {
   "cell_type": "code",
   "execution_count": 8,
   "id": "6bcea28e",
   "metadata": {},
   "outputs": [],
   "source": [
    "# save metadata to file\n",
    "if load_model == False:\n",
    "    meta_dict['lr'] = model.config.lr\n",
    "    meta_dict['loss'] = model.config.loss\n",
    "    meta_dict['n_epochs'] = model.config.number_epoch\n",
    "    meta_dict['target_prediction'] = model.config.target_prediction\n",
    "meta_dict['n_walks'] = n_walks\n",
    "meta_dict['n_start_nodes'] = n_start_nodes\n",
    "meta_dict['n_steps'] = n_steps\n",
    "meta_dict['prediction_task'] = prediction_task\n",
    "meta_dict['model_type'] = 'Gretel'\n",
    "meta_dict.update({'test_dates':str(test_dates),\n",
    "                  'selection_start':selection_start,\n",
    "                  'selection_end':selection_end,\n",
    "                  'selection_step':selection_step,\n",
    "                  'n_test_paths':len(test_paths)})\n",
    "with open(directory+path_format+'/metadata.json', 'w') as json_file:\n",
    "    json.dump(meta_dict, json_file)"
   ]
  },
  {
   "cell_type": "code",
   "execution_count": 9,
   "id": "89e22b89",
   "metadata": {},
   "outputs": [
    {
     "data": {
      "text/plain": [
       "\"\\nimport pickle\\n# save model as pickle object\\nfileObj = open('../../models/gretel_prediction_models/trained_models/'+meta_dict['network_name']+'.obj', 'wb')\\npickle.dump(model, fileObj)\\nfileObj.close()\\n\""
      ]
     },
     "execution_count": 9,
     "metadata": {},
     "output_type": "execute_result"
    }
   ],
   "source": [
    "'''\n",
    "import pickle\n",
    "# save model as pickle object\n",
    "fileObj = open('../../models/gretel_prediction_models/trained_models/'+meta_dict['network_name']+'.obj', 'wb')\n",
    "pickle.dump(model, fileObj)\n",
    "fileObj.close()\n",
    "'''"
   ]
  },
  {
   "cell_type": "code",
   "execution_count": null,
   "id": "778cfc69",
   "metadata": {},
   "outputs": [],
   "source": []
  }
 ],
 "metadata": {
  "kernelspec": {
   "display_name": "Python 3 (ipykernel)",
   "language": "python",
   "name": "python3"
  },
  "language_info": {
   "codemirror_mode": {
    "name": "ipython",
    "version": 3
   },
   "file_extension": ".py",
   "mimetype": "text/x-python",
   "name": "python",
   "nbconvert_exporter": "python",
   "pygments_lexer": "ipython3",
   "version": "3.9.13"
  }
 },
 "nbformat": 4,
 "nbformat_minor": 5
}
