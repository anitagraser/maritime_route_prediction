{
 "cells": [
  {
   "cell_type": "code",
   "execution_count": 1,
   "id": "b4cd3175",
   "metadata": {},
   "outputs": [],
   "source": [
    "import pandas as pd\n",
    "import json\n",
    "import numpy as np\n",
    "import pickle\n",
    "from ast import literal_eval\n",
    "import sys\n",
    "import time\n",
    "\n",
    "sys.path.append('../datawrangling')\n",
    "\n",
    "# import modules\n",
    "import dataloader_paths\n",
    "from Gretel_path_prediction import GretelPathPrediction\n",
    "\n",
    "import warnings\n",
    "warnings.filterwarnings('ignore')"
   ]
  },
  {
   "cell_type": "code",
   "execution_count": 2,
   "id": "2608b4f4",
   "metadata": {},
   "outputs": [
    {
     "name": "stdout",
     "output_type": "stream",
     "text": [
      "number of trajectories:  2766\n",
      "number of valid trajectories (length in [2, 85]): 2766\n",
      "trajectories length: min 2 | max 83 | mean 16.57\n",
      "split train/(valid)?/test 0.8/0.2\n",
      "==== START \"oslo_passenger\" ====\n",
      "Checkpoints will be saved in [../../models/gretel_prediction_models/oslo_passenger/chkpt/oslo_passenger]\n",
      "Number of node features 6. Number of edge features 3\n",
      "No initial edge transformer.\n",
      "Computing non backtracking edges...\n",
      "Done\n",
      "=== BASELINE ===\n",
      "TEST DATASET\n"
     ]
    },
    {
     "name": "stderr",
     "output_type": "stream",
     "text": [
      "100%|████████████████████████████████████████| 553/553 [00:03<00:00, 166.06it/s]\n"
     ]
    },
    {
     "name": "stdout",
     "output_type": "stream",
     "text": [
      "\u001b[32m| Metric               |    Value |\n",
      "|----------------------|----------|\n",
      "| target_probability   | 0.260877 |\n",
      "| choice_accuracy      | 0.264014 |\n",
      "| choice_accuracy_deg3 | 0.264014 |\n",
      "| precision_top1       | 0.208861 |\n",
      "| precision_top5       | 0.762297 |\n",
      "| path_nll             | 1.65913  |\n",
      "| path_nll_deg3        | 1.65913  |\u001b[0m\n",
      "TRAIN DATASET\n"
     ]
    },
    {
     "name": "stderr",
     "output_type": "stream",
     "text": [
      "100%|██████████████████████████████████████| 2212/2212 [00:09<00:00, 223.22it/s]\n"
     ]
    },
    {
     "name": "stdout",
     "output_type": "stream",
     "text": [
      "\u001b[32m| Metric               |    Value |\n",
      "|----------------------|----------|\n",
      "| target_probability   | 0.201815 |\n",
      "| choice_accuracy      | 0.2066   |\n",
      "| choice_accuracy_deg3 | 0.2066   |\n",
      "| precision_top1       | 0.163082 |\n",
      "| precision_top5       | 0.681538 |\n",
      "| path_nll             | 1.90748  |\n",
      "| path_nll_deg3        | 1.90748  |\u001b[0m\n",
      "=== NON BACKTRACKING BASELINE ===\n",
      "TEST DATASET\n"
     ]
    },
    {
     "name": "stderr",
     "output_type": "stream",
     "text": [
      "100%|█████████████████████████████████████████| 553/553 [00:12<00:00, 43.68it/s]\n"
     ]
    },
    {
     "name": "stdout",
     "output_type": "stream",
     "text": [
      "\u001b[32m| Metric               |    Value |\n",
      "|----------------------|----------|\n",
      "| target_probability   | 0.260877 |\n",
      "| choice_accuracy      | 0.261302 |\n",
      "| choice_accuracy_deg3 | 0.261302 |\n",
      "| precision_top1       | 0.208861 |\n",
      "| precision_top5       | 0.762297 |\n",
      "| path_nll             | 1.65913  |\n",
      "| path_nll_deg3        | 1.65913  |\u001b[0m\n",
      "TRAIN DATASET\n"
     ]
    },
    {
     "name": "stderr",
     "output_type": "stream",
     "text": [
      "100%|███████████████████████████████████████| 2212/2212 [00:38<00:00, 57.42it/s]"
     ]
    },
    {
     "name": "stdout",
     "output_type": "stream",
     "text": [
      "\u001b[32m| Metric               |    Value |\n",
      "|----------------------|----------|\n",
      "| target_probability   | 0.201815 |\n",
      "| choice_accuracy      | 0.203375 |\n",
      "| choice_accuracy_deg3 | 0.203375 |\n",
      "| precision_top1       | 0.163082 |\n",
      "| precision_top5       | 0.681538 |\n",
      "| path_nll             | 1.90748  |\n",
      "| path_nll_deg3        | 1.90748  |\u001b[0m\n",
      "Computing non backtracking graph... "
     ]
    },
    {
     "name": "stderr",
     "output_type": "stream",
     "text": [
      "\n"
     ]
    },
    {
     "name": "stdout",
     "output_type": "stream",
     "text": [
      "Done\n",
      "\n",
      "=== TEST ===\n",
      "\n"
     ]
    },
    {
     "name": "stderr",
     "output_type": "stream",
     "text": [
      "100%|█████████████████████████████████████████| 553/553 [00:20<00:00, 26.80it/s]\n"
     ]
    },
    {
     "name": "stdout",
     "output_type": "stream",
     "text": [
      "\u001b[31m| Metric               |    Value |\n",
      "|----------------------|----------|\n",
      "| target_probability   | 0.247654 |\n",
      "| choice_accuracy      | 0.185533 |\n",
      "| choice_accuracy_deg3 | 0.185533 |\n",
      "| precision_top1       | 0.187703 |\n",
      "| precision_top5       | 0.649277 |\n",
      "| path_nll             | 1.74858  |\n",
      "| path_nll_deg3        | 1.74858  |\u001b[0m\n",
      "\n",
      "=== EPOCH 0 ===\n",
      "Progress 10% | iter 43 | 689.7 pred/s | loss target_only -5.606509288824019e-05\n",
      "Progress 20% | iter 87 | 654.8 pred/s | loss target_only -5.9603287716569806e-05\n",
      "Progress 30% | iter 131 | 670.0 pred/s | loss target_only -7.525395450933677e-05\n",
      "Progress 40% | iter 175 | 692.0 pred/s | loss target_only -7.890968014004464e-05\n",
      "Progress 50% | iter 219 | 699.9 pred/s | loss target_only -7.545454459330653e-05\n",
      "Progress 60% | iter 263 | 639.5 pred/s | loss target_only -8.825311803337605e-05\n",
      "Progress 70% | iter 307 | 675.6 pred/s | loss target_only -8.82731155257757e-05\n",
      "Progress 80% | iter 351 | 657.3 pred/s | loss target_only -9.738902192252319e-05\n",
      "Progress 90% | iter 395 | 695.1 pred/s | loss target_only -9.224754988174532e-05\n",
      "Progress 100% | iter 439 | 695.7 pred/s | loss target_only -9.87223318372256e-05\n",
      "\n",
      "=== TEST ===\n",
      "\n"
     ]
    },
    {
     "name": "stderr",
     "output_type": "stream",
     "text": [
      "100%|█████████████████████████████████████████| 553/553 [00:21<00:00, 25.26it/s]\n"
     ]
    },
    {
     "name": "stdout",
     "output_type": "stream",
     "text": [
      "\u001b[31m| Metric               |    Value |\n",
      "|----------------------|----------|\n",
      "| target_probability   | 0.391234 |\n",
      "| choice_accuracy      | 0.515732 |\n",
      "| choice_accuracy_deg3 | 0.515732 |\n",
      "| precision_top1       | 0.51094  |\n",
      "| precision_top5       | 0.90642  |\n",
      "| path_nll             | 1.34442  |\n",
      "| path_nll_deg3        | 1.34442  |\u001b[0m\n",
      "Checkpointing...\n",
      "\u001b[34mCheckpoint saved in ../../models/gretel_prediction_models/oslo_passenger/chkpt/oslo_passenger/0000.pt\u001b[0m\n",
      "\n",
      "=== EPOCH 1 ===\n",
      "Progress 10% | iter 43 | 681.8 pred/s | loss target_only -0.00010499603549526918\n",
      "Progress 20% | iter 87 | 600.8 pred/s | loss target_only -0.0001105169459001086\n",
      "Progress 30% | iter 131 | 599.8 pred/s | loss target_only -0.00011853310171573707\n",
      "Progress 40% | iter 175 | 647.0 pred/s | loss target_only -0.000104511764876664\n",
      "Progress 50% | iter 219 | 629.6 pred/s | loss target_only -0.00012038419318927596\n",
      "Progress 60% | iter 263 | 660.0 pred/s | loss target_only -0.0001281214553368195\n",
      "Progress 70% | iter 307 | 671.8 pred/s | loss target_only -0.00012350482759995615\n",
      "Progress 80% | iter 351 | 700.0 pred/s | loss target_only -0.00011296661960352633\n",
      "Progress 90% | iter 395 | 680.8 pred/s | loss target_only -0.00012916239191935455\n",
      "Progress 100% | iter 439 | 687.6 pred/s | loss target_only -0.0001215448797096358\n",
      "\n",
      "=== TEST ===\n",
      "\n"
     ]
    },
    {
     "name": "stderr",
     "output_type": "stream",
     "text": [
      "100%|█████████████████████████████████████████| 553/553 [00:21<00:00, 26.21it/s]\n"
     ]
    },
    {
     "name": "stdout",
     "output_type": "stream",
     "text": [
      "\u001b[31m| Metric               |    Value |\n",
      "|----------------------|----------|\n",
      "| target_probability   | 0.474324 |\n",
      "| choice_accuracy      | 0.596022 |\n",
      "| choice_accuracy_deg3 | 0.596022 |\n",
      "| precision_top1       | 0.595479 |\n",
      "| precision_top5       | 0.962477 |\n",
      "| path_nll             | 1.29705  |\n",
      "| path_nll_deg3        | 1.29705  |\u001b[0m\n",
      "\n",
      "=== EPOCH 2 ===\n",
      "Progress 10% | iter 43 | 656.4 pred/s | loss target_only -0.00014639318817059668\n",
      "Progress 20% | iter 87 | 672.2 pred/s | loss target_only -0.0001369412301999081\n",
      "Progress 30% | iter 131 | 668.1 pred/s | loss target_only -0.00013858199438309288\n",
      "Progress 40% | iter 175 | 681.2 pred/s | loss target_only -0.00013453625882644938\n",
      "Progress 50% | iter 219 | 649.5 pred/s | loss target_only -0.00013720669847151095\n",
      "Progress 60% | iter 263 | 641.0 pred/s | loss target_only -0.00014267819952611357\n",
      "Progress 70% | iter 307 | 618.2 pred/s | loss target_only -0.00012919904984159367\n",
      "Progress 80% | iter 351 | 630.7 pred/s | loss target_only -0.0001523817196474293\n",
      "Progress 90% | iter 395 | 641.3 pred/s | loss target_only -0.0001377926744468723\n",
      "Progress 100% | iter 439 | 651.2 pred/s | loss target_only -0.0001288893586528106\n",
      "\n",
      "=== TEST ===\n",
      "\n"
     ]
    },
    {
     "name": "stderr",
     "output_type": "stream",
     "text": [
      "100%|█████████████████████████████████████████| 553/553 [00:21<00:00, 26.29it/s]\n"
     ]
    },
    {
     "name": "stdout",
     "output_type": "stream",
     "text": [
      "\u001b[31m| Metric               |    Value |\n",
      "|----------------------|----------|\n",
      "| target_probability   | 0.541149 |\n",
      "| choice_accuracy      | 0.633002 |\n",
      "| choice_accuracy_deg3 | 0.633002 |\n",
      "| precision_top1       | 0.632098 |\n",
      "| precision_top5       | 0.968354 |\n",
      "| path_nll             | 1.20203  |\n",
      "| path_nll_deg3        | 1.20203  |\u001b[0m\n",
      "\n",
      "=== EPOCH 3 ===\n",
      "Progress 10% | iter 43 | 647.3 pred/s | loss target_only -0.0001495609998415539\n",
      "Progress 20% | iter 87 | 673.1 pred/s | loss target_only -0.00014122976782651253\n",
      "Progress 30% | iter 131 | 678.1 pred/s | loss target_only -0.00014572473631388363\n",
      "Progress 40% | iter 175 | 620.4 pred/s | loss target_only -0.000158568540725234\n",
      "Progress 50% | iter 219 | 690.4 pred/s | loss target_only -0.000138963946136473\n",
      "Progress 60% | iter 263 | 692.8 pred/s | loss target_only -0.00013944563012697228\n",
      "Progress 70% | iter 307 | 666.1 pred/s | loss target_only -0.00014419793532025215\n",
      "Progress 80% | iter 351 | 670.1 pred/s | loss target_only -0.00015739589199647373\n",
      "Progress 90% | iter 395 | 690.0 pred/s | loss target_only -0.00014558277907749824\n",
      "Progress 100% | iter 439 | 661.8 pred/s | loss target_only -0.00015774440888042992\n",
      "\n",
      "=== TEST ===\n",
      "\n"
     ]
    },
    {
     "name": "stderr",
     "output_type": "stream",
     "text": [
      "100%|█████████████████████████████████████████| 553/553 [00:21<00:00, 26.16it/s]\n"
     ]
    },
    {
     "name": "stdout",
     "output_type": "stream",
     "text": [
      "\u001b[31m| Metric               |    Value |\n",
      "|----------------------|----------|\n",
      "| target_probability   | 0.577591 |\n",
      "| choice_accuracy      | 0.647559 |\n",
      "| choice_accuracy_deg3 | 0.647559 |\n",
      "| precision_top1       | 0.647649 |\n",
      "| precision_top5       | 0.971519 |\n",
      "| path_nll             | 1.25384  |\n",
      "| path_nll_deg3        | 1.25384  |\u001b[0m\n",
      "\n",
      "=== EPOCH 4 ===\n",
      "Progress 10% | iter 43 | 689.5 pred/s | loss target_only -0.00014078128446595741\n",
      "Progress 20% | iter 87 | 659.2 pred/s | loss target_only -0.00014798667832824884\n",
      "Progress 30% | iter 131 | 667.8 pred/s | loss target_only -0.00015006520456160177\n",
      "Progress 40% | iter 175 | 670.2 pred/s | loss target_only -0.00015162666440416211\n",
      "Progress 50% | iter 219 | 675.3 pred/s | loss target_only -0.00015064220728162018\n",
      "Progress 60% | iter 263 | 667.7 pred/s | loss target_only -0.0001528064732427721\n",
      "Progress 70% | iter 307 | 682.2 pred/s | loss target_only -0.00014781423618143\n",
      "Progress 80% | iter 351 | 630.1 pred/s | loss target_only -0.00015618736085219582\n",
      "Progress 90% | iter 395 | 664.3 pred/s | loss target_only -0.00016091497350727548\n",
      "Progress 100% | iter 439 | 652.2 pred/s | loss target_only -0.0001715729808984153\n",
      "\n",
      "=== TEST ===\n",
      "\n"
     ]
    },
    {
     "name": "stderr",
     "output_type": "stream",
     "text": [
      "100%|█████████████████████████████████████████| 553/553 [00:21<00:00, 25.92it/s]\n"
     ]
    },
    {
     "name": "stdout",
     "output_type": "stream",
     "text": [
      "\u001b[31m| Metric               |    Value |\n",
      "|----------------------|----------|\n",
      "| target_probability   | 0.575796 |\n",
      "| choice_accuracy      | 0.636709 |\n",
      "| choice_accuracy_deg3 | 0.636709 |\n",
      "| precision_top1       | 0.638246 |\n",
      "| precision_top5       | 0.961392 |\n",
      "| path_nll             | 1.38554  |\n",
      "| path_nll_deg3        | 1.38554  |\u001b[0m\n",
      "\n",
      "=== EPOCH 5 ===\n",
      "Progress 10% | iter 43 | 684.8 pred/s | loss target_only -0.0001448151584434595\n",
      "Progress 20% | iter 87 | 698.1 pred/s | loss target_only -0.0001462187378456216\n",
      "Progress 30% | iter 131 | 680.6 pred/s | loss target_only -0.0001547451271168458\n",
      "Progress 40% | iter 175 | 675.6 pred/s | loss target_only -0.0001602462587028004\n",
      "Progress 50% | iter 219 | 610.8 pred/s | loss target_only -0.00015209930160001172\n",
      "Progress 60% | iter 263 | 610.7 pred/s | loss target_only -0.00015212753200128688\n",
      "Progress 70% | iter 307 | 615.7 pred/s | loss target_only -0.0001530524993662691\n",
      "Progress 80% | iter 351 | 625.8 pred/s | loss target_only -0.00015406136746173136\n",
      "Progress 90% | iter 395 | 639.9 pred/s | loss target_only -0.00016732644574645822\n",
      "Progress 100% | iter 439 | 612.6 pred/s | loss target_only -0.00017626507183561078\n",
      "\n",
      "=== TEST ===\n",
      "\n"
     ]
    },
    {
     "name": "stderr",
     "output_type": "stream",
     "text": [
      "100%|█████████████████████████████████████████| 553/553 [00:22<00:00, 25.13it/s]\n"
     ]
    },
    {
     "name": "stdout",
     "output_type": "stream",
     "text": [
      "\u001b[31m| Metric               |    Value |\n",
      "|----------------------|----------|\n",
      "| target_probability   | 0.615815 |\n",
      "| choice_accuracy      | 0.654792 |\n",
      "| choice_accuracy_deg3 | 0.654792 |\n",
      "| precision_top1       | 0.654792 |\n",
      "| precision_top5       | 0.974231 |\n",
      "| path_nll             | 1.31025  |\n",
      "| path_nll_deg3        | 1.31025  |\u001b[0m\n",
      "Checkpointing...\n",
      "\u001b[34mCheckpoint saved in ../../models/gretel_prediction_models/oslo_passenger/chkpt/oslo_passenger/0005.pt\u001b[0m\n",
      "\n",
      "=== EPOCH 6 ===\n",
      "Progress 10% | iter 43 | 635.1 pred/s | loss target_only -0.00017301984796694024\n",
      "Progress 20% | iter 87 | 675.6 pred/s | loss target_only -0.00013800018857718435\n",
      "Progress 30% | iter 131 | 634.6 pred/s | loss target_only -0.0001636587593702883\n",
      "Progress 40% | iter 175 | 693.8 pred/s | loss target_only -0.00014260511607746328\n",
      "Progress 50% | iter 219 | 658.9 pred/s | loss target_only -0.00015474415712521487\n",
      "Progress 60% | iter 263 | 636.4 pred/s | loss target_only -0.00017411496328270955\n",
      "Progress 70% | iter 307 | 615.0 pred/s | loss target_only -0.00016295156923224879\n",
      "Progress 80% | iter 351 | 674.7 pred/s | loss target_only -0.0001596837268430203\n",
      "Progress 90% | iter 395 | 646.5 pred/s | loss target_only -0.00014263680010126695\n",
      "Progress 100% | iter 439 | 641.1 pred/s | loss target_only -0.00016658652167428624\n",
      "\n",
      "=== TEST ===\n",
      "\n"
     ]
    },
    {
     "name": "stderr",
     "output_type": "stream",
     "text": [
      "100%|█████████████████████████████████████████| 553/553 [00:22<00:00, 25.06it/s]\n"
     ]
    },
    {
     "name": "stdout",
     "output_type": "stream",
     "text": [
      "\u001b[31m| Metric               |    Value |\n",
      "|----------------------|----------|\n",
      "| target_probability   | 0.61729  |\n",
      "| choice_accuracy      | 0.661212 |\n",
      "| choice_accuracy_deg3 | 0.661212 |\n",
      "| precision_top1       | 0.661212 |\n",
      "| precision_top5       | 0.971248 |\n",
      "| path_nll             | 1.39824  |\n",
      "| path_nll_deg3        | 1.39824  |\u001b[0m\n",
      "\n",
      "=== EPOCH 7 ===\n",
      "Progress 10% | iter 43 | 629.0 pred/s | loss target_only -0.00015504976892339483\n",
      "Progress 20% | iter 87 | 652.7 pred/s | loss target_only -0.00014236483071366438\n",
      "Progress 30% | iter 131 | 624.4 pred/s | loss target_only -0.00016119629019857034\n",
      "Progress 40% | iter 175 | 648.9 pred/s | loss target_only -0.00016588371118080543\n",
      "Progress 50% | iter 219 | 616.0 pred/s | loss target_only -0.00018070469210995806\n",
      "Progress 60% | iter 263 | 682.1 pred/s | loss target_only -0.0001499612560888397\n",
      "Progress 70% | iter 307 | 662.5 pred/s | loss target_only -0.0001584765837007645\n",
      "Progress 80% | iter 351 | 679.4 pred/s | loss target_only -0.00015687215282781576\n",
      "Progress 90% | iter 395 | 638.2 pred/s | loss target_only -0.0001677709407073707\n",
      "Progress 100% | iter 439 | 654.5 pred/s | loss target_only -0.00015453611697326046\n",
      "\n",
      "=== TEST ===\n",
      "\n"
     ]
    },
    {
     "name": "stderr",
     "output_type": "stream",
     "text": [
      "100%|█████████████████████████████████████████| 553/553 [00:22<00:00, 24.97it/s]\n"
     ]
    },
    {
     "name": "stdout",
     "output_type": "stream",
     "text": [
      "\u001b[31m| Metric               |    Value |\n",
      "|----------------------|----------|\n",
      "| target_probability   | 0.622651 |\n",
      "| choice_accuracy      | 0.657595 |\n",
      "| choice_accuracy_deg3 | 0.657595 |\n",
      "| precision_top1       | 0.657595 |\n",
      "| precision_top5       | 0.970344 |\n",
      "| path_nll             | 1.39543  |\n",
      "| path_nll_deg3        | 1.39543  |\u001b[0m\n",
      "\n",
      "=== EPOCH 8 ===\n",
      "Progress 10% | iter 43 | 681.0 pred/s | loss target_only -0.00016033636479061822\n",
      "Progress 20% | iter 87 | 631.7 pred/s | loss target_only -0.00016026733153754556\n",
      "Progress 30% | iter 131 | 624.2 pred/s | loss target_only -0.00015828774127937858\n",
      "Progress 40% | iter 175 | 663.4 pred/s | loss target_only -0.00014611000369262327\n",
      "Progress 50% | iter 219 | 674.3 pred/s | loss target_only -0.00016822697437388436\n",
      "Progress 60% | iter 263 | 670.3 pred/s | loss target_only -0.00016493870721775303\n",
      "Progress 70% | iter 307 | 689.7 pred/s | loss target_only -0.00014774332457074738\n",
      "Progress 80% | iter 351 | 658.3 pred/s | loss target_only -0.0001680798841900713\n",
      "Progress 90% | iter 395 | 690.5 pred/s | loss target_only -0.00014228501552513123\n",
      "Progress 100% | iter 439 | 638.9 pred/s | loss target_only -0.00018837222199845723\n",
      "\n",
      "=== TEST ===\n",
      "\n"
     ]
    },
    {
     "name": "stderr",
     "output_type": "stream",
     "text": [
      "100%|█████████████████████████████████████████| 553/553 [00:21<00:00, 25.38it/s]\n"
     ]
    },
    {
     "name": "stdout",
     "output_type": "stream",
     "text": [
      "\u001b[31m| Metric               |    Value |\n",
      "|----------------------|----------|\n",
      "| target_probability   | 0.634583 |\n",
      "| choice_accuracy      | 0.658951 |\n",
      "| choice_accuracy_deg3 | 0.658951 |\n",
      "| precision_top1       | 0.658951 |\n",
      "| precision_top5       | 0.972966 |\n",
      "| path_nll             | 1.46599  |\n",
      "| path_nll_deg3        | 1.46599  |\u001b[0m\n",
      "\n",
      "=== EPOCH 9 ===\n",
      "Progress 10% | iter 43 | 595.6 pred/s | loss target_only -0.0001639086491552809\n",
      "Progress 20% | iter 87 | 632.4 pred/s | loss target_only -0.00016837872197051097\n",
      "Progress 30% | iter 131 | 550.7 pred/s | loss target_only -0.00016996026848118277\n",
      "Progress 40% | iter 175 | 655.3 pred/s | loss target_only -0.00016068771903426427\n",
      "Progress 50% | iter 219 | 677.4 pred/s | loss target_only -0.00013912740733350507\n",
      "Progress 60% | iter 263 | 665.9 pred/s | loss target_only -0.0001464992829831774\n",
      "Progress 70% | iter 307 | 636.5 pred/s | loss target_only -0.00016707683763050242\n",
      "Progress 80% | iter 351 | 635.4 pred/s | loss target_only -0.00017139035485566978\n",
      "Progress 90% | iter 395 | 650.3 pred/s | loss target_only -0.00015304179229787436\n",
      "Progress 100% | iter 439 | 640.7 pred/s | loss target_only -0.00017188495207241946\n",
      "\n",
      "=== TEST ===\n",
      "\n"
     ]
    },
    {
     "name": "stderr",
     "output_type": "stream",
     "text": [
      "100%|█████████████████████████████████████████| 553/553 [00:21<00:00, 25.86it/s]\n"
     ]
    },
    {
     "name": "stdout",
     "output_type": "stream",
     "text": [
      "\u001b[31m| Metric               |    Value |\n",
      "|----------------------|----------|\n",
      "| target_probability   | 0.604839 |\n",
      "| choice_accuracy      | 0.654702 |\n",
      "| choice_accuracy_deg3 | 0.654702 |\n",
      "| precision_top1       | 0.655696 |\n",
      "| precision_top5       | 0.964195 |\n",
      "| path_nll             | 1.58742  |\n",
      "| path_nll_deg3        | 1.58742  |\u001b[0m\n",
      "\n",
      "=== EPOCH 10 ===\n",
      "Progress 10% | iter 43 | 660.6 pred/s | loss target_only -0.00018119541703972298\n",
      "Progress 20% | iter 87 | 691.7 pred/s | loss target_only -0.00014912850526345494\n",
      "Progress 30% | iter 131 | 673.3 pred/s | loss target_only -0.00015879460038281123\n",
      "Progress 40% | iter 175 | 677.2 pred/s | loss target_only -0.00015433315678089798\n",
      "Progress 50% | iter 219 | 695.9 pred/s | loss target_only -0.00015221398738094732\n",
      "Progress 60% | iter 263 | 669.7 pred/s | loss target_only -0.00016660628528201096\n",
      "Progress 70% | iter 307 | 676.8 pred/s | loss target_only -0.00016472625186882906\n",
      "Progress 80% | iter 351 | 645.0 pred/s | loss target_only -0.00017460669975890574\n",
      "Progress 90% | iter 395 | 681.0 pred/s | loss target_only -0.0001645607370385438\n",
      "Progress 100% | iter 439 | 697.6 pred/s | loss target_only -0.00014659984650110044\n",
      "\n",
      "=== TEST ===\n",
      "\n"
     ]
    },
    {
     "name": "stderr",
     "output_type": "stream",
     "text": [
      "100%|█████████████████████████████████████████| 553/553 [00:24<00:00, 22.71it/s]\n"
     ]
    },
    {
     "name": "stdout",
     "output_type": "stream",
     "text": [
      "\u001b[31m| Metric               |    Value |\n",
      "|----------------------|----------|\n",
      "| target_probability   | 0.633477 |\n",
      "| choice_accuracy      | 0.659042 |\n",
      "| choice_accuracy_deg3 | 0.659042 |\n",
      "| precision_top1       | 0.659042 |\n",
      "| precision_top5       | 0.966998 |\n",
      "| path_nll             | 1.6851   |\n",
      "| path_nll_deg3        | 1.6851   |\u001b[0m\n",
      "Checkpointing...\n",
      "\u001b[34mCheckpoint saved in ../../models/gretel_prediction_models/oslo_passenger/chkpt/oslo_passenger/0010.pt\u001b[0m\n",
      "\n",
      "=== EPOCH 11 ===\n",
      "Progress 10% | iter 43 | 645.3 pred/s | loss target_only -0.00017982706968311927\n",
      "Progress 20% | iter 87 | 671.4 pred/s | loss target_only -0.00015661525999841196\n",
      "Progress 30% | iter 131 | 674.0 pred/s | loss target_only -0.00015345824997669866\n",
      "Progress 40% | iter 175 | 696.9 pred/s | loss target_only -0.0001429142534624963\n",
      "Progress 50% | iter 219 | 675.2 pred/s | loss target_only -0.00015876811217467541\n",
      "Progress 60% | iter 263 | 672.9 pred/s | loss target_only -0.00016638147792863575\n",
      "Progress 70% | iter 307 | 618.9 pred/s | loss target_only -0.00016669319320070273\n",
      "Progress 80% | iter 351 | 661.9 pred/s | loss target_only -0.0001576592784997377\n",
      "Progress 90% | iter 395 | 648.6 pred/s | loss target_only -0.00016926566987915363\n",
      "Progress 100% | iter 439 | 659.9 pred/s | loss target_only -0.00016285561698004748\n",
      "\n",
      "=== TEST ===\n",
      "\n"
     ]
    },
    {
     "name": "stderr",
     "output_type": "stream",
     "text": [
      "100%|█████████████████████████████████████████| 553/553 [00:22<00:00, 24.98it/s]\n"
     ]
    },
    {
     "name": "stdout",
     "output_type": "stream",
     "text": [
      "\u001b[31m| Metric               |    Value |\n",
      "|----------------------|----------|\n",
      "| target_probability   | 0.63381  |\n",
      "| choice_accuracy      | 0.657233 |\n",
      "| choice_accuracy_deg3 | 0.657233 |\n",
      "| precision_top1       | 0.657233 |\n",
      "| precision_top5       | 0.971609 |\n",
      "| path_nll             | 1.66171  |\n",
      "| path_nll_deg3        | 1.66171  |\u001b[0m\n",
      "\n",
      "=== EPOCH 12 ===\n",
      "Progress 10% | iter 43 | 635.4 pred/s | loss target_only -0.0001570900279982654\n",
      "Progress 20% | iter 87 | 499.6 pred/s | loss target_only -0.00016347645479540687\n",
      "Progress 30% | iter 131 | 532.7 pred/s | loss target_only -0.00016351818461649955\n",
      "Progress 40% | iter 175 | 595.0 pred/s | loss target_only -0.0001722608979058479\n",
      "Progress 50% | iter 219 | 591.5 pred/s | loss target_only -0.0001612919451687625\n",
      "Progress 60% | iter 263 | 574.8 pred/s | loss target_only -0.0001526631659568181\n",
      "Progress 70% | iter 307 | 622.1 pred/s | loss target_only -0.0001512918074972982\n",
      "Progress 80% | iter 351 | 619.1 pred/s | loss target_only -0.000166775022473962\n",
      "Progress 90% | iter 395 | 619.3 pred/s | loss target_only -0.00017246234990597842\n",
      "Progress 100% | iter 439 | 651.4 pred/s | loss target_only -0.00015423549102355232\n",
      "\n",
      "=== TEST ===\n",
      "\n"
     ]
    },
    {
     "name": "stderr",
     "output_type": "stream",
     "text": [
      "100%|█████████████████████████████████████████| 553/553 [00:22<00:00, 25.06it/s]\n"
     ]
    },
    {
     "name": "stdout",
     "output_type": "stream",
     "text": [
      "\u001b[31m| Metric               |    Value |\n",
      "|----------------------|----------|\n",
      "| target_probability   | 0.64222  |\n",
      "| choice_accuracy      | 0.666546 |\n",
      "| choice_accuracy_deg3 | 0.666546 |\n",
      "| precision_top1       | 0.666546 |\n",
      "| precision_top5       | 0.962658 |\n",
      "| path_nll             | 1.60513  |\n",
      "| path_nll_deg3        | 1.60513  |\u001b[0m\n",
      "\n",
      "=== EPOCH 13 ===\n",
      "Progress 10% | iter 43 | 649.5 pred/s | loss target_only -0.00014365445748725877\n",
      "Progress 20% | iter 87 | 592.4 pred/s | loss target_only -0.00017927733534649651\n",
      "Progress 30% | iter 131 | 657.0 pred/s | loss target_only -0.00015733645305999463\n",
      "Progress 40% | iter 175 | 616.1 pred/s | loss target_only -0.0001587804110684127\n",
      "Progress 50% | iter 219 | 634.4 pred/s | loss target_only -0.00016174602042691276\n",
      "Progress 60% | iter 263 | 641.6 pred/s | loss target_only -0.00014965068391826618\n",
      "Progress 70% | iter 307 | 635.4 pred/s | loss target_only -0.000162709401564987\n",
      "Progress 80% | iter 351 | 613.7 pred/s | loss target_only -0.00017552482007105922\n",
      "Progress 90% | iter 395 | 632.8 pred/s | loss target_only -0.00017052291299264637\n",
      "Progress 100% | iter 439 | 637.3 pred/s | loss target_only -0.00016680754935904918\n",
      "\n",
      "=== TEST ===\n",
      "\n"
     ]
    },
    {
     "name": "stderr",
     "output_type": "stream",
     "text": [
      "100%|█████████████████████████████████████████| 553/553 [00:22<00:00, 24.51it/s]\n"
     ]
    },
    {
     "name": "stdout",
     "output_type": "stream",
     "text": [
      "\u001b[31m| Metric               |    Value |\n",
      "|----------------------|----------|\n",
      "| target_probability   | 0.644571 |\n",
      "| choice_accuracy      | 0.661935 |\n",
      "| choice_accuracy_deg3 | 0.661935 |\n",
      "| precision_top1       | 0.661935 |\n",
      "| precision_top5       | 0.971067 |\n",
      "| path_nll             | 1.72185  |\n",
      "| path_nll_deg3        | 1.72185  |\u001b[0m\n",
      "\n",
      "=== EPOCH 14 ===\n",
      "Progress 10% | iter 43 | 615.1 pred/s | loss target_only -0.0001659102133942429\n",
      "Progress 20% | iter 87 | 596.5 pred/s | loss target_only -0.0001583655767497173\n",
      "Progress 30% | iter 131 | 614.8 pred/s | loss target_only -0.000160829177787283\n",
      "Progress 40% | iter 175 | 646.5 pred/s | loss target_only -0.00016507674004254873\n",
      "Progress 50% | iter 219 | 652.0 pred/s | loss target_only -0.0001570967859682385\n",
      "Progress 60% | iter 263 | 639.3 pred/s | loss target_only -0.00015945246037689224\n",
      "Progress 70% | iter 307 | 644.8 pred/s | loss target_only -0.00016804985126387824\n",
      "Progress 80% | iter 351 | 626.1 pred/s | loss target_only -0.00017102813069066946\n",
      "Progress 90% | iter 395 | 653.1 pred/s | loss target_only -0.00015455812481326487\n",
      "Progress 100% | iter 439 | 633.8 pred/s | loss target_only -0.00016682464245938605\n",
      "\n",
      "=== TEST ===\n",
      "\n"
     ]
    },
    {
     "name": "stderr",
     "output_type": "stream",
     "text": [
      "100%|█████████████████████████████████████████| 553/553 [00:23<00:00, 23.27it/s]\n"
     ]
    },
    {
     "name": "stdout",
     "output_type": "stream",
     "text": [
      "\u001b[31m| Metric               |    Value |\n",
      "|----------------------|----------|\n",
      "| target_probability   | 0.643362 |\n",
      "| choice_accuracy      | 0.662568 |\n",
      "| choice_accuracy_deg3 | 0.662568 |\n",
      "| precision_top1       | 0.662568 |\n",
      "| precision_top5       | 0.965552 |\n",
      "| path_nll             | 1.55984  |\n",
      "| path_nll_deg3        | 1.55984  |\u001b[0m\n",
      "\n",
      "=== EPOCH 15 ===\n",
      "Progress 10% | iter 43 | 652.9 pred/s | loss target_only -0.00015561795094197847\n",
      "Progress 20% | iter 87 | 638.8 pred/s | loss target_only -0.00014640760439600382\n",
      "Progress 30% | iter 131 | 609.5 pred/s | loss target_only -0.00018133974000479014\n",
      "Progress 40% | iter 175 | 584.1 pred/s | loss target_only -0.0001642290010911497\n",
      "Progress 50% | iter 219 | 576.4 pred/s | loss target_only -0.00015822572325072446\n",
      "Progress 60% | iter 263 | 599.5 pred/s | loss target_only -0.00015543875114045472\n",
      "Progress 70% | iter 307 | 604.7 pred/s | loss target_only -0.0001676073774438925\n",
      "Progress 80% | iter 351 | 616.9 pred/s | loss target_only -0.00017507100903034768\n",
      "Progress 90% | iter 395 | 561.0 pred/s | loss target_only -0.0001753004339914922\n",
      "Progress 100% | iter 439 | 586.3 pred/s | loss target_only -0.0001591441919469262\n",
      "\n",
      "=== TEST ===\n",
      "\n"
     ]
    },
    {
     "name": "stderr",
     "output_type": "stream",
     "text": [
      "100%|█████████████████████████████████████████| 553/553 [00:21<00:00, 25.70it/s]\n"
     ]
    },
    {
     "name": "stdout",
     "output_type": "stream",
     "text": [
      "\u001b[31m| Metric               |    Value |\n",
      "|----------------------|----------|\n",
      "| target_probability   | 0.647487 |\n",
      "| choice_accuracy      | 0.660217 |\n",
      "| choice_accuracy_deg3 | 0.660217 |\n",
      "| precision_top1       | 0.660217 |\n",
      "| precision_top5       | 0.970524 |\n",
      "| path_nll             | 1.73087  |\n",
      "| path_nll_deg3        | 1.73087  |\u001b[0m\n",
      "Checkpointing...\n",
      "\u001b[34mCheckpoint saved in ../../models/gretel_prediction_models/oslo_passenger/chkpt/oslo_passenger/0015.pt\u001b[0m\n",
      "\n",
      "=== EPOCH 16 ===\n",
      "Progress 10% | iter 43 | 674.0 pred/s | loss target_only -0.00016845827367173904\n",
      "Progress 20% | iter 87 | 653.6 pred/s | loss target_only -0.00016561231652534962\n",
      "Progress 30% | iter 131 | 655.7 pred/s | loss target_only -0.00018196451486336267\n",
      "Progress 40% | iter 175 | 624.9 pred/s | loss target_only -0.00016485875708423687\n",
      "Progress 50% | iter 219 | 639.8 pred/s | loss target_only -0.00015824456772552323\n",
      "Progress 60% | iter 263 | 652.1 pred/s | loss target_only -0.00016847691407230657\n",
      "Progress 70% | iter 307 | 595.7 pred/s | loss target_only -0.0001540176207068868\n",
      "Progress 80% | iter 351 | 652.2 pred/s | loss target_only -0.00015553840287164223\n",
      "Progress 90% | iter 395 | 641.1 pred/s | loss target_only -0.00015934422472660772\n",
      "Progress 100% | iter 439 | 578.6 pred/s | loss target_only -0.00015854678784190141\n",
      "\n",
      "=== TEST ===\n",
      "\n"
     ]
    },
    {
     "name": "stderr",
     "output_type": "stream",
     "text": [
      "100%|█████████████████████████████████████████| 553/553 [00:21<00:00, 25.32it/s]\n"
     ]
    },
    {
     "name": "stdout",
     "output_type": "stream",
     "text": [
      "\u001b[31m| Metric               |    Value |\n",
      "|----------------------|----------|\n",
      "| target_probability   | 0.646922 |\n",
      "| choice_accuracy      | 0.660488 |\n",
      "| choice_accuracy_deg3 | 0.660488 |\n",
      "| precision_top1       | 0.660488 |\n",
      "| precision_top5       | 0.966456 |\n",
      "| path_nll             | 1.76116  |\n",
      "| path_nll_deg3        | 1.76116  |\u001b[0m\n",
      "\n",
      "=== EPOCH 17 ===\n",
      "Progress 10% | iter 43 | 676.8 pred/s | loss target_only -0.00015113871513774892\n",
      "Progress 20% | iter 87 | 648.2 pred/s | loss target_only -0.00017649066582626656\n",
      "Progress 30% | iter 131 | 643.3 pred/s | loss target_only -0.0001630938545342893\n",
      "Progress 40% | iter 175 | 648.3 pred/s | loss target_only -0.00015292905793174976\n",
      "Progress 50% | iter 219 | 607.5 pred/s | loss target_only -0.00018534142990790444\n",
      "Progress 60% | iter 263 | 617.4 pred/s | loss target_only -0.00018492822984715441\n",
      "Progress 70% | iter 307 | 649.9 pred/s | loss target_only -0.00016148767100124237\n",
      "Progress 80% | iter 351 | 648.5 pred/s | loss target_only -0.0001610929510157919\n",
      "Progress 90% | iter 395 | 652.9 pred/s | loss target_only -0.00015906078138202686\n",
      "Progress 100% | iter 439 | 649.8 pred/s | loss target_only -0.0001482962910624676\n",
      "\n",
      "=== TEST ===\n",
      "\n"
     ]
    },
    {
     "name": "stderr",
     "output_type": "stream",
     "text": [
      "100%|█████████████████████████████████████████| 553/553 [00:24<00:00, 22.34it/s]\n"
     ]
    },
    {
     "name": "stdout",
     "output_type": "stream",
     "text": [
      "\u001b[31m| Metric               |    Value |\n",
      "|----------------------|----------|\n",
      "| target_probability   | 0.64413  |\n",
      "| choice_accuracy      | 0.66528  |\n",
      "| choice_accuracy_deg3 | 0.66528  |\n",
      "| precision_top1       | 0.665552 |\n",
      "| precision_top5       | 0.967541 |\n",
      "| path_nll             | 1.85995  |\n",
      "| path_nll_deg3        | 1.85995  |\u001b[0m\n",
      "\n",
      "=== EPOCH 18 ===\n",
      "Progress 10% | iter 43 | 451.6 pred/s | loss target_only -0.00016452497108971833\n",
      "Progress 20% | iter 87 | 604.5 pred/s | loss target_only -0.00015349946316807041\n",
      "Progress 30% | iter 131 | 572.2 pred/s | loss target_only -0.00014400770869171732\n",
      "Progress 40% | iter 175 | 576.0 pred/s | loss target_only -0.00016575535612878118\n",
      "Progress 50% | iter 219 | 548.8 pred/s | loss target_only -0.00016066895153046568\n",
      "Progress 60% | iter 263 | 599.5 pred/s | loss target_only -0.0001617278452495884\n",
      "Progress 70% | iter 307 | 450.5 pred/s | loss target_only -0.000177756439088496\n",
      "Progress 80% | iter 351 | 627.7 pred/s | loss target_only -0.00017643340295817422\n",
      "Progress 90% | iter 395 | 624.7 pred/s | loss target_only -0.00017388424584635853\n",
      "Progress 100% | iter 439 | 654.6 pred/s | loss target_only -0.0001695119130750432\n",
      "\n",
      "=== TEST ===\n",
      "\n"
     ]
    },
    {
     "name": "stderr",
     "output_type": "stream",
     "text": [
      "100%|█████████████████████████████████████████| 553/553 [00:21<00:00, 25.77it/s]"
     ]
    },
    {
     "name": "stdout",
     "output_type": "stream",
     "text": [
      "\u001b[31m| Metric               |    Value |\n",
      "|----------------------|----------|\n",
      "| target_probability   | 0.651944 |\n",
      "| choice_accuracy      | 0.664467 |\n",
      "| choice_accuracy_deg3 | 0.664467 |\n",
      "| precision_top1       | 0.664467 |\n",
      "| precision_top5       | 0.963743 |\n",
      "| path_nll             | 1.9704   |\n",
      "| path_nll_deg3        | 1.9704   |\u001b[0m\n"
     ]
    },
    {
     "name": "stderr",
     "output_type": "stream",
     "text": [
      "\n"
     ]
    }
   ],
   "source": [
    "load_model = False\n",
    "directory = '../../models/gretel_prediction_models/oslo_passenger/'\n",
    "path_format = 'node2node'\n",
    "\n",
    "# Either load model from file...\n",
    "if load_model:\n",
    "    # load model from file\n",
    "    network_name = '202204_waypoints_DP30_HDBSCAN25_stavanger_full_UTM'\n",
    "    model_path = '../../models/gretel_prediction_models/trained_models/'+network_name+'_target.obj'\n",
    "    fileObj = open(model_path, 'rb')\n",
    "    model = pickle.load(fileObj)\n",
    "    fileObj.close()\n",
    "    with open('../../models/gretel_prediction_models/trained_models/metadata_stavanger.json', 'r') as json_file:\n",
    "        meta_dict = json.load(json_file) \n",
    "    data_version = meta_dict['data_version']\n",
    "    print(meta_dict)\n",
    "    \n",
    "# ... or train model from scratch\n",
    "else:\n",
    "    config_file = 'route_target'\n",
    "    task = 'path'\n",
    "    # load metadata file\n",
    "    with open(directory+path_format+'/metadata.json', 'r') as json_file:\n",
    "        meta_dict = json.load(json_file)\n",
    "    network_name = meta_dict['network_name']\n",
    "    data_version = meta_dict['data_version']\n",
    "    filter = meta_dict['filter']\n",
    "    # train model\n",
    "    model = GretelPathPrediction()\n",
    "    model.train(config_file, directory, task)"
   ]
  },
  {
   "cell_type": "code",
   "execution_count": 3,
   "id": "34972e57",
   "metadata": {},
   "outputs": [
    {
     "data": {
      "image/png": "[encoded data removed]",
      "text/plain": [
       "<Figure size 800x800 with 9 Axes>"
      ]
     },
     "metadata": {},
     "output_type": "display_data"
    }
   ],
   "source": [
    "# plot training metrics\n",
    "model.plot_train_test_metrics(test_only=True)"
   ]
  },
  {
   "cell_type": "code",
   "execution_count": 4,
   "id": "6e9cdd4b",
   "metadata": {},
   "outputs": [],
   "source": [
    "#start_node = 185\n",
    "#end_node = 474\n",
    "#node_dist, rw_weights = model.predict(start_node, end_node, 2)"
   ]
  },
  {
   "cell_type": "code",
   "execution_count": 5,
   "id": "8015fd2d-6b1a-4420-a982-afaa23d7a303",
   "metadata": {},
   "outputs": [],
   "source": [
    "#### PREDICTION PARAMETERS ######\n",
    "prediction_task = 'next_nodes'  # 'next_nodes' or 'path'\n",
    "n_walks = 1000\n",
    "n_start_nodes = 1\n",
    "n_steps_vals = [10]  # only needed for next nodes prediction\n",
    "n_predictions = 1\n",
    "max_path_length = 150"
   ]
  },
  {
   "cell_type": "code",
   "execution_count": 6,
   "id": "12b85d2b",
   "metadata": {},
   "outputs": [
    {
     "name": "stdout",
     "output_type": "stream",
     "text": [
      "Making predictions for 1047 samples\n",
      "Progress: 10%...20%...30%...40%...50%...60%...70%...80%...90%...Done!\n",
      "Time elapsed: 10.23 minutes\n",
      "Predictions per second:  1.705809582451462\n"
     ]
    }
   ],
   "source": [
    "for n_steps in n_steps_vals:\n",
    "    # Load test data from file\n",
    "    path_prefix = '../../data/paths/'\n",
    "    test_dates = ['202209']\n",
    "    all_test_paths = dataloader_paths.load_path_test_data(path_prefix, network_name, test_dates, \n",
    "                                                          0, -1, 1, filter=filter, data_version=data_version)\n",
    "    # select test data\n",
    "    selection_start = 0\n",
    "    selection_end = -1\n",
    "    selection_step = 20\n",
    "    \n",
    "    # prepare test data\n",
    "    if prediction_task == 'next_nodes':\n",
    "        # split test paths in subpaths\n",
    "        sub_paths = dataloader_paths.split_path_data(all_test_paths, n_steps+n_start_nodes)\n",
    "        test_paths = dataloader_paths.sample_path_data(sub_paths, selection_start, selection_end, selection_step)\n",
    "    else:\n",
    "        test_paths = dataloader_paths.sample_path_data(all_test_paths, selection_start, selection_end, selection_step)\n",
    "    n_test_paths=len(test_paths)\n",
    "    \n",
    "    \n",
    "    #### MAKE PREDICTIONS ####\n",
    "    import time\n",
    "    start_time = time.time()\n",
    "    predictions = model.predict(prediction_task, test_paths, n_start_nodes, n_steps, \n",
    "                                n_predictions, n_walks, max_path_length)\n",
    "    end_time = time.time()  # end timer\n",
    "    print(f'Time elapsed: {(end_time-start_time)/60:.2f} minutes')\n",
    "    pps = n_test_paths/(end_time-start_time)\n",
    "    print('Predictions per second: ', pps)\n",
    "    \n",
    "    \n",
    "    # save results as csv\n",
    "    predictions.to_csv(directory+path_format+'/predictions_'+prediction_task+str(n_steps)+'.csv')\n",
    "    \n",
    "    \n",
    "    # save metadata to file\n",
    "    if load_model == False:\n",
    "        meta_dict['lr'] = model.config.lr\n",
    "        meta_dict['loss'] = model.config.loss\n",
    "        meta_dict['n_epochs'] = model.config.number_epoch\n",
    "        meta_dict['target_prediction'] = model.config.target_prediction\n",
    "    meta_dict['n_walks'] = n_walks\n",
    "    meta_dict['n_start_nodes'] = n_start_nodes\n",
    "    meta_dict['n_steps'] = n_steps\n",
    "    meta_dict['prediction_task'] = prediction_task\n",
    "    meta_dict['predictions_per_second'] = pps\n",
    "    meta_dict['model_type'] = 'Gretel'\n",
    "    meta_dict.update({'test_dates':str(test_dates),\n",
    "                      'selection_start':selection_start,\n",
    "                      'selection_end':selection_end,\n",
    "                      'selection_step':selection_step,\n",
    "                      'n_test_paths':len(test_paths)})\n",
    "    with open(directory+path_format+'/metadata_'+prediction_task+str(n_steps)+'.json', 'w') as json_file:\n",
    "        json.dump(meta_dict, json_file)"
   ]
  },
  {
   "cell_type": "code",
   "execution_count": 7,
   "id": "89e22b89",
   "metadata": {},
   "outputs": [
    {
     "data": {
      "text/plain": [
       "\"\\nimport pickle\\n# save model as pickle object\\nfileObj = open('../../models/gretel_prediction_models/trained_models/'+meta_dict['network_name']+filter'.obj', 'wb')\\npickle.dump(model, fileObj)\\nfileObj.close()\\n\""
      ]
     },
     "execution_count": 7,
     "metadata": {},
     "output_type": "execute_result"
    }
   ],
   "source": [
    "'''\n",
    "import pickle\n",
    "# save model as pickle object\n",
    "fileObj = open('../../models/gretel_prediction_models/trained_models/'+meta_dict['network_name']+filter'.obj', 'wb')\n",
    "pickle.dump(model, fileObj)\n",
    "fileObj.close()\n",
    "'''"
   ]
  },
  {
   "cell_type": "code",
   "execution_count": 8,
   "id": "778cfc69",
   "metadata": {},
   "outputs": [
    {
     "data": {
      "image/png": "[encoded data removed]",
      "text/plain": [
       "<Figure size 600x400 with 1 Axes>"
      ]
     },
     "metadata": {},
     "output_type": "display_data"
    }
   ],
   "source": [
    "import matplotlib.pyplot as plt\n",
    "key = 'target_probability'\n",
    "test_metrics = np.array(model.test_metrics[key])\n",
    "train_metrics = np.array(model.train_metrics[key])\n",
    "x = np.arange(len(test_metrics))\n",
    "\n",
    "fig, ax = plt.subplots(figsize=[6, 4])\n",
    "\n",
    "plt.plot(x, test_metrics, label='Test', color='r')\n",
    "#plt.plot(x, train_metrics, label='Train', color='b')\n",
    "\n",
    "ax.set_ylim(0.3, 0.65)\n",
    "ax.set_xticks(x)\n",
    "\n",
    "ax.set_xlabel('Epoch')\n",
    "ax.set_ylabel('Target probability')\n",
    "#ax.legend(loc='upper left')\n",
    "\n",
    "plt.title('Test error over epoch')\n",
    "#plt.savefig('Test_error_over_epoch_test_only.pdf')\n",
    "plt.show()"
   ]
  },
  {
   "cell_type": "code",
   "execution_count": null,
   "id": "2dc5225d-2148-499f-9249-da59eb8ec338",
   "metadata": {},
   "outputs": [],
   "source": []
  },
  {
   "cell_type": "code",
   "execution_count": null,
   "id": "1261236b-b5a0-49a1-94a2-8c386cc0822f",
   "metadata": {},
   "outputs": [],
   "source": []
  }
 ],
 "metadata": {
  "kernelspec": {
   "display_name": "Python 3 (ipykernel)",
   "language": "python",
   "name": "python3"
  },
  "language_info": {
   "codemirror_mode": {
    "name": "ipython",
    "version": 3
   },
   "file_extension": ".py",
   "mimetype": "text/x-python",
   "name": "python",
   "nbconvert_exporter": "python",
   "pygments_lexer": "ipython3",
   "version": "3.11.4"
  }
 },
 "nbformat": 4,
 "nbformat_minor": 5
}
