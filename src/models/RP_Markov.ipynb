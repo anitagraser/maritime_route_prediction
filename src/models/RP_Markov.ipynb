{
 "cells": [
  {
   "cell_type": "code",
   "execution_count": null,
   "id": "4b8cae83-4b74-4a77-bca7-b675bb2f9271",
   "metadata": {},
   "outputs": [],
   "source": [
    "'''\n",
    "This notebook uses a statistical model for route prediction without target information.\n",
    "The model can take the form of a random predictor or a Markov chain.\n",
    "- specify the maritime traffic network to predict routes on\n",
    "- specify training data to train the prediction model\n",
    "- specify test data to evaluate the prediction model\n",
    "- specify prediction model parameters\n",
    "The notebook will train the prediction model, evaluate it based on test data and visualize evaluation metrics.\n",
    "Optionally, predictions can be visualized against the ground truth on a map.\n",
    "'''"
   ]
  },
  {
   "cell_type": "code",
   "execution_count": null,
   "id": "b14c6672-d0c8-413e-9573-81363ad334b3",
   "metadata": {},
   "outputs": [],
   "source": [
    "import warnings\n",
    "import pickle\n",
    "import sys\n",
    "import numpy as np\n",
    "import time\n",
    "warnings.filterwarnings('ignore')\n",
    "\n",
    "# add paths for modules\n",
    "sys.path.append('../visualization')\n",
    "sys.path.append('../features')\n",
    "sys.path.append('../datawrangling')\n",
    "\n",
    "# import modules\n",
    "import visualize\n",
    "import geometry_utils\n",
    "import dataloader_paths, dataloader_geo\n",
    "\n",
    "from maritime_traffic_network import MaritimeTrafficNetwork\n",
    "from random_path_prediction import RandomWalkPathPrediction\n",
    "import prediction_model_evaluation_metrics as metrics"
   ]
  },
  {
   "cell_type": "code",
   "execution_count": null,
   "id": "0b54b5d5-a3ff-4add-a52f-105d513d0041",
   "metadata": {},
   "outputs": [],
   "source": [
    "# Specify maritime traffic network\n",
    "datasize = 'full'\n",
    "location = 'oslo'\n",
    "model_date = '202208'\n",
    "DP_tol = 10\n",
    "min_samples = 20\n",
    "\n",
    "# Specify training data\n",
    "train_dates = ['202206', '202207', '202208']\n",
    "train_filter = None        #None, 'Last', 'Passasjer', 'Tank',  'Fisk', 'Unknown', 'Auxiliary'\n",
    "\n",
    "# Specify test data\n",
    "test_dates = ['202209']\n",
    "test_filter = None         #None, 'Last', 'Passasjer', 'Tank',  'Fisk', 'Unknown', 'Auxiliary'\n",
    "selection_start = 0    # for subpath sampling\n",
    "selection_end = -1     # for subpath sampling\n",
    "selection_step = 200    # for subpath sampling\n",
    "\n",
    "# Specify prediction model parameters\n",
    "method = 'weighted'    # 'weighted' for Markov chain, 'random' for random predictor\n",
    "n_start_nodes = 1      # number of observed nodes (defaults to 1)\n",
    "n_steps = 5           # prediction horizon\n",
    "n_walks = 1000         # number of random walks for sampling\n",
    "n_predictions = 1      # top n_predictions predictions will be output\n",
    "eval_mode = 'path'     # evaluation mode: 'path' evaluates against the ground truth path, \n",
    "                       #                  'trajectory' against the ground truth trajectory"
   ]
  },
  {
   "cell_type": "code",
   "execution_count": null,
   "id": "49334a54-24a1-4db4-b4d6-43480c073f6c",
   "metadata": {},
   "outputs": [],
   "source": [
    "# Load maritime traffic network from pickle\n",
    "network_name = model_date+'_waypoints_DP'+str(DP_tol)+'_HDBSCAN'+str(min_samples)+'_'+location+'_'+datasize+'_UTM'\n",
    "network_path = '../../models/networks/best_networks/' + network_name + '.obj'\n",
    "fileObj = open(network_path, 'rb')\n",
    "network = pickle.load(fileObj)\n",
    "fileObj.close()\n",
    "network.hyperparameters"
   ]
  },
  {
   "cell_type": "code",
   "execution_count": null,
   "id": "a260a674-c712-4a88-9f9e-173d2050a7a9",
   "metadata": {},
   "outputs": [],
   "source": [
    "# Load training data from file\n",
    "path_prefix = '../../data/paths/'\n",
    "training_paths = dataloader_paths.load_path_training_data(path_prefix, network_name, train_dates, filter=train_filter, data_version='')"
   ]
  },
  {
   "cell_type": "code",
   "execution_count": null,
   "id": "b0a5f69f-2e72-40f2-bab7-35c8558ea22e",
   "metadata": {},
   "outputs": [],
   "source": [
    "# Train model\n",
    "model = RandomWalkPathPrediction()\n",
    "model.train(network.G_pruned, training_paths)"
   ]
  },
  {
   "cell_type": "code",
   "execution_count": null,
   "id": "d0119470-67d8-49dd-9ad7-a438303334db",
   "metadata": {},
   "outputs": [],
   "source": [
    "# Load test data from file\n",
    "traj_path_prefix = '../../data/processed/'\n",
    "all_test_paths = dataloader_paths.load_path_test_data(path_prefix, network_name, test_dates, \n",
    "                                                      0, -1, 1, filter=test_filter,)\n",
    "test_trajectories = dataloader_geo.load_trajectories(traj_path_prefix, location, network.crs, test_dates)"
   ]
  },
  {
   "cell_type": "code",
   "execution_count": null,
   "id": "829e41f8-3b5c-48af-9689-8aac9bf995c7",
   "metadata": {},
   "outputs": [],
   "source": [
    "# Split test paths in subpaths and sample\n",
    "sub_paths = dataloader_paths.split_path_data(all_test_paths, n_steps+n_start_nodes)\n",
    "test_paths = dataloader_paths.sample_path_data(sub_paths, selection_start, selection_end, selection_step)"
   ]
  },
  {
   "cell_type": "code",
   "execution_count": null,
   "id": "a3547cbe-bdc9-4624-89c4-fa6391be7729",
   "metadata": {},
   "outputs": [],
   "source": [
    "# Predict\n",
    "start_time = time.time()\n",
    "\n",
    "predictions = model.predict(test_paths, n_start_nodes, n_steps, n_predictions, n_walks, method=method)\n",
    "\n",
    "end_time = time.time()  # end timer\n",
    "print(f'Time elapsed: {(end_time-start_time)/60:.2f} minutes')\n",
    "pps = len(test_paths)/(end_time-start_time)\n",
    "print('Predictions per second: ', pps)"
   ]
  },
  {
   "cell_type": "code",
   "execution_count": null,
   "id": "b3c1d216-f410-4a69-a68c-d7492b4fdd63",
   "metadata": {},
   "outputs": [],
   "source": [
    "# Evaluate\n",
    "evaluation_results, fig = metrics.evaluate_given_predictions('next_nodes', predictions, test_trajectories, \n",
    "                                                             network, n_start_nodes=n_start_nodes, n_steps=n_steps, \n",
    "                                                             eval_mode=eval_mode)"
   ]
  },
  {
   "cell_type": "code",
   "execution_count": null,
   "id": "d66d46e7-e855-420a-b966-2817d03ee2ab",
   "metadata": {},
   "outputs": [],
   "source": [
    "# For visualization: Make predictions with the model and plot\n",
    "i = 8    # choose an example from the test set\n",
    "example = test_paths.iloc[i]\n",
    "mmsi = example.mmsi\n",
    "start_node = [example.path[0]]\n",
    "true_path = example.path\n",
    "trajectory = test_trajectories.get_trajectory(mmsi)\n",
    "\n",
    "predictions = model.sample_paths(start_node, n_walks, n_steps)\n",
    "total_sum = sum(predictions.values())\n",
    "probabilities = {key: value / total_sum for key, value in predictions.items()}\n",
    "for key in predictions:\n",
    "    predictions[key] = probabilities[key]\n",
    "\n",
    "# filter predictions with a probability > 3%\n",
    "predictions_filtered = {path: prob for path, prob in predictions.items() if prob > 0.03}\n",
    "\n",
    "map = visualize.map_prediction_and_ground_truth(predictions_filtered, start_node, trajectory, true_path, network, \n",
    "                                                min_passages=2, opacity=0.3, location=location)\n",
    "map.save('../../reports/maps/'+network_name+'_random_predictions.html')\n",
    "print(f'Map saved under {\"../../reports/maps/\"+network_name+\"_random_predictions.html\"}')"
   ]
  },
  {
   "cell_type": "code",
   "execution_count": null,
   "id": "9fbbc6a8-2c9b-4a96-a96b-29f8ea4a3244",
   "metadata": {},
   "outputs": [],
   "source": [
    "# Compute the average out-degree\n",
    "out_degrees = dict(network.G.out_degree())\n",
    "average_out_degree = sum(out_degrees.values()) / len(out_degrees)\n",
    "print(average_out_degree)"
   ]
  },
  {
   "cell_type": "code",
   "execution_count": null,
   "id": "fa0ababe-edec-45d3-8dc3-b227691a2280",
   "metadata": {},
   "outputs": [],
   "source": []
  }
 ],
 "metadata": {
  "kernelspec": {
   "display_name": "Python 3 (ipykernel)",
   "language": "python",
   "name": "python3"
  },
  "language_info": {
   "codemirror_mode": {
    "name": "ipython",
    "version": 3
   },
   "file_extension": ".py",
   "mimetype": "text/x-python",
   "name": "python",
   "nbconvert_exporter": "python",
   "pygments_lexer": "ipython3",
   "version": "3.11.5"
  }
 },
 "nbformat": 4,
 "nbformat_minor": 5
}
