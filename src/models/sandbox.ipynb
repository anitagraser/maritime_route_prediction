{
 "cells": [
  {
   "cell_type": "code",
   "execution_count": 1,
   "id": "e63aa3b0-8301-4229-82af-012fcad1d214",
   "metadata": {},
   "outputs": [
    {
     "name": "stdout",
     "output_type": "stream",
     "text": [
      "Geopandas has version 0.13.2\n",
      "Movingpandas has version 0.17.1\n"
     ]
    }
   ],
   "source": [
    "import pandas as pd\n",
    "import geopandas as gpd\n",
    "import movingpandas as mpd\n",
    "import numpy as np\n",
    "from datetime import timedelta, datetime\n",
    "from maritime_traffic_network import MaritimeTrafficNetwork\n",
    "import folium\n",
    "import warnings\n",
    "import sys\n",
    "\n",
    "warnings.filterwarnings('ignore')\n",
    "\n",
    "print(\"Geopandas has version {}\".format(gpd.__version__))\n",
    "print(\"Movingpandas has version {}\".format(mpd.__version__))"
   ]
  },
  {
   "cell_type": "code",
   "execution_count": 2,
   "id": "9423a983-7e60-4b45-99fe-bbb15759f6eb",
   "metadata": {},
   "outputs": [
    {
     "name": "stdout",
     "output_type": "stream",
     "text": [
      "['/Users/janhendrikwebert/maritime_route_prediction/src/models', '/Users/janhendrikwebert/miniforge3/envs/env_geo/lib/python311.zip', '/Users/janhendrikwebert/miniforge3/envs/env_geo/lib/python3.11', '/Users/janhendrikwebert/miniforge3/envs/env_geo/lib/python3.11/lib-dynload', '', '/Users/janhendrikwebert/miniforge3/envs/env_geo/lib/python3.11/site-packages', '../visualization']\n"
     ]
    }
   ],
   "source": [
    "# add paths for modules\n",
    "sys.path.append('../visualization')\n",
    "print(sys.path)\n",
    "\n",
    "# import modules\n",
    "import visualize"
   ]
  },
  {
   "cell_type": "code",
   "execution_count": 3,
   "id": "9b2063cb-e145-4ab0-a340-739a8653d1bf",
   "metadata": {},
   "outputs": [
    {
     "name": "stdout",
     "output_type": "stream",
     "text": [
      "<class 'geopandas.geodataframe.GeoDataFrame'>\n",
      "DatetimeIndex: 1879232 entries, 2022-04-08 03:12:48 to 2022-04-08 23:59:59\n",
      "Data columns (total 17 columns):\n",
      " #   Column        Dtype   \n",
      "---  ------        -----   \n",
      " 0   mmsi          object  \n",
      " 1   imo_nr        int64   \n",
      " 2   length        int64   \n",
      " 3   lon           float64 \n",
      " 4   lat           float64 \n",
      " 5   sog           float64 \n",
      " 6   cog           float64 \n",
      " 7   true_heading  int64   \n",
      " 8   nav_status    int64   \n",
      " 9   message_nr    int64   \n",
      " 10  bredde        float64 \n",
      " 11  dypgaaende    float64 \n",
      " 12  skipstype     object  \n",
      " 13  skipsgruppe   object  \n",
      " 14  fartoynavn    object  \n",
      " 15  geometry      geometry\n",
      " 16  speed         float64 \n",
      "dtypes: float64(7), geometry(1), int64(5), object(4)\n",
      "memory usage: 258.1+ MB\n"
     ]
    }
   ],
   "source": [
    "# read data from file\n",
    "filename = '../../data/processed/202204_points_stavanger_cleaned_meta_2M.parquet'\n",
    "#filename = '../../data/processed/202204_points_stavanger_cleaned_full.parquet'\n",
    "gdf = gpd.read_parquet(filename)\n",
    "gdf.info()"
   ]
  },
  {
   "cell_type": "code",
   "execution_count": 4,
   "id": "290dddcc-6b0f-4039-a5cc-249a5fa729d0",
   "metadata": {},
   "outputs": [
    {
     "name": "stdout",
     "output_type": "stream",
     "text": [
      "AIS messages: 1879232\n",
      "Trajectories: 2674\n"
     ]
    }
   ],
   "source": [
    "# initialize maritime traffic network\n",
    "network = MaritimeTrafficNetwork(gdf)\n",
    "network.get_trajectories_info()"
   ]
  },
  {
   "cell_type": "code",
   "execution_count": 5,
   "id": "2c8cdd01-8aaa-457b-9082-d412f8e74ab9",
   "metadata": {},
   "outputs": [
    {
     "name": "stdout",
     "output_type": "stream",
     "text": [
      "Calculating significant turning points with Douglas Peucker algorithm (tolerance = 0.002) ...\n",
      "Number of significant points detected: 29963 (1.59% of AIS messages)\n",
      "Time elapsed: 1.12 minutes\n",
      "Adding course over ground before and after each turn ...\n",
      "Done. Time elapsed: 1.43 minutes\n"
     ]
    }
   ],
   "source": [
    "# calculate significant turning points using Douglas Peucker algorithm\n",
    "tolerance = 0.002  # DP tolerance parameter\n",
    "network.calc_significant_points_DP(tolerance)"
   ]
  },
  {
   "cell_type": "code",
   "execution_count": 6,
   "id": "61eabcbc-33e6-46d9-92f2-0b4d8e82440b",
   "metadata": {},
   "outputs": [],
   "source": [
    "# select trajectories\n",
    "trajs = network.trajectories.to_traj_gdf()\n",
    "simplified_trajs = network.significant_points_trajectory.to_point_gdf()"
   ]
  },
  {
   "cell_type": "code",
   "execution_count": 7,
   "id": "23d04c65-8435-4153-9149-8e23b2f30d5e",
   "metadata": {},
   "outputs": [],
   "source": [
    "from shapely.geometry import LineString, Point\n",
    "from math import atan2, cos, degrees, pi, radians, sin, sqrt\n",
    "def calculate_initial_compass_bearing(point1, point2):\n",
    "    \"\"\"\n",
    "    Calculate the bearing between two points.\n",
    "\n",
    "    The formulae used is the following:\n",
    "        θ = atan2(sin(Δlong).cos(lat2),\n",
    "                  cos(lat1).sin(lat2) − sin(lat1).cos(lat2).cos(Δlong))\n",
    "    :Parameters:\n",
    "      - `point1: shapely Point\n",
    "      - `point2: shapely Point\n",
    "    :Returns:\n",
    "      The bearing in degrees\n",
    "    :Returns Type:\n",
    "      float\n",
    "    \"\"\"\n",
    "    lat1 = radians(point1.y)\n",
    "    lat2 = radians(point2.y)\n",
    "    delta_lon = radians(point2.x - point1.x)\n",
    "    x = sin(delta_lon) * cos(lat2)\n",
    "    y = cos(lat1) * sin(lat2) - (sin(lat1) * cos(lat2) * cos(delta_lon))\n",
    "    initial_bearing = atan2(x, y)\n",
    "    # Now we have the initial bearing but math.atan2 return values\n",
    "    # from -180° to + 180° which is not what we want for a compass bearing\n",
    "    # The solution is to normalize the initial bearing as shown below\n",
    "    initial_bearing = degrees(initial_bearing)\n",
    "    compass_bearing = (initial_bearing + 360) % 360\n",
    "\n",
    "    return compass_bearing"
   ]
  },
  {
   "cell_type": "code",
   "execution_count": 9,
   "id": "bb305e00-5b98-4d7a-9d72-f0c647fa21f6",
   "metadata": {},
   "outputs": [
    {
     "name": "stdout",
     "output_type": "stream",
     "text": [
      "Done. Time elapsed: 1.44 minutes\n"
     ]
    }
   ],
   "source": [
    "import time\n",
    "start = time.time()  # start timer\n",
    "simplified_trajs['cog_before'] = np.nan\n",
    "simplified_trajs['cog_after'] = np.nan\n",
    "for mmsi in simplified_trajs.mmsi.unique():\n",
    "    subset = simplified_trajs[simplified_trajs.mmsi == mmsi]\n",
    "    if len(subset)>1:\n",
    "        for i in range(0, len(subset)-1):\n",
    "            subset['cog_before'].iloc[i+1] = (calculate_initial_compass_bearing(subset['geometry'].iloc[i], subset['geometry'].iloc[i+1]))\n",
    "            subset['cog_after'].iloc[i] = subset['cog_before'].iloc[i+1]\n",
    "        subset['cog_before'].iloc[0] = subset['cog_before'].iloc[1]\n",
    "        subset['cog_after'].iloc[-1] = subset['cog_after'].iloc[-2]\n",
    "    else:\n",
    "        subset['cog_after'] = 0\n",
    "        subset['cog_before'] = 0\n",
    "    simplified_trajs.update(subset)\n",
    "end = time.time()  # end timer\n",
    "print(f'Done. Time elapsed: {(end-start)/60:.2f} minutes')"
   ]
  },
  {
   "cell_type": "code",
   "execution_count": null,
   "id": "4e95171f-9601-4484-a72e-774f3d3e5f08",
   "metadata": {},
   "outputs": [],
   "source": [
    "mmsi = '219347000_0'\n",
    "trajs = trajs[trajs.mmsi == mmsi]\n",
    "simplified_trajs = simplified_trajs[simplified_trajs.mmsi == mmsi]\n",
    "simplified_trajs.reset_index(inplace=True)"
   ]
  },
  {
   "cell_type": "code",
   "execution_count": null,
   "id": "d730d90e-5baa-4ae5-9457-f0b9a2e21e33",
   "metadata": {},
   "outputs": [],
   "source": [
    "simplified_trajs"
   ]
  },
  {
   "cell_type": "code",
   "execution_count": null,
   "id": "9ce11e05-c991-4b5d-97b5-d953db53f796",
   "metadata": {},
   "outputs": [],
   "source": [
    "sig = network.significant_points\n",
    "sig = sig[sig.mmsi == mmsi]\n",
    "sig.reset_index(inplace=True)"
   ]
  },
  {
   "cell_type": "code",
   "execution_count": null,
   "id": "c9daa1f6-97e9-4e31-8946-bb8bf562b6b4",
   "metadata": {},
   "outputs": [],
   "source": [
    "columns = ['geometry', 'mmsi', 'cog_before', 'cog_after']  # columns to be plotted\n",
    "# plot simplified trajectories\n",
    "#map = trajs[['geometry', 'mmsi']].explore(column='mmsi', name='accurate trajectories', \n",
    "#                             style_kwds={'weight':2, 'color':'black', 'opacity':0.5}, \n",
    "#                             legend=False)\n",
    "# plot significant turning points with their cluster ID\n",
    "\n",
    "map = simplified_trajs[columns].explore(name='simplified trajectories', legend=False,\n",
    "                                        style_kwds={'weight':2, 'color':'blue', 'opacity':0.5})\n",
    "\n",
    "map = sig[columns].explore(m=map, name='simplified trajectories2', legend=False,\n",
    "                                                            style_kwds={'weight':2, 'color':'red', 'opacity':0.5})\n",
    "\n",
    "\n",
    "folium.LayerControl().add_to(map)\n",
    "map"
   ]
  },
  {
   "cell_type": "code",
   "execution_count": null,
   "id": "5c6a32f2-aa11-4b18-bf84-fcd3281bd065",
   "metadata": {},
   "outputs": [],
   "source": []
  }
 ],
 "metadata": {
  "kernelspec": {
   "display_name": "Python 3 (ipykernel)",
   "language": "python",
   "name": "python3"
  },
  "language_info": {
   "codemirror_mode": {
    "name": "ipython",
    "version": 3
   },
   "file_extension": ".py",
   "mimetype": "text/x-python",
   "name": "python",
   "nbconvert_exporter": "python",
   "pygments_lexer": "ipython3",
   "version": "3.11.5"
  }
 },
 "nbformat": 4,
 "nbformat_minor": 5
}
