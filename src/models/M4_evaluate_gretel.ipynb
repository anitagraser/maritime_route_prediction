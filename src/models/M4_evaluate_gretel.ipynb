{
 "cells": [
  {
   "cell_type": "code",
   "execution_count": 1,
   "id": "f4d6c13d-a271-4d0b-97c7-b8cf9f61d0f8",
   "metadata": {},
   "outputs": [
    {
     "name": "stdout",
     "output_type": "stream",
     "text": [
      "Geopandas has version 0.13.2\n",
      "Movingpandas has version 0.17.1\n"
     ]
    },
    {
     "data": {
      "text/html": [
       "\n",
       "    <script charset=\"utf-8\">\n",
       "    // Load via requireJS if available (jupyter notebook environment)\n",
       "    try {\n",
       "    require.config({\n",
       "    paths: {\n",
       "    d3: \"https://d3js.org/d3.v5.min.js\".replace(\".js\", \"\")\n",
       "    }\n",
       "    });\n",
       "    console.log(\"OKAY: requireJS was detected\");\n",
       "    }\n",
       "    catch(err){\n",
       "    console.log(err);\n",
       "    console.log(\"ERROR: NO requireJS was detected\");\n",
       "    };\n",
       "    require(['d3'], function(d3){\n",
       "    console.log(\"OKAY: d3js was detected\");\n",
       "    });\n",
       "    </script>\n",
       "    "
      ],
      "text/plain": [
       "<IPython.core.display.HTML object>"
      ]
     },
     "metadata": {},
     "output_type": "display_data"
    }
   ],
   "source": [
    "import pandas as pd\n",
    "import geopandas as gpd\n",
    "import movingpandas as mpd\n",
    "import numpy as np\n",
    "from datetime import timedelta, datetime\n",
    "from ast import literal_eval\n",
    "import networkx as nx\n",
    "import folium\n",
    "import time\n",
    "import warnings\n",
    "import pickle\n",
    "import sys\n",
    "\n",
    "warnings.filterwarnings('ignore')\n",
    "print(\"Geopandas has version {}\".format(gpd.__version__))\n",
    "print(\"Movingpandas has version {}\".format(mpd.__version__))\n",
    "\n",
    "# add paths for modules\n",
    "sys.path.append('../visualization')\n",
    "sys.path.append('../features')\n",
    "# import modules\n",
    "import visualize\n",
    "import geometry_utils\n",
    "from maritime_traffic_network import MaritimeTrafficNetwork\n",
    "import prediction_model_evaluation_metrics as metrics"
   ]
  },
  {
   "cell_type": "code",
   "execution_count": 2,
   "id": "54dee2ea-375d-42a6-ad1c-e9a191d0a027",
   "metadata": {},
   "outputs": [],
   "source": [
    "# path to directory of model\n",
    "location = 'tromso'\n",
    "directory = '../../models/gretel_prediction_models/'+location+'_small/'\n",
    "test_dates = ['202206']\n",
    "prediction_task = 'path'"
   ]
  },
  {
   "cell_type": "code",
   "execution_count": 3,
   "id": "dd27e245-9a13-441a-9cc2-85bc77ced071",
   "metadata": {},
   "outputs": [],
   "source": [
    "# retrieve traffic network name\n",
    "with open(directory+'metadata.txt') as f:\n",
    "    network_name = f.readline().strip()"
   ]
  },
  {
   "cell_type": "code",
   "execution_count": 4,
   "id": "df22f315-d148-42ac-be72-273e1def6541",
   "metadata": {},
   "outputs": [
    {
     "data": {
      "text/plain": [
       "{'Data': '../../data/processed/202204_points_tromso_cleaned_meta_full_dualSplit_2.parquet',\n",
       " 'DP_tolerance': 10,\n",
       " 'clustering_method': 'HDBSCAN',\n",
       " 'clustering_metric': 'mahalanobis',\n",
       " 'clustering_min_samples': 13,\n",
       " 'clustering_min_cluster_size': 13,\n",
       " 'clustering_eps': 0,\n",
       " 'clustering_metric_V': array([[1.  , 0.  , 0.  , 0.  , 0.  ],\n",
       "        [0.  , 1.  , 0.  , 0.  , 0.  ],\n",
       "        [0.  , 0.  , 0.01, 0.  , 0.  ],\n",
       "        [0.  , 0.  , 0.  , 0.01, 0.  ],\n",
       "        [0.  , 0.  , 0.  , 0.  , 1.  ]]),\n",
       " 'graph_generation_max_distance': 20,\n",
       " 'graph_generation_max_angle': 45}"
      ]
     },
     "execution_count": 4,
     "metadata": {},
     "output_type": "execute_result"
    }
   ],
   "source": [
    "# load maritime traffic network\n",
    "network_path = '../../models/networks/best_networks/' + network_name + '.obj'\n",
    "fileObj = open(network_path, 'rb')\n",
    "network = pickle.load(fileObj)\n",
    "fileObj.close()\n",
    "network.hyperparameters"
   ]
  },
  {
   "cell_type": "code",
   "execution_count": 5,
   "id": "1b89a381-0ada-466a-b712-be88427f5271",
   "metadata": {},
   "outputs": [],
   "source": [
    "# Load test data for prediction model\n",
    "for i in range(0, len(test_dates)):\n",
    "    test_date = test_dates[i]\n",
    "    # Load path data\n",
    "    filename = network_name+'_'+test_date+'_paths.csv'\n",
    "    test_data = pd.read_csv('../../data/paths/'+filename)\n",
    "    test_data['path'] = test_data['path'].apply(literal_eval)\n",
    "    test_data = gpd.GeoDataFrame(test_data, geometry=gpd.GeoSeries.from_wkt(test_data['geometry']), crs=network.crs)\n",
    "    test_data = test_data[test_data['message']=='success']\n",
    "\n",
    "    # Load respective trajectories for evaluation\n",
    "    traj_file = test_date+'_points_'+location+'_cleaned_meta_full_dualSplit_2'\n",
    "    filename = '../../data/processed/' + traj_file + '.parquet'\n",
    "    traj_gdf = gpd.read_parquet(filename)\n",
    "    traj_gdf.to_crs(network.crs, inplace=True)  # Transformation\n",
    "    \n",
    "    if i==0:\n",
    "        all_test_data = test_data\n",
    "        all_traj_gdf = traj_gdf\n",
    "    else:\n",
    "        all_test_data = pd.concat([all_test_data, test_data])\n",
    "        all_traj_gdf = pd.concat([all_traj_gdf, traj_gdf])\n",
    "        \n",
    "test_trajectories = mpd.TrajectoryCollection(all_traj_gdf, traj_id_col='mmsi', obj_id_col='mmsi')"
   ]
  },
  {
   "cell_type": "code",
   "execution_count": 6,
   "id": "2cfd7d26-a467-4287-ae32-e25b9094ff18",
   "metadata": {},
   "outputs": [],
   "source": [
    "# load predictions from file\n",
    "predictions = pd.read_csv(directory+'predictions.csv')\n",
    "predictions['ground_truth'] = predictions['ground_truth'].apply(literal_eval)\n",
    "predictions['prediction'] = predictions['prediction'].apply(literal_eval)"
   ]
  },
  {
   "cell_type": "code",
   "execution_count": 7,
   "id": "239c7614-8ba9-40c9-af26-0090c8927259",
   "metadata": {},
   "outputs": [],
   "source": [
    "# check if all predictions are valid\n",
    "for index, row in predictions.iterrows():\n",
    "    if geometry_utils.is_valid_path(network.G, row['ground_truth']) == False:\n",
    "        print(row['mmsi'].tolist())"
   ]
  },
  {
   "cell_type": "code",
   "execution_count": 8,
   "id": "d507703e-9aa1-4025-9bf9-b1d4cd4fba65",
   "metadata": {},
   "outputs": [
    {
     "name": "stdout",
     "output_type": "stream",
     "text": [
      "Evaluating 761 samples for path prediction task\n",
      "Progress: 10%...20%...30%...40%...50%...60%...70%...80%...90%...Done!\n",
      "\n",
      "\n",
      "Time elapsed: 0.41 minutes\n",
      "\n",
      "\n",
      "Percentage of unsuccessful predictions: 0.00%\n",
      "Mean SSPD: 574.19m\n",
      "Median SSPD: 237.50m\n"
     ]
    },
    {
     "data": {
      "image/png": "[encoded data removed]",
      "text/plain": [
       "<Figure size 1200x600 with 2 Axes>"
      ]
     },
     "metadata": {},
     "output_type": "display_data"
    }
   ],
   "source": [
    "evaluation_results, fig = metrics.evaluate_given_predictions(prediction_task, predictions[0::2], test_trajectories, network, n_start_nodes=1, eval_mode='path')"
   ]
  },
  {
   "cell_type": "code",
   "execution_count": null,
   "id": "13dfa6f7-5f86-46cc-8bbd-7915e2312218",
   "metadata": {},
   "outputs": [],
   "source": []
  }
 ],
 "metadata": {
  "kernelspec": {
   "display_name": "Python 3 (ipykernel)",
   "language": "python",
   "name": "python3"
  },
  "language_info": {
   "codemirror_mode": {
    "name": "ipython",
    "version": 3
   },
   "file_extension": ".py",
   "mimetype": "text/x-python",
   "name": "python",
   "nbconvert_exporter": "python",
   "pygments_lexer": "ipython3",
   "version": "3.11.5"
  }
 },
 "nbformat": 4,
 "nbformat_minor": 5
}
