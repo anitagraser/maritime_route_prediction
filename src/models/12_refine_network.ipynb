{
 "cells": [
  {
   "cell_type": "code",
   "execution_count": 1,
   "id": "680b602f-333e-4506-94ab-830a49668d25",
   "metadata": {},
   "outputs": [
    {
     "name": "stdout",
     "output_type": "stream",
     "text": [
      "Geopandas has version 0.13.2\n",
      "Movingpandas has version 0.17.1\n"
     ]
    }
   ],
   "source": [
    "import pandas as pd\n",
    "import geopandas as gpd\n",
    "import movingpandas as mpd\n",
    "import numpy as np\n",
    "from datetime import timedelta, datetime\n",
    "from ast import literal_eval\n",
    "import folium\n",
    "import time\n",
    "import warnings\n",
    "import pickle\n",
    "import sys\n",
    "\n",
    "warnings.filterwarnings('ignore')\n",
    "\n",
    "print(\"Geopandas has version {}\".format(gpd.__version__))\n",
    "print(\"Movingpandas has version {}\".format(mpd.__version__))"
   ]
  },
  {
   "cell_type": "code",
   "execution_count": 2,
   "id": "e0998ca4-6edc-4ec6-80d0-8ea9decdc78e",
   "metadata": {},
   "outputs": [],
   "source": [
    "# add paths for modules\n",
    "sys.path.append('../models')\n",
    "# import modules\n",
    "from maritime_traffic_network import MaritimeTrafficNetwork"
   ]
  },
  {
   "cell_type": "code",
   "execution_count": 3,
   "id": "48456557-9c29-4e2c-8d69-1979bacda651",
   "metadata": {},
   "outputs": [
    {
     "data": {
      "text/plain": [
       "{'Data': '../../data/processed/202204_points_stavanger_cleaned_meta_full_dualSplit_2.parquet',\n",
       " 'DP_tolerance': 10,\n",
       " 'clustering_method': 'HDBSCAN',\n",
       " 'clustering_metric': 'mahalanobis',\n",
       " 'clustering_min_samples': 16,\n",
       " 'clustering_min_cluster_size': 16,\n",
       " 'clustering_eps': 0,\n",
       " 'clustering_metric_V': array([[1.  , 0.  , 0.  , 0.  , 0.  ],\n",
       "        [0.  , 1.  , 0.  , 0.  , 0.  ],\n",
       "        [0.  , 0.  , 0.01, 0.  , 0.  ],\n",
       "        [0.  , 0.  , 0.  , 0.01, 0.  ],\n",
       "        [0.  , 0.  , 0.  , 0.  , 1.  ]]),\n",
       " 'graph_generation_max_distance': 20,\n",
       " 'graph_generation_max_angle': 45}"
      ]
     },
     "execution_count": 3,
     "metadata": {},
     "output_type": "execute_result"
    }
   ],
   "source": [
    "# load network from pickle\n",
    "model_date = '202204'\n",
    "location = 'stavanger'\n",
    "DP_tol = 10\n",
    "min_samples = 16\n",
    "data_size = 'full'\n",
    "\n",
    "model_name = model_date+'_waypoints_DP'+str(DP_tol)+'_HDBSCAN'+str(min_samples)+'_'+location+'_'+data_size+'_UTM'\n",
    "model_path = '../../models/networks/best_networks/' + model_name + '.obj'\n",
    "fileObj = open(model_path, 'rb')\n",
    "network = pickle.load(fileObj)\n",
    "fileObj.close()\n",
    "network.hyperparameters"
   ]
  },
  {
   "cell_type": "code",
   "execution_count": 4,
   "id": "ed0328a8-51bd-4465-a6c7-3982cc7b68dc",
   "metadata": {},
   "outputs": [],
   "source": [
    "# Load test data from file\n",
    "path_dates = ['202204']\n",
    "crs = network.crs\n",
    "for i in range(0, len(path_dates)):\n",
    "    path_date = path_dates[i]\n",
    "    # load path data from file\n",
    "    filename = model_name+'_'+path_date+'_paths.csv'\n",
    "    path_data = pd.read_csv('../../data/paths/'+filename)\n",
    "    #path_data = path_data.iloc[0:20]\n",
    "    \n",
    "    # Load respective trajectories for evaluation\n",
    "    traj_file = path_date+'_points_'+location+'_cleaned_meta_full_dualSplit_2'\n",
    "    filename = '../../data/processed/' + traj_file + '.parquet'\n",
    "    traj_gdf = gpd.read_parquet(filename)\n",
    "    traj_gdf.to_crs(crs, inplace=True)  # Transformation\n",
    "\n",
    "    if i==0:\n",
    "        all_path_data = path_data\n",
    "        all_traj_gdf = traj_gdf\n",
    "    else:\n",
    "        all_path_data = pd.concat([all_path_data, path_data])\n",
    "        all_traj_gdf = pd.concat([all_traj_gdf, traj_gdf])\n",
    "\n",
    "all_path_data['path'] = all_path_data['path'].apply(literal_eval)\n",
    "all_path_data = gpd.GeoDataFrame(all_path_data, geometry=gpd.GeoSeries.from_wkt(all_path_data['geometry']), crs=crs)\n",
    "trajectories = mpd.TrajectoryCollection(all_traj_gdf, traj_id_col='mmsi', obj_id_col='mmsi')"
   ]
  },
  {
   "cell_type": "code",
   "execution_count": 5,
   "id": "72b8946f-b260-439e-bfa5-90944ea6dd21",
   "metadata": {},
   "outputs": [
    {
     "name": "stdout",
     "output_type": "stream",
     "text": [
      "Refining graph based on 13285 passages...\n",
      "Computing speeds and cross track distances for each trajectory:\n",
      "Progress: 10%...20%...30%...40%...50%...60%...70%...80%...90%...Done!\n",
      "Pruning edges and computing edge features...\n",
      "------------------------\n",
      "Refined Graph:\n",
      "Number of nodes: 2241 / 2241 (20 / 19 isolated)\n",
      "Number of edges: 9413 / 12781\n",
      "------------------------\n",
      "Time elapsed: 219.26 minutes\n"
     ]
    }
   ],
   "source": [
    "# refine the network on the specified path data\n",
    "network.refine_graph_from_paths(all_path_data[['mmsi', 'path']], trajectories)"
   ]
  },
  {
   "cell_type": "code",
   "execution_count": 6,
   "id": "e75ce04d-79c9-46f9-a9d7-30b3dade7957",
   "metadata": {},
   "outputs": [],
   "source": [
    "# save hyperparameters\n",
    "params = network.hyperparameters\n",
    "params['refinement'] = True\n",
    "params['refinement_months'] = path_dates\n",
    "params['refinement_n_paths'] = len(all_path_data)\n",
    "network.set_hyperparameters(params)"
   ]
  },
  {
   "cell_type": "code",
   "execution_count": 7,
   "id": "0feb0b76-7889-4ff5-8ea3-04011d7671a3",
   "metadata": {},
   "outputs": [],
   "source": [
    "# save network as pickle object\n",
    "fileObj = open('../../models/networks/refined_networks/'+model_name+'_refined.obj', 'wb')\n",
    "pickle.dump(network, fileObj)\n",
    "fileObj.close()"
   ]
  },
  {
   "cell_type": "code",
   "execution_count": 8,
   "id": "00e258d8-62bd-4f18-b775-8376a15d760e",
   "metadata": {},
   "outputs": [
    {
     "name": "stdout",
     "output_type": "stream",
     "text": [
      "205209000_0_2022-04-08 03:12:48\n",
      "   message        SSPD\n",
      "0  success  221.521573\n",
      "------------------\n"
     ]
    }
   ],
   "source": [
    "# optional plotting\n",
    "plotting = True\n",
    "if plotting:\n",
    "    map = network.map_graph(refined=True, line_weight=2)  #tromso: center=[69, 19], oslo: center=[59, 10.5]\n",
    "    \n",
    "    # add some trajectories\n",
    "    all_trajectories = network.trajectories\n",
    "    selection_start = 0\n",
    "    selection_end = 1 #len(all_trajectories)\n",
    "    selection_step = 1\n",
    "    selection = np.arange(selection_start, selection_end, selection_step)\n",
    "    #selection = [0, 1, 10, 100, 500, 1000, 2999, 5000]\n",
    "    mmsis = path_data.mmsi.iloc[selection]\n",
    "    for mmsi in mmsis:\n",
    "        print(mmsi)\n",
    "        trajectory = trajectories.get_trajectory(mmsi)\n",
    "        path_df_sspd, evaluation_results_sspd = network.trajectory_to_path_sspd(trajectory, verbose=False)\n",
    "        print(evaluation_results_sspd[['message', 'SSPD']])\n",
    "        print('------------------')\n",
    "        try:\n",
    "            map = trajectory.to_line_gdf()[['geometry', 'mmsi', 'skipsgruppe']].explore(m=map, style_kwds={'weight':3, 'color':'black', 'opacity':1}, \n",
    "                                                                          name=mmsi+' trajectory')\n",
    "            map = path_df_sspd.explore(m=map, name=mmsi+' edge_sequence sspd', style_kwds={'weight':3, 'color':'cyan', 'opacity':1})\n",
    "        except:\n",
    "            print(mmsi+': no path found')\n",
    "    \n",
    "    folium.LayerControl().add_to(map)\n",
    "    map"
   ]
  },
  {
   "cell_type": "code",
   "execution_count": 9,
   "id": "7784f0fd-4b97-47af-adb2-df6af1fe3ffa",
   "metadata": {},
   "outputs": [],
   "source": [
    "#map"
   ]
  },
  {
   "cell_type": "code",
   "execution_count": null,
   "id": "786dd5d3-4969-4c38-a60f-e7619546668a",
   "metadata": {},
   "outputs": [],
   "source": []
  }
 ],
 "metadata": {
  "kernelspec": {
   "display_name": "Python 3 (ipykernel)",
   "language": "python",
   "name": "python3"
  },
  "language_info": {
   "codemirror_mode": {
    "name": "ipython",
    "version": 3
   },
   "file_extension": ".py",
   "mimetype": "text/x-python",
   "name": "python",
   "nbconvert_exporter": "python",
   "pygments_lexer": "ipython3",
   "version": "3.11.5"
  }
 },
 "nbformat": 4,
 "nbformat_minor": 5
}
