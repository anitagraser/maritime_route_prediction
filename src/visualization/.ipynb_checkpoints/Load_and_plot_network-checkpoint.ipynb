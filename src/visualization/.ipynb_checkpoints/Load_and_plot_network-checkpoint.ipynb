{
 "cells": [
  {
   "cell_type": "code",
   "execution_count": 1,
   "id": "e63aa3b0-8301-4229-82af-012fcad1d214",
   "metadata": {},
   "outputs": [
    {
     "name": "stdout",
     "output_type": "stream",
     "text": [
      "Geopandas has version 0.13.2\n",
      "Movingpandas has version 0.17.1\n"
     ]
    }
   ],
   "source": [
    "import pandas as pd\n",
    "import geopandas as gpd\n",
    "import movingpandas as mpd\n",
    "import numpy as np\n",
    "from datetime import timedelta, datetime\n",
    "from ast import literal_eval\n",
    "import folium\n",
    "import time\n",
    "import warnings\n",
    "import pickle\n",
    "import sys\n",
    "\n",
    "warnings.filterwarnings('ignore')\n",
    "\n",
    "print(\"Geopandas has version {}\".format(gpd.__version__))\n",
    "print(\"Movingpandas has version {}\".format(mpd.__version__))"
   ]
  },
  {
   "cell_type": "code",
   "execution_count": 2,
   "id": "9423a983-7e60-4b45-99fe-bbb15759f6eb",
   "metadata": {},
   "outputs": [],
   "source": [
    "# add paths for modules\n",
    "sys.path.append('../models')\n",
    "# import modules\n",
    "import  visualize\n",
    "from maritime_traffic_network import MaritimeTrafficNetwork"
   ]
  },
  {
   "cell_type": "code",
   "execution_count": 3,
   "id": "30be92b5-1a11-448d-8ed6-831404b1bc3c",
   "metadata": {},
   "outputs": [
    {
     "data": {
      "text/plain": [
       "{'Data': \"['../../data/processed/202204_points_stavanger_cleaned_meta_full_dualSplit_3.parquet']\",\n",
       " 'DP_tolerance': 10,\n",
       " 'clustering_method': 'DBSCAN',\n",
       " 'clustering_metric': 'mahalanobis',\n",
       " 'clustering_min_samples': 10,\n",
       " 'clustering_min_cluster_size': 10,\n",
       " 'clustering_eps': 10,\n",
       " 'clustering_metric_V': array([[1.  , 0.  , 0.  , 0.  , 0.  ],\n",
       "        [0.  , 1.  , 0.  , 0.  , 0.  ],\n",
       "        [0.  , 0.  , 0.01, 0.  , 0.  ],\n",
       "        [0.  , 0.  , 0.  , 0.01, 0.  ],\n",
       "        [0.  , 0.  , 0.  , 0.  , 1.  ]]),\n",
       " 'graph_generation_max_distance': 20,\n",
       " 'graph_generation_max_angle': 45,\n",
       " 'merge_stops_speed': 2}"
      ]
     },
     "execution_count": 3,
     "metadata": {},
     "output_type": "execute_result"
    }
   ],
   "source": [
    "# load network from pickle\n",
    "model_date = \"['202204']\"\n",
    "location = 'stavanger'\n",
    "DP_tol = 30\n",
    "min_samples = 30\n",
    "data_size = 'full'\n",
    "refined = '_refined'\n",
    "\n",
    "#model_name = model_date+'_waypoints_DP'+str(DP_tol)+'_HDBSCAN'+str(min_samples)+'_'+location+'_'+data_size+'_UTM'+refined\n",
    "model_name = model_date+'_waypoints_DP10_DBSCAN10_eps50_stavanger_full_UTM'\n",
    "model_path = '../../models/networks/' + model_name + '.obj'\n",
    "fileObj = open(model_path, 'rb')\n",
    "network = pickle.load(fileObj)\n",
    "fileObj.close()\n",
    "network.hyperparameters"
   ]
  },
  {
   "cell_type": "code",
   "execution_count": 4,
   "id": "8d13b442-6dbc-4840-ab2e-5752bbb1e4ff",
   "metadata": {},
   "outputs": [
    {
     "name": "stdout",
     "output_type": "stream",
     "text": [
      "205209000_0_2022-04-08 03:12:48\n",
      "         message  SSPD\n",
      "0  no_intersects   NaN\n",
      "------------------\n",
      "205209000_0_2022-04-08 03:12:48: no path found\n"
     ]
    },
    {
     "data": {
      "text/plain": [
       "<folium.map.LayerControl at 0x39d152710>"
      ]
     },
     "execution_count": 4,
     "metadata": {},
     "output_type": "execute_result"
    }
   ],
   "source": [
    "# plot network and basemap\n",
    "#network.prune_graph(5, 'refined')\n",
    "map = network.map_graph(pruned=True, line_weight=2, min_passages=3)  #tromso: center=[69, 19], oslo: center=[59, 10.5]\n",
    "\n",
    "# add some trajectories\n",
    "all_trajectories = network.trajectories\n",
    "selection_start = 0\n",
    "selection_end = 1 #len(all_trajectories)\n",
    "selection_step = 1\n",
    "selection = np.arange(selection_start, selection_end, selection_step)\n",
    "#selection = [0, 1, 10, 100, 500, 1000, 2999, 5000]\n",
    "mmsis = network.gdf.mmsi.unique()[selection]\n",
    "#mmsis = test_gdf.mmsi.unique()[selection]\n",
    "#mmsis = ['257062150_2_2022-04-19 20:22:52']\n",
    "#trajectories = all_trajectories.filter('mmsi', mmsis.tolist())\n",
    "for mmsi in mmsis:\n",
    "    print(mmsi)\n",
    "    trajectory = all_trajectories.get_trajectory(mmsi)\n",
    "    path_df_sspd, evaluation_results_sspd = network.trajectory_to_path_sspd(trajectory, verbose=False)\n",
    "    print(evaluation_results_sspd[['message', 'SSPD']])\n",
    "    print('------------------')\n",
    "    try:\n",
    "        map = trajectory.to_line_gdf()[['geometry', 'mmsi', 'skipsgruppe']].explore(m=map, style_kwds={'weight':3, 'color':'black', 'opacity':1}, \n",
    "                                                                      name=mmsi+' trajectory')\n",
    "        map = path_df_sspd.explore(m=map, name=mmsi+' edge_sequence sspd', style_kwds={'weight':3, 'color':'cyan', 'opacity':1})\n",
    "    except:\n",
    "        print(mmsi+': no path found')\n",
    "\n",
    "bbox = visualize.get_bounding_box(network.gdf)\n",
    "map = bbox.explore(m=map, color='red', name='bounds')\n",
    "folium.LayerControl().add_to(map)\n",
    "#map"
   ]
  },
  {
   "cell_type": "code",
   "execution_count": 5,
   "id": "cccac32c-8b61-4854-82f4-03d06bc97f1a",
   "metadata": {},
   "outputs": [
    {
     "name": "stdout",
     "output_type": "stream",
     "text": [
      "Map saved under ../../reports/maps/['202204']_waypoints_DP10_DBSCAN10_eps10_stavanger_full_UTM.html\n"
     ]
    }
   ],
   "source": [
    "map.save('../../reports/maps/'+model_name+'.html')\n",
    "print(f'Map saved under {\"../../reports/maps/\"+model_name+\".html\"}')"
   ]
  },
  {
   "cell_type": "code",
   "execution_count": 7,
   "id": "a47170bc-0e8a-4a55-a129-98d004fd377b",
   "metadata": {},
   "outputs": [
    {
     "data": {
      "image/png": "[encoded data removed]",
      "text/plain": [
       "<Figure size 1000x1000 with 1 Axes>"
      ]
     },
     "metadata": {},
     "output_type": "display_data"
    }
   ],
   "source": [
    "network.plot_graph_canvas(refined=False)"
   ]
  },
  {
   "cell_type": "code",
   "execution_count": null,
   "id": "2a765cc0-9b83-4656-874a-ec33aa3c3581",
   "metadata": {},
   "outputs": [],
   "source": [
    "conn = network.waypoint_connections_refined\n",
    "rows_with_nan = conn[conn.isna().any(axis=1)]\n",
    "rows_with_nan.head(30)"
   ]
  },
  {
   "cell_type": "code",
   "execution_count": null,
   "id": "5c47372f-efb8-4e93-9bc7-3e0e8a166309",
   "metadata": {},
   "outputs": [],
   "source": []
  }
 ],
 "metadata": {
  "kernelspec": {
   "display_name": "Python 3 (ipykernel)",
   "language": "python",
   "name": "python3"
  },
  "language_info": {
   "codemirror_mode": {
    "name": "ipython",
    "version": 3
   },
   "file_extension": ".py",
   "mimetype": "text/x-python",
   "name": "python",
   "nbconvert_exporter": "python",
   "pygments_lexer": "ipython3",
   "version": "3.11.5"
  }
 },
 "nbformat": 4,
 "nbformat_minor": 5
}
