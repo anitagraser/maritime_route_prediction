{
 "cells": [
  {
   "cell_type": "code",
   "execution_count": 1,
   "id": "e63aa3b0-8301-4229-82af-012fcad1d214",
   "metadata": {},
   "outputs": [
    {
     "name": "stdout",
     "output_type": "stream",
     "text": [
      "Geopandas has version 0.13.2\n",
      "Movingpandas has version 0.17.1\n"
     ]
    }
   ],
   "source": [
    "import pandas as pd\n",
    "import geopandas as gpd\n",
    "import movingpandas as mpd\n",
    "import numpy as np\n",
    "from datetime import timedelta, datetime\n",
    "from ast import literal_eval\n",
    "import folium\n",
    "import time\n",
    "import warnings\n",
    "import pickle\n",
    "import sys\n",
    "\n",
    "warnings.filterwarnings('ignore')\n",
    "\n",
    "print(\"Geopandas has version {}\".format(gpd.__version__))\n",
    "print(\"Movingpandas has version {}\".format(mpd.__version__))"
   ]
  },
  {
   "cell_type": "code",
   "execution_count": 2,
   "id": "9423a983-7e60-4b45-99fe-bbb15759f6eb",
   "metadata": {},
   "outputs": [],
   "source": [
    "# add paths for modules\n",
    "sys.path.append('../models')\n",
    "# import modules\n",
    "import visualize\n",
    "from maritime_traffic_network import MaritimeTrafficNetwork"
   ]
  },
  {
   "cell_type": "code",
   "execution_count": 3,
   "id": "30be92b5-1a11-448d-8ed6-831404b1bc3c",
   "metadata": {},
   "outputs": [
    {
     "data": {
      "text/plain": [
       "{'Data': '../../data/processed/202204_points_tromso_cleaned_meta_full_dualSplit_2.parquet',\n",
       " 'DP_tolerance': 10,\n",
       " 'clustering_method': 'HDBSCAN',\n",
       " 'clustering_metric': 'mahalanobis',\n",
       " 'clustering_min_samples': 12,\n",
       " 'clustering_min_cluster_size': 12,\n",
       " 'clustering_eps': 0,\n",
       " 'clustering_metric_V': array([[1.e+00, 0.e+00, 0.e+00, 0.e+00, 0.e+00],\n",
       "        [0.e+00, 1.e+00, 0.e+00, 0.e+00, 0.e+00],\n",
       "        [0.e+00, 0.e+00, 1.e-02, 0.e+00, 0.e+00],\n",
       "        [0.e+00, 0.e+00, 0.e+00, 1.e-02, 0.e+00],\n",
       "        [0.e+00, 0.e+00, 0.e+00, 0.e+00, 5.e-04]]),\n",
       " 'graph_generation_max_distance': 10,\n",
       " 'graph_generation_max_angle': 45}"
      ]
     },
     "execution_count": 3,
     "metadata": {},
     "output_type": "execute_result"
    }
   ],
   "source": [
    "# load network from pickle\n",
    "model_name = '202204_waypoints_DP10_HDBSCAN12_tromso_full_UTM'\n",
    "model_path = '../../models/networks/best_networks/' + model_name + '.obj'\n",
    "fileObj = open(model_path, 'rb')\n",
    "network = pickle.load(fileObj)\n",
    "fileObj.close()\n",
    "network.hyperparameters"
   ]
  },
  {
   "cell_type": "code",
   "execution_count": 4,
   "id": "87fd60ea-ed67-48e2-9fe1-e133529aef03",
   "metadata": {},
   "outputs": [],
   "source": [
    "# merge stop points\n",
    "network.merge_stop_points(max_speed=2)"
   ]
  },
  {
   "cell_type": "code",
   "execution_count": 5,
   "id": "4e35b234-bc2c-4159-b5cf-26c827b9270e",
   "metadata": {},
   "outputs": [
    {
     "ename": "NameError",
     "evalue": "name 'literal_eval' is not defined",
     "output_type": "error",
     "traceback": [
      "\u001b[0;31m---------------------------------------------------------------------------\u001b[0m",
      "\u001b[0;31mNameError\u001b[0m                                 Traceback (most recent call last)",
      "Cell \u001b[0;32mIn[5], line 5\u001b[0m\n\u001b[1;32m      3\u001b[0m filename \u001b[38;5;241m=\u001b[39m model_name\u001b[38;5;241m+\u001b[39m\u001b[38;5;124m'\u001b[39m\u001b[38;5;124m_\u001b[39m\u001b[38;5;124m'\u001b[39m\u001b[38;5;241m+\u001b[39mtest_date\u001b[38;5;241m+\u001b[39m\u001b[38;5;124m'\u001b[39m\u001b[38;5;124mtraining_data.csv\u001b[39m\u001b[38;5;124m'\u001b[39m\n\u001b[1;32m      4\u001b[0m test_data \u001b[38;5;241m=\u001b[39m pd\u001b[38;5;241m.\u001b[39mread_csv(\u001b[38;5;124m'\u001b[39m\u001b[38;5;124m../../data/train_test/\u001b[39m\u001b[38;5;124m'\u001b[39m\u001b[38;5;241m+\u001b[39mfilename)\n\u001b[0;32m----> 5\u001b[0m test_data[\u001b[38;5;124m'\u001b[39m\u001b[38;5;124mpath\u001b[39m\u001b[38;5;124m'\u001b[39m] \u001b[38;5;241m=\u001b[39m test_data[\u001b[38;5;124m'\u001b[39m\u001b[38;5;124mpath\u001b[39m\u001b[38;5;124m'\u001b[39m]\u001b[38;5;241m.\u001b[39mapply(\u001b[43mliteral_eval\u001b[49m)\n\u001b[1;32m      6\u001b[0m test_data \u001b[38;5;241m=\u001b[39m gpd\u001b[38;5;241m.\u001b[39mGeoDataFrame(test_data, geometry\u001b[38;5;241m=\u001b[39mgpd\u001b[38;5;241m.\u001b[39mGeoSeries\u001b[38;5;241m.\u001b[39mfrom_wkt(test_data[\u001b[38;5;124m'\u001b[39m\u001b[38;5;124mgeometry\u001b[39m\u001b[38;5;124m'\u001b[39m]), crs\u001b[38;5;241m=\u001b[39m\u001b[38;5;124m'\u001b[39m\u001b[38;5;124m32632\u001b[39m\u001b[38;5;124m'\u001b[39m)\n",
      "\u001b[0;31mNameError\u001b[0m: name 'literal_eval' is not defined"
     ]
    }
   ],
   "source": [
    "# Load test data from file\n",
    "test_date = '202204'\n",
    "filename = model_name+'_'+test_date+'training_data.csv'\n",
    "test_data = pd.read_csv('../../data/train_test/'+filename)\n",
    "test_data['path'] = test_data['path'].apply(literal_eval)\n",
    "test_data = gpd.GeoDataFrame(test_data, geometry=gpd.GeoSeries.from_wkt(test_data['geometry']), crs='32632')"
   ]
  },
  {
   "cell_type": "code",
   "execution_count": null,
   "id": "f968e0b0-9ba1-4a6e-bb9b-7dafc553485a",
   "metadata": {},
   "outputs": [],
   "source": [
    "# prune\n",
    "network.prune_graph(1)"
   ]
  },
  {
   "cell_type": "code",
   "execution_count": null,
   "id": "ee3070fc-8adc-4292-b6a8-41efcc7395c5",
   "metadata": {},
   "outputs": [],
   "source": [
    "network.prune_graph_from_paths(test_data['path'])"
   ]
  },
  {
   "cell_type": "code",
   "execution_count": null,
   "id": "8d13b442-6dbc-4840-ab2e-5752bbb1e4ff",
   "metadata": {},
   "outputs": [],
   "source": [
    "# plot network and basemap\n",
    "map = network.map_graph(pruned=True, center=[69, 19])  #tromso: center=[69, 19]\n",
    "\n",
    "# add some trajectories\n",
    "all_trajectories = network.trajectories\n",
    "selection_start = 0\n",
    "selection_end = len(all_trajectories)\n",
    "selection_step = 200\n",
    "selection = np.arange(selection_start, selection_end, selection_step)\n",
    "#selection = [0, 1, 10, 100, 500]\n",
    "mmsis = network.gdf.mmsi.unique()[selection]\n",
    "#mmsis = test_gdf.mmsi.unique()[selection]\n",
    "#mmsis = ['257144700_110_2022-05-11 07:31:44']\n",
    "#trajectories = all_trajectories.filter('mmsi', mmsis.tolist())\n",
    "for mmsi in mmsis:\n",
    "    trajectory = all_trajectories.get_trajectory(mmsi)\n",
    "    path_df_sspd, evaluation_results_sspd = network.trajectory_to_path_sspd(trajectory, verbose=True)\n",
    "    print(evaluation_results_sspd[['message', 'SSPD']])\n",
    "    print('------------------')\n",
    "    try:\n",
    "        map = trajectory.to_line_gdf()[['geometry', 'mmsi', 'skipsgruppe']].explore(m=map, style_kwds={'weight':3, 'color':'black', 'opacity':1}, \n",
    "                                                                      name=mmsi+' trajectory')\n",
    "        map = path_df_sspd.explore(m=map, name=mmsi+' edge_sequence sspd', style_kwds={'weight':3, 'color':'cyan', 'opacity':1})\n",
    "    except:\n",
    "        print(mmsi+': no path found')\n",
    "\n",
    "folium.LayerControl().add_to(map)\n",
    "#map"
   ]
  },
  {
   "cell_type": "code",
   "execution_count": null,
   "id": "cccac32c-8b61-4854-82f4-03d06bc97f1a",
   "metadata": {},
   "outputs": [],
   "source": [
    "map.save('../../reports/maps/'+model_name+'.html')"
   ]
  },
  {
   "cell_type": "code",
   "execution_count": null,
   "id": "a47170bc-0e8a-4a55-a129-98d004fd377b",
   "metadata": {},
   "outputs": [],
   "source": [
    "network.plot_graph_canvas()"
   ]
  },
  {
   "cell_type": "code",
   "execution_count": null,
   "id": "b2fd1ddc-597e-4ee4-bd64-1592bd9120db",
   "metadata": {},
   "outputs": [],
   "source": []
  }
 ],
 "metadata": {
  "kernelspec": {
   "display_name": "Python 3 (ipykernel)",
   "language": "python",
   "name": "python3"
  },
  "language_info": {
   "codemirror_mode": {
    "name": "ipython",
    "version": 3
   },
   "file_extension": ".py",
   "mimetype": "text/x-python",
   "name": "python",
   "nbconvert_exporter": "python",
   "pygments_lexer": "ipython3",
   "version": "3.11.5"
  }
 },
 "nbformat": 4,
 "nbformat_minor": 5
}
