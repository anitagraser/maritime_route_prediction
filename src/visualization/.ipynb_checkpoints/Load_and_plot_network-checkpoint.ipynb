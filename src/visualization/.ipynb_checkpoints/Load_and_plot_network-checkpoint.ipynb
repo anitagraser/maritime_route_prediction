{
 "cells": [
  {
   "cell_type": "code",
   "execution_count": 1,
   "id": "e63aa3b0-8301-4229-82af-012fcad1d214",
   "metadata": {},
   "outputs": [
    {
     "name": "stdout",
     "output_type": "stream",
     "text": [
      "Geopandas has version 0.13.2\n",
      "Movingpandas has version 0.17.1\n"
     ]
    }
   ],
   "source": [
    "import pandas as pd\n",
    "import geopandas as gpd\n",
    "import movingpandas as mpd\n",
    "import numpy as np\n",
    "from datetime import timedelta, datetime\n",
    "import folium\n",
    "import warnings\n",
    "import pickle\n",
    "import sys\n",
    "\n",
    "warnings.filterwarnings('ignore')\n",
    "\n",
    "print(\"Geopandas has version {}\".format(gpd.__version__))\n",
    "print(\"Movingpandas has version {}\".format(mpd.__version__))"
   ]
  },
  {
   "cell_type": "code",
   "execution_count": 2,
   "id": "9423a983-7e60-4b45-99fe-bbb15759f6eb",
   "metadata": {},
   "outputs": [],
   "source": [
    "# add paths for modules\n",
    "sys.path.append('../models')\n",
    "# import modules\n",
    "import visualize\n",
    "from maritime_traffic_network import MaritimeTrafficNetwork"
   ]
  },
  {
   "cell_type": "code",
   "execution_count": 3,
   "id": "30be92b5-1a11-448d-8ed6-831404b1bc3c",
   "metadata": {},
   "outputs": [
    {
     "data": {
      "text/plain": [
       "{'Data': '../../data/processed/202204_points_tromso_cleaned_meta_full_dualSplit_2.parquet',\n",
       " 'DP_tolerance': 10,\n",
       " 'clustering_method': 'HDBSCAN',\n",
       " 'clustering_metric': 'mahalanobis',\n",
       " 'clustering_min_samples': 6,\n",
       " 'clustering_min_cluster_size': 6,\n",
       " 'clustering_eps': 0,\n",
       " 'clustering_metric_V': array([[1.e+00, 0.e+00, 0.e+00, 0.e+00, 0.e+00],\n",
       "        [0.e+00, 1.e+00, 0.e+00, 0.e+00, 0.e+00],\n",
       "        [0.e+00, 0.e+00, 1.e-02, 0.e+00, 0.e+00],\n",
       "        [0.e+00, 0.e+00, 0.e+00, 1.e-02, 0.e+00],\n",
       "        [0.e+00, 0.e+00, 0.e+00, 0.e+00, 5.e-04]]),\n",
       " 'graph_generation_max_distance': 10,\n",
       " 'graph_generation_max_angle': 45}"
      ]
     },
     "execution_count": 3,
     "metadata": {},
     "output_type": "execute_result"
    }
   ],
   "source": [
    "# load network from pickle\n",
    "model = '202204_waypoints_DP10_HDBSCAN6_tromso_full_UTM'\n",
    "model_path = '../../models/networks/best_networks/' + model + '.obj'\n",
    "fileObj = open(model_path, 'rb')\n",
    "network = pickle.load(fileObj)\n",
    "fileObj.close()\n",
    "network.hyperparameters"
   ]
  },
  {
   "cell_type": "code",
   "execution_count": 4,
   "id": "87fd60ea-ed67-48e2-9fe1-e133529aef03",
   "metadata": {},
   "outputs": [],
   "source": [
    "# merge stop points\n",
    "network.merge_stop_points(max_speed=2)"
   ]
  },
  {
   "cell_type": "code",
   "execution_count": 5,
   "id": "f968e0b0-9ba1-4a6e-bb9b-7dafc553485a",
   "metadata": {},
   "outputs": [
    {
     "name": "stdout",
     "output_type": "stream",
     "text": [
      "Pruning...\n",
      "------------------------\n",
      "Pruned Graph:\n",
      "Number of nodes: 1589 (3 isolated)\n",
      "Number of edges: 5450\n",
      "------------------------\n"
     ]
    }
   ],
   "source": [
    "# prune\n",
    "network.prune_graph(1)"
   ]
  },
  {
   "cell_type": "code",
   "execution_count": 6,
   "id": "8d13b442-6dbc-4840-ab2e-5752bbb1e4ff",
   "metadata": {},
   "outputs": [
    {
     "name": "stdout",
     "output_type": "stream",
     "text": [
      "Pruning...\n",
      "------------------------\n",
      "Pruned Graph:\n",
      "Number of nodes: 1589 (4 isolated)\n",
      "Number of edges: 3997\n",
      "------------------------\n",
      "Pruning...\n",
      "------------------------\n",
      "Pruned Graph:\n",
      "Number of nodes: 1589 (3 isolated)\n",
      "Number of edges: 5450\n",
      "------------------------\n"
     ]
    },
    {
     "data": {
      "text/plain": [
       "<folium.map.LayerControl at 0x17ef93090>"
      ]
     },
     "execution_count": 6,
     "metadata": {},
     "output_type": "execute_result"
    }
   ],
   "source": [
    "# plot network and basemap\n",
    "network.prune_graph(100)\n",
    "map = network.map_graph(pruned=True)\n",
    "network.prune_graph(1)\n",
    "# add some trajectories\n",
    "all_trajectories = network.trajectories\n",
    "selection = [1]\n",
    "mmsis = network.gdf.mmsi.unique()[selection]\n",
    "trajectories = all_trajectories.filter('mmsi', mmsis.tolist())\n",
    "for mmsi in mmsis:\n",
    "    trajectory = all_trajectories.get_trajectory(mmsi)\n",
    "    path_df, evaluation_results = network.trajectory_to_path(trajectory)\n",
    "    try:\n",
    "        map = trajectory.to_line_gdf()[['geometry', 'mmsi', 'skipsgruppe']].explore(m=map, style_kwds={'weight':3, 'color':'black', 'opacity':1}, \n",
    "                                                                      name=mmsi+' trajectory')\n",
    "        map = path_df.explore(m=map, name=mmsi+' edge_sequence ', style_kwds={'weight':3, 'color':'yellow', 'opacity':1})\n",
    "    except:\n",
    "        print(mmsi+': no path found')\n",
    "\n",
    "folium.LayerControl().add_to(map)\n",
    "#map"
   ]
  },
  {
   "cell_type": "code",
   "execution_count": 7,
   "id": "cccac32c-8b61-4854-82f4-03d06bc97f1a",
   "metadata": {},
   "outputs": [],
   "source": [
    "map.save('../../reports/maps/'+model+'.html')"
   ]
  },
  {
   "cell_type": "code",
   "execution_count": 8,
   "id": "3f743d93-17a5-4bc8-8ae3-f0b7d4514861",
   "metadata": {},
   "outputs": [
    {
     "data": {
      "text/html": [
       "<div>\n",
       "<style scoped>\n",
       "    .dataframe tbody tr th:only-of-type {\n",
       "        vertical-align: middle;\n",
       "    }\n",
       "\n",
       "    .dataframe tbody tr th {\n",
       "        vertical-align: top;\n",
       "    }\n",
       "\n",
       "    .dataframe thead th {\n",
       "        text-align: right;\n",
       "    }\n",
       "</style>\n",
       "<table border=\"1\" class=\"dataframe\">\n",
       "  <thead>\n",
       "    <tr style=\"text-align: right;\">\n",
       "      <th></th>\n",
       "      <th>mmsi</th>\n",
       "      <th>mean_dist</th>\n",
       "      <th>median_dist</th>\n",
       "      <th>max_dist</th>\n",
       "      <th>distances</th>\n",
       "      <th>fraction_covered</th>\n",
       "      <th>length ratio</th>\n",
       "      <th>message</th>\n",
       "    </tr>\n",
       "  </thead>\n",
       "  <tbody>\n",
       "    <tr>\n",
       "      <th>0</th>\n",
       "      <td>210055000_4_2022-04-01 04:09:32</td>\n",
       "      <td>91.805144</td>\n",
       "      <td>63.014832</td>\n",
       "      <td>638.271596</td>\n",
       "      <td>[15.630746492441812, 7.236521029929856, 12.138...</td>\n",
       "      <td>0.998435</td>\n",
       "      <td>1.092212</td>\n",
       "      <td>success</td>\n",
       "    </tr>\n",
       "  </tbody>\n",
       "</table>\n",
       "</div>"
      ],
      "text/plain": [
       "                              mmsi  mean_dist  median_dist    max_dist  \\\n",
       "0  210055000_4_2022-04-01 04:09:32  91.805144    63.014832  638.271596   \n",
       "\n",
       "                                           distances  fraction_covered  \\\n",
       "0  [15.630746492441812, 7.236521029929856, 12.138...          0.998435   \n",
       "\n",
       "   length ratio  message  \n",
       "0      1.092212  success  "
      ]
     },
     "execution_count": 8,
     "metadata": {},
     "output_type": "execute_result"
    }
   ],
   "source": [
    "evaluation_results"
   ]
  },
  {
   "cell_type": "code",
   "execution_count": null,
   "id": "a47170bc-0e8a-4a55-a129-98d004fd377b",
   "metadata": {},
   "outputs": [],
   "source": []
  }
 ],
 "metadata": {
  "kernelspec": {
   "display_name": "Python 3 (ipykernel)",
   "language": "python",
   "name": "python3"
  },
  "language_info": {
   "codemirror_mode": {
    "name": "ipython",
    "version": 3
   },
   "file_extension": ".py",
   "mimetype": "text/x-python",
   "name": "python",
   "nbconvert_exporter": "python",
   "pygments_lexer": "ipython3",
   "version": "3.11.5"
  }
 },
 "nbformat": 4,
 "nbformat_minor": 5
}
