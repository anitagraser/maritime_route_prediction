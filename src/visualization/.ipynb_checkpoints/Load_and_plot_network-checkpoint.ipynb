{
 "cells": [
  {
   "cell_type": "code",
   "execution_count": 1,
   "id": "e63aa3b0-8301-4229-82af-012fcad1d214",
   "metadata": {},
   "outputs": [
    {
     "name": "stdout",
     "output_type": "stream",
     "text": [
      "Geopandas has version 0.13.2\n",
      "Movingpandas has version 0.17.1\n"
     ]
    }
   ],
   "source": [
    "import pandas as pd\n",
    "import geopandas as gpd\n",
    "import movingpandas as mpd\n",
    "import numpy as np\n",
    "from datetime import timedelta, datetime\n",
    "from ast import literal_eval\n",
    "import folium\n",
    "import time\n",
    "import warnings\n",
    "import pickle\n",
    "import sys\n",
    "\n",
    "warnings.filterwarnings('ignore')\n",
    "\n",
    "print(\"Geopandas has version {}\".format(gpd.__version__))\n",
    "print(\"Movingpandas has version {}\".format(mpd.__version__))"
   ]
  },
  {
   "cell_type": "code",
   "execution_count": 2,
   "id": "9423a983-7e60-4b45-99fe-bbb15759f6eb",
   "metadata": {},
   "outputs": [],
   "source": [
    "# add paths for modules\n",
    "sys.path.append('../models')\n",
    "# import modules\n",
    "from maritime_traffic_network import MaritimeTrafficNetwork"
   ]
  },
  {
   "cell_type": "code",
   "execution_count": 3,
   "id": "30be92b5-1a11-448d-8ed6-831404b1bc3c",
   "metadata": {},
   "outputs": [
    {
     "data": {
      "text/plain": [
       "{'Data': '../../data/processed/202204_points_stavanger_cleaned_meta_full_dualSplit_2.parquet',\n",
       " 'DP_tolerance': 30,\n",
       " 'clustering_method': 'HDBSCAN',\n",
       " 'clustering_metric': 'mahalanobis',\n",
       " 'clustering_min_samples': 25,\n",
       " 'clustering_min_cluster_size': 25,\n",
       " 'clustering_eps': 0,\n",
       " 'clustering_metric_V': array([[1.  , 0.  , 0.  , 0.  , 0.  ],\n",
       "        [0.  , 1.  , 0.  , 0.  , 0.  ],\n",
       "        [0.  , 0.  , 0.01, 0.  , 0.  ],\n",
       "        [0.  , 0.  , 0.  , 0.01, 0.  ],\n",
       "        [0.  , 0.  , 0.  , 0.  , 1.  ]]),\n",
       " 'graph_generation_max_distance': 20,\n",
       " 'graph_generation_max_angle': 45,\n",
       " 'merge_stops_speed': 2}"
      ]
     },
     "execution_count": 3,
     "metadata": {},
     "output_type": "execute_result"
    }
   ],
   "source": [
    "# load network from pickle\n",
    "model_date = '202204'\n",
    "location = 'stavanger'\n",
    "DP_tol = 30\n",
    "min_samples = 25\n",
    "data_size = 'full'\n",
    "refined = ''\n",
    "\n",
    "model_name = model_date+'_waypoints_DP'+str(DP_tol)+'_HDBSCAN'+str(min_samples)+'_'+location+'_'+data_size+'_UTM'+refined\n",
    "model_path = '../../models/networks/best_networks/' + model_name + '.obj'\n",
    "fileObj = open(model_path, 'rb')\n",
    "network = pickle.load(fileObj)\n",
    "fileObj.close()\n",
    "network.hyperparameters"
   ]
  },
  {
   "cell_type": "code",
   "execution_count": 4,
   "id": "8d13b442-6dbc-4840-ab2e-5752bbb1e4ff",
   "metadata": {},
   "outputs": [
    {
     "ename": "AttributeError",
     "evalue": "'list' object has no attribute 'drop'",
     "output_type": "error",
     "traceback": [
      "\u001b[0;31m---------------------------------------------------------------------------\u001b[0m",
      "\u001b[0;31mAttributeError\u001b[0m                            Traceback (most recent call last)",
      "Cell \u001b[0;32mIn[4], line 3\u001b[0m\n\u001b[1;32m      1\u001b[0m \u001b[38;5;66;03m# plot network and basemap\u001b[39;00m\n\u001b[1;32m      2\u001b[0m \u001b[38;5;66;03m#network.prune_graph(100, 'refined')\u001b[39;00m\n\u001b[0;32m----> 3\u001b[0m \u001b[38;5;28mmap\u001b[39m \u001b[38;5;241m=\u001b[39m \u001b[43mnetwork\u001b[49m\u001b[38;5;241;43m.\u001b[39;49m\u001b[43mmap_graph\u001b[49m\u001b[43m(\u001b[49m\u001b[43mrefined\u001b[49m\u001b[38;5;241;43m=\u001b[39;49m\u001b[38;5;28;43;01mTrue\u001b[39;49;00m\u001b[43m,\u001b[49m\u001b[43m \u001b[49m\u001b[43mline_weight\u001b[49m\u001b[38;5;241;43m=\u001b[39;49m\u001b[38;5;241;43m2\u001b[39;49m\u001b[43m,\u001b[49m\u001b[43m \u001b[49m\u001b[43mmin_passages\u001b[49m\u001b[38;5;241;43m=\u001b[39;49m\u001b[38;5;241;43m1\u001b[39;49m\u001b[43m)\u001b[49m  \u001b[38;5;66;03m#tromso: center=[69, 19], oslo: center=[59, 10.5]\u001b[39;00m\n\u001b[1;32m      5\u001b[0m \u001b[38;5;66;03m# add some trajectories\u001b[39;00m\n\u001b[1;32m      6\u001b[0m all_trajectories \u001b[38;5;241m=\u001b[39m network\u001b[38;5;241m.\u001b[39mtrajectories\n",
      "File \u001b[0;32m~/maritime_route_prediction/src/visualization/../models/maritime_traffic_network.py:1155\u001b[0m, in \u001b[0;36mMaritimeTrafficNetwork.map_graph\u001b[0;34m(self, pruned, refined, center, min_passages, line_weight, opacity)\u001b[0m\n\u001b[1;32m   1153\u001b[0m \u001b[38;5;28;01melif\u001b[39;00m refined:\n\u001b[1;32m   1154\u001b[0m     connections \u001b[38;5;241m=\u001b[39m \u001b[38;5;28mself\u001b[39m\u001b[38;5;241m.\u001b[39mwaypoint_connections_refined\u001b[38;5;241m.\u001b[39mcopy()\n\u001b[0;32m-> 1155\u001b[0m     connections \u001b[38;5;241m=\u001b[39m \u001b[43mconnections\u001b[49m\u001b[38;5;241;43m.\u001b[39;49m\u001b[43mdrop\u001b[49m([\u001b[38;5;124m'\u001b[39m\u001b[38;5;124mspeed_distribution\u001b[39m\u001b[38;5;124m'\u001b[39m, \u001b[38;5;124m'\u001b[39m\u001b[38;5;124mcross_track_dist_distribution\u001b[39m\u001b[38;5;124m'\u001b[39m], axis\u001b[38;5;241m=\u001b[39m\u001b[38;5;241m1\u001b[39m)\n\u001b[1;32m   1156\u001b[0m \u001b[38;5;28;01melse\u001b[39;00m:\n\u001b[1;32m   1157\u001b[0m     connections \u001b[38;5;241m=\u001b[39m \u001b[38;5;28mself\u001b[39m\u001b[38;5;241m.\u001b[39mwaypoint_connections\u001b[38;5;241m.\u001b[39mcopy()\n",
      "\u001b[0;31mAttributeError\u001b[0m: 'list' object has no attribute 'drop'"
     ]
    }
   ],
   "source": [
    "# plot network and basemap\n",
    "#network.prune_graph(100, 'refined')\n",
    "map = network.map_graph(line_weight=2, min_passages=1)  #tromso: center=[69, 19], oslo: center=[59, 10.5]\n",
    "\n",
    "# add some trajectories\n",
    "all_trajectories = network.trajectories\n",
    "selection_start = 0\n",
    "selection_end = 1 #len(all_trajectories)\n",
    "selection_step = 1\n",
    "selection = np.arange(selection_start, selection_end, selection_step)\n",
    "#selection = [0, 1, 10, 100, 500, 1000, 2999, 5000]\n",
    "mmsis = network.gdf.mmsi.unique()[selection]\n",
    "#mmsis = test_gdf.mmsi.unique()[selection]\n",
    "#mmsis = ['257062150_2_2022-04-19 20:22:52']\n",
    "#trajectories = all_trajectories.filter('mmsi', mmsis.tolist())\n",
    "for mmsi in mmsis:\n",
    "    print(mmsi)\n",
    "    trajectory = all_trajectories.get_trajectory(mmsi)\n",
    "    path_df_sspd, evaluation_results_sspd = network.trajectory_to_path_sspd(trajectory, verbose=False)\n",
    "    print(evaluation_results_sspd[['message', 'SSPD']])\n",
    "    print('------------------')\n",
    "    try:\n",
    "        map = trajectory.to_line_gdf()[['geometry', 'mmsi', 'skipsgruppe']].explore(m=map, style_kwds={'weight':3, 'color':'black', 'opacity':1}, \n",
    "                                                                      name=mmsi+' trajectory')\n",
    "        map = path_df_sspd.explore(m=map, name=mmsi+' edge_sequence sspd', style_kwds={'weight':3, 'color':'cyan', 'opacity':1})\n",
    "    except:\n",
    "        print(mmsi+': no path found')\n",
    "\n",
    "folium.LayerControl().add_to(map)\n",
    "#map"
   ]
  },
  {
   "cell_type": "code",
   "execution_count": null,
   "id": "cccac32c-8b61-4854-82f4-03d06bc97f1a",
   "metadata": {},
   "outputs": [],
   "source": [
    "map.save('../../reports/maps/'+model_name+'.html')\n",
    "print(f'Map saved under {\"../../reports/maps/\"+model_name+\".html\"}')"
   ]
  },
  {
   "cell_type": "code",
   "execution_count": null,
   "id": "a47170bc-0e8a-4a55-a129-98d004fd377b",
   "metadata": {},
   "outputs": [],
   "source": [
    "network.plot_graph_canvas(refined=True)"
   ]
  },
  {
   "cell_type": "code",
   "execution_count": null,
   "id": "2a765cc0-9b83-4656-874a-ec33aa3c3581",
   "metadata": {},
   "outputs": [],
   "source": [
    "conn = network.waypoint_connections_refined\n",
    "rows_with_nan = conn[conn.isna().any(axis=1)]\n",
    "rows_with_nan.head(30)"
   ]
  },
  {
   "cell_type": "code",
   "execution_count": null,
   "id": "5c47372f-efb8-4e93-9bc7-3e0e8a166309",
   "metadata": {},
   "outputs": [],
   "source": []
  }
 ],
 "metadata": {
  "kernelspec": {
   "display_name": "Python 3 (ipykernel)",
   "language": "python",
   "name": "python3"
  },
  "language_info": {
   "codemirror_mode": {
    "name": "ipython",
    "version": 3
   },
   "file_extension": ".py",
   "mimetype": "text/x-python",
   "name": "python",
   "nbconvert_exporter": "python",
   "pygments_lexer": "ipython3",
   "version": "3.11.5"
  }
 },
 "nbformat": 4,
 "nbformat_minor": 5
}
