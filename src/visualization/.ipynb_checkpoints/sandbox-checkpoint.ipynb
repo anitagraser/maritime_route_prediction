{
 "cells": [
  {
   "cell_type": "code",
   "execution_count": 1,
   "id": "ad4d9c9f-08a7-45ed-a382-2d2b625f7ae6",
   "metadata": {},
   "outputs": [],
   "source": [
    "import sparse\n",
    "import numpy as np"
   ]
  },
  {
   "cell_type": "code",
   "execution_count": 2,
   "id": "ded43985-0420-4f0b-8cda-82737f341fce",
   "metadata": {},
   "outputs": [],
   "source": [
    "A = sparse.DOK(shape=(3, 3, 2), dtype=np.float64, fill_value=np.nan)"
   ]
  },
  {
   "cell_type": "code",
   "execution_count": 3,
   "id": "3f429dd0-1f80-410f-adf9-ee2df92bd2f4",
   "metadata": {},
   "outputs": [],
   "source": [
    "A[0, 1, 0] = 2\n",
    "A[1, 2, 0] = 3\n",
    "A[2, 0, 0] = 4\n",
    "\n",
    "A[0, 2, 1] = 2\n",
    "A[1, 2, 1] = 8\n",
    "A[2, 0, 1] = 1\n",
    "A[2, 1, 1] = 1"
   ]
  },
  {
   "cell_type": "code",
   "execution_count": 4,
   "id": "fc88bd11-5977-4ef7-83ba-5e281dce7920",
   "metadata": {},
   "outputs": [],
   "source": [
    "#A = A.to_coo()"
   ]
  },
  {
   "cell_type": "code",
   "execution_count": 5,
   "id": "501d1fc6-dd8f-4040-8680-29b20338bec8",
   "metadata": {},
   "outputs": [
    {
     "data": {
      "text/html": [
       "<table><tbody><tr><th style=\"text-align: left\">Format</th><td style=\"text-align: left\">coo</td></tr><tr><th style=\"text-align: left\">Data Type</th><td style=\"text-align: left\">float64</td></tr><tr><th style=\"text-align: left\">Shape</th><td style=\"text-align: left\">(3, 3, 2)</td></tr><tr><th style=\"text-align: left\">nnz</th><td style=\"text-align: left\">7</td></tr><tr><th style=\"text-align: left\">Density</th><td style=\"text-align: left\">0.3888888888888889</td></tr><tr><th style=\"text-align: left\">Read-only</th><td style=\"text-align: left\">True</td></tr><tr><th style=\"text-align: left\">Size</th><td style=\"text-align: left\">224</td></tr><tr><th style=\"text-align: left\">Storage ratio</th><td style=\"text-align: left\">1.6</td></tr></tbody></table>"
      ],
      "text/plain": [
       "<COO: shape=(3, 3, 2), dtype=float64, nnz=7, fill_value=nan>"
      ]
     },
     "execution_count": 5,
     "metadata": {},
     "output_type": "execute_result"
    }
   ],
   "source": [
    "A"
   ]
  },
  {
   "cell_type": "code",
   "execution_count": 6,
   "id": "d4224b97-239a-4311-ae9b-981e2570857f",
   "metadata": {},
   "outputs": [
    {
     "name": "stderr",
     "output_type": "stream",
     "text": [
      "/var/folders/pl/8bwtqryd75gd5zl6pjpf_23r0000gn/T/ipykernel_3412/3898526856.py:1: RuntimeWarning: Mean of empty slice\n",
      "  B = sparse.nanmean(A, axis=2)\n"
     ]
    }
   ],
   "source": [
    "B = sparse.nanmean(A, axis=2)"
   ]
  },
  {
   "cell_type": "code",
   "execution_count": 7,
   "id": "4c0dd243-584f-448b-8942-541f048ee879",
   "metadata": {},
   "outputs": [
    {
     "data": {
      "text/plain": [
       "array([[nan, 2. , 2. ],\n",
       "       [nan, nan, 5.5],\n",
       "       [2.5, 1. , nan]])"
      ]
     },
     "execution_count": 7,
     "metadata": {},
     "output_type": "execute_result"
    }
   ],
   "source": [
    "B.todense()"
   ]
  },
  {
   "cell_type": "code",
   "execution_count": 8,
   "id": "457e2b83-b584-446f-9102-aadd80018296",
   "metadata": {},
   "outputs": [],
   "source": [
    "C = A[1, 2, :]"
   ]
  },
  {
   "cell_type": "code",
   "execution_count": 9,
   "id": "ad0c41ed-7ea6-47a7-815b-8e8ebfde59a6",
   "metadata": {},
   "outputs": [
    {
     "data": {
      "text/plain": [
       "array([3., 8.])"
      ]
     },
     "execution_count": 9,
     "metadata": {},
     "output_type": "execute_result"
    }
   ],
   "source": [
    "C.todense()"
   ]
  },
  {
   "cell_type": "code",
   "execution_count": 10,
   "id": "dc456b6a-0b95-4e33-851c-da7eacdce31a",
   "metadata": {},
   "outputs": [
    {
     "data": {
      "text/plain": [
       "2"
      ]
     },
     "execution_count": 10,
     "metadata": {},
     "output_type": "execute_result"
    }
   ],
   "source": [
    "np.count_nonzero(C.todense())"
   ]
  },
  {
   "cell_type": "code",
   "execution_count": null,
   "id": "aa2b5723-8ea6-4fe6-917c-88b159fe856e",
   "metadata": {},
   "outputs": [],
   "source": []
  }
 ],
 "metadata": {
  "kernelspec": {
   "display_name": "Python 3 (ipykernel)",
   "language": "python",
   "name": "python3"
  },
  "language_info": {
   "codemirror_mode": {
    "name": "ipython",
    "version": 3
   },
   "file_extension": ".py",
   "mimetype": "text/x-python",
   "name": "python",
   "nbconvert_exporter": "python",
   "pygments_lexer": "ipython3",
   "version": "3.11.5"
  }
 },
 "nbformat": 4,
 "nbformat_minor": 5
}
