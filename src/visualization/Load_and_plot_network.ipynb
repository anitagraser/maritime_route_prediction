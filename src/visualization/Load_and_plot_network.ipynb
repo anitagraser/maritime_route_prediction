{
 "cells": [
  {
   "cell_type": "code",
   "execution_count": 1,
   "id": "e63aa3b0-8301-4229-82af-012fcad1d214",
   "metadata": {},
   "outputs": [
    {
     "name": "stdout",
     "output_type": "stream",
     "text": [
      "Geopandas has version 0.13.2\n",
      "Movingpandas has version 0.17.1\n"
     ]
    }
   ],
   "source": [
    "import pandas as pd\n",
    "import geopandas as gpd\n",
    "import movingpandas as mpd\n",
    "import numpy as np\n",
    "from datetime import timedelta, datetime\n",
    "import folium\n",
    "import time\n",
    "import warnings\n",
    "import pickle\n",
    "import sys\n",
    "\n",
    "warnings.filterwarnings('ignore')\n",
    "\n",
    "print(\"Geopandas has version {}\".format(gpd.__version__))\n",
    "print(\"Movingpandas has version {}\".format(mpd.__version__))"
   ]
  },
  {
   "cell_type": "code",
   "execution_count": 2,
   "id": "9423a983-7e60-4b45-99fe-bbb15759f6eb",
   "metadata": {},
   "outputs": [],
   "source": [
    "# add paths for modules\n",
    "sys.path.append('../models')\n",
    "# import modules\n",
    "import visualize\n",
    "from maritime_traffic_network import MaritimeTrafficNetwork"
   ]
  },
  {
   "cell_type": "code",
   "execution_count": 3,
   "id": "30be92b5-1a11-448d-8ed6-831404b1bc3c",
   "metadata": {},
   "outputs": [
    {
     "data": {
      "text/plain": [
       "{'Data': '../../data/processed/202204_points_tromso_cleaned_meta_full_dualSplit_2.parquet',\n",
       " 'DP_tolerance': 10,\n",
       " 'clustering_method': 'HDBSCAN',\n",
       " 'clustering_metric': 'mahalanobis',\n",
       " 'clustering_min_samples': 12,\n",
       " 'clustering_min_cluster_size': 12,\n",
       " 'clustering_eps': 0,\n",
       " 'clustering_metric_V': array([[1.e+00, 0.e+00, 0.e+00, 0.e+00, 0.e+00],\n",
       "        [0.e+00, 1.e+00, 0.e+00, 0.e+00, 0.e+00],\n",
       "        [0.e+00, 0.e+00, 1.e-02, 0.e+00, 0.e+00],\n",
       "        [0.e+00, 0.e+00, 0.e+00, 1.e-02, 0.e+00],\n",
       "        [0.e+00, 0.e+00, 0.e+00, 0.e+00, 5.e-04]]),\n",
       " 'graph_generation_max_distance': 10,\n",
       " 'graph_generation_max_angle': 45}"
      ]
     },
     "execution_count": 3,
     "metadata": {},
     "output_type": "execute_result"
    }
   ],
   "source": [
    "# load network from pickle\n",
    "model = '202204_waypoints_DP10_HDBSCAN12_tromso_full_UTM'\n",
    "model_path = '../../models/networks/best_networks/' + model + '.obj'\n",
    "fileObj = open(model_path, 'rb')\n",
    "network = pickle.load(fileObj)\n",
    "fileObj.close()\n",
    "network.hyperparameters"
   ]
  },
  {
   "cell_type": "code",
   "execution_count": 4,
   "id": "87fd60ea-ed67-48e2-9fe1-e133529aef03",
   "metadata": {},
   "outputs": [],
   "source": [
    "# merge stop points\n",
    "network.merge_stop_points(max_speed=2)"
   ]
  },
  {
   "cell_type": "code",
   "execution_count": 5,
   "id": "f968e0b0-9ba1-4a6e-bb9b-7dafc553485a",
   "metadata": {},
   "outputs": [
    {
     "name": "stdout",
     "output_type": "stream",
     "text": [
      "Pruning...\n",
      "------------------------\n",
      "Pruned Graph:\n",
      "Number of nodes: 565 (1 isolated)\n",
      "Number of edges: 2181\n",
      "------------------------\n"
     ]
    }
   ],
   "source": [
    "# prune\n",
    "network.prune_graph(1)"
   ]
  },
  {
   "cell_type": "code",
   "execution_count": 6,
   "id": "8d13b442-6dbc-4840-ab2e-5752bbb1e4ff",
   "metadata": {},
   "outputs": [
    {
     "name": "stdout",
     "output_type": "stream",
     "text": [
      "Pruning...\n",
      "------------------------\n",
      "Pruned Graph:\n",
      "Number of nodes: 565 (1 isolated)\n",
      "Number of edges: 1453\n",
      "------------------------\n",
      "Pruning...\n",
      "------------------------\n",
      "Pruned Graph:\n",
      "Number of nodes: 565 (1 isolated)\n",
      "Number of edges: 2181\n",
      "------------------------\n",
      "=======================\n",
      "231766000_1_2022-04-11 01:28:23\n",
      "=======================\n",
      "Intersections found: [289, 7, 482, 481, 479, 487, 486, 485, 480, 28, 475, 470, 465, 31]\n",
      "Executing try statement\n",
      "From: 289  To: 7\n",
      "=======================\n",
      "Iterating through edge sequences\n",
      "Edge sequence: [289, 7]\n",
      "Point indices: 3 17\n",
      "   Mean distance: 58.073361516439235\n",
      "Edge sequence: [289, 428, 7]\n",
      "Point indices: 3 17\n",
      "   Mean distance: 119.23468688653813\n",
      "----------------------\n",
      "From: 7  To: 482\n",
      "=======================\n",
      "Iterating through edge sequences\n",
      "Edge sequence: [7, 482]\n",
      "Point indices: 17 22\n",
      "   Mean distance: 21.88898991259057\n",
      "----------------------\n",
      "From: 482  To: 481\n",
      "=======================\n",
      "Iterating through edge sequences\n",
      "Edge sequence: [482, 481]\n",
      "Point indices: 22 29\n",
      "   Mean distance: 27.2311352847003\n",
      "----------------------\n",
      "From: 481  To: 479\n",
      "=======================\n",
      "Iterating through edge sequences\n",
      "Edge sequence: [481, 479]\n",
      "Point indices: 29 39\n",
      "   Mean distance: 30.376326472985706\n",
      "----------------------\n",
      "From: 479  To: 487\n",
      "=======================\n",
      "Iterating through edge sequences\n",
      "Edge sequence: [479, 487]\n",
      "Point indices: 39 59\n",
      "   Mean distance: 30.636469832760888\n",
      "Edge sequence: [479, 29, 487]\n",
      "Point indices: 39 59\n",
      "   Mean distance: 63.41217344184123\n",
      "----------------------\n",
      "From: 487  To: 486\n",
      "=======================\n",
      "Iterating through edge sequences\n",
      "Edge sequence: [487, 486]\n",
      "Point indices: 59 63\n",
      "   Mean distance: 27.754834723240965\n",
      "Edge sequence: [487, 28, 529, 527, 29, 486]\n",
      "Point indices: 59 63\n",
      "   Mean distance: 462.13150528286513\n",
      "----------------------\n",
      "From: 486  To: 485\n",
      "=======================\n",
      "Iterating through edge sequences\n",
      "Edge sequence: [486, 485]\n",
      "Point indices: 63 67\n",
      "   Mean distance: 22.298926605784608\n",
      "----------------------\n",
      "From: 485  To: 480\n",
      "=======================\n",
      "Iterating through edge sequences\n",
      "Edge sequence: [485, 480]\n",
      "Point indices: 67 79\n",
      "   Mean distance: 26.749392030286547\n",
      "----------------------\n",
      "From: 480  To: 28\n",
      "=======================\n",
      "Iterating through edge sequences\n",
      "Edge sequence: [480, 28]\n",
      "Point indices: 79 79\n",
      "   Mean distance: 19.009617781237683\n",
      "Edge sequence: [480, 451, 529, 527, 29, 28]\n",
      "Point indices: 79 79\n",
      "   Mean distance: 19.009617781237683\n",
      "----------------------\n",
      "From: 28  To: 475\n",
      "=======================\n",
      "Iterating through edge sequences\n",
      "Edge sequence: [28, 475]\n",
      "Point indices: 79 90\n",
      "   Mean distance: 83.16878951061166\n",
      "Edge sequence: [28, 451, 475]\n",
      "Point indices: 79 90\n",
      "   Mean distance: 200.1028580564099\n",
      "----------------------\n",
      "From: 475  To: 470\n",
      "=======================\n",
      "Iterating through edge sequences\n",
      "Edge sequence: [475, 470]\n",
      "Point indices: 90 106\n",
      "   Mean distance: 35.99267989099849\n",
      "Edge sequence: [475, 32, 4, 496, 493, 470]\n",
      "Point indices: 90 106\n",
      "   Mean distance: 4026.3032343115988\n",
      "Edge sequence: [475, 473, 4, 496, 493, 470]\n",
      "Point indices: 90 106\n",
      "   Mean distance: 4015.448642163132\n",
      "----------------------\n",
      "From: 470  To: 465\n",
      "=======================\n",
      "Iterating through edge sequences\n",
      "Edge sequence: [470, 465]\n",
      "Point indices: 106 123\n",
      "   Mean distance: 98.41556712419727\n",
      "----------------------\n",
      "From: 465  To: 31\n",
      "=======================\n",
      "Iterating through edge sequences\n",
      "Edge sequence: [465, 31]\n",
      "Point indices: 123 165\n",
      "   Mean distance: 145.48226517775674\n",
      "Edge sequence: [465, 32, 4, 496, 493, 31]\n",
      "Point indices: 123 165\n",
      "   Mean distance: 2813.8708318653685\n",
      "Edge sequence: [465, 474, 4, 496, 493, 31]\n",
      "Point indices: 123 165\n",
      "   Mean distance: 2809.656771308882\n",
      "Edge sequence: [465, 473, 4, 496, 493, 31]\n",
      "Point indices: 123 165\n",
      "   Mean distance: 2801.3730479363844\n",
      "Edge sequence: [465, 491, 277, 438, 31]\n",
      "Point indices: 123 165\n",
      "   Mean distance: 724.845529863116\n",
      "Edge sequence: [465, 491, 277, 31]\n",
      "Point indices: 123 165\n",
      "   Mean distance: 726.5355539084206\n",
      "Edge sequence: [465, 491, 277, 291, 438, 31]\n",
      "Point indices: 123 165\n",
      "   Mean distance: 749.7624959181205\n",
      "Edge sequence: [465, 491, 291, 438, 31]\n",
      "Point indices: 123 165\n",
      "   Mean distance: 661.0156120558569\n",
      "----------------------\n",
      "Found path: [289, 7, 482, 481, 479, 487, 486, 485, 480, 28, 475, 470, 465, 31]\n",
      "231766000_1_2022-04-11 01:28:23 True\n"
     ]
    },
    {
     "ename": "NameError",
     "evalue": "name 'length_ratio' is not defined",
     "output_type": "error",
     "traceback": [
      "\u001b[0;31m---------------------------------------------------------------------------\u001b[0m",
      "\u001b[0;31mNameError\u001b[0m                                 Traceback (most recent call last)",
      "Cell \u001b[0;32mIn[6], line 13\u001b[0m\n\u001b[1;32m     11\u001b[0m trajectory \u001b[38;5;241m=\u001b[39m all_trajectories\u001b[38;5;241m.\u001b[39mget_trajectory(mmsi)\n\u001b[1;32m     12\u001b[0m start \u001b[38;5;241m=\u001b[39m time\u001b[38;5;241m.\u001b[39mtime()\n\u001b[0;32m---> 13\u001b[0m path_df2, evaluation_results2 \u001b[38;5;241m=\u001b[39m \u001b[43mnetwork\u001b[49m\u001b[38;5;241;43m.\u001b[39;49m\u001b[43mtrajectory_to_path2\u001b[49m\u001b[43m(\u001b[49m\u001b[43mtrajectory\u001b[49m\u001b[43m,\u001b[49m\u001b[43m \u001b[49m\u001b[43mverbose\u001b[49m\u001b[38;5;241;43m=\u001b[39;49m\u001b[38;5;28;43;01mTrue\u001b[39;49;00m\u001b[43m)\u001b[49m\n\u001b[1;32m     14\u001b[0m end \u001b[38;5;241m=\u001b[39m time\u001b[38;5;241m.\u001b[39mtime()  \u001b[38;5;66;03m# end timer\u001b[39;00m\n\u001b[1;32m     15\u001b[0m \u001b[38;5;28mprint\u001b[39m(\u001b[38;5;124mf\u001b[39m\u001b[38;5;124m'\u001b[39m\u001b[38;5;124mNew time: \u001b[39m\u001b[38;5;132;01m{\u001b[39;00m(end\u001b[38;5;241m-\u001b[39mstart)\u001b[38;5;132;01m:\u001b[39;00m\u001b[38;5;124m.2f\u001b[39m\u001b[38;5;132;01m}\u001b[39;00m\u001b[38;5;124m seconds\u001b[39m\u001b[38;5;124m'\u001b[39m)\n",
      "File \u001b[0;32m~/maritime_route_prediction/src/visualization/../models/maritime_traffic_network.py:954\u001b[0m, in \u001b[0;36mMaritimeTrafficNetwork.trajectory_to_path2\u001b[0;34m(self, trajectory, verbose)\u001b[0m\n\u001b[1;32m    946\u001b[0m     median_dist \u001b[38;5;241m=\u001b[39m np\u001b[38;5;241m.\u001b[39mmedian(distances)  \u001b[38;5;66;03m# compute median distance\u001b[39;00m\n\u001b[1;32m    947\u001b[0m     max_dist \u001b[38;5;241m=\u001b[39m np\u001b[38;5;241m.\u001b[39mmax(distances)  \u001b[38;5;66;03m# compute max_distance\u001b[39;00m\n\u001b[1;32m    948\u001b[0m     evaluation_results \u001b[38;5;241m=\u001b[39m pd\u001b[38;5;241m.\u001b[39mDataFrame({\u001b[38;5;124m'\u001b[39m\u001b[38;5;124mmmsi\u001b[39m\u001b[38;5;124m'\u001b[39m:mmsi,\n\u001b[1;32m    949\u001b[0m                                        \u001b[38;5;124m'\u001b[39m\u001b[38;5;124mmean_dist\u001b[39m\u001b[38;5;124m'\u001b[39m:mean_dist,\n\u001b[1;32m    950\u001b[0m                                        \u001b[38;5;124m'\u001b[39m\u001b[38;5;124mmedian_dist\u001b[39m\u001b[38;5;124m'\u001b[39m:median_dist,\n\u001b[1;32m    951\u001b[0m                                        \u001b[38;5;124m'\u001b[39m\u001b[38;5;124mmax_dist\u001b[39m\u001b[38;5;124m'\u001b[39m:max_dist,\n\u001b[1;32m    952\u001b[0m                                        \u001b[38;5;124m'\u001b[39m\u001b[38;5;124mdistances\u001b[39m\u001b[38;5;124m'\u001b[39m:[distances],\n\u001b[1;32m    953\u001b[0m                                        \u001b[38;5;124m'\u001b[39m\u001b[38;5;124mfraction_covered\u001b[39m\u001b[38;5;124m'\u001b[39m:percentage_covered,\n\u001b[0;32m--> 954\u001b[0m                                        \u001b[38;5;124m'\u001b[39m\u001b[38;5;124mlength ratio\u001b[39m\u001b[38;5;124m'\u001b[39m: \u001b[43mlength_ratio\u001b[49m,\n\u001b[1;32m    955\u001b[0m                                        \u001b[38;5;124m'\u001b[39m\u001b[38;5;124mmessage\u001b[39m\u001b[38;5;124m'\u001b[39m:message}\n\u001b[1;32m    956\u001b[0m                                      )\n\u001b[1;32m    957\u001b[0m     \u001b[38;5;66;03m#print(mmsi, ': success')\u001b[39;00m\n\u001b[1;32m    958\u001b[0m \u001b[38;5;250m    \u001b[39m\u001b[38;5;124;03m'''   \u001b[39;00m\n\u001b[1;32m    959\u001b[0m \u001b[38;5;124;03m    # In some cases the above algorithm gets stuck in waypoints without any connections leading to the next waypoint\u001b[39;00m\n\u001b[1;32m    960\u001b[0m \u001b[38;5;124;03m    # In this case we attempt to find the shortest path between origin and destination\u001b[39;00m\n\u001b[0;32m   (...)\u001b[0m\n\u001b[1;32m   1011\u001b[0m \u001b[38;5;124;03m                                             )\u001b[39;00m\n\u001b[1;32m   1012\u001b[0m \u001b[38;5;124;03m'''\u001b[39;00m\n",
      "\u001b[0;31mNameError\u001b[0m: name 'length_ratio' is not defined"
     ]
    }
   ],
   "source": [
    "# plot network and basemap\n",
    "network.prune_graph(100)\n",
    "map = network.map_graph(pruned=True)  #tromso: center=[69, 19]\n",
    "network.prune_graph(1)\n",
    "# add some trajectories\n",
    "all_trajectories = network.trajectories\n",
    "selection = [83] # [56, 23, 83, 99, 197, 497, 372]\n",
    "mmsis = network.gdf.mmsi.unique()[selection]\n",
    "trajectories = all_trajectories.filter('mmsi', mmsis.tolist())\n",
    "for mmsi in mmsis:\n",
    "    trajectory = all_trajectories.get_trajectory(mmsi)\n",
    "    start = time.time()\n",
    "    path_df2, evaluation_results2 = network.trajectory_to_path2(trajectory, verbose=True)\n",
    "    end = time.time()  # end timer\n",
    "    print(f'New time: {(end-start):.2f} seconds')\n",
    "    start = time.time()\n",
    "    path_df, evaluation_results = network.trajectory_to_path(trajectory, verbose=False)\n",
    "    end = time.time()  # end timer\n",
    "    print(f'Old time: {(end-start):.2f} seconds')\n",
    "    #print(mmsi, evaluation_results['message'])\n",
    "    #print(mmsi, evaluation_results2['message'])\n",
    "    try:\n",
    "        map = trajectory.to_line_gdf()[['geometry', 'mmsi', 'skipsgruppe']].explore(m=map, style_kwds={'weight':3, 'color':'black', 'opacity':1}, \n",
    "                                                                      name=mmsi+' trajectory')\n",
    "        map = path_df.explore(m=map, name=mmsi+' edge_sequence ', style_kwds={'weight':3, 'color':'yellow', 'opacity':1})\n",
    "        map = path_df2.explore(m=map, name=mmsi+' greedy ', style_kwds={'weight':3, 'color':'orange', 'opacity':1})\n",
    "    except:\n",
    "        print(mmsi+': no path found')\n",
    "\n",
    "folium.LayerControl().add_to(map)\n",
    "#map"
   ]
  },
  {
   "cell_type": "code",
   "execution_count": null,
   "id": "cccac32c-8b61-4854-82f4-03d06bc97f1a",
   "metadata": {},
   "outputs": [],
   "source": [
    "map.save('../../reports/maps/'+model+'.html')"
   ]
  },
  {
   "cell_type": "code",
   "execution_count": null,
   "id": "3f743d93-17a5-4bc8-8ae3-f0b7d4514861",
   "metadata": {},
   "outputs": [],
   "source": [
    "evaluation_results"
   ]
  },
  {
   "cell_type": "code",
   "execution_count": null,
   "id": "a47170bc-0e8a-4a55-a129-98d004fd377b",
   "metadata": {},
   "outputs": [],
   "source": [
    "network.plot_graph_canvas()"
   ]
  },
  {
   "cell_type": "code",
   "execution_count": null,
   "id": "b2fd1ddc-597e-4ee4-bd64-1592bd9120db",
   "metadata": {},
   "outputs": [],
   "source": []
  }
 ],
 "metadata": {
  "kernelspec": {
   "display_name": "Python 3 (ipykernel)",
   "language": "python",
   "name": "python3"
  },
  "language_info": {
   "codemirror_mode": {
    "name": "ipython",
    "version": 3
   },
   "file_extension": ".py",
   "mimetype": "text/x-python",
   "name": "python",
   "nbconvert_exporter": "python",
   "pygments_lexer": "ipython3",
   "version": "3.11.5"
  }
 },
 "nbformat": 4,
 "nbformat_minor": 5
}
