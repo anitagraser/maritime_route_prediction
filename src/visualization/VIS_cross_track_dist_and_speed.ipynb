{
 "cells": [
  {
   "cell_type": "code",
   "execution_count": null,
   "id": "bff70148-e1ad-46aa-b402-dd5b7c1a582a",
   "metadata": {},
   "outputs": [],
   "source": [
    "'''\n",
    "This notebook visualizes the distribution of cross track distances and speed along an edge of a refined maritime traffic network\n",
    "- load refined maritime traffic network from pickle\n",
    "- select an edge for visualization of cross track distance and speed distribution\n",
    "'''"
   ]
  },
  {
   "cell_type": "code",
   "execution_count": null,
   "id": "7c258fa5-f46f-4873-a70f-5d9eb5654de0",
   "metadata": {},
   "outputs": [],
   "source": [
    "import pandas as pd\n",
    "import geopandas as gpd\n",
    "import movingpandas as mpd\n",
    "import numpy as np\n",
    "from datetime import timedelta, datetime\n",
    "from ast import literal_eval\n",
    "import matplotlib.pyplot as plt\n",
    "from scipy.stats import norm, halfnorm\n",
    "import folium\n",
    "import time\n",
    "import warnings\n",
    "import pickle\n",
    "import sys\n",
    "\n",
    "warnings.filterwarnings('ignore')\n",
    "\n",
    "print(\"Geopandas has version {}\".format(gpd.__version__))\n",
    "print(\"Movingpandas has version {}\".format(mpd.__version__))"
   ]
  },
  {
   "cell_type": "code",
   "execution_count": null,
   "id": "cea44e5c-ec35-4c51-8b97-4bd0552b0d3a",
   "metadata": {},
   "outputs": [],
   "source": [
    "# add paths for modules\n",
    "sys.path.append('../models')\n",
    "# import modules\n",
    "from maritime_traffic_network import MaritimeTrafficNetwork"
   ]
  },
  {
   "cell_type": "code",
   "execution_count": null,
   "id": "8ad769fe-bef4-4684-b917-8b9185114f9a",
   "metadata": {},
   "outputs": [],
   "source": [
    "# load network from pickle\n",
    "model_date = '202204' #\"['202204', '202208']\"\n",
    "location = 'stavanger'\n",
    "DP_tol = 10\n",
    "min_samples = 16\n",
    "data_size = 'full'\n",
    "refined = '_refined'\n",
    "\n",
    "model_name = model_date+'_waypoints_DP'+str(DP_tol)+'_HDBSCAN'+str(min_samples)+'_'+location+'_'+data_size+'_UTM'+refined\n",
    "model_path = '../../models/networks/refined_networks/' + model_name + '.obj'\n",
    "fileObj = open(model_path, 'rb')\n",
    "network = pickle.load(fileObj)\n",
    "fileObj.close()\n",
    "network.hyperparameters"
   ]
  },
  {
   "cell_type": "code",
   "execution_count": null,
   "id": "f1335ec5-466c-4e95-a7ca-7a73129ee576",
   "metadata": {},
   "outputs": [],
   "source": [
    "# Select an edge for visualization of statistics\n",
    "connections = network.waypoint_connections_refined\n",
    "\n",
    "filter = (connections['from'] == 634) & (connections['to'] == 632)\n",
    "\n",
    "line = connections[filter]\n",
    "dist = line['cross_track_dist_distribution'].item()\n",
    "dist = literal_eval(dist)\n",
    "speed = line['speed_distribution'].item()\n",
    "speed = literal_eval(speed)"
   ]
  },
  {
   "cell_type": "code",
   "execution_count": null,
   "id": "f987ce4e-1b00-46f8-b4c4-6a26c58b357b",
   "metadata": {},
   "outputs": [],
   "source": [
    "##### import matplotlib.pyplot as plt\n",
    "from scipy.stats import norm, halfnorm\n",
    "fig, axes = plt.subplots(1, 2, figsize=(12, 6))\n",
    "\n",
    "loc1, scale1 = norm.fit(dist)\n",
    "loc2, scale2 = norm.fit(speed)\n",
    "\n",
    "axes[0].hist(dist, bins=np.arange(-500, 200, 25).tolist(), label='actual cross-track distance distribution')\n",
    "x_range_left = np.linspace(-500, 200, 100)\n",
    "#axes[0].plot(x_range_left, norm.pdf(x_range_left, loc=loc1, scale=scale1)*10000, 'r--', lw=2, label='normal distribution')\n",
    "x_range_right = np.linspace(2, 8, 100)\n",
    "axes[1].hist(speed, bins=np.arange(2, 8, 0.5).tolist(), label='actual speed distribution')\n",
    "#axes[1].plot(x_range_right, norm.pdf(x_range_right, loc=loc2, scale=scale2)*25, 'r--', lw=2, label='normal distribution')\n",
    "axes[0].set_xlabel('Distance (m)')\n",
    "axes[1].set_xlabel('Speed (m/s)')\n",
    "#axes[0].legend(loc='upper right')\n",
    "#axes[1].legend(loc='upper right')\n",
    "fig.suptitle('Distributions of cross-track distance and speed along an exemplary edge in the traffic network')\n",
    "plt.savefig('Distributions of cross track distance and speed along an edge.pdf')\n",
    "fig.show()"
   ]
  },
  {
   "cell_type": "markdown",
   "id": "714579b3-9f7d-4e60-af3c-8622cc90a141",
   "metadata": {},
   "source": [
    "##### dist"
   ]
  },
  {
   "cell_type": "code",
   "execution_count": null,
   "id": "62a82a4b-71d9-4b6e-af5e-b4b5c181aa84",
   "metadata": {},
   "outputs": [],
   "source": []
  }
 ],
 "metadata": {
  "kernelspec": {
   "display_name": "Python 3 (ipykernel)",
   "language": "python",
   "name": "python3"
  },
  "language_info": {
   "codemirror_mode": {
    "name": "ipython",
    "version": 3
   },
   "file_extension": ".py",
   "mimetype": "text/x-python",
   "name": "python",
   "nbconvert_exporter": "python",
   "pygments_lexer": "ipython3",
   "version": "3.11.5"
  }
 },
 "nbformat": 4,
 "nbformat_minor": 5
}
