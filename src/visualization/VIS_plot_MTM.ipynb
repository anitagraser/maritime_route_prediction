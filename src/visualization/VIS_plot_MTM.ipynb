{
 "cells": [
  {
   "cell_type": "code",
   "execution_count": null,
   "id": "83bdad24-bfd0-429d-bca1-43ce44726944",
   "metadata": {},
   "outputs": [],
   "source": [
    "'''\n",
    "This is a notebook to visualize a maritime traffic network\n",
    "- load a network from pickle\n",
    "- plot the network and add some trajectories (optional)\n",
    "- plot the network graph on a canvas\n",
    "'''"
   ]
  },
  {
   "cell_type": "code",
   "execution_count": null,
   "id": "e63aa3b0-8301-4229-82af-012fcad1d214",
   "metadata": {},
   "outputs": [],
   "source": [
    "import pandas as pd\n",
    "import geopandas as gpd\n",
    "import movingpandas as mpd\n",
    "import numpy as np\n",
    "from datetime import timedelta, datetime\n",
    "from ast import literal_eval\n",
    "import folium\n",
    "import time\n",
    "import warnings\n",
    "import pickle\n",
    "import sys\n",
    "\n",
    "warnings.filterwarnings('ignore')\n",
    "\n",
    "print(\"Geopandas has version {}\".format(gpd.__version__))\n",
    "print(\"Movingpandas has version {}\".format(mpd.__version__))"
   ]
  },
  {
   "cell_type": "code",
   "execution_count": null,
   "id": "9423a983-7e60-4b45-99fe-bbb15759f6eb",
   "metadata": {},
   "outputs": [],
   "source": [
    "# add paths for modules\n",
    "sys.path.append('../models')\n",
    "# import modules\n",
    "import  visualize\n",
    "from maritime_traffic_network import MaritimeTrafficNetwork"
   ]
  },
  {
   "cell_type": "code",
   "execution_count": null,
   "id": "30be92b5-1a11-448d-8ed6-831404b1bc3c",
   "metadata": {},
   "outputs": [],
   "source": [
    "# load network from pickle\n",
    "model_date = '202204' #\"['202204']\"\n",
    "location = 'stavanger'\n",
    "DP_tol = 10\n",
    "min_samples = 16\n",
    "data_size = 'full'\n",
    "refined = '_refined'\n",
    "\n",
    "model_name = model_date+'_waypoints_DP'+str(DP_tol)+'_HDBSCAN'+str(min_samples)+'_'+location+'_'+data_size+'_UTM'+refined\n",
    "model_path = '../../models/networks/refined_networks/' + model_name + '.obj'\n",
    "fileObj = open(model_path, 'rb')\n",
    "network = pickle.load(fileObj)\n",
    "fileObj.close()\n",
    "network.hyperparameters"
   ]
  },
  {
   "cell_type": "code",
   "execution_count": null,
   "id": "8d13b442-6dbc-4840-ab2e-5752bbb1e4ff",
   "metadata": {},
   "outputs": [],
   "source": [
    "# plot network and basemap\n",
    "network.prune_graph(5, 'refined')\n",
    "map = network.map_graph(refined=True, line_weight=2, min_passages=1)  #tromso: center=[69, 19], oslo: center=[59, 10.5]\n",
    "\n",
    "# add some trajectories\n",
    "all_trajectories = network.trajectories\n",
    "selection_start = 0\n",
    "selection_end = 1 #len(all_trajectories)\n",
    "selection_step = 1\n",
    "selection = np.arange(selection_start, selection_end, selection_step)\n",
    "mmsis = network.gdf.mmsi.unique()[selection]\n",
    "\n",
    "for mmsi in mmsis:\n",
    "    print(mmsi)\n",
    "    trajectory = all_trajectories.get_trajectory(mmsi)\n",
    "    path_df_sspd, evaluation_results_sspd = network.trajectory_to_path_sspd(trajectory, verbose=False)\n",
    "    print(evaluation_results_sspd[['message', 'SSPD']])\n",
    "    print('------------------')\n",
    "    try:\n",
    "        map = trajectory.to_line_gdf()[['geometry', 'mmsi', 'skipsgruppe']].explore(m=map, style_kwds={'weight':3, 'color':'black', 'opacity':1}, \n",
    "                                                                      name=mmsi+' trajectory')\n",
    "        map = path_df_sspd.explore(m=map, name=mmsi+' edge_sequence sspd', style_kwds={'weight':3, 'color':'cyan', 'opacity':1})\n",
    "    except:\n",
    "        print(mmsi+': no path found')\n",
    "\n",
    "bbox = visualize.get_bounding_box(network.gdf)\n",
    "map = bbox.explore(m=map, color='red', name='bounds')\n",
    "folium.LayerControl().add_to(map)\n",
    "map"
   ]
  },
  {
   "cell_type": "code",
   "execution_count": null,
   "id": "cccac32c-8b61-4854-82f4-03d06bc97f1a",
   "metadata": {},
   "outputs": [],
   "source": [
    "# Save map to file\n",
    "map.save('../../reports/maps/'+model_name+'.html')\n",
    "print(f'Map saved under {\"../../reports/maps/\"+model_name+\".html\"}')"
   ]
  },
  {
   "cell_type": "code",
   "execution_count": null,
   "id": "a47170bc-0e8a-4a55-a129-98d004fd377b",
   "metadata": {},
   "outputs": [],
   "source": [
    "# plot graph on a canvas\n",
    "network.plot_graph_canvas(pruned=True)"
   ]
  },
  {
   "cell_type": "code",
   "execution_count": null,
   "id": "c90a7980-b711-40c3-a54e-1a182f42625d",
   "metadata": {},
   "outputs": [],
   "source": [
    "# Calculate average out-degree\n",
    "# Calculate out-degrees of all nodes\n",
    "out_degrees = network.G.out_degree()\n",
    "average_out_degree = sum(out_degree for node, out_degree in out_degrees) / len(out_degrees)\n",
    "print(\"Average Out-Degree:\", average_out_degree)"
   ]
  }
 ],
 "metadata": {
  "kernelspec": {
   "display_name": "Python 3 (ipykernel)",
   "language": "python",
   "name": "python3"
  },
  "language_info": {
   "codemirror_mode": {
    "name": "ipython",
    "version": 3
   },
   "file_extension": ".py",
   "mimetype": "text/x-python",
   "name": "python",
   "nbconvert_exporter": "python",
   "pygments_lexer": "ipython3",
   "version": "3.11.5"
  }
 },
 "nbformat": 4,
 "nbformat_minor": 5
}
