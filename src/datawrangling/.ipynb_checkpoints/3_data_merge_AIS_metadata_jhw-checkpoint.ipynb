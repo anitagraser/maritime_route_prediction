{
 "cells": [
  {
   "cell_type": "code",
   "execution_count": 1,
   "id": "a9a98e3e-16b6-4374-9d72-05be805882f3",
   "metadata": {},
   "outputs": [
    {
     "name": "stdout",
     "output_type": "stream",
     "text": [
      "Geopandas has version 0.13.2\n"
     ]
    }
   ],
   "source": [
    "import pandas as pd\n",
    "import geopandas as gpd\n",
    "import movingpandas as mpd\n",
    "import numpy as np\n",
    "import matplotlib.pyplot as plt\n",
    "import folium\n",
    "import warnings\n",
    "import sys\n",
    "#warnings.filterwarnings('ignore')\n",
    "\n",
    "print(\"Geopandas has version {}\".format(gpd.__version__))"
   ]
  },
  {
   "cell_type": "code",
   "execution_count": 2,
   "id": "10254b42-bd24-4aa5-858d-f84c89fa20b4",
   "metadata": {},
   "outputs": [],
   "source": [
    "# read ship metadata from file\n",
    "filename = '../../data/external/seilas2019.csv'\n",
    "df_meta = pd.read_csv(filename, delimiter=';', decimal=',', encoding='ISO-8859-1')\n",
    "# rename MMSI column\n",
    "df_meta.rename(columns={'mmsi_nummer':'mmsi'}, inplace=True)\n",
    "# drop duplicate MMSI's\n",
    "df_meta.drop_duplicates(subset='mmsi', inplace=True)\n",
    "\n",
    "# read ship trajectory data from file\n",
    "filename = '../../data/raw/routes_all.parquet'\n",
    "df_trajectories = gpd.read_parquet(filename)"
   ]
  },
  {
   "cell_type": "code",
   "execution_count": 3,
   "id": "ce0fb611-ed71-49c6-a488-e0b15e123fe4",
   "metadata": {},
   "outputs": [
    {
     "name": "stdout",
     "output_type": "stream",
     "text": [
      "Ship metadata has   4373 unique MMSIs\n",
      "Trajectory file has 916 unique MMSIs\n",
      "Overlap:            840 MMSIs\n"
     ]
    }
   ],
   "source": [
    "# match MMSI columns from both dataframes with each other\n",
    "n_matching = len(pd.Series(list(set(df_meta['mmsi']).intersection(set((df_trajectories['mmsi']))))))\n",
    "print(f'Ship metadata has   {df_meta.mmsi.nunique()} unique MMSIs')\n",
    "print(f'Trajectory file has {df_trajectories.mmsi.nunique()} unique MMSIs')\n",
    "print(f'Overlap:            {n_matching} MMSIs')"
   ]
  },
  {
   "cell_type": "code",
   "execution_count": 4,
   "id": "297beaaa-09de-40f0-ba21-4c4b88ab51a7",
   "metadata": {},
   "outputs": [],
   "source": [
    "# merge dataframes on mmsi\n",
    "merge_columns = ['mmsi', 'lengde', 'bredde', 'dypgaaende', 'skipstype', 'skipsgruppe', 'fartoynavn']\n",
    "df = df_trajectories.merge(df_meta[merge_columns], on='mmsi', how='left')\n",
    "df = gpd.GeoDataFrame(df)"
   ]
  },
  {
   "cell_type": "code",
   "execution_count": 5,
   "id": "5d68f78a-1ab7-477e-9311-ee02d3681741",
   "metadata": {},
   "outputs": [
    {
     "name": "stdout",
     "output_type": "stream",
     "text": [
      "<class 'geopandas.geodataframe.GeoDataFrame'>\n",
      "RangeIndex: 58546 entries, 0 to 58545\n",
      "Data columns (total 30 columns):\n",
      " #   Column           Non-Null Count  Dtype         \n",
      "---  ------           --------------  -----         \n",
      " 0   mmsi             58546 non-null  int64         \n",
      " 1   imo              58546 non-null  float64       \n",
      " 2   length           58546 non-null  float64       \n",
      " 3   start_lon        58546 non-null  float64       \n",
      " 4   start_lat        58546 non-null  float64       \n",
      " 5   stop_lon         58546 non-null  float64       \n",
      " 6   stop_lat         58546 non-null  float64       \n",
      " 7   start_loc        58546 non-null  object        \n",
      " 8   stop_loc         58546 non-null  object        \n",
      " 9   start_geom       58546 non-null  object        \n",
      " 10  stop_geom        58546 non-null  object        \n",
      " 11  start_time       58546 non-null  datetime64[us]\n",
      " 12  stop_time        58546 non-null  datetime64[us]\n",
      " 13  cog              58546 non-null  object        \n",
      " 14  avg_cog          58546 non-null  float64       \n",
      " 15  sog              58546 non-null  object        \n",
      " 16  avg_sog          58546 non-null  float64       \n",
      " 17  loc              58546 non-null  object        \n",
      " 18  ts               58546 non-null  object        \n",
      " 19  line_geom        58546 non-null  geometry      \n",
      " 20  start_label      58546 non-null  int64         \n",
      " 21  stop_label       58546 non-null  int64         \n",
      " 22  cluster_nr       58546 non-null  int64         \n",
      " 23  unique_route_id  58546 non-null  int64         \n",
      " 24  lengde           41986 non-null  float64       \n",
      " 25  bredde           41986 non-null  float64       \n",
      " 26  dypgaaende       41692 non-null  float64       \n",
      " 27  skipstype        41986 non-null  object        \n",
      " 28  skipsgruppe      41986 non-null  object        \n",
      " 29  fartoynavn       41986 non-null  object        \n",
      "dtypes: datetime64[us](2), float64(11), geometry(1), int64(5), object(11)\n",
      "memory usage: 13.4+ MB\n"
     ]
    }
   ],
   "source": [
    "df.info()"
   ]
  },
  {
   "cell_type": "code",
   "execution_count": 10,
   "id": "6b7f6c5b-b31f-466f-bc10-8fc1bbb53270",
   "metadata": {},
   "outputs": [
    {
     "data": {
      "text/plain": [
       "mmsi                                                       258509000\n",
       "imo                                                        9481166.0\n",
       "length                                                          50.0\n",
       "start_lon                                                    10.7295\n",
       "start_lat                                                    59.9103\n",
       "stop_lon                                                   10.729453\n",
       "stop_lat                                                   59.910153\n",
       "start_loc                                    POINT (10.7295 59.9103)\n",
       "stop_loc                 POINT (10.72945294117647 59.91015294117647)\n",
       "start_geom         0101000020E61000002FDD2406817525403FC6DCB584F4...\n",
       "stop_geom          0101000020E6100000DDA51CDB7A752540075B3EE47FF4...\n",
       "start_time                                       2019-12-10 22:03:21\n",
       "stop_time                                        2019-12-10 22:48:21\n",
       "cog                [199.1, 196.6, 228.5625, 235.16666666666666, 2...\n",
       "avg_cog                                                   135.267036\n",
       "sog                [2.2, 8.49, 8.3625, 8.9, 9.2, 10.0, 10.1, 10.3...\n",
       "avg_sog                                                     8.643954\n",
       "loc                LINESTRING (10.7295 59.9103, 10.72838000000000...\n",
       "ts                 [Timestamp('2019-12-10 22:03:21'), Timestamp('...\n",
       "line_geom          LINESTRING (10.7295 59.9103, 10.72838000000000...\n",
       "start_label                                                        1\n",
       "stop_label                                                         1\n",
       "cluster_nr                                                        14\n",
       "unique_route_id                                                30001\n",
       "lengde                                                           NaN\n",
       "bredde                                                           NaN\n",
       "dypgaaende                                                       NaN\n",
       "skipstype                                                        NaN\n",
       "skipsgruppe                                                      NaN\n",
       "fartoynavn                                                       NaN\n",
       "Name: 30000, dtype: object"
      ]
     },
     "execution_count": 10,
     "metadata": {},
     "output_type": "execute_result"
    }
   ],
   "source": [
    "df.iloc[30000]"
   ]
  },
  {
   "cell_type": "code",
   "execution_count": 14,
   "id": "102c02f0-64df-41fd-9bd7-c27429f278ab",
   "metadata": {},
   "outputs": [
    {
     "data": {
      "text/html": [
       "<div>\n",
       "<style scoped>\n",
       "    .dataframe tbody tr th:only-of-type {\n",
       "        vertical-align: middle;\n",
       "    }\n",
       "\n",
       "    .dataframe tbody tr th {\n",
       "        vertical-align: top;\n",
       "    }\n",
       "\n",
       "    .dataframe thead th {\n",
       "        text-align: right;\n",
       "    }\n",
       "</style>\n",
       "<table border=\"1\" class=\"dataframe\">\n",
       "  <thead>\n",
       "    <tr style=\"text-align: right;\">\n",
       "      <th></th>\n",
       "      <th>seilas_id</th>\n",
       "      <th>skips_id</th>\n",
       "      <th>imo_nummer</th>\n",
       "      <th>mmsi</th>\n",
       "      <th>kallesignal</th>\n",
       "      <th>fartoynavn</th>\n",
       "      <th>byggeaar</th>\n",
       "      <th>bruttotonnasje_bt</th>\n",
       "      <th>doedvekttonn_dwt</th>\n",
       "      <th>lengde</th>\n",
       "      <th>...</th>\n",
       "      <th>ankomsthavn_kode</th>\n",
       "      <th>ankomsthavn_navn</th>\n",
       "      <th>ankomsttidspunkt</th>\n",
       "      <th>land_ankomst</th>\n",
       "      <th>landkode_ankomst_totegn</th>\n",
       "      <th>fylkesnavn_ankomst</th>\n",
       "      <th>fylkesnr_ankomst</th>\n",
       "      <th>kommunenavn_ankomst</th>\n",
       "      <th>kommunenr_ankomst</th>\n",
       "      <th>lokasjonstype_ankomst</th>\n",
       "    </tr>\n",
       "  </thead>\n",
       "  <tbody>\n",
       "  </tbody>\n",
       "</table>\n",
       "<p>0 rows × 43 columns</p>\n",
       "</div>"
      ],
      "text/plain": [
       "Empty DataFrame\n",
       "Columns: [seilas_id, skips_id, imo_nummer, mmsi, kallesignal, fartoynavn, byggeaar, bruttotonnasje_bt, doedvekttonn_dwt, lengde, bredde, hoeyde, hoeyde_aktuell, dypgaaende, dypgaaende_aktuell, skipstype, skipsgruppe, landstroem_paa_skipet, flaggkode, flaggstat, farlig_last_hazmat, avgangshavn_id, avgangshavn_kode, avgangshavn_navn, etd_estimert_avgangstidspunkt, land_avgang, landkode_avgang_totegn, fylkesnavn_avgang, fylkesnr_avgang, kommunenavn_avgang, kommunenr_avgang, lokasjonstype_avgang, ankomsthavn_id, ankomsthavn_kode, ankomsthavn_navn, ankomsttidspunkt, land_ankomst, landkode_ankomst_totegn, fylkesnavn_ankomst, fylkesnr_ankomst, kommunenavn_ankomst, kommunenr_ankomst, lokasjonstype_ankomst]\n",
       "Index: []\n",
       "\n",
       "[0 rows x 43 columns]"
      ]
     },
     "execution_count": 14,
     "metadata": {},
     "output_type": "execute_result"
    }
   ],
   "source": []
  },
  {
   "cell_type": "code",
   "execution_count": null,
   "id": "7c713e5b-a17e-4e36-b675-6042d4835d03",
   "metadata": {},
   "outputs": [],
   "source": []
  }
 ],
 "metadata": {
  "kernelspec": {
   "display_name": "Python 3 (ipykernel)",
   "language": "python",
   "name": "python3"
  },
  "language_info": {
   "codemirror_mode": {
    "name": "ipython",
    "version": 3
   },
   "file_extension": ".py",
   "mimetype": "text/x-python",
   "name": "python",
   "nbconvert_exporter": "python",
   "pygments_lexer": "ipython3",
   "version": "3.11.5"
  }
 },
 "nbformat": 4,
 "nbformat_minor": 5
}
