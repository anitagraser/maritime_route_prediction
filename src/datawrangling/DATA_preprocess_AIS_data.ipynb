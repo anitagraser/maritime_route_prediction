{
 "cells": [
  {
   "cell_type": "code",
   "execution_count": 1,
   "id": "82f6fa86-8011-4f7b-b93d-9cfdf79ad7fe",
   "metadata": {},
   "outputs": [
    {
     "name": "stdout",
     "output_type": "stream",
     "text": [
      "Geopandas has version 0.13.2\n",
      "Movingpandas has version 0.17.1\n",
      "5315259 raw AIS messages loaded from file ../../data/raw/AIS_06-09_2022_oslo/ais_202206.csv\n",
      "Ship metadata has   4142 unique MMSIs\n",
      "AIS raw data has    329 unique MMSIs\n",
      "Overlap:            288 MMSIs\n",
      "2285548 superfluous AIS messages dropped, thereof\n",
      "   383184 messages with irrelevant nav_status and\n",
      "   1902364 duplicate messages.\n",
      "Observation Gap splitter split 325 trajectories into 4308 sub-trajectories\n",
      "Stop splitter split 4308 trajectories into 8067 sub-trajectories\n",
      "6 trajectories were found that exceed the speed limit and dropped from the list of trajectories\n",
      "Cleaning reduced 5315259 AIS messages to 2798834 points (52.66%)\n",
      "5034203 raw AIS messages loaded from file ../../data/raw/AIS_06-09_2022_oslo/ais_202207.csv\n",
      "Ship metadata has   4142 unique MMSIs\n",
      "AIS raw data has    312 unique MMSIs\n",
      "Overlap:            280 MMSIs\n",
      "2337806 superfluous AIS messages dropped, thereof\n",
      "   352840 messages with irrelevant nav_status and\n",
      "   1984966 duplicate messages.\n",
      "Observation Gap splitter split 308 trajectories into 3980 sub-trajectories\n",
      "Stop splitter split 3980 trajectories into 7645 sub-trajectories\n",
      "10 trajectories were found that exceed the speed limit and dropped from the list of trajectories\n",
      "Cleaning reduced 5034203 AIS messages to 2509195 points (49.84%)\n"
     ]
    }
   ],
   "source": [
    "# Creates a parquet file with trajectories from raw AIS data\n",
    "\n",
    "from make_trajectories_from_AIS import ais_to_trajectory\n",
    "\n",
    "size = -1  # set the number of AIS messages for processing (-1 processes the entire file)\n",
    "start = 0  # index of the first message to process\n",
    "\n",
    "dates = ['202206', '202207']\n",
    "for date in dates:\n",
    "    # read AIS data file\n",
    "    filename = '../../data/raw/AIS_06-09_2022_oslo/ais_'+date+'.csv'\n",
    "    # write trajectories to file\n",
    "    save_to = '../../data/processed/'+date+'_points_oslo_cleaned_meta_full_dualSplit_2.parquet'\n",
    "    ais_to_trajectory(filename, size, start, save_to)"
   ]
  }
 ],
 "metadata": {
  "kernelspec": {
   "display_name": "Python 3 (ipykernel)",
   "language": "python",
   "name": "python3"
  },
  "language_info": {
   "codemirror_mode": {
    "name": "ipython",
    "version": 3
   },
   "file_extension": ".py",
   "mimetype": "text/x-python",
   "name": "python",
   "nbconvert_exporter": "python",
   "pygments_lexer": "ipython3",
   "version": "3.11.5"
  }
 },
 "nbformat": 4,
 "nbformat_minor": 5
}
