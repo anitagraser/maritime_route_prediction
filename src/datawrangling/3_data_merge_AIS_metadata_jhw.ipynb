{
 "cells": [
  {
   "cell_type": "code",
   "execution_count": 1,
   "id": "a9a98e3e-16b6-4374-9d72-05be805882f3",
   "metadata": {},
   "outputs": [
    {
     "name": "stdout",
     "output_type": "stream",
     "text": [
      "Geopandas has version 0.13.2\n"
     ]
    }
   ],
   "source": [
    "import pandas as pd\n",
    "import geopandas as gpd\n",
    "import movingpandas as mpd\n",
    "import numpy as np\n",
    "import matplotlib.pyplot as plt\n",
    "import folium\n",
    "import warnings\n",
    "import sys\n",
    "#warnings.filterwarnings('ignore')\n",
    "\n",
    "print(\"Geopandas has version {}\".format(gpd.__version__))"
   ]
  },
  {
   "cell_type": "code",
   "execution_count": 2,
   "id": "10254b42-bd24-4aa5-858d-f84c89fa20b4",
   "metadata": {},
   "outputs": [],
   "source": [
    "# read ship metadata from file\n",
    "filename = '../../data/external/seilas-2022.csv'\n",
    "df_meta = pd.read_csv(filename, delimiter=';', decimal=',', encoding='ISO-8859-1')\n",
    "# rename MMSI column\n",
    "df_meta.rename(columns={'mmsi_nummer':'mmsi'}, inplace=True)\n",
    "# drop duplicate MMSI's\n",
    "df_meta.drop_duplicates(subset='mmsi', inplace=True)\n",
    "\n",
    "# read ship trajectory data from file\n",
    "filename = '../../data/raw/routes_all.parquet'\n",
    "df_trajectories = gpd.read_parquet(filename)"
   ]
  },
  {
   "cell_type": "code",
   "execution_count": 37,
   "id": "ce0fb611-ed71-49c6-a488-e0b15e123fe4",
   "metadata": {},
   "outputs": [
    {
     "name": "stdout",
     "output_type": "stream",
     "text": [
      "Ship metadata has   4142 unique MMSIs\n",
      "Trajectory file has 916 unique MMSIs\n",
      "Overlap:            450 MMSIs\n"
     ]
    }
   ],
   "source": [
    "# match MMSI columns from both dataframes with each other\n",
    "n_matching = len(pd.Series(list(set(df_meta['mmsi']).intersection(set((df_trajectories['mmsi']))))))\n",
    "print(f'Ship metadata has   {df_meta.mmsi.nunique()} unique MMSIs')\n",
    "print(f'Trajectory file has {df_trajectories.mmsi.nunique()} unique MMSIs')\n",
    "print(f'Overlap:            {n_matching} MMSIs')"
   ]
  },
  {
   "cell_type": "code",
   "execution_count": 3,
   "id": "297beaaa-09de-40f0-ba21-4c4b88ab51a7",
   "metadata": {},
   "outputs": [],
   "source": [
    "# merge dataframes on mmsi\n",
    "merge_columns = ['mmsi', 'lengde', 'bredde', 'dypgaaende', 'skipstype', 'skipsgruppe']\n",
    "df = df_trajectories.merge(df_meta[merge_columns], on='mmsi', how='left')\n",
    "df = gpd.GeoDataFrame(df)"
   ]
  },
  {
   "cell_type": "code",
   "execution_count": 4,
   "id": "5d68f78a-1ab7-477e-9311-ee02d3681741",
   "metadata": {},
   "outputs": [
    {
     "name": "stdout",
     "output_type": "stream",
     "text": [
      "<class 'geopandas.geodataframe.GeoDataFrame'>\n",
      "RangeIndex: 58546 entries, 0 to 58545\n",
      "Data columns (total 29 columns):\n",
      " #   Column           Non-Null Count  Dtype         \n",
      "---  ------           --------------  -----         \n",
      " 0   mmsi             58546 non-null  int64         \n",
      " 1   imo              58546 non-null  float64       \n",
      " 2   length           58546 non-null  float64       \n",
      " 3   start_lon        58546 non-null  float64       \n",
      " 4   start_lat        58546 non-null  float64       \n",
      " 5   stop_lon         58546 non-null  float64       \n",
      " 6   stop_lat         58546 non-null  float64       \n",
      " 7   start_loc        58546 non-null  object        \n",
      " 8   stop_loc         58546 non-null  object        \n",
      " 9   start_geom       58546 non-null  object        \n",
      " 10  stop_geom        58546 non-null  object        \n",
      " 11  start_time       58546 non-null  datetime64[us]\n",
      " 12  stop_time        58546 non-null  datetime64[us]\n",
      " 13  cog              58546 non-null  object        \n",
      " 14  avg_cog          58546 non-null  float64       \n",
      " 15  sog              58546 non-null  object        \n",
      " 16  avg_sog          58546 non-null  float64       \n",
      " 17  loc              58546 non-null  object        \n",
      " 18  ts               58546 non-null  object        \n",
      " 19  line_geom        58546 non-null  geometry      \n",
      " 20  start_label      58546 non-null  int64         \n",
      " 21  stop_label       58546 non-null  int64         \n",
      " 22  cluster_nr       58546 non-null  int64         \n",
      " 23  unique_route_id  58546 non-null  int64         \n",
      " 24  lengde           27174 non-null  float64       \n",
      " 25  bredde           27174 non-null  float64       \n",
      " 26  dypgaaende       26869 non-null  float64       \n",
      " 27  skipstype        27185 non-null  object        \n",
      " 28  skipsgruppe      27185 non-null  object        \n",
      "dtypes: datetime64[us](2), float64(11), geometry(1), int64(5), object(10)\n",
      "memory usage: 13.0+ MB\n"
     ]
    }
   ],
   "source": [
    "df.info()"
   ]
  },
  {
   "cell_type": "code",
   "execution_count": 31,
   "id": "6b7f6c5b-b31f-466f-bc10-8fc1bbb53270",
   "metadata": {},
   "outputs": [
    {
     "data": {
      "text/plain": [
       "mmsi                                                       258373000\n",
       "imo                                                        5071729.0\n",
       "length                                                          63.0\n",
       "start_lon                                                    10.7517\n",
       "start_lat                                                     59.905\n",
       "stop_lon                                                     10.7221\n",
       "stop_lat                                                     59.9062\n",
       "start_loc                                     POINT (10.7517 59.905)\n",
       "stop_loc                                     POINT (10.7221 59.9062)\n",
       "start_geom         0101000020E610000070CE88D2DE802540A4703D0AD7F3...\n",
       "stop_geom          0101000020E610000019E25817B77125404ED1915CFEF3...\n",
       "start_time                                       2019-05-16 15:30:33\n",
       "stop_time                                        2019-05-16 16:04:33\n",
       "cog                [210.1, 201.0, 198.4, 290.7125, 295.9, 233.65,...\n",
       "avg_cog                                                   153.546888\n",
       "sog                [0.4, 2.036363636363636, 2.6, 2.79375, 3.4, 3....\n",
       "avg_sog                                                     3.229305\n",
       "loc                LINESTRING (10.7517 59.905, 10.75129090909091 ...\n",
       "ts                 [Timestamp('2019-05-16 15:30:33'), Timestamp('...\n",
       "line_geom          LINESTRING (10.7517 59.905, 10.75129090909091 ...\n",
       "start_label                                                        1\n",
       "stop_label                                                         1\n",
       "cluster_nr                                                        14\n",
       "unique_route_id                                                    4\n",
       "lengde                                                     58.549999\n",
       "bredde                                                          9.76\n",
       "dypgaaende                                                      4.72\n",
       "skipstype                                         Sail Training Ship\n",
       "skipsgruppe                                                     Last\n",
       "Name: 3, dtype: object"
      ]
     },
     "execution_count": 31,
     "metadata": {},
     "output_type": "execute_result"
    }
   ],
   "source": [
    "df.iloc[3]"
   ]
  },
  {
   "cell_type": "code",
   "execution_count": null,
   "id": "102c02f0-64df-41fd-9bd7-c27429f278ab",
   "metadata": {},
   "outputs": [],
   "source": []
  }
 ],
 "metadata": {
  "kernelspec": {
   "display_name": "Python 3 (ipykernel)",
   "language": "python",
   "name": "python3"
  },
  "language_info": {
   "codemirror_mode": {
    "name": "ipython",
    "version": 3
   },
   "file_extension": ".py",
   "mimetype": "text/x-python",
   "name": "python",
   "nbconvert_exporter": "python",
   "pygments_lexer": "ipython3",
   "version": "3.11.5"
  }
 },
 "nbformat": 4,
 "nbformat_minor": 5
}
