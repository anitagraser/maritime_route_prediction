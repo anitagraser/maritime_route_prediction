{
 "cells": [
  {
   "cell_type": "code",
   "execution_count": 30,
   "id": "7ba119ac-c7b3-424a-9840-731c1d4724e8",
   "metadata": {},
   "outputs": [],
   "source": [
    "import pandas as pd"
   ]
  },
  {
   "cell_type": "code",
   "execution_count": 39,
   "id": "dd5197f4-a3b0-4cda-8b6b-cdeec05af688",
   "metadata": {},
   "outputs": [
    {
     "data": {
      "text/html": [
       "<div>\n",
       "<style scoped>\n",
       "    .dataframe tbody tr th:only-of-type {\n",
       "        vertical-align: middle;\n",
       "    }\n",
       "\n",
       "    .dataframe tbody tr th {\n",
       "        vertical-align: top;\n",
       "    }\n",
       "\n",
       "    .dataframe thead th {\n",
       "        text-align: right;\n",
       "    }\n",
       "</style>\n",
       "<table border=\"1\" class=\"dataframe\">\n",
       "  <thead>\n",
       "    <tr style=\"text-align: right;\">\n",
       "      <th></th>\n",
       "      <th>mmsi</th>\n",
       "      <th>path</th>\n",
       "    </tr>\n",
       "  </thead>\n",
       "  <tbody>\n",
       "    <tr>\n",
       "      <th>0</th>\n",
       "      <td>1</td>\n",
       "      <td>(1, 2, 3, 4, 5, 6)</td>\n",
       "    </tr>\n",
       "    <tr>\n",
       "      <th>1</th>\n",
       "      <td>2</td>\n",
       "      <td>(12, 13, 14, 15)</td>\n",
       "    </tr>\n",
       "  </tbody>\n",
       "</table>\n",
       "</div>"
      ],
      "text/plain": [
       "   mmsi                path\n",
       "0     1  (1, 2, 3, 4, 5, 6)\n",
       "1     2    (12, 13, 14, 15)"
      ]
     },
     "execution_count": 39,
     "metadata": {},
     "output_type": "execute_result"
    }
   ],
   "source": [
    "test_data = pd.DataFrame([[1, (1, 2, 3, 4, 5, 6)],\n",
    "                        [2, (12, 13, 14, 15)]], columns = ['mmsi', 'path'])\n",
    "test_data"
   ]
  },
  {
   "cell_type": "code",
   "execution_count": 42,
   "id": "21f595bd-e7f0-4c74-9d20-8693bcc9e2c2",
   "metadata": {},
   "outputs": [
    {
     "name": "stdout",
     "output_type": "stream",
     "text": [
      "   mmsi      path\n",
      "0     1    (1, 2)\n",
      "1     1    (2, 3)\n",
      "2     1    (3, 4)\n",
      "3     1    (4, 5)\n",
      "4     1    (5, 6)\n",
      "5     2  (12, 13)\n",
      "6     2  (13, 14)\n",
      "7     2  (14, 15)\n"
     ]
    }
   ],
   "source": [
    "result = pd.DataFrame(\n",
    "    [(mmsi, pair) for mmsi, path in test_data.itertuples(index=False) for pair in zip(path, path[1:])],\n",
    "    columns=['mmsi', 'path']\n",
    ")\n",
    "\n",
    "print(result)"
   ]
  },
  {
   "cell_type": "code",
   "execution_count": 49,
   "id": "652eb45d-f554-458a-b26b-892f6dd8d8b1",
   "metadata": {},
   "outputs": [
    {
     "name": "stdout",
     "output_type": "stream",
     "text": [
      "   mmsi          path\n",
      "0     1     (1, 2, 3)\n",
      "1     1     (2, 3, 4)\n",
      "2     1     (3, 4, 5)\n",
      "3     1     (4, 5, 6)\n",
      "4     2  (12, 13, 14)\n",
      "5     2  (13, 14, 15)\n"
     ]
    }
   ],
   "source": [
    "def create_rows(row, n=2):\n",
    "    mmsi, path = row\n",
    "    return [(mmsi, path[i:i+n]) for i in range(len(path) - n + 1)]\n",
    "\n",
    "# Specify the number of elements in each row\n",
    "n_elements = 3\n",
    "\n",
    "# Create a new DataFrame with consecutive elements\n",
    "result = pd.DataFrame(\n",
    "    [item for _, row in test_data.iterrows() for item in create_rows(row, n_elements)],\n",
    "    columns=['mmsi', 'path']\n",
    ")\n",
    "print(result)"
   ]
  },
  {
   "cell_type": "code",
   "execution_count": null,
   "id": "83f3b8cc-8403-412f-8482-051f03b2f880",
   "metadata": {},
   "outputs": [],
   "source": []
  }
 ],
 "metadata": {
  "kernelspec": {
   "display_name": "Python 3 (ipykernel)",
   "language": "python",
   "name": "python3"
  },
  "language_info": {
   "codemirror_mode": {
    "name": "ipython",
    "version": 3
   },
   "file_extension": ".py",
   "mimetype": "text/x-python",
   "name": "python",
   "nbconvert_exporter": "python",
   "pygments_lexer": "ipython3",
   "version": "3.11.5"
  }
 },
 "nbformat": 4,
 "nbformat_minor": 5
}
