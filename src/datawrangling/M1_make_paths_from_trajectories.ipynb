{
 "cells": [
  {
   "cell_type": "code",
   "execution_count": 1,
   "id": "75923403-7dfc-4516-a27c-74174ebfc1fe",
   "metadata": {},
   "outputs": [
    {
     "name": "stdout",
     "output_type": "stream",
     "text": [
      "Geopandas has version 0.13.2\n",
      "Movingpandas has version 0.17.1\n"
     ]
    }
   ],
   "source": [
    "import pandas as pd\n",
    "import geopandas as gpd\n",
    "import movingpandas as mpd\n",
    "import numpy as np\n",
    "from datetime import timedelta, datetime\n",
    "import folium\n",
    "import time\n",
    "import warnings\n",
    "import pickle\n",
    "import sys\n",
    "warnings.filterwarnings('ignore')\n",
    "print(\"Geopandas has version {}\".format(gpd.__version__))\n",
    "print(\"Movingpandas has version {}\".format(mpd.__version__))"
   ]
  },
  {
   "cell_type": "code",
   "execution_count": 2,
   "id": "e6f5543c-81a1-4ca6-8bbc-93c3871886e7",
   "metadata": {},
   "outputs": [],
   "source": [
    "# add paths for modules\n",
    "sys.path.append('../models')\n",
    "# import modules\n",
    "from maritime_traffic_network import MaritimeTrafficNetwork"
   ]
  },
  {
   "cell_type": "code",
   "execution_count": 3,
   "id": "b4996503-210d-4f8a-9b0b-ff9b20a64399",
   "metadata": {},
   "outputs": [
    {
     "data": {
      "text/plain": [
       "{'Data': '../../data/processed/202204_points_stavanger_cleaned_meta_full_dualSplit_2.parquet',\n",
       " 'DP_tolerance': 10,\n",
       " 'clustering_method': 'HDBSCAN',\n",
       " 'clustering_metric': 'mahalanobis',\n",
       " 'clustering_min_samples': 16,\n",
       " 'clustering_min_cluster_size': 16,\n",
       " 'clustering_eps': 0,\n",
       " 'clustering_metric_V': array([[1.  , 0.  , 0.  , 0.  , 0.  ],\n",
       "        [0.  , 1.  , 0.  , 0.  , 0.  ],\n",
       "        [0.  , 0.  , 0.01, 0.  , 0.  ],\n",
       "        [0.  , 0.  , 0.  , 0.01, 0.  ],\n",
       "        [0.  , 0.  , 0.  , 0.  , 1.  ]]),\n",
       " 'graph_generation_max_distance': 20,\n",
       " 'graph_generation_max_angle': 45}"
      ]
     },
     "execution_count": 3,
     "metadata": {},
     "output_type": "execute_result"
    }
   ],
   "source": [
    "# specify network parameters\n",
    "datasize = 'full'\n",
    "location = 'stavanger'\n",
    "data_date = '202204'\n",
    "# specify evaluation data parameters\n",
    "eval_date = '202205'\n",
    "\n",
    "# load network from pickle\n",
    "model = data_date+'_waypoints_DP10_HDBSCAN16_'+location+'_'+datasize+'_UTM'\n",
    "model_path = '../../models/networks/best_networks/' + model + '.obj'\n",
    "fileObj = open(model_path, 'rb')\n",
    "network = pickle.load(fileObj)\n",
    "fileObj.close()\n",
    "network.hyperparameters"
   ]
  },
  {
   "cell_type": "code",
   "execution_count": 4,
   "id": "fb9b0dea-a68e-46e8-99b0-a5962e89e46f",
   "metadata": {},
   "outputs": [],
   "source": [
    "# load evaluation data\n",
    "eval_file = eval_date+'_points_'+location+'_cleaned_meta_full_dualSplit_2'\n",
    "filename = '../../data/processed/' + eval_file + '.parquet'\n",
    "test_gdf = gpd.read_parquet(filename)\n",
    "crs = network.crs  # Coordinate reference system\n",
    "test_gdf.to_crs(crs, inplace=True)  # Transformation\n",
    "all_test_trajectories = mpd.TrajectoryCollection(test_gdf, traj_id_col='mmsi', obj_id_col='mmsi')\n",
    "\n",
    "# select evaluation data\n",
    "selection_start = 0\n",
    "selection_end = len(all_test_trajectories)\n",
    "selection_step = 1\n",
    "selection = np.arange(selection_start, selection_end, selection_step)\n",
    "n_trajectories = len(selection)\n",
    "mmsis = test_gdf.mmsi.unique()[selection]\n",
    "test_trajectories = all_test_trajectories.filter('mmsi', mmsis.tolist())"
   ]
  },
  {
   "cell_type": "code",
   "execution_count": 5,
   "id": "2d8ebd08-7c8c-42e0-b398-c8f0e066987b",
   "metadata": {},
   "outputs": [
    {
     "name": "stdout",
     "output_type": "stream",
     "text": [
      "Pruning...\n",
      "------------------------\n",
      "Pruned Graph:\n",
      "Number of nodes: 2241 (20 isolated)\n",
      "Number of edges: 12301\n",
      "------------------------\n"
     ]
    }
   ],
   "source": [
    "network.prune_graph(1)"
   ]
  },
  {
   "cell_type": "code",
   "execution_count": null,
   "id": "1eab83b6-7936-4f9d-a408-510856a06a72",
   "metadata": {},
   "outputs": [
    {
     "name": "stdout",
     "output_type": "stream",
     "text": [
      "Evaluating graph on 15035 trajectories\n",
      "Progress: 10%...20%...30%...40%...50%...60%...70%...80%...90%..."
     ]
    }
   ],
   "source": [
    "# evaluate all trajectories on the current network to create a training dataset for this specific network\n",
    "all_paths, all_evaluation_results, summary, fig = network.evaluate_graph(test_trajectories)"
   ]
  },
  {
   "cell_type": "code",
   "execution_count": null,
   "id": "3a6a355f-72ba-491a-958a-3bd5f5c5b0ad",
   "metadata": {},
   "outputs": [],
   "source": [
    "all_evaluation_results"
   ]
  },
  {
   "cell_type": "code",
   "execution_count": null,
   "id": "8cd5dfa7-7555-4904-998b-21917d612fd8",
   "metadata": {},
   "outputs": [],
   "source": [
    "df = all_evaluation_results"
   ]
  },
  {
   "cell_type": "code",
   "execution_count": null,
   "id": "99afcb5d-96d5-4015-8d00-57493403ad4d",
   "metadata": {},
   "outputs": [],
   "source": [
    "# Filter out NaN results and bad examples\n",
    "nan_mask = df.isna().any(axis=1)\n",
    "df = df[~nan_mask]\n",
    "#df = df[df['fraction_covered']>0.8]\n",
    "#df = df[df['SSPD']<300]"
   ]
  },
  {
   "cell_type": "code",
   "execution_count": null,
   "id": "5e20c2b0-f536-4060-8fd9-c64d82e81de5",
   "metadata": {},
   "outputs": [],
   "source": [
    "# merge results with trajectory data and metadata\n",
    "test_trajectories = test_trajectories.filter('mmsi', df['mmsi'].tolist())\n",
    "traj_gdf = test_trajectories.to_traj_gdf()\n",
    "merge_columns = ['mmsi', 'lengde', 'bredde', 'dypgaaende', 'skipstype', 'skipsgruppe']\n",
    "test_gdf.drop_duplicates(subset=['mmsi'], inplace=True)\n",
    "test_gdf.rename(columns={'length': 'lengde'}, inplace=True)\n",
    "traj_gdf = traj_gdf.merge(test_gdf[merge_columns], on='mmsi', how='left')\n",
    "\n",
    "merge_columns = ['mmsi', 'lengde', 'bredde', 'dypgaaende', 'skipstype', 'skipsgruppe', 'geometry']\n",
    "df = df.merge(traj_gdf[merge_columns], on='mmsi', how='left')\n",
    "df = gpd.GeoDataFrame(df)"
   ]
  },
  {
   "cell_type": "code",
   "execution_count": null,
   "id": "127327de-f13a-4a41-9244-6b3c4512bc10",
   "metadata": {},
   "outputs": [],
   "source": [
    "df.to_csv(model+'_'+eval_date+'_paths.csv')"
   ]
  },
  {
   "cell_type": "code",
   "execution_count": null,
   "id": "70380d7e-002d-4048-88e8-c50dd3c492cf",
   "metadata": {},
   "outputs": [],
   "source": [
    "df.info()"
   ]
  },
  {
   "cell_type": "code",
   "execution_count": null,
   "id": "69fff4f1-e5fc-47f6-8dff-f2d715e1f8b6",
   "metadata": {},
   "outputs": [],
   "source": []
  }
 ],
 "metadata": {
  "kernelspec": {
   "display_name": "Python 3 (ipykernel)",
   "language": "python",
   "name": "python3"
  },
  "language_info": {
   "codemirror_mode": {
    "name": "ipython",
    "version": 3
   },
   "file_extension": ".py",
   "mimetype": "text/x-python",
   "name": "python",
   "nbconvert_exporter": "python",
   "pygments_lexer": "ipython3",
   "version": "3.11.5"
  }
 },
 "nbformat": 4,
 "nbformat_minor": 5
}
