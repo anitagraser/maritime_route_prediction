{
 "cells": [
  {
   "cell_type": "code",
   "execution_count": null,
   "id": "a9d99234-e699-49c9-8c98-4bd6b5830a89",
   "metadata": {},
   "outputs": [],
   "source": [
    "import pandas as pd\n",
    "import geopandas as gpd\n",
    "import movingpandas as mpd\n",
    "from hvplot import pandas\n",
    "from datetime import timedelta, datetime\n",
    "import folium\n",
    "import warnings\n",
    "import sys\n",
    "warnings.filterwarnings('ignore')\n",
    "\n",
    "print(\"Geopandas has version {}\".format(gpd.__version__))\n",
    "print(\"Movingpandas has version {}\".format(mpd.__version__))"
   ]
  },
  {
   "cell_type": "code",
   "execution_count": null,
   "id": "8faf90ca-5f70-4ee1-abba-4e6c634a78ff",
   "metadata": {},
   "outputs": [],
   "source": [
    "'''\n",
    "This notebook takes raw AIS data as input, cleans the data and saves it to a parquet file.\n",
    "Cleaning steps:\n",
    "* Drop duplicates (AIS messages can be recorded multiple times by different stations, e.g. satellite, coastal station etc)\n",
    "  Only the first registered message at a certain location is retained\n",
    "* The data is split into trajectories, where each trajectory receives a unique ID. \n",
    "  A trajectory is split into sub-trajectories, when the observation gap between AIS messages exceeds 10min and if the resulting\n",
    "  sub trajectory is longer than 100m\n",
    "* Drop trajectories with 'hops' in the AIS messages (Sometimes the GPS location jumps inexplainably between two consecutive timesteps)\n",
    "'''"
   ]
  },
  {
   "cell_type": "code",
   "execution_count": null,
   "id": "d16d8f60-2d08-4d7e-b224-27804164bedd",
   "metadata": {},
   "outputs": [],
   "source": [
    "# add paths for modules\n",
    "sys.path.append('../visualization')\n",
    "print(sys.path)\n",
    "\n",
    "# import modules\n",
    "import visualize"
   ]
  },
  {
   "cell_type": "code",
   "execution_count": null,
   "id": "1ab366b2-fc17-4b25-88b4-f8e927f539fb",
   "metadata": {},
   "outputs": [],
   "source": [
    "# read data from file\n",
    "filename = '../../data/raw/AIS_04-09_2022/ais_202204.csv'\n",
    "df = pd.read_csv(filename, delimiter=';', decimal='.')\n",
    "n_messages = len(df)\n",
    "\n",
    "# convert to geopandas df\n",
    "gdf = gpd.GeoDataFrame(df, geometry=gpd.points_from_xy(df.lon, df.lat), crs=\"EPSG:4326\")\n",
    "df = []  # free memory\n",
    "\n",
    "# drop duplicate AIS data (reported by multiple stations)\n",
    "gdf.drop_duplicates(subset = ['mmsi', 'lat', 'lon'],\n",
    "                    keep = 'first', inplace=True)"
   ]
  },
  {
   "cell_type": "code",
   "execution_count": null,
   "id": "f226402f-1cb4-4aa7-ae2d-72b50e54b71d",
   "metadata": {},
   "outputs": [],
   "source": [
    "# convert to trajectories\n",
    "size = 200000  # set the number of AIS messages for processing: len(gdf) processes all\n",
    "trajectories = mpd.TrajectoryCollection(gdf.iloc[0:size], traj_id_col='mmsi', \n",
    "                                        obj_id_col='mmsi', t='date_time_utc')"
   ]
  },
  {
   "cell_type": "code",
   "execution_count": null,
   "id": "b4668b51-bd5d-49e1-a8df-e7adc4f0fc66",
   "metadata": {},
   "outputs": [],
   "source": [
    "# add a trajectory splitter\n",
    "split_trajectories = mpd.ObservationGapSplitter(trajectories).split(gap=timedelta(minutes=10), min_length=100)\n",
    "print(f'Trajectory splitter split {len(trajectories)} trajectories into {len(split_trajectories)} sub-trajectories')"
   ]
  },
  {
   "cell_type": "code",
   "execution_count": null,
   "id": "090936e1-9ee7-4b23-b983-d6e01fb2170b",
   "metadata": {},
   "outputs": [],
   "source": [
    "# drop trajectories with 'hops' due to corrupted AIS data\n",
    "# We measure the speed of a vessel between consecutive points. If the speed exceeds a certain threshold we discard the trajectory\n",
    "split_trajectories.add_speed()  # calculate speed\n",
    "speed_thresh = 500 / 3.6  # speed in m/s\n",
    "split_gdf = split_trajectories.to_point_gdf()\n",
    "bad_track_ids = split_gdf[split_gdf.speed > speed_thresh]['mmsi'].unique()  # IDs that violate the threshold\n",
    "valid_track_ids = list(set(split_gdf.mmsi.unique()) - set(bad_track_ids))  # IDs that satisfy the threshold\n",
    "split_trajectories = split_trajectories.filter('mmsi', valid_track_ids)  # retain valid trajectories\n",
    "print(f'{len(bad_track_ids)} trajectories were found that exceed the speed limit and dropped from the list of trajectories')"
   ]
  },
  {
   "cell_type": "code",
   "execution_count": null,
   "id": "37f90ba8-abc0-4766-b43a-757c900d95a4",
   "metadata": {},
   "outputs": [],
   "source": [
    "# report about cleaning\n",
    "n_retained = len(split_trajectories.to_point_gdf())\n",
    "print(f'Cleaning reduced {n_messages} AIS messages to {n_retained} points ({n_retained/n_messages*100:.2f}%)')"
   ]
  },
  {
   "cell_type": "code",
   "execution_count": null,
   "id": "d89ead96-807e-42c6-8e84-b2d9dba92eab",
   "metadata": {},
   "outputs": [],
   "source": [
    "# save to file\n",
    "split_trajectories.to_traj_gdf().to_parquet('../../data/processed/202204_trajectories_stavanger_cleaned_200k.parquet')\n",
    "split_trajectories.to_point_gdf().to_parquet('../../data/processed/202204_points_stavanger_cleaned_200k.parquet')"
   ]
  },
  {
   "cell_type": "code",
   "execution_count": null,
   "id": "82f6fa86-8011-4f7b-b93d-9cfdf79ad7fe",
   "metadata": {},
   "outputs": [],
   "source": []
  }
 ],
 "metadata": {
  "kernelspec": {
   "display_name": "Python 3 (ipykernel)",
   "language": "python",
   "name": "python3"
  },
  "language_info": {
   "codemirror_mode": {
    "name": "ipython",
    "version": 3
   },
   "file_extension": ".py",
   "mimetype": "text/x-python",
   "name": "python",
   "nbconvert_exporter": "python",
   "pygments_lexer": "ipython3",
   "version": "3.11.5"
  }
 },
 "nbformat": 4,
 "nbformat_minor": 5
}
