{
 "cells": [
  {
   "cell_type": "code",
   "execution_count": 1,
   "id": "82f6fa86-8011-4f7b-b93d-9cfdf79ad7fe",
   "metadata": {},
   "outputs": [
    {
     "name": "stdout",
     "output_type": "stream",
     "text": [
      "Geopandas has version 0.13.2\n",
      "Movingpandas has version 0.17.1\n",
      "14037041 raw AIS messages loaded from file ../../data/raw/AIS_04-09_2022_stavanger/ais_202205.csv\n",
      "Ship metadata has   4142 unique MMSIs\n",
      "AIS raw data has    699 unique MMSIs\n",
      "Overlap:            631 MMSIs\n",
      "6052918 superfluous AIS messages dropped, thereof\n",
      "   890922 messages with irrelevant nav_status and\n",
      "   5161996 duplicate messages.\n",
      "Observation Gap splitter split 683 trajectories into 5254 sub-trajectories\n",
      "Stop splitter split 5254 trajectories into 20732 sub-trajectories\n",
      "722 trajectories were found that exceed the speed limit and dropped from the list of trajectories\n",
      "Cleaning reduced 14037041 AIS messages to 6256992 points (44.57%)\n"
     ]
    }
   ],
   "source": [
    "# Creates a parquet file with trajectories from raw AIS data\n",
    "\n",
    "from make_trajectories_from_AIS import ais_to_trajectory\n",
    "\n",
    "filename = '../../data/raw/AIS_04-09_2022_stavanger/ais_202205.csv'  # read file from\n",
    "size = -1  # set the number of AIS messages for processing (-1 processes the entire file)\n",
    "start = 0  # index of the first message to process\n",
    "save_to = '../../data/processed/202205_points_stavanger_cleaned_meta_full_dualSplit_3.parquet'  # save file to\n",
    "\n",
    "ais_to_trajectory(filename, size, start, save_to)"
   ]
  }
 ],
 "metadata": {
  "kernelspec": {
   "display_name": "Python 3 (ipykernel)",
   "language": "python",
   "name": "python3"
  },
  "language_info": {
   "codemirror_mode": {
    "name": "ipython",
    "version": 3
   },
   "file_extension": ".py",
   "mimetype": "text/x-python",
   "name": "python",
   "nbconvert_exporter": "python",
   "pygments_lexer": "ipython3",
   "version": "3.11.5"
  }
 },
 "nbformat": 4,
 "nbformat_minor": 5
}
