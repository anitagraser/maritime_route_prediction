{
 "cells": [
  {
   "cell_type": "code",
   "execution_count": null,
   "id": "82f6fa86-8011-4f7b-b93d-9cfdf79ad7fe",
   "metadata": {},
   "outputs": [],
   "source": [
    "# Creates a parquet file with trajectories from raw AIS data\n",
    "\n",
    "from make_trajectories_from_AIS import ais_to_trajectory\n",
    "\n",
    "filename = '../../data/raw/AIS_04-09_2022_stavanger/ais_202207.csv'  # read file from\n",
    "size = -1  # set the number of AIS messages for processing (-1 processes the entire file)\n",
    "start = 0  # index of the first message to process\n",
    "save_to = '../../data/processed/202207_points_stavanger_cleaned_meta_full_dualSplit_2.parquet'  # save file to\n",
    "\n",
    "ais_to_trajectory(filename, size, start, save_to)"
   ]
  }
 ],
 "metadata": {
  "kernelspec": {
   "display_name": "Python 3 (ipykernel)",
   "language": "python",
   "name": "python3"
  },
  "language_info": {
   "codemirror_mode": {
    "name": "ipython",
    "version": 3
   },
   "file_extension": ".py",
   "mimetype": "text/x-python",
   "name": "python",
   "nbconvert_exporter": "python",
   "pygments_lexer": "ipython3",
   "version": "3.11.5"
  }
 },
 "nbformat": 4,
 "nbformat_minor": 5
}
