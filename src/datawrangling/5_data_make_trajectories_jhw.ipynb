{
 "cells": [
  {
   "cell_type": "code",
   "execution_count": 1,
   "id": "82f6fa86-8011-4f7b-b93d-9cfdf79ad7fe",
   "metadata": {},
   "outputs": [
    {
     "name": "stdout",
     "output_type": "stream",
     "text": [
      "Geopandas has version 0.13.2\n",
      "Movingpandas has version 0.17.1\n",
      "3207069 raw AIS messages loaded from file ../../data/raw/AIS_04-07_2022_tromso/ais_202204.csv\n",
      "Ship metadata has   4142 unique MMSIs\n",
      "AIS raw data has    246 unique MMSIs\n",
      "Overlap:            228 MMSIs\n",
      "2236248 superfluous AIS messages dropped, thereof\n",
      "   226292 messages with irrelevant nav_status and\n",
      "   2009956 duplicate messages.\n",
      "Observation Gap splitter split 243 trajectories into 1396 sub-trajectories\n",
      "Stop splitter split 1396 trajectories into 1956 sub-trajectories\n",
      "0 trajectories were found that exceed the speed limit and dropped from the list of trajectories\n",
      "Cleaning reduced 3207069 AIS messages to 771730 points (24.06%)\n",
      "2728316 raw AIS messages loaded from file ../../data/raw/AIS_04-07_2022_tromso/ais_202205.csv\n",
      "Ship metadata has   4142 unique MMSIs\n",
      "AIS raw data has    228 unique MMSIs\n",
      "Overlap:            204 MMSIs\n",
      "1902265 superfluous AIS messages dropped, thereof\n",
      "   151553 messages with irrelevant nav_status and\n",
      "   1750712 duplicate messages.\n",
      "Observation Gap splitter split 224 trajectories into 1290 sub-trajectories\n",
      "Stop splitter split 1290 trajectories into 1670 sub-trajectories\n",
      "2 trajectories were found that exceed the speed limit and dropped from the list of trajectories\n",
      "Cleaning reduced 2728316 AIS messages to 701830 points (25.72%)\n",
      "3222817 raw AIS messages loaded from file ../../data/raw/AIS_04-07_2022_tromso/ais_202206.csv\n",
      "Ship metadata has   4142 unique MMSIs\n",
      "AIS raw data has    260 unique MMSIs\n",
      "Overlap:            237 MMSIs\n",
      "2319991 superfluous AIS messages dropped, thereof\n",
      "   150487 messages with irrelevant nav_status and\n",
      "   2169504 duplicate messages.\n",
      "Observation Gap splitter split 253 trajectories into 1357 sub-trajectories\n",
      "Stop splitter split 1357 trajectories into 1734 sub-trajectories\n",
      "4 trajectories were found that exceed the speed limit and dropped from the list of trajectories\n",
      "Cleaning reduced 3222817 AIS messages to 754435 points (23.41%)\n",
      "3655681 raw AIS messages loaded from file ../../data/raw/AIS_04-07_2022_tromso/ais_202207.csv\n",
      "Ship metadata has   4142 unique MMSIs\n",
      "AIS raw data has    235 unique MMSIs\n",
      "Overlap:            221 MMSIs\n",
      "2735158 superfluous AIS messages dropped, thereof\n",
      "   112168 messages with irrelevant nav_status and\n",
      "   2622990 duplicate messages.\n",
      "Observation Gap splitter split 233 trajectories into 1477 sub-trajectories\n",
      "Stop splitter split 1477 trajectories into 1750 sub-trajectories\n",
      "2 trajectories were found that exceed the speed limit and dropped from the list of trajectories\n",
      "Cleaning reduced 3655681 AIS messages to 777752 points (21.28%)\n"
     ]
    }
   ],
   "source": [
    "# Creates a parquet file with trajectories from raw AIS data\n",
    "\n",
    "from make_trajectories_from_AIS import ais_to_trajectory\n",
    "\n",
    "filename = '../../data/raw/AIS_04-07_2022_tromso/ais_202205.csv'  # read file from\n",
    "size = -1  # set the number of AIS messages for processing (-1 processes the entire file)\n",
    "start = 0  # index of the first message to process\n",
    "save_to = '../../data/processed/202205_points_tromso_cleaned_meta_full_dualSplit_3.parquet'  # save file to\n",
    "\n",
    "dates = ['202204', '202205', '202206', '202207']\n",
    "for date in dates:\n",
    "    filename = '../../data/raw/AIS_04-07_2022_tromso/ais_'+date+'.csv'\n",
    "    save_to = '../../data/processed/'+date+'_points_tromso_cleaned_meta_full_dualSplit_3.parquet'\n",
    "    ais_to_trajectory(filename, size, start, save_to)"
   ]
  }
 ],
 "metadata": {
  "kernelspec": {
   "display_name": "Python 3 (ipykernel)",
   "language": "python",
   "name": "python3"
  },
  "language_info": {
   "codemirror_mode": {
    "name": "ipython",
    "version": 3
   },
   "file_extension": ".py",
   "mimetype": "text/x-python",
   "name": "python",
   "nbconvert_exporter": "python",
   "pygments_lexer": "ipython3",
   "version": "3.11.5"
  }
 },
 "nbformat": 4,
 "nbformat_minor": 5
}
